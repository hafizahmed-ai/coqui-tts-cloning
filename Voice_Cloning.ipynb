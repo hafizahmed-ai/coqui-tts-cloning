{
 "cells": [
  {
   "cell_type": "markdown",
   "metadata": {
    "colab_type": "text",
    "id": "view-in-github"
   },
   "source": [
    "<a href=\"https://colab.research.google.com/github/anujsahani01/VoiceCloning-coqui-TTS/blob/main/Voice_Cloning.ipynb\" target=\"_parent\"><img src=\"https://colab.research.google.com/assets/colab-badge.svg\" alt=\"Open In Colab\"/></a>"
   ]
  },
  {
   "cell_type": "code",
   "execution_count": null,
   "metadata": {
    "colab": {
     "base_uri": "https://localhost:8080/"
    },
    "id": "O8BLOdLRnTpO",
    "outputId": "62503951-4073-4b21-9efc-c00d2da0e4ae"
   },
   "outputs": [
    {
     "name": "stdout",
     "output_type": "stream",
     "text": [
      "Requirement already satisfied: transformers in /usr/local/lib/python3.10/dist-packages (4.31.0)\n",
      "Requirement already satisfied: filelock in /usr/local/lib/python3.10/dist-packages (from transformers) (3.12.2)\n",
      "Requirement already satisfied: huggingface-hub<1.0,>=0.14.1 in /usr/local/lib/python3.10/dist-packages (from transformers) (0.16.4)\n",
      "Requirement already satisfied: numpy>=1.17 in /usr/local/lib/python3.10/dist-packages (from transformers) (1.22.0)\n",
      "Requirement already satisfied: packaging>=20.0 in /usr/local/lib/python3.10/dist-packages (from transformers) (23.1)\n",
      "Requirement already satisfied: pyyaml>=5.1 in /usr/local/lib/python3.10/dist-packages (from transformers) (6.0.1)\n",
      "Requirement already satisfied: regex!=2019.12.17 in /usr/local/lib/python3.10/dist-packages (from transformers) (2022.10.31)\n",
      "Requirement already satisfied: requests in /usr/local/lib/python3.10/dist-packages (from transformers) (2.27.1)\n",
      "Requirement already satisfied: tokenizers!=0.11.3,<0.14,>=0.11.1 in /usr/local/lib/python3.10/dist-packages (from transformers) (0.13.3)\n",
      "Requirement already satisfied: safetensors>=0.3.1 in /usr/local/lib/python3.10/dist-packages (from transformers) (0.3.1)\n",
      "Requirement already satisfied: tqdm>=4.27 in /usr/local/lib/python3.10/dist-packages (from transformers) (4.65.0)\n",
      "Requirement already satisfied: fsspec in /usr/local/lib/python3.10/dist-packages (from huggingface-hub<1.0,>=0.14.1->transformers) (2023.6.0)\n",
      "Requirement already satisfied: typing-extensions>=3.7.4.3 in /usr/local/lib/python3.10/dist-packages (from huggingface-hub<1.0,>=0.14.1->transformers) (4.7.1)\n",
      "Requirement already satisfied: urllib3<1.27,>=1.21.1 in /usr/local/lib/python3.10/dist-packages (from requests->transformers) (1.26.16)\n",
      "Requirement already satisfied: certifi>=2017.4.17 in /usr/local/lib/python3.10/dist-packages (from requests->transformers) (2023.5.7)\n",
      "Requirement already satisfied: charset-normalizer~=2.0.0 in /usr/local/lib/python3.10/dist-packages (from requests->transformers) (2.0.12)\n",
      "Requirement already satisfied: idna<4,>=2.5 in /usr/local/lib/python3.10/dist-packages (from requests->transformers) (3.4)\n",
      "Requirement already satisfied: datasets in /usr/local/lib/python3.10/dist-packages (2.13.1)\n",
      "Requirement already satisfied: numpy>=1.17 in /usr/local/lib/python3.10/dist-packages (from datasets) (1.22.0)\n",
      "Requirement already satisfied: pyarrow>=8.0.0 in /usr/local/lib/python3.10/dist-packages (from datasets) (9.0.0)\n",
      "Requirement already satisfied: dill<0.3.7,>=0.3.0 in /usr/local/lib/python3.10/dist-packages (from datasets) (0.3.6)\n",
      "Requirement already satisfied: pandas in /usr/local/lib/python3.10/dist-packages (from datasets) (1.5.3)\n",
      "Requirement already satisfied: requests>=2.19.0 in /usr/local/lib/python3.10/dist-packages (from datasets) (2.27.1)\n",
      "Requirement already satisfied: tqdm>=4.62.1 in /usr/local/lib/python3.10/dist-packages (from datasets) (4.65.0)\n",
      "Requirement already satisfied: xxhash in /usr/local/lib/python3.10/dist-packages (from datasets) (3.2.0)\n",
      "Requirement already satisfied: multiprocess in /usr/local/lib/python3.10/dist-packages (from datasets) (0.70.14)\n",
      "Requirement already satisfied: fsspec[http]>=2021.11.1 in /usr/local/lib/python3.10/dist-packages (from datasets) (2023.6.0)\n",
      "Requirement already satisfied: aiohttp in /usr/local/lib/python3.10/dist-packages (from datasets) (3.8.4)\n",
      "Requirement already satisfied: huggingface-hub<1.0.0,>=0.11.0 in /usr/local/lib/python3.10/dist-packages (from datasets) (0.16.4)\n",
      "Requirement already satisfied: packaging in /usr/local/lib/python3.10/dist-packages (from datasets) (23.1)\n",
      "Requirement already satisfied: pyyaml>=5.1 in /usr/local/lib/python3.10/dist-packages (from datasets) (6.0.1)\n",
      "Requirement already satisfied: attrs>=17.3.0 in /usr/local/lib/python3.10/dist-packages (from aiohttp->datasets) (23.1.0)\n",
      "Requirement already satisfied: charset-normalizer<4.0,>=2.0 in /usr/local/lib/python3.10/dist-packages (from aiohttp->datasets) (2.0.12)\n",
      "Requirement already satisfied: multidict<7.0,>=4.5 in /usr/local/lib/python3.10/dist-packages (from aiohttp->datasets) (6.0.4)\n",
      "Requirement already satisfied: async-timeout<5.0,>=4.0.0a3 in /usr/local/lib/python3.10/dist-packages (from aiohttp->datasets) (4.0.2)\n",
      "Requirement already satisfied: yarl<2.0,>=1.0 in /usr/local/lib/python3.10/dist-packages (from aiohttp->datasets) (1.9.2)\n",
      "Requirement already satisfied: frozenlist>=1.1.1 in /usr/local/lib/python3.10/dist-packages (from aiohttp->datasets) (1.4.0)\n",
      "Requirement already satisfied: aiosignal>=1.1.2 in /usr/local/lib/python3.10/dist-packages (from aiohttp->datasets) (1.3.1)\n",
      "Requirement already satisfied: filelock in /usr/local/lib/python3.10/dist-packages (from huggingface-hub<1.0.0,>=0.11.0->datasets) (3.12.2)\n",
      "Requirement already satisfied: typing-extensions>=3.7.4.3 in /usr/local/lib/python3.10/dist-packages (from huggingface-hub<1.0.0,>=0.11.0->datasets) (4.7.1)\n",
      "Requirement already satisfied: urllib3<1.27,>=1.21.1 in /usr/local/lib/python3.10/dist-packages (from requests>=2.19.0->datasets) (1.26.16)\n",
      "Requirement already satisfied: certifi>=2017.4.17 in /usr/local/lib/python3.10/dist-packages (from requests>=2.19.0->datasets) (2023.5.7)\n",
      "Requirement already satisfied: idna<4,>=2.5 in /usr/local/lib/python3.10/dist-packages (from requests>=2.19.0->datasets) (3.4)\n",
      "Requirement already satisfied: python-dateutil>=2.8.1 in /usr/local/lib/python3.10/dist-packages (from pandas->datasets) (2.8.2)\n",
      "Requirement already satisfied: pytz>=2020.1 in /usr/local/lib/python3.10/dist-packages (from pandas->datasets) (2022.7.1)\n",
      "Requirement already satisfied: six>=1.5 in /usr/local/lib/python3.10/dist-packages (from python-dateutil>=2.8.1->pandas->datasets) (1.16.0)\n"
     ]
    }
   ],
   "source": [
    "! pip install transformers\n",
    "! pip install datasets"
   ]
  },
  {
   "cell_type": "code",
   "execution_count": null,
   "metadata": {
    "colab": {
     "base_uri": "https://localhost:8080/"
    },
    "id": "dpcBQFruYxu-",
    "outputId": "e8cb5831-5c77-401c-da16-79e9959a8fbd"
   },
   "outputs": [
    {
     "name": "stdout",
     "output_type": "stream",
     "text": [
      "Requirement already satisfied: TTS in /usr/local/lib/python3.10/dist-packages (0.15.6)\n",
      "Requirement already satisfied: cython==0.29.30 in /usr/local/lib/python3.10/dist-packages (from TTS) (0.29.30)\n",
      "Requirement already satisfied: scipy>=1.4.0 in /usr/local/lib/python3.10/dist-packages (from TTS) (1.10.1)\n",
      "Requirement already satisfied: torch>=1.7 in /usr/local/lib/python3.10/dist-packages (from TTS) (2.0.1+cu118)\n",
      "Requirement already satisfied: torchaudio in /usr/local/lib/python3.10/dist-packages (from TTS) (2.0.2+cu118)\n",
      "Requirement already satisfied: soundfile in /usr/local/lib/python3.10/dist-packages (from TTS) (0.12.1)\n",
      "Requirement already satisfied: librosa==0.10.0.* in /usr/local/lib/python3.10/dist-packages (from TTS) (0.10.0)\n",
      "Requirement already satisfied: inflect==5.6.0 in /usr/local/lib/python3.10/dist-packages (from TTS) (5.6.0)\n",
      "Requirement already satisfied: tqdm in /usr/local/lib/python3.10/dist-packages (from TTS) (4.65.0)\n",
      "Requirement already satisfied: anyascii in /usr/local/lib/python3.10/dist-packages (from TTS) (0.3.2)\n",
      "Requirement already satisfied: pyyaml in /usr/local/lib/python3.10/dist-packages (from TTS) (6.0.1)\n",
      "Requirement already satisfied: fsspec>=2021.04.0 in /usr/local/lib/python3.10/dist-packages (from TTS) (2023.6.0)\n",
      "Requirement already satisfied: aiohttp in /usr/local/lib/python3.10/dist-packages (from TTS) (3.8.4)\n",
      "Requirement already satisfied: packaging in /usr/local/lib/python3.10/dist-packages (from TTS) (23.1)\n",
      "Requirement already satisfied: flask in /usr/local/lib/python3.10/dist-packages (from TTS) (2.2.5)\n",
      "Requirement already satisfied: pysbd in /usr/local/lib/python3.10/dist-packages (from TTS) (0.3.4)\n",
      "Requirement already satisfied: umap-learn==0.5.1 in /usr/local/lib/python3.10/dist-packages (from TTS) (0.5.1)\n",
      "Requirement already satisfied: pandas in /usr/local/lib/python3.10/dist-packages (from TTS) (1.5.3)\n",
      "Requirement already satisfied: matplotlib in /usr/local/lib/python3.10/dist-packages (from TTS) (3.7.1)\n",
      "Requirement already satisfied: trainer in /usr/local/lib/python3.10/dist-packages (from TTS) (0.0.28)\n",
      "Requirement already satisfied: coqpit>=0.0.16 in /usr/local/lib/python3.10/dist-packages (from TTS) (0.0.17)\n",
      "Requirement already satisfied: jieba in /usr/local/lib/python3.10/dist-packages (from TTS) (0.42.1)\n",
      "Requirement already satisfied: pypinyin in /usr/local/lib/python3.10/dist-packages (from TTS) (0.49.0)\n",
      "Requirement already satisfied: mecab-python3==1.0.6 in /usr/local/lib/python3.10/dist-packages (from TTS) (1.0.6)\n",
      "Requirement already satisfied: unidic-lite==1.0.8 in /usr/local/lib/python3.10/dist-packages (from TTS) (1.0.8)\n",
      "Requirement already satisfied: gruut[de,es,fr]==2.2.3 in /usr/local/lib/python3.10/dist-packages (from TTS) (2.2.3)\n",
      "Requirement already satisfied: jamo in /usr/local/lib/python3.10/dist-packages (from TTS) (0.4.1)\n",
      "Requirement already satisfied: nltk in /usr/local/lib/python3.10/dist-packages (from TTS) (3.8.1)\n",
      "Requirement already satisfied: g2pkk>=0.1.1 in /usr/local/lib/python3.10/dist-packages (from TTS) (0.1.2)\n",
      "Requirement already satisfied: bangla==0.0.2 in /usr/local/lib/python3.10/dist-packages (from TTS) (0.0.2)\n",
      "Requirement already satisfied: bnnumerizer in /usr/local/lib/python3.10/dist-packages (from TTS) (0.0.2)\n",
      "Requirement already satisfied: bnunicodenormalizer==0.1.1 in /usr/local/lib/python3.10/dist-packages (from TTS) (0.1.1)\n",
      "Requirement already satisfied: k-diffusion in /usr/local/lib/python3.10/dist-packages (from TTS) (0.0.15)\n",
      "Requirement already satisfied: einops in /usr/local/lib/python3.10/dist-packages (from TTS) (0.6.1)\n",
      "Requirement already satisfied: transformers in /usr/local/lib/python3.10/dist-packages (from TTS) (4.31.0)\n",
      "Requirement already satisfied: encodec in /usr/local/lib/python3.10/dist-packages (from TTS) (0.1.1)\n",
      "Requirement already satisfied: numpy==1.22.0 in /usr/local/lib/python3.10/dist-packages (from TTS) (1.22.0)\n",
      "Requirement already satisfied: numba==0.57.0 in /usr/local/lib/python3.10/dist-packages (from TTS) (0.57.0)\n",
      "Requirement already satisfied: Babel<3.0.0,>=2.8.0 in /usr/local/lib/python3.10/dist-packages (from gruut[de,es,fr]==2.2.3->TTS) (2.12.1)\n",
      "Requirement already satisfied: dateparser~=1.1.0 in /usr/local/lib/python3.10/dist-packages (from gruut[de,es,fr]==2.2.3->TTS) (1.1.8)\n",
      "Requirement already satisfied: gruut-ipa<1.0,>=0.12.0 in /usr/local/lib/python3.10/dist-packages (from gruut[de,es,fr]==2.2.3->TTS) (0.13.0)\n",
      "Requirement already satisfied: gruut-lang-en~=2.0.0 in /usr/local/lib/python3.10/dist-packages (from gruut[de,es,fr]==2.2.3->TTS) (2.0.0)\n",
      "Requirement already satisfied: jsonlines~=1.2.0 in /usr/local/lib/python3.10/dist-packages (from gruut[de,es,fr]==2.2.3->TTS) (1.2.0)\n",
      "Requirement already satisfied: networkx<3.0.0,>=2.5.0 in /usr/local/lib/python3.10/dist-packages (from gruut[de,es,fr]==2.2.3->TTS) (2.8.8)\n",
      "Requirement already satisfied: num2words<1.0.0,>=0.5.10 in /usr/local/lib/python3.10/dist-packages (from gruut[de,es,fr]==2.2.3->TTS) (0.5.12)\n",
      "Requirement already satisfied: python-crfsuite~=0.9.7 in /usr/local/lib/python3.10/dist-packages (from gruut[de,es,fr]==2.2.3->TTS) (0.9.9)\n",
      "Requirement already satisfied: gruut-lang-fr~=2.0.0 in /usr/local/lib/python3.10/dist-packages (from gruut[de,es,fr]==2.2.3->TTS) (2.0.2)\n",
      "Requirement already satisfied: gruut-lang-de~=2.0.0 in /usr/local/lib/python3.10/dist-packages (from gruut[de,es,fr]==2.2.3->TTS) (2.0.0)\n",
      "Requirement already satisfied: gruut-lang-es~=2.0.0 in /usr/local/lib/python3.10/dist-packages (from gruut[de,es,fr]==2.2.3->TTS) (2.0.0)\n",
      "Requirement already satisfied: audioread>=2.1.9 in /usr/local/lib/python3.10/dist-packages (from librosa==0.10.0.*->TTS) (3.0.0)\n",
      "Requirement already satisfied: scikit-learn>=0.20.0 in /usr/local/lib/python3.10/dist-packages (from librosa==0.10.0.*->TTS) (1.2.2)\n",
      "Requirement already satisfied: joblib>=0.14 in /usr/local/lib/python3.10/dist-packages (from librosa==0.10.0.*->TTS) (1.3.1)\n",
      "Requirement already satisfied: decorator>=4.3.0 in /usr/local/lib/python3.10/dist-packages (from librosa==0.10.0.*->TTS) (4.4.2)\n",
      "Requirement already satisfied: pooch>=1.0 in /usr/local/lib/python3.10/dist-packages (from librosa==0.10.0.*->TTS) (1.6.0)\n",
      "Requirement already satisfied: soxr>=0.3.2 in /usr/local/lib/python3.10/dist-packages (from librosa==0.10.0.*->TTS) (0.3.5)\n",
      "Requirement already satisfied: typing-extensions>=4.1.1 in /usr/local/lib/python3.10/dist-packages (from librosa==0.10.0.*->TTS) (4.7.1)\n",
      "Requirement already satisfied: lazy-loader>=0.1 in /usr/local/lib/python3.10/dist-packages (from librosa==0.10.0.*->TTS) (0.3)\n",
      "Requirement already satisfied: msgpack>=1.0 in /usr/local/lib/python3.10/dist-packages (from librosa==0.10.0.*->TTS) (1.0.5)\n",
      "Requirement already satisfied: llvmlite<0.41,>=0.40.0dev0 in /usr/local/lib/python3.10/dist-packages (from numba==0.57.0->TTS) (0.40.1)\n",
      "Requirement already satisfied: pynndescent>=0.5 in /usr/local/lib/python3.10/dist-packages (from umap-learn==0.5.1->TTS) (0.5.10)\n",
      "Requirement already satisfied: cffi>=1.0 in /usr/local/lib/python3.10/dist-packages (from soundfile->TTS) (1.15.1)\n",
      "Requirement already satisfied: filelock in /usr/local/lib/python3.10/dist-packages (from torch>=1.7->TTS) (3.12.2)\n",
      "Requirement already satisfied: sympy in /usr/local/lib/python3.10/dist-packages (from torch>=1.7->TTS) (1.11.1)\n",
      "Requirement already satisfied: jinja2 in /usr/local/lib/python3.10/dist-packages (from torch>=1.7->TTS) (3.1.2)\n",
      "Requirement already satisfied: triton==2.0.0 in /usr/local/lib/python3.10/dist-packages (from torch>=1.7->TTS) (2.0.0)\n",
      "Requirement already satisfied: cmake in /usr/local/lib/python3.10/dist-packages (from triton==2.0.0->torch>=1.7->TTS) (3.25.2)\n",
      "Requirement already satisfied: lit in /usr/local/lib/python3.10/dist-packages (from triton==2.0.0->torch>=1.7->TTS) (16.0.6)\n",
      "Requirement already satisfied: attrs>=17.3.0 in /usr/local/lib/python3.10/dist-packages (from aiohttp->TTS) (23.1.0)\n",
      "Requirement already satisfied: charset-normalizer<4.0,>=2.0 in /usr/local/lib/python3.10/dist-packages (from aiohttp->TTS) (2.0.12)\n",
      "Requirement already satisfied: multidict<7.0,>=4.5 in /usr/local/lib/python3.10/dist-packages (from aiohttp->TTS) (6.0.4)\n",
      "Requirement already satisfied: async-timeout<5.0,>=4.0.0a3 in /usr/local/lib/python3.10/dist-packages (from aiohttp->TTS) (4.0.2)\n",
      "Requirement already satisfied: yarl<2.0,>=1.0 in /usr/local/lib/python3.10/dist-packages (from aiohttp->TTS) (1.9.2)\n",
      "Requirement already satisfied: frozenlist>=1.1.1 in /usr/local/lib/python3.10/dist-packages (from aiohttp->TTS) (1.4.0)\n",
      "Requirement already satisfied: aiosignal>=1.1.2 in /usr/local/lib/python3.10/dist-packages (from aiohttp->TTS) (1.3.1)\n",
      "Requirement already satisfied: Werkzeug>=2.2.2 in /usr/local/lib/python3.10/dist-packages (from flask->TTS) (2.3.6)\n",
      "Requirement already satisfied: itsdangerous>=2.0 in /usr/local/lib/python3.10/dist-packages (from flask->TTS) (2.1.2)\n",
      "Requirement already satisfied: click>=8.0 in /usr/local/lib/python3.10/dist-packages (from flask->TTS) (8.1.6)\n",
      "Requirement already satisfied: accelerate in /usr/local/lib/python3.10/dist-packages (from k-diffusion->TTS) (0.21.0)\n",
      "Requirement already satisfied: clean-fid in /usr/local/lib/python3.10/dist-packages (from k-diffusion->TTS) (0.1.35)\n",
      "Requirement already satisfied: clip-anytorch in /usr/local/lib/python3.10/dist-packages (from k-diffusion->TTS) (2.5.2)\n",
      "Requirement already satisfied: jsonmerge in /usr/local/lib/python3.10/dist-packages (from k-diffusion->TTS) (1.9.2)\n",
      "Requirement already satisfied: kornia in /usr/local/lib/python3.10/dist-packages (from k-diffusion->TTS) (0.6.12)\n",
      "Requirement already satisfied: Pillow in /usr/local/lib/python3.10/dist-packages (from k-diffusion->TTS) (8.4.0)\n",
      "Requirement already satisfied: resize-right in /usr/local/lib/python3.10/dist-packages (from k-diffusion->TTS) (0.0.2)\n",
      "Requirement already satisfied: scikit-image in /usr/local/lib/python3.10/dist-packages (from k-diffusion->TTS) (0.19.3)\n",
      "Requirement already satisfied: torchdiffeq in /usr/local/lib/python3.10/dist-packages (from k-diffusion->TTS) (0.2.3)\n",
      "Requirement already satisfied: torchsde in /usr/local/lib/python3.10/dist-packages (from k-diffusion->TTS) (0.2.5)\n",
      "Requirement already satisfied: torchvision in /usr/local/lib/python3.10/dist-packages (from k-diffusion->TTS) (0.15.2+cu118)\n",
      "Requirement already satisfied: wandb in /usr/local/lib/python3.10/dist-packages (from k-diffusion->TTS) (0.15.5)\n",
      "Requirement already satisfied: contourpy>=1.0.1 in /usr/local/lib/python3.10/dist-packages (from matplotlib->TTS) (1.1.0)\n",
      "Requirement already satisfied: cycler>=0.10 in /usr/local/lib/python3.10/dist-packages (from matplotlib->TTS) (0.11.0)\n",
      "Requirement already satisfied: fonttools>=4.22.0 in /usr/local/lib/python3.10/dist-packages (from matplotlib->TTS) (4.41.0)\n",
      "Requirement already satisfied: kiwisolver>=1.0.1 in /usr/local/lib/python3.10/dist-packages (from matplotlib->TTS) (1.4.4)\n",
      "Requirement already satisfied: pyparsing>=2.3.1 in /usr/local/lib/python3.10/dist-packages (from matplotlib->TTS) (3.1.0)\n",
      "Requirement already satisfied: python-dateutil>=2.7 in /usr/local/lib/python3.10/dist-packages (from matplotlib->TTS) (2.8.2)\n",
      "Requirement already satisfied: regex>=2021.8.3 in /usr/local/lib/python3.10/dist-packages (from nltk->TTS) (2022.10.31)\n",
      "Requirement already satisfied: pytz>=2020.1 in /usr/local/lib/python3.10/dist-packages (from pandas->TTS) (2022.7.1)\n",
      "Requirement already satisfied: psutil in /usr/local/lib/python3.10/dist-packages (from trainer->TTS) (5.9.5)\n",
      "Requirement already satisfied: tensorboard in /usr/local/lib/python3.10/dist-packages (from trainer->TTS) (2.12.3)\n",
      "Requirement already satisfied: huggingface-hub<1.0,>=0.14.1 in /usr/local/lib/python3.10/dist-packages (from transformers->TTS) (0.16.4)\n",
      "Requirement already satisfied: requests in /usr/local/lib/python3.10/dist-packages (from transformers->TTS) (2.27.1)\n",
      "Requirement already satisfied: tokenizers!=0.11.3,<0.14,>=0.11.1 in /usr/local/lib/python3.10/dist-packages (from transformers->TTS) (0.13.3)\n",
      "Requirement already satisfied: safetensors>=0.3.1 in /usr/local/lib/python3.10/dist-packages (from transformers->TTS) (0.3.1)\n",
      "Requirement already satisfied: pycparser in /usr/local/lib/python3.10/dist-packages (from cffi>=1.0->soundfile->TTS) (2.21)\n",
      "Requirement already satisfied: tzlocal in /usr/local/lib/python3.10/dist-packages (from dateparser~=1.1.0->gruut[de,es,fr]==2.2.3->TTS) (5.0.1)\n",
      "Requirement already satisfied: MarkupSafe>=2.0 in /usr/local/lib/python3.10/dist-packages (from jinja2->torch>=1.7->TTS) (2.1.3)\n",
      "Requirement already satisfied: six in /usr/local/lib/python3.10/dist-packages (from jsonlines~=1.2.0->gruut[de,es,fr]==2.2.3->TTS) (1.16.0)\n",
      "Requirement already satisfied: docopt>=0.6.2 in /usr/local/lib/python3.10/dist-packages (from num2words<1.0.0,>=0.5.10->gruut[de,es,fr]==2.2.3->TTS) (0.6.2)\n",
      "Requirement already satisfied: appdirs>=1.3.0 in /usr/local/lib/python3.10/dist-packages (from pooch>=1.0->librosa==0.10.0.*->TTS) (1.4.4)\n",
      "Requirement already satisfied: urllib3<1.27,>=1.21.1 in /usr/local/lib/python3.10/dist-packages (from requests->transformers->TTS) (1.26.16)\n",
      "Requirement already satisfied: certifi>=2017.4.17 in /usr/local/lib/python3.10/dist-packages (from requests->transformers->TTS) (2023.5.7)\n",
      "Requirement already satisfied: idna<4,>=2.5 in /usr/local/lib/python3.10/dist-packages (from requests->transformers->TTS) (3.4)\n",
      "Requirement already satisfied: threadpoolctl>=2.0.0 in /usr/local/lib/python3.10/dist-packages (from scikit-learn>=0.20.0->librosa==0.10.0.*->TTS) (3.2.0)\n",
      "Requirement already satisfied: ftfy in /usr/local/lib/python3.10/dist-packages (from clip-anytorch->k-diffusion->TTS) (6.1.1)\n",
      "Requirement already satisfied: jsonschema>2.4.0 in /usr/local/lib/python3.10/dist-packages (from jsonmerge->k-diffusion->TTS) (4.3.3)\n",
      "Requirement already satisfied: imageio>=2.4.1 in /usr/local/lib/python3.10/dist-packages (from scikit-image->k-diffusion->TTS) (2.25.1)\n",
      "Requirement already satisfied: tifffile>=2019.7.26 in /usr/local/lib/python3.10/dist-packages (from scikit-image->k-diffusion->TTS) (2023.7.10)\n",
      "Requirement already satisfied: PyWavelets>=1.1.1 in /usr/local/lib/python3.10/dist-packages (from scikit-image->k-diffusion->TTS) (1.4.1)\n",
      "Requirement already satisfied: mpmath>=0.19 in /usr/local/lib/python3.10/dist-packages (from sympy->torch>=1.7->TTS) (1.3.0)\n",
      "Requirement already satisfied: absl-py>=0.4 in /usr/local/lib/python3.10/dist-packages (from tensorboard->trainer->TTS) (1.4.0)\n",
      "Requirement already satisfied: grpcio>=1.48.2 in /usr/local/lib/python3.10/dist-packages (from tensorboard->trainer->TTS) (1.56.0)\n",
      "Requirement already satisfied: google-auth<3,>=1.6.3 in /usr/local/lib/python3.10/dist-packages (from tensorboard->trainer->TTS) (2.17.3)\n",
      "Requirement already satisfied: google-auth-oauthlib<1.1,>=0.5 in /usr/local/lib/python3.10/dist-packages (from tensorboard->trainer->TTS) (1.0.0)\n",
      "Requirement already satisfied: markdown>=2.6.8 in /usr/local/lib/python3.10/dist-packages (from tensorboard->trainer->TTS) (3.4.3)\n",
      "Requirement already satisfied: protobuf>=3.19.6 in /usr/local/lib/python3.10/dist-packages (from tensorboard->trainer->TTS) (3.20.3)\n",
      "Requirement already satisfied: setuptools>=41.0.0 in /usr/local/lib/python3.10/dist-packages (from tensorboard->trainer->TTS) (67.7.2)\n",
      "Requirement already satisfied: tensorboard-data-server<0.8.0,>=0.7.0 in /usr/local/lib/python3.10/dist-packages (from tensorboard->trainer->TTS) (0.7.1)\n",
      "Requirement already satisfied: wheel>=0.26 in /usr/local/lib/python3.10/dist-packages (from tensorboard->trainer->TTS) (0.40.0)\n",
      "Requirement already satisfied: boltons>=20.2.1 in /usr/local/lib/python3.10/dist-packages (from torchsde->k-diffusion->TTS) (23.0.0)\n",
      "Requirement already satisfied: trampoline>=0.1.2 in /usr/local/lib/python3.10/dist-packages (from torchsde->k-diffusion->TTS) (0.1.2)\n",
      "Requirement already satisfied: GitPython!=3.1.29,>=1.0.0 in /usr/local/lib/python3.10/dist-packages (from wandb->k-diffusion->TTS) (3.1.32)\n",
      "Requirement already satisfied: sentry-sdk>=1.0.0 in /usr/local/lib/python3.10/dist-packages (from wandb->k-diffusion->TTS) (1.28.1)\n",
      "Requirement already satisfied: docker-pycreds>=0.4.0 in /usr/local/lib/python3.10/dist-packages (from wandb->k-diffusion->TTS) (0.4.0)\n",
      "Requirement already satisfied: pathtools in /usr/local/lib/python3.10/dist-packages (from wandb->k-diffusion->TTS) (0.1.2)\n",
      "Requirement already satisfied: setproctitle in /usr/local/lib/python3.10/dist-packages (from wandb->k-diffusion->TTS) (1.3.2)\n",
      "Requirement already satisfied: gitdb<5,>=4.0.1 in /usr/local/lib/python3.10/dist-packages (from GitPython!=3.1.29,>=1.0.0->wandb->k-diffusion->TTS) (4.0.10)\n",
      "Requirement already satisfied: cachetools<6.0,>=2.0.0 in /usr/local/lib/python3.10/dist-packages (from google-auth<3,>=1.6.3->tensorboard->trainer->TTS) (5.3.1)\n",
      "Requirement already satisfied: pyasn1-modules>=0.2.1 in /usr/local/lib/python3.10/dist-packages (from google-auth<3,>=1.6.3->tensorboard->trainer->TTS) (0.3.0)\n",
      "Requirement already satisfied: rsa<5,>=3.1.4 in /usr/local/lib/python3.10/dist-packages (from google-auth<3,>=1.6.3->tensorboard->trainer->TTS) (4.9)\n",
      "Requirement already satisfied: requests-oauthlib>=0.7.0 in /usr/local/lib/python3.10/dist-packages (from google-auth-oauthlib<1.1,>=0.5->tensorboard->trainer->TTS) (1.3.1)\n",
      "Requirement already satisfied: pyrsistent!=0.17.0,!=0.17.1,!=0.17.2,>=0.14.0 in /usr/local/lib/python3.10/dist-packages (from jsonschema>2.4.0->jsonmerge->k-diffusion->TTS) (0.19.3)\n",
      "Requirement already satisfied: wcwidth>=0.2.5 in /usr/local/lib/python3.10/dist-packages (from ftfy->clip-anytorch->k-diffusion->TTS) (0.2.6)\n",
      "Requirement already satisfied: smmap<6,>=3.0.1 in /usr/local/lib/python3.10/dist-packages (from gitdb<5,>=4.0.1->GitPython!=3.1.29,>=1.0.0->wandb->k-diffusion->TTS) (5.0.0)\n",
      "Requirement already satisfied: pyasn1<0.6.0,>=0.4.6 in /usr/local/lib/python3.10/dist-packages (from pyasn1-modules>=0.2.1->google-auth<3,>=1.6.3->tensorboard->trainer->TTS) (0.5.0)\n",
      "Requirement already satisfied: oauthlib>=3.0.0 in /usr/local/lib/python3.10/dist-packages (from requests-oauthlib>=0.7.0->google-auth-oauthlib<1.1,>=0.5->tensorboard->trainer->TTS) (3.2.2)\n"
     ]
    }
   ],
   "source": [
    "! pip install TTS"
   ]
  },
  {
   "cell_type": "code",
   "execution_count": null,
   "metadata": {
    "colab": {
     "base_uri": "https://localhost:8080/"
    },
    "id": "014b0G-41SDh",
    "outputId": "9d420ffa-38c6-4b3e-9b17-ccdd3b6703d5"
   },
   "outputs": [
    {
     "name": "stdout",
     "output_type": "stream",
     "text": [
      "Mounted at /content/drive\n"
     ]
    }
   ],
   "source": [
    "from google.colab import drive\n",
    "drive.mount(\"/content/drive\")"
   ]
  },
  {
   "cell_type": "markdown",
   "metadata": {
    "id": "dEnx_c5suXjm"
   },
   "source": []
  },
  {
   "cell_type": "code",
   "execution_count": null,
   "metadata": {
    "colab": {
     "base_uri": "https://localhost:8080/"
    },
    "id": "85JrUM43dKrX",
    "outputId": "07fcd0a3-7f21-4b72-d13a-dbafb4f71859"
   },
   "outputs": [
    {
     "name": "stdout",
     "output_type": "stream",
     "text": [
      "Cloning into 'TTS'...\n",
      "remote: Enumerating objects: 30506, done.\u001b[K\n",
      "remote: Counting objects: 100% (1187/1187), done.\u001b[K\n",
      "remote: Compressing objects: 100% (413/413), done.\u001b[K\n",
      "remote: Total 30506 (delta 848), reused 1021 (delta 760), pack-reused 29319\u001b[K\n",
      "Receiving objects: 100% (30506/30506), 159.39 MiB | 17.08 MiB/s, done.\n",
      "Resolving deltas: 100% (22115/22115), done.\n"
     ]
    }
   ],
   "source": [
    "! git clone https://github.com/coqui-ai/TTS.git"
   ]
  },
  {
   "cell_type": "code",
   "execution_count": null,
   "metadata": {
    "colab": {
     "base_uri": "https://localhost:8080/"
    },
    "id": "4lvev_3xzfQs",
    "outputId": "39cef4e4-a5b1-4df1-f999-ddf725022e4a"
   },
   "outputs": [
    {
     "name": "stdout",
     "output_type": "stream",
     "text": [
      "Ignoring numpy: markers 'python_version > \"3.10\"' don't match your environment\n",
      "Ignoring numba: markers 'python_version < \"3.9\"' don't match your environment\n",
      "Requirement already satisfied: numpy==1.22.0 in /usr/local/lib/python3.10/dist-packages (from -r /content/TTS/requirements.txt (line 2)) (1.22.0)\n",
      "Requirement already satisfied: cython==0.29.30 in /usr/local/lib/python3.10/dist-packages (from -r /content/TTS/requirements.txt (line 4)) (0.29.30)\n",
      "Requirement already satisfied: scipy>=1.4.0 in /usr/local/lib/python3.10/dist-packages (from -r /content/TTS/requirements.txt (line 5)) (1.10.1)\n",
      "Requirement already satisfied: torch>=1.7 in /usr/local/lib/python3.10/dist-packages (from -r /content/TTS/requirements.txt (line 6)) (2.0.1+cu118)\n",
      "Requirement already satisfied: torchaudio in /usr/local/lib/python3.10/dist-packages (from -r /content/TTS/requirements.txt (line 7)) (2.0.2+cu118)\n",
      "Requirement already satisfied: soundfile in /usr/local/lib/python3.10/dist-packages (from -r /content/TTS/requirements.txt (line 8)) (0.12.1)\n",
      "Requirement already satisfied: librosa==0.10.0.* in /usr/local/lib/python3.10/dist-packages (from -r /content/TTS/requirements.txt (line 9)) (0.10.0)\n",
      "Requirement already satisfied: numba==0.57.0 in /usr/local/lib/python3.10/dist-packages (from -r /content/TTS/requirements.txt (line 11)) (0.57.0)\n",
      "Requirement already satisfied: inflect==5.6.0 in /usr/local/lib/python3.10/dist-packages (from -r /content/TTS/requirements.txt (line 12)) (5.6.0)\n",
      "Requirement already satisfied: tqdm in /usr/local/lib/python3.10/dist-packages (from -r /content/TTS/requirements.txt (line 13)) (4.65.0)\n",
      "Requirement already satisfied: anyascii in /usr/local/lib/python3.10/dist-packages (from -r /content/TTS/requirements.txt (line 14)) (0.3.2)\n",
      "Requirement already satisfied: pyyaml in /usr/local/lib/python3.10/dist-packages (from -r /content/TTS/requirements.txt (line 15)) (6.0.1)\n",
      "Requirement already satisfied: fsspec>=2021.04.0 in /usr/local/lib/python3.10/dist-packages (from -r /content/TTS/requirements.txt (line 16)) (2023.6.0)\n",
      "Requirement already satisfied: aiohttp in /usr/local/lib/python3.10/dist-packages (from -r /content/TTS/requirements.txt (line 17)) (3.8.4)\n",
      "Requirement already satisfied: packaging in /usr/local/lib/python3.10/dist-packages (from -r /content/TTS/requirements.txt (line 18)) (23.1)\n",
      "Requirement already satisfied: flask in /usr/local/lib/python3.10/dist-packages (from -r /content/TTS/requirements.txt (line 20)) (2.2.5)\n",
      "Requirement already satisfied: pysbd in /usr/local/lib/python3.10/dist-packages (from -r /content/TTS/requirements.txt (line 22)) (0.3.4)\n",
      "Requirement already satisfied: umap-learn==0.5.1 in /usr/local/lib/python3.10/dist-packages (from -r /content/TTS/requirements.txt (line 24)) (0.5.1)\n",
      "Requirement already satisfied: pandas in /usr/local/lib/python3.10/dist-packages (from -r /content/TTS/requirements.txt (line 25)) (1.5.3)\n",
      "Requirement already satisfied: matplotlib in /usr/local/lib/python3.10/dist-packages (from -r /content/TTS/requirements.txt (line 27)) (3.7.1)\n",
      "Requirement already satisfied: trainer in /usr/local/lib/python3.10/dist-packages (from -r /content/TTS/requirements.txt (line 29)) (0.0.28)\n",
      "Requirement already satisfied: coqpit>=0.0.16 in /usr/local/lib/python3.10/dist-packages (from -r /content/TTS/requirements.txt (line 31)) (0.0.17)\n",
      "Requirement already satisfied: jieba in /usr/local/lib/python3.10/dist-packages (from -r /content/TTS/requirements.txt (line 33)) (0.42.1)\n",
      "Requirement already satisfied: pypinyin in /usr/local/lib/python3.10/dist-packages (from -r /content/TTS/requirements.txt (line 34)) (0.49.0)\n",
      "Requirement already satisfied: mecab-python3==1.0.6 in /usr/local/lib/python3.10/dist-packages (from -r /content/TTS/requirements.txt (line 36)) (1.0.6)\n",
      "Requirement already satisfied: unidic-lite==1.0.8 in /usr/local/lib/python3.10/dist-packages (from -r /content/TTS/requirements.txt (line 37)) (1.0.8)\n",
      "Requirement already satisfied: gruut[de,es,fr]==2.2.3 in /usr/local/lib/python3.10/dist-packages (from -r /content/TTS/requirements.txt (line 39)) (2.2.3)\n",
      "Requirement already satisfied: jamo in /usr/local/lib/python3.10/dist-packages (from -r /content/TTS/requirements.txt (line 41)) (0.4.1)\n",
      "Requirement already satisfied: nltk in /usr/local/lib/python3.10/dist-packages (from -r /content/TTS/requirements.txt (line 42)) (3.8.1)\n",
      "Requirement already satisfied: g2pkk>=0.1.1 in /usr/local/lib/python3.10/dist-packages (from -r /content/TTS/requirements.txt (line 43)) (0.1.2)\n",
      "Requirement already satisfied: bangla==0.0.2 in /usr/local/lib/python3.10/dist-packages (from -r /content/TTS/requirements.txt (line 45)) (0.0.2)\n",
      "Requirement already satisfied: bnnumerizer in /usr/local/lib/python3.10/dist-packages (from -r /content/TTS/requirements.txt (line 46)) (0.0.2)\n",
      "Requirement already satisfied: bnunicodenormalizer==0.1.1 in /usr/local/lib/python3.10/dist-packages (from -r /content/TTS/requirements.txt (line 47)) (0.1.1)\n",
      "Requirement already satisfied: k_diffusion in /usr/local/lib/python3.10/dist-packages (from -r /content/TTS/requirements.txt (line 49)) (0.0.15)\n",
      "Requirement already satisfied: einops in /usr/local/lib/python3.10/dist-packages (from -r /content/TTS/requirements.txt (line 50)) (0.6.1)\n",
      "Requirement already satisfied: transformers in /usr/local/lib/python3.10/dist-packages (from -r /content/TTS/requirements.txt (line 51)) (4.31.0)\n",
      "Requirement already satisfied: encodec in /usr/local/lib/python3.10/dist-packages (from -r /content/TTS/requirements.txt (line 53)) (0.1.1)\n",
      "Requirement already satisfied: audioread>=2.1.9 in /usr/local/lib/python3.10/dist-packages (from librosa==0.10.0.*->-r /content/TTS/requirements.txt (line 9)) (3.0.0)\n",
      "Requirement already satisfied: scikit-learn>=0.20.0 in /usr/local/lib/python3.10/dist-packages (from librosa==0.10.0.*->-r /content/TTS/requirements.txt (line 9)) (1.2.2)\n",
      "Requirement already satisfied: joblib>=0.14 in /usr/local/lib/python3.10/dist-packages (from librosa==0.10.0.*->-r /content/TTS/requirements.txt (line 9)) (1.3.1)\n",
      "Requirement already satisfied: decorator>=4.3.0 in /usr/local/lib/python3.10/dist-packages (from librosa==0.10.0.*->-r /content/TTS/requirements.txt (line 9)) (4.4.2)\n",
      "Requirement already satisfied: pooch>=1.0 in /usr/local/lib/python3.10/dist-packages (from librosa==0.10.0.*->-r /content/TTS/requirements.txt (line 9)) (1.6.0)\n",
      "Requirement already satisfied: soxr>=0.3.2 in /usr/local/lib/python3.10/dist-packages (from librosa==0.10.0.*->-r /content/TTS/requirements.txt (line 9)) (0.3.5)\n",
      "Requirement already satisfied: typing-extensions>=4.1.1 in /usr/local/lib/python3.10/dist-packages (from librosa==0.10.0.*->-r /content/TTS/requirements.txt (line 9)) (4.7.1)\n",
      "Requirement already satisfied: lazy-loader>=0.1 in /usr/local/lib/python3.10/dist-packages (from librosa==0.10.0.*->-r /content/TTS/requirements.txt (line 9)) (0.3)\n",
      "Requirement already satisfied: msgpack>=1.0 in /usr/local/lib/python3.10/dist-packages (from librosa==0.10.0.*->-r /content/TTS/requirements.txt (line 9)) (1.0.5)\n",
      "Requirement already satisfied: llvmlite<0.41,>=0.40.0dev0 in /usr/local/lib/python3.10/dist-packages (from numba==0.57.0->-r /content/TTS/requirements.txt (line 11)) (0.40.1)\n",
      "Requirement already satisfied: pynndescent>=0.5 in /usr/local/lib/python3.10/dist-packages (from umap-learn==0.5.1->-r /content/TTS/requirements.txt (line 24)) (0.5.10)\n",
      "Requirement already satisfied: Babel<3.0.0,>=2.8.0 in /usr/local/lib/python3.10/dist-packages (from gruut[de,es,fr]==2.2.3->-r /content/TTS/requirements.txt (line 39)) (2.12.1)\n",
      "Requirement already satisfied: dateparser~=1.1.0 in /usr/local/lib/python3.10/dist-packages (from gruut[de,es,fr]==2.2.3->-r /content/TTS/requirements.txt (line 39)) (1.1.8)\n",
      "Requirement already satisfied: gruut-ipa<1.0,>=0.12.0 in /usr/local/lib/python3.10/dist-packages (from gruut[de,es,fr]==2.2.3->-r /content/TTS/requirements.txt (line 39)) (0.13.0)\n",
      "Requirement already satisfied: gruut-lang-en~=2.0.0 in /usr/local/lib/python3.10/dist-packages (from gruut[de,es,fr]==2.2.3->-r /content/TTS/requirements.txt (line 39)) (2.0.0)\n",
      "Requirement already satisfied: jsonlines~=1.2.0 in /usr/local/lib/python3.10/dist-packages (from gruut[de,es,fr]==2.2.3->-r /content/TTS/requirements.txt (line 39)) (1.2.0)\n",
      "Requirement already satisfied: networkx<3.0.0,>=2.5.0 in /usr/local/lib/python3.10/dist-packages (from gruut[de,es,fr]==2.2.3->-r /content/TTS/requirements.txt (line 39)) (2.8.8)\n",
      "Requirement already satisfied: num2words<1.0.0,>=0.5.10 in /usr/local/lib/python3.10/dist-packages (from gruut[de,es,fr]==2.2.3->-r /content/TTS/requirements.txt (line 39)) (0.5.12)\n",
      "Requirement already satisfied: python-crfsuite~=0.9.7 in /usr/local/lib/python3.10/dist-packages (from gruut[de,es,fr]==2.2.3->-r /content/TTS/requirements.txt (line 39)) (0.9.9)\n",
      "Requirement already satisfied: gruut-lang-de~=2.0.0 in /usr/local/lib/python3.10/dist-packages (from gruut[de,es,fr]==2.2.3->-r /content/TTS/requirements.txt (line 39)) (2.0.0)\n",
      "Requirement already satisfied: gruut-lang-fr~=2.0.0 in /usr/local/lib/python3.10/dist-packages (from gruut[de,es,fr]==2.2.3->-r /content/TTS/requirements.txt (line 39)) (2.0.2)\n",
      "Requirement already satisfied: gruut-lang-es~=2.0.0 in /usr/local/lib/python3.10/dist-packages (from gruut[de,es,fr]==2.2.3->-r /content/TTS/requirements.txt (line 39)) (2.0.0)\n",
      "Requirement already satisfied: filelock in /usr/local/lib/python3.10/dist-packages (from torch>=1.7->-r /content/TTS/requirements.txt (line 6)) (3.12.2)\n",
      "Requirement already satisfied: sympy in /usr/local/lib/python3.10/dist-packages (from torch>=1.7->-r /content/TTS/requirements.txt (line 6)) (1.11.1)\n",
      "Requirement already satisfied: jinja2 in /usr/local/lib/python3.10/dist-packages (from torch>=1.7->-r /content/TTS/requirements.txt (line 6)) (3.1.2)\n",
      "Requirement already satisfied: triton==2.0.0 in /usr/local/lib/python3.10/dist-packages (from torch>=1.7->-r /content/TTS/requirements.txt (line 6)) (2.0.0)\n",
      "Requirement already satisfied: cmake in /usr/local/lib/python3.10/dist-packages (from triton==2.0.0->torch>=1.7->-r /content/TTS/requirements.txt (line 6)) (3.25.2)\n",
      "Requirement already satisfied: lit in /usr/local/lib/python3.10/dist-packages (from triton==2.0.0->torch>=1.7->-r /content/TTS/requirements.txt (line 6)) (16.0.6)\n",
      "Requirement already satisfied: cffi>=1.0 in /usr/local/lib/python3.10/dist-packages (from soundfile->-r /content/TTS/requirements.txt (line 8)) (1.15.1)\n",
      "Requirement already satisfied: attrs>=17.3.0 in /usr/local/lib/python3.10/dist-packages (from aiohttp->-r /content/TTS/requirements.txt (line 17)) (23.1.0)\n",
      "Requirement already satisfied: charset-normalizer<4.0,>=2.0 in /usr/local/lib/python3.10/dist-packages (from aiohttp->-r /content/TTS/requirements.txt (line 17)) (2.0.12)\n",
      "Requirement already satisfied: multidict<7.0,>=4.5 in /usr/local/lib/python3.10/dist-packages (from aiohttp->-r /content/TTS/requirements.txt (line 17)) (6.0.4)\n",
      "Requirement already satisfied: async-timeout<5.0,>=4.0.0a3 in /usr/local/lib/python3.10/dist-packages (from aiohttp->-r /content/TTS/requirements.txt (line 17)) (4.0.2)\n",
      "Requirement already satisfied: yarl<2.0,>=1.0 in /usr/local/lib/python3.10/dist-packages (from aiohttp->-r /content/TTS/requirements.txt (line 17)) (1.9.2)\n",
      "Requirement already satisfied: frozenlist>=1.1.1 in /usr/local/lib/python3.10/dist-packages (from aiohttp->-r /content/TTS/requirements.txt (line 17)) (1.4.0)\n",
      "Requirement already satisfied: aiosignal>=1.1.2 in /usr/local/lib/python3.10/dist-packages (from aiohttp->-r /content/TTS/requirements.txt (line 17)) (1.3.1)\n",
      "Requirement already satisfied: Werkzeug>=2.2.2 in /usr/local/lib/python3.10/dist-packages (from flask->-r /content/TTS/requirements.txt (line 20)) (2.3.6)\n",
      "Requirement already satisfied: itsdangerous>=2.0 in /usr/local/lib/python3.10/dist-packages (from flask->-r /content/TTS/requirements.txt (line 20)) (2.1.2)\n",
      "Requirement already satisfied: click>=8.0 in /usr/local/lib/python3.10/dist-packages (from flask->-r /content/TTS/requirements.txt (line 20)) (8.1.6)\n",
      "Requirement already satisfied: python-dateutil>=2.8.1 in /usr/local/lib/python3.10/dist-packages (from pandas->-r /content/TTS/requirements.txt (line 25)) (2.8.2)\n",
      "Requirement already satisfied: pytz>=2020.1 in /usr/local/lib/python3.10/dist-packages (from pandas->-r /content/TTS/requirements.txt (line 25)) (2022.7.1)\n",
      "Requirement already satisfied: contourpy>=1.0.1 in /usr/local/lib/python3.10/dist-packages (from matplotlib->-r /content/TTS/requirements.txt (line 27)) (1.1.0)\n",
      "Requirement already satisfied: cycler>=0.10 in /usr/local/lib/python3.10/dist-packages (from matplotlib->-r /content/TTS/requirements.txt (line 27)) (0.11.0)\n",
      "Requirement already satisfied: fonttools>=4.22.0 in /usr/local/lib/python3.10/dist-packages (from matplotlib->-r /content/TTS/requirements.txt (line 27)) (4.41.0)\n",
      "Requirement already satisfied: kiwisolver>=1.0.1 in /usr/local/lib/python3.10/dist-packages (from matplotlib->-r /content/TTS/requirements.txt (line 27)) (1.4.4)\n",
      "Requirement already satisfied: pillow>=6.2.0 in /usr/local/lib/python3.10/dist-packages (from matplotlib->-r /content/TTS/requirements.txt (line 27)) (8.4.0)\n",
      "Requirement already satisfied: pyparsing>=2.3.1 in /usr/local/lib/python3.10/dist-packages (from matplotlib->-r /content/TTS/requirements.txt (line 27)) (3.1.0)\n",
      "Requirement already satisfied: psutil in /usr/local/lib/python3.10/dist-packages (from trainer->-r /content/TTS/requirements.txt (line 29)) (5.9.5)\n",
      "Requirement already satisfied: tensorboard in /usr/local/lib/python3.10/dist-packages (from trainer->-r /content/TTS/requirements.txt (line 29)) (2.12.3)\n",
      "Requirement already satisfied: regex>=2021.8.3 in /usr/local/lib/python3.10/dist-packages (from nltk->-r /content/TTS/requirements.txt (line 42)) (2022.10.31)\n",
      "Requirement already satisfied: accelerate in /usr/local/lib/python3.10/dist-packages (from k_diffusion->-r /content/TTS/requirements.txt (line 49)) (0.21.0)\n",
      "Requirement already satisfied: clean-fid in /usr/local/lib/python3.10/dist-packages (from k_diffusion->-r /content/TTS/requirements.txt (line 49)) (0.1.35)\n",
      "Requirement already satisfied: clip-anytorch in /usr/local/lib/python3.10/dist-packages (from k_diffusion->-r /content/TTS/requirements.txt (line 49)) (2.5.2)\n",
      "Requirement already satisfied: jsonmerge in /usr/local/lib/python3.10/dist-packages (from k_diffusion->-r /content/TTS/requirements.txt (line 49)) (1.9.2)\n",
      "Requirement already satisfied: kornia in /usr/local/lib/python3.10/dist-packages (from k_diffusion->-r /content/TTS/requirements.txt (line 49)) (0.6.12)\n",
      "Requirement already satisfied: resize-right in /usr/local/lib/python3.10/dist-packages (from k_diffusion->-r /content/TTS/requirements.txt (line 49)) (0.0.2)\n",
      "Requirement already satisfied: scikit-image in /usr/local/lib/python3.10/dist-packages (from k_diffusion->-r /content/TTS/requirements.txt (line 49)) (0.19.3)\n",
      "Requirement already satisfied: torchdiffeq in /usr/local/lib/python3.10/dist-packages (from k_diffusion->-r /content/TTS/requirements.txt (line 49)) (0.2.3)\n",
      "Requirement already satisfied: torchsde in /usr/local/lib/python3.10/dist-packages (from k_diffusion->-r /content/TTS/requirements.txt (line 49)) (0.2.5)\n",
      "Requirement already satisfied: torchvision in /usr/local/lib/python3.10/dist-packages (from k_diffusion->-r /content/TTS/requirements.txt (line 49)) (0.15.2+cu118)\n",
      "Requirement already satisfied: wandb in /usr/local/lib/python3.10/dist-packages (from k_diffusion->-r /content/TTS/requirements.txt (line 49)) (0.15.5)\n",
      "Requirement already satisfied: huggingface-hub<1.0,>=0.14.1 in /usr/local/lib/python3.10/dist-packages (from transformers->-r /content/TTS/requirements.txt (line 51)) (0.16.4)\n",
      "Requirement already satisfied: requests in /usr/local/lib/python3.10/dist-packages (from transformers->-r /content/TTS/requirements.txt (line 51)) (2.27.1)\n",
      "Requirement already satisfied: tokenizers!=0.11.3,<0.14,>=0.11.1 in /usr/local/lib/python3.10/dist-packages (from transformers->-r /content/TTS/requirements.txt (line 51)) (0.13.3)\n",
      "Requirement already satisfied: safetensors>=0.3.1 in /usr/local/lib/python3.10/dist-packages (from transformers->-r /content/TTS/requirements.txt (line 51)) (0.3.1)\n",
      "Requirement already satisfied: pycparser in /usr/local/lib/python3.10/dist-packages (from cffi>=1.0->soundfile->-r /content/TTS/requirements.txt (line 8)) (2.21)\n",
      "Requirement already satisfied: tzlocal in /usr/local/lib/python3.10/dist-packages (from dateparser~=1.1.0->gruut[de,es,fr]==2.2.3->-r /content/TTS/requirements.txt (line 39)) (5.0.1)\n",
      "Requirement already satisfied: MarkupSafe>=2.0 in /usr/local/lib/python3.10/dist-packages (from jinja2->torch>=1.7->-r /content/TTS/requirements.txt (line 6)) (2.1.3)\n",
      "Requirement already satisfied: six in /usr/local/lib/python3.10/dist-packages (from jsonlines~=1.2.0->gruut[de,es,fr]==2.2.3->-r /content/TTS/requirements.txt (line 39)) (1.16.0)\n",
      "Requirement already satisfied: docopt>=0.6.2 in /usr/local/lib/python3.10/dist-packages (from num2words<1.0.0,>=0.5.10->gruut[de,es,fr]==2.2.3->-r /content/TTS/requirements.txt (line 39)) (0.6.2)\n",
      "Requirement already satisfied: appdirs>=1.3.0 in /usr/local/lib/python3.10/dist-packages (from pooch>=1.0->librosa==0.10.0.*->-r /content/TTS/requirements.txt (line 9)) (1.4.4)\n",
      "Requirement already satisfied: urllib3<1.27,>=1.21.1 in /usr/local/lib/python3.10/dist-packages (from requests->transformers->-r /content/TTS/requirements.txt (line 51)) (1.26.16)\n",
      "Requirement already satisfied: certifi>=2017.4.17 in /usr/local/lib/python3.10/dist-packages (from requests->transformers->-r /content/TTS/requirements.txt (line 51)) (2023.5.7)\n",
      "Requirement already satisfied: idna<4,>=2.5 in /usr/local/lib/python3.10/dist-packages (from requests->transformers->-r /content/TTS/requirements.txt (line 51)) (3.4)\n",
      "Requirement already satisfied: threadpoolctl>=2.0.0 in /usr/local/lib/python3.10/dist-packages (from scikit-learn>=0.20.0->librosa==0.10.0.*->-r /content/TTS/requirements.txt (line 9)) (3.2.0)\n",
      "Requirement already satisfied: ftfy in /usr/local/lib/python3.10/dist-packages (from clip-anytorch->k_diffusion->-r /content/TTS/requirements.txt (line 49)) (6.1.1)\n",
      "Requirement already satisfied: jsonschema>2.4.0 in /usr/local/lib/python3.10/dist-packages (from jsonmerge->k_diffusion->-r /content/TTS/requirements.txt (line 49)) (4.3.3)\n",
      "Requirement already satisfied: imageio>=2.4.1 in /usr/local/lib/python3.10/dist-packages (from scikit-image->k_diffusion->-r /content/TTS/requirements.txt (line 49)) (2.25.1)\n",
      "Requirement already satisfied: tifffile>=2019.7.26 in /usr/local/lib/python3.10/dist-packages (from scikit-image->k_diffusion->-r /content/TTS/requirements.txt (line 49)) (2023.7.10)\n",
      "Requirement already satisfied: PyWavelets>=1.1.1 in /usr/local/lib/python3.10/dist-packages (from scikit-image->k_diffusion->-r /content/TTS/requirements.txt (line 49)) (1.4.1)\n",
      "Requirement already satisfied: mpmath>=0.19 in /usr/local/lib/python3.10/dist-packages (from sympy->torch>=1.7->-r /content/TTS/requirements.txt (line 6)) (1.3.0)\n",
      "Requirement already satisfied: absl-py>=0.4 in /usr/local/lib/python3.10/dist-packages (from tensorboard->trainer->-r /content/TTS/requirements.txt (line 29)) (1.4.0)\n",
      "Requirement already satisfied: grpcio>=1.48.2 in /usr/local/lib/python3.10/dist-packages (from tensorboard->trainer->-r /content/TTS/requirements.txt (line 29)) (1.56.0)\n",
      "Requirement already satisfied: google-auth<3,>=1.6.3 in /usr/local/lib/python3.10/dist-packages (from tensorboard->trainer->-r /content/TTS/requirements.txt (line 29)) (2.17.3)\n",
      "Requirement already satisfied: google-auth-oauthlib<1.1,>=0.5 in /usr/local/lib/python3.10/dist-packages (from tensorboard->trainer->-r /content/TTS/requirements.txt (line 29)) (1.0.0)\n",
      "Requirement already satisfied: markdown>=2.6.8 in /usr/local/lib/python3.10/dist-packages (from tensorboard->trainer->-r /content/TTS/requirements.txt (line 29)) (3.4.3)\n",
      "Requirement already satisfied: protobuf>=3.19.6 in /usr/local/lib/python3.10/dist-packages (from tensorboard->trainer->-r /content/TTS/requirements.txt (line 29)) (3.20.3)\n",
      "Requirement already satisfied: setuptools>=41.0.0 in /usr/local/lib/python3.10/dist-packages (from tensorboard->trainer->-r /content/TTS/requirements.txt (line 29)) (67.7.2)\n",
      "Requirement already satisfied: tensorboard-data-server<0.8.0,>=0.7.0 in /usr/local/lib/python3.10/dist-packages (from tensorboard->trainer->-r /content/TTS/requirements.txt (line 29)) (0.7.1)\n",
      "Requirement already satisfied: wheel>=0.26 in /usr/local/lib/python3.10/dist-packages (from tensorboard->trainer->-r /content/TTS/requirements.txt (line 29)) (0.40.0)\n",
      "Requirement already satisfied: boltons>=20.2.1 in /usr/local/lib/python3.10/dist-packages (from torchsde->k_diffusion->-r /content/TTS/requirements.txt (line 49)) (23.0.0)\n",
      "Requirement already satisfied: trampoline>=0.1.2 in /usr/local/lib/python3.10/dist-packages (from torchsde->k_diffusion->-r /content/TTS/requirements.txt (line 49)) (0.1.2)\n",
      "Requirement already satisfied: GitPython!=3.1.29,>=1.0.0 in /usr/local/lib/python3.10/dist-packages (from wandb->k_diffusion->-r /content/TTS/requirements.txt (line 49)) (3.1.32)\n",
      "Requirement already satisfied: sentry-sdk>=1.0.0 in /usr/local/lib/python3.10/dist-packages (from wandb->k_diffusion->-r /content/TTS/requirements.txt (line 49)) (1.28.1)\n",
      "Requirement already satisfied: docker-pycreds>=0.4.0 in /usr/local/lib/python3.10/dist-packages (from wandb->k_diffusion->-r /content/TTS/requirements.txt (line 49)) (0.4.0)\n",
      "Requirement already satisfied: pathtools in /usr/local/lib/python3.10/dist-packages (from wandb->k_diffusion->-r /content/TTS/requirements.txt (line 49)) (0.1.2)\n",
      "Requirement already satisfied: setproctitle in /usr/local/lib/python3.10/dist-packages (from wandb->k_diffusion->-r /content/TTS/requirements.txt (line 49)) (1.3.2)\n",
      "Requirement already satisfied: gitdb<5,>=4.0.1 in /usr/local/lib/python3.10/dist-packages (from GitPython!=3.1.29,>=1.0.0->wandb->k_diffusion->-r /content/TTS/requirements.txt (line 49)) (4.0.10)\n",
      "Requirement already satisfied: cachetools<6.0,>=2.0.0 in /usr/local/lib/python3.10/dist-packages (from google-auth<3,>=1.6.3->tensorboard->trainer->-r /content/TTS/requirements.txt (line 29)) (5.3.1)\n",
      "Requirement already satisfied: pyasn1-modules>=0.2.1 in /usr/local/lib/python3.10/dist-packages (from google-auth<3,>=1.6.3->tensorboard->trainer->-r /content/TTS/requirements.txt (line 29)) (0.3.0)\n",
      "Requirement already satisfied: rsa<5,>=3.1.4 in /usr/local/lib/python3.10/dist-packages (from google-auth<3,>=1.6.3->tensorboard->trainer->-r /content/TTS/requirements.txt (line 29)) (4.9)\n",
      "Requirement already satisfied: requests-oauthlib>=0.7.0 in /usr/local/lib/python3.10/dist-packages (from google-auth-oauthlib<1.1,>=0.5->tensorboard->trainer->-r /content/TTS/requirements.txt (line 29)) (1.3.1)\n",
      "Requirement already satisfied: pyrsistent!=0.17.0,!=0.17.1,!=0.17.2,>=0.14.0 in /usr/local/lib/python3.10/dist-packages (from jsonschema>2.4.0->jsonmerge->k_diffusion->-r /content/TTS/requirements.txt (line 49)) (0.19.3)\n",
      "Requirement already satisfied: wcwidth>=0.2.5 in /usr/local/lib/python3.10/dist-packages (from ftfy->clip-anytorch->k_diffusion->-r /content/TTS/requirements.txt (line 49)) (0.2.6)\n",
      "Requirement already satisfied: smmap<6,>=3.0.1 in /usr/local/lib/python3.10/dist-packages (from gitdb<5,>=4.0.1->GitPython!=3.1.29,>=1.0.0->wandb->k_diffusion->-r /content/TTS/requirements.txt (line 49)) (5.0.0)\n",
      "Requirement already satisfied: pyasn1<0.6.0,>=0.4.6 in /usr/local/lib/python3.10/dist-packages (from pyasn1-modules>=0.2.1->google-auth<3,>=1.6.3->tensorboard->trainer->-r /content/TTS/requirements.txt (line 29)) (0.5.0)\n",
      "Requirement already satisfied: oauthlib>=3.0.0 in /usr/local/lib/python3.10/dist-packages (from requests-oauthlib>=0.7.0->google-auth-oauthlib<1.1,>=0.5->tensorboard->trainer->-r /content/TTS/requirements.txt (line 29)) (3.2.2)\n"
     ]
    }
   ],
   "source": [
    "! pip install -r /content/TTS/requirements.txt"
   ]
  },
  {
   "cell_type": "code",
   "execution_count": null,
   "metadata": {
    "colab": {
     "base_uri": "https://localhost:8080/"
    },
    "id": "ZqCFXdHmm33L",
    "outputId": "bf5a8fbc-f7ec-4358-b2ac-b74ff0bd0e9b"
   },
   "outputs": [
    {
     "name": "stdout",
     "output_type": "stream",
     "text": [
      "Cloning into 'rnnoise'...\n",
      "remote: Enumerating objects: 420, done.\u001b[K\n",
      "remote: Counting objects: 100% (219/219), done.\u001b[K\n",
      "remote: Compressing objects: 100% (27/27), done.\u001b[K\n",
      "remote: Total 420 (delta 194), reused 192 (delta 192), pack-reused 201\u001b[K\n",
      "Receiving objects: 100% (420/420), 836.04 KiB | 11.45 MiB/s, done.\n",
      "Resolving deltas: 100% (221/221), done.\n"
     ]
    }
   ],
   "source": [
    "!git clone https://github.com/xiph/rnnoise.git"
   ]
  },
  {
   "cell_type": "code",
   "execution_count": null,
   "metadata": {
    "colab": {
     "base_uri": "https://localhost:8080/"
    },
    "id": "GjmSYq6E4_OA",
    "outputId": "ef279ef7-bb9c-454a-adc9-bd057822d1c9"
   },
   "outputs": [
    {
     "name": "stdout",
     "output_type": "stream",
     "text": [
      "Collecting pyloudnorm\n",
      "  Downloading pyloudnorm-0.1.1-py3-none-any.whl (9.6 kB)\n",
      "Requirement already satisfied: scipy>=1.0.1 in /usr/local/lib/python3.10/dist-packages (from pyloudnorm) (1.10.1)\n",
      "Requirement already satisfied: numpy>=1.14.2 in /usr/local/lib/python3.10/dist-packages (from pyloudnorm) (1.22.0)\n",
      "Requirement already satisfied: future>=0.16.0 in /usr/local/lib/python3.10/dist-packages (from pyloudnorm) (0.18.3)\n",
      "Installing collected packages: pyloudnorm\n",
      "Successfully installed pyloudnorm-0.1.1\n"
     ]
    }
   ],
   "source": [
    "!pip install pyloudnorm"
   ]
  },
  {
   "cell_type": "code",
   "execution_count": null,
   "metadata": {
    "colab": {
     "base_uri": "https://localhost:8080/"
    },
    "id": "p5ZiZra7u8cp",
    "outputId": "841f2943-acde-40e8-8831-9a8fa5a71748"
   },
   "outputs": [
    {
     "name": "stdout",
     "output_type": "stream",
     "text": [
      "Reading package lists... Done\n",
      "Building dependency tree... Done\n",
      "Reading state information... Done\n",
      "autoconf is already the newest version (2.71-2).\n",
      "autoconf set to manually installed.\n",
      "automake is already the newest version (1:1.16.5-1.3).\n",
      "automake set to manually installed.\n",
      "pkg-config is already the newest version (0.29.2-1ubuntu3).\n",
      "curl is already the newest version (7.81.0-1ubuntu1.13).\n",
      "The following additional packages will be installed:\n",
      "  libopencore-amrnb0 libopencore-amrwb0 libpython2-stdlib libpython2.7-minimal\n",
      "  libpython2.7-stdlib libsox-fmt-alsa libsox-fmt-base libsox3 libwavpack1\n",
      "  python-pkg-resources python-setuptools python2 python2-minimal python2.7\n",
      "  python2.7-minimal\n",
      "Suggested packages:\n",
      "  libsox-fmt-all libtool-doc gcj-jdk python-setuptools-doc python2-doc\n",
      "  python-tk python2.7-doc binfmt-support\n",
      "Recommended packages:\n",
      "  python2-dev\n",
      "The following NEW packages will be installed:\n",
      "  libopencore-amrnb0 libopencore-amrwb0 libpython2-stdlib libpython2.7-minimal\n",
      "  libpython2.7-stdlib libsox-fmt-alsa libsox-fmt-base libsox3 libtool\n",
      "  libwavpack1 python-pip python-pkg-resources python-setuptools python2\n",
      "  python2-minimal python2.7 python2.7-minimal sox\n",
      "0 upgraded, 18 newly installed, 0 to remove and 8 not upgraded.\n",
      "Need to get 6,269 kB of archives.\n",
      "After this operation, 26.1 MB of additional disk space will be used.\n",
      "Get:1 http://archive.ubuntu.com/ubuntu jammy-updates/universe amd64 libpython2.7-minimal amd64 2.7.18-13ubuntu1.1 [347 kB]\n",
      "Get:2 http://archive.ubuntu.com/ubuntu jammy-updates/universe amd64 python2.7-minimal amd64 2.7.18-13ubuntu1.1 [1,394 kB]\n",
      "Get:3 http://archive.ubuntu.com/ubuntu jammy/universe amd64 python2-minimal amd64 2.7.18-3 [20.8 kB]\n",
      "Get:4 http://archive.ubuntu.com/ubuntu jammy-updates/universe amd64 libpython2.7-stdlib amd64 2.7.18-13ubuntu1.1 [1,977 kB]\n",
      "Get:5 http://archive.ubuntu.com/ubuntu jammy-updates/universe amd64 python2.7 amd64 2.7.18-13ubuntu1.1 [250 kB]\n",
      "Get:6 http://archive.ubuntu.com/ubuntu jammy/universe amd64 libpython2-stdlib amd64 2.7.18-3 [7,432 B]\n",
      "Get:7 http://archive.ubuntu.com/ubuntu jammy/universe amd64 python2 amd64 2.7.18-3 [9,098 B]\n",
      "Get:8 http://archive.ubuntu.com/ubuntu jammy/universe amd64 libopencore-amrnb0 amd64 0.1.5-1 [94.8 kB]\n",
      "Get:9 http://archive.ubuntu.com/ubuntu jammy/universe amd64 libopencore-amrwb0 amd64 0.1.5-1 [49.1 kB]\n",
      "Get:10 http://archive.ubuntu.com/ubuntu jammy-updates/universe amd64 libsox3 amd64 14.4.2+git20190427-2+deb11u2build0.22.04.1 [240 kB]\n",
      "Get:11 http://archive.ubuntu.com/ubuntu jammy-updates/universe amd64 libsox-fmt-alsa amd64 14.4.2+git20190427-2+deb11u2build0.22.04.1 [11.2 kB]\n",
      "Get:12 http://archive.ubuntu.com/ubuntu jammy/main amd64 libwavpack1 amd64 5.4.0-1build2 [83.7 kB]\n",
      "Get:13 http://archive.ubuntu.com/ubuntu jammy-updates/universe amd64 libsox-fmt-base amd64 14.4.2+git20190427-2+deb11u2build0.22.04.1 [33.7 kB]\n",
      "Get:14 http://archive.ubuntu.com/ubuntu jammy/main amd64 libtool all 2.4.6-15build2 [164 kB]\n",
      "Get:15 http://archive.ubuntu.com/ubuntu jammy-updates/universe amd64 python-pkg-resources all 44.1.1-1.2ubuntu0.22.04.1 [128 kB]\n",
      "Get:16 http://archive.ubuntu.com/ubuntu jammy-updates/universe amd64 python-setuptools all 44.1.1-1.2ubuntu0.22.04.1 [334 kB]\n",
      "Get:17 http://archive.ubuntu.com/ubuntu jammy/universe amd64 python-pip all 20.3.4+dfsg-4 [1,021 kB]\n",
      "Get:18 http://archive.ubuntu.com/ubuntu jammy-updates/universe amd64 sox amd64 14.4.2+git20190427-2+deb11u2build0.22.04.1 [104 kB]\n",
      "Fetched 6,269 kB in 4s (1,417 kB/s)\n",
      "debconf: unable to initialize frontend: Dialog\n",
      "debconf: (No usable dialog-like program is installed, so the dialog based frontend cannot be used. at /usr/share/perl5/Debconf/FrontEnd/Dialog.pm line 78, <> line 18.)\n",
      "debconf: falling back to frontend: Readline\n",
      "debconf: unable to initialize frontend: Readline\n",
      "debconf: (This frontend requires a controlling tty.)\n",
      "debconf: falling back to frontend: Teletype\n",
      "dpkg-preconfigure: unable to re-open stdin: \n",
      "Selecting previously unselected package libpython2.7-minimal:amd64.\n",
      "(Reading database ... 129824 files and directories currently installed.)\n",
      "Preparing to unpack .../0-libpython2.7-minimal_2.7.18-13ubuntu1.1_amd64.deb ...\n",
      "Unpacking libpython2.7-minimal:amd64 (2.7.18-13ubuntu1.1) ...\n",
      "Selecting previously unselected package python2.7-minimal.\n",
      "Preparing to unpack .../1-python2.7-minimal_2.7.18-13ubuntu1.1_amd64.deb ...\n",
      "Unpacking python2.7-minimal (2.7.18-13ubuntu1.1) ...\n",
      "Selecting previously unselected package python2-minimal.\n",
      "Preparing to unpack .../2-python2-minimal_2.7.18-3_amd64.deb ...\n",
      "Unpacking python2-minimal (2.7.18-3) ...\n",
      "Selecting previously unselected package libpython2.7-stdlib:amd64.\n",
      "Preparing to unpack .../3-libpython2.7-stdlib_2.7.18-13ubuntu1.1_amd64.deb ...\n",
      "Unpacking libpython2.7-stdlib:amd64 (2.7.18-13ubuntu1.1) ...\n",
      "Selecting previously unselected package python2.7.\n",
      "Preparing to unpack .../4-python2.7_2.7.18-13ubuntu1.1_amd64.deb ...\n",
      "Unpacking python2.7 (2.7.18-13ubuntu1.1) ...\n",
      "Selecting previously unselected package libpython2-stdlib:amd64.\n",
      "Preparing to unpack .../5-libpython2-stdlib_2.7.18-3_amd64.deb ...\n",
      "Unpacking libpython2-stdlib:amd64 (2.7.18-3) ...\n",
      "Setting up libpython2.7-minimal:amd64 (2.7.18-13ubuntu1.1) ...\n",
      "Setting up python2.7-minimal (2.7.18-13ubuntu1.1) ...\n",
      "Linking and byte-compiling packages for runtime python2.7...\n",
      "Setting up python2-minimal (2.7.18-3) ...\n",
      "Selecting previously unselected package python2.\n",
      "(Reading database ... 130567 files and directories currently installed.)\n",
      "Preparing to unpack .../00-python2_2.7.18-3_amd64.deb ...\n",
      "Unpacking python2 (2.7.18-3) ...\n",
      "Selecting previously unselected package libopencore-amrnb0:amd64.\n",
      "Preparing to unpack .../01-libopencore-amrnb0_0.1.5-1_amd64.deb ...\n",
      "Unpacking libopencore-amrnb0:amd64 (0.1.5-1) ...\n",
      "Selecting previously unselected package libopencore-amrwb0:amd64.\n",
      "Preparing to unpack .../02-libopencore-amrwb0_0.1.5-1_amd64.deb ...\n",
      "Unpacking libopencore-amrwb0:amd64 (0.1.5-1) ...\n",
      "Selecting previously unselected package libsox3:amd64.\n",
      "Preparing to unpack .../03-libsox3_14.4.2+git20190427-2+deb11u2build0.22.04.1_amd64.deb ...\n",
      "Unpacking libsox3:amd64 (14.4.2+git20190427-2+deb11u2build0.22.04.1) ...\n",
      "Selecting previously unselected package libsox-fmt-alsa:amd64.\n",
      "Preparing to unpack .../04-libsox-fmt-alsa_14.4.2+git20190427-2+deb11u2build0.22.04.1_amd64.deb ...\n",
      "Unpacking libsox-fmt-alsa:amd64 (14.4.2+git20190427-2+deb11u2build0.22.04.1) ...\n",
      "Selecting previously unselected package libwavpack1:amd64.\n",
      "Preparing to unpack .../05-libwavpack1_5.4.0-1build2_amd64.deb ...\n",
      "Unpacking libwavpack1:amd64 (5.4.0-1build2) ...\n",
      "Selecting previously unselected package libsox-fmt-base:amd64.\n",
      "Preparing to unpack .../06-libsox-fmt-base_14.4.2+git20190427-2+deb11u2build0.22.04.1_amd64.deb ...\n",
      "Unpacking libsox-fmt-base:amd64 (14.4.2+git20190427-2+deb11u2build0.22.04.1) ...\n",
      "Selecting previously unselected package libtool.\n",
      "Preparing to unpack .../07-libtool_2.4.6-15build2_all.deb ...\n",
      "Unpacking libtool (2.4.6-15build2) ...\n",
      "Selecting previously unselected package python-pkg-resources.\n",
      "Preparing to unpack .../08-python-pkg-resources_44.1.1-1.2ubuntu0.22.04.1_all.deb ...\n",
      "Unpacking python-pkg-resources (44.1.1-1.2ubuntu0.22.04.1) ...\n",
      "Selecting previously unselected package python-setuptools.\n",
      "Preparing to unpack .../09-python-setuptools_44.1.1-1.2ubuntu0.22.04.1_all.deb ...\n",
      "Unpacking python-setuptools (44.1.1-1.2ubuntu0.22.04.1) ...\n",
      "Selecting previously unselected package python-pip.\n",
      "Preparing to unpack .../10-python-pip_20.3.4+dfsg-4_all.deb ...\n",
      "Unpacking python-pip (20.3.4+dfsg-4) ...\n",
      "Selecting previously unselected package sox.\n",
      "Preparing to unpack .../11-sox_14.4.2+git20190427-2+deb11u2build0.22.04.1_amd64.deb ...\n",
      "Unpacking sox (14.4.2+git20190427-2+deb11u2build0.22.04.1) ...\n",
      "Setting up libsox3:amd64 (14.4.2+git20190427-2+deb11u2build0.22.04.1) ...\n",
      "Setting up libtool (2.4.6-15build2) ...\n",
      "Setting up libpython2.7-stdlib:amd64 (2.7.18-13ubuntu1.1) ...\n",
      "Setting up libopencore-amrwb0:amd64 (0.1.5-1) ...\n",
      "Setting up libsox-fmt-alsa:amd64 (14.4.2+git20190427-2+deb11u2build0.22.04.1) ...\n",
      "Setting up libwavpack1:amd64 (5.4.0-1build2) ...\n",
      "Setting up libopencore-amrnb0:amd64 (0.1.5-1) ...\n",
      "Setting up libsox-fmt-base:amd64 (14.4.2+git20190427-2+deb11u2build0.22.04.1) ...\n",
      "Setting up python2.7 (2.7.18-13ubuntu1.1) ...\n",
      "Setting up libpython2-stdlib:amd64 (2.7.18-3) ...\n",
      "Setting up python2 (2.7.18-3) ...\n",
      "Setting up sox (14.4.2+git20190427-2+deb11u2build0.22.04.1) ...\n",
      "Setting up python-pkg-resources (44.1.1-1.2ubuntu0.22.04.1) ...\n",
      "Setting up python-setuptools (44.1.1-1.2ubuntu0.22.04.1) ...\n",
      "Setting up python-pip (20.3.4+dfsg-4) ...\n",
      "Processing triggers for man-db (2.10.2-1) ...\n",
      "Processing triggers for libc-bin (2.35-0ubuntu3.1) ...\n"
     ]
    }
   ],
   "source": [
    "!sudo apt-get install curl autoconf automake libtool pkg-config python-pip sox"
   ]
  },
  {
   "cell_type": "code",
   "execution_count": null,
   "metadata": {
    "id": "EPpUPZEPJ0_6"
   },
   "outputs": [],
   "source": [
    "#Location of original wav files.\n",
    "orig_waves=\"/content/drive/MyDrive/dataset/orignal\""
   ]
  },
  {
   "cell_type": "code",
   "execution_count": null,
   "metadata": {
    "id": "Tk5MVcwVzsMG"
   },
   "outputs": [],
   "source": [
    "# import torch\n",
    "# import torchaudio\n",
    "# from speechbrain.pretrained import SpectralMaskEnhancement\n",
    "\n",
    "# enhance_model = SpectralMaskEnhancement.from_hparams(\n",
    "#     source=\"speechbrain/metricgan-plus-voicebank\",\n",
    "#     savedir=\"pretrained_models/metricgan-plus-voicebank\",\n",
    "# )\n",
    "\n",
    "# from scipy.io import wavfile\n",
    "# import os\n",
    "# for dirs in os.listdir('/content/drive/MyDrive/dataset/orignal'):\n",
    "#   dir = f'/content/drive/MyDrive/dataset/orignal/{dirs}'\n",
    "#   noisy = enhance_model.load_audio(dir).unsqueeze(0)\n",
    "#   # Add relative length tensor\n",
    "#   enhanced = enhance_model.enhance_batch(noisy, lengths=torch.tensor([1.]))\n",
    "#   # dir.replace('raw', 'orignal')\n",
    "#   os.remove(dir)\n",
    "#   # Saving enhanced signal on disk\n",
    "#   path = f'/content/drive/MyDrive/dataset/orignal/{dirs}'\n",
    "#   torchaudio.save(dir, enhanced.cpu(), 16000)"
   ]
  },
  {
   "cell_type": "code",
   "execution_count": null,
   "metadata": {
    "colab": {
     "base_uri": "https://localhost:8080/"
    },
    "id": "ZNJCcq3Vu9JR",
    "outputId": "fef68e36-858f-4deb-c6de-0ddf00e8a3f2"
   },
   "outputs": [
    {
     "name": "stdout",
     "output_type": "stream",
     "text": [
      "/content/rnnoise\n",
      "Updating build configuration files for rnnoise, please wait....\n",
      "libtoolize: putting auxiliary files in '.'.\n",
      "libtoolize: linking file './ltmain.sh'\n",
      "libtoolize: putting macros in AC_CONFIG_MACRO_DIRS, 'm4'.\n",
      "libtoolize: linking file 'm4/libtool.m4'\n",
      "libtoolize: linking file 'm4/ltoptions.m4'\n",
      "libtoolize: linking file 'm4/ltsugar.m4'\n",
      "libtoolize: linking file 'm4/ltversion.m4'\n",
      "libtoolize: linking file 'm4/lt~obsolete.m4'\n",
      "configure.ac:19: installing './compile'\n",
      "configure.ac:27: installing './config.guess'\n",
      "configure.ac:27: installing './config.sub'\n",
      "configure.ac:22: installing './install-sh'\n",
      "configure.ac:22: installing './missing'\n",
      "Makefile.am: installing './depcomp'\n",
      "checking for gcc... gcc\n",
      "checking whether the C compiler works... yes\n",
      "checking for C compiler default output file name... a.out\n",
      "checking for suffix of executables... \n",
      "checking whether we are cross compiling... no\n",
      "checking for suffix of object files... o\n",
      "checking whether the compiler supports GNU C... yes\n",
      "checking whether gcc accepts -g... yes\n",
      "checking for gcc option to enable C11 features... none needed\n",
      "checking whether gcc understands -c and -o together... yes\n",
      "checking for stdio.h... yes\n",
      "checking for stdlib.h... yes\n",
      "checking for string.h... yes\n",
      "checking for inttypes.h... yes\n",
      "checking for stdint.h... yes\n",
      "checking for strings.h... yes\n",
      "checking for sys/stat.h... yes\n",
      "checking for sys/types.h... yes\n",
      "checking for unistd.h... yes\n",
      "checking for wchar.h... yes\n",
      "checking for minix/config.h... no\n",
      "checking whether it is safe to define __EXTENSIONS__... yes\n",
      "checking whether _XOPEN_SOURCE should be defined... no\n",
      "checking for special C compiler options needed for large files... no\n",
      "checking for _FILE_OFFSET_BITS value needed for large files... no\n",
      "checking for a BSD-compatible install... /usr/bin/install -c\n",
      "checking whether build environment is sane... yes\n",
      "checking for a race-free mkdir -p... /usr/bin/mkdir -p\n",
      "checking for gawk... no\n",
      "checking for mawk... mawk\n",
      "checking whether make sets $(MAKE)... yes\n",
      "checking whether make supports the include directive... yes (GNU style)\n",
      "checking whether make supports nested variables... yes\n",
      "checking dependency style of gcc... gcc3\n",
      "checking whether to enable maintainer-specific portions of Makefiles... yes\n",
      "checking for inline... inline\n",
      "checking build system type... x86_64-pc-linux-gnu\n",
      "checking host system type... x86_64-pc-linux-gnu\n",
      "checking how to print strings... printf\n",
      "checking for a sed that does not truncate output... /usr/bin/sed\n",
      "checking for grep that handles long lines and -e... /usr/bin/grep\n",
      "checking for egrep... /usr/bin/grep -E\n",
      "checking for fgrep... /usr/bin/grep -F\n",
      "checking for ld used by gcc... /usr/bin/ld\n",
      "checking if the linker (/usr/bin/ld) is GNU ld... yes\n",
      "checking for BSD- or MS-compatible name lister (nm)... /usr/bin/nm -B\n",
      "checking the name lister (/usr/bin/nm -B) interface... BSD nm\n",
      "checking whether ln -s works... yes\n",
      "checking the maximum length of command line arguments... 1572864\n",
      "checking how to convert x86_64-pc-linux-gnu file names to x86_64-pc-linux-gnu format... func_convert_file_noop\n",
      "checking how to convert x86_64-pc-linux-gnu file names to toolchain format... func_convert_file_noop\n",
      "checking for /usr/bin/ld option to reload object files... -r\n",
      "checking for objdump... objdump\n",
      "checking how to recognize dependent libraries... pass_all\n",
      "checking for dlltool... no\n",
      "checking how to associate runtime and link libraries... printf %s\\n\n",
      "checking for ar... ar\n",
      "checking for archiver @FILE support... @\n",
      "checking for strip... strip\n",
      "checking for ranlib... ranlib\n",
      "checking command to parse /usr/bin/nm -B output from gcc object... ok\n",
      "checking for sysroot... no\n",
      "checking for a working dd... /usr/bin/dd\n",
      "checking how to truncate binary pipes... /usr/bin/dd bs=4096 count=1\n",
      "checking for mt... no\n",
      "checking if : is a manifest tool... no\n",
      "checking for dlfcn.h... yes\n",
      "checking for objdir... .libs\n",
      "checking if gcc supports -fno-rtti -fno-exceptions... no\n",
      "checking for gcc option to produce PIC... -fPIC -DPIC\n",
      "checking if gcc PIC flag -fPIC -DPIC works... yes\n",
      "checking if gcc static flag -static works... yes\n",
      "checking if gcc supports -c -o file.o... yes\n",
      "checking if gcc supports -c -o file.o... (cached) yes\n",
      "checking whether the gcc linker (/usr/bin/ld -m elf_x86_64) supports shared libraries... yes\n",
      "checking whether -lc should be explicitly linked in... no\n",
      "checking dynamic linker characteristics... GNU/Linux ld.so\n",
      "checking how to hardcode library paths into programs... immediate\n",
      "checking whether stripping libraries is possible... yes\n",
      "checking if libtool supports shared libraries... yes\n",
      "checking whether to build shared libraries... yes\n",
      "checking whether to build static libraries... yes\n",
      "checking whether make supports nested variables... (cached) yes\n",
      "checking if gcc supports -pedantic flag... yes\n",
      "checking if gcc supports -Wall flag... yes\n",
      "checking if gcc supports -Wextra flag... yes\n",
      "checking if gcc supports -Wno-sign-compare flag... yes\n",
      "checking if gcc supports -Wno-parentheses flag... yes\n",
      "checking if gcc supports -Wno-long-long flag... yes\n",
      "checking for cos in -lm... yes\n",
      "checking for gcc way to treat warnings as errors... -Werror\n",
      "checking if gcc supports __attribute__(( visibility(\"default\") ))... yes\n",
      "checking if gcc supports -fvisibility=hidden... yes\n",
      "checking for doxygen... no\n",
      "checking for dot... yes\n",
      "checking that generated files are newer than configure... done\n",
      "configure: creating ./config.status\n",
      "config.status: creating Makefile\n",
      "config.status: creating rnnoise.pc\n",
      "config.status: creating rnnoise-uninstalled.pc\n",
      "config.status: creating doc/Doxyfile\n",
      "config.status: creating config.h\n",
      "config.status: executing depfiles commands\n",
      "config.status: executing libtool commands\n",
      "configure:\n",
      "------------------------------------------------------------------------\n",
      "  rnnoise unknown: Automatic configuration OK.\n",
      "\n",
      "    Assertions ................... no\n",
      "\n",
      "    Hidden visibility ............ yes\n",
      "\n",
      "    API code examples ............ yes\n",
      "    API documentation ............ yes\n",
      "------------------------------------------------------------------------\n",
      "\n",
      "test -z \"librnnoise.la\" || rm -f librnnoise.la\n",
      "rm -f ./so_locations\n",
      "rm -rf .libs _libs\n",
      "rm -rf examples/.libs examples/_libs\n",
      "rm -rf src/.libs src/_libs\n",
      " rm -f examples/rnnoise_demo\n",
      "rm -f *.o\n",
      "rm -f examples/*.o\n",
      "rm -f src/*.o\n",
      "rm -f src/*.lo\n",
      "rm -f *.lo\n",
      "make  all-am\n",
      "make[1]: Entering directory '/content/rnnoise'\n",
      "  CC       examples/rnnoise_demo.o\n",
      "\u001b[01m\u001b[Kexamples/rnnoise_demo.c:\u001b[m\u001b[K In function ‘\u001b[01m\u001b[Kmain\u001b[m\u001b[K’:\n",
      "\u001b[01m\u001b[Kexamples/rnnoise_demo.c:48:5:\u001b[m\u001b[K \u001b[01;35m\u001b[Kwarning: \u001b[m\u001b[Kignoring return value of ‘\u001b[01m\u001b[Kfread\u001b[m\u001b[K’ declared with attribute ‘\u001b[01m\u001b[Kwarn_unused_result\u001b[m\u001b[K’ [\u001b[01;35m\u001b[K\u001b]8;;https://gcc.gnu.org/onlinedocs/gcc/Warning-Options.html#index-Wunused-result\u0007-Wunused-result\u001b]8;;\u0007\u001b[m\u001b[K]\n",
      "   48 |     \u001b[01;35m\u001b[Kfread(tmp, sizeof(short), FRAME_SIZE, f1)\u001b[m\u001b[K;\n",
      "      |     \u001b[01;35m\u001b[K^~~~~~~~~~~~~~~~~~~~~~~~~~~~~~~~~~~~~~~~~\u001b[m\u001b[K\n",
      "  CC       src/denoise.lo\n",
      "  CC       src/rnn.lo\n",
      "  CC       src/rnn_data.lo\n",
      "  CC       src/rnn_reader.lo\n",
      "  CC       src/pitch.lo\n",
      "  CC       src/kiss_fft.lo\n",
      "  CC       src/celt_lpc.lo\n",
      "  CCLD     librnnoise.la\n",
      "  CCLD     examples/rnnoise_demo\n",
      "make[1]: Leaving directory '/content/rnnoise'\n"
     ]
    }
   ],
   "source": [
    "%cd /content/rnnoise\n",
    "!sh autogen.sh\n",
    "!sh configure\n",
    "!make clean\n",
    "!make"
   ]
  },
  {
   "cell_type": "code",
   "execution_count": null,
   "metadata": {
    "colab": {
     "base_uri": "https://localhost:8080/"
    },
    "id": "VUwNr5bZu9MO",
    "outputId": "de9ab049-68d4-461c-890c-25dba5b094ee"
   },
   "outputs": [
    {
     "name": "stdout",
     "output_type": "stream",
     "text": [
      "From: /content/drive/MyDrive/dataset/orignal/data-07.wav\n",
      "To: /content/drive/MyDrive/dataset/converted/data-07.wav\n",
      "\n",
      "From: /content/drive/MyDrive/dataset/orignal/data-03.wav\n",
      "To: /content/drive/MyDrive/dataset/converted/data-03.wav\n",
      "\n",
      "From: /content/drive/MyDrive/dataset/orignal/data-06.wav\n",
      "To: /content/drive/MyDrive/dataset/converted/data-06.wav\n",
      "\n",
      "From: /content/drive/MyDrive/dataset/orignal/data-05.wav\n",
      "To: /content/drive/MyDrive/dataset/converted/data-05.wav\n",
      "\n",
      "From: /content/drive/MyDrive/dataset/orignal/data-02.wav\n",
      "To: /content/drive/MyDrive/dataset/converted/data-02.wav\n",
      "\n",
      "From: /content/drive/MyDrive/dataset/orignal/data-01.wav\n",
      "To: /content/drive/MyDrive/dataset/converted/data-01.wav\n",
      "\n",
      "From: /content/drive/MyDrive/dataset/orignal/data-04.wav\n",
      "To: /content/drive/MyDrive/dataset/converted/data-04.wav\n",
      "\n",
      "From: /content/drive/MyDrive/dataset/orignal/data-08.wav\n",
      "To: /content/drive/MyDrive/dataset/converted/data-08.wav\n",
      "\n",
      "From: /content/drive/MyDrive/dataset/orignal/data-11.wav\n",
      "To: /content/drive/MyDrive/dataset/converted/data-11.wav\n",
      "\n",
      "From: /content/drive/MyDrive/dataset/orignal/data-09.wav\n",
      "To: /content/drive/MyDrive/dataset/converted/data-09.wav\n",
      "\n",
      "From: /content/drive/MyDrive/dataset/orignal/data-21.wav\n",
      "To: /content/drive/MyDrive/dataset/converted/data-21.wav\n",
      "\n",
      "From: /content/drive/MyDrive/dataset/orignal/data-13.wav\n",
      "To: /content/drive/MyDrive/dataset/converted/data-13.wav\n",
      "\n",
      "From: /content/drive/MyDrive/dataset/orignal/data-14.wav\n",
      "To: /content/drive/MyDrive/dataset/converted/data-14.wav\n",
      "\n",
      "From: /content/drive/MyDrive/dataset/orignal/data-20.wav\n",
      "To: /content/drive/MyDrive/dataset/converted/data-20.wav\n",
      "\n",
      "From: /content/drive/MyDrive/dataset/orignal/data-10.wav\n",
      "To: /content/drive/MyDrive/dataset/converted/data-10.wav\n",
      "\n",
      "From: /content/drive/MyDrive/dataset/orignal/data-16.wav\n",
      "To: /content/drive/MyDrive/dataset/converted/data-16.wav\n",
      "\n",
      "From: /content/drive/MyDrive/dataset/orignal/data-19.wav\n",
      "To: /content/drive/MyDrive/dataset/converted/data-19.wav\n",
      "\n",
      "From: /content/drive/MyDrive/dataset/orignal/data-18.wav\n",
      "To: /content/drive/MyDrive/dataset/converted/data-18.wav\n",
      "\n",
      "From: /content/drive/MyDrive/dataset/orignal/data-15.wav\n",
      "To: /content/drive/MyDrive/dataset/converted/data-15.wav\n",
      "\n",
      "From: /content/drive/MyDrive/dataset/orignal/data-12.wav\n",
      "To: /content/drive/MyDrive/dataset/converted/data-12.wav\n",
      "\n",
      "From: /content/drive/MyDrive/dataset/orignal/data-17.wav\n",
      "To: /content/drive/MyDrive/dataset/converted/data-17.wav\n",
      "\n",
      "From: /content/drive/MyDrive/dataset/orignal/data-33.wav\n",
      "To: /content/drive/MyDrive/dataset/converted/data-33.wav\n",
      "\n",
      "From: /content/drive/MyDrive/dataset/orignal/data-29.wav\n",
      "To: /content/drive/MyDrive/dataset/converted/data-29.wav\n",
      "\n",
      "From: /content/drive/MyDrive/dataset/orignal/data-36.wav\n",
      "To: /content/drive/MyDrive/dataset/converted/data-36.wav\n",
      "\n",
      "From: /content/drive/MyDrive/dataset/orignal/data-34.wav\n",
      "To: /content/drive/MyDrive/dataset/converted/data-34.wav\n",
      "\n",
      "From: /content/drive/MyDrive/dataset/orignal/data-28.wav\n",
      "To: /content/drive/MyDrive/dataset/converted/data-28.wav\n",
      "\n",
      "From: /content/drive/MyDrive/dataset/orignal/data-23.wav\n",
      "To: /content/drive/MyDrive/dataset/converted/data-23.wav\n",
      "\n",
      "From: /content/drive/MyDrive/dataset/orignal/data-35.wav\n",
      "To: /content/drive/MyDrive/dataset/converted/data-35.wav\n",
      "\n",
      "From: /content/drive/MyDrive/dataset/orignal/data-25.wav\n",
      "To: /content/drive/MyDrive/dataset/converted/data-25.wav\n",
      "\n",
      "From: /content/drive/MyDrive/dataset/orignal/data-32.wav\n",
      "To: /content/drive/MyDrive/dataset/converted/data-32.wav\n",
      "\n",
      "From: /content/drive/MyDrive/dataset/orignal/data-26.wav\n",
      "To: /content/drive/MyDrive/dataset/converted/data-26.wav\n",
      "\n",
      "From: /content/drive/MyDrive/dataset/orignal/data-31.wav\n",
      "To: /content/drive/MyDrive/dataset/converted/data-31.wav\n",
      "\n",
      "From: /content/drive/MyDrive/dataset/orignal/data-30.wav\n",
      "To: /content/drive/MyDrive/dataset/converted/data-30.wav\n",
      "\n",
      "From: /content/drive/MyDrive/dataset/orignal/data-24.wav\n",
      "To: /content/drive/MyDrive/dataset/converted/data-24.wav\n",
      "\n",
      "From: /content/drive/MyDrive/dataset/orignal/data-27.wav\n",
      "To: /content/drive/MyDrive/dataset/converted/data-27.wav\n",
      "\n",
      "From: /content/drive/MyDrive/dataset/orignal/data-22.wav\n",
      "To: /content/drive/MyDrive/dataset/converted/data-22.wav\n",
      "\n",
      "From: /content/drive/MyDrive/dataset/orignal/data-41.wav\n",
      "To: /content/drive/MyDrive/dataset/converted/data-41.wav\n",
      "\n",
      "From: /content/drive/MyDrive/dataset/orignal/data-37.wav\n",
      "To: /content/drive/MyDrive/dataset/converted/data-37.wav\n",
      "\n",
      "From: /content/drive/MyDrive/dataset/orignal/data-38.wav\n",
      "To: /content/drive/MyDrive/dataset/converted/data-38.wav\n",
      "\n",
      "From: /content/drive/MyDrive/dataset/orignal/data-46.wav\n",
      "To: /content/drive/MyDrive/dataset/converted/data-46.wav\n",
      "\n",
      "From: /content/drive/MyDrive/dataset/orignal/data-42.wav\n",
      "To: /content/drive/MyDrive/dataset/converted/data-42.wav\n",
      "\n",
      "From: /content/drive/MyDrive/dataset/orignal/data-44.wav\n",
      "To: /content/drive/MyDrive/dataset/converted/data-44.wav\n",
      "\n",
      "From: /content/drive/MyDrive/dataset/orignal/data-49.wav\n",
      "To: /content/drive/MyDrive/dataset/converted/data-49.wav\n",
      "\n",
      "From: /content/drive/MyDrive/dataset/orignal/data-39.wav\n",
      "To: /content/drive/MyDrive/dataset/converted/data-39.wav\n",
      "\n",
      "From: /content/drive/MyDrive/dataset/orignal/data-43.wav\n",
      "To: /content/drive/MyDrive/dataset/converted/data-43.wav\n",
      "\n",
      "From: /content/drive/MyDrive/dataset/orignal/data-40.wav\n",
      "To: /content/drive/MyDrive/dataset/converted/data-40.wav\n",
      "\n",
      "From: /content/drive/MyDrive/dataset/orignal/data-45.wav\n",
      "To: /content/drive/MyDrive/dataset/converted/data-45.wav\n",
      "\n",
      "From: /content/drive/MyDrive/dataset/orignal/data-47.wav\n",
      "To: /content/drive/MyDrive/dataset/converted/data-47.wav\n",
      "\n",
      "From: /content/drive/MyDrive/dataset/orignal/data-48.wav\n",
      "To: /content/drive/MyDrive/dataset/converted/data-48.wav\n",
      "\n",
      "From: /content/drive/MyDrive/dataset/orignal/data-50.wav\n",
      "To: /content/drive/MyDrive/dataset/converted/data-50.wav\n",
      "\n",
      "From: /content/drive/MyDrive/dataset/orignal/data-55.wav\n",
      "To: /content/drive/MyDrive/dataset/converted/data-55.wav\n",
      "\n",
      "From: /content/drive/MyDrive/dataset/orignal/data-64.wav\n",
      "To: /content/drive/MyDrive/dataset/converted/data-64.wav\n",
      "\n",
      "From: /content/drive/MyDrive/dataset/orignal/data-63.wav\n",
      "To: /content/drive/MyDrive/dataset/converted/data-63.wav\n",
      "\n",
      "From: /content/drive/MyDrive/dataset/orignal/data-57.wav\n",
      "To: /content/drive/MyDrive/dataset/converted/data-57.wav\n",
      "\n",
      "From: /content/drive/MyDrive/dataset/orignal/data-53.wav\n",
      "To: /content/drive/MyDrive/dataset/converted/data-53.wav\n",
      "\n",
      "From: /content/drive/MyDrive/dataset/orignal/data-51.wav\n",
      "To: /content/drive/MyDrive/dataset/converted/data-51.wav\n",
      "\n",
      "From: /content/drive/MyDrive/dataset/orignal/data-58.wav\n",
      "To: /content/drive/MyDrive/dataset/converted/data-58.wav\n",
      "\n",
      "From: /content/drive/MyDrive/dataset/orignal/data-52.wav\n",
      "To: /content/drive/MyDrive/dataset/converted/data-52.wav\n",
      "\n",
      "From: /content/drive/MyDrive/dataset/orignal/data-56.wav\n",
      "To: /content/drive/MyDrive/dataset/converted/data-56.wav\n",
      "\n",
      "From: /content/drive/MyDrive/dataset/orignal/data-59.wav\n",
      "To: /content/drive/MyDrive/dataset/converted/data-59.wav\n",
      "\n",
      "From: /content/drive/MyDrive/dataset/orignal/data-65.wav\n",
      "To: /content/drive/MyDrive/dataset/converted/data-65.wav\n",
      "\n",
      "From: /content/drive/MyDrive/dataset/orignal/data-62.wav\n",
      "To: /content/drive/MyDrive/dataset/converted/data-62.wav\n",
      "\n",
      "From: /content/drive/MyDrive/dataset/orignal/data-54.wav\n",
      "To: /content/drive/MyDrive/dataset/converted/data-54.wav\n",
      "\n",
      "From: /content/drive/MyDrive/dataset/orignal/data-60.wav\n",
      "To: /content/drive/MyDrive/dataset/converted/data-60.wav\n",
      "\n",
      "From: /content/drive/MyDrive/dataset/orignal/data-61.wav\n",
      "To: /content/drive/MyDrive/dataset/converted/data-61.wav\n",
      "\n",
      "From: /content/drive/MyDrive/dataset/orignal/data-67.wav\n",
      "To: /content/drive/MyDrive/dataset/converted/data-67.wav\n",
      "\n",
      "From: /content/drive/MyDrive/dataset/orignal/data-79.wav\n",
      "To: /content/drive/MyDrive/dataset/converted/data-79.wav\n",
      "\n",
      "From: /content/drive/MyDrive/dataset/orignal/data-72.wav\n",
      "To: /content/drive/MyDrive/dataset/converted/data-72.wav\n",
      "\n",
      "From: /content/drive/MyDrive/dataset/orignal/data-74.wav\n",
      "To: /content/drive/MyDrive/dataset/converted/data-74.wav\n",
      "\n",
      "From: /content/drive/MyDrive/dataset/orignal/data-78.wav\n",
      "To: /content/drive/MyDrive/dataset/converted/data-78.wav\n",
      "\n",
      "From: /content/drive/MyDrive/dataset/orignal/data-80.wav\n",
      "To: /content/drive/MyDrive/dataset/converted/data-80.wav\n",
      "\n",
      "From: /content/drive/MyDrive/dataset/orignal/data-71.wav\n",
      "To: /content/drive/MyDrive/dataset/converted/data-71.wav\n",
      "\n",
      "From: /content/drive/MyDrive/dataset/orignal/data-69.wav\n",
      "To: /content/drive/MyDrive/dataset/converted/data-69.wav\n",
      "\n",
      "From: /content/drive/MyDrive/dataset/orignal/data-76.wav\n",
      "To: /content/drive/MyDrive/dataset/converted/data-76.wav\n",
      "\n",
      "From: /content/drive/MyDrive/dataset/orignal/data-77.wav\n",
      "To: /content/drive/MyDrive/dataset/converted/data-77.wav\n",
      "\n",
      "From: /content/drive/MyDrive/dataset/orignal/data-75.wav\n",
      "To: /content/drive/MyDrive/dataset/converted/data-75.wav\n",
      "\n",
      "From: /content/drive/MyDrive/dataset/orignal/data-73.wav\n",
      "To: /content/drive/MyDrive/dataset/converted/data-73.wav\n",
      "\n",
      "From: /content/drive/MyDrive/dataset/orignal/data-70.wav\n",
      "To: /content/drive/MyDrive/dataset/converted/data-70.wav\n",
      "\n",
      "From: /content/drive/MyDrive/dataset/orignal/data-68.wav\n",
      "To: /content/drive/MyDrive/dataset/converted/data-68.wav\n",
      "\n",
      "From: /content/drive/MyDrive/dataset/orignal/data-66.wav\n",
      "To: /content/drive/MyDrive/dataset/converted/data-66.wav\n",
      "\n",
      "From: /content/drive/MyDrive/dataset/orignal/data-93.wav\n",
      "To: /content/drive/MyDrive/dataset/converted/data-93.wav\n",
      "\n",
      "From: /content/drive/MyDrive/dataset/orignal/data-89.wav\n",
      "To: /content/drive/MyDrive/dataset/converted/data-89.wav\n",
      "\n",
      "From: /content/drive/MyDrive/dataset/orignal/data-95.wav\n",
      "To: /content/drive/MyDrive/dataset/converted/data-95.wav\n",
      "\n",
      "From: /content/drive/MyDrive/dataset/orignal/data-90.wav\n",
      "To: /content/drive/MyDrive/dataset/converted/data-90.wav\n",
      "\n",
      "From: /content/drive/MyDrive/dataset/orignal/data-96.wav\n",
      "To: /content/drive/MyDrive/dataset/converted/data-96.wav\n",
      "\n",
      "From: /content/drive/MyDrive/dataset/orignal/data-85.wav\n",
      "To: /content/drive/MyDrive/dataset/converted/data-85.wav\n",
      "\n",
      "From: /content/drive/MyDrive/dataset/orignal/data-87.wav\n",
      "To: /content/drive/MyDrive/dataset/converted/data-87.wav\n",
      "\n",
      "From: /content/drive/MyDrive/dataset/orignal/data-88.wav\n",
      "To: /content/drive/MyDrive/dataset/converted/data-88.wav\n",
      "\n",
      "From: /content/drive/MyDrive/dataset/orignal/data-86.wav\n",
      "To: /content/drive/MyDrive/dataset/converted/data-86.wav\n",
      "\n",
      "From: /content/drive/MyDrive/dataset/orignal/data-82.wav\n",
      "To: /content/drive/MyDrive/dataset/converted/data-82.wav\n",
      "\n",
      "From: /content/drive/MyDrive/dataset/orignal/data-97.wav\n",
      "To: /content/drive/MyDrive/dataset/converted/data-97.wav\n",
      "\n",
      "From: /content/drive/MyDrive/dataset/orignal/data-83.wav\n",
      "To: /content/drive/MyDrive/dataset/converted/data-83.wav\n",
      "\n",
      "From: /content/drive/MyDrive/dataset/orignal/data-81.wav\n",
      "To: /content/drive/MyDrive/dataset/converted/data-81.wav\n",
      "\n",
      "From: /content/drive/MyDrive/dataset/orignal/data-94.wav\n",
      "To: /content/drive/MyDrive/dataset/converted/data-94.wav\n",
      "\n",
      "From: /content/drive/MyDrive/dataset/orignal/data-91.wav\n",
      "To: /content/drive/MyDrive/dataset/converted/data-91.wav\n",
      "\n",
      "From: /content/drive/MyDrive/dataset/orignal/data-92.wav\n",
      "To: /content/drive/MyDrive/dataset/converted/data-92.wav\n",
      "\n",
      "From: /content/drive/MyDrive/dataset/orignal/data-84.wav\n",
      "To: /content/drive/MyDrive/dataset/converted/data-84.wav\n",
      "\n",
      "From: /content/drive/MyDrive/dataset/orignal/data-108.wav\n",
      "To: /content/drive/MyDrive/dataset/converted/data-108.wav\n",
      "\n",
      "From: /content/drive/MyDrive/dataset/orignal/data-107.wav\n",
      "To: /content/drive/MyDrive/dataset/converted/data-107.wav\n",
      "\n",
      "From: /content/drive/MyDrive/dataset/orignal/data-109.wav\n",
      "To: /content/drive/MyDrive/dataset/converted/data-109.wav\n",
      "\n",
      "From: /content/drive/MyDrive/dataset/orignal/data-98.wav\n",
      "To: /content/drive/MyDrive/dataset/converted/data-98.wav\n",
      "\n",
      "From: /content/drive/MyDrive/dataset/orignal/data-101.wav\n",
      "To: /content/drive/MyDrive/dataset/converted/data-101.wav\n",
      "\n",
      "From: /content/drive/MyDrive/dataset/orignal/data-99.wav\n",
      "To: /content/drive/MyDrive/dataset/converted/data-99.wav\n",
      "\n",
      "From: /content/drive/MyDrive/dataset/orignal/data-104.wav\n",
      "To: /content/drive/MyDrive/dataset/converted/data-104.wav\n",
      "\n",
      "From: /content/drive/MyDrive/dataset/orignal/data-105.wav\n",
      "To: /content/drive/MyDrive/dataset/converted/data-105.wav\n",
      "\n",
      "From: /content/drive/MyDrive/dataset/orignal/data-102.wav\n",
      "To: /content/drive/MyDrive/dataset/converted/data-102.wav\n",
      "\n",
      "From: /content/drive/MyDrive/dataset/orignal/data-113.wav\n",
      "To: /content/drive/MyDrive/dataset/converted/data-113.wav\n",
      "\n",
      "From: /content/drive/MyDrive/dataset/orignal/data-111.wav\n",
      "To: /content/drive/MyDrive/dataset/converted/data-111.wav\n",
      "\n",
      "From: /content/drive/MyDrive/dataset/orignal/data-112.wav\n",
      "To: /content/drive/MyDrive/dataset/converted/data-112.wav\n",
      "\n",
      "From: /content/drive/MyDrive/dataset/orignal/data-100.wav\n",
      "To: /content/drive/MyDrive/dataset/converted/data-100.wav\n",
      "\n",
      "From: /content/drive/MyDrive/dataset/orignal/data-110.wav\n",
      "To: /content/drive/MyDrive/dataset/converted/data-110.wav\n",
      "\n",
      "From: /content/drive/MyDrive/dataset/orignal/data-106.wav\n",
      "To: /content/drive/MyDrive/dataset/converted/data-106.wav\n",
      "\n",
      "From: /content/drive/MyDrive/dataset/orignal/data-103.wav\n",
      "To: /content/drive/MyDrive/dataset/converted/data-103.wav\n",
      "\n",
      "From: /content/drive/MyDrive/dataset/orignal/data-115.wav\n",
      "To: /content/drive/MyDrive/dataset/converted/data-115.wav\n",
      "\n",
      "From: /content/drive/MyDrive/dataset/orignal/data-129.wav\n",
      "To: /content/drive/MyDrive/dataset/converted/data-129.wav\n",
      "\n",
      "From: /content/drive/MyDrive/dataset/orignal/data-130.wav\n",
      "To: /content/drive/MyDrive/dataset/converted/data-130.wav\n",
      "\n",
      "From: /content/drive/MyDrive/dataset/orignal/data-123.wav\n",
      "To: /content/drive/MyDrive/dataset/converted/data-123.wav\n",
      "\n",
      "From: /content/drive/MyDrive/dataset/orignal/data-128.wav\n",
      "To: /content/drive/MyDrive/dataset/converted/data-128.wav\n",
      "\n",
      "From: /content/drive/MyDrive/dataset/orignal/data-117.wav\n",
      "To: /content/drive/MyDrive/dataset/converted/data-117.wav\n",
      "\n",
      "From: /content/drive/MyDrive/dataset/orignal/data-122.wav\n",
      "To: /content/drive/MyDrive/dataset/converted/data-122.wav\n",
      "\n",
      "From: /content/drive/MyDrive/dataset/orignal/data-125.wav\n",
      "To: /content/drive/MyDrive/dataset/converted/data-125.wav\n",
      "\n",
      "From: /content/drive/MyDrive/dataset/orignal/data-120.wav\n",
      "To: /content/drive/MyDrive/dataset/converted/data-120.wav\n",
      "\n",
      "From: /content/drive/MyDrive/dataset/orignal/data-124.wav\n",
      "To: /content/drive/MyDrive/dataset/converted/data-124.wav\n",
      "\n",
      "From: /content/drive/MyDrive/dataset/orignal/data-126.wav\n",
      "To: /content/drive/MyDrive/dataset/converted/data-126.wav\n",
      "\n",
      "From: /content/drive/MyDrive/dataset/orignal/data-121.wav\n",
      "To: /content/drive/MyDrive/dataset/converted/data-121.wav\n",
      "\n",
      "From: /content/drive/MyDrive/dataset/orignal/data-118.wav\n",
      "To: /content/drive/MyDrive/dataset/converted/data-118.wav\n",
      "\n",
      "From: /content/drive/MyDrive/dataset/orignal/data-119.wav\n",
      "To: /content/drive/MyDrive/dataset/converted/data-119.wav\n",
      "\n",
      "From: /content/drive/MyDrive/dataset/orignal/data-127.wav\n",
      "To: /content/drive/MyDrive/dataset/converted/data-127.wav\n",
      "\n",
      "From: /content/drive/MyDrive/dataset/orignal/data-116.wav\n",
      "To: /content/drive/MyDrive/dataset/converted/data-116.wav\n",
      "\n",
      "From: /content/drive/MyDrive/dataset/orignal/data-114.wav\n",
      "To: /content/drive/MyDrive/dataset/converted/data-114.wav\n",
      "\n",
      "From: /content/drive/MyDrive/dataset/orignal/data-142.wav\n",
      "To: /content/drive/MyDrive/dataset/converted/data-142.wav\n",
      "\n",
      "From: /content/drive/MyDrive/dataset/orignal/data-147.wav\n",
      "To: /content/drive/MyDrive/dataset/converted/data-147.wav\n",
      "\n",
      "From: /content/drive/MyDrive/dataset/orignal/data-139.wav\n",
      "To: /content/drive/MyDrive/dataset/converted/data-139.wav\n",
      "\n",
      "From: /content/drive/MyDrive/dataset/orignal/data-144.wav\n",
      "To: /content/drive/MyDrive/dataset/converted/data-144.wav\n",
      "\n",
      "From: /content/drive/MyDrive/dataset/orignal/data-143.wav\n",
      "To: /content/drive/MyDrive/dataset/converted/data-143.wav\n",
      "\n",
      "From: /content/drive/MyDrive/dataset/orignal/data-136.wav\n",
      "To: /content/drive/MyDrive/dataset/converted/data-136.wav\n",
      "\n",
      "From: /content/drive/MyDrive/dataset/orignal/data-138.wav\n",
      "To: /content/drive/MyDrive/dataset/converted/data-138.wav\n",
      "\n",
      "From: /content/drive/MyDrive/dataset/orignal/data-145.wav\n",
      "To: /content/drive/MyDrive/dataset/converted/data-145.wav\n",
      "\n",
      "From: /content/drive/MyDrive/dataset/orignal/data-146.wav\n",
      "To: /content/drive/MyDrive/dataset/converted/data-146.wav\n",
      "\n",
      "From: /content/drive/MyDrive/dataset/orignal/data-131.wav\n",
      "To: /content/drive/MyDrive/dataset/converted/data-131.wav\n",
      "\n",
      "From: /content/drive/MyDrive/dataset/orignal/data-132.wav\n",
      "To: /content/drive/MyDrive/dataset/converted/data-132.wav\n",
      "\n",
      "From: /content/drive/MyDrive/dataset/orignal/data-141.wav\n",
      "To: /content/drive/MyDrive/dataset/converted/data-141.wav\n",
      "\n",
      "From: /content/drive/MyDrive/dataset/orignal/data-135.wav\n",
      "To: /content/drive/MyDrive/dataset/converted/data-135.wav\n",
      "\n",
      "From: /content/drive/MyDrive/dataset/orignal/data-140.wav\n",
      "To: /content/drive/MyDrive/dataset/converted/data-140.wav\n",
      "\n",
      "From: /content/drive/MyDrive/dataset/orignal/data-133.wav\n",
      "To: /content/drive/MyDrive/dataset/converted/data-133.wav\n",
      "\n",
      "From: /content/drive/MyDrive/dataset/orignal/data-134.wav\n",
      "To: /content/drive/MyDrive/dataset/converted/data-134.wav\n",
      "\n",
      "From: /content/drive/MyDrive/dataset/orignal/data-137.wav\n",
      "To: /content/drive/MyDrive/dataset/converted/data-137.wav\n",
      "\n",
      "From: /content/drive/MyDrive/dataset/orignal/data-149.wav\n",
      "To: /content/drive/MyDrive/dataset/converted/data-149.wav\n",
      "\n",
      "From: /content/drive/MyDrive/dataset/orignal/data-156.wav\n",
      "To: /content/drive/MyDrive/dataset/converted/data-156.wav\n",
      "\n",
      "From: /content/drive/MyDrive/dataset/orignal/data-153.wav\n",
      "To: /content/drive/MyDrive/dataset/converted/data-153.wav\n",
      "\n",
      "From: /content/drive/MyDrive/dataset/orignal/data-155.wav\n",
      "To: /content/drive/MyDrive/dataset/converted/data-155.wav\n",
      "\n",
      "From: /content/drive/MyDrive/dataset/orignal/data-160.wav\n",
      "To: /content/drive/MyDrive/dataset/converted/data-160.wav\n",
      "\n",
      "From: /content/drive/MyDrive/dataset/orignal/data-161.wav\n",
      "To: /content/drive/MyDrive/dataset/converted/data-161.wav\n",
      "\n",
      "From: /content/drive/MyDrive/dataset/orignal/data-151.wav\n",
      "To: /content/drive/MyDrive/dataset/converted/data-151.wav\n",
      "\n",
      "From: /content/drive/MyDrive/dataset/orignal/data-157.wav\n",
      "To: /content/drive/MyDrive/dataset/converted/data-157.wav\n",
      "\n",
      "From: /content/drive/MyDrive/dataset/orignal/data-148.wav\n",
      "To: /content/drive/MyDrive/dataset/converted/data-148.wav\n",
      "\n",
      "From: /content/drive/MyDrive/dataset/orignal/data-163.wav\n",
      "To: /content/drive/MyDrive/dataset/converted/data-163.wav\n",
      "\n",
      "From: /content/drive/MyDrive/dataset/orignal/data-164.wav\n",
      "To: /content/drive/MyDrive/dataset/converted/data-164.wav\n",
      "\n",
      "From: /content/drive/MyDrive/dataset/orignal/data-158.wav\n",
      "To: /content/drive/MyDrive/dataset/converted/data-158.wav\n",
      "\n",
      "From: /content/drive/MyDrive/dataset/orignal/data-150.wav\n",
      "To: /content/drive/MyDrive/dataset/converted/data-150.wav\n",
      "\n",
      "From: /content/drive/MyDrive/dataset/orignal/data-159.wav\n",
      "To: /content/drive/MyDrive/dataset/converted/data-159.wav\n",
      "\n",
      "From: /content/drive/MyDrive/dataset/orignal/data-152.wav\n",
      "To: /content/drive/MyDrive/dataset/converted/data-152.wav\n",
      "\n",
      "From: /content/drive/MyDrive/dataset/orignal/data-162.wav\n",
      "To: /content/drive/MyDrive/dataset/converted/data-162.wav\n",
      "\n",
      "From: /content/drive/MyDrive/dataset/orignal/data-154.wav\n",
      "To: /content/drive/MyDrive/dataset/converted/data-154.wav\n",
      "\n",
      "From: /content/drive/MyDrive/dataset/orignal/data-172.wav\n",
      "To: /content/drive/MyDrive/dataset/converted/data-172.wav\n",
      "\n",
      "From: /content/drive/MyDrive/dataset/orignal/data-166.wav\n",
      "To: /content/drive/MyDrive/dataset/converted/data-166.wav\n",
      "\n",
      "From: /content/drive/MyDrive/dataset/orignal/data-170.wav\n",
      "To: /content/drive/MyDrive/dataset/converted/data-170.wav\n",
      "\n",
      "From: /content/drive/MyDrive/dataset/orignal/data-178.wav\n",
      "To: /content/drive/MyDrive/dataset/converted/data-178.wav\n",
      "\n",
      "From: /content/drive/MyDrive/dataset/orignal/data-168.wav\n",
      "To: /content/drive/MyDrive/dataset/converted/data-168.wav\n",
      "\n",
      "From: /content/drive/MyDrive/dataset/orignal/data-175.wav\n",
      "To: /content/drive/MyDrive/dataset/converted/data-175.wav\n",
      "\n",
      "From: /content/drive/MyDrive/dataset/orignal/data-176.wav\n",
      "To: /content/drive/MyDrive/dataset/converted/data-176.wav\n",
      "\n",
      "From: /content/drive/MyDrive/dataset/orignal/data-180.wav\n",
      "To: /content/drive/MyDrive/dataset/converted/data-180.wav\n",
      "\n",
      "From: /content/drive/MyDrive/dataset/orignal/data-167.wav\n",
      "To: /content/drive/MyDrive/dataset/converted/data-167.wav\n",
      "\n",
      "From: /content/drive/MyDrive/dataset/orignal/data-165.wav\n",
      "To: /content/drive/MyDrive/dataset/converted/data-165.wav\n",
      "\n",
      "From: /content/drive/MyDrive/dataset/orignal/data-169.wav\n",
      "To: /content/drive/MyDrive/dataset/converted/data-169.wav\n",
      "\n",
      "From: /content/drive/MyDrive/dataset/orignal/data-174.wav\n",
      "To: /content/drive/MyDrive/dataset/converted/data-174.wav\n",
      "\n",
      "From: /content/drive/MyDrive/dataset/orignal/data-179.wav\n",
      "To: /content/drive/MyDrive/dataset/converted/data-179.wav\n",
      "\n",
      "From: /content/drive/MyDrive/dataset/orignal/data-173.wav\n",
      "To: /content/drive/MyDrive/dataset/converted/data-173.wav\n",
      "\n",
      "From: /content/drive/MyDrive/dataset/orignal/data-177.wav\n",
      "To: /content/drive/MyDrive/dataset/converted/data-177.wav\n",
      "\n",
      "From: /content/drive/MyDrive/dataset/orignal/data-171.wav\n",
      "To: /content/drive/MyDrive/dataset/converted/data-171.wav\n",
      "\n",
      "From: /content/drive/MyDrive/dataset/orignal/data-181.wav\n",
      "To: /content/drive/MyDrive/dataset/converted/data-181.wav\n",
      "\n",
      "From: /content/drive/MyDrive/dataset/orignal/data-197.wav\n",
      "To: /content/drive/MyDrive/dataset/converted/data-197.wav\n",
      "\n",
      "From: /content/drive/MyDrive/dataset/orignal/data-184.wav\n",
      "To: /content/drive/MyDrive/dataset/converted/data-184.wav\n",
      "\n",
      "From: /content/drive/MyDrive/dataset/orignal/data-194.wav\n",
      "To: /content/drive/MyDrive/dataset/converted/data-194.wav\n",
      "\n",
      "From: /content/drive/MyDrive/dataset/orignal/data-186.wav\n",
      "To: /content/drive/MyDrive/dataset/converted/data-186.wav\n",
      "\n",
      "From: /content/drive/MyDrive/dataset/orignal/data-195.wav\n",
      "To: /content/drive/MyDrive/dataset/converted/data-195.wav\n",
      "\n",
      "From: /content/drive/MyDrive/dataset/orignal/data-192.wav\n",
      "To: /content/drive/MyDrive/dataset/converted/data-192.wav\n",
      "\n",
      "From: /content/drive/MyDrive/dataset/orignal/data-183.wav\n",
      "To: /content/drive/MyDrive/dataset/converted/data-183.wav\n",
      "\n",
      "From: /content/drive/MyDrive/dataset/orignal/data-182.wav\n",
      "To: /content/drive/MyDrive/dataset/converted/data-182.wav\n",
      "\n",
      "From: /content/drive/MyDrive/dataset/orignal/data-188.wav\n",
      "To: /content/drive/MyDrive/dataset/converted/data-188.wav\n",
      "\n",
      "From: /content/drive/MyDrive/dataset/orignal/data-190.wav\n",
      "To: /content/drive/MyDrive/dataset/converted/data-190.wav\n",
      "\n",
      "From: /content/drive/MyDrive/dataset/orignal/data-196.wav\n",
      "To: /content/drive/MyDrive/dataset/converted/data-196.wav\n",
      "\n",
      "From: /content/drive/MyDrive/dataset/orignal/data-191.wav\n",
      "To: /content/drive/MyDrive/dataset/converted/data-191.wav\n",
      "\n",
      "From: /content/drive/MyDrive/dataset/orignal/data-189.wav\n",
      "To: /content/drive/MyDrive/dataset/converted/data-189.wav\n",
      "\n",
      "From: /content/drive/MyDrive/dataset/orignal/data-187.wav\n",
      "To: /content/drive/MyDrive/dataset/converted/data-187.wav\n",
      "\n",
      "From: /content/drive/MyDrive/dataset/orignal/data-185.wav\n",
      "To: /content/drive/MyDrive/dataset/converted/data-185.wav\n",
      "\n",
      "From: /content/drive/MyDrive/dataset/orignal/data-193.wav\n",
      "To: /content/drive/MyDrive/dataset/converted/data-193.wav\n",
      "\n",
      "From: /content/drive/MyDrive/dataset/orignal/data-205.wav\n",
      "To: /content/drive/MyDrive/dataset/converted/data-205.wav\n",
      "\n",
      "From: /content/drive/MyDrive/dataset/orignal/data-211.wav\n",
      "To: /content/drive/MyDrive/dataset/converted/data-211.wav\n",
      "\n",
      "From: /content/drive/MyDrive/dataset/orignal/data-200.wav\n",
      "To: /content/drive/MyDrive/dataset/converted/data-200.wav\n",
      "\n",
      "From: /content/drive/MyDrive/dataset/orignal/data-208.wav\n",
      "To: /content/drive/MyDrive/dataset/converted/data-208.wav\n",
      "\n",
      "From: /content/drive/MyDrive/dataset/orignal/data-199.wav\n",
      "To: /content/drive/MyDrive/dataset/converted/data-199.wav\n",
      "\n",
      "From: /content/drive/MyDrive/dataset/orignal/data-198.wav\n",
      "To: /content/drive/MyDrive/dataset/converted/data-198.wav\n",
      "\n",
      "From: /content/drive/MyDrive/dataset/orignal/data-206.wav\n",
      "To: /content/drive/MyDrive/dataset/converted/data-206.wav\n",
      "\n",
      "From: /content/drive/MyDrive/dataset/orignal/data-202.wav\n",
      "To: /content/drive/MyDrive/dataset/converted/data-202.wav\n",
      "\n",
      "From: /content/drive/MyDrive/dataset/orignal/data-201.wav\n",
      "To: /content/drive/MyDrive/dataset/converted/data-201.wav\n",
      "\n",
      "From: /content/drive/MyDrive/dataset/orignal/data-212.wav\n",
      "To: /content/drive/MyDrive/dataset/converted/data-212.wav\n",
      "\n",
      "From: /content/drive/MyDrive/dataset/orignal/data-209.wav\n",
      "To: /content/drive/MyDrive/dataset/converted/data-209.wav\n",
      "\n",
      "From: /content/drive/MyDrive/dataset/orignal/data-210.wav\n",
      "To: /content/drive/MyDrive/dataset/converted/data-210.wav\n",
      "\n",
      "From: /content/drive/MyDrive/dataset/orignal/data-203.wav\n",
      "To: /content/drive/MyDrive/dataset/converted/data-203.wav\n",
      "\n",
      "From: /content/drive/MyDrive/dataset/orignal/data-207.wav\n",
      "To: /content/drive/MyDrive/dataset/converted/data-207.wav\n",
      "\n",
      "From: /content/drive/MyDrive/dataset/orignal/data-204.wav\n",
      "To: /content/drive/MyDrive/dataset/converted/data-204.wav\n",
      "\n"
     ]
    }
   ],
   "source": [
    "from pathlib import Path\n",
    "import os\n",
    "import subprocess\n",
    "import soundfile as sf\n",
    "import pyloudnorm as pyln\n",
    "import sys\n",
    "import glob\n",
    "#src = sys.argv[1]\n",
    "rnn = \"/content/rnnoise/examples/rnnoise_demo\"\n",
    "\n",
    "\n",
    "paths = glob.glob(os.path.join(orig_waves, '*.wav'))\n",
    "\n",
    "for filepath in paths:\n",
    "  target_filepath=Path(str(filepath).replace(\"orignal\", \"converted\"))\n",
    "  target_dir=os.path.dirname(target_filepath)\n",
    "  #print(target_filepath)\n",
    "  if (str(filepath) == str(target_filepath)):\n",
    "    raise ValueError(\"Source and target path are identical: \" + str(target_filepath))\n",
    "  print(\"From: \" + str(filepath))\n",
    "  print(\"To: \" + str(target_filepath))\n",
    "\n",
    "# Stereo to Mono; upsample to 48000Hz\n",
    "# added -G to fix gain, -v 0.95\n",
    "  subprocess.run([\"sox\", \"-G\", \"-v\", \"0.95\", filepath, \"48k.wav\", \"remix\", \"-\", \"rate\", \"48000\"])\n",
    "  subprocess.run([\"sox\", \"48k.wav\", \"-c\", \"1\", \"-r\", \"48000\", \"-b\", \"16\", \"-e\", \"signed-integer\", \"-t\", \"raw\", \"temp.raw\"]) # convert wav to raw\n",
    "  subprocess.run([rnn, \"temp.raw\", \"rnn.raw\"]) # apply rnnoise\n",
    "  subprocess.run([\"sox\", \"-G\", \"-v\", \"0.95\", \"-r\", \"48k\", \"-b\", \"16\", \"-e\", \"signed-integer\", \"rnn.raw\", \"-t\", \"wav\", \"rnn.wav\"]) # convert raw back to wav\n",
    "\n",
    "  subprocess.run([\"mkdir\", \"-p\", str(target_dir)])\n",
    "  subprocess.run([\"sox\", \"rnn.wav\", str(target_filepath), \"remix\", \"-\", \"highpass\", \"100\", \"lowpass\", \"7000\", \"rate\", \"22050\"]) # apply high/low pass filter and change sr to 22050Hz\n",
    "  data, rate = sf.read(target_filepath)\n",
    "\n",
    "# peak normalize audio to -1 dB\n",
    "  peak_normalized_audio = pyln.normalize.peak(data, -1.0)\n",
    "\n",
    "# measure the loudness first\n",
    "  meter = pyln.Meter(rate) # create BS.1770 meter\n",
    "  loudness = meter.integrated_loudness(data)\n",
    "\n",
    "# loudness normalize audio to -25 dB LUFS\n",
    "  loudness_normalized_audio = pyln.normalize.loudness(data, loudness, -25.0)\n",
    "  sf.write(target_filepath, data=loudness_normalized_audio, samplerate=22050)\n",
    "  print(\"\")\n"
   ]
  },
  {
   "cell_type": "code",
   "execution_count": null,
   "metadata": {
    "id": "7t1_gM511R09"
   },
   "outputs": [],
   "source": [
    "import pandas as pd\n",
    "import numpy as np\n",
    "from datasets import DatasetDict, Dataset\n",
    "\n",
    "\n",
    "df = pd.DataFrame()\n",
    "\n",
    "lines = []\n",
    "with open('/content/drive/MyDrive/dataset/dataset.txt', 'r', encoding = 'utf-8') as f:\n",
    "  text  = ''.join(f)\n",
    "  lines = text.split('\\n')"
   ]
  },
  {
   "cell_type": "code",
   "execution_count": null,
   "metadata": {
    "id": "WqlBfYbR1Zve"
   },
   "outputs": [],
   "source": [
    "df['data'] = lines[:-1]"
   ]
  },
  {
   "cell_type": "code",
   "execution_count": null,
   "metadata": {
    "colab": {
     "base_uri": "https://localhost:8080/",
     "height": 143
    },
    "id": "CxZ_Ly1G1Zyo",
    "outputId": "b4bfda41-7eac-48e8-b3a7-cd65f6490a29"
   },
   "outputs": [
    {
     "data": {
      "text/html": [
       "\n",
       "\n",
       "  <div id=\"df-7f4ae19b-d054-4295-abe7-1280b1de566a\">\n",
       "    <div class=\"colab-df-container\">\n",
       "      <div>\n",
       "<style scoped>\n",
       "    .dataframe tbody tr th:only-of-type {\n",
       "        vertical-align: middle;\n",
       "    }\n",
       "\n",
       "    .dataframe tbody tr th {\n",
       "        vertical-align: top;\n",
       "    }\n",
       "\n",
       "    .dataframe thead th {\n",
       "        text-align: right;\n",
       "    }\n",
       "</style>\n",
       "<table border=\"1\" class=\"dataframe\">\n",
       "  <thead>\n",
       "    <tr style=\"text-align: right;\">\n",
       "      <th></th>\n",
       "      <th>data</th>\n",
       "    </tr>\n",
       "  </thead>\n",
       "  <tbody>\n",
       "    <tr>\n",
       "      <th>0</th>\n",
       "      <td>data-07|had to.</td>\n",
       "    </tr>\n",
       "    <tr>\n",
       "      <th>1</th>\n",
       "      <td>data-03|As I have seen and lived more life, I'...</td>\n",
       "    </tr>\n",
       "    <tr>\n",
       "      <th>2</th>\n",
       "      <td>data-06|girls that take charge of their own li...</td>\n",
       "    </tr>\n",
       "  </tbody>\n",
       "</table>\n",
       "</div>\n",
       "      <button class=\"colab-df-convert\" onclick=\"convertToInteractive('df-7f4ae19b-d054-4295-abe7-1280b1de566a')\"\n",
       "              title=\"Convert this dataframe to an interactive table.\"\n",
       "              style=\"display:none;\">\n",
       "\n",
       "  <svg xmlns=\"http://www.w3.org/2000/svg\" height=\"24px\"viewBox=\"0 0 24 24\"\n",
       "       width=\"24px\">\n",
       "    <path d=\"M0 0h24v24H0V0z\" fill=\"none\"/>\n",
       "    <path d=\"M18.56 5.44l.94 2.06.94-2.06 2.06-.94-2.06-.94-.94-2.06-.94 2.06-2.06.94zm-11 1L8.5 8.5l.94-2.06 2.06-.94-2.06-.94L8.5 2.5l-.94 2.06-2.06.94zm10 10l.94 2.06.94-2.06 2.06-.94-2.06-.94-.94-2.06-.94 2.06-2.06.94z\"/><path d=\"M17.41 7.96l-1.37-1.37c-.4-.4-.92-.59-1.43-.59-.52 0-1.04.2-1.43.59L10.3 9.45l-7.72 7.72c-.78.78-.78 2.05 0 2.83L4 21.41c.39.39.9.59 1.41.59.51 0 1.02-.2 1.41-.59l7.78-7.78 2.81-2.81c.8-.78.8-2.07 0-2.86zM5.41 20L4 18.59l7.72-7.72 1.47 1.35L5.41 20z\"/>\n",
       "  </svg>\n",
       "      </button>\n",
       "\n",
       "\n",
       "\n",
       "    <div id=\"df-58dad1df-f005-47df-8381-659575c024fb\">\n",
       "      <button class=\"colab-df-quickchart\" onclick=\"quickchart('df-58dad1df-f005-47df-8381-659575c024fb')\"\n",
       "              title=\"Suggest charts.\"\n",
       "              style=\"display:none;\">\n",
       "\n",
       "<svg xmlns=\"http://www.w3.org/2000/svg\" height=\"24px\"viewBox=\"0 0 24 24\"\n",
       "     width=\"24px\">\n",
       "    <g>\n",
       "        <path d=\"M19 3H5c-1.1 0-2 .9-2 2v14c0 1.1.9 2 2 2h14c1.1 0 2-.9 2-2V5c0-1.1-.9-2-2-2zM9 17H7v-7h2v7zm4 0h-2V7h2v10zm4 0h-2v-4h2v4z\"/>\n",
       "    </g>\n",
       "</svg>\n",
       "      </button>\n",
       "    </div>\n",
       "\n",
       "<style>\n",
       "  .colab-df-quickchart {\n",
       "    background-color: #E8F0FE;\n",
       "    border: none;\n",
       "    border-radius: 50%;\n",
       "    cursor: pointer;\n",
       "    display: none;\n",
       "    fill: #1967D2;\n",
       "    height: 32px;\n",
       "    padding: 0 0 0 0;\n",
       "    width: 32px;\n",
       "  }\n",
       "\n",
       "  .colab-df-quickchart:hover {\n",
       "    background-color: #E2EBFA;\n",
       "    box-shadow: 0px 1px 2px rgba(60, 64, 67, 0.3), 0px 1px 3px 1px rgba(60, 64, 67, 0.15);\n",
       "    fill: #174EA6;\n",
       "  }\n",
       "\n",
       "  [theme=dark] .colab-df-quickchart {\n",
       "    background-color: #3B4455;\n",
       "    fill: #D2E3FC;\n",
       "  }\n",
       "\n",
       "  [theme=dark] .colab-df-quickchart:hover {\n",
       "    background-color: #434B5C;\n",
       "    box-shadow: 0px 1px 3px 1px rgba(0, 0, 0, 0.15);\n",
       "    filter: drop-shadow(0px 1px 2px rgba(0, 0, 0, 0.3));\n",
       "    fill: #FFFFFF;\n",
       "  }\n",
       "</style>\n",
       "\n",
       "    <script>\n",
       "      async function quickchart(key) {\n",
       "        const containerElement = document.querySelector('#' + key);\n",
       "        const charts = await google.colab.kernel.invokeFunction(\n",
       "            'suggestCharts', [key], {});\n",
       "      }\n",
       "    </script>\n",
       "\n",
       "      <script>\n",
       "\n",
       "function displayQuickchartButton(domScope) {\n",
       "  let quickchartButtonEl =\n",
       "    domScope.querySelector('#df-58dad1df-f005-47df-8381-659575c024fb button.colab-df-quickchart');\n",
       "  quickchartButtonEl.style.display =\n",
       "    google.colab.kernel.accessAllowed ? 'block' : 'none';\n",
       "}\n",
       "\n",
       "        displayQuickchartButton(document);\n",
       "      </script>\n",
       "      <style>\n",
       "    .colab-df-container {\n",
       "      display:flex;\n",
       "      flex-wrap:wrap;\n",
       "      gap: 12px;\n",
       "    }\n",
       "\n",
       "    .colab-df-convert {\n",
       "      background-color: #E8F0FE;\n",
       "      border: none;\n",
       "      border-radius: 50%;\n",
       "      cursor: pointer;\n",
       "      display: none;\n",
       "      fill: #1967D2;\n",
       "      height: 32px;\n",
       "      padding: 0 0 0 0;\n",
       "      width: 32px;\n",
       "    }\n",
       "\n",
       "    .colab-df-convert:hover {\n",
       "      background-color: #E2EBFA;\n",
       "      box-shadow: 0px 1px 2px rgba(60, 64, 67, 0.3), 0px 1px 3px 1px rgba(60, 64, 67, 0.15);\n",
       "      fill: #174EA6;\n",
       "    }\n",
       "\n",
       "    [theme=dark] .colab-df-convert {\n",
       "      background-color: #3B4455;\n",
       "      fill: #D2E3FC;\n",
       "    }\n",
       "\n",
       "    [theme=dark] .colab-df-convert:hover {\n",
       "      background-color: #434B5C;\n",
       "      box-shadow: 0px 1px 3px 1px rgba(0, 0, 0, 0.15);\n",
       "      filter: drop-shadow(0px 1px 2px rgba(0, 0, 0, 0.3));\n",
       "      fill: #FFFFFF;\n",
       "    }\n",
       "  </style>\n",
       "\n",
       "      <script>\n",
       "        const buttonEl =\n",
       "          document.querySelector('#df-7f4ae19b-d054-4295-abe7-1280b1de566a button.colab-df-convert');\n",
       "        buttonEl.style.display =\n",
       "          google.colab.kernel.accessAllowed ? 'block' : 'none';\n",
       "\n",
       "        async function convertToInteractive(key) {\n",
       "          const element = document.querySelector('#df-7f4ae19b-d054-4295-abe7-1280b1de566a');\n",
       "          const dataTable =\n",
       "            await google.colab.kernel.invokeFunction('convertToInteractive',\n",
       "                                                     [key], {});\n",
       "          if (!dataTable) return;\n",
       "\n",
       "          const docLinkHtml = 'Like what you see? Visit the ' +\n",
       "            '<a target=\"_blank\" href=https://colab.research.google.com/notebooks/data_table.ipynb>data table notebook</a>'\n",
       "            + ' to learn more about interactive tables.';\n",
       "          element.innerHTML = '';\n",
       "          dataTable['output_type'] = 'display_data';\n",
       "          await google.colab.output.renderOutput(dataTable, element);\n",
       "          const docLink = document.createElement('div');\n",
       "          docLink.innerHTML = docLinkHtml;\n",
       "          element.appendChild(docLink);\n",
       "        }\n",
       "      </script>\n",
       "    </div>\n",
       "  </div>\n"
      ],
      "text/plain": [
       "                                                data\n",
       "0                                    data-07|had to.\n",
       "1  data-03|As I have seen and lived more life, I'...\n",
       "2  data-06|girls that take charge of their own li..."
      ]
     },
     "execution_count": 17,
     "metadata": {},
     "output_type": "execute_result"
    }
   ],
   "source": [
    "df.head(3)"
   ]
  },
  {
   "cell_type": "code",
   "execution_count": null,
   "metadata": {
    "colab": {
     "base_uri": "https://localhost:8080/"
    },
    "id": "qTI67OVV1Z1d",
    "outputId": "5d475131-e8f2-4aae-8c17-e4698cbffa62"
   },
   "outputs": [
    {
     "data": {
      "text/plain": [
       "Dataset({\n",
       "    features: ['data'],\n",
       "    num_rows: 212\n",
       "})"
      ]
     },
     "execution_count": 18,
     "metadata": {},
     "output_type": "execute_result"
    }
   ],
   "source": [
    "datasets = Dataset.from_pandas(df)\n",
    "datasets"
   ]
  },
  {
   "cell_type": "code",
   "execution_count": null,
   "metadata": {
    "id": "3i2EIHC91Z4P"
   },
   "outputs": [],
   "source": [
    "final = []\n",
    "def process(data):\n",
    "  # if len(data['data']) == 2:\n",
    "  audio_path = data['data'].split('|')[0]\n",
    "  dialogue = data['data'].split('|')[1]\n",
    "  speaker = 'priyanka'\n",
    "\n",
    "  final = f\"{audio_path}|{speaker}|{dialogue}\"\n",
    "  return {\n",
    "      'final_data' : final\n",
    "  }"
   ]
  },
  {
   "cell_type": "code",
   "execution_count": null,
   "metadata": {
    "colab": {
     "base_uri": "https://localhost:8080/",
     "height": 86,
     "referenced_widgets": [
      "f9af0cb7608246ef96e8eb8cd9af8b42",
      "623dbe05c37c4499abf4dff0a772dff1",
      "748ed84f75c9490ab438f43933b5bd72",
      "a4d1a5ad6ee045a08551624ce598675e",
      "503fdffb7deb425a842f30aa625eb93b",
      "93217244974540a5a93a812531f2fd63",
      "6f50427e02564d2a983b7cf420b3709d",
      "245a66dda5754ba4a5fa5a3d63e79185",
      "0ffdc3c9bc9b4b9c83183a6fa054c32c",
      "073f12c2f5f148d5abbd7239810888d7",
      "4ea69e4f9c6e481f9a84c571041da1dd"
     ]
    },
    "id": "E-zS4JBu1Z6Z",
    "outputId": "686b1465-4e82-4c81-d9b4-839d4825c01c"
   },
   "outputs": [
    {
     "data": {
      "application/vnd.jupyter.widget-view+json": {
       "model_id": "f9af0cb7608246ef96e8eb8cd9af8b42",
       "version_major": 2,
       "version_minor": 0
      },
      "text/plain": [
       "Map:   0%|          | 0/212 [00:00<?, ? examples/s]"
      ]
     },
     "metadata": {},
     "output_type": "display_data"
    },
    {
     "data": {
      "text/plain": [
       "Dataset({\n",
       "    features: ['final_data'],\n",
       "    num_rows: 212\n",
       "})"
      ]
     },
     "execution_count": 20,
     "metadata": {},
     "output_type": "execute_result"
    }
   ],
   "source": [
    "final_dataset = datasets.map(process, batched = False, remove_columns = ['data'])\n",
    "final_dataset"
   ]
  },
  {
   "cell_type": "code",
   "execution_count": null,
   "metadata": {
    "id": "D0Vxp2ek1Z8x"
   },
   "outputs": [],
   "source": [
    "df_final = pd.DataFrame()\n",
    "df_final['inp'] = final_dataset['final_data']\n",
    "df_final.to_csv('/content/drive/MyDrive/dataset/metadata.csv', index = False)\n",
    "df_final.to_csv('metadata.csv', index = False)"
   ]
  },
  {
   "cell_type": "code",
   "execution_count": null,
   "metadata": {
    "colab": {
     "base_uri": "https://localhost:8080/",
     "height": 206
    },
    "id": "Cwqgx56J1Z_J",
    "outputId": "baad3b75-d359-4e17-cd0e-94fb22cdf999"
   },
   "outputs": [
    {
     "data": {
      "text/html": [
       "\n",
       "\n",
       "  <div id=\"df-9ebf2aec-0f8e-4424-82f7-1e2b2a2d55d6\">\n",
       "    <div class=\"colab-df-container\">\n",
       "      <div>\n",
       "<style scoped>\n",
       "    .dataframe tbody tr th:only-of-type {\n",
       "        vertical-align: middle;\n",
       "    }\n",
       "\n",
       "    .dataframe tbody tr th {\n",
       "        vertical-align: top;\n",
       "    }\n",
       "\n",
       "    .dataframe thead th {\n",
       "        text-align: right;\n",
       "    }\n",
       "</style>\n",
       "<table border=\"1\" class=\"dataframe\">\n",
       "  <thead>\n",
       "    <tr style=\"text-align: right;\">\n",
       "      <th></th>\n",
       "      <th>inp</th>\n",
       "    </tr>\n",
       "  </thead>\n",
       "  <tbody>\n",
       "    <tr>\n",
       "      <th>0</th>\n",
       "      <td>data-07|priyanka|had to.</td>\n",
       "    </tr>\n",
       "    <tr>\n",
       "      <th>1</th>\n",
       "      <td>data-03|priyanka|As I have seen and lived more...</td>\n",
       "    </tr>\n",
       "    <tr>\n",
       "      <th>2</th>\n",
       "      <td>data-06|priyanka|girls that take charge of the...</td>\n",
       "    </tr>\n",
       "    <tr>\n",
       "      <th>3</th>\n",
       "      <td>data-05|priyanka|feeling rejuvenated, feeling ...</td>\n",
       "    </tr>\n",
       "    <tr>\n",
       "      <th>4</th>\n",
       "      <td>data-02|priyanka|one time, you know, five shif...</td>\n",
       "    </tr>\n",
       "  </tbody>\n",
       "</table>\n",
       "</div>\n",
       "      <button class=\"colab-df-convert\" onclick=\"convertToInteractive('df-9ebf2aec-0f8e-4424-82f7-1e2b2a2d55d6')\"\n",
       "              title=\"Convert this dataframe to an interactive table.\"\n",
       "              style=\"display:none;\">\n",
       "\n",
       "  <svg xmlns=\"http://www.w3.org/2000/svg\" height=\"24px\"viewBox=\"0 0 24 24\"\n",
       "       width=\"24px\">\n",
       "    <path d=\"M0 0h24v24H0V0z\" fill=\"none\"/>\n",
       "    <path d=\"M18.56 5.44l.94 2.06.94-2.06 2.06-.94-2.06-.94-.94-2.06-.94 2.06-2.06.94zm-11 1L8.5 8.5l.94-2.06 2.06-.94-2.06-.94L8.5 2.5l-.94 2.06-2.06.94zm10 10l.94 2.06.94-2.06 2.06-.94-2.06-.94-.94-2.06-.94 2.06-2.06.94z\"/><path d=\"M17.41 7.96l-1.37-1.37c-.4-.4-.92-.59-1.43-.59-.52 0-1.04.2-1.43.59L10.3 9.45l-7.72 7.72c-.78.78-.78 2.05 0 2.83L4 21.41c.39.39.9.59 1.41.59.51 0 1.02-.2 1.41-.59l7.78-7.78 2.81-2.81c.8-.78.8-2.07 0-2.86zM5.41 20L4 18.59l7.72-7.72 1.47 1.35L5.41 20z\"/>\n",
       "  </svg>\n",
       "      </button>\n",
       "\n",
       "\n",
       "\n",
       "    <div id=\"df-ef1643fd-8705-4f31-a4ad-d8fe9dc1ae6e\">\n",
       "      <button class=\"colab-df-quickchart\" onclick=\"quickchart('df-ef1643fd-8705-4f31-a4ad-d8fe9dc1ae6e')\"\n",
       "              title=\"Suggest charts.\"\n",
       "              style=\"display:none;\">\n",
       "\n",
       "<svg xmlns=\"http://www.w3.org/2000/svg\" height=\"24px\"viewBox=\"0 0 24 24\"\n",
       "     width=\"24px\">\n",
       "    <g>\n",
       "        <path d=\"M19 3H5c-1.1 0-2 .9-2 2v14c0 1.1.9 2 2 2h14c1.1 0 2-.9 2-2V5c0-1.1-.9-2-2-2zM9 17H7v-7h2v7zm4 0h-2V7h2v10zm4 0h-2v-4h2v4z\"/>\n",
       "    </g>\n",
       "</svg>\n",
       "      </button>\n",
       "    </div>\n",
       "\n",
       "<style>\n",
       "  .colab-df-quickchart {\n",
       "    background-color: #E8F0FE;\n",
       "    border: none;\n",
       "    border-radius: 50%;\n",
       "    cursor: pointer;\n",
       "    display: none;\n",
       "    fill: #1967D2;\n",
       "    height: 32px;\n",
       "    padding: 0 0 0 0;\n",
       "    width: 32px;\n",
       "  }\n",
       "\n",
       "  .colab-df-quickchart:hover {\n",
       "    background-color: #E2EBFA;\n",
       "    box-shadow: 0px 1px 2px rgba(60, 64, 67, 0.3), 0px 1px 3px 1px rgba(60, 64, 67, 0.15);\n",
       "    fill: #174EA6;\n",
       "  }\n",
       "\n",
       "  [theme=dark] .colab-df-quickchart {\n",
       "    background-color: #3B4455;\n",
       "    fill: #D2E3FC;\n",
       "  }\n",
       "\n",
       "  [theme=dark] .colab-df-quickchart:hover {\n",
       "    background-color: #434B5C;\n",
       "    box-shadow: 0px 1px 3px 1px rgba(0, 0, 0, 0.15);\n",
       "    filter: drop-shadow(0px 1px 2px rgba(0, 0, 0, 0.3));\n",
       "    fill: #FFFFFF;\n",
       "  }\n",
       "</style>\n",
       "\n",
       "    <script>\n",
       "      async function quickchart(key) {\n",
       "        const containerElement = document.querySelector('#' + key);\n",
       "        const charts = await google.colab.kernel.invokeFunction(\n",
       "            'suggestCharts', [key], {});\n",
       "      }\n",
       "    </script>\n",
       "\n",
       "      <script>\n",
       "\n",
       "function displayQuickchartButton(domScope) {\n",
       "  let quickchartButtonEl =\n",
       "    domScope.querySelector('#df-ef1643fd-8705-4f31-a4ad-d8fe9dc1ae6e button.colab-df-quickchart');\n",
       "  quickchartButtonEl.style.display =\n",
       "    google.colab.kernel.accessAllowed ? 'block' : 'none';\n",
       "}\n",
       "\n",
       "        displayQuickchartButton(document);\n",
       "      </script>\n",
       "      <style>\n",
       "    .colab-df-container {\n",
       "      display:flex;\n",
       "      flex-wrap:wrap;\n",
       "      gap: 12px;\n",
       "    }\n",
       "\n",
       "    .colab-df-convert {\n",
       "      background-color: #E8F0FE;\n",
       "      border: none;\n",
       "      border-radius: 50%;\n",
       "      cursor: pointer;\n",
       "      display: none;\n",
       "      fill: #1967D2;\n",
       "      height: 32px;\n",
       "      padding: 0 0 0 0;\n",
       "      width: 32px;\n",
       "    }\n",
       "\n",
       "    .colab-df-convert:hover {\n",
       "      background-color: #E2EBFA;\n",
       "      box-shadow: 0px 1px 2px rgba(60, 64, 67, 0.3), 0px 1px 3px 1px rgba(60, 64, 67, 0.15);\n",
       "      fill: #174EA6;\n",
       "    }\n",
       "\n",
       "    [theme=dark] .colab-df-convert {\n",
       "      background-color: #3B4455;\n",
       "      fill: #D2E3FC;\n",
       "    }\n",
       "\n",
       "    [theme=dark] .colab-df-convert:hover {\n",
       "      background-color: #434B5C;\n",
       "      box-shadow: 0px 1px 3px 1px rgba(0, 0, 0, 0.15);\n",
       "      filter: drop-shadow(0px 1px 2px rgba(0, 0, 0, 0.3));\n",
       "      fill: #FFFFFF;\n",
       "    }\n",
       "  </style>\n",
       "\n",
       "      <script>\n",
       "        const buttonEl =\n",
       "          document.querySelector('#df-9ebf2aec-0f8e-4424-82f7-1e2b2a2d55d6 button.colab-df-convert');\n",
       "        buttonEl.style.display =\n",
       "          google.colab.kernel.accessAllowed ? 'block' : 'none';\n",
       "\n",
       "        async function convertToInteractive(key) {\n",
       "          const element = document.querySelector('#df-9ebf2aec-0f8e-4424-82f7-1e2b2a2d55d6');\n",
       "          const dataTable =\n",
       "            await google.colab.kernel.invokeFunction('convertToInteractive',\n",
       "                                                     [key], {});\n",
       "          if (!dataTable) return;\n",
       "\n",
       "          const docLinkHtml = 'Like what you see? Visit the ' +\n",
       "            '<a target=\"_blank\" href=https://colab.research.google.com/notebooks/data_table.ipynb>data table notebook</a>'\n",
       "            + ' to learn more about interactive tables.';\n",
       "          element.innerHTML = '';\n",
       "          dataTable['output_type'] = 'display_data';\n",
       "          await google.colab.output.renderOutput(dataTable, element);\n",
       "          const docLink = document.createElement('div');\n",
       "          docLink.innerHTML = docLinkHtml;\n",
       "          element.appendChild(docLink);\n",
       "        }\n",
       "      </script>\n",
       "    </div>\n",
       "  </div>\n"
      ],
      "text/plain": [
       "                                                 inp\n",
       "0                           data-07|priyanka|had to.\n",
       "1  data-03|priyanka|As I have seen and lived more...\n",
       "2  data-06|priyanka|girls that take charge of the...\n",
       "3  data-05|priyanka|feeling rejuvenated, feeling ...\n",
       "4  data-02|priyanka|one time, you know, five shif..."
      ]
     },
     "execution_count": 22,
     "metadata": {},
     "output_type": "execute_result"
    }
   ],
   "source": [
    "df = pd.read_csv('/content/drive/MyDrive/dataset/metadata.csv')\n",
    "df.head(5)"
   ]
  },
  {
   "cell_type": "code",
   "execution_count": null,
   "metadata": {
    "colab": {
     "base_uri": "https://localhost:8080/"
    },
    "id": "2WM8vyCd1aBr",
    "outputId": "ab786b60-096f-4bce-8ff7-6f5eda102cb0"
   },
   "outputs": [
    {
     "name": "stdout",
     "output_type": "stream",
     "text": [
      "/content/TTS/TTS/tts/configs\n",
      "/content\n"
     ]
    }
   ],
   "source": [
    "import os\n",
    "%cd /content/TTS/TTS/tts/configs\n",
    "# BaseDatasetConfig: defines name, formatter and path of the dataset.\n",
    "from shared_configs import BaseDatasetConfig\n",
    "%cd /content/\n",
    "\n",
    "output_path = \"/content/drive/MyDrive/dataset/cloned\"\n",
    "if not os.path.exists(output_path):\n",
    "    os.makedirs(output_path)"
   ]
  },
  {
   "cell_type": "code",
   "execution_count": null,
   "metadata": {
    "id": "XWWv-upo1aGH"
   },
   "outputs": [],
   "source": [
    "dataset_name = 'orignal/'"
   ]
  },
  {
   "cell_type": "code",
   "execution_count": null,
   "metadata": {
    "id": "b6d1T0hxmbyk"
   },
   "outputs": [],
   "source": [
    "root_path = '/content/drive/MyDrive/dataset/converted'\n",
    "meta_file = '/content/drive/MyDrive/dataset/metadata.csv'"
   ]
  },
  {
   "cell_type": "code",
   "execution_count": null,
   "metadata": {
    "id": "UjKzzf9bc97Y"
   },
   "outputs": [],
   "source": [
    "code = '''\n",
    "import os\n",
    "import re\n",
    "import xml.etree.ElementTree as ET\n",
    "from glob import glob\n",
    "from pathlib import Path\n",
    "from typing import List\n",
    "\n",
    "import pandas as pd\n",
    "from tqdm import tqdm\n",
    "\n",
    "########################\n",
    "# DATASETS\n",
    "########################\n",
    "\n",
    "\n",
    "def coqui(root_path, meta_file, ignored_speakers=None):\n",
    "    \"\"\"Interal dataset formatter.\"\"\"\n",
    "    filepath = os.path.join(root_path, meta_file)\n",
    "    # ensure there are 4 columns for every line\n",
    "    with open(filepath, \"r\", encoding=\"utf8\") as f:\n",
    "        lines = f.readlines()\n",
    "    num_cols = len(lines[0].split(\"|\"))  # take the first row as reference\n",
    "    for idx, line in enumerate(lines[1:]):\n",
    "        if len(line.split(\"|\")) != num_cols:\n",
    "            print(f\" > Missing column in line {idx + 1} -> {line.strip()}\")\n",
    "    # load metadata\n",
    "    metadata = pd.read_csv(os.path.join(root_path, meta_file), sep=\"|\")\n",
    "    assert all(x in metadata.columns for x in [\"audio_file\", \"text\"])\n",
    "    speaker_name = None if \"speaker_name\" in metadata.columns else \"coqui\"\n",
    "    emotion_name = None if \"emotion_name\" in metadata.columns else \"neutral\"\n",
    "    items = []\n",
    "    not_found_counter = 0\n",
    "    for row in metadata.itertuples():\n",
    "        if speaker_name is None and ignored_speakers is not None and row.speaker_name in ignored_speakers:\n",
    "            continue\n",
    "        audio_path = os.path.join(root_path, row.audio_file)\n",
    "        if not os.path.exists(audio_path):\n",
    "            not_found_counter += 1\n",
    "            continue\n",
    "        items.append(\n",
    "            {\n",
    "                \"text\": row.text,\n",
    "                \"audio_file\": audio_path,\n",
    "                \"speaker_name\": speaker_name if speaker_name is not None else row.speaker_name,\n",
    "                \"emotion_name\": emotion_name if emotion_name is not None else row.emotion_name,\n",
    "                \"root_path\": root_path,\n",
    "            }\n",
    "        )\n",
    "    if not_found_counter > 0:\n",
    "        print(f\" | > [!] {not_found_counter} files not found\")\n",
    "    return items\n",
    "\n",
    "\n",
    "def tweb(root_path, meta_file, **kwargs):  # pylint: disable=unused-argument\n",
    "    \"\"\"Normalize TWEB dataset.\n",
    "    https://www.kaggle.com/bryanpark/the-world-english-bible-speech-dataset\n",
    "    \"\"\"\n",
    "    txt_file = os.path.join(root_path, meta_file)\n",
    "    items = []\n",
    "    speaker_name = \"tweb\"\n",
    "    with open(txt_file, \"r\", encoding=\"utf-8\") as ttf:\n",
    "        for line in ttf:\n",
    "            cols = line.split(\"\\t\")\n",
    "            wav_file = os.path.join(root_path, cols[0] + \".wav\")\n",
    "            text = cols[1]\n",
    "            items.append({\"text\": text, \"audio_file\": wav_file, \"speaker_name\": speaker_name, \"root_path\": root_path})\n",
    "    return items\n",
    "\n",
    "\n",
    "def mozilla(root_path, meta_file, **kwargs):  # pylint: disable=unused-argument\n",
    "    \"\"\"Normalizes Mozilla meta data files to TTS format\"\"\"\n",
    "    txt_file = os.path.join(root_path, meta_file)\n",
    "    items = []\n",
    "    speaker_name = \"mozilla\"\n",
    "    with open(txt_file, \"r\", encoding=\"utf-8\") as ttf:\n",
    "        for line in ttf:\n",
    "            cols = line.split(\"|\")\n",
    "            wav_file = cols[1].strip()\n",
    "            text = cols[0].strip()\n",
    "            wav_file = os.path.join(root_path, \"wavs\", wav_file)\n",
    "            items.append({\"text\": text, \"audio_file\": wav_file, \"speaker_name\": speaker_name, \"root_path\": root_path})\n",
    "    return items\n",
    "\n",
    "\n",
    "def mozilla_de(root_path, meta_file, **kwargs):  # pylint: disable=unused-argument\n",
    "    \"\"\"Normalizes Mozilla meta data files to TTS format\"\"\"\n",
    "    txt_file = os.path.join(root_path, meta_file)\n",
    "    items = []\n",
    "    speaker_name = \"mozilla\"\n",
    "    with open(txt_file, \"r\", encoding=\"ISO 8859-1\") as ttf:\n",
    "        for line in ttf:\n",
    "            cols = line.strip().split(\"|\")\n",
    "            wav_file = cols[0].strip()\n",
    "            text = cols[1].strip()\n",
    "            folder_name = f\"BATCH_{wav_file.split('_')[0]}_FINAL\"\n",
    "            wav_file = os.path.join(root_path, folder_name, wav_file)\n",
    "            items.append({\"text\": text, \"audio_file\": wav_file, \"speaker_name\": speaker_name, \"root_path\": root_path})\n",
    "    return items\n",
    "\n",
    "\n",
    "def mailabs(root_path, meta_files=None, ignored_speakers=None):\n",
    "    \"\"\"Normalizes M-AI-Labs meta data files to TTS format\n",
    "\n",
    "    Args:\n",
    "        root_path (str): root folder of the MAILAB language folder.\n",
    "        meta_files (str):  list of meta files to be used in the training. If None, finds all the csv files\n",
    "            recursively. Defaults to None\n",
    "    \"\"\"\n",
    "    speaker_regex = re.compile(f\"by_book{os.sep}(male|female){os.sep}(?P<speaker_name>[^{os.sep}]+){os.sep}\")\n",
    "    if not meta_files:\n",
    "        csv_files = glob(root_path + f\"{os.sep}**{os.sep}metadata.csv\", recursive=True)\n",
    "    else:\n",
    "        csv_files = meta_files\n",
    "\n",
    "    # meta_files = [f.strip() for f in meta_files.split(\",\")]\n",
    "    items = []\n",
    "    for csv_file in csv_files:\n",
    "        if os.path.isfile(csv_file):\n",
    "            txt_file = csv_file\n",
    "        else:\n",
    "            txt_file = os.path.join(root_path, csv_file)\n",
    "\n",
    "        folder = os.path.dirname(txt_file)\n",
    "        # determine speaker based on folder structure...\n",
    "        speaker_name_match = speaker_regex.search(txt_file)\n",
    "        if speaker_name_match is None:\n",
    "            continue\n",
    "        speaker_name = speaker_name_match.group(\"speaker_name\")\n",
    "        # ignore speakers\n",
    "        if isinstance(ignored_speakers, list):\n",
    "            if speaker_name in ignored_speakers:\n",
    "                continue\n",
    "        print(\" | > {}\".format(csv_file))\n",
    "        with open(txt_file, \"r\", encoding=\"utf-8\") as ttf:\n",
    "            for line in ttf:\n",
    "                cols = line.split(\"|\")\n",
    "                if not meta_files:\n",
    "                    wav_file = os.path.join(folder, \"wavs\", cols[0] + \".wav\")\n",
    "                else:\n",
    "                    wav_file = os.path.join(root_path, folder.replace(\"metadata.csv\", \"\"), \"wavs\", cols[0] + \".wav\")\n",
    "                if os.path.isfile(wav_file):\n",
    "                    text = cols[1].strip()\n",
    "                    items.append(\n",
    "                        {\"text\": text, \"audio_file\": wav_file, \"speaker_name\": speaker_name, \"root_path\": root_path}\n",
    "                    )\n",
    "                else:\n",
    "                    # M-AI-Labs have some missing samples, so just print the warning\n",
    "                    print(\"> File %s does not exist!\" % (wav_file))\n",
    "    return items\n",
    "\n",
    "\n",
    "def ljspeech(root_path, meta_file, **kwargs):  # pylint: disable=unused-argument\n",
    "    \"\"\"Normalizes the LJSpeech meta data file to TTS format\n",
    "    https://keithito.com/LJ-Speech-Dataset/\"\"\"\n",
    "    txt_file = os.path.join(root_path, meta_file)\n",
    "    items = []\n",
    "    speaker_name = \"ljspeech\"\n",
    "    with open(txt_file, \"r\", encoding=\"utf-8\") as ttf:\n",
    "        for line in ttf:\n",
    "            cols = line.split(\"|\")\n",
    "            wav_file = os.path.join(root_path, \"wavs\", cols[0] + \".wav\")\n",
    "            text = cols[2]\n",
    "            items.append({\"text\": text, \"audio_file\": wav_file, \"speaker_name\": speaker_name, \"root_path\": root_path})\n",
    "    return items\n",
    "\n",
    "\n",
    "###############################################################################\n",
    "###############################################################################\n",
    "\n",
    "# custom formatter\n",
    "def custom_formatter(root_path, meta_file, **kwargs):\n",
    "    df  = pd.read_csv(meta_file)\n",
    "    items = []\n",
    "    speaker_name = \"custom_formatter\"\n",
    "    for line in df['inp']:\n",
    "        cols = line.split(\"|\")\n",
    "        wav_file = os.path.join(root_path, cols[0].replace(\" \", \"\") + \".wav\")\n",
    "        print(wav_file)\n",
    "        text = cols[2].replace(/[!@#$%^&*]/g, \"\")\n",
    "        items.append({\"text\":text, \"audio_file\":wav_file, \"speaker_name\":speaker_name, \"root_path\": root_path})\n",
    "    return items\n",
    "\n",
    "###############################################################################\n",
    "###############################################################################\n",
    "\n",
    "\n",
    "def ljspeech_test(root_path, meta_file, **kwargs):  # pylint: disable=unused-argument\n",
    "    \"\"\"Normalizes the LJSpeech meta data file for TTS testing\n",
    "    https://keithito.com/LJ-Speech-Dataset/\"\"\"\n",
    "    txt_file = os.path.join(root_path, meta_file)\n",
    "    items = []\n",
    "    with open(txt_file, \"r\", encoding=\"utf-8\") as ttf:\n",
    "        speaker_id = 0\n",
    "        for idx, line in enumerate(ttf):\n",
    "            # 2 samples per speaker to avoid eval split issues\n",
    "            if idx % 2 == 0:\n",
    "                speaker_id += 1\n",
    "            cols = line.split(\"|\")\n",
    "            wav_file = os.path.join(root_path, \"wavs\", cols[0] + \".wav\")\n",
    "            text = cols[2]\n",
    "            items.append(\n",
    "                {\"text\": text, \"audio_file\": wav_file, \"speaker_name\": f\"ljspeech-{speaker_id}\", \"root_path\": root_path}\n",
    "            )\n",
    "    return items\n",
    "\n",
    "\n",
    "def thorsten(root_path, meta_file, **kwargs):  # pylint: disable=unused-argument\n",
    "    \"\"\"Normalizes the thorsten meta data file to TTS format\n",
    "    https://github.com/thorstenMueller/deep-learning-german-tts/\"\"\"\n",
    "    txt_file = os.path.join(root_path, meta_file)\n",
    "    items = []\n",
    "    speaker_name = \"thorsten\"\n",
    "    with open(txt_file, \"r\", encoding=\"utf-8\") as ttf:\n",
    "        for line in ttf:\n",
    "            cols = line.split(\"|\")\n",
    "            wav_file = os.path.join(root_path, \"wavs\", cols[0] + \".wav\")\n",
    "            text = cols[1]\n",
    "            items.append({\"text\": text, \"audio_file\": wav_file, \"speaker_name\": speaker_name, \"root_path\": root_path})\n",
    "    return items\n",
    "\n",
    "\n",
    "def sam_accenture(root_path, meta_file, **kwargs):  # pylint: disable=unused-argument\n",
    "    \"\"\"Normalizes the sam-accenture meta data file to TTS format\n",
    "    https://github.com/Sam-Accenture-Non-Binary-Voice/non-binary-voice-files\"\"\"\n",
    "    xml_file = os.path.join(root_path, \"voice_over_recordings\", meta_file)\n",
    "    xml_root = ET.parse(xml_file).getroot()\n",
    "    items = []\n",
    "    speaker_name = \"sam_accenture\"\n",
    "    for item in xml_root.findall(\"./fileid\"):\n",
    "        text = item.text\n",
    "        wav_file = os.path.join(root_path, \"vo_voice_quality_transformation\", item.get(\"id\") + \".wav\")\n",
    "        if not os.path.exists(wav_file):\n",
    "            print(f\" [!] {wav_file} in metafile does not exist. Skipping...\")\n",
    "            continue\n",
    "        items.append({\"text\": text, \"audio_file\": wav_file, \"speaker_name\": speaker_name, \"root_path\": root_path})\n",
    "    return items\n",
    "\n",
    "\n",
    "def ruslan(root_path, meta_file, **kwargs):  # pylint: disable=unused-argument\n",
    "    \"\"\"Normalizes the RUSLAN meta data file to TTS format\n",
    "    https://ruslan-corpus.github.io/\"\"\"\n",
    "    txt_file = os.path.join(root_path, meta_file)\n",
    "    items = []\n",
    "    speaker_name = \"ruslan\"\n",
    "    with open(txt_file, \"r\", encoding=\"utf-8\") as ttf:\n",
    "        for line in ttf:\n",
    "            cols = line.split(\"|\")\n",
    "            wav_file = os.path.join(root_path, \"RUSLAN\", cols[0] + \".wav\")\n",
    "            text = cols[1]\n",
    "            items.append({\"text\": text, \"audio_file\": wav_file, \"speaker_name\": speaker_name, \"root_path\": root_path})\n",
    "    return items\n",
    "\n",
    "\n",
    "def css10(root_path, meta_file, **kwargs):  # pylint: disable=unused-argument\n",
    "    \"\"\"Normalizes the CSS10 dataset file to TTS format\"\"\"\n",
    "    txt_file = os.path.join(root_path, meta_file)\n",
    "    items = []\n",
    "    speaker_name = \"css10\"\n",
    "    with open(txt_file, \"r\", encoding=\"utf-8\") as ttf:\n",
    "        for line in ttf:\n",
    "            cols = line.split(\"|\")\n",
    "            wav_file = os.path.join(root_path, cols[0])\n",
    "            text = cols[1]\n",
    "            items.append({\"text\": text, \"audio_file\": wav_file, \"speaker_name\": speaker_name})\n",
    "    return items\n",
    "\n",
    "\n",
    "def nancy(root_path, meta_file, **kwargs):  # pylint: disable=unused-argument\n",
    "    \"\"\"Normalizes the Nancy meta data file to TTS format\"\"\"\n",
    "    txt_file = os.path.join(root_path, meta_file)\n",
    "    items = []\n",
    "    speaker_name = \"nancy\"\n",
    "    with open(txt_file, \"r\", encoding=\"utf-8\") as ttf:\n",
    "        for line in ttf:\n",
    "            utt_id = line.split()[1]\n",
    "            text = line[line.find('\"') + 1 : line.rfind('\"') - 1]\n",
    "            wav_file = os.path.join(root_path, \"wavn\", utt_id + \".wav\")\n",
    "            items.append({\"text\": text, \"audio_file\": wav_file, \"speaker_name\": speaker_name})\n",
    "    return items\n",
    "\n",
    "\n",
    "def common_voice(root_path, meta_file, ignored_speakers=None):\n",
    "    \"\"\"Normalize the common voice meta data file to TTS format.\"\"\"\n",
    "    txt_file = os.path.join(root_path, meta_file)\n",
    "    items = []\n",
    "    with open(txt_file, \"r\", encoding=\"utf-8\") as ttf:\n",
    "        for line in ttf:\n",
    "            if line.startswith(\"client_id\"):\n",
    "                continue\n",
    "            cols = line.split(\"\\t\")\n",
    "            text = cols[2]\n",
    "            speaker_name = cols[0]\n",
    "            # ignore speakers\n",
    "            if isinstance(ignored_speakers, list):\n",
    "                if speaker_name in ignored_speakers:\n",
    "                    continue\n",
    "            wav_file = os.path.join(root_path, \"clips\", cols[1].replace(\".mp3\", \".wav\"))\n",
    "            items.append(\n",
    "                {\"text\": text, \"audio_file\": wav_file, \"speaker_name\": \"MCV_\" + speaker_name, \"root_path\": root_path}\n",
    "            )\n",
    "    return items\n",
    "\n",
    "\n",
    "def libri_tts(root_path, meta_files=None, ignored_speakers=None):\n",
    "    \"\"\"https://ai.google/tools/datasets/libri-tts/\"\"\"\n",
    "    items = []\n",
    "    if not meta_files:\n",
    "        meta_files = glob(f\"{root_path}/**/*trans.tsv\", recursive=True)\n",
    "    else:\n",
    "        if isinstance(meta_files, str):\n",
    "            meta_files = [os.path.join(root_path, meta_files)]\n",
    "\n",
    "    for meta_file in meta_files:\n",
    "        _meta_file = os.path.basename(meta_file).split(\".\")[0]\n",
    "        with open(meta_file, \"r\", encoding=\"utf-8\") as ttf:\n",
    "            for line in ttf:\n",
    "                cols = line.split(\"\\t\")\n",
    "                file_name = cols[0]\n",
    "                speaker_name, chapter_id, *_ = cols[0].split(\"_\")\n",
    "                _root_path = os.path.join(root_path, f\"{speaker_name}/{chapter_id}\")\n",
    "                wav_file = os.path.join(_root_path, file_name + \".wav\")\n",
    "                text = cols[2]\n",
    "                # ignore speakers\n",
    "                if isinstance(ignored_speakers, list):\n",
    "                    if speaker_name in ignored_speakers:\n",
    "                        continue\n",
    "                items.append(\n",
    "                    {\n",
    "                        \"text\": text,\n",
    "                        \"audio_file\": wav_file,\n",
    "                        \"speaker_name\": f\"LTTS_{speaker_name}\",\n",
    "                        \"root_path\": root_path,\n",
    "                    }\n",
    "                )\n",
    "    for item in items:\n",
    "        assert os.path.exists(item[\"audio_file\"]), f\" [!] wav files don't exist - {item['audio_file']}\"\n",
    "    return items\n",
    "\n",
    "\n",
    "def custom_turkish(root_path, meta_file, **kwargs):  # pylint: disable=unused-argument\n",
    "    txt_file = os.path.join(root_path, meta_file)\n",
    "    items = []\n",
    "    speaker_name = \"turkish-female\"\n",
    "    skipped_files = []\n",
    "    with open(txt_file, \"r\", encoding=\"utf-8\") as ttf:\n",
    "        for line in ttf:\n",
    "            cols = line.split(\"|\")\n",
    "            wav_file = os.path.join(root_path, \"wavs\", cols[0].strip() + \".wav\")\n",
    "            if not os.path.exists(wav_file):\n",
    "                skipped_files.append(wav_file)\n",
    "                continue\n",
    "            text = cols[1].strip()\n",
    "            items.append({\"text\": text, \"audio_file\": wav_file, \"speaker_name\": speaker_name, \"root_path\": root_path})\n",
    "    print(f\" [!] {len(skipped_files)} files skipped. They don't exist...\")\n",
    "    return items\n",
    "\n",
    "\n",
    "# ToDo: add the dataset link when the dataset is released publicly\n",
    "def brspeech(root_path, meta_file, ignored_speakers=None):\n",
    "    \"\"\"BRSpeech 3.0 beta\"\"\"\n",
    "    txt_file = os.path.join(root_path, meta_file)\n",
    "    items = []\n",
    "    with open(txt_file, \"r\", encoding=\"utf-8\") as ttf:\n",
    "        for line in ttf:\n",
    "            if line.startswith(\"wav_filename\"):\n",
    "                continue\n",
    "            cols = line.split(\"|\")\n",
    "            wav_file = os.path.join(root_path, cols[0])\n",
    "            text = cols[2]\n",
    "            speaker_id = cols[3]\n",
    "            # ignore speakers\n",
    "            if isinstance(ignored_speakers, list):\n",
    "                if speaker_id in ignored_speakers:\n",
    "                    continue\n",
    "            items.append({\"text\": text, \"audio_file\": wav_file, \"speaker_name\": speaker_id, \"root_path\": root_path})\n",
    "    return items\n",
    "\n",
    "\n",
    "def vctk(root_path, meta_files=None, wavs_path=\"wav48_silence_trimmed\", mic=\"mic1\", ignored_speakers=None):\n",
    "    \"\"\"VCTK dataset v0.92.\n",
    "\n",
    "    URL:\n",
    "        https://datashare.ed.ac.uk/bitstream/handle/10283/3443/VCTK-Corpus-0.92.zip\n",
    "\n",
    "    This dataset has 2 recordings per speaker that are annotated with ```mic1``` and ```mic2```.\n",
    "    It is believed that (😄 ) ```mic1``` files are the same as the previous version of the dataset.\n",
    "\n",
    "    mic1:\n",
    "        Audio recorded using an omni-directional microphone (DPA 4035).\n",
    "        Contains very low frequency noises.\n",
    "        This is the same audio released in previous versions of VCTK:\n",
    "        https://doi.org/10.7488/ds/1994\n",
    "\n",
    "    mic2:\n",
    "        Audio recorded using a small diaphragm condenser microphone with\n",
    "        very wide bandwidth (Sennheiser MKH 800).\n",
    "        Two speakers, p280 and p315 had technical issues of the audio\n",
    "        recordings using MKH 800.\n",
    "    \"\"\"\n",
    "    file_ext = \"flac\"\n",
    "    items = []\n",
    "    meta_files = glob(f\"{os.path.join(root_path,'txt')}/**/*.txt\", recursive=True)\n",
    "    for meta_file in meta_files:\n",
    "        _, speaker_id, txt_file = os.path.relpath(meta_file, root_path).split(os.sep)\n",
    "        file_id = txt_file.split(\".\")[0]\n",
    "        # ignore speakers\n",
    "        if isinstance(ignored_speakers, list):\n",
    "            if speaker_id in ignored_speakers:\n",
    "                continue\n",
    "        with open(meta_file, \"r\", encoding=\"utf-8\") as file_text:\n",
    "            text = file_text.readlines()[0]\n",
    "        # p280 has no mic2 recordings\n",
    "        if speaker_id == \"p280\":\n",
    "            wav_file = os.path.join(root_path, wavs_path, speaker_id, file_id + f\"_mic1.{file_ext}\")\n",
    "        else:\n",
    "            wav_file = os.path.join(root_path, wavs_path, speaker_id, file_id + f\"_{mic}.{file_ext}\")\n",
    "        if os.path.exists(wav_file):\n",
    "            items.append(\n",
    "                {\"text\": text, \"audio_file\": wav_file, \"speaker_name\": \"VCTK_\" + speaker_id, \"root_path\": root_path}\n",
    "            )\n",
    "        else:\n",
    "            print(f\" [!] wav files don't exist - {wav_file}\")\n",
    "    return items\n",
    "\n",
    "\n",
    "def vctk_old(root_path, meta_files=None, wavs_path=\"wav48\", ignored_speakers=None):\n",
    "    \"\"\"homepages.inf.ed.ac.uk/jyamagis/release/VCTK-Corpus.tar.gz\"\"\"\n",
    "    items = []\n",
    "    meta_files = glob(f\"{os.path.join(root_path,'txt')}/**/*.txt\", recursive=True)\n",
    "    for meta_file in meta_files:\n",
    "        _, speaker_id, txt_file = os.path.relpath(meta_file, root_path).split(os.sep)\n",
    "        file_id = txt_file.split(\".\")[0]\n",
    "        # ignore speakers\n",
    "        if isinstance(ignored_speakers, list):\n",
    "            if speaker_id in ignored_speakers:\n",
    "                continue\n",
    "        with open(meta_file, \"r\", encoding=\"utf-8\") as file_text:\n",
    "            text = file_text.readlines()[0]\n",
    "        wav_file = os.path.join(root_path, wavs_path, speaker_id, file_id + \".wav\")\n",
    "        items.append(\n",
    "            {\"text\": text, \"audio_file\": wav_file, \"speaker_name\": \"VCTK_old_\" + speaker_id, \"root_path\": root_path}\n",
    "        )\n",
    "    return items\n",
    "\n",
    "\n",
    "def synpaflex(root_path, metafiles=None, **kwargs):  # pylint: disable=unused-argument\n",
    "    items = []\n",
    "    speaker_name = \"synpaflex\"\n",
    "    root_path = os.path.join(root_path, \"\")\n",
    "    wav_files = glob(f\"{root_path}**/*.wav\", recursive=True)\n",
    "    for wav_file in wav_files:\n",
    "        if os.sep + \"wav\" + os.sep in wav_file:\n",
    "            txt_file = wav_file.replace(\"wav\", \"txt\")\n",
    "        else:\n",
    "            txt_file = os.path.join(\n",
    "                os.path.dirname(wav_file), \"txt\", os.path.basename(wav_file).replace(\".wav\", \".txt\")\n",
    "            )\n",
    "        if os.path.exists(txt_file) and os.path.exists(wav_file):\n",
    "            with open(txt_file, \"r\", encoding=\"utf-8\") as file_text:\n",
    "                text = file_text.readlines()[0]\n",
    "            items.append({\"text\": text, \"audio_file\": wav_file, \"speaker_name\": speaker_name, \"root_path\": root_path})\n",
    "    return items\n",
    "\n",
    "\n",
    "def open_bible(root_path, meta_files=\"train\", ignore_digits_sentences=True, ignored_speakers=None):\n",
    "    \"\"\"ToDo: Refer the paper when available\"\"\"\n",
    "    items = []\n",
    "    split_dir = meta_files\n",
    "    meta_files = glob(f\"{os.path.join(root_path, split_dir)}/**/*.txt\", recursive=True)\n",
    "    for meta_file in meta_files:\n",
    "        _, speaker_id, txt_file = os.path.relpath(meta_file, root_path).split(os.sep)\n",
    "        file_id = txt_file.split(\".\")[0]\n",
    "        # ignore speakers\n",
    "        if isinstance(ignored_speakers, list):\n",
    "            if speaker_id in ignored_speakers:\n",
    "                continue\n",
    "        with open(meta_file, \"r\", encoding=\"utf-8\") as file_text:\n",
    "            text = file_text.readline().replace(\"\\n\", \"\")\n",
    "        # ignore sentences that contains digits\n",
    "        if ignore_digits_sentences and any(map(str.isdigit, text)):\n",
    "            continue\n",
    "        wav_file = os.path.join(root_path, split_dir, speaker_id, file_id + \".flac\")\n",
    "        items.append({\"text\": text, \"audio_file\": wav_file, \"speaker_name\": \"OB_\" + speaker_id, \"root_path\": root_path})\n",
    "    return items\n",
    "\n",
    "\n",
    "def mls(root_path, meta_files=None, ignored_speakers=None):\n",
    "    \"\"\"http://www.openslr.org/94/\"\"\"\n",
    "    items = []\n",
    "    with open(os.path.join(root_path, meta_files), \"r\", encoding=\"utf-8\") as meta:\n",
    "        for line in meta:\n",
    "            file, text = line.split(\"\\t\")\n",
    "            text = text[:-1]\n",
    "            speaker, book, *_ = file.split(\"_\")\n",
    "            wav_file = os.path.join(root_path, os.path.dirname(meta_files), \"audio\", speaker, book, file + \".wav\")\n",
    "            # ignore speakers\n",
    "            if isinstance(ignored_speakers, list):\n",
    "                if speaker in ignored_speakers:\n",
    "                    continue\n",
    "            items.append(\n",
    "                {\"text\": text, \"audio_file\": wav_file, \"speaker_name\": \"MLS_\" + speaker, \"root_path\": root_path}\n",
    "            )\n",
    "    return items\n",
    "\n",
    "\n",
    "# ======================================== VOX CELEB ===========================================\n",
    "def voxceleb2(root_path, meta_file=None, **kwargs):  # pylint: disable=unused-argument\n",
    "    \"\"\"\n",
    "    :param meta_file   Used only for consistency with load_tts_samples api\n",
    "    \"\"\"\n",
    "    return _voxcel_x(root_path, meta_file, voxcel_idx=\"2\")\n",
    "\n",
    "\n",
    "def voxceleb1(root_path, meta_file=None, **kwargs):  # pylint: disable=unused-argument\n",
    "    \"\"\"\n",
    "    :param meta_file   Used only for consistency with load_tts_samples api\n",
    "    \"\"\"\n",
    "    return _voxcel_x(root_path, meta_file, voxcel_idx=\"1\")\n",
    "\n",
    "\n",
    "def _voxcel_x(root_path, meta_file, voxcel_idx):\n",
    "    assert voxcel_idx in [\"1\", \"2\"]\n",
    "    expected_count = 148_000 if voxcel_idx == \"1\" else 1_000_000\n",
    "    voxceleb_path = Path(root_path)\n",
    "    cache_to = voxceleb_path / f\"metafile_voxceleb{voxcel_idx}.csv\"\n",
    "    cache_to.parent.mkdir(exist_ok=True)\n",
    "\n",
    "    # if not exists meta file, crawl recursively for 'wav' files\n",
    "    if meta_file is not None:\n",
    "        with open(str(meta_file), \"r\", encoding=\"utf-8\") as f:\n",
    "            return [x.strip().split(\"|\") for x in f.readlines()]\n",
    "\n",
    "    elif not cache_to.exists():\n",
    "        cnt = 0\n",
    "        meta_data = []\n",
    "        wav_files = voxceleb_path.rglob(\"**/*.wav\")\n",
    "        for path in tqdm(\n",
    "            wav_files,\n",
    "            desc=f\"Building VoxCeleb {voxcel_idx} Meta file ... this needs to be done only once.\",\n",
    "            total=expected_count,\n",
    "        ):\n",
    "            speaker_id = str(Path(path).parent.parent.stem)\n",
    "            assert speaker_id.startswith(\"id\")\n",
    "            text = None  # VoxCel does not provide transciptions, and they are not needed for training the SE\n",
    "            meta_data.append(f\"{text}|{path}|voxcel{voxcel_idx}_{speaker_id}\\n\")\n",
    "            cnt += 1\n",
    "        with open(str(cache_to), \"w\", encoding=\"utf-8\") as f:\n",
    "            f.write(\"\".join(meta_data))\n",
    "        if cnt < expected_count:\n",
    "            raise ValueError(f\"Found too few instances for Voxceleb. Should be around {expected_count}, is: {cnt}\")\n",
    "\n",
    "    with open(str(cache_to), \"r\", encoding=\"utf-8\") as f:\n",
    "        return [x.strip().split(\"|\") for x in f.readlines()]\n",
    "\n",
    "\n",
    "def emotion(root_path, meta_file, ignored_speakers=None):\n",
    "    \"\"\"Generic emotion dataset\"\"\"\n",
    "    txt_file = os.path.join(root_path, meta_file)\n",
    "    items = []\n",
    "    with open(txt_file, \"r\", encoding=\"utf-8\") as ttf:\n",
    "        for line in ttf:\n",
    "            if line.startswith(\"file_path\"):\n",
    "                continue\n",
    "            cols = line.split(\",\")\n",
    "            wav_file = os.path.join(root_path, cols[0])\n",
    "            speaker_id = cols[1]\n",
    "            emotion_id = cols[2].replace(\"\\n\", \"\")\n",
    "            # ignore speakers\n",
    "            if isinstance(ignored_speakers, list):\n",
    "                if speaker_id in ignored_speakers:\n",
    "                    continue\n",
    "            items.append(\n",
    "                {\"audio_file\": wav_file, \"speaker_name\": speaker_id, \"emotion_name\": emotion_id, \"root_path\": root_path}\n",
    "            )\n",
    "    return items\n",
    "\n",
    "\n",
    "def baker(root_path: str, meta_file: str, **kwargs) -> List[List[str]]:  # pylint: disable=unused-argument\n",
    "    \"\"\"Normalizes the Baker meta data file to TTS format\n",
    "\n",
    "    Args:\n",
    "        root_path (str): path to the baker dataset\n",
    "        meta_file (str): name of the meta dataset containing names of wav to select and the transcript of the sentence\n",
    "    Returns:\n",
    "        List[List[str]]: List of (text, wav_path, speaker_name) associated with each sentences\n",
    "    \"\"\"\n",
    "    txt_file = os.path.join(root_path, meta_file)\n",
    "    items = []\n",
    "    speaker_name = \"baker\"\n",
    "    with open(txt_file, \"r\", encoding=\"utf-8\") as ttf:\n",
    "        for line in ttf:\n",
    "            wav_name, text = line.rstrip(\"\\n\").split(\"|\")\n",
    "            wav_path = os.path.join(root_path, \"clips_22\", wav_name)\n",
    "            items.append({\"text\": text, \"audio_file\": wav_path, \"speaker_name\": speaker_name, \"root_path\": root_path})\n",
    "    return items\n",
    "\n",
    "\n",
    "def kokoro(root_path, meta_file, **kwargs):  # pylint: disable=unused-argument\n",
    "    \"\"\"Japanese single-speaker dataset from https://github.com/kaiidams/Kokoro-Speech-Dataset\"\"\"\n",
    "    txt_file = os.path.join(root_path, meta_file)\n",
    "    items = []\n",
    "    speaker_name = \"kokoro\"\n",
    "    with open(txt_file, \"r\", encoding=\"utf-8\") as ttf:\n",
    "        for line in ttf:\n",
    "            cols = line.split(\"|\")\n",
    "            wav_file = os.path.join(root_path, \"wavs\", cols[0] + \".wav\")\n",
    "            text = cols[2]\n",
    "            items.append({\"text\": text, \"audio_file\": wav_file, \"speaker_name\": speaker_name, \"root_path\": root_path})\n",
    "    return items\n",
    "\n",
    "\n",
    "def kss(root_path, meta_file, **kwargs):  # pylint: disable=unused-argument\n",
    "    \"\"\"Korean single-speaker dataset from https://www.kaggle.com/datasets/bryanpark/korean-single-speaker-speech-dataset\"\"\"\n",
    "    txt_file = os.path.join(root_path, meta_file)\n",
    "    items = []\n",
    "    speaker_name = \"kss\"\n",
    "    with open(txt_file, \"r\", encoding=\"utf-8\") as ttf:\n",
    "        for line in ttf:\n",
    "            cols = line.split(\"|\")\n",
    "            wav_file = os.path.join(root_path, cols[0])\n",
    "            text = cols[2]  # cols[1] => 6월, cols[2] => 유월\n",
    "            items.append({\"text\": text, \"audio_file\": wav_file, \"speaker_name\": speaker_name, \"root_path\": root_path})\n",
    "    return items\n",
    "'''\n",
    "\n",
    "\n",
    "with open(\"/content/TTS/TTS/tts/datasets/formatters.py\",\"w\", encoding = 'utf-8') as f:\n",
    "  f.write(code)\n",
    "f.close()"
   ]
  },
  {
   "cell_type": "code",
   "execution_count": null,
   "metadata": {
    "id": "dJe52s-prW1o"
   },
   "outputs": [],
   "source": [
    "dataset_config = BaseDatasetConfig(\n",
    "    formatter=\"custom_formatter\", meta_file_train= meta_file, path=root_path,)"
   ]
  },
  {
   "cell_type": "code",
   "execution_count": null,
   "metadata": {
    "colab": {
     "base_uri": "https://localhost:8080/"
    },
    "id": "GAg4A_w8prHm",
    "outputId": "38eb9241-5b48-4fc9-da9c-f2385291ba31"
   },
   "outputs": [
    {
     "data": {
      "text/plain": [
       "BaseDatasetConfig(formatter='custom_formatter', dataset_name='', path='/content/drive/MyDrive/dataset/converted', meta_file_train='/content/drive/MyDrive/dataset/metadata.csv', ignored_speakers=None, language='', phonemizer='', meta_file_val='', meta_file_attn_mask='')"
      ]
     },
     "execution_count": 28,
     "metadata": {},
     "output_type": "execute_result"
    }
   ],
   "source": [
    "dataset_config"
   ]
  },
  {
   "cell_type": "code",
   "execution_count": null,
   "metadata": {
    "id": "0haqE1R8rW4P"
   },
   "outputs": [],
   "source": [
    "# GlowTTSConfig: all model related values for training, validating and testing.\n",
    "from TTS.tts.configs.glow_tts_config import GlowTTSConfig\n",
    "config = GlowTTSConfig(\n",
    "    batch_size=16,\n",
    "    eval_batch_size=16,\n",
    "    num_loader_workers=4,\n",
    "    num_eval_loader_workers=4,\n",
    "    run_eval=True,\n",
    "    test_delay_epochs=-1,\n",
    "    epochs=200,\n",
    "    text_cleaner=\"phoneme_cleaners\",\n",
    "    phoneme_language=\"en-us\",\n",
    "    print_step=1000,\n",
    "    lr=0.0005,\n",
    "    # weight_decay = 0.01,\n",
    "    use_phonemes=False,\n",
    "    print_eval=False,\n",
    "    mixed_precision=True,\n",
    "    output_path=output_path,\n",
    "    datasets=[dataset_config],\n",
    "    save_step=7000,\n",
    ")"
   ]
  },
  {
   "cell_type": "code",
   "execution_count": null,
   "metadata": {
    "colab": {
     "base_uri": "https://localhost:8080/"
    },
    "id": "nDUHccznrW6l",
    "outputId": "0a600e37-0ca3-4cd8-d7f7-196ce22ad388"
   },
   "outputs": [
    {
     "name": "stdout",
     "output_type": "stream",
     "text": [
      " > Setting up Audio Processor...\n",
      " | > sample_rate:22050\n",
      " | > resample:False\n",
      " | > num_mels:80\n",
      " | > log_func:np.log10\n",
      " | > min_level_db:-100\n",
      " | > frame_shift_ms:None\n",
      " | > frame_length_ms:None\n",
      " | > ref_level_db:20\n",
      " | > fft_size:1024\n",
      " | > power:1.5\n",
      " | > preemphasis:0.0\n",
      " | > griffin_lim_iters:60\n",
      " | > signal_norm:True\n",
      " | > symmetric_norm:True\n",
      " | > mel_fmin:0\n",
      " | > mel_fmax:None\n",
      " | > pitch_fmin:1.0\n",
      " | > pitch_fmax:640.0\n",
      " | > spec_gain:20.0\n",
      " | > stft_pad_mode:reflect\n",
      " | > max_norm:4.0\n",
      " | > clip_norm:True\n",
      " | > do_trim_silence:True\n",
      " | > trim_db:45\n",
      " | > do_sound_norm:False\n",
      " | > do_amp_to_db_linear:True\n",
      " | > do_amp_to_db_mel:True\n",
      " | > do_rms_norm:False\n",
      " | > db_level:None\n",
      " | > stats_path:None\n",
      " | > base:10\n",
      " | > hop_length:256\n",
      " | > win_length:1024\n"
     ]
    }
   ],
   "source": [
    "from TTS.utils.audio import AudioProcessor\n",
    "ap = AudioProcessor.init_from_config(config)"
   ]
  },
  {
   "cell_type": "code",
   "execution_count": null,
   "metadata": {
    "id": "5EvCjPrOrW9j"
   },
   "outputs": [],
   "source": [
    "from TTS.tts.utils.text.tokenizer import TTSTokenizer\n",
    "tokenizer, config = TTSTokenizer.init_from_config(config)"
   ]
  },
  {
   "cell_type": "code",
   "execution_count": null,
   "metadata": {
    "colab": {
     "base_uri": "https://localhost:8080/"
    },
    "id": "RUlmgNe5hm4n",
    "outputId": "b93b538a-ab9c-4894-a726-39b90e2beb05"
   },
   "outputs": [
    {
     "name": "stdout",
     "output_type": "stream",
     "text": [
      "/content/TTS/TTS/tts/datasets\n",
      "/content\n"
     ]
    }
   ],
   "source": [
    "%cd /content/TTS/TTS/tts/datasets\n",
    "from formatters import custom_formatter\n",
    "%cd /content/"
   ]
  },
  {
   "cell_type": "code",
   "execution_count": null,
   "metadata": {
    "colab": {
     "base_uri": "https://localhost:8080/"
    },
    "id": "Gct4PZndrXBr",
    "outputId": "e154beb9-d9a7-439e-977d-c0db64ba44c6"
   },
   "outputs": [
    {
     "name": "stdout",
     "output_type": "stream",
     "text": [
      "/content/drive/MyDrive/dataset/converted/data-07.wav\n",
      "/content/drive/MyDrive/dataset/converted/data-03.wav\n",
      "/content/drive/MyDrive/dataset/converted/data-06.wav\n",
      "/content/drive/MyDrive/dataset/converted/data-05.wav\n",
      "/content/drive/MyDrive/dataset/converted/data-02.wav\n",
      "/content/drive/MyDrive/dataset/converted/data-01.wav\n",
      "/content/drive/MyDrive/dataset/converted/data-04.wav\n",
      "/content/drive/MyDrive/dataset/converted/data-08.wav\n",
      "/content/drive/MyDrive/dataset/converted/data-11.wav\n",
      "/content/drive/MyDrive/dataset/converted/data-09.wav\n",
      "/content/drive/MyDrive/dataset/converted/data-21.wav\n",
      "/content/drive/MyDrive/dataset/converted/data-13.wav\n",
      "/content/drive/MyDrive/dataset/converted/data-14.wav\n",
      "/content/drive/MyDrive/dataset/converted/data-20.wav\n",
      "/content/drive/MyDrive/dataset/converted/data-10.wav\n",
      "/content/drive/MyDrive/dataset/converted/data-16.wav\n",
      "/content/drive/MyDrive/dataset/converted/data-19.wav\n",
      "/content/drive/MyDrive/dataset/converted/data-18.wav\n",
      "/content/drive/MyDrive/dataset/converted/data-15.wav\n",
      "/content/drive/MyDrive/dataset/converted/data-12.wav\n",
      "/content/drive/MyDrive/dataset/converted/data-17.wav\n",
      "/content/drive/MyDrive/dataset/converted/data-33.wav\n",
      "/content/drive/MyDrive/dataset/converted/data-29.wav\n",
      "/content/drive/MyDrive/dataset/converted/data-36.wav\n",
      "/content/drive/MyDrive/dataset/converted/data-34.wav\n",
      "/content/drive/MyDrive/dataset/converted/data-28.wav\n",
      "/content/drive/MyDrive/dataset/converted/data-23.wav\n",
      "/content/drive/MyDrive/dataset/converted/data-35.wav\n",
      "/content/drive/MyDrive/dataset/converted/data-25.wav\n",
      "/content/drive/MyDrive/dataset/converted/data-32.wav\n",
      "/content/drive/MyDrive/dataset/converted/data-26.wav\n",
      "/content/drive/MyDrive/dataset/converted/data-31.wav\n",
      "/content/drive/MyDrive/dataset/converted/data-30.wav\n",
      "/content/drive/MyDrive/dataset/converted/data-24.wav\n",
      "/content/drive/MyDrive/dataset/converted/data-27.wav\n",
      "/content/drive/MyDrive/dataset/converted/data-22.wav\n",
      "/content/drive/MyDrive/dataset/converted/data-41.wav\n",
      "/content/drive/MyDrive/dataset/converted/data-37.wav\n",
      "/content/drive/MyDrive/dataset/converted/data-38.wav\n",
      "/content/drive/MyDrive/dataset/converted/data-46.wav\n",
      "/content/drive/MyDrive/dataset/converted/data-42.wav\n",
      "/content/drive/MyDrive/dataset/converted/data-44.wav\n",
      "/content/drive/MyDrive/dataset/converted/data-49.wav\n",
      "/content/drive/MyDrive/dataset/converted/data-39.wav\n",
      "/content/drive/MyDrive/dataset/converted/data-43.wav\n",
      "/content/drive/MyDrive/dataset/converted/data-40.wav\n",
      "/content/drive/MyDrive/dataset/converted/data-45.wav\n",
      "/content/drive/MyDrive/dataset/converted/data-47.wav\n",
      "/content/drive/MyDrive/dataset/converted/data-48.wav\n",
      "/content/drive/MyDrive/dataset/converted/data-50.wav\n",
      "/content/drive/MyDrive/dataset/converted/data-55.wav\n",
      "/content/drive/MyDrive/dataset/converted/data-64.wav\n",
      "/content/drive/MyDrive/dataset/converted/data-63.wav\n",
      "/content/drive/MyDrive/dataset/converted/data-57.wav\n",
      "/content/drive/MyDrive/dataset/converted/data-53.wav\n",
      "/content/drive/MyDrive/dataset/converted/data-51.wav\n",
      "/content/drive/MyDrive/dataset/converted/data-58.wav\n",
      "/content/drive/MyDrive/dataset/converted/data-52.wav\n",
      "/content/drive/MyDrive/dataset/converted/data-56.wav\n",
      "/content/drive/MyDrive/dataset/converted/data-59.wav\n",
      "/content/drive/MyDrive/dataset/converted/data-65.wav\n",
      "/content/drive/MyDrive/dataset/converted/data-62.wav\n",
      "/content/drive/MyDrive/dataset/converted/data-54.wav\n",
      "/content/drive/MyDrive/dataset/converted/data-60.wav\n",
      "/content/drive/MyDrive/dataset/converted/data-61.wav\n",
      "/content/drive/MyDrive/dataset/converted/data-67.wav\n",
      "/content/drive/MyDrive/dataset/converted/data-79.wav\n",
      "/content/drive/MyDrive/dataset/converted/data-72.wav\n",
      "/content/drive/MyDrive/dataset/converted/data-74.wav\n",
      "/content/drive/MyDrive/dataset/converted/data-78.wav\n",
      "/content/drive/MyDrive/dataset/converted/data-80.wav\n",
      "/content/drive/MyDrive/dataset/converted/data-71.wav\n",
      "/content/drive/MyDrive/dataset/converted/data-69.wav\n",
      "/content/drive/MyDrive/dataset/converted/data-76.wav\n",
      "/content/drive/MyDrive/dataset/converted/data-77.wav\n",
      "/content/drive/MyDrive/dataset/converted/data-75.wav\n",
      "/content/drive/MyDrive/dataset/converted/data-73.wav\n",
      "/content/drive/MyDrive/dataset/converted/data-70.wav\n",
      "/content/drive/MyDrive/dataset/converted/data-68.wav\n",
      "/content/drive/MyDrive/dataset/converted/data-66.wav\n",
      "/content/drive/MyDrive/dataset/converted/data-93.wav\n",
      "/content/drive/MyDrive/dataset/converted/data-89.wav\n",
      "/content/drive/MyDrive/dataset/converted/data-95.wav\n",
      "/content/drive/MyDrive/dataset/converted/data-90.wav\n",
      "/content/drive/MyDrive/dataset/converted/data-96.wav\n",
      "/content/drive/MyDrive/dataset/converted/data-85.wav\n",
      "/content/drive/MyDrive/dataset/converted/data-87.wav\n",
      "/content/drive/MyDrive/dataset/converted/data-88.wav\n",
      "/content/drive/MyDrive/dataset/converted/data-86.wav\n",
      "/content/drive/MyDrive/dataset/converted/data-82.wav\n",
      "/content/drive/MyDrive/dataset/converted/data-97.wav\n",
      "/content/drive/MyDrive/dataset/converted/data-83.wav\n",
      "/content/drive/MyDrive/dataset/converted/data-81.wav\n",
      "/content/drive/MyDrive/dataset/converted/data-94.wav\n",
      "/content/drive/MyDrive/dataset/converted/data-91.wav\n",
      "/content/drive/MyDrive/dataset/converted/data-92.wav\n",
      "/content/drive/MyDrive/dataset/converted/data-84.wav\n",
      "/content/drive/MyDrive/dataset/converted/data-108.wav\n",
      "/content/drive/MyDrive/dataset/converted/data-107.wav\n",
      "/content/drive/MyDrive/dataset/converted/data-109.wav\n",
      "/content/drive/MyDrive/dataset/converted/data-98.wav\n",
      "/content/drive/MyDrive/dataset/converted/data-101.wav\n",
      "/content/drive/MyDrive/dataset/converted/data-99.wav\n",
      "/content/drive/MyDrive/dataset/converted/data-104.wav\n",
      "/content/drive/MyDrive/dataset/converted/data-105.wav\n",
      "/content/drive/MyDrive/dataset/converted/data-102.wav\n",
      "/content/drive/MyDrive/dataset/converted/data-113.wav\n",
      "/content/drive/MyDrive/dataset/converted/data-111.wav\n",
      "/content/drive/MyDrive/dataset/converted/data-112.wav\n",
      "/content/drive/MyDrive/dataset/converted/data-100.wav\n",
      "/content/drive/MyDrive/dataset/converted/data-110.wav\n",
      "/content/drive/MyDrive/dataset/converted/data-106.wav\n",
      "/content/drive/MyDrive/dataset/converted/data-103.wav\n",
      "/content/drive/MyDrive/dataset/converted/data-115.wav\n",
      "/content/drive/MyDrive/dataset/converted/data-129.wav\n",
      "/content/drive/MyDrive/dataset/converted/data-130.wav\n",
      "/content/drive/MyDrive/dataset/converted/data-123.wav\n",
      "/content/drive/MyDrive/dataset/converted/data-128.wav\n",
      "/content/drive/MyDrive/dataset/converted/data-117.wav\n",
      "/content/drive/MyDrive/dataset/converted/data-122.wav\n",
      "/content/drive/MyDrive/dataset/converted/data-125.wav\n",
      "/content/drive/MyDrive/dataset/converted/data-120.wav\n",
      "/content/drive/MyDrive/dataset/converted/data-124.wav\n",
      "/content/drive/MyDrive/dataset/converted/data-126.wav\n",
      "/content/drive/MyDrive/dataset/converted/data-121.wav\n",
      "/content/drive/MyDrive/dataset/converted/data-118.wav\n",
      "/content/drive/MyDrive/dataset/converted/data-119.wav\n",
      "/content/drive/MyDrive/dataset/converted/data-127.wav\n",
      "/content/drive/MyDrive/dataset/converted/data-116.wav\n",
      "/content/drive/MyDrive/dataset/converted/data-114.wav\n",
      "/content/drive/MyDrive/dataset/converted/data-142.wav\n",
      "/content/drive/MyDrive/dataset/converted/data-147.wav\n",
      "/content/drive/MyDrive/dataset/converted/data-139.wav\n",
      "/content/drive/MyDrive/dataset/converted/data-144.wav\n",
      "/content/drive/MyDrive/dataset/converted/data-143.wav\n",
      "/content/drive/MyDrive/dataset/converted/data-136.wav\n",
      "/content/drive/MyDrive/dataset/converted/data-138.wav\n",
      "/content/drive/MyDrive/dataset/converted/data-145.wav\n",
      "/content/drive/MyDrive/dataset/converted/data-146.wav\n",
      "/content/drive/MyDrive/dataset/converted/data-131.wav\n",
      "/content/drive/MyDrive/dataset/converted/data-132.wav\n",
      "/content/drive/MyDrive/dataset/converted/data-141.wav\n",
      "/content/drive/MyDrive/dataset/converted/data-135.wav\n",
      "/content/drive/MyDrive/dataset/converted/data-140.wav\n",
      "/content/drive/MyDrive/dataset/converted/data-133.wav\n",
      "/content/drive/MyDrive/dataset/converted/data-134.wav\n",
      "/content/drive/MyDrive/dataset/converted/data-137.wav\n",
      "/content/drive/MyDrive/dataset/converted/data-149.wav\n",
      "/content/drive/MyDrive/dataset/converted/data-156.wav\n",
      "/content/drive/MyDrive/dataset/converted/data-153.wav\n",
      "/content/drive/MyDrive/dataset/converted/data-155.wav\n",
      "/content/drive/MyDrive/dataset/converted/data-160.wav\n",
      "/content/drive/MyDrive/dataset/converted/data-161.wav\n",
      "/content/drive/MyDrive/dataset/converted/data-151.wav\n",
      "/content/drive/MyDrive/dataset/converted/data-157.wav\n",
      "/content/drive/MyDrive/dataset/converted/data-148.wav\n",
      "/content/drive/MyDrive/dataset/converted/data-163.wav\n",
      "/content/drive/MyDrive/dataset/converted/data-164.wav\n",
      "/content/drive/MyDrive/dataset/converted/data-158.wav\n",
      "/content/drive/MyDrive/dataset/converted/data-150.wav\n",
      "/content/drive/MyDrive/dataset/converted/data-159.wav\n",
      "/content/drive/MyDrive/dataset/converted/data-152.wav\n",
      "/content/drive/MyDrive/dataset/converted/data-162.wav\n",
      "/content/drive/MyDrive/dataset/converted/data-154.wav\n",
      "/content/drive/MyDrive/dataset/converted/data-172.wav\n",
      "/content/drive/MyDrive/dataset/converted/data-166.wav\n",
      "/content/drive/MyDrive/dataset/converted/data-170.wav\n",
      "/content/drive/MyDrive/dataset/converted/data-178.wav\n",
      "/content/drive/MyDrive/dataset/converted/data-168.wav\n",
      "/content/drive/MyDrive/dataset/converted/data-175.wav\n",
      "/content/drive/MyDrive/dataset/converted/data-176.wav\n",
      "/content/drive/MyDrive/dataset/converted/data-180.wav\n",
      "/content/drive/MyDrive/dataset/converted/data-167.wav\n",
      "/content/drive/MyDrive/dataset/converted/data-165.wav\n",
      "/content/drive/MyDrive/dataset/converted/data-169.wav\n",
      "/content/drive/MyDrive/dataset/converted/data-174.wav\n",
      "/content/drive/MyDrive/dataset/converted/data-179.wav\n",
      "/content/drive/MyDrive/dataset/converted/data-173.wav\n",
      "/content/drive/MyDrive/dataset/converted/data-177.wav\n",
      "/content/drive/MyDrive/dataset/converted/data-171.wav\n",
      "/content/drive/MyDrive/dataset/converted/data-181.wav\n",
      "/content/drive/MyDrive/dataset/converted/data-197.wav\n",
      "/content/drive/MyDrive/dataset/converted/data-184.wav\n",
      "/content/drive/MyDrive/dataset/converted/data-194.wav\n",
      "/content/drive/MyDrive/dataset/converted/data-186.wav\n",
      "/content/drive/MyDrive/dataset/converted/data-195.wav\n",
      "/content/drive/MyDrive/dataset/converted/data-192.wav\n",
      "/content/drive/MyDrive/dataset/converted/data-183.wav\n",
      "/content/drive/MyDrive/dataset/converted/data-182.wav\n",
      "/content/drive/MyDrive/dataset/converted/data-188.wav\n",
      "/content/drive/MyDrive/dataset/converted/data-190.wav\n",
      "/content/drive/MyDrive/dataset/converted/data-196.wav\n",
      "/content/drive/MyDrive/dataset/converted/data-191.wav\n",
      "/content/drive/MyDrive/dataset/converted/data-189.wav\n",
      "/content/drive/MyDrive/dataset/converted/data-187.wav\n",
      "/content/drive/MyDrive/dataset/converted/data-185.wav\n",
      "/content/drive/MyDrive/dataset/converted/data-193.wav\n",
      "/content/drive/MyDrive/dataset/converted/data-205.wav\n",
      "/content/drive/MyDrive/dataset/converted/data-211.wav\n",
      "/content/drive/MyDrive/dataset/converted/data-200.wav\n",
      "/content/drive/MyDrive/dataset/converted/data-208.wav\n",
      "/content/drive/MyDrive/dataset/converted/data-199.wav\n",
      "/content/drive/MyDrive/dataset/converted/data-198.wav\n",
      "/content/drive/MyDrive/dataset/converted/data-206.wav\n",
      "/content/drive/MyDrive/dataset/converted/data-202.wav\n",
      "/content/drive/MyDrive/dataset/converted/data-201.wav\n",
      "/content/drive/MyDrive/dataset/converted/data-212.wav\n",
      "/content/drive/MyDrive/dataset/converted/data-209.wav\n",
      "/content/drive/MyDrive/dataset/converted/data-210.wav\n",
      "/content/drive/MyDrive/dataset/converted/data-203.wav\n",
      "/content/drive/MyDrive/dataset/converted/data-207.wav\n",
      "/content/drive/MyDrive/dataset/converted/data-204.wav\n",
      " | > Found 212 files in /content/drive/MyDrive/dataset/converted\n"
     ]
    }
   ],
   "source": [
    "from TTS.tts.datasets import load_tts_samples\n",
    "train_samples, eval_samples = load_tts_samples(\n",
    "    dataset_config,\n",
    "    eval_split=True,\n",
    "    formatter = custom_formatter,\n",
    "    eval_split_max_size=config.eval_split_max_size,\n",
    "    eval_split_size= 0.05,\n",
    ")"
   ]
  },
  {
   "cell_type": "code",
   "execution_count": null,
   "metadata": {
    "id": "wOv9A72_rXEA"
   },
   "outputs": [],
   "source": [
    "from TTS.tts.models.glow_tts import GlowTTS\n",
    "model = GlowTTS(config, ap, tokenizer, speaker_manager=None)"
   ]
  },
  {
   "cell_type": "code",
   "execution_count": null,
   "metadata": {
    "colab": {
     "base_uri": "https://localhost:8080/"
    },
    "id": "fehejH6PrXGm",
    "outputId": "b6699209-ea6a-46bc-8b00-b342b7e8af60"
   },
   "outputs": [
    {
     "name": "stderr",
     "output_type": "stream",
     "text": [
      " > Training Environment:\n",
      " | > Backend: Torch\n",
      " | > Mixed precision: True\n",
      " | > Precision: fp16\n",
      " | > Current device: 0\n",
      " | > Num. of GPUs: 1\n",
      " | > Num. of CPUs: 2\n",
      " | > Num. of Torch Threads: 1\n",
      " | > Torch seed: 54321\n",
      " | > Torch CUDNN: True\n",
      " | > Torch CUDNN deterministic: False\n",
      " | > Torch CUDNN benchmark: False\n",
      " | > Torch TF32 MatMul: False\n",
      " > Start Tensorboard: tensorboard --logdir=/content/drive/MyDrive/dataset/cloned/run-July-22-2023_10+56AM-0000000\n",
      "\n",
      " > Model has 28597969 parameters\n"
     ]
    }
   ],
   "source": [
    "from trainer import Trainer, TrainerArgs\n",
    "trainer = Trainer(\n",
    "    TrainerArgs(), config, output_path, model=model, train_samples=train_samples, eval_samples=eval_samples\n",
    ")"
   ]
  },
  {
   "cell_type": "code",
   "execution_count": null,
   "metadata": {
    "colab": {
     "base_uri": "https://localhost:8080/"
    },
    "id": "VAGBZobKrXKn",
    "outputId": "6f48163c-bb7d-478c-ec52-6c1150d7b45a"
   },
   "outputs": [
    {
     "name": "stderr",
     "output_type": "stream",
     "text": [
      "\n",
      "\u001b[4m\u001b[1m > EPOCH: 0/150\u001b[0m\n",
      " --> /content/drive/MyDrive/dataset/cloned/run-July-22-2023_10+56AM-0000000\n",
      "/usr/local/lib/python3.10/dist-packages/torch/utils/data/dataloader.py:560: UserWarning: This DataLoader will create 4 worker processes in total. Our suggested max number of worker in current system is 2, which is smaller than what this DataLoader is going to create. Please be aware that excessive worker creation might get DataLoader running slow or even freeze, lower the worker number to avoid potential slowness/freeze if necessary.\n",
      "  warnings.warn(_create_warning_msg(\n",
      "\n",
      "\u001b[1m > TRAINING (2023-07-22 10:57:01) \u001b[0m\n"
     ]
    },
    {
     "name": "stdout",
     "output_type": "stream",
     "text": [
      "\n",
      "\n",
      "> DataLoader initialization\n",
      "| > Tokenizer:\n",
      "\t| > add_blank: False\n",
      "\t| > use_eos_bos: False\n",
      "\t| > use_phonemes: False\n",
      "| > Number of instances : 202\n",
      " | > Preprocessing samples\n",
      " | > Max text length: 222\n",
      " | > Min text length: 2\n",
      " | > Avg text length: 144.15841584158414\n",
      " | \n",
      " | > Max audio length: 176201.0\n",
      " | > Min audio length: 176201.0\n",
      " | > Avg audio length: 176201.0\n",
      " | > Num. instances discarded samples: 0\n",
      " | > Batch group size: 0.\n",
      "We make all our packaging from one hundred% recycled trash, from ocean bound plastic to landfills.\n",
      " [!] Character '%' not found in the vocabulary. Discarding it.\n"
     ]
    },
    {
     "name": "stderr",
     "output_type": "stream",
     "text": [
      "\n",
      "\u001b[1m   --> TIME: 2023-07-22 10:57:16 -- STEP: 0/101 -- GLOBAL_STEP: 0\u001b[0m\n",
      "     | > current_lr: 1.25e-07 \n",
      "     | > step_time: 11.984  (11.984008073806763)\n",
      "     | > loader_time: 2.7834  (2.7834067344665527)\n",
      "\n",
      " [!] `train_step()` retuned `None` outputs. Skipping training step.\n",
      " [!] `train_step()` retuned `None` outputs. Skipping training step.\n",
      " [!] `train_step()` retuned `None` outputs. Skipping training step.\n",
      " [!] `train_step()` retuned `None` outputs. Skipping training step.\n",
      " [!] `train_step()` retuned `None` outputs. Skipping training step.\n",
      " [!] `train_step()` retuned `None` outputs. Skipping training step.\n",
      " [!] `train_step()` retuned `None` outputs. Skipping training step.\n",
      " [!] `train_step()` retuned `None` outputs. Skipping training step.\n",
      " [!] `train_step()` retuned `None` outputs. Skipping training step.\n",
      " [!] `train_step()` retuned `None` outputs. Skipping training step.\n",
      "\n",
      "\u001b[1m > EVALUATION \u001b[0m\n",
      "\n"
     ]
    },
    {
     "name": "stdout",
     "output_type": "stream",
     "text": [
      "\n",
      "\n",
      "> DataLoader initialization\n",
      "| > Tokenizer:\n",
      "\t| > add_blank: False\n",
      "\t| > use_eos_bos: False\n",
      "\t| > use_phonemes: False\n",
      "| > Number of instances : 10\n",
      " | > Preprocessing samples\n",
      " | > Max text length: 181\n",
      " | > Min text length: 98\n",
      " | > Avg text length: 148.5\n",
      " | \n",
      " | > Max audio length: 176201.0\n",
      " | > Min audio length: 176201.0\n",
      " | > Avg audio length: 176201.0\n",
      " | > Num. instances discarded samples: 0\n",
      " | > Batch group size: 0.\n"
     ]
    },
    {
     "name": "stderr",
     "output_type": "stream",
     "text": [
      "\n",
      "  \u001b[1m--> EVAL PERFORMANCE\u001b[0m\n",
      "     | > avg_loader_time: 0.00233614444732666 \u001b[0m(+0)\n",
      "     | > avg_loss: 2.9717230796813965 \u001b[0m(+0)\n",
      "     | > avg_log_mle: 0.9682937264442444 \u001b[0m(+0)\n",
      "     | > avg_loss_dur: 2.003429353237152 \u001b[0m(+0)\n",
      "\n"
     ]
    },
    {
     "name": "stdout",
     "output_type": "stream",
     "text": [
      " | > Synthesizing test sentences.\n"
     ]
    },
    {
     "name": "stderr",
     "output_type": "stream",
     "text": [
      "\n",
      "  \u001b[1m--> EVAL PERFORMANCE\u001b[0m\n",
      "     | > avg_loader_time: 0.00233614444732666 \u001b[0m(+0.0)\n",
      "     | > avg_loss: 2.9717230796813965 \u001b[0m(+0.0)\n",
      "     | > avg_log_mle: 0.9682937264442444 \u001b[0m(+0.0)\n",
      "     | > avg_loss_dur: 2.003429353237152 \u001b[0m(+0.0)\n",
      "\n",
      " > BEST MODEL : /content/drive/MyDrive/dataset/cloned/run-July-22-2023_10+56AM-0000000/best_model_101.pth\n",
      "\n",
      "\u001b[4m\u001b[1m > EPOCH: 1/150\u001b[0m\n",
      " --> /content/drive/MyDrive/dataset/cloned/run-July-22-2023_10+56AM-0000000\n",
      "\n",
      "\u001b[1m > TRAINING (2023-07-22 10:58:14) \u001b[0m\n",
      "/usr/local/lib/python3.10/dist-packages/torch/utils/data/dataloader.py:560: UserWarning: This DataLoader will create 4 worker processes in total. Our suggested max number of worker in current system is 2, which is smaller than what this DataLoader is going to create. Please be aware that excessive worker creation might get DataLoader running slow or even freeze, lower the worker number to avoid potential slowness/freeze if necessary.\n",
      "  warnings.warn(_create_warning_msg(\n"
     ]
    },
    {
     "name": "stdout",
     "output_type": "stream",
     "text": [
      "We make all our packaging from one hundred% recycled trash, from ocean bound plastic to landfills.\n",
      " [!] Character '%' not found in the vocabulary. Discarding it.\n"
     ]
    },
    {
     "name": "stderr",
     "output_type": "stream",
     "text": [
      "\n",
      "\u001b[1m > EVALUATION \u001b[0m\n",
      "\n",
      "\n",
      "  \u001b[1m--> EVAL PERFORMANCE\u001b[0m\n",
      "     | > avg_loader_time:\u001b[92m 0.0013520121574401855 \u001b[0m(-0.0009841322898864746)\n",
      "     | > avg_loss:\u001b[92m 2.9549577832221985 \u001b[0m(-0.016765296459197998)\n",
      "     | > avg_log_mle:\u001b[92m 0.967636451125145 \u001b[0m(-0.0006572753190994263)\n",
      "     | > avg_loss_dur:\u001b[92m 1.9873214066028595 \u001b[0m(-0.016107946634292603)\n",
      "\n"
     ]
    },
    {
     "name": "stdout",
     "output_type": "stream",
     "text": [
      " | > Synthesizing test sentences.\n"
     ]
    },
    {
     "name": "stderr",
     "output_type": "stream",
     "text": [
      "\n",
      "  \u001b[1m--> EVAL PERFORMANCE\u001b[0m\n",
      "     | > avg_loader_time: 0.0013520121574401855 \u001b[0m(+0.0)\n",
      "     | > avg_loss: 2.9549577832221985 \u001b[0m(+0.0)\n",
      "     | > avg_log_mle: 0.967636451125145 \u001b[0m(+0.0)\n",
      "     | > avg_loss_dur: 1.9873214066028595 \u001b[0m(+0.0)\n",
      "\n",
      " > BEST MODEL : /content/drive/MyDrive/dataset/cloned/run-July-22-2023_10+56AM-0000000/best_model_202.pth\n",
      "\n",
      "\u001b[4m\u001b[1m > EPOCH: 2/150\u001b[0m\n",
      " --> /content/drive/MyDrive/dataset/cloned/run-July-22-2023_10+56AM-0000000\n",
      "\n",
      "\u001b[1m > TRAINING (2023-07-22 10:59:14) \u001b[0m\n"
     ]
    },
    {
     "name": "stdout",
     "output_type": "stream",
     "text": [
      "We make all our packaging from one hundred% recycled trash, from ocean bound plastic to landfills.\n",
      " [!] Character '%' not found in the vocabulary. Discarding it.\n"
     ]
    },
    {
     "name": "stderr",
     "output_type": "stream",
     "text": [
      "\n",
      "\u001b[1m > EVALUATION \u001b[0m\n",
      "\n",
      "\n",
      "  \u001b[1m--> EVAL PERFORMANCE\u001b[0m\n",
      "     | > avg_loader_time:\u001b[92m 0.0013352632522583008 \u001b[0m(-1.6748905181884766e-05)\n",
      "     | > avg_loss:\u001b[92m 2.9248344898223877 \u001b[0m(-0.03012329339981079)\n",
      "     | > avg_log_mle:\u001b[92m 0.9659127593040466 \u001b[0m(-0.0017236918210983276)\n",
      "     | > avg_loss_dur:\u001b[92m 1.9589217007160187 \u001b[0m(-0.02839970588684082)\n",
      "\n"
     ]
    },
    {
     "name": "stdout",
     "output_type": "stream",
     "text": [
      " | > Synthesizing test sentences.\n"
     ]
    },
    {
     "name": "stderr",
     "output_type": "stream",
     "text": [
      "\n",
      "  \u001b[1m--> EVAL PERFORMANCE\u001b[0m\n",
      "     | > avg_loader_time: 0.0013352632522583008 \u001b[0m(+0.0)\n",
      "     | > avg_loss: 2.9248344898223877 \u001b[0m(+0.0)\n",
      "     | > avg_log_mle: 0.9659127593040466 \u001b[0m(+0.0)\n",
      "     | > avg_loss_dur: 1.9589217007160187 \u001b[0m(+0.0)\n",
      "\n",
      " > BEST MODEL : /content/drive/MyDrive/dataset/cloned/run-July-22-2023_10+56AM-0000000/best_model_303.pth\n",
      "\n",
      "\u001b[4m\u001b[1m > EPOCH: 3/150\u001b[0m\n",
      " --> /content/drive/MyDrive/dataset/cloned/run-July-22-2023_10+56AM-0000000\n",
      "\n",
      "\u001b[1m > TRAINING (2023-07-22 11:00:08) \u001b[0m\n"
     ]
    },
    {
     "name": "stdout",
     "output_type": "stream",
     "text": [
      "We make all our packaging from one hundred% recycled trash, from ocean bound plastic to landfills.\n",
      " [!] Character '%' not found in the vocabulary. Discarding it.\n"
     ]
    },
    {
     "name": "stderr",
     "output_type": "stream",
     "text": [
      "\n",
      "\u001b[1m > EVALUATION \u001b[0m\n",
      "\n",
      "\n",
      "  \u001b[1m--> EVAL PERFORMANCE\u001b[0m\n",
      "     | > avg_loader_time:\u001b[91m 0.001926124095916748 \u001b[0m(+0.0005908608436584473)\n",
      "     | > avg_loss:\u001b[92m 2.8599201440811157 \u001b[0m(-0.06491434574127197)\n",
      "     | > avg_log_mle:\u001b[92m 0.9626895487308502 \u001b[0m(-0.003223210573196411)\n",
      "     | > avg_loss_dur:\u001b[92m 1.8972305655479431 \u001b[0m(-0.06169113516807556)\n",
      "\n"
     ]
    },
    {
     "name": "stdout",
     "output_type": "stream",
     "text": [
      " | > Synthesizing test sentences.\n"
     ]
    },
    {
     "name": "stderr",
     "output_type": "stream",
     "text": [
      "\n",
      "  \u001b[1m--> EVAL PERFORMANCE\u001b[0m\n",
      "     | > avg_loader_time: 0.001926124095916748 \u001b[0m(+0.0)\n",
      "     | > avg_loss: 2.8599201440811157 \u001b[0m(+0.0)\n",
      "     | > avg_log_mle: 0.9626895487308502 \u001b[0m(+0.0)\n",
      "     | > avg_loss_dur: 1.8972305655479431 \u001b[0m(+0.0)\n",
      "\n",
      " > BEST MODEL : /content/drive/MyDrive/dataset/cloned/run-July-22-2023_10+56AM-0000000/best_model_404.pth\n",
      "\n",
      "\u001b[4m\u001b[1m > EPOCH: 4/150\u001b[0m\n",
      " --> /content/drive/MyDrive/dataset/cloned/run-July-22-2023_10+56AM-0000000\n",
      "\n",
      "\u001b[1m > TRAINING (2023-07-22 11:01:09) \u001b[0m\n"
     ]
    },
    {
     "name": "stdout",
     "output_type": "stream",
     "text": [
      "We make all our packaging from one hundred% recycled trash, from ocean bound plastic to landfills.\n",
      " [!] Character '%' not found in the vocabulary. Discarding it.\n"
     ]
    },
    {
     "name": "stderr",
     "output_type": "stream",
     "text": [
      "\n",
      "\u001b[1m > EVALUATION \u001b[0m\n",
      "\n",
      "\n",
      "  \u001b[1m--> EVAL PERFORMANCE\u001b[0m\n",
      "     | > avg_loader_time:\u001b[92m 0.0016937255859375 \u001b[0m(-0.00023239850997924805)\n",
      "     | > avg_loss:\u001b[92m 2.7873944640159607 \u001b[0m(-0.07252568006515503)\n",
      "     | > avg_log_mle:\u001b[92m 0.9573519676923752 \u001b[0m(-0.005337581038475037)\n",
      "     | > avg_loss_dur:\u001b[92m 1.830042451620102 \u001b[0m(-0.06718811392784119)\n",
      "\n"
     ]
    },
    {
     "name": "stdout",
     "output_type": "stream",
     "text": [
      " | > Synthesizing test sentences.\n"
     ]
    },
    {
     "name": "stderr",
     "output_type": "stream",
     "text": [
      "\n",
      "  \u001b[1m--> EVAL PERFORMANCE\u001b[0m\n",
      "     | > avg_loader_time: 0.0016937255859375 \u001b[0m(+0.0)\n",
      "     | > avg_loss: 2.7873944640159607 \u001b[0m(+0.0)\n",
      "     | > avg_log_mle: 0.9573519676923752 \u001b[0m(+0.0)\n",
      "     | > avg_loss_dur: 1.830042451620102 \u001b[0m(+0.0)\n",
      "\n",
      " > BEST MODEL : /content/drive/MyDrive/dataset/cloned/run-July-22-2023_10+56AM-0000000/best_model_505.pth\n",
      "\n",
      "\u001b[4m\u001b[1m > EPOCH: 5/150\u001b[0m\n",
      " --> /content/drive/MyDrive/dataset/cloned/run-July-22-2023_10+56AM-0000000\n",
      "\n",
      "\u001b[1m > TRAINING (2023-07-22 11:02:11) \u001b[0m\n"
     ]
    },
    {
     "name": "stdout",
     "output_type": "stream",
     "text": [
      "We make all our packaging from one hundred% recycled trash, from ocean bound plastic to landfills.\n",
      " [!] Character '%' not found in the vocabulary. Discarding it.\n"
     ]
    },
    {
     "name": "stderr",
     "output_type": "stream",
     "text": [
      "\n",
      "\u001b[1m > EVALUATION \u001b[0m\n",
      "\n",
      "\n",
      "  \u001b[1m--> EVAL PERFORMANCE\u001b[0m\n",
      "     | > avg_loader_time:\u001b[91m 0.0017575621604919434 \u001b[0m(+6.383657455444336e-05)\n",
      "     | > avg_loss:\u001b[92m 2.6789037585258484 \u001b[0m(-0.1084907054901123)\n",
      "     | > avg_log_mle:\u001b[92m 0.9490349590778351 \u001b[0m(-0.0083170086145401)\n",
      "     | > avg_loss_dur:\u001b[92m 1.7298687994480133 \u001b[0m(-0.10017365217208862)\n",
      "\n"
     ]
    },
    {
     "name": "stdout",
     "output_type": "stream",
     "text": [
      " | > Synthesizing test sentences.\n"
     ]
    },
    {
     "name": "stderr",
     "output_type": "stream",
     "text": [
      "\n",
      "  \u001b[1m--> EVAL PERFORMANCE\u001b[0m\n",
      "     | > avg_loader_time: 0.0017575621604919434 \u001b[0m(+0.0)\n",
      "     | > avg_loss: 2.6789037585258484 \u001b[0m(+0.0)\n",
      "     | > avg_log_mle: 0.9490349590778351 \u001b[0m(+0.0)\n",
      "     | > avg_loss_dur: 1.7298687994480133 \u001b[0m(+0.0)\n",
      "\n",
      " > BEST MODEL : /content/drive/MyDrive/dataset/cloned/run-July-22-2023_10+56AM-0000000/best_model_606.pth\n",
      "\n",
      "\u001b[4m\u001b[1m > EPOCH: 6/150\u001b[0m\n",
      " --> /content/drive/MyDrive/dataset/cloned/run-July-22-2023_10+56AM-0000000\n",
      "\n",
      "\u001b[1m > TRAINING (2023-07-22 11:03:09) \u001b[0m\n"
     ]
    },
    {
     "name": "stdout",
     "output_type": "stream",
     "text": [
      "We make all our packaging from one hundred% recycled trash, from ocean bound plastic to landfills.\n",
      " [!] Character '%' not found in the vocabulary. Discarding it.\n"
     ]
    },
    {
     "name": "stderr",
     "output_type": "stream",
     "text": [
      "\n",
      "\u001b[1m > EVALUATION \u001b[0m\n",
      "\n",
      "\n",
      "  \u001b[1m--> EVAL PERFORMANCE\u001b[0m\n",
      "     | > avg_loader_time:\u001b[92m 0.0013952851295471191 \u001b[0m(-0.0003622770309448242)\n",
      "     | > avg_loss:\u001b[92m 2.5679031014442444 \u001b[0m(-0.111000657081604)\n",
      "     | > avg_log_mle:\u001b[92m 0.936678022146225 \u001b[0m(-0.012356936931610107)\n",
      "     | > avg_loss_dur:\u001b[92m 1.631225049495697 \u001b[0m(-0.09864374995231628)\n",
      "\n"
     ]
    },
    {
     "name": "stdout",
     "output_type": "stream",
     "text": [
      " | > Synthesizing test sentences.\n"
     ]
    },
    {
     "name": "stderr",
     "output_type": "stream",
     "text": [
      "\n",
      "  \u001b[1m--> EVAL PERFORMANCE\u001b[0m\n",
      "     | > avg_loader_time: 0.0013952851295471191 \u001b[0m(+0.0)\n",
      "     | > avg_loss: 2.5679031014442444 \u001b[0m(+0.0)\n",
      "     | > avg_log_mle: 0.936678022146225 \u001b[0m(+0.0)\n",
      "     | > avg_loss_dur: 1.631225049495697 \u001b[0m(+0.0)\n",
      "\n",
      " > BEST MODEL : /content/drive/MyDrive/dataset/cloned/run-July-22-2023_10+56AM-0000000/best_model_707.pth\n",
      "\n",
      "\u001b[4m\u001b[1m > EPOCH: 7/150\u001b[0m\n",
      " --> /content/drive/MyDrive/dataset/cloned/run-July-22-2023_10+56AM-0000000\n",
      "\n",
      "\u001b[1m > TRAINING (2023-07-22 11:04:06) \u001b[0m\n"
     ]
    },
    {
     "name": "stdout",
     "output_type": "stream",
     "text": [
      "We make all our packaging from one hundred% recycled trash, from ocean bound plastic to landfills.\n",
      " [!] Character '%' not found in the vocabulary. Discarding it.\n"
     ]
    },
    {
     "name": "stderr",
     "output_type": "stream",
     "text": [
      "\n",
      "\u001b[1m > EVALUATION \u001b[0m\n",
      "\n",
      "\n",
      "  \u001b[1m--> EVAL PERFORMANCE\u001b[0m\n",
      "     | > avg_loader_time:\u001b[91m 0.0015972256660461426 \u001b[0m(+0.00020194053649902344)\n",
      "     | > avg_loss:\u001b[92m 2.4833183884620667 \u001b[0m(-0.08458471298217773)\n",
      "     | > avg_log_mle:\u001b[92m 0.9193778932094574 \u001b[0m(-0.017300128936767578)\n",
      "     | > avg_loss_dur:\u001b[92m 1.5639404356479645 \u001b[0m(-0.06728461384773254)\n",
      "\n"
     ]
    },
    {
     "name": "stdout",
     "output_type": "stream",
     "text": [
      " | > Synthesizing test sentences.\n"
     ]
    },
    {
     "name": "stderr",
     "output_type": "stream",
     "text": [
      "\n",
      "  \u001b[1m--> EVAL PERFORMANCE\u001b[0m\n",
      "     | > avg_loader_time: 0.0015972256660461426 \u001b[0m(+0.0)\n",
      "     | > avg_loss: 2.4833183884620667 \u001b[0m(+0.0)\n",
      "     | > avg_log_mle: 0.9193778932094574 \u001b[0m(+0.0)\n",
      "     | > avg_loss_dur: 1.5639404356479645 \u001b[0m(+0.0)\n",
      "\n",
      " > BEST MODEL : /content/drive/MyDrive/dataset/cloned/run-July-22-2023_10+56AM-0000000/best_model_808.pth\n",
      "\n",
      "\u001b[4m\u001b[1m > EPOCH: 8/150\u001b[0m\n",
      " --> /content/drive/MyDrive/dataset/cloned/run-July-22-2023_10+56AM-0000000\n",
      "\n",
      "\u001b[1m > TRAINING (2023-07-22 11:05:06) \u001b[0m\n"
     ]
    },
    {
     "name": "stdout",
     "output_type": "stream",
     "text": [
      "We make all our packaging from one hundred% recycled trash, from ocean bound plastic to landfills.\n",
      " [!] Character '%' not found in the vocabulary. Discarding it.\n"
     ]
    },
    {
     "name": "stderr",
     "output_type": "stream",
     "text": [
      "\n",
      "\u001b[1m > EVALUATION \u001b[0m\n",
      "\n",
      "\n",
      "  \u001b[1m--> EVAL PERFORMANCE\u001b[0m\n",
      "     | > avg_loader_time:\u001b[91m 0.0019575953483581543 \u001b[0m(+0.0003603696823120117)\n",
      "     | > avg_loss:\u001b[92m 2.378340423107147 \u001b[0m(-0.10497796535491943)\n",
      "     | > avg_log_mle:\u001b[92m 0.8968482613563538 \u001b[0m(-0.022529631853103638)\n",
      "     | > avg_loss_dur:\u001b[92m 1.4814921617507935 \u001b[0m(-0.08244827389717102)\n",
      "\n"
     ]
    },
    {
     "name": "stdout",
     "output_type": "stream",
     "text": [
      " | > Synthesizing test sentences.\n"
     ]
    },
    {
     "name": "stderr",
     "output_type": "stream",
     "text": [
      "\n",
      "  \u001b[1m--> EVAL PERFORMANCE\u001b[0m\n",
      "     | > avg_loader_time: 0.0019575953483581543 \u001b[0m(+0.0)\n",
      "     | > avg_loss: 2.378340423107147 \u001b[0m(+0.0)\n",
      "     | > avg_log_mle: 0.8968482613563538 \u001b[0m(+0.0)\n",
      "     | > avg_loss_dur: 1.4814921617507935 \u001b[0m(+0.0)\n",
      "\n",
      " > BEST MODEL : /content/drive/MyDrive/dataset/cloned/run-July-22-2023_10+56AM-0000000/best_model_909.pth\n",
      "\n",
      "\u001b[4m\u001b[1m > EPOCH: 9/150\u001b[0m\n",
      " --> /content/drive/MyDrive/dataset/cloned/run-July-22-2023_10+56AM-0000000\n",
      "\n",
      "\u001b[1m > TRAINING (2023-07-22 11:06:06) \u001b[0m\n"
     ]
    },
    {
     "name": "stdout",
     "output_type": "stream",
     "text": [
      "We make all our packaging from one hundred% recycled trash, from ocean bound plastic to landfills.\n",
      " [!] Character '%' not found in the vocabulary. Discarding it.\n"
     ]
    },
    {
     "name": "stderr",
     "output_type": "stream",
     "text": [
      "\n",
      "\u001b[1m   --> TIME: 2023-07-22 11:06:47 -- STEP: 91/101 -- GLOBAL_STEP: 1000\u001b[0m\n",
      "     | > loss: 2.6085739135742188  (2.468623640773061)\n",
      "     | > log_mle: 0.8611444234848022  (0.8835962041393741)\n",
      "     | > loss_dur: 1.747429609298706  (1.5850274248437568)\n",
      "     | > amp_scaler: 16384.0  (16384.0)\n",
      "     | > grad_norm: tensor(5.6364, device='cuda:0')  (tensor(5.5299, device='cuda:0'))\n",
      "     | > current_lr: 1.125e-06 \n",
      "     | > step_time: 0.2986  (0.4287863144507775)\n",
      "     | > loader_time: 0.0032  (0.004269880252880054)\n",
      "\n",
      "\n",
      "\u001b[1m > EVALUATION \u001b[0m\n",
      "\n",
      "\n",
      "  \u001b[1m--> EVAL PERFORMANCE\u001b[0m\n",
      "     | > avg_loader_time:\u001b[92m 0.001154184341430664 \u001b[0m(-0.0008034110069274902)\n",
      "     | > avg_loss:\u001b[92m 2.2995622158050537 \u001b[0m(-0.0787782073020935)\n",
      "     | > avg_log_mle:\u001b[92m 0.8692667484283447 \u001b[0m(-0.027581512928009033)\n",
      "     | > avg_loss_dur:\u001b[92m 1.4302955269813538 \u001b[0m(-0.0511966347694397)\n",
      "\n"
     ]
    },
    {
     "name": "stdout",
     "output_type": "stream",
     "text": [
      " | > Synthesizing test sentences.\n"
     ]
    },
    {
     "name": "stderr",
     "output_type": "stream",
     "text": [
      "\n",
      "  \u001b[1m--> EVAL PERFORMANCE\u001b[0m\n",
      "     | > avg_loader_time: 0.001154184341430664 \u001b[0m(+0.0)\n",
      "     | > avg_loss: 2.2995622158050537 \u001b[0m(+0.0)\n",
      "     | > avg_log_mle: 0.8692667484283447 \u001b[0m(+0.0)\n",
      "     | > avg_loss_dur: 1.4302955269813538 \u001b[0m(+0.0)\n",
      "\n",
      " > BEST MODEL : /content/drive/MyDrive/dataset/cloned/run-July-22-2023_10+56AM-0000000/best_model_1010.pth\n",
      "\n",
      "\u001b[4m\u001b[1m > EPOCH: 10/150\u001b[0m\n",
      " --> /content/drive/MyDrive/dataset/cloned/run-July-22-2023_10+56AM-0000000\n",
      "\n",
      "\u001b[1m > TRAINING (2023-07-22 11:07:07) \u001b[0m\n"
     ]
    },
    {
     "name": "stdout",
     "output_type": "stream",
     "text": [
      "We make all our packaging from one hundred% recycled trash, from ocean bound plastic to landfills.\n",
      " [!] Character '%' not found in the vocabulary. Discarding it.\n"
     ]
    },
    {
     "name": "stderr",
     "output_type": "stream",
     "text": [
      "\n",
      "\u001b[1m > EVALUATION \u001b[0m\n",
      "\n",
      "\n",
      "  \u001b[1m--> EVAL PERFORMANCE\u001b[0m\n",
      "     | > avg_loader_time:\u001b[91m 0.001288294792175293 \u001b[0m(+0.0001341104507446289)\n",
      "     | > avg_loss:\u001b[92m 2.2455829977989197 \u001b[0m(-0.05397921800613403)\n",
      "     | > avg_log_mle:\u001b[92m 0.8358208537101746 \u001b[0m(-0.033445894718170166)\n",
      "     | > avg_loss_dur:\u001b[92m 1.4097621142864227 \u001b[0m(-0.02053341269493103)\n",
      "\n"
     ]
    },
    {
     "name": "stdout",
     "output_type": "stream",
     "text": [
      " | > Synthesizing test sentences.\n"
     ]
    },
    {
     "name": "stderr",
     "output_type": "stream",
     "text": [
      "\n",
      "  \u001b[1m--> EVAL PERFORMANCE\u001b[0m\n",
      "     | > avg_loader_time: 0.001288294792175293 \u001b[0m(+0.0)\n",
      "     | > avg_loss: 2.2455829977989197 \u001b[0m(+0.0)\n",
      "     | > avg_log_mle: 0.8358208537101746 \u001b[0m(+0.0)\n",
      "     | > avg_loss_dur: 1.4097621142864227 \u001b[0m(+0.0)\n",
      "\n",
      " > BEST MODEL : /content/drive/MyDrive/dataset/cloned/run-July-22-2023_10+56AM-0000000/best_model_1111.pth\n",
      "\n",
      "\u001b[4m\u001b[1m > EPOCH: 11/150\u001b[0m\n",
      " --> /content/drive/MyDrive/dataset/cloned/run-July-22-2023_10+56AM-0000000\n",
      "\n",
      "\u001b[1m > TRAINING (2023-07-22 11:08:09) \u001b[0m\n"
     ]
    },
    {
     "name": "stdout",
     "output_type": "stream",
     "text": [
      "We make all our packaging from one hundred% recycled trash, from ocean bound plastic to landfills.\n",
      " [!] Character '%' not found in the vocabulary. Discarding it.\n"
     ]
    },
    {
     "name": "stderr",
     "output_type": "stream",
     "text": [
      "\n",
      "\u001b[1m > EVALUATION \u001b[0m\n",
      "\n",
      "\n",
      "  \u001b[1m--> EVAL PERFORMANCE\u001b[0m\n",
      "     | > avg_loader_time:\u001b[91m 0.0019303560256958008 \u001b[0m(+0.0006420612335205078)\n",
      "     | > avg_loss:\u001b[92m 2.1898619532585144 \u001b[0m(-0.05572104454040527)\n",
      "     | > avg_log_mle:\u001b[92m 0.7956240028142929 \u001b[0m(-0.04019685089588165)\n",
      "     | > avg_loss_dur:\u001b[92m 1.3942379653453827 \u001b[0m(-0.015524148941040039)\n",
      "\n"
     ]
    },
    {
     "name": "stdout",
     "output_type": "stream",
     "text": [
      " | > Synthesizing test sentences.\n"
     ]
    },
    {
     "name": "stderr",
     "output_type": "stream",
     "text": [
      "\n",
      "  \u001b[1m--> EVAL PERFORMANCE\u001b[0m\n",
      "     | > avg_loader_time: 0.0019303560256958008 \u001b[0m(+0.0)\n",
      "     | > avg_loss: 2.1898619532585144 \u001b[0m(+0.0)\n",
      "     | > avg_log_mle: 0.7956240028142929 \u001b[0m(+0.0)\n",
      "     | > avg_loss_dur: 1.3942379653453827 \u001b[0m(+0.0)\n",
      "\n",
      " > BEST MODEL : /content/drive/MyDrive/dataset/cloned/run-July-22-2023_10+56AM-0000000/best_model_1212.pth\n",
      "\n",
      "\u001b[4m\u001b[1m > EPOCH: 12/150\u001b[0m\n",
      " --> /content/drive/MyDrive/dataset/cloned/run-July-22-2023_10+56AM-0000000\n",
      "\n",
      "\u001b[1m > TRAINING (2023-07-22 11:09:07) \u001b[0m\n"
     ]
    },
    {
     "name": "stdout",
     "output_type": "stream",
     "text": [
      "We make all our packaging from one hundred% recycled trash, from ocean bound plastic to landfills.\n",
      " [!] Character '%' not found in the vocabulary. Discarding it.\n"
     ]
    },
    {
     "name": "stderr",
     "output_type": "stream",
     "text": [
      "\n",
      "\u001b[1m > EVALUATION \u001b[0m\n",
      "\n",
      "\n",
      "  \u001b[1m--> EVAL PERFORMANCE\u001b[0m\n",
      "     | > avg_loader_time:\u001b[92m 0.0019158720970153809 \u001b[0m(-1.4483928680419922e-05)\n",
      "     | > avg_loss:\u001b[92m 2.128827750682831 \u001b[0m(-0.061034202575683594)\n",
      "     | > avg_log_mle:\u001b[92m 0.7472200095653534 \u001b[0m(-0.048403993248939514)\n",
      "     | > avg_loss_dur:\u001b[92m 1.3816077709197998 \u001b[0m(-0.012630194425582886)\n",
      "\n"
     ]
    },
    {
     "name": "stdout",
     "output_type": "stream",
     "text": [
      " | > Synthesizing test sentences.\n"
     ]
    },
    {
     "name": "stderr",
     "output_type": "stream",
     "text": [
      "\n",
      "  \u001b[1m--> EVAL PERFORMANCE\u001b[0m\n",
      "     | > avg_loader_time: 0.0019158720970153809 \u001b[0m(+0.0)\n",
      "     | > avg_loss: 2.128827750682831 \u001b[0m(+0.0)\n",
      "     | > avg_log_mle: 0.7472200095653534 \u001b[0m(+0.0)\n",
      "     | > avg_loss_dur: 1.3816077709197998 \u001b[0m(+0.0)\n",
      "\n",
      " > BEST MODEL : /content/drive/MyDrive/dataset/cloned/run-July-22-2023_10+56AM-0000000/best_model_1313.pth\n",
      "\n",
      "\u001b[4m\u001b[1m > EPOCH: 13/150\u001b[0m\n",
      " --> /content/drive/MyDrive/dataset/cloned/run-July-22-2023_10+56AM-0000000\n",
      "\n",
      "\u001b[1m > TRAINING (2023-07-22 11:10:09) \u001b[0m\n"
     ]
    },
    {
     "name": "stdout",
     "output_type": "stream",
     "text": [
      "We make all our packaging from one hundred% recycled trash, from ocean bound plastic to landfills.\n",
      " [!] Character '%' not found in the vocabulary. Discarding it.\n"
     ]
    },
    {
     "name": "stderr",
     "output_type": "stream",
     "text": [
      "\n",
      "\u001b[1m > EVALUATION \u001b[0m\n",
      "\n",
      "\n",
      "  \u001b[1m--> EVAL PERFORMANCE\u001b[0m\n",
      "     | > avg_loader_time:\u001b[92m 0.0018113255500793457 \u001b[0m(-0.00010454654693603516)\n",
      "     | > avg_loss:\u001b[92m 2.055202692747116 \u001b[0m(-0.07362505793571472)\n",
      "     | > avg_log_mle:\u001b[92m 0.6906641572713852 \u001b[0m(-0.0565558522939682)\n",
      "     | > avg_loss_dur:\u001b[92m 1.3645385205745697 \u001b[0m(-0.017069250345230103)\n",
      "\n"
     ]
    },
    {
     "name": "stdout",
     "output_type": "stream",
     "text": [
      " | > Synthesizing test sentences.\n"
     ]
    },
    {
     "name": "stderr",
     "output_type": "stream",
     "text": [
      "\n",
      "  \u001b[1m--> EVAL PERFORMANCE\u001b[0m\n",
      "     | > avg_loader_time: 0.0018113255500793457 \u001b[0m(+0.0)\n",
      "     | > avg_loss: 2.055202692747116 \u001b[0m(+0.0)\n",
      "     | > avg_log_mle: 0.6906641572713852 \u001b[0m(+0.0)\n",
      "     | > avg_loss_dur: 1.3645385205745697 \u001b[0m(+0.0)\n",
      "\n",
      " > BEST MODEL : /content/drive/MyDrive/dataset/cloned/run-July-22-2023_10+56AM-0000000/best_model_1414.pth\n",
      "\n",
      "\u001b[4m\u001b[1m > EPOCH: 14/150\u001b[0m\n",
      " --> /content/drive/MyDrive/dataset/cloned/run-July-22-2023_10+56AM-0000000\n",
      "\n",
      "\u001b[1m > TRAINING (2023-07-22 11:11:07) \u001b[0m\n"
     ]
    },
    {
     "name": "stdout",
     "output_type": "stream",
     "text": [
      "We make all our packaging from one hundred% recycled trash, from ocean bound plastic to landfills.\n",
      " [!] Character '%' not found in the vocabulary. Discarding it.\n"
     ]
    },
    {
     "name": "stderr",
     "output_type": "stream",
     "text": [
      "\n",
      "\u001b[1m > EVALUATION \u001b[0m\n",
      "\n",
      "\n",
      "  \u001b[1m--> EVAL PERFORMANCE\u001b[0m\n",
      "     | > avg_loader_time:\u001b[91m 0.0019896626472473145 \u001b[0m(+0.00017833709716796875)\n",
      "     | > avg_loss:\u001b[92m 1.9404034912586212 \u001b[0m(-0.11479920148849487)\n",
      "     | > avg_log_mle:\u001b[92m 0.6303393244743347 \u001b[0m(-0.060324832797050476)\n",
      "     | > avg_loss_dur:\u001b[92m 1.3100641667842865 \u001b[0m(-0.0544743537902832)\n",
      "\n"
     ]
    },
    {
     "name": "stdout",
     "output_type": "stream",
     "text": [
      " | > Synthesizing test sentences.\n"
     ]
    },
    {
     "name": "stderr",
     "output_type": "stream",
     "text": [
      "\n",
      "  \u001b[1m--> EVAL PERFORMANCE\u001b[0m\n",
      "     | > avg_loader_time: 0.0019896626472473145 \u001b[0m(+0.0)\n",
      "     | > avg_loss: 1.9404034912586212 \u001b[0m(+0.0)\n",
      "     | > avg_log_mle: 0.6303393244743347 \u001b[0m(+0.0)\n",
      "     | > avg_loss_dur: 1.3100641667842865 \u001b[0m(+0.0)\n",
      "\n",
      " > BEST MODEL : /content/drive/MyDrive/dataset/cloned/run-July-22-2023_10+56AM-0000000/best_model_1515.pth\n",
      "\n",
      "\u001b[4m\u001b[1m > EPOCH: 15/150\u001b[0m\n",
      " --> /content/drive/MyDrive/dataset/cloned/run-July-22-2023_10+56AM-0000000\n",
      "\n",
      "\u001b[1m > TRAINING (2023-07-22 11:12:06) \u001b[0m\n"
     ]
    },
    {
     "name": "stdout",
     "output_type": "stream",
     "text": [
      "We make all our packaging from one hundred% recycled trash, from ocean bound plastic to landfills.\n",
      " [!] Character '%' not found in the vocabulary. Discarding it.\n"
     ]
    },
    {
     "name": "stderr",
     "output_type": "stream",
     "text": [
      "\n",
      "\u001b[1m > EVALUATION \u001b[0m\n",
      "\n",
      "\n",
      "  \u001b[1m--> EVAL PERFORMANCE\u001b[0m\n",
      "     | > avg_loader_time:\u001b[92m 0.001728832721710205 \u001b[0m(-0.0002608299255371094)\n",
      "     | > avg_loss:\u001b[92m 1.7894780933856964 \u001b[0m(-0.1509253978729248)\n",
      "     | > avg_log_mle:\u001b[92m 0.5743627175688744 \u001b[0m(-0.05597660690546036)\n",
      "     | > avg_loss_dur:\u001b[92m 1.2151153683662415 \u001b[0m(-0.09494879841804504)\n",
      "\n"
     ]
    },
    {
     "name": "stdout",
     "output_type": "stream",
     "text": [
      " | > Synthesizing test sentences.\n"
     ]
    },
    {
     "name": "stderr",
     "output_type": "stream",
     "text": [
      "\n",
      "  \u001b[1m--> EVAL PERFORMANCE\u001b[0m\n",
      "     | > avg_loader_time: 0.001728832721710205 \u001b[0m(+0.0)\n",
      "     | > avg_loss: 1.7894780933856964 \u001b[0m(+0.0)\n",
      "     | > avg_log_mle: 0.5743627175688744 \u001b[0m(+0.0)\n",
      "     | > avg_loss_dur: 1.2151153683662415 \u001b[0m(+0.0)\n",
      "\n",
      " > BEST MODEL : /content/drive/MyDrive/dataset/cloned/run-July-22-2023_10+56AM-0000000/best_model_1616.pth\n",
      "\n",
      "\u001b[4m\u001b[1m > EPOCH: 16/150\u001b[0m\n",
      " --> /content/drive/MyDrive/dataset/cloned/run-July-22-2023_10+56AM-0000000\n",
      "\n",
      "\u001b[1m > TRAINING (2023-07-22 11:13:13) \u001b[0m\n"
     ]
    },
    {
     "name": "stdout",
     "output_type": "stream",
     "text": [
      "We make all our packaging from one hundred% recycled trash, from ocean bound plastic to landfills.\n",
      " [!] Character '%' not found in the vocabulary. Discarding it.\n"
     ]
    },
    {
     "name": "stderr",
     "output_type": "stream",
     "text": [
      "\n",
      "\u001b[1m > EVALUATION \u001b[0m\n",
      "\n",
      "\n",
      "  \u001b[1m--> EVAL PERFORMANCE\u001b[0m\n",
      "     | > avg_loader_time:\u001b[92m 0.0016385316848754883 \u001b[0m(-9.03010368347168e-05)\n",
      "     | > avg_loss:\u001b[92m 1.6644181609153748 \u001b[0m(-0.12505993247032166)\n",
      "     | > avg_log_mle:\u001b[92m 0.5273373275995255 \u001b[0m(-0.04702538996934891)\n",
      "     | > avg_loss_dur:\u001b[92m 1.1370808482170105 \u001b[0m(-0.07803452014923096)\n",
      "\n"
     ]
    },
    {
     "name": "stdout",
     "output_type": "stream",
     "text": [
      " | > Synthesizing test sentences.\n"
     ]
    },
    {
     "name": "stderr",
     "output_type": "stream",
     "text": [
      "\n",
      "  \u001b[1m--> EVAL PERFORMANCE\u001b[0m\n",
      "     | > avg_loader_time: 0.0016385316848754883 \u001b[0m(+0.0)\n",
      "     | > avg_loss: 1.6644181609153748 \u001b[0m(+0.0)\n",
      "     | > avg_log_mle: 0.5273373275995255 \u001b[0m(+0.0)\n",
      "     | > avg_loss_dur: 1.1370808482170105 \u001b[0m(+0.0)\n",
      "\n",
      " > BEST MODEL : /content/drive/MyDrive/dataset/cloned/run-July-22-2023_10+56AM-0000000/best_model_1717.pth\n",
      "\n",
      "\u001b[4m\u001b[1m > EPOCH: 17/150\u001b[0m\n",
      " --> /content/drive/MyDrive/dataset/cloned/run-July-22-2023_10+56AM-0000000\n",
      "\n",
      "\u001b[1m > TRAINING (2023-07-22 11:14:17) \u001b[0m\n"
     ]
    },
    {
     "name": "stdout",
     "output_type": "stream",
     "text": [
      "We make all our packaging from one hundred% recycled trash, from ocean bound plastic to landfills.\n",
      " [!] Character '%' not found in the vocabulary. Discarding it.\n"
     ]
    },
    {
     "name": "stderr",
     "output_type": "stream",
     "text": [
      "\n",
      "\u001b[1m > EVALUATION \u001b[0m\n",
      "\n",
      "\n",
      "  \u001b[1m--> EVAL PERFORMANCE\u001b[0m\n",
      "     | > avg_loader_time:\u001b[91m 0.0016715526580810547 \u001b[0m(+3.3020973205566406e-05)\n",
      "     | > avg_loss:\u001b[92m 1.535398691892624 \u001b[0m(-0.12901946902275085)\n",
      "     | > avg_log_mle:\u001b[92m 0.4881204664707184 \u001b[0m(-0.03921686112880707)\n",
      "     | > avg_loss_dur:\u001b[92m 1.0472782254219055 \u001b[0m(-0.08980262279510498)\n",
      "\n"
     ]
    },
    {
     "name": "stdout",
     "output_type": "stream",
     "text": [
      " | > Synthesizing test sentences.\n"
     ]
    },
    {
     "name": "stderr",
     "output_type": "stream",
     "text": [
      "\n",
      "  \u001b[1m--> EVAL PERFORMANCE\u001b[0m\n",
      "     | > avg_loader_time: 0.0016715526580810547 \u001b[0m(+0.0)\n",
      "     | > avg_loss: 1.535398691892624 \u001b[0m(+0.0)\n",
      "     | > avg_log_mle: 0.4881204664707184 \u001b[0m(+0.0)\n",
      "     | > avg_loss_dur: 1.0472782254219055 \u001b[0m(+0.0)\n",
      "\n",
      " > BEST MODEL : /content/drive/MyDrive/dataset/cloned/run-July-22-2023_10+56AM-0000000/best_model_1818.pth\n",
      "\n",
      "\u001b[4m\u001b[1m > EPOCH: 18/150\u001b[0m\n",
      " --> /content/drive/MyDrive/dataset/cloned/run-July-22-2023_10+56AM-0000000\n",
      "\n",
      "\u001b[1m > TRAINING (2023-07-22 11:15:24) \u001b[0m\n"
     ]
    },
    {
     "name": "stdout",
     "output_type": "stream",
     "text": [
      "We make all our packaging from one hundred% recycled trash, from ocean bound plastic to landfills.\n",
      " [!] Character '%' not found in the vocabulary. Discarding it.\n"
     ]
    },
    {
     "name": "stderr",
     "output_type": "stream",
     "text": [
      "\n",
      "\u001b[1m > EVALUATION \u001b[0m\n",
      "\n",
      "\n",
      "  \u001b[1m--> EVAL PERFORMANCE\u001b[0m\n",
      "     | > avg_loader_time:\u001b[91m 0.0017508268356323242 \u001b[0m(+7.927417755126953e-05)\n",
      "     | > avg_loss:\u001b[92m 1.4341983199119568 \u001b[0m(-0.10120037198066711)\n",
      "     | > avg_log_mle:\u001b[92m 0.4554271548986435 \u001b[0m(-0.03269331157207489)\n",
      "     | > avg_loss_dur:\u001b[92m 0.9787711650133133 \u001b[0m(-0.06850706040859222)\n",
      "\n"
     ]
    },
    {
     "name": "stdout",
     "output_type": "stream",
     "text": [
      " | > Synthesizing test sentences.\n"
     ]
    },
    {
     "name": "stderr",
     "output_type": "stream",
     "text": [
      "\n",
      "  \u001b[1m--> EVAL PERFORMANCE\u001b[0m\n",
      "     | > avg_loader_time: 0.0017508268356323242 \u001b[0m(+0.0)\n",
      "     | > avg_loss: 1.4341983199119568 \u001b[0m(+0.0)\n",
      "     | > avg_log_mle: 0.4554271548986435 \u001b[0m(+0.0)\n",
      "     | > avg_loss_dur: 0.9787711650133133 \u001b[0m(+0.0)\n",
      "\n",
      " > BEST MODEL : /content/drive/MyDrive/dataset/cloned/run-July-22-2023_10+56AM-0000000/best_model_1919.pth\n",
      "\n",
      "\u001b[4m\u001b[1m > EPOCH: 19/150\u001b[0m\n",
      " --> /content/drive/MyDrive/dataset/cloned/run-July-22-2023_10+56AM-0000000\n",
      "\n",
      "\u001b[1m > TRAINING (2023-07-22 11:16:30) \u001b[0m\n"
     ]
    },
    {
     "name": "stdout",
     "output_type": "stream",
     "text": [
      "We make all our packaging from one hundred% recycled trash, from ocean bound plastic to landfills.\n",
      " [!] Character '%' not found in the vocabulary. Discarding it.\n"
     ]
    },
    {
     "name": "stderr",
     "output_type": "stream",
     "text": [
      "\n",
      "\u001b[1m   --> TIME: 2023-07-22 11:17:06 -- STEP: 81/101 -- GLOBAL_STEP: 2000\u001b[0m\n",
      "     | > loss: 1.329172134399414  (1.4737232011041526)\n",
      "     | > log_mle: 0.47346222400665283  (0.43810691178580863)\n",
      "     | > loss_dur: 0.8557098507881165  (1.035616293365572)\n",
      "     | > amp_scaler: 16384.0  (16384.0)\n",
      "     | > grad_norm: tensor(3.0705, device='cuda:0')  (tensor(3.4204, device='cuda:0'))\n",
      "     | > current_lr: 2.3749999999999997e-06 \n",
      "     | > step_time: 0.2942  (0.39626999548923825)\n",
      "     | > loader_time: 0.0036  (0.00451547422526795)\n",
      "\n",
      "\n",
      "\u001b[1m > EVALUATION \u001b[0m\n",
      "\n",
      "\n",
      "  \u001b[1m--> EVAL PERFORMANCE\u001b[0m\n",
      "     | > avg_loader_time:\u001b[92m 0.0017498135566711426 \u001b[0m(-1.0132789611816406e-06)\n",
      "     | > avg_loss:\u001b[92m 1.3498144447803497 \u001b[0m(-0.08438387513160706)\n",
      "     | > avg_log_mle:\u001b[92m 0.4286133348941803 \u001b[0m(-0.026813820004463196)\n",
      "     | > avg_loss_dur:\u001b[92m 0.9212010949850082 \u001b[0m(-0.057570070028305054)\n",
      "\n"
     ]
    },
    {
     "name": "stdout",
     "output_type": "stream",
     "text": [
      " | > Synthesizing test sentences.\n"
     ]
    },
    {
     "name": "stderr",
     "output_type": "stream",
     "text": [
      "\n",
      "  \u001b[1m--> EVAL PERFORMANCE\u001b[0m\n",
      "     | > avg_loader_time: 0.0017498135566711426 \u001b[0m(+0.0)\n",
      "     | > avg_loss: 1.3498144447803497 \u001b[0m(+0.0)\n",
      "     | > avg_log_mle: 0.4286133348941803 \u001b[0m(+0.0)\n",
      "     | > avg_loss_dur: 0.9212010949850082 \u001b[0m(+0.0)\n",
      "\n",
      " > BEST MODEL : /content/drive/MyDrive/dataset/cloned/run-July-22-2023_10+56AM-0000000/best_model_2020.pth\n",
      "\n",
      "\u001b[4m\u001b[1m > EPOCH: 20/150\u001b[0m\n",
      " --> /content/drive/MyDrive/dataset/cloned/run-July-22-2023_10+56AM-0000000\n",
      "\n",
      "\u001b[1m > TRAINING (2023-07-22 11:17:31) \u001b[0m\n"
     ]
    },
    {
     "name": "stdout",
     "output_type": "stream",
     "text": [
      "We make all our packaging from one hundred% recycled trash, from ocean bound plastic to landfills.\n",
      " [!] Character '%' not found in the vocabulary. Discarding it.\n"
     ]
    },
    {
     "name": "stderr",
     "output_type": "stream",
     "text": [
      "\n",
      "\u001b[1m > EVALUATION \u001b[0m\n",
      "\n",
      "\n",
      "  \u001b[1m--> EVAL PERFORMANCE\u001b[0m\n",
      "     | > avg_loader_time:\u001b[91m 0.0020393729209899902 \u001b[0m(+0.00028955936431884766)\n",
      "     | > avg_loss:\u001b[92m 1.2826115489006042 \u001b[0m(-0.06720289587974548)\n",
      "     | > avg_log_mle:\u001b[92m 0.4051723927259445 \u001b[0m(-0.02344094216823578)\n",
      "     | > avg_loss_dur:\u001b[92m 0.8774391561746597 \u001b[0m(-0.04376193881034851)\n",
      "\n"
     ]
    },
    {
     "name": "stdout",
     "output_type": "stream",
     "text": [
      " | > Synthesizing test sentences.\n"
     ]
    },
    {
     "name": "stderr",
     "output_type": "stream",
     "text": [
      "\n",
      "  \u001b[1m--> EVAL PERFORMANCE\u001b[0m\n",
      "     | > avg_loader_time: 0.0020393729209899902 \u001b[0m(+0.0)\n",
      "     | > avg_loss: 1.2826115489006042 \u001b[0m(+0.0)\n",
      "     | > avg_log_mle: 0.4051723927259445 \u001b[0m(+0.0)\n",
      "     | > avg_loss_dur: 0.8774391561746597 \u001b[0m(+0.0)\n",
      "\n",
      " > BEST MODEL : /content/drive/MyDrive/dataset/cloned/run-July-22-2023_10+56AM-0000000/best_model_2121.pth\n",
      "\n",
      "\u001b[4m\u001b[1m > EPOCH: 21/150\u001b[0m\n",
      " --> /content/drive/MyDrive/dataset/cloned/run-July-22-2023_10+56AM-0000000\n",
      "\n",
      "\u001b[1m > TRAINING (2023-07-22 11:18:34) \u001b[0m\n"
     ]
    },
    {
     "name": "stdout",
     "output_type": "stream",
     "text": [
      "We make all our packaging from one hundred% recycled trash, from ocean bound plastic to landfills.\n",
      " [!] Character '%' not found in the vocabulary. Discarding it.\n"
     ]
    },
    {
     "name": "stderr",
     "output_type": "stream",
     "text": [
      "\n",
      "\u001b[1m > EVALUATION \u001b[0m\n",
      "\n",
      "\n",
      "  \u001b[1m--> EVAL PERFORMANCE\u001b[0m\n",
      "     | > avg_loader_time:\u001b[91m 0.002117931842803955 \u001b[0m(+7.855892181396484e-05)\n",
      "     | > avg_loss:\u001b[92m 1.2243956327438354 \u001b[0m(-0.0582159161567688)\n",
      "     | > avg_log_mle:\u001b[92m 0.38484691083431244 \u001b[0m(-0.02032548189163208)\n",
      "     | > avg_loss_dur:\u001b[92m 0.8395487368106842 \u001b[0m(-0.037890419363975525)\n",
      "\n"
     ]
    },
    {
     "name": "stdout",
     "output_type": "stream",
     "text": [
      " | > Synthesizing test sentences.\n"
     ]
    },
    {
     "name": "stderr",
     "output_type": "stream",
     "text": [
      "\n",
      "  \u001b[1m--> EVAL PERFORMANCE\u001b[0m\n",
      "     | > avg_loader_time: 0.002117931842803955 \u001b[0m(+0.0)\n",
      "     | > avg_loss: 1.2243956327438354 \u001b[0m(+0.0)\n",
      "     | > avg_log_mle: 0.38484691083431244 \u001b[0m(+0.0)\n",
      "     | > avg_loss_dur: 0.8395487368106842 \u001b[0m(+0.0)\n",
      "\n",
      " > BEST MODEL : /content/drive/MyDrive/dataset/cloned/run-July-22-2023_10+56AM-0000000/best_model_2222.pth\n",
      "\n",
      "\u001b[4m\u001b[1m > EPOCH: 22/150\u001b[0m\n",
      " --> /content/drive/MyDrive/dataset/cloned/run-July-22-2023_10+56AM-0000000\n",
      "\n",
      "\u001b[1m > TRAINING (2023-07-22 11:19:40) \u001b[0m\n",
      "/usr/local/lib/python3.10/dist-packages/torch/utils/data/dataloader.py:560: UserWarning: This DataLoader will create 4 worker processes in total. Our suggested max number of worker in current system is 2, which is smaller than what this DataLoader is going to create. Please be aware that excessive worker creation might get DataLoader running slow or even freeze, lower the worker number to avoid potential slowness/freeze if necessary.\n",
      "  warnings.warn(_create_warning_msg(\n"
     ]
    },
    {
     "name": "stdout",
     "output_type": "stream",
     "text": [
      "We make all our packaging from one hundred% recycled trash, from ocean bound plastic to landfills.\n",
      " [!] Character '%' not found in the vocabulary. Discarding it.\n"
     ]
    },
    {
     "name": "stderr",
     "output_type": "stream",
     "text": [
      "\n",
      "\u001b[1m > EVALUATION \u001b[0m\n",
      "\n",
      "\n",
      "  \u001b[1m--> EVAL PERFORMANCE\u001b[0m\n",
      "     | > avg_loader_time:\u001b[92m 0.0018878579139709473 \u001b[0m(-0.0002300739288330078)\n",
      "     | > avg_loss:\u001b[92m 1.1782299876213074 \u001b[0m(-0.046165645122528076)\n",
      "     | > avg_log_mle:\u001b[92m 0.3665725439786911 \u001b[0m(-0.018274366855621338)\n",
      "     | > avg_loss_dur:\u001b[92m 0.8116574734449387 \u001b[0m(-0.027891263365745544)\n",
      "\n"
     ]
    },
    {
     "name": "stdout",
     "output_type": "stream",
     "text": [
      " | > Synthesizing test sentences.\n"
     ]
    },
    {
     "name": "stderr",
     "output_type": "stream",
     "text": [
      "\n",
      "  \u001b[1m--> EVAL PERFORMANCE\u001b[0m\n",
      "     | > avg_loader_time: 0.0018878579139709473 \u001b[0m(+0.0)\n",
      "     | > avg_loss: 1.1782299876213074 \u001b[0m(+0.0)\n",
      "     | > avg_log_mle: 0.3665725439786911 \u001b[0m(+0.0)\n",
      "     | > avg_loss_dur: 0.8116574734449387 \u001b[0m(+0.0)\n",
      "\n",
      " > BEST MODEL : /content/drive/MyDrive/dataset/cloned/run-July-22-2023_10+56AM-0000000/best_model_2323.pth\n",
      "\n",
      "\u001b[4m\u001b[1m > EPOCH: 23/150\u001b[0m\n",
      " --> /content/drive/MyDrive/dataset/cloned/run-July-22-2023_10+56AM-0000000\n",
      "\n",
      "\u001b[1m > TRAINING (2023-07-22 11:20:43) \u001b[0m\n"
     ]
    },
    {
     "name": "stdout",
     "output_type": "stream",
     "text": [
      "We make all our packaging from one hundred% recycled trash, from ocean bound plastic to landfills.\n",
      " [!] Character '%' not found in the vocabulary. Discarding it.\n"
     ]
    },
    {
     "name": "stderr",
     "output_type": "stream",
     "text": [
      "\n",
      "\u001b[1m > EVALUATION \u001b[0m\n",
      "\n",
      "\n",
      "  \u001b[1m--> EVAL PERFORMANCE\u001b[0m\n",
      "     | > avg_loader_time:\u001b[92m 0.0018119215965270996 \u001b[0m(-7.593631744384766e-05)\n",
      "     | > avg_loss:\u001b[92m 1.1359314024448395 \u001b[0m(-0.042298585176467896)\n",
      "     | > avg_log_mle:\u001b[92m 0.35040104389190674 \u001b[0m(-0.016171500086784363)\n",
      "     | > avg_loss_dur:\u001b[92m 0.7855303734540939 \u001b[0m(-0.026127099990844727)\n",
      "\n"
     ]
    },
    {
     "name": "stdout",
     "output_type": "stream",
     "text": [
      " | > Synthesizing test sentences.\n"
     ]
    },
    {
     "name": "stderr",
     "output_type": "stream",
     "text": [
      "\n",
      "  \u001b[1m--> EVAL PERFORMANCE\u001b[0m\n",
      "     | > avg_loader_time: 0.0018119215965270996 \u001b[0m(+0.0)\n",
      "     | > avg_loss: 1.1359314024448395 \u001b[0m(+0.0)\n",
      "     | > avg_log_mle: 0.35040104389190674 \u001b[0m(+0.0)\n",
      "     | > avg_loss_dur: 0.7855303734540939 \u001b[0m(+0.0)\n",
      "\n",
      " > BEST MODEL : /content/drive/MyDrive/dataset/cloned/run-July-22-2023_10+56AM-0000000/best_model_2424.pth\n",
      "\n",
      "\u001b[4m\u001b[1m > EPOCH: 24/150\u001b[0m\n",
      " --> /content/drive/MyDrive/dataset/cloned/run-July-22-2023_10+56AM-0000000\n",
      "\n",
      "\u001b[1m > TRAINING (2023-07-22 11:21:43) \u001b[0m\n"
     ]
    },
    {
     "name": "stdout",
     "output_type": "stream",
     "text": [
      "We make all our packaging from one hundred% recycled trash, from ocean bound plastic to landfills.\n",
      " [!] Character '%' not found in the vocabulary. Discarding it.\n"
     ]
    },
    {
     "name": "stderr",
     "output_type": "stream",
     "text": [
      "\n",
      "\u001b[1m > EVALUATION \u001b[0m\n",
      "\n",
      "\n",
      "  \u001b[1m--> EVAL PERFORMANCE\u001b[0m\n",
      "     | > avg_loader_time:\u001b[91m 0.001917123794555664 \u001b[0m(+0.00010520219802856445)\n",
      "     | > avg_loss:\u001b[92m 1.095879852771759 \u001b[0m(-0.040051549673080444)\n",
      "     | > avg_log_mle:\u001b[92m 0.3355737775564194 \u001b[0m(-0.014827266335487366)\n",
      "     | > avg_loss_dur:\u001b[92m 0.7603060752153397 \u001b[0m(-0.025224298238754272)\n",
      "\n"
     ]
    },
    {
     "name": "stdout",
     "output_type": "stream",
     "text": [
      " | > Synthesizing test sentences.\n"
     ]
    },
    {
     "name": "stderr",
     "output_type": "stream",
     "text": [
      "\n",
      "  \u001b[1m--> EVAL PERFORMANCE\u001b[0m\n",
      "     | > avg_loader_time: 0.001917123794555664 \u001b[0m(+0.0)\n",
      "     | > avg_loss: 1.095879852771759 \u001b[0m(+0.0)\n",
      "     | > avg_log_mle: 0.3355737775564194 \u001b[0m(+0.0)\n",
      "     | > avg_loss_dur: 0.7603060752153397 \u001b[0m(+0.0)\n",
      "\n",
      " > BEST MODEL : /content/drive/MyDrive/dataset/cloned/run-July-22-2023_10+56AM-0000000/best_model_2525.pth\n",
      "\n",
      "\u001b[4m\u001b[1m > EPOCH: 25/150\u001b[0m\n",
      " --> /content/drive/MyDrive/dataset/cloned/run-July-22-2023_10+56AM-0000000\n",
      "\n",
      "\u001b[1m > TRAINING (2023-07-22 11:22:46) \u001b[0m\n"
     ]
    },
    {
     "name": "stdout",
     "output_type": "stream",
     "text": [
      "We make all our packaging from one hundred% recycled trash, from ocean bound plastic to landfills.\n",
      " [!] Character '%' not found in the vocabulary. Discarding it.\n"
     ]
    },
    {
     "name": "stderr",
     "output_type": "stream",
     "text": [
      "\n",
      "\u001b[1m > EVALUATION \u001b[0m\n",
      "\n",
      "\n",
      "  \u001b[1m--> EVAL PERFORMANCE\u001b[0m\n",
      "     | > avg_loader_time:\u001b[91m 0.002033233642578125 \u001b[0m(+0.00011610984802246094)\n",
      "     | > avg_loss:\u001b[92m 1.0613636672496796 \u001b[0m(-0.03451618552207947)\n",
      "     | > avg_log_mle:\u001b[92m 0.32228006422519684 \u001b[0m(-0.013293713331222534)\n",
      "     | > avg_loss_dur:\u001b[92m 0.7390836179256439 \u001b[0m(-0.02122245728969574)\n",
      "\n"
     ]
    },
    {
     "name": "stdout",
     "output_type": "stream",
     "text": [
      " | > Synthesizing test sentences.\n"
     ]
    },
    {
     "name": "stderr",
     "output_type": "stream",
     "text": [
      "\n",
      "  \u001b[1m--> EVAL PERFORMANCE\u001b[0m\n",
      "     | > avg_loader_time: 0.002033233642578125 \u001b[0m(+0.0)\n",
      "     | > avg_loss: 1.0613636672496796 \u001b[0m(+0.0)\n",
      "     | > avg_log_mle: 0.32228006422519684 \u001b[0m(+0.0)\n",
      "     | > avg_loss_dur: 0.7390836179256439 \u001b[0m(+0.0)\n",
      "\n",
      " > BEST MODEL : /content/drive/MyDrive/dataset/cloned/run-July-22-2023_10+56AM-0000000/best_model_2626.pth\n",
      "\n",
      "\u001b[4m\u001b[1m > EPOCH: 26/150\u001b[0m\n",
      " --> /content/drive/MyDrive/dataset/cloned/run-July-22-2023_10+56AM-0000000\n",
      "\n",
      "\u001b[1m > TRAINING (2023-07-22 11:23:53) \u001b[0m\n"
     ]
    },
    {
     "name": "stdout",
     "output_type": "stream",
     "text": [
      "We make all our packaging from one hundred% recycled trash, from ocean bound plastic to landfills.\n",
      " [!] Character '%' not found in the vocabulary. Discarding it.\n"
     ]
    },
    {
     "name": "stderr",
     "output_type": "stream",
     "text": [
      "\n",
      "\u001b[1m > EVALUATION \u001b[0m\n",
      "\n",
      "\n",
      "  \u001b[1m--> EVAL PERFORMANCE\u001b[0m\n",
      "     | > avg_loader_time:\u001b[92m 0.001680135726928711 \u001b[0m(-0.00035309791564941406)\n",
      "     | > avg_loss:\u001b[92m 1.028289794921875 \u001b[0m(-0.033073872327804565)\n",
      "     | > avg_log_mle:\u001b[92m 0.3103513568639755 \u001b[0m(-0.011928707361221313)\n",
      "     | > avg_loss_dur:\u001b[92m 0.7179384380578995 \u001b[0m(-0.021145179867744446)\n",
      "\n"
     ]
    },
    {
     "name": "stdout",
     "output_type": "stream",
     "text": [
      " | > Synthesizing test sentences.\n"
     ]
    },
    {
     "name": "stderr",
     "output_type": "stream",
     "text": [
      "\n",
      "  \u001b[1m--> EVAL PERFORMANCE\u001b[0m\n",
      "     | > avg_loader_time: 0.001680135726928711 \u001b[0m(+0.0)\n",
      "     | > avg_loss: 1.028289794921875 \u001b[0m(+0.0)\n",
      "     | > avg_log_mle: 0.3103513568639755 \u001b[0m(+0.0)\n",
      "     | > avg_loss_dur: 0.7179384380578995 \u001b[0m(+0.0)\n",
      "\n",
      " > BEST MODEL : /content/drive/MyDrive/dataset/cloned/run-July-22-2023_10+56AM-0000000/best_model_2727.pth\n",
      "\n",
      "\u001b[4m\u001b[1m > EPOCH: 27/150\u001b[0m\n",
      " --> /content/drive/MyDrive/dataset/cloned/run-July-22-2023_10+56AM-0000000\n",
      "\n",
      "\u001b[1m > TRAINING (2023-07-22 11:25:00) \u001b[0m\n"
     ]
    },
    {
     "name": "stdout",
     "output_type": "stream",
     "text": [
      "We make all our packaging from one hundred% recycled trash, from ocean bound plastic to landfills.\n",
      " [!] Character '%' not found in the vocabulary. Discarding it.\n"
     ]
    },
    {
     "name": "stderr",
     "output_type": "stream",
     "text": [
      "\n",
      "\u001b[1m > EVALUATION \u001b[0m\n",
      "\n",
      "\n",
      "  \u001b[1m--> EVAL PERFORMANCE\u001b[0m\n",
      "     | > avg_loader_time:\u001b[92m 0.0014719963073730469 \u001b[0m(-0.00020813941955566406)\n",
      "     | > avg_loss:\u001b[92m 0.9984590709209442 \u001b[0m(-0.029830724000930786)\n",
      "     | > avg_log_mle:\u001b[92m 0.2989983707666397 \u001b[0m(-0.011352986097335815)\n",
      "     | > avg_loss_dur:\u001b[92m 0.6994607299566269 \u001b[0m(-0.018477708101272583)\n",
      "\n"
     ]
    },
    {
     "name": "stdout",
     "output_type": "stream",
     "text": [
      " | > Synthesizing test sentences.\n"
     ]
    },
    {
     "name": "stderr",
     "output_type": "stream",
     "text": [
      "\n",
      "  \u001b[1m--> EVAL PERFORMANCE\u001b[0m\n",
      "     | > avg_loader_time: 0.0014719963073730469 \u001b[0m(+0.0)\n",
      "     | > avg_loss: 0.9984590709209442 \u001b[0m(+0.0)\n",
      "     | > avg_log_mle: 0.2989983707666397 \u001b[0m(+0.0)\n",
      "     | > avg_loss_dur: 0.6994607299566269 \u001b[0m(+0.0)\n",
      "\n",
      " > BEST MODEL : /content/drive/MyDrive/dataset/cloned/run-July-22-2023_10+56AM-0000000/best_model_2828.pth\n",
      "\n",
      "\u001b[4m\u001b[1m > EPOCH: 28/150\u001b[0m\n",
      " --> /content/drive/MyDrive/dataset/cloned/run-July-22-2023_10+56AM-0000000\n",
      "\n",
      "\u001b[1m > TRAINING (2023-07-22 11:26:03) \u001b[0m\n"
     ]
    },
    {
     "name": "stdout",
     "output_type": "stream",
     "text": [
      "We make all our packaging from one hundred% recycled trash, from ocean bound plastic to landfills.\n",
      " [!] Character '%' not found in the vocabulary. Discarding it.\n"
     ]
    },
    {
     "name": "stderr",
     "output_type": "stream",
     "text": [
      "\n",
      "\u001b[1m > EVALUATION \u001b[0m\n",
      "\n",
      "\n",
      "  \u001b[1m--> EVAL PERFORMANCE\u001b[0m\n",
      "     | > avg_loader_time:\u001b[91m 0.0015498995780944824 \u001b[0m(+7.790327072143555e-05)\n",
      "     | > avg_loss:\u001b[92m 0.9820336997509003 \u001b[0m(-0.016425371170043945)\n",
      "     | > avg_log_mle:\u001b[92m 0.2890947610139847 \u001b[0m(-0.00990360975265503)\n",
      "     | > avg_loss_dur:\u001b[92m 0.6929389387369156 \u001b[0m(-0.006521791219711304)\n",
      "\n"
     ]
    },
    {
     "name": "stdout",
     "output_type": "stream",
     "text": [
      " | > Synthesizing test sentences.\n"
     ]
    },
    {
     "name": "stderr",
     "output_type": "stream",
     "text": [
      "\n",
      "  \u001b[1m--> EVAL PERFORMANCE\u001b[0m\n",
      "     | > avg_loader_time: 0.0015498995780944824 \u001b[0m(+0.0)\n",
      "     | > avg_loss: 0.9820336997509003 \u001b[0m(+0.0)\n",
      "     | > avg_log_mle: 0.2890947610139847 \u001b[0m(+0.0)\n",
      "     | > avg_loss_dur: 0.6929389387369156 \u001b[0m(+0.0)\n",
      "\n",
      " > BEST MODEL : /content/drive/MyDrive/dataset/cloned/run-July-22-2023_10+56AM-0000000/best_model_2929.pth\n",
      "\n",
      "\u001b[4m\u001b[1m > EPOCH: 29/150\u001b[0m\n",
      " --> /content/drive/MyDrive/dataset/cloned/run-July-22-2023_10+56AM-0000000\n",
      "\n",
      "\u001b[1m > TRAINING (2023-07-22 11:27:06) \u001b[0m\n"
     ]
    },
    {
     "name": "stdout",
     "output_type": "stream",
     "text": [
      "We make all our packaging from one hundred% recycled trash, from ocean bound plastic to landfills.\n",
      " [!] Character '%' not found in the vocabulary. Discarding it.\n"
     ]
    },
    {
     "name": "stderr",
     "output_type": "stream",
     "text": [
      "\n",
      "\u001b[1m   --> TIME: 2023-07-22 11:27:44 -- STEP: 71/101 -- GLOBAL_STEP: 3000\u001b[0m\n",
      "     | > loss: 0.9586257338523865  (1.0104811863160472)\n",
      "     | > log_mle: 0.25086700916290283  (0.26912976738432776)\n",
      "     | > loss_dur: 0.7077587246894836  (0.7413514193514705)\n",
      "     | > amp_scaler: 32768.0  (32768.0)\n",
      "     | > grad_norm: tensor(3.6145, device='cuda:0')  (tensor(4.8312, device='cuda:0'))\n",
      "     | > current_lr: 3.625e-06 \n",
      "     | > step_time: 0.3107  (0.4388860111505213)\n",
      "     | > loader_time: 0.0052  (0.0048833766453702685)\n",
      "\n",
      "\n",
      "\u001b[1m > EVALUATION \u001b[0m\n",
      "\n",
      "\n",
      "  \u001b[1m--> EVAL PERFORMANCE\u001b[0m\n",
      "     | > avg_loader_time:\u001b[91m 0.0020173192024230957 \u001b[0m(+0.0004674196243286133)\n",
      "     | > avg_loss:\u001b[92m 0.9566773921251297 \u001b[0m(-0.02535630762577057)\n",
      "     | > avg_log_mle:\u001b[92m 0.27797895669937134 \u001b[0m(-0.011115804314613342)\n",
      "     | > avg_loss_dur:\u001b[92m 0.6786984503269196 \u001b[0m(-0.014240488409996033)\n",
      "\n"
     ]
    },
    {
     "name": "stdout",
     "output_type": "stream",
     "text": [
      " | > Synthesizing test sentences.\n"
     ]
    },
    {
     "name": "stderr",
     "output_type": "stream",
     "text": [
      "\n",
      "  \u001b[1m--> EVAL PERFORMANCE\u001b[0m\n",
      "     | > avg_loader_time: 0.0020173192024230957 \u001b[0m(+0.0)\n",
      "     | > avg_loss: 0.9566773921251297 \u001b[0m(+0.0)\n",
      "     | > avg_log_mle: 0.27797895669937134 \u001b[0m(+0.0)\n",
      "     | > avg_loss_dur: 0.6786984503269196 \u001b[0m(+0.0)\n",
      "\n",
      " > BEST MODEL : /content/drive/MyDrive/dataset/cloned/run-July-22-2023_10+56AM-0000000/best_model_3030.pth\n",
      "\n",
      "\u001b[4m\u001b[1m > EPOCH: 30/150\u001b[0m\n",
      " --> /content/drive/MyDrive/dataset/cloned/run-July-22-2023_10+56AM-0000000\n",
      "\n",
      "\u001b[1m > TRAINING (2023-07-22 11:28:13) \u001b[0m\n"
     ]
    },
    {
     "name": "stdout",
     "output_type": "stream",
     "text": [
      "We make all our packaging from one hundred% recycled trash, from ocean bound plastic to landfills.\n",
      " [!] Character '%' not found in the vocabulary. Discarding it.\n"
     ]
    },
    {
     "name": "stderr",
     "output_type": "stream",
     "text": [
      "\n",
      "\u001b[1m > EVALUATION \u001b[0m\n",
      "\n",
      "\n",
      "  \u001b[1m--> EVAL PERFORMANCE\u001b[0m\n",
      "     | > avg_loader_time:\u001b[92m 0.0016509294509887695 \u001b[0m(-0.00036638975143432617)\n",
      "     | > avg_loss:\u001b[92m 0.9373683780431747 \u001b[0m(-0.019309014081954956)\n",
      "     | > avg_log_mle:\u001b[92m 0.2688214033842087 \u001b[0m(-0.009157553315162659)\n",
      "     | > avg_loss_dur:\u001b[92m 0.6685469746589661 \u001b[0m(-0.010151475667953491)\n",
      "\n"
     ]
    },
    {
     "name": "stdout",
     "output_type": "stream",
     "text": [
      " | > Synthesizing test sentences.\n"
     ]
    },
    {
     "name": "stderr",
     "output_type": "stream",
     "text": [
      "\n",
      "  \u001b[1m--> EVAL PERFORMANCE\u001b[0m\n",
      "     | > avg_loader_time: 0.0016509294509887695 \u001b[0m(+0.0)\n",
      "     | > avg_loss: 0.9373683780431747 \u001b[0m(+0.0)\n",
      "     | > avg_log_mle: 0.2688214033842087 \u001b[0m(+0.0)\n",
      "     | > avg_loss_dur: 0.6685469746589661 \u001b[0m(+0.0)\n",
      "\n",
      " > BEST MODEL : /content/drive/MyDrive/dataset/cloned/run-July-22-2023_10+56AM-0000000/best_model_3131.pth\n",
      "\n",
      "\u001b[4m\u001b[1m > EPOCH: 31/150\u001b[0m\n",
      " --> /content/drive/MyDrive/dataset/cloned/run-July-22-2023_10+56AM-0000000\n",
      "\n",
      "\u001b[1m > TRAINING (2023-07-22 11:29:15) \u001b[0m\n"
     ]
    },
    {
     "name": "stdout",
     "output_type": "stream",
     "text": [
      "We make all our packaging from one hundred% recycled trash, from ocean bound plastic to landfills.\n",
      " [!] Character '%' not found in the vocabulary. Discarding it.\n"
     ]
    },
    {
     "name": "stderr",
     "output_type": "stream",
     "text": [
      "\n",
      "\u001b[1m > EVALUATION \u001b[0m\n",
      "\n",
      "\n",
      "  \u001b[1m--> EVAL PERFORMANCE\u001b[0m\n",
      "     | > avg_loader_time:\u001b[92m 0.0014957785606384277 \u001b[0m(-0.0001551508903503418)\n",
      "     | > avg_loss:\u001b[92m 0.919053852558136 \u001b[0m(-0.018314525485038757)\n",
      "     | > avg_log_mle:\u001b[92m 0.2591145187616348 \u001b[0m(-0.009706884622573853)\n",
      "     | > avg_loss_dur:\u001b[92m 0.65993931889534 \u001b[0m(-0.008607655763626099)\n",
      "\n"
     ]
    },
    {
     "name": "stdout",
     "output_type": "stream",
     "text": [
      " | > Synthesizing test sentences.\n"
     ]
    },
    {
     "name": "stderr",
     "output_type": "stream",
     "text": [
      "\n",
      "  \u001b[1m--> EVAL PERFORMANCE\u001b[0m\n",
      "     | > avg_loader_time: 0.0014957785606384277 \u001b[0m(+0.0)\n",
      "     | > avg_loss: 0.919053852558136 \u001b[0m(+0.0)\n",
      "     | > avg_log_mle: 0.2591145187616348 \u001b[0m(+0.0)\n",
      "     | > avg_loss_dur: 0.65993931889534 \u001b[0m(+0.0)\n",
      "\n",
      " > BEST MODEL : /content/drive/MyDrive/dataset/cloned/run-July-22-2023_10+56AM-0000000/best_model_3232.pth\n",
      "\n",
      "\u001b[4m\u001b[1m > EPOCH: 32/150\u001b[0m\n",
      " --> /content/drive/MyDrive/dataset/cloned/run-July-22-2023_10+56AM-0000000\n",
      "\n",
      "\u001b[1m > TRAINING (2023-07-22 11:30:19) \u001b[0m\n"
     ]
    },
    {
     "name": "stdout",
     "output_type": "stream",
     "text": [
      "We make all our packaging from one hundred% recycled trash, from ocean bound plastic to landfills.\n",
      " [!] Character '%' not found in the vocabulary. Discarding it.\n"
     ]
    },
    {
     "name": "stderr",
     "output_type": "stream",
     "text": [
      "\n",
      "\u001b[1m > EVALUATION \u001b[0m\n",
      "\n",
      "\n",
      "  \u001b[1m--> EVAL PERFORMANCE\u001b[0m\n",
      "     | > avg_loader_time:\u001b[91m 0.0017148852348327637 \u001b[0m(+0.00021910667419433594)\n",
      "     | > avg_loss:\u001b[92m 0.9055134654045105 \u001b[0m(-0.013540387153625488)\n",
      "     | > avg_log_mle:\u001b[92m 0.25143133103847504 \u001b[0m(-0.00768318772315979)\n",
      "     | > avg_loss_dur:\u001b[92m 0.6540821343660355 \u001b[0m(-0.005857184529304504)\n",
      "\n"
     ]
    },
    {
     "name": "stdout",
     "output_type": "stream",
     "text": [
      " | > Synthesizing test sentences.\n"
     ]
    },
    {
     "name": "stderr",
     "output_type": "stream",
     "text": [
      "\n",
      "  \u001b[1m--> EVAL PERFORMANCE\u001b[0m\n",
      "     | > avg_loader_time: 0.0017148852348327637 \u001b[0m(+0.0)\n",
      "     | > avg_loss: 0.9055134654045105 \u001b[0m(+0.0)\n",
      "     | > avg_log_mle: 0.25143133103847504 \u001b[0m(+0.0)\n",
      "     | > avg_loss_dur: 0.6540821343660355 \u001b[0m(+0.0)\n",
      "\n",
      " > BEST MODEL : /content/drive/MyDrive/dataset/cloned/run-July-22-2023_10+56AM-0000000/best_model_3333.pth\n",
      "\n",
      "\u001b[4m\u001b[1m > EPOCH: 33/150\u001b[0m\n",
      " --> /content/drive/MyDrive/dataset/cloned/run-July-22-2023_10+56AM-0000000\n",
      "\n",
      "\u001b[1m > TRAINING (2023-07-22 11:31:22) \u001b[0m\n"
     ]
    },
    {
     "name": "stdout",
     "output_type": "stream",
     "text": [
      "We make all our packaging from one hundred% recycled trash, from ocean bound plastic to landfills.\n",
      " [!] Character '%' not found in the vocabulary. Discarding it.\n"
     ]
    },
    {
     "name": "stderr",
     "output_type": "stream",
     "text": [
      "\n",
      "\u001b[1m > EVALUATION \u001b[0m\n",
      "\n",
      "\n",
      "  \u001b[1m--> EVAL PERFORMANCE\u001b[0m\n",
      "     | > avg_loader_time:\u001b[92m 0.0016123652458190918 \u001b[0m(-0.00010251998901367188)\n",
      "     | > avg_loss:\u001b[92m 0.8869105726480484 \u001b[0m(-0.018602892756462097)\n",
      "     | > avg_log_mle:\u001b[92m 0.2413235455751419 \u001b[0m(-0.01010778546333313)\n",
      "     | > avg_loss_dur:\u001b[92m 0.6455870270729065 \u001b[0m(-0.008495107293128967)\n",
      "\n"
     ]
    },
    {
     "name": "stdout",
     "output_type": "stream",
     "text": [
      " | > Synthesizing test sentences.\n"
     ]
    },
    {
     "name": "stderr",
     "output_type": "stream",
     "text": [
      "\n",
      "  \u001b[1m--> EVAL PERFORMANCE\u001b[0m\n",
      "     | > avg_loader_time: 0.0016123652458190918 \u001b[0m(+0.0)\n",
      "     | > avg_loss: 0.8869105726480484 \u001b[0m(+0.0)\n",
      "     | > avg_log_mle: 0.2413235455751419 \u001b[0m(+0.0)\n",
      "     | > avg_loss_dur: 0.6455870270729065 \u001b[0m(+0.0)\n",
      "\n",
      " > BEST MODEL : /content/drive/MyDrive/dataset/cloned/run-July-22-2023_10+56AM-0000000/best_model_3434.pth\n",
      "\n",
      "\u001b[4m\u001b[1m > EPOCH: 34/150\u001b[0m\n",
      " --> /content/drive/MyDrive/dataset/cloned/run-July-22-2023_10+56AM-0000000\n",
      "\n",
      "\u001b[1m > TRAINING (2023-07-22 11:32:28) \u001b[0m\n"
     ]
    },
    {
     "name": "stdout",
     "output_type": "stream",
     "text": [
      "We make all our packaging from one hundred% recycled trash, from ocean bound plastic to landfills.\n",
      " [!] Character '%' not found in the vocabulary. Discarding it.\n"
     ]
    },
    {
     "name": "stderr",
     "output_type": "stream",
     "text": [
      "\n",
      "\u001b[1m > EVALUATION \u001b[0m\n",
      "\n",
      "\n",
      "  \u001b[1m--> EVAL PERFORMANCE\u001b[0m\n",
      "     | > avg_loader_time:\u001b[91m 0.0016843676567077637 \u001b[0m(+7.200241088867188e-05)\n",
      "     | > avg_loss:\u001b[92m 0.8678308129310608 \u001b[0m(-0.01907975971698761)\n",
      "     | > avg_log_mle:\u001b[92m 0.23249728977680206 \u001b[0m(-0.008826255798339844)\n",
      "     | > avg_loss_dur:\u001b[92m 0.6353335231542587 \u001b[0m(-0.010253503918647766)\n",
      "\n"
     ]
    },
    {
     "name": "stdout",
     "output_type": "stream",
     "text": [
      " | > Synthesizing test sentences.\n"
     ]
    },
    {
     "name": "stderr",
     "output_type": "stream",
     "text": [
      "\n",
      "  \u001b[1m--> EVAL PERFORMANCE\u001b[0m\n",
      "     | > avg_loader_time: 0.0016843676567077637 \u001b[0m(+0.0)\n",
      "     | > avg_loss: 0.8678308129310608 \u001b[0m(+0.0)\n",
      "     | > avg_log_mle: 0.23249728977680206 \u001b[0m(+0.0)\n",
      "     | > avg_loss_dur: 0.6353335231542587 \u001b[0m(+0.0)\n",
      "\n",
      " > BEST MODEL : /content/drive/MyDrive/dataset/cloned/run-July-22-2023_10+56AM-0000000/best_model_3535.pth\n",
      "\n",
      "\u001b[4m\u001b[1m > EPOCH: 35/150\u001b[0m\n",
      " --> /content/drive/MyDrive/dataset/cloned/run-July-22-2023_10+56AM-0000000\n",
      "\n",
      "\u001b[1m > TRAINING (2023-07-22 11:33:33) \u001b[0m\n"
     ]
    },
    {
     "name": "stdout",
     "output_type": "stream",
     "text": [
      "We make all our packaging from one hundred% recycled trash, from ocean bound plastic to landfills.\n",
      " [!] Character '%' not found in the vocabulary. Discarding it.\n"
     ]
    },
    {
     "name": "stderr",
     "output_type": "stream",
     "text": [
      "\n",
      "\u001b[1m > EVALUATION \u001b[0m\n",
      "\n",
      "\n",
      "  \u001b[1m--> EVAL PERFORMANCE\u001b[0m\n",
      "     | > avg_loader_time:\u001b[92m 0.0016233325004577637 \u001b[0m(-6.103515625e-05)\n",
      "     | > avg_loss:\u001b[92m 0.8521731793880463 \u001b[0m(-0.015657633543014526)\n",
      "     | > avg_log_mle:\u001b[92m 0.2233930081129074 \u001b[0m(-0.009104281663894653)\n",
      "     | > avg_loss_dur:\u001b[92m 0.6287801712751389 \u001b[0m(-0.006553351879119873)\n",
      "\n"
     ]
    },
    {
     "name": "stdout",
     "output_type": "stream",
     "text": [
      " | > Synthesizing test sentences.\n"
     ]
    },
    {
     "name": "stderr",
     "output_type": "stream",
     "text": [
      "\n",
      "  \u001b[1m--> EVAL PERFORMANCE\u001b[0m\n",
      "     | > avg_loader_time: 0.0016233325004577637 \u001b[0m(+0.0)\n",
      "     | > avg_loss: 0.8521731793880463 \u001b[0m(+0.0)\n",
      "     | > avg_log_mle: 0.2233930081129074 \u001b[0m(+0.0)\n",
      "     | > avg_loss_dur: 0.6287801712751389 \u001b[0m(+0.0)\n",
      "\n",
      " > BEST MODEL : /content/drive/MyDrive/dataset/cloned/run-July-22-2023_10+56AM-0000000/best_model_3636.pth\n",
      "\n",
      "\u001b[4m\u001b[1m > EPOCH: 36/150\u001b[0m\n",
      " --> /content/drive/MyDrive/dataset/cloned/run-July-22-2023_10+56AM-0000000\n",
      "\n",
      "\u001b[1m > TRAINING (2023-07-22 11:34:39) \u001b[0m\n"
     ]
    },
    {
     "name": "stdout",
     "output_type": "stream",
     "text": [
      "We make all our packaging from one hundred% recycled trash, from ocean bound plastic to landfills.\n",
      " [!] Character '%' not found in the vocabulary. Discarding it.\n"
     ]
    },
    {
     "name": "stderr",
     "output_type": "stream",
     "text": [
      "\n",
      "\u001b[1m > EVALUATION \u001b[0m\n",
      "\n",
      "\n",
      "  \u001b[1m--> EVAL PERFORMANCE\u001b[0m\n",
      "     | > avg_loader_time:\u001b[91m 0.002007782459259033 \u001b[0m(+0.00038444995880126953)\n",
      "     | > avg_loss:\u001b[92m 0.838091641664505 \u001b[0m(-0.01408153772354126)\n",
      "     | > avg_log_mle:\u001b[92m 0.21519221365451813 \u001b[0m(-0.008200794458389282)\n",
      "     | > avg_loss_dur:\u001b[92m 0.6228994280099869 \u001b[0m(-0.0058807432651519775)\n",
      "\n"
     ]
    },
    {
     "name": "stdout",
     "output_type": "stream",
     "text": [
      " | > Synthesizing test sentences.\n"
     ]
    },
    {
     "name": "stderr",
     "output_type": "stream",
     "text": [
      "\n",
      "  \u001b[1m--> EVAL PERFORMANCE\u001b[0m\n",
      "     | > avg_loader_time: 0.002007782459259033 \u001b[0m(+0.0)\n",
      "     | > avg_loss: 0.838091641664505 \u001b[0m(+0.0)\n",
      "     | > avg_log_mle: 0.21519221365451813 \u001b[0m(+0.0)\n",
      "     | > avg_loss_dur: 0.6228994280099869 \u001b[0m(+0.0)\n",
      "\n",
      " > BEST MODEL : /content/drive/MyDrive/dataset/cloned/run-July-22-2023_10+56AM-0000000/best_model_3737.pth\n",
      "\n",
      "\u001b[4m\u001b[1m > EPOCH: 37/150\u001b[0m\n",
      " --> /content/drive/MyDrive/dataset/cloned/run-July-22-2023_10+56AM-0000000\n",
      "\n",
      "\u001b[1m > TRAINING (2023-07-22 11:35:45) \u001b[0m\n"
     ]
    },
    {
     "name": "stdout",
     "output_type": "stream",
     "text": [
      "We make all our packaging from one hundred% recycled trash, from ocean bound plastic to landfills.\n",
      " [!] Character '%' not found in the vocabulary. Discarding it.\n"
     ]
    },
    {
     "name": "stderr",
     "output_type": "stream",
     "text": [
      "\n",
      "\u001b[1m > EVALUATION \u001b[0m\n",
      "\n",
      "\n",
      "  \u001b[1m--> EVAL PERFORMANCE\u001b[0m\n",
      "     | > avg_loader_time:\u001b[91m 0.0020831823348999023 \u001b[0m(+7.539987564086914e-05)\n",
      "     | > avg_loss:\u001b[92m 0.8236235082149506 \u001b[0m(-0.014468133449554443)\n",
      "     | > avg_log_mle:\u001b[92m 0.20664414763450623 \u001b[0m(-0.008548066020011902)\n",
      "     | > avg_loss_dur:\u001b[92m 0.6169793605804443 \u001b[0m(-0.0059200674295425415)\n",
      "\n"
     ]
    },
    {
     "name": "stdout",
     "output_type": "stream",
     "text": [
      " | > Synthesizing test sentences.\n"
     ]
    },
    {
     "name": "stderr",
     "output_type": "stream",
     "text": [
      "\n",
      "  \u001b[1m--> EVAL PERFORMANCE\u001b[0m\n",
      "     | > avg_loader_time: 0.0020831823348999023 \u001b[0m(+0.0)\n",
      "     | > avg_loss: 0.8236235082149506 \u001b[0m(+0.0)\n",
      "     | > avg_log_mle: 0.20664414763450623 \u001b[0m(+0.0)\n",
      "     | > avg_loss_dur: 0.6169793605804443 \u001b[0m(+0.0)\n",
      "\n",
      " > BEST MODEL : /content/drive/MyDrive/dataset/cloned/run-July-22-2023_10+56AM-0000000/best_model_3838.pth\n",
      "\n",
      "\u001b[4m\u001b[1m > EPOCH: 38/150\u001b[0m\n",
      " --> /content/drive/MyDrive/dataset/cloned/run-July-22-2023_10+56AM-0000000\n",
      "\n",
      "\u001b[1m > TRAINING (2023-07-22 11:36:48) \u001b[0m\n"
     ]
    },
    {
     "name": "stdout",
     "output_type": "stream",
     "text": [
      "We make all our packaging from one hundred% recycled trash, from ocean bound plastic to landfills.\n",
      " [!] Character '%' not found in the vocabulary. Discarding it.\n"
     ]
    },
    {
     "name": "stderr",
     "output_type": "stream",
     "text": [
      "\n",
      "\u001b[1m > EVALUATION \u001b[0m\n",
      "\n",
      "\n",
      "  \u001b[1m--> EVAL PERFORMANCE\u001b[0m\n",
      "     | > avg_loader_time:\u001b[91m 0.002601444721221924 \u001b[0m(+0.0005182623863220215)\n",
      "     | > avg_loss:\u001b[92m 0.8067125082015991 \u001b[0m(-0.01691100001335144)\n",
      "     | > avg_log_mle:\u001b[92m 0.19783341884613037 \u001b[0m(-0.008810728788375854)\n",
      "     | > avg_loss_dur:\u001b[92m 0.6088790893554688 \u001b[0m(-0.008100271224975586)\n",
      "\n"
     ]
    },
    {
     "name": "stdout",
     "output_type": "stream",
     "text": [
      " | > Synthesizing test sentences.\n"
     ]
    },
    {
     "name": "stderr",
     "output_type": "stream",
     "text": [
      "\n",
      "  \u001b[1m--> EVAL PERFORMANCE\u001b[0m\n",
      "     | > avg_loader_time: 0.002601444721221924 \u001b[0m(+0.0)\n",
      "     | > avg_loss: 0.8067125082015991 \u001b[0m(+0.0)\n",
      "     | > avg_log_mle: 0.19783341884613037 \u001b[0m(+0.0)\n",
      "     | > avg_loss_dur: 0.6088790893554688 \u001b[0m(+0.0)\n",
      "\n",
      " > BEST MODEL : /content/drive/MyDrive/dataset/cloned/run-July-22-2023_10+56AM-0000000/best_model_3939.pth\n",
      "\n",
      "\u001b[4m\u001b[1m > EPOCH: 39/150\u001b[0m\n",
      " --> /content/drive/MyDrive/dataset/cloned/run-July-22-2023_10+56AM-0000000\n",
      "\n",
      "\u001b[1m > TRAINING (2023-07-22 11:37:57) \u001b[0m\n"
     ]
    },
    {
     "name": "stdout",
     "output_type": "stream",
     "text": [
      "We make all our packaging from one hundred% recycled trash, from ocean bound plastic to landfills.\n",
      " [!] Character '%' not found in the vocabulary. Discarding it.\n"
     ]
    },
    {
     "name": "stderr",
     "output_type": "stream",
     "text": [
      "\n",
      "\u001b[1m   --> TIME: 2023-07-22 11:38:25 -- STEP: 61/101 -- GLOBAL_STEP: 4000\u001b[0m\n",
      "     | > loss: 0.760020911693573  (0.8150575542059101)\n",
      "     | > log_mle: 0.18990552425384521  (0.18235512053380248)\n",
      "     | > loss_dur: 0.5701153874397278  (0.632702432694982)\n",
      "     | > amp_scaler: 8192.0  (8192.0)\n",
      "     | > grad_norm: tensor(2.8815, device='cuda:0')  (tensor(6.6578, device='cuda:0'))\n",
      "     | > current_lr: 4.875e-06 \n",
      "     | > step_time: 0.3054  (0.41021069933156495)\n",
      "     | > loader_time: 0.0042  (0.005232459209004387)\n",
      "\n",
      "\n",
      "\u001b[1m > EVALUATION \u001b[0m\n",
      "\n",
      "\n",
      "  \u001b[1m--> EVAL PERFORMANCE\u001b[0m\n",
      "     | > avg_loader_time:\u001b[92m 0.0017558932304382324 \u001b[0m(-0.0008455514907836914)\n",
      "     | > avg_loss:\u001b[92m 0.8000916093587875 \u001b[0m(-0.0066208988428115845)\n",
      "     | > avg_log_mle:\u001b[92m 0.19538567960262299 \u001b[0m(-0.0024477392435073853)\n",
      "     | > avg_loss_dur:\u001b[92m 0.6047059297561646 \u001b[0m(-0.004173159599304199)\n",
      "\n"
     ]
    },
    {
     "name": "stdout",
     "output_type": "stream",
     "text": [
      " | > Synthesizing test sentences.\n"
     ]
    },
    {
     "name": "stderr",
     "output_type": "stream",
     "text": [
      "\n",
      "  \u001b[1m--> EVAL PERFORMANCE\u001b[0m\n",
      "     | > avg_loader_time: 0.0017558932304382324 \u001b[0m(+0.0)\n",
      "     | > avg_loss: 0.8000916093587875 \u001b[0m(+0.0)\n",
      "     | > avg_log_mle: 0.19538567960262299 \u001b[0m(+0.0)\n",
      "     | > avg_loss_dur: 0.6047059297561646 \u001b[0m(+0.0)\n",
      "\n",
      " > BEST MODEL : /content/drive/MyDrive/dataset/cloned/run-July-22-2023_10+56AM-0000000/best_model_4040.pth\n",
      "\n",
      "\u001b[4m\u001b[1m > EPOCH: 40/150\u001b[0m\n",
      " --> /content/drive/MyDrive/dataset/cloned/run-July-22-2023_10+56AM-0000000\n",
      "\n",
      "\u001b[1m > TRAINING (2023-07-22 11:39:02) \u001b[0m\n"
     ]
    },
    {
     "name": "stdout",
     "output_type": "stream",
     "text": [
      "We make all our packaging from one hundred% recycled trash, from ocean bound plastic to landfills.\n",
      " [!] Character '%' not found in the vocabulary. Discarding it.\n"
     ]
    },
    {
     "name": "stderr",
     "output_type": "stream",
     "text": [
      "\n",
      "\u001b[1m > EVALUATION \u001b[0m\n",
      "\n",
      "\n",
      "  \u001b[1m--> EVAL PERFORMANCE\u001b[0m\n",
      "     | > avg_loader_time:\u001b[91m 0.001759171485900879 \u001b[0m(+3.2782554626464844e-06)\n",
      "     | > avg_loss:\u001b[92m 0.784225195646286 \u001b[0m(-0.015866413712501526)\n",
      "     | > avg_log_mle:\u001b[92m 0.18481841683387756 \u001b[0m(-0.010567262768745422)\n",
      "     | > avg_loss_dur:\u001b[92m 0.5994067788124084 \u001b[0m(-0.0052991509437561035)\n",
      "\n"
     ]
    },
    {
     "name": "stdout",
     "output_type": "stream",
     "text": [
      " | > Synthesizing test sentences.\n"
     ]
    },
    {
     "name": "stderr",
     "output_type": "stream",
     "text": [
      "\n",
      "  \u001b[1m--> EVAL PERFORMANCE\u001b[0m\n",
      "     | > avg_loader_time: 0.001759171485900879 \u001b[0m(+0.0)\n",
      "     | > avg_loss: 0.784225195646286 \u001b[0m(+0.0)\n",
      "     | > avg_log_mle: 0.18481841683387756 \u001b[0m(+0.0)\n",
      "     | > avg_loss_dur: 0.5994067788124084 \u001b[0m(+0.0)\n",
      "\n",
      " > BEST MODEL : /content/drive/MyDrive/dataset/cloned/run-July-22-2023_10+56AM-0000000/best_model_4141.pth\n",
      "\n",
      "\u001b[4m\u001b[1m > EPOCH: 41/150\u001b[0m\n",
      " --> /content/drive/MyDrive/dataset/cloned/run-July-22-2023_10+56AM-0000000\n",
      "\n",
      "\u001b[1m > TRAINING (2023-07-22 11:40:03) \u001b[0m\n"
     ]
    },
    {
     "name": "stdout",
     "output_type": "stream",
     "text": [
      "We make all our packaging from one hundred% recycled trash, from ocean bound plastic to landfills.\n",
      " [!] Character '%' not found in the vocabulary. Discarding it.\n"
     ]
    },
    {
     "name": "stderr",
     "output_type": "stream",
     "text": [
      "\n",
      "\u001b[1m > EVALUATION \u001b[0m\n",
      "\n",
      "\n",
      "  \u001b[1m--> EVAL PERFORMANCE\u001b[0m\n",
      "     | > avg_loader_time:\u001b[92m 0.0016750693321228027 \u001b[0m(-8.410215377807617e-05)\n",
      "     | > avg_loss:\u001b[92m 0.7611657232046127 \u001b[0m(-0.02305947244167328)\n",
      "     | > avg_log_mle:\u001b[92m 0.17329204082489014 \u001b[0m(-0.011526376008987427)\n",
      "     | > avg_loss_dur:\u001b[92m 0.5878736823797226 \u001b[0m(-0.011533096432685852)\n",
      "\n"
     ]
    },
    {
     "name": "stdout",
     "output_type": "stream",
     "text": [
      " | > Synthesizing test sentences.\n"
     ]
    },
    {
     "name": "stderr",
     "output_type": "stream",
     "text": [
      "\n",
      "  \u001b[1m--> EVAL PERFORMANCE\u001b[0m\n",
      "     | > avg_loader_time: 0.0016750693321228027 \u001b[0m(+0.0)\n",
      "     | > avg_loss: 0.7611657232046127 \u001b[0m(+0.0)\n",
      "     | > avg_log_mle: 0.17329204082489014 \u001b[0m(+0.0)\n",
      "     | > avg_loss_dur: 0.5878736823797226 \u001b[0m(+0.0)\n",
      "\n",
      " > BEST MODEL : /content/drive/MyDrive/dataset/cloned/run-July-22-2023_10+56AM-0000000/best_model_4242.pth\n",
      "\n",
      "\u001b[4m\u001b[1m > EPOCH: 42/150\u001b[0m\n",
      " --> /content/drive/MyDrive/dataset/cloned/run-July-22-2023_10+56AM-0000000\n",
      "\n",
      "\u001b[1m > TRAINING (2023-07-22 11:41:06) \u001b[0m\n"
     ]
    },
    {
     "name": "stdout",
     "output_type": "stream",
     "text": [
      "We make all our packaging from one hundred% recycled trash, from ocean bound plastic to landfills.\n",
      " [!] Character '%' not found in the vocabulary. Discarding it.\n"
     ]
    },
    {
     "name": "stderr",
     "output_type": "stream",
     "text": [
      "\n",
      "\u001b[1m > EVALUATION \u001b[0m\n",
      "\n",
      "\n",
      "  \u001b[1m--> EVAL PERFORMANCE\u001b[0m\n",
      "     | > avg_loader_time:\u001b[92m 0.0011610984802246094 \u001b[0m(-0.0005139708518981934)\n",
      "     | > avg_loss:\u001b[92m 0.7478406727313995 \u001b[0m(-0.013325050473213196)\n",
      "     | > avg_log_mle:\u001b[92m 0.164199560880661 \u001b[0m(-0.009092479944229126)\n",
      "     | > avg_loss_dur:\u001b[92m 0.5836411118507385 \u001b[0m(-0.00423257052898407)\n",
      "\n"
     ]
    },
    {
     "name": "stdout",
     "output_type": "stream",
     "text": [
      " | > Synthesizing test sentences.\n"
     ]
    },
    {
     "name": "stderr",
     "output_type": "stream",
     "text": [
      "\n",
      "  \u001b[1m--> EVAL PERFORMANCE\u001b[0m\n",
      "     | > avg_loader_time: 0.0011610984802246094 \u001b[0m(+0.0)\n",
      "     | > avg_loss: 0.7478406727313995 \u001b[0m(+0.0)\n",
      "     | > avg_log_mle: 0.164199560880661 \u001b[0m(+0.0)\n",
      "     | > avg_loss_dur: 0.5836411118507385 \u001b[0m(+0.0)\n",
      "\n",
      " > BEST MODEL : /content/drive/MyDrive/dataset/cloned/run-July-22-2023_10+56AM-0000000/best_model_4343.pth\n",
      "\n",
      "\u001b[4m\u001b[1m > EPOCH: 43/150\u001b[0m\n",
      " --> /content/drive/MyDrive/dataset/cloned/run-July-22-2023_10+56AM-0000000\n",
      "\n",
      "\u001b[1m > TRAINING (2023-07-22 11:42:13) \u001b[0m\n"
     ]
    },
    {
     "name": "stdout",
     "output_type": "stream",
     "text": [
      "We make all our packaging from one hundred% recycled trash, from ocean bound plastic to landfills.\n",
      " [!] Character '%' not found in the vocabulary. Discarding it.\n"
     ]
    },
    {
     "name": "stderr",
     "output_type": "stream",
     "text": [
      "\n",
      "\u001b[1m > EVALUATION \u001b[0m\n",
      "\n",
      "\n",
      "  \u001b[1m--> EVAL PERFORMANCE\u001b[0m\n",
      "     | > avg_loader_time:\u001b[91m 0.0017191171646118164 \u001b[0m(+0.000558018684387207)\n",
      "     | > avg_loss:\u001b[92m 0.7430018782615662 \u001b[0m(-0.004838794469833374)\n",
      "     | > avg_log_mle:\u001b[92m 0.16250503063201904 \u001b[0m(-0.0016945302486419678)\n",
      "     | > avg_loss_dur:\u001b[92m 0.5804968401789665 \u001b[0m(-0.003144271671772003)\n",
      "\n"
     ]
    },
    {
     "name": "stdout",
     "output_type": "stream",
     "text": [
      " | > Synthesizing test sentences.\n"
     ]
    },
    {
     "name": "stderr",
     "output_type": "stream",
     "text": [
      "\n",
      "  \u001b[1m--> EVAL PERFORMANCE\u001b[0m\n",
      "     | > avg_loader_time: 0.0017191171646118164 \u001b[0m(+0.0)\n",
      "     | > avg_loss: 0.7430018782615662 \u001b[0m(+0.0)\n",
      "     | > avg_log_mle: 0.16250503063201904 \u001b[0m(+0.0)\n",
      "     | > avg_loss_dur: 0.5804968401789665 \u001b[0m(+0.0)\n",
      "\n",
      " > BEST MODEL : /content/drive/MyDrive/dataset/cloned/run-July-22-2023_10+56AM-0000000/best_model_4444.pth\n",
      "\n",
      "\u001b[4m\u001b[1m > EPOCH: 44/150\u001b[0m\n",
      " --> /content/drive/MyDrive/dataset/cloned/run-July-22-2023_10+56AM-0000000\n",
      "\n",
      "\u001b[1m > TRAINING (2023-07-22 11:43:18) \u001b[0m\n"
     ]
    },
    {
     "name": "stdout",
     "output_type": "stream",
     "text": [
      "We make all our packaging from one hundred% recycled trash, from ocean bound plastic to landfills.\n",
      " [!] Character '%' not found in the vocabulary. Discarding it.\n"
     ]
    },
    {
     "name": "stderr",
     "output_type": "stream",
     "text": [
      "\n",
      "\u001b[1m > EVALUATION \u001b[0m\n",
      "\n",
      "\n",
      "  \u001b[1m--> EVAL PERFORMANCE\u001b[0m\n",
      "     | > avg_loader_time:\u001b[92m 0.001340627670288086 \u001b[0m(-0.00037848949432373047)\n",
      "     | > avg_loss:\u001b[92m 0.7356458157300949 \u001b[0m(-0.0073560625314712524)\n",
      "     | > avg_log_mle:\u001b[92m 0.15970510244369507 \u001b[0m(-0.0027999281883239746)\n",
      "     | > avg_loss_dur:\u001b[92m 0.5759407132863998 \u001b[0m(-0.004556126892566681)\n",
      "\n"
     ]
    },
    {
     "name": "stdout",
     "output_type": "stream",
     "text": [
      " | > Synthesizing test sentences.\n"
     ]
    },
    {
     "name": "stderr",
     "output_type": "stream",
     "text": [
      "\n",
      "  \u001b[1m--> EVAL PERFORMANCE\u001b[0m\n",
      "     | > avg_loader_time: 0.001340627670288086 \u001b[0m(+0.0)\n",
      "     | > avg_loss: 0.7356458157300949 \u001b[0m(+0.0)\n",
      "     | > avg_log_mle: 0.15970510244369507 \u001b[0m(+0.0)\n",
      "     | > avg_loss_dur: 0.5759407132863998 \u001b[0m(+0.0)\n",
      "\n",
      " > BEST MODEL : /content/drive/MyDrive/dataset/cloned/run-July-22-2023_10+56AM-0000000/best_model_4545.pth\n",
      "\n",
      "\u001b[4m\u001b[1m > EPOCH: 45/150\u001b[0m\n",
      " --> /content/drive/MyDrive/dataset/cloned/run-July-22-2023_10+56AM-0000000\n",
      "\n",
      "\u001b[1m > TRAINING (2023-07-22 11:44:27) \u001b[0m\n"
     ]
    },
    {
     "name": "stdout",
     "output_type": "stream",
     "text": [
      "We make all our packaging from one hundred% recycled trash, from ocean bound plastic to landfills.\n",
      " [!] Character '%' not found in the vocabulary. Discarding it.\n"
     ]
    },
    {
     "name": "stderr",
     "output_type": "stream",
     "text": [
      "\n",
      "\u001b[1m > EVALUATION \u001b[0m\n",
      "\n",
      "\n",
      "  \u001b[1m--> EVAL PERFORMANCE\u001b[0m\n",
      "     | > avg_loader_time:\u001b[91m 0.0016257762908935547 \u001b[0m(+0.00028514862060546875)\n",
      "     | > avg_loss:\u001b[92m 0.7197474837303162 \u001b[0m(-0.015898331999778748)\n",
      "     | > avg_log_mle:\u001b[92m 0.14668427407741547 \u001b[0m(-0.013020828366279602)\n",
      "     | > avg_loss_dur:\u001b[92m 0.5730632022023201 \u001b[0m(-0.0028775110840797424)\n",
      "\n"
     ]
    },
    {
     "name": "stdout",
     "output_type": "stream",
     "text": [
      " | > Synthesizing test sentences.\n"
     ]
    },
    {
     "name": "stderr",
     "output_type": "stream",
     "text": [
      "\n",
      "  \u001b[1m--> EVAL PERFORMANCE\u001b[0m\n",
      "     | > avg_loader_time: 0.0016257762908935547 \u001b[0m(+0.0)\n",
      "     | > avg_loss: 0.7197474837303162 \u001b[0m(+0.0)\n",
      "     | > avg_log_mle: 0.14668427407741547 \u001b[0m(+0.0)\n",
      "     | > avg_loss_dur: 0.5730632022023201 \u001b[0m(+0.0)\n",
      "\n",
      " > BEST MODEL : /content/drive/MyDrive/dataset/cloned/run-July-22-2023_10+56AM-0000000/best_model_4646.pth\n",
      "\n",
      "\u001b[4m\u001b[1m > EPOCH: 46/150\u001b[0m\n",
      " --> /content/drive/MyDrive/dataset/cloned/run-July-22-2023_10+56AM-0000000\n",
      "\n",
      "\u001b[1m > TRAINING (2023-07-22 11:45:29) \u001b[0m\n"
     ]
    },
    {
     "name": "stdout",
     "output_type": "stream",
     "text": [
      "We make all our packaging from one hundred% recycled trash, from ocean bound plastic to landfills.\n",
      " [!] Character '%' not found in the vocabulary. Discarding it.\n"
     ]
    },
    {
     "name": "stderr",
     "output_type": "stream",
     "text": [
      "\n",
      "\u001b[1m > EVALUATION \u001b[0m\n",
      "\n",
      "\n",
      "  \u001b[1m--> EVAL PERFORMANCE\u001b[0m\n",
      "     | > avg_loader_time:\u001b[91m 0.0020783543586730957 \u001b[0m(+0.000452578067779541)\n",
      "     | > avg_loss:\u001b[92m 0.718153715133667 \u001b[0m(-0.00159376859664917)\n",
      "     | > avg_log_mle:\u001b[92m 0.14417189359664917 \u001b[0m(-0.0025123804807662964)\n",
      "     | > avg_loss_dur:\u001b[91m 0.5739818215370178 \u001b[0m(+0.0009186193346977234)\n",
      "\n"
     ]
    },
    {
     "name": "stdout",
     "output_type": "stream",
     "text": [
      " | > Synthesizing test sentences.\n"
     ]
    },
    {
     "name": "stderr",
     "output_type": "stream",
     "text": [
      "\n",
      "  \u001b[1m--> EVAL PERFORMANCE\u001b[0m\n",
      "     | > avg_loader_time: 0.0020783543586730957 \u001b[0m(+0.0)\n",
      "     | > avg_loss: 0.718153715133667 \u001b[0m(+0.0)\n",
      "     | > avg_log_mle: 0.14417189359664917 \u001b[0m(+0.0)\n",
      "     | > avg_loss_dur: 0.5739818215370178 \u001b[0m(+0.0)\n",
      "\n",
      " > BEST MODEL : /content/drive/MyDrive/dataset/cloned/run-July-22-2023_10+56AM-0000000/best_model_4747.pth\n",
      "\n",
      "\u001b[4m\u001b[1m > EPOCH: 47/150\u001b[0m\n",
      " --> /content/drive/MyDrive/dataset/cloned/run-July-22-2023_10+56AM-0000000\n",
      "\n",
      "\u001b[1m > TRAINING (2023-07-22 11:46:34) \u001b[0m\n"
     ]
    },
    {
     "name": "stdout",
     "output_type": "stream",
     "text": [
      "We make all our packaging from one hundred% recycled trash, from ocean bound plastic to landfills.\n",
      " [!] Character '%' not found in the vocabulary. Discarding it.\n"
     ]
    },
    {
     "name": "stderr",
     "output_type": "stream",
     "text": [
      "\n",
      "\u001b[1m > EVALUATION \u001b[0m\n",
      "\n",
      "\n",
      "  \u001b[1m--> EVAL PERFORMANCE\u001b[0m\n",
      "     | > avg_loader_time:\u001b[92m 0.0016649365425109863 \u001b[0m(-0.0004134178161621094)\n",
      "     | > avg_loss:\u001b[92m 0.6933341026306152 \u001b[0m(-0.024819612503051758)\n",
      "     | > avg_log_mle:\u001b[92m 0.12855038046836853 \u001b[0m(-0.01562151312828064)\n",
      "     | > avg_loss_dur:\u001b[92m 0.5647837147116661 \u001b[0m(-0.009198106825351715)\n",
      "\n"
     ]
    },
    {
     "name": "stdout",
     "output_type": "stream",
     "text": [
      " | > Synthesizing test sentences.\n"
     ]
    },
    {
     "name": "stderr",
     "output_type": "stream",
     "text": [
      "\n",
      "  \u001b[1m--> EVAL PERFORMANCE\u001b[0m\n",
      "     | > avg_loader_time: 0.0016649365425109863 \u001b[0m(+0.0)\n",
      "     | > avg_loss: 0.6933341026306152 \u001b[0m(+0.0)\n",
      "     | > avg_log_mle: 0.12855038046836853 \u001b[0m(+0.0)\n",
      "     | > avg_loss_dur: 0.5647837147116661 \u001b[0m(+0.0)\n",
      "\n",
      " > BEST MODEL : /content/drive/MyDrive/dataset/cloned/run-July-22-2023_10+56AM-0000000/best_model_4848.pth\n",
      "\n",
      "\u001b[4m\u001b[1m > EPOCH: 48/150\u001b[0m\n",
      " --> /content/drive/MyDrive/dataset/cloned/run-July-22-2023_10+56AM-0000000\n",
      "\n",
      "\u001b[1m > TRAINING (2023-07-22 11:47:38) \u001b[0m\n"
     ]
    },
    {
     "name": "stdout",
     "output_type": "stream",
     "text": [
      "We make all our packaging from one hundred% recycled trash, from ocean bound plastic to landfills.\n",
      " [!] Character '%' not found in the vocabulary. Discarding it.\n"
     ]
    },
    {
     "name": "stderr",
     "output_type": "stream",
     "text": [
      "\n",
      "\u001b[1m > EVALUATION \u001b[0m\n",
      "\n",
      "\n",
      "  \u001b[1m--> EVAL PERFORMANCE\u001b[0m\n",
      "     | > avg_loader_time:\u001b[91m 0.0019638538360595703 \u001b[0m(+0.000298917293548584)\n",
      "     | > avg_loss:\u001b[91m 0.6986791640520096 \u001b[0m(+0.005345061421394348)\n",
      "     | > avg_log_mle:\u001b[91m 0.1356479525566101 \u001b[0m(+0.007097572088241577)\n",
      "     | > avg_loss_dur:\u001b[92m 0.5630312114953995 \u001b[0m(-0.001752503216266632)\n",
      "\n"
     ]
    },
    {
     "name": "stdout",
     "output_type": "stream",
     "text": [
      " | > Synthesizing test sentences.\n"
     ]
    },
    {
     "name": "stderr",
     "output_type": "stream",
     "text": [
      "\n",
      "  \u001b[1m--> EVAL PERFORMANCE\u001b[0m\n",
      "     | > avg_loader_time: 0.0019638538360595703 \u001b[0m(+0.0)\n",
      "     | > avg_loss: 0.6986791640520096 \u001b[0m(+0.0)\n",
      "     | > avg_log_mle: 0.1356479525566101 \u001b[0m(+0.0)\n",
      "     | > avg_loss_dur: 0.5630312114953995 \u001b[0m(+0.0)\n",
      "\n",
      "\n",
      "\u001b[4m\u001b[1m > EPOCH: 49/150\u001b[0m\n",
      " --> /content/drive/MyDrive/dataset/cloned/run-July-22-2023_10+56AM-0000000\n",
      "\n",
      "\u001b[1m > TRAINING (2023-07-22 11:48:38) \u001b[0m\n"
     ]
    },
    {
     "name": "stdout",
     "output_type": "stream",
     "text": [
      "We make all our packaging from one hundred% recycled trash, from ocean bound plastic to landfills.\n",
      " [!] Character '%' not found in the vocabulary. Discarding it.\n"
     ]
    },
    {
     "name": "stderr",
     "output_type": "stream",
     "text": [
      "\n",
      "\u001b[1m   --> TIME: 2023-07-22 11:49:00 -- STEP: 51/101 -- GLOBAL_STEP: 5000\u001b[0m\n",
      "     | > loss: 0.717574417591095  (0.7040123425278009)\n",
      "     | > log_mle: 0.034792542457580566  (0.10184885941299737)\n",
      "     | > loss_dur: 0.6827818751335144  (0.602163481946085)\n",
      "     | > amp_scaler: 4096.0  (4176.313725490198)\n",
      "     | > grad_norm: tensor(19.4616, device='cuda:0')  (tensor(12.1340, device='cuda:0'))\n",
      "     | > current_lr: 6.125e-06 \n",
      "     | > step_time: 0.2981  (0.39278797542347627)\n",
      "     | > loader_time: 0.003  (0.004202884786269243)\n",
      "\n",
      "\n",
      "\u001b[1m > EVALUATION \u001b[0m\n",
      "\n",
      "\n",
      "  \u001b[1m--> EVAL PERFORMANCE\u001b[0m\n",
      "     | > avg_loader_time:\u001b[92m 0.0013349056243896484 \u001b[0m(-0.0006289482116699219)\n",
      "     | > avg_loss:\u001b[92m 0.6815591007471085 \u001b[0m(-0.017120063304901123)\n",
      "     | > avg_log_mle:\u001b[92m 0.11900018155574799 \u001b[0m(-0.01664777100086212)\n",
      "     | > avg_loss_dur:\u001b[92m 0.5625589191913605 \u001b[0m(-0.00047229230403900146)\n",
      "\n"
     ]
    },
    {
     "name": "stdout",
     "output_type": "stream",
     "text": [
      " | > Synthesizing test sentences.\n"
     ]
    },
    {
     "name": "stderr",
     "output_type": "stream",
     "text": [
      "\n",
      "  \u001b[1m--> EVAL PERFORMANCE\u001b[0m\n",
      "     | > avg_loader_time: 0.0013349056243896484 \u001b[0m(+0.0)\n",
      "     | > avg_loss: 0.6815591007471085 \u001b[0m(+0.0)\n",
      "     | > avg_log_mle: 0.11900018155574799 \u001b[0m(+0.0)\n",
      "     | > avg_loss_dur: 0.5625589191913605 \u001b[0m(+0.0)\n",
      "\n",
      " > BEST MODEL : /content/drive/MyDrive/dataset/cloned/run-July-22-2023_10+56AM-0000000/best_model_5050.pth\n",
      "\n",
      "\u001b[4m\u001b[1m > EPOCH: 50/150\u001b[0m\n",
      " --> /content/drive/MyDrive/dataset/cloned/run-July-22-2023_10+56AM-0000000\n",
      "\n",
      "\u001b[1m > TRAINING (2023-07-22 11:49:44) \u001b[0m\n"
     ]
    },
    {
     "name": "stdout",
     "output_type": "stream",
     "text": [
      "We make all our packaging from one hundred% recycled trash, from ocean bound plastic to landfills.\n",
      " [!] Character '%' not found in the vocabulary. Discarding it.\n"
     ]
    },
    {
     "name": "stderr",
     "output_type": "stream",
     "text": [
      "\n",
      "\u001b[1m > EVALUATION \u001b[0m\n",
      "\n",
      "\n",
      "  \u001b[1m--> EVAL PERFORMANCE\u001b[0m\n",
      "     | > avg_loader_time:\u001b[92m 0.0013210177421569824 \u001b[0m(-1.3887882232666016e-05)\n",
      "     | > avg_loss:\u001b[92m 0.6786244958639145 \u001b[0m(-0.0029346048831939697)\n",
      "     | > avg_log_mle:\u001b[91m 0.1211053878068924 \u001b[0m(+0.002105206251144409)\n",
      "     | > avg_loss_dur:\u001b[92m 0.5575191155076027 \u001b[0m(-0.005039803683757782)\n",
      "\n"
     ]
    },
    {
     "name": "stdout",
     "output_type": "stream",
     "text": [
      " | > Synthesizing test sentences.\n"
     ]
    },
    {
     "name": "stderr",
     "output_type": "stream",
     "text": [
      "\n",
      "  \u001b[1m--> EVAL PERFORMANCE\u001b[0m\n",
      "     | > avg_loader_time: 0.0013210177421569824 \u001b[0m(+0.0)\n",
      "     | > avg_loss: 0.6786244958639145 \u001b[0m(+0.0)\n",
      "     | > avg_log_mle: 0.1211053878068924 \u001b[0m(+0.0)\n",
      "     | > avg_loss_dur: 0.5575191155076027 \u001b[0m(+0.0)\n",
      "\n",
      " > BEST MODEL : /content/drive/MyDrive/dataset/cloned/run-July-22-2023_10+56AM-0000000/best_model_5151.pth\n",
      "\n",
      "\u001b[4m\u001b[1m > EPOCH: 51/150\u001b[0m\n",
      " --> /content/drive/MyDrive/dataset/cloned/run-July-22-2023_10+56AM-0000000\n",
      "\n",
      "\u001b[1m > TRAINING (2023-07-22 11:50:54) \u001b[0m\n"
     ]
    },
    {
     "name": "stdout",
     "output_type": "stream",
     "text": [
      "We make all our packaging from one hundred% recycled trash, from ocean bound plastic to landfills.\n",
      " [!] Character '%' not found in the vocabulary. Discarding it.\n"
     ]
    },
    {
     "name": "stderr",
     "output_type": "stream",
     "text": [
      "\n",
      "\u001b[1m > EVALUATION \u001b[0m\n",
      "\n",
      "\n",
      "  \u001b[1m--> EVAL PERFORMANCE\u001b[0m\n",
      "     | > avg_loader_time:\u001b[91m 0.0015131235122680664 \u001b[0m(+0.00019210577011108398)\n",
      "     | > avg_loss:\u001b[92m 0.6718167811632156 \u001b[0m(-0.0068077147006988525)\n",
      "     | > avg_log_mle:\u001b[92m 0.1102529913187027 \u001b[0m(-0.010852396488189697)\n",
      "     | > avg_loss_dur:\u001b[91m 0.5615637823939323 \u001b[0m(+0.004044666886329651)\n",
      "\n"
     ]
    },
    {
     "name": "stdout",
     "output_type": "stream",
     "text": [
      " | > Synthesizing test sentences.\n"
     ]
    },
    {
     "name": "stderr",
     "output_type": "stream",
     "text": [
      "\n",
      "  \u001b[1m--> EVAL PERFORMANCE\u001b[0m\n",
      "     | > avg_loader_time: 0.0015131235122680664 \u001b[0m(+0.0)\n",
      "     | > avg_loss: 0.6718167811632156 \u001b[0m(+0.0)\n",
      "     | > avg_log_mle: 0.1102529913187027 \u001b[0m(+0.0)\n",
      "     | > avg_loss_dur: 0.5615637823939323 \u001b[0m(+0.0)\n",
      "\n",
      " > BEST MODEL : /content/drive/MyDrive/dataset/cloned/run-July-22-2023_10+56AM-0000000/best_model_5252.pth\n",
      "\n",
      "\u001b[4m\u001b[1m > EPOCH: 52/150\u001b[0m\n",
      " --> /content/drive/MyDrive/dataset/cloned/run-July-22-2023_10+56AM-0000000\n",
      "\n",
      "\u001b[1m > TRAINING (2023-07-22 11:51:55) \u001b[0m\n"
     ]
    },
    {
     "name": "stdout",
     "output_type": "stream",
     "text": [
      "We make all our packaging from one hundred% recycled trash, from ocean bound plastic to landfills.\n",
      " [!] Character '%' not found in the vocabulary. Discarding it.\n"
     ]
    },
    {
     "name": "stderr",
     "output_type": "stream",
     "text": [
      "\n",
      "\u001b[1m > EVALUATION \u001b[0m\n",
      "\n",
      "\n",
      "  \u001b[1m--> EVAL PERFORMANCE\u001b[0m\n",
      "     | > avg_loader_time:\u001b[91m 0.002964913845062256 \u001b[0m(+0.0014517903327941895)\n",
      "     | > avg_loss:\u001b[92m 0.6498726159334183 \u001b[0m(-0.021944165229797363)\n",
      "     | > avg_log_mle:\u001b[92m 0.09818750619888306 \u001b[0m(-0.012065485119819641)\n",
      "     | > avg_loss_dur:\u001b[92m 0.5516851022839546 \u001b[0m(-0.009878680109977722)\n",
      "\n"
     ]
    },
    {
     "name": "stdout",
     "output_type": "stream",
     "text": [
      " | > Synthesizing test sentences.\n"
     ]
    },
    {
     "name": "stderr",
     "output_type": "stream",
     "text": [
      "\n",
      "  \u001b[1m--> EVAL PERFORMANCE\u001b[0m\n",
      "     | > avg_loader_time: 0.002964913845062256 \u001b[0m(+0.0)\n",
      "     | > avg_loss: 0.6498726159334183 \u001b[0m(+0.0)\n",
      "     | > avg_log_mle: 0.09818750619888306 \u001b[0m(+0.0)\n",
      "     | > avg_loss_dur: 0.5516851022839546 \u001b[0m(+0.0)\n",
      "\n",
      " > BEST MODEL : /content/drive/MyDrive/dataset/cloned/run-July-22-2023_10+56AM-0000000/best_model_5353.pth\n",
      "\n",
      "\u001b[4m\u001b[1m > EPOCH: 53/150\u001b[0m\n",
      " --> /content/drive/MyDrive/dataset/cloned/run-July-22-2023_10+56AM-0000000\n",
      "\n",
      "\u001b[1m > TRAINING (2023-07-22 11:53:00) \u001b[0m\n"
     ]
    },
    {
     "name": "stdout",
     "output_type": "stream",
     "text": [
      "We make all our packaging from one hundred% recycled trash, from ocean bound plastic to landfills.\n",
      " [!] Character '%' not found in the vocabulary. Discarding it.\n"
     ]
    },
    {
     "name": "stderr",
     "output_type": "stream",
     "text": [
      "\n",
      "\u001b[1m > EVALUATION \u001b[0m\n",
      "\n",
      "\n",
      "  \u001b[1m--> EVAL PERFORMANCE\u001b[0m\n",
      "     | > avg_loader_time:\u001b[92m 0.0022690892219543457 \u001b[0m(-0.0006958246231079102)\n",
      "     | > avg_loss:\u001b[92m 0.6486824750900269 \u001b[0m(-0.0011901408433914185)\n",
      "     | > avg_log_mle:\u001b[92m 0.08824574947357178 \u001b[0m(-0.00994175672531128)\n",
      "     | > avg_loss_dur:\u001b[91m 0.5604367330670357 \u001b[0m(+0.008751630783081055)\n",
      "\n"
     ]
    },
    {
     "name": "stdout",
     "output_type": "stream",
     "text": [
      " | > Synthesizing test sentences.\n"
     ]
    },
    {
     "name": "stderr",
     "output_type": "stream",
     "text": [
      "\n",
      "  \u001b[1m--> EVAL PERFORMANCE\u001b[0m\n",
      "     | > avg_loader_time: 0.0022690892219543457 \u001b[0m(+0.0)\n",
      "     | > avg_loss: 0.6486824750900269 \u001b[0m(+0.0)\n",
      "     | > avg_log_mle: 0.08824574947357178 \u001b[0m(+0.0)\n",
      "     | > avg_loss_dur: 0.5604367330670357 \u001b[0m(+0.0)\n",
      "\n",
      " > BEST MODEL : /content/drive/MyDrive/dataset/cloned/run-July-22-2023_10+56AM-0000000/best_model_5454.pth\n",
      "\n",
      "\u001b[4m\u001b[1m > EPOCH: 54/150\u001b[0m\n",
      " --> /content/drive/MyDrive/dataset/cloned/run-July-22-2023_10+56AM-0000000\n",
      "\n",
      "\u001b[1m > TRAINING (2023-07-22 11:54:00) \u001b[0m\n"
     ]
    },
    {
     "name": "stdout",
     "output_type": "stream",
     "text": [
      "We make all our packaging from one hundred% recycled trash, from ocean bound plastic to landfills.\n",
      " [!] Character '%' not found in the vocabulary. Discarding it.\n"
     ]
    },
    {
     "name": "stderr",
     "output_type": "stream",
     "text": [
      "\n",
      "\u001b[1m > EVALUATION \u001b[0m\n",
      "\n",
      "\n",
      "  \u001b[1m--> EVAL PERFORMANCE\u001b[0m\n",
      "     | > avg_loader_time:\u001b[92m 0.0019058585166931152 \u001b[0m(-0.00036323070526123047)\n",
      "     | > avg_loss:\u001b[92m 0.643667072057724 \u001b[0m(-0.0050154030323028564)\n",
      "     | > avg_log_mle:\u001b[92m 0.0879460871219635 \u001b[0m(-0.00029966235160827637)\n",
      "     | > avg_loss_dur:\u001b[92m 0.5557209849357605 \u001b[0m(-0.004715748131275177)\n",
      "\n"
     ]
    },
    {
     "name": "stdout",
     "output_type": "stream",
     "text": [
      " | > Synthesizing test sentences.\n"
     ]
    },
    {
     "name": "stderr",
     "output_type": "stream",
     "text": [
      "\n",
      "  \u001b[1m--> EVAL PERFORMANCE\u001b[0m\n",
      "     | > avg_loader_time: 0.0019058585166931152 \u001b[0m(+0.0)\n",
      "     | > avg_loss: 0.643667072057724 \u001b[0m(+0.0)\n",
      "     | > avg_log_mle: 0.0879460871219635 \u001b[0m(+0.0)\n",
      "     | > avg_loss_dur: 0.5557209849357605 \u001b[0m(+0.0)\n",
      "\n",
      " > BEST MODEL : /content/drive/MyDrive/dataset/cloned/run-July-22-2023_10+56AM-0000000/best_model_5555.pth\n",
      "\n",
      "\u001b[4m\u001b[1m > EPOCH: 55/150\u001b[0m\n",
      " --> /content/drive/MyDrive/dataset/cloned/run-July-22-2023_10+56AM-0000000\n",
      "\n",
      "\u001b[1m > TRAINING (2023-07-22 11:55:06) \u001b[0m\n"
     ]
    },
    {
     "name": "stdout",
     "output_type": "stream",
     "text": [
      "We make all our packaging from one hundred% recycled trash, from ocean bound plastic to landfills.\n",
      " [!] Character '%' not found in the vocabulary. Discarding it.\n"
     ]
    },
    {
     "name": "stderr",
     "output_type": "stream",
     "text": [
      "\n",
      "\u001b[1m > EVALUATION \u001b[0m\n",
      "\n",
      "\n",
      "  \u001b[1m--> EVAL PERFORMANCE\u001b[0m\n",
      "     | > avg_loader_time:\u001b[92m 0.0016337037086486816 \u001b[0m(-0.0002721548080444336)\n",
      "     | > avg_loss:\u001b[92m 0.6336563378572464 \u001b[0m(-0.0100107342004776)\n",
      "     | > avg_log_mle:\u001b[92m 0.07858967781066895 \u001b[0m(-0.009356409311294556)\n",
      "     | > avg_loss_dur:\u001b[92m 0.5550666600465775 \u001b[0m(-0.0006543248891830444)\n",
      "\n"
     ]
    },
    {
     "name": "stdout",
     "output_type": "stream",
     "text": [
      " | > Synthesizing test sentences.\n"
     ]
    },
    {
     "name": "stderr",
     "output_type": "stream",
     "text": [
      "\n",
      "  \u001b[1m--> EVAL PERFORMANCE\u001b[0m\n",
      "     | > avg_loader_time: 0.0016337037086486816 \u001b[0m(+0.0)\n",
      "     | > avg_loss: 0.6336563378572464 \u001b[0m(+0.0)\n",
      "     | > avg_log_mle: 0.07858967781066895 \u001b[0m(+0.0)\n",
      "     | > avg_loss_dur: 0.5550666600465775 \u001b[0m(+0.0)\n",
      "\n",
      " > BEST MODEL : /content/drive/MyDrive/dataset/cloned/run-July-22-2023_10+56AM-0000000/best_model_5656.pth\n",
      "\n",
      "\u001b[4m\u001b[1m > EPOCH: 56/150\u001b[0m\n",
      " --> /content/drive/MyDrive/dataset/cloned/run-July-22-2023_10+56AM-0000000\n",
      "\n",
      "\u001b[1m > TRAINING (2023-07-22 11:56:11) \u001b[0m\n"
     ]
    },
    {
     "name": "stdout",
     "output_type": "stream",
     "text": [
      "We make all our packaging from one hundred% recycled trash, from ocean bound plastic to landfills.\n",
      " [!] Character '%' not found in the vocabulary. Discarding it.\n"
     ]
    },
    {
     "name": "stderr",
     "output_type": "stream",
     "text": [
      "\n",
      "\u001b[1m > EVALUATION \u001b[0m\n",
      "\n",
      "\n",
      "  \u001b[1m--> EVAL PERFORMANCE\u001b[0m\n",
      "     | > avg_loader_time:\u001b[92m 0.0016224384307861328 \u001b[0m(-1.1265277862548828e-05)\n",
      "     | > avg_loss:\u001b[92m 0.6184021085500717 \u001b[0m(-0.015254229307174683)\n",
      "     | > avg_log_mle:\u001b[92m 0.06816864013671875 \u001b[0m(-0.010421037673950195)\n",
      "     | > avg_loss_dur:\u001b[92m 0.5502334609627724 \u001b[0m(-0.004833199083805084)\n",
      "\n"
     ]
    },
    {
     "name": "stdout",
     "output_type": "stream",
     "text": [
      " | > Synthesizing test sentences.\n"
     ]
    },
    {
     "name": "stderr",
     "output_type": "stream",
     "text": [
      "\n",
      "  \u001b[1m--> EVAL PERFORMANCE\u001b[0m\n",
      "     | > avg_loader_time: 0.0016224384307861328 \u001b[0m(+0.0)\n",
      "     | > avg_loss: 0.6184021085500717 \u001b[0m(+0.0)\n",
      "     | > avg_log_mle: 0.06816864013671875 \u001b[0m(+0.0)\n",
      "     | > avg_loss_dur: 0.5502334609627724 \u001b[0m(+0.0)\n",
      "\n",
      " > BEST MODEL : /content/drive/MyDrive/dataset/cloned/run-July-22-2023_10+56AM-0000000/best_model_5757.pth\n",
      "\n",
      "\u001b[4m\u001b[1m > EPOCH: 57/150\u001b[0m\n",
      " --> /content/drive/MyDrive/dataset/cloned/run-July-22-2023_10+56AM-0000000\n",
      "\n",
      "\u001b[1m > TRAINING (2023-07-22 11:57:19) \u001b[0m\n"
     ]
    },
    {
     "name": "stdout",
     "output_type": "stream",
     "text": [
      "We make all our packaging from one hundred% recycled trash, from ocean bound plastic to landfills.\n",
      " [!] Character '%' not found in the vocabulary. Discarding it.\n"
     ]
    },
    {
     "name": "stderr",
     "output_type": "stream",
     "text": [
      "\n",
      "\u001b[1m > EVALUATION \u001b[0m\n",
      "\n",
      "\n",
      "  \u001b[1m--> EVAL PERFORMANCE\u001b[0m\n",
      "     | > avg_loader_time:\u001b[91m 0.0019237399101257324 \u001b[0m(+0.0003013014793395996)\n",
      "     | > avg_loss:\u001b[92m 0.6164540648460388 \u001b[0m(-0.001948043704032898)\n",
      "     | > avg_log_mle:\u001b[92m 0.06541378796100616 \u001b[0m(-0.0027548521757125854)\n",
      "     | > avg_loss_dur:\u001b[91m 0.5510402768850327 \u001b[0m(+0.0008068159222602844)\n",
      "\n"
     ]
    },
    {
     "name": "stdout",
     "output_type": "stream",
     "text": [
      " | > Synthesizing test sentences.\n"
     ]
    },
    {
     "name": "stderr",
     "output_type": "stream",
     "text": [
      "\n",
      "  \u001b[1m--> EVAL PERFORMANCE\u001b[0m\n",
      "     | > avg_loader_time: 0.0019237399101257324 \u001b[0m(+0.0)\n",
      "     | > avg_loss: 0.6164540648460388 \u001b[0m(+0.0)\n",
      "     | > avg_log_mle: 0.06541378796100616 \u001b[0m(+0.0)\n",
      "     | > avg_loss_dur: 0.5510402768850327 \u001b[0m(+0.0)\n",
      "\n",
      " > BEST MODEL : /content/drive/MyDrive/dataset/cloned/run-July-22-2023_10+56AM-0000000/best_model_5858.pth\n",
      "\n",
      "\u001b[4m\u001b[1m > EPOCH: 58/150\u001b[0m\n",
      " --> /content/drive/MyDrive/dataset/cloned/run-July-22-2023_10+56AM-0000000\n",
      "\n",
      "\u001b[1m > TRAINING (2023-07-22 11:58:23) \u001b[0m\n"
     ]
    },
    {
     "name": "stdout",
     "output_type": "stream",
     "text": [
      "We make all our packaging from one hundred% recycled trash, from ocean bound plastic to landfills.\n",
      " [!] Character '%' not found in the vocabulary. Discarding it.\n"
     ]
    },
    {
     "name": "stderr",
     "output_type": "stream",
     "text": [
      "\n",
      "\u001b[1m > EVALUATION \u001b[0m\n",
      "\n",
      "\n",
      "  \u001b[1m--> EVAL PERFORMANCE\u001b[0m\n",
      "     | > avg_loader_time:\u001b[92m 0.0015640854835510254 \u001b[0m(-0.00035965442657470703)\n",
      "     | > avg_loss:\u001b[92m 0.6089650541543961 \u001b[0m(-0.007489010691642761)\n",
      "     | > avg_log_mle:\u001b[92m 0.06104759871959686 \u001b[0m(-0.004366189241409302)\n",
      "     | > avg_loss_dur:\u001b[92m 0.5479174554347992 \u001b[0m(-0.0031228214502334595)\n",
      "\n"
     ]
    },
    {
     "name": "stdout",
     "output_type": "stream",
     "text": [
      " | > Synthesizing test sentences.\n"
     ]
    },
    {
     "name": "stderr",
     "output_type": "stream",
     "text": [
      "\n",
      "  \u001b[1m--> EVAL PERFORMANCE\u001b[0m\n",
      "     | > avg_loader_time: 0.0015640854835510254 \u001b[0m(+0.0)\n",
      "     | > avg_loss: 0.6089650541543961 \u001b[0m(+0.0)\n",
      "     | > avg_log_mle: 0.06104759871959686 \u001b[0m(+0.0)\n",
      "     | > avg_loss_dur: 0.5479174554347992 \u001b[0m(+0.0)\n",
      "\n",
      " > BEST MODEL : /content/drive/MyDrive/dataset/cloned/run-July-22-2023_10+56AM-0000000/best_model_5959.pth\n",
      "\n",
      "\u001b[4m\u001b[1m > EPOCH: 59/150\u001b[0m\n",
      " --> /content/drive/MyDrive/dataset/cloned/run-July-22-2023_10+56AM-0000000\n",
      "\n",
      "\u001b[1m > TRAINING (2023-07-22 11:59:30) \u001b[0m\n"
     ]
    },
    {
     "name": "stdout",
     "output_type": "stream",
     "text": [
      "We make all our packaging from one hundred% recycled trash, from ocean bound plastic to landfills.\n",
      " [!] Character '%' not found in the vocabulary. Discarding it.\n"
     ]
    },
    {
     "name": "stderr",
     "output_type": "stream",
     "text": [
      "\n",
      "\u001b[1m   --> TIME: 2023-07-22 11:59:47 -- STEP: 41/101 -- GLOBAL_STEP: 6000\u001b[0m\n",
      "     | > loss: 0.620223343372345  (0.6237705466223924)\n",
      "     | > log_mle: 0.08142697811126709  (0.04051806577822056)\n",
      "     | > loss_dur: 0.5387963652610779  (0.5832524801172863)\n",
      "     | > amp_scaler: 4096.0  (4096.0)\n",
      "     | > grad_norm: tensor(20.1316, device='cuda:0')  (tensor(16.2415, device='cuda:0'))\n",
      "     | > current_lr: 7.375e-06 \n",
      "     | > step_time: 0.5245  (0.35367080641955867)\n",
      "     | > loader_time: 0.0035  (0.004218933058948053)\n",
      "\n",
      "\n",
      "\u001b[1m > EVALUATION \u001b[0m\n",
      "\n",
      "\n",
      "  \u001b[1m--> EVAL PERFORMANCE\u001b[0m\n",
      "     | > avg_loader_time:\u001b[91m 0.001941978931427002 \u001b[0m(+0.00037789344787597656)\n",
      "     | > avg_loss:\u001b[91m 0.6133286505937576 \u001b[0m(+0.004363596439361572)\n",
      "     | > avg_log_mle:\u001b[92m 0.05642199516296387 \u001b[0m(-0.004625603556632996)\n",
      "     | > avg_loss_dur:\u001b[91m 0.5569066479802132 \u001b[0m(+0.008989192545413971)\n",
      "\n"
     ]
    },
    {
     "name": "stdout",
     "output_type": "stream",
     "text": [
      " | > Synthesizing test sentences.\n"
     ]
    },
    {
     "name": "stderr",
     "output_type": "stream",
     "text": [
      "\n",
      "  \u001b[1m--> EVAL PERFORMANCE\u001b[0m\n",
      "     | > avg_loader_time: 0.001941978931427002 \u001b[0m(+0.0)\n",
      "     | > avg_loss: 0.6133286505937576 \u001b[0m(+0.0)\n",
      "     | > avg_log_mle: 0.05642199516296387 \u001b[0m(+0.0)\n",
      "     | > avg_loss_dur: 0.5569066479802132 \u001b[0m(+0.0)\n",
      "\n",
      "\n",
      "\u001b[4m\u001b[1m > EPOCH: 60/150\u001b[0m\n",
      " --> /content/drive/MyDrive/dataset/cloned/run-July-22-2023_10+56AM-0000000\n",
      "\n",
      "\u001b[1m > TRAINING (2023-07-22 12:00:24) \u001b[0m\n"
     ]
    },
    {
     "name": "stdout",
     "output_type": "stream",
     "text": [
      "We make all our packaging from one hundred% recycled trash, from ocean bound plastic to landfills.\n",
      " [!] Character '%' not found in the vocabulary. Discarding it.\n"
     ]
    },
    {
     "name": "stderr",
     "output_type": "stream",
     "text": [
      "\n",
      "\u001b[1m > EVALUATION \u001b[0m\n",
      "\n",
      "\n",
      "  \u001b[1m--> EVAL PERFORMANCE\u001b[0m\n",
      "     | > avg_loader_time:\u001b[92m 0.0018876194953918457 \u001b[0m(-5.435943603515625e-05)\n",
      "     | > avg_loss:\u001b[92m 0.6051360964775085 \u001b[0m(-0.008192554116249084)\n",
      "     | > avg_log_mle:\u001b[91m 0.0593239963054657 \u001b[0m(+0.002902001142501831)\n",
      "     | > avg_loss_dur:\u001b[92m 0.5458121001720428 \u001b[0m(-0.011094547808170319)\n",
      "\n"
     ]
    },
    {
     "name": "stdout",
     "output_type": "stream",
     "text": [
      " | > Synthesizing test sentences.\n"
     ]
    },
    {
     "name": "stderr",
     "output_type": "stream",
     "text": [
      "\n",
      "  \u001b[1m--> EVAL PERFORMANCE\u001b[0m\n",
      "     | > avg_loader_time: 0.0018876194953918457 \u001b[0m(+0.0)\n",
      "     | > avg_loss: 0.6051360964775085 \u001b[0m(+0.0)\n",
      "     | > avg_log_mle: 0.0593239963054657 \u001b[0m(+0.0)\n",
      "     | > avg_loss_dur: 0.5458121001720428 \u001b[0m(+0.0)\n",
      "\n",
      " > BEST MODEL : /content/drive/MyDrive/dataset/cloned/run-July-22-2023_10+56AM-0000000/best_model_6161.pth\n",
      "\n",
      "\u001b[4m\u001b[1m > EPOCH: 61/150\u001b[0m\n",
      " --> /content/drive/MyDrive/dataset/cloned/run-July-22-2023_10+56AM-0000000\n",
      "\n",
      "\u001b[1m > TRAINING (2023-07-22 12:01:29) \u001b[0m\n"
     ]
    },
    {
     "name": "stdout",
     "output_type": "stream",
     "text": [
      "We make all our packaging from one hundred% recycled trash, from ocean bound plastic to landfills.\n",
      " [!] Character '%' not found in the vocabulary. Discarding it.\n"
     ]
    },
    {
     "name": "stderr",
     "output_type": "stream",
     "text": [
      "\n",
      "\u001b[1m > EVALUATION \u001b[0m\n",
      "\n",
      "\n",
      "  \u001b[1m--> EVAL PERFORMANCE\u001b[0m\n",
      "     | > avg_loader_time:\u001b[92m 0.0015149116516113281 \u001b[0m(-0.0003727078437805176)\n",
      "     | > avg_loss:\u001b[92m 0.5902517288923264 \u001b[0m(-0.01488436758518219)\n",
      "     | > avg_log_mle:\u001b[92m 0.038219258189201355 \u001b[0m(-0.021104738116264343)\n",
      "     | > avg_loss_dur:\u001b[91m 0.5520324781537056 \u001b[0m(+0.00622037798166275)\n",
      "\n"
     ]
    },
    {
     "name": "stdout",
     "output_type": "stream",
     "text": [
      " | > Synthesizing test sentences.\n"
     ]
    },
    {
     "name": "stderr",
     "output_type": "stream",
     "text": [
      "\n",
      "  \u001b[1m--> EVAL PERFORMANCE\u001b[0m\n",
      "     | > avg_loader_time: 0.0015149116516113281 \u001b[0m(+0.0)\n",
      "     | > avg_loss: 0.5902517288923264 \u001b[0m(+0.0)\n",
      "     | > avg_log_mle: 0.038219258189201355 \u001b[0m(+0.0)\n",
      "     | > avg_loss_dur: 0.5520324781537056 \u001b[0m(+0.0)\n",
      "\n",
      " > BEST MODEL : /content/drive/MyDrive/dataset/cloned/run-July-22-2023_10+56AM-0000000/best_model_6262.pth\n",
      "\n",
      "\u001b[4m\u001b[1m > EPOCH: 62/150\u001b[0m\n",
      " --> /content/drive/MyDrive/dataset/cloned/run-July-22-2023_10+56AM-0000000\n",
      "\n",
      "\u001b[1m > TRAINING (2023-07-22 12:02:36) \u001b[0m\n"
     ]
    },
    {
     "name": "stdout",
     "output_type": "stream",
     "text": [
      "We make all our packaging from one hundred% recycled trash, from ocean bound plastic to landfills.\n",
      " [!] Character '%' not found in the vocabulary. Discarding it.\n"
     ]
    },
    {
     "name": "stderr",
     "output_type": "stream",
     "text": [
      "\n",
      "\u001b[1m > EVALUATION \u001b[0m\n",
      "\n",
      "\n",
      "  \u001b[1m--> EVAL PERFORMANCE\u001b[0m\n",
      "     | > avg_loader_time:\u001b[91m 0.0015854835510253906 \u001b[0m(+7.05718994140625e-05)\n",
      "     | > avg_loss:\u001b[92m 0.5889366567134857 \u001b[0m(-0.0013150721788406372)\n",
      "     | > avg_log_mle:\u001b[92m 0.03561145067214966 \u001b[0m(-0.0026078075170516968)\n",
      "     | > avg_loss_dur:\u001b[91m 0.5533252060413361 \u001b[0m(+0.0012927278876304626)\n",
      "\n"
     ]
    },
    {
     "name": "stdout",
     "output_type": "stream",
     "text": [
      " | > Synthesizing test sentences.\n"
     ]
    },
    {
     "name": "stderr",
     "output_type": "stream",
     "text": [
      "\n",
      "  \u001b[1m--> EVAL PERFORMANCE\u001b[0m\n",
      "     | > avg_loader_time: 0.0015854835510253906 \u001b[0m(+0.0)\n",
      "     | > avg_loss: 0.5889366567134857 \u001b[0m(+0.0)\n",
      "     | > avg_log_mle: 0.03561145067214966 \u001b[0m(+0.0)\n",
      "     | > avg_loss_dur: 0.5533252060413361 \u001b[0m(+0.0)\n",
      "\n",
      " > BEST MODEL : /content/drive/MyDrive/dataset/cloned/run-July-22-2023_10+56AM-0000000/best_model_6363.pth\n",
      "\n",
      "\u001b[4m\u001b[1m > EPOCH: 63/150\u001b[0m\n",
      " --> /content/drive/MyDrive/dataset/cloned/run-July-22-2023_10+56AM-0000000\n",
      "\n",
      "\u001b[1m > TRAINING (2023-07-22 12:03:44) \u001b[0m\n"
     ]
    },
    {
     "name": "stdout",
     "output_type": "stream",
     "text": [
      "We make all our packaging from one hundred% recycled trash, from ocean bound plastic to landfills.\n",
      " [!] Character '%' not found in the vocabulary. Discarding it.\n"
     ]
    },
    {
     "name": "stderr",
     "output_type": "stream",
     "text": [
      "\n",
      "\u001b[1m > EVALUATION \u001b[0m\n",
      "\n",
      "\n",
      "  \u001b[1m--> EVAL PERFORMANCE\u001b[0m\n",
      "     | > avg_loader_time:\u001b[91m 0.0018025040626525879 \u001b[0m(+0.00021702051162719727)\n",
      "     | > avg_loss:\u001b[92m 0.5826344043016434 \u001b[0m(-0.006302252411842346)\n",
      "     | > avg_log_mle:\u001b[92m 0.03188270330429077 \u001b[0m(-0.0037287473678588867)\n",
      "     | > avg_loss_dur:\u001b[92m 0.5507517009973526 \u001b[0m(-0.0025735050439834595)\n",
      "\n"
     ]
    },
    {
     "name": "stdout",
     "output_type": "stream",
     "text": [
      " | > Synthesizing test sentences.\n"
     ]
    },
    {
     "name": "stderr",
     "output_type": "stream",
     "text": [
      "\n",
      "  \u001b[1m--> EVAL PERFORMANCE\u001b[0m\n",
      "     | > avg_loader_time: 0.0018025040626525879 \u001b[0m(+0.0)\n",
      "     | > avg_loss: 0.5826344043016434 \u001b[0m(+0.0)\n",
      "     | > avg_log_mle: 0.03188270330429077 \u001b[0m(+0.0)\n",
      "     | > avg_loss_dur: 0.5507517009973526 \u001b[0m(+0.0)\n",
      "\n",
      " > BEST MODEL : /content/drive/MyDrive/dataset/cloned/run-July-22-2023_10+56AM-0000000/best_model_6464.pth\n",
      "\n",
      "\u001b[4m\u001b[1m > EPOCH: 64/150\u001b[0m\n",
      " --> /content/drive/MyDrive/dataset/cloned/run-July-22-2023_10+56AM-0000000\n",
      "\n",
      "\u001b[1m > TRAINING (2023-07-22 12:04:49) \u001b[0m\n"
     ]
    },
    {
     "name": "stdout",
     "output_type": "stream",
     "text": [
      "We make all our packaging from one hundred% recycled trash, from ocean bound plastic to landfills.\n",
      " [!] Character '%' not found in the vocabulary. Discarding it.\n"
     ]
    },
    {
     "name": "stderr",
     "output_type": "stream",
     "text": [
      "\n",
      "\u001b[1m > EVALUATION \u001b[0m\n",
      "\n",
      "\n",
      "  \u001b[1m--> EVAL PERFORMANCE\u001b[0m\n",
      "     | > avg_loader_time:\u001b[92m 0.0017567873001098633 \u001b[0m(-4.571676254272461e-05)\n",
      "     | > avg_loss:\u001b[92m 0.5768888890743256 \u001b[0m(-0.00574551522731781)\n",
      "     | > avg_log_mle:\u001b[92m 0.02496132254600525 \u001b[0m(-0.0069213807582855225)\n",
      "     | > avg_loss_dur:\u001b[91m 0.5519275590777397 \u001b[0m(+0.0011758580803871155)\n",
      "\n"
     ]
    },
    {
     "name": "stdout",
     "output_type": "stream",
     "text": [
      " | > Synthesizing test sentences.\n"
     ]
    },
    {
     "name": "stderr",
     "output_type": "stream",
     "text": [
      "\n",
      "  \u001b[1m--> EVAL PERFORMANCE\u001b[0m\n",
      "     | > avg_loader_time: 0.0017567873001098633 \u001b[0m(+0.0)\n",
      "     | > avg_loss: 0.5768888890743256 \u001b[0m(+0.0)\n",
      "     | > avg_log_mle: 0.02496132254600525 \u001b[0m(+0.0)\n",
      "     | > avg_loss_dur: 0.5519275590777397 \u001b[0m(+0.0)\n",
      "\n",
      " > BEST MODEL : /content/drive/MyDrive/dataset/cloned/run-July-22-2023_10+56AM-0000000/best_model_6565.pth\n",
      "\n",
      "\u001b[4m\u001b[1m > EPOCH: 65/150\u001b[0m\n",
      " --> /content/drive/MyDrive/dataset/cloned/run-July-22-2023_10+56AM-0000000\n",
      "\n",
      "\u001b[1m > TRAINING (2023-07-22 12:06:01) \u001b[0m\n"
     ]
    },
    {
     "name": "stdout",
     "output_type": "stream",
     "text": [
      "We make all our packaging from one hundred% recycled trash, from ocean bound plastic to landfills.\n",
      " [!] Character '%' not found in the vocabulary. Discarding it.\n"
     ]
    },
    {
     "name": "stderr",
     "output_type": "stream",
     "text": [
      "\n",
      "\u001b[1m > EVALUATION \u001b[0m\n",
      "\n",
      "\n",
      "  \u001b[1m--> EVAL PERFORMANCE\u001b[0m\n",
      "     | > avg_loader_time:\u001b[92m 0.0016228556632995605 \u001b[0m(-0.00013393163681030273)\n",
      "     | > avg_loss:\u001b[92m 0.5756336152553558 \u001b[0m(-0.0012552738189697266)\n",
      "     | > avg_log_mle:\u001b[92m 0.023090854287147522 \u001b[0m(-0.001870468258857727)\n",
      "     | > avg_loss_dur:\u001b[91m 0.5525427609682083 \u001b[0m(+0.0006152018904685974)\n",
      "\n"
     ]
    },
    {
     "name": "stdout",
     "output_type": "stream",
     "text": [
      " | > Synthesizing test sentences.\n"
     ]
    },
    {
     "name": "stderr",
     "output_type": "stream",
     "text": [
      "\n",
      "  \u001b[1m--> EVAL PERFORMANCE\u001b[0m\n",
      "     | > avg_loader_time: 0.0016228556632995605 \u001b[0m(+0.0)\n",
      "     | > avg_loss: 0.5756336152553558 \u001b[0m(+0.0)\n",
      "     | > avg_log_mle: 0.023090854287147522 \u001b[0m(+0.0)\n",
      "     | > avg_loss_dur: 0.5525427609682083 \u001b[0m(+0.0)\n",
      "\n",
      " > BEST MODEL : /content/drive/MyDrive/dataset/cloned/run-July-22-2023_10+56AM-0000000/best_model_6666.pth\n",
      "\n",
      "\u001b[4m\u001b[1m > EPOCH: 66/150\u001b[0m\n",
      " --> /content/drive/MyDrive/dataset/cloned/run-July-22-2023_10+56AM-0000000\n",
      "\n",
      "\u001b[1m > TRAINING (2023-07-22 12:07:07) \u001b[0m\n"
     ]
    },
    {
     "name": "stdout",
     "output_type": "stream",
     "text": [
      "We make all our packaging from one hundred% recycled trash, from ocean bound plastic to landfills.\n",
      " [!] Character '%' not found in the vocabulary. Discarding it.\n"
     ]
    },
    {
     "name": "stderr",
     "output_type": "stream",
     "text": [
      "\n",
      "\u001b[1m > EVALUATION \u001b[0m\n",
      "\n",
      "\n",
      "  \u001b[1m--> EVAL PERFORMANCE\u001b[0m\n",
      "     | > avg_loader_time:\u001b[91m 0.0025210976600646973 \u001b[0m(+0.0008982419967651367)\n",
      "     | > avg_loss:\u001b[92m 0.5646665692329407 \u001b[0m(-0.010967046022415161)\n",
      "     | > avg_log_mle:\u001b[92m 0.01176464557647705 \u001b[0m(-0.011326208710670471)\n",
      "     | > avg_loss_dur:\u001b[91m 0.5529019311070442 \u001b[0m(+0.000359170138835907)\n",
      "\n"
     ]
    },
    {
     "name": "stdout",
     "output_type": "stream",
     "text": [
      " | > Synthesizing test sentences.\n"
     ]
    },
    {
     "name": "stderr",
     "output_type": "stream",
     "text": [
      "\n",
      "  \u001b[1m--> EVAL PERFORMANCE\u001b[0m\n",
      "     | > avg_loader_time: 0.0025210976600646973 \u001b[0m(+0.0)\n",
      "     | > avg_loss: 0.5646665692329407 \u001b[0m(+0.0)\n",
      "     | > avg_log_mle: 0.01176464557647705 \u001b[0m(+0.0)\n",
      "     | > avg_loss_dur: 0.5529019311070442 \u001b[0m(+0.0)\n",
      "\n",
      " > BEST MODEL : /content/drive/MyDrive/dataset/cloned/run-July-22-2023_10+56AM-0000000/best_model_6767.pth\n",
      "\n",
      "\u001b[4m\u001b[1m > EPOCH: 67/150\u001b[0m\n",
      " --> /content/drive/MyDrive/dataset/cloned/run-July-22-2023_10+56AM-0000000\n",
      "\n",
      "\u001b[1m > TRAINING (2023-07-22 12:08:16) \u001b[0m\n"
     ]
    },
    {
     "name": "stdout",
     "output_type": "stream",
     "text": [
      "We make all our packaging from one hundred% recycled trash, from ocean bound plastic to landfills.\n",
      " [!] Character '%' not found in the vocabulary. Discarding it.\n"
     ]
    },
    {
     "name": "stderr",
     "output_type": "stream",
     "text": [
      "\n",
      "\u001b[1m > EVALUATION \u001b[0m\n",
      "\n",
      "\n",
      "  \u001b[1m--> EVAL PERFORMANCE\u001b[0m\n",
      "     | > avg_loader_time:\u001b[92m 0.0019921064376831055 \u001b[0m(-0.0005289912223815918)\n",
      "     | > avg_loss:\u001b[92m 0.5613580495119095 \u001b[0m(-0.003308519721031189)\n",
      "     | > avg_log_mle:\u001b[91m 0.01343148946762085 \u001b[0m(+0.0016668438911437988)\n",
      "     | > avg_loss_dur:\u001b[92m 0.5479265600442886 \u001b[0m(-0.004975371062755585)\n",
      "\n"
     ]
    },
    {
     "name": "stdout",
     "output_type": "stream",
     "text": [
      " | > Synthesizing test sentences.\n"
     ]
    },
    {
     "name": "stderr",
     "output_type": "stream",
     "text": [
      "\n",
      "  \u001b[1m--> EVAL PERFORMANCE\u001b[0m\n",
      "     | > avg_loader_time: 0.0019921064376831055 \u001b[0m(+0.0)\n",
      "     | > avg_loss: 0.5613580495119095 \u001b[0m(+0.0)\n",
      "     | > avg_log_mle: 0.01343148946762085 \u001b[0m(+0.0)\n",
      "     | > avg_loss_dur: 0.5479265600442886 \u001b[0m(+0.0)\n",
      "\n",
      " > BEST MODEL : /content/drive/MyDrive/dataset/cloned/run-July-22-2023_10+56AM-0000000/best_model_6868.pth\n",
      "\n",
      "\u001b[4m\u001b[1m > EPOCH: 68/150\u001b[0m\n",
      " --> /content/drive/MyDrive/dataset/cloned/run-July-22-2023_10+56AM-0000000\n",
      "\n",
      "\u001b[1m > TRAINING (2023-07-22 12:09:19) \u001b[0m\n"
     ]
    },
    {
     "name": "stdout",
     "output_type": "stream",
     "text": [
      "We make all our packaging from one hundred% recycled trash, from ocean bound plastic to landfills.\n",
      " [!] Character '%' not found in the vocabulary. Discarding it.\n"
     ]
    },
    {
     "name": "stderr",
     "output_type": "stream",
     "text": [
      "\n",
      "\u001b[1m > EVALUATION \u001b[0m\n",
      "\n",
      "\n",
      "  \u001b[1m--> EVAL PERFORMANCE\u001b[0m\n",
      "     | > avg_loader_time:\u001b[91m 0.0022388100624084473 \u001b[0m(+0.0002467036247253418)\n",
      "     | > avg_loss:\u001b[92m 0.5546365082263947 \u001b[0m(-0.0067215412855148315)\n",
      "     | > avg_log_mle:\u001b[92m 0.003308504819869995 \u001b[0m(-0.010122984647750854)\n",
      "     | > avg_loss_dur:\u001b[91m 0.5513279959559441 \u001b[0m(+0.003401435911655426)\n",
      "\n"
     ]
    },
    {
     "name": "stdout",
     "output_type": "stream",
     "text": [
      " | > Synthesizing test sentences.\n"
     ]
    },
    {
     "name": "stderr",
     "output_type": "stream",
     "text": [
      "\n",
      "  \u001b[1m--> EVAL PERFORMANCE\u001b[0m\n",
      "     | > avg_loader_time: 0.0022388100624084473 \u001b[0m(+0.0)\n",
      "     | > avg_loss: 0.5546365082263947 \u001b[0m(+0.0)\n",
      "     | > avg_log_mle: 0.003308504819869995 \u001b[0m(+0.0)\n",
      "     | > avg_loss_dur: 0.5513279959559441 \u001b[0m(+0.0)\n",
      "\n",
      " > BEST MODEL : /content/drive/MyDrive/dataset/cloned/run-July-22-2023_10+56AM-0000000/best_model_6969.pth\n",
      "\n",
      "\u001b[4m\u001b[1m > EPOCH: 69/150\u001b[0m\n",
      " --> /content/drive/MyDrive/dataset/cloned/run-July-22-2023_10+56AM-0000000\n",
      "\n",
      "\u001b[1m > TRAINING (2023-07-22 12:10:27) \u001b[0m\n"
     ]
    },
    {
     "name": "stdout",
     "output_type": "stream",
     "text": [
      "We make all our packaging from one hundred% recycled trash, from ocean bound plastic to landfills.\n",
      " [!] Character '%' not found in the vocabulary. Discarding it.\n"
     ]
    },
    {
     "name": "stderr",
     "output_type": "stream",
     "text": [
      "\n",
      "\u001b[1m   --> TIME: 2023-07-22 12:10:40 -- STEP: 31/101 -- GLOBAL_STEP: 7000\u001b[0m\n",
      "     | > loss: 0.515682578086853  (0.5604478697622975)\n",
      "     | > log_mle: -0.07425689697265625  (-0.0184710891016068)\n",
      "     | > loss_dur: 0.5899394750595093  (0.5789189588639044)\n",
      "     | > amp_scaler: 8192.0  (8192.0)\n",
      "     | > grad_norm: tensor(32.7218, device='cuda:0')  (tensor(16.2513, device='cuda:0'))\n",
      "     | > current_lr: 8.625e-06 \n",
      "     | > step_time: 0.3008  (0.3285027780840474)\n",
      "     | > loader_time: 0.0036  (0.003923854520243983)\n",
      "\n",
      "\n",
      " > CHECKPOINT : /content/drive/MyDrive/dataset/cloned/run-July-22-2023_10+56AM-0000000/checkpoint_7000.pth\n",
      "\n",
      "\u001b[1m > EVALUATION \u001b[0m\n",
      "\n",
      "\n",
      "  \u001b[1m--> EVAL PERFORMANCE\u001b[0m\n",
      "     | > avg_loader_time:\u001b[92m 0.0021442174911499023 \u001b[0m(-9.459257125854492e-05)\n",
      "     | > avg_loss:\u001b[92m 0.5341608226299286 \u001b[0m(-0.020475685596466064)\n",
      "     | > avg_log_mle:\u001b[92m -0.006039157509803772 \u001b[0m(-0.009347662329673767)\n",
      "     | > avg_loss_dur:\u001b[92m 0.5401999801397324 \u001b[0m(-0.0111280158162117)\n",
      "\n"
     ]
    },
    {
     "name": "stdout",
     "output_type": "stream",
     "text": [
      " | > Synthesizing test sentences.\n"
     ]
    },
    {
     "name": "stderr",
     "output_type": "stream",
     "text": [
      "\n",
      "  \u001b[1m--> EVAL PERFORMANCE\u001b[0m\n",
      "     | > avg_loader_time: 0.0021442174911499023 \u001b[0m(+0.0)\n",
      "     | > avg_loss: 0.5341608226299286 \u001b[0m(+0.0)\n",
      "     | > avg_log_mle: -0.006039157509803772 \u001b[0m(+0.0)\n",
      "     | > avg_loss_dur: 0.5401999801397324 \u001b[0m(+0.0)\n",
      "\n",
      " > BEST MODEL : /content/drive/MyDrive/dataset/cloned/run-July-22-2023_10+56AM-0000000/best_model_7070.pth\n",
      "\n",
      "\u001b[4m\u001b[1m > EPOCH: 70/150\u001b[0m\n",
      " --> /content/drive/MyDrive/dataset/cloned/run-July-22-2023_10+56AM-0000000\n",
      "\n",
      "\u001b[1m > TRAINING (2023-07-22 12:11:38) \u001b[0m\n"
     ]
    },
    {
     "name": "stdout",
     "output_type": "stream",
     "text": [
      "We make all our packaging from one hundred% recycled trash, from ocean bound plastic to landfills.\n",
      " [!] Character '%' not found in the vocabulary. Discarding it.\n"
     ]
    },
    {
     "name": "stderr",
     "output_type": "stream",
     "text": [
      "\n",
      "\u001b[1m > EVALUATION \u001b[0m\n",
      "\n",
      "\n",
      "  \u001b[1m--> EVAL PERFORMANCE\u001b[0m\n",
      "     | > avg_loader_time:\u001b[92m 0.0016158819198608398 \u001b[0m(-0.0005283355712890625)\n",
      "     | > avg_loss:\u001b[91m 0.5379497557878494 \u001b[0m(+0.0037889331579208374)\n",
      "     | > avg_log_mle:\u001b[91m -0.00288255512714386 \u001b[0m(+0.003156602382659912)\n",
      "     | > avg_loss_dur:\u001b[91m 0.5408323109149933 \u001b[0m(+0.0006323307752609253)\n",
      "\n"
     ]
    },
    {
     "name": "stdout",
     "output_type": "stream",
     "text": [
      " | > Synthesizing test sentences.\n"
     ]
    },
    {
     "name": "stderr",
     "output_type": "stream",
     "text": [
      "\n",
      "  \u001b[1m--> EVAL PERFORMANCE\u001b[0m\n",
      "     | > avg_loader_time: 0.0016158819198608398 \u001b[0m(+0.0)\n",
      "     | > avg_loss: 0.5379497557878494 \u001b[0m(+0.0)\n",
      "     | > avg_log_mle: -0.00288255512714386 \u001b[0m(+0.0)\n",
      "     | > avg_loss_dur: 0.5408323109149933 \u001b[0m(+0.0)\n",
      "\n",
      "\n",
      "\u001b[4m\u001b[1m > EPOCH: 71/150\u001b[0m\n",
      " --> /content/drive/MyDrive/dataset/cloned/run-July-22-2023_10+56AM-0000000\n",
      "\n",
      "\u001b[1m > TRAINING (2023-07-22 12:12:42) \u001b[0m\n"
     ]
    },
    {
     "name": "stdout",
     "output_type": "stream",
     "text": [
      "We make all our packaging from one hundred% recycled trash, from ocean bound plastic to landfills.\n",
      " [!] Character '%' not found in the vocabulary. Discarding it.\n"
     ]
    },
    {
     "name": "stderr",
     "output_type": "stream",
     "text": [
      "\n",
      "\u001b[1m > EVALUATION \u001b[0m\n",
      "\n",
      "\n",
      "  \u001b[1m--> EVAL PERFORMANCE\u001b[0m\n",
      "     | > avg_loader_time:\u001b[91m 0.0017648935317993164 \u001b[0m(+0.00014901161193847656)\n",
      "     | > avg_loss:\u001b[92m 0.537202313542366 \u001b[0m(-0.0007474422454833984)\n",
      "     | > avg_log_mle:\u001b[92m -0.008572250604629517 \u001b[0m(-0.005689695477485657)\n",
      "     | > avg_loss_dur:\u001b[91m 0.5457745641469955 \u001b[0m(+0.004942253232002258)\n",
      "\n"
     ]
    },
    {
     "name": "stdout",
     "output_type": "stream",
     "text": [
      " | > Synthesizing test sentences.\n"
     ]
    },
    {
     "name": "stderr",
     "output_type": "stream",
     "text": [
      "\n",
      "  \u001b[1m--> EVAL PERFORMANCE\u001b[0m\n",
      "     | > avg_loader_time: 0.0017648935317993164 \u001b[0m(+0.0)\n",
      "     | > avg_loss: 0.537202313542366 \u001b[0m(+0.0)\n",
      "     | > avg_log_mle: -0.008572250604629517 \u001b[0m(+0.0)\n",
      "     | > avg_loss_dur: 0.5457745641469955 \u001b[0m(+0.0)\n",
      "\n",
      "\n",
      "\u001b[4m\u001b[1m > EPOCH: 72/150\u001b[0m\n",
      " --> /content/drive/MyDrive/dataset/cloned/run-July-22-2023_10+56AM-0000000\n",
      "\n",
      "\u001b[1m > TRAINING (2023-07-22 12:13:36) \u001b[0m\n"
     ]
    },
    {
     "name": "stdout",
     "output_type": "stream",
     "text": [
      "We make all our packaging from one hundred% recycled trash, from ocean bound plastic to landfills.\n",
      " [!] Character '%' not found in the vocabulary. Discarding it.\n"
     ]
    },
    {
     "name": "stderr",
     "output_type": "stream",
     "text": [
      "\n",
      "\u001b[1m > EVALUATION \u001b[0m\n",
      "\n",
      "\n",
      "  \u001b[1m--> EVAL PERFORMANCE\u001b[0m\n",
      "     | > avg_loader_time:\u001b[91m 0.001883864402770996 \u001b[0m(+0.00011897087097167969)\n",
      "     | > avg_loss:\u001b[91m 0.5385688990354538 \u001b[0m(+0.0013665854930877686)\n",
      "     | > avg_log_mle:\u001b[92m -0.012638852000236511 \u001b[0m(-0.004066601395606995)\n",
      "     | > avg_loss_dur:\u001b[91m 0.5512077510356903 \u001b[0m(+0.005433186888694763)\n",
      "\n"
     ]
    },
    {
     "name": "stdout",
     "output_type": "stream",
     "text": [
      " | > Synthesizing test sentences.\n"
     ]
    },
    {
     "name": "stderr",
     "output_type": "stream",
     "text": [
      "\n",
      "  \u001b[1m--> EVAL PERFORMANCE\u001b[0m\n",
      "     | > avg_loader_time: 0.001883864402770996 \u001b[0m(+0.0)\n",
      "     | > avg_loss: 0.5385688990354538 \u001b[0m(+0.0)\n",
      "     | > avg_log_mle: -0.012638852000236511 \u001b[0m(+0.0)\n",
      "     | > avg_loss_dur: 0.5512077510356903 \u001b[0m(+0.0)\n",
      "\n",
      "\n",
      "\u001b[4m\u001b[1m > EPOCH: 73/150\u001b[0m\n",
      " --> /content/drive/MyDrive/dataset/cloned/run-July-22-2023_10+56AM-0000000\n",
      "\n",
      "\u001b[1m > TRAINING (2023-07-22 12:14:33) \u001b[0m\n"
     ]
    },
    {
     "name": "stdout",
     "output_type": "stream",
     "text": [
      "We make all our packaging from one hundred% recycled trash, from ocean bound plastic to landfills.\n",
      " [!] Character '%' not found in the vocabulary. Discarding it.\n"
     ]
    },
    {
     "name": "stderr",
     "output_type": "stream",
     "text": [
      "\n",
      "\u001b[1m > EVALUATION \u001b[0m\n",
      "\n",
      "\n",
      "  \u001b[1m--> EVAL PERFORMANCE\u001b[0m\n",
      "     | > avg_loader_time:\u001b[92m 0.0016055107116699219 \u001b[0m(-0.0002783536911010742)\n",
      "     | > avg_loss:\u001b[92m 0.532366931438446 \u001b[0m(-0.0062019675970077515)\n",
      "     | > avg_log_mle:\u001b[92m -0.016585052013397217 \u001b[0m(-0.003946200013160706)\n",
      "     | > avg_loss_dur:\u001b[92m 0.5489519834518433 \u001b[0m(-0.002255767583847046)\n",
      "\n"
     ]
    },
    {
     "name": "stdout",
     "output_type": "stream",
     "text": [
      " | > Synthesizing test sentences.\n"
     ]
    },
    {
     "name": "stderr",
     "output_type": "stream",
     "text": [
      "\n",
      "  \u001b[1m--> EVAL PERFORMANCE\u001b[0m\n",
      "     | > avg_loader_time: 0.0016055107116699219 \u001b[0m(+0.0)\n",
      "     | > avg_loss: 0.532366931438446 \u001b[0m(+0.0)\n",
      "     | > avg_log_mle: -0.016585052013397217 \u001b[0m(+0.0)\n",
      "     | > avg_loss_dur: 0.5489519834518433 \u001b[0m(+0.0)\n",
      "\n",
      " > BEST MODEL : /content/drive/MyDrive/dataset/cloned/run-July-22-2023_10+56AM-0000000/best_model_7474.pth\n",
      "\n",
      "\u001b[4m\u001b[1m > EPOCH: 74/150\u001b[0m\n",
      " --> /content/drive/MyDrive/dataset/cloned/run-July-22-2023_10+56AM-0000000\n",
      "\n",
      "\u001b[1m > TRAINING (2023-07-22 12:15:43) \u001b[0m\n"
     ]
    },
    {
     "name": "stdout",
     "output_type": "stream",
     "text": [
      "We make all our packaging from one hundred% recycled trash, from ocean bound plastic to landfills.\n",
      " [!] Character '%' not found in the vocabulary. Discarding it.\n"
     ]
    },
    {
     "name": "stderr",
     "output_type": "stream",
     "text": [
      "\n",
      "\u001b[1m > EVALUATION \u001b[0m\n",
      "\n",
      "\n",
      "  \u001b[1m--> EVAL PERFORMANCE\u001b[0m\n",
      "     | > avg_loader_time:\u001b[91m 0.0032592415809631348 \u001b[0m(+0.0016537308692932129)\n",
      "     | > avg_loss:\u001b[92m 0.521916851401329 \u001b[0m(-0.010450080037117004)\n",
      "     | > avg_log_mle:\u001b[92m -0.029012590646743774 \u001b[0m(-0.012427538633346558)\n",
      "     | > avg_loss_dur:\u001b[91m 0.5509294494986534 \u001b[0m(+0.00197746604681015)\n",
      "\n"
     ]
    },
    {
     "name": "stdout",
     "output_type": "stream",
     "text": [
      " | > Synthesizing test sentences.\n"
     ]
    },
    {
     "name": "stderr",
     "output_type": "stream",
     "text": [
      "\n",
      "  \u001b[1m--> EVAL PERFORMANCE\u001b[0m\n",
      "     | > avg_loader_time: 0.0032592415809631348 \u001b[0m(+0.0)\n",
      "     | > avg_loss: 0.521916851401329 \u001b[0m(+0.0)\n",
      "     | > avg_log_mle: -0.029012590646743774 \u001b[0m(+0.0)\n",
      "     | > avg_loss_dur: 0.5509294494986534 \u001b[0m(+0.0)\n",
      "\n",
      " > BEST MODEL : /content/drive/MyDrive/dataset/cloned/run-July-22-2023_10+56AM-0000000/best_model_7575.pth\n",
      "\n",
      "\u001b[4m\u001b[1m > EPOCH: 75/150\u001b[0m\n",
      " --> /content/drive/MyDrive/dataset/cloned/run-July-22-2023_10+56AM-0000000\n",
      "\n",
      "\u001b[1m > TRAINING (2023-07-22 12:16:49) \u001b[0m\n"
     ]
    },
    {
     "name": "stdout",
     "output_type": "stream",
     "text": [
      "We make all our packaging from one hundred% recycled trash, from ocean bound plastic to landfills.\n",
      " [!] Character '%' not found in the vocabulary. Discarding it.\n"
     ]
    },
    {
     "name": "stderr",
     "output_type": "stream",
     "text": [
      "\n",
      "\u001b[1m > EVALUATION \u001b[0m\n",
      "\n",
      "\n",
      "  \u001b[1m--> EVAL PERFORMANCE\u001b[0m\n",
      "     | > avg_loader_time:\u001b[92m 0.001545727252960205 \u001b[0m(-0.0017135143280029297)\n",
      "     | > avg_loss:\u001b[92m 0.5031043440103531 \u001b[0m(-0.018812507390975952)\n",
      "     | > avg_log_mle:\u001b[92m -0.03625382483005524 \u001b[0m(-0.007241234183311462)\n",
      "     | > avg_loss_dur:\u001b[92m 0.5393581688404083 \u001b[0m(-0.011571280658245087)\n",
      "\n"
     ]
    },
    {
     "name": "stdout",
     "output_type": "stream",
     "text": [
      " | > Synthesizing test sentences.\n"
     ]
    },
    {
     "name": "stderr",
     "output_type": "stream",
     "text": [
      "\n",
      "  \u001b[1m--> EVAL PERFORMANCE\u001b[0m\n",
      "     | > avg_loader_time: 0.001545727252960205 \u001b[0m(+0.0)\n",
      "     | > avg_loss: 0.5031043440103531 \u001b[0m(+0.0)\n",
      "     | > avg_log_mle: -0.03625382483005524 \u001b[0m(+0.0)\n",
      "     | > avg_loss_dur: 0.5393581688404083 \u001b[0m(+0.0)\n",
      "\n",
      " > BEST MODEL : /content/drive/MyDrive/dataset/cloned/run-July-22-2023_10+56AM-0000000/best_model_7676.pth\n",
      "\n",
      "\u001b[4m\u001b[1m > EPOCH: 76/150\u001b[0m\n",
      " --> /content/drive/MyDrive/dataset/cloned/run-July-22-2023_10+56AM-0000000\n",
      "\n",
      "\u001b[1m > TRAINING (2023-07-22 12:17:55) \u001b[0m\n"
     ]
    },
    {
     "name": "stdout",
     "output_type": "stream",
     "text": [
      "We make all our packaging from one hundred% recycled trash, from ocean bound plastic to landfills.\n",
      " [!] Character '%' not found in the vocabulary. Discarding it.\n"
     ]
    },
    {
     "name": "stderr",
     "output_type": "stream",
     "text": [
      "\n",
      "\u001b[1m > EVALUATION \u001b[0m\n",
      "\n",
      "\n",
      "  \u001b[1m--> EVAL PERFORMANCE\u001b[0m\n",
      "     | > avg_loader_time:\u001b[92m 0.001341402530670166 \u001b[0m(-0.00020432472229003906)\n",
      "     | > avg_loss:\u001b[91m 0.5106380581855774 \u001b[0m(+0.007533714175224304)\n",
      "     | > avg_log_mle:\u001b[91m -0.035070568323135376 \u001b[0m(+0.0011832565069198608)\n",
      "     | > avg_loss_dur:\u001b[91m 0.5457086190581322 \u001b[0m(+0.0063504502177238464)\n",
      "\n"
     ]
    },
    {
     "name": "stdout",
     "output_type": "stream",
     "text": [
      " | > Synthesizing test sentences.\n"
     ]
    },
    {
     "name": "stderr",
     "output_type": "stream",
     "text": [
      "\n",
      "  \u001b[1m--> EVAL PERFORMANCE\u001b[0m\n",
      "     | > avg_loader_time: 0.001341402530670166 \u001b[0m(+0.0)\n",
      "     | > avg_loss: 0.5106380581855774 \u001b[0m(+0.0)\n",
      "     | > avg_log_mle: -0.035070568323135376 \u001b[0m(+0.0)\n",
      "     | > avg_loss_dur: 0.5457086190581322 \u001b[0m(+0.0)\n",
      "\n",
      "\n",
      "\u001b[4m\u001b[1m > EPOCH: 77/150\u001b[0m\n",
      " --> /content/drive/MyDrive/dataset/cloned/run-July-22-2023_10+56AM-0000000\n",
      "\n",
      "\u001b[1m > TRAINING (2023-07-22 12:18:53) \u001b[0m\n"
     ]
    },
    {
     "name": "stdout",
     "output_type": "stream",
     "text": [
      "We make all our packaging from one hundred% recycled trash, from ocean bound plastic to landfills.\n",
      " [!] Character '%' not found in the vocabulary. Discarding it.\n"
     ]
    },
    {
     "name": "stderr",
     "output_type": "stream",
     "text": [
      "\n",
      "\u001b[1m > EVALUATION \u001b[0m\n",
      "\n",
      "\n",
      "  \u001b[1m--> EVAL PERFORMANCE\u001b[0m\n",
      "     | > avg_loader_time:\u001b[91m 0.0017070770263671875 \u001b[0m(+0.0003656744956970215)\n",
      "     | > avg_loss:\u001b[92m 0.5033150166273117 \u001b[0m(-0.007323041558265686)\n",
      "     | > avg_log_mle:\u001b[92m -0.03902444243431091 \u001b[0m(-0.003953874111175537)\n",
      "     | > avg_loss_dur:\u001b[92m 0.5423394590616226 \u001b[0m(-0.003369159996509552)\n",
      "\n"
     ]
    },
    {
     "name": "stdout",
     "output_type": "stream",
     "text": [
      " | > Synthesizing test sentences.\n"
     ]
    },
    {
     "name": "stderr",
     "output_type": "stream",
     "text": [
      "\n",
      "  \u001b[1m--> EVAL PERFORMANCE\u001b[0m\n",
      "     | > avg_loader_time: 0.0017070770263671875 \u001b[0m(+0.0)\n",
      "     | > avg_loss: 0.5033150166273117 \u001b[0m(+0.0)\n",
      "     | > avg_log_mle: -0.03902444243431091 \u001b[0m(+0.0)\n",
      "     | > avg_loss_dur: 0.5423394590616226 \u001b[0m(+0.0)\n",
      "\n",
      "\n",
      "\u001b[4m\u001b[1m > EPOCH: 78/150\u001b[0m\n",
      " --> /content/drive/MyDrive/dataset/cloned/run-July-22-2023_10+56AM-0000000\n",
      "\n",
      "\u001b[1m > TRAINING (2023-07-22 12:19:48) \u001b[0m\n"
     ]
    },
    {
     "name": "stdout",
     "output_type": "stream",
     "text": [
      "We make all our packaging from one hundred% recycled trash, from ocean bound plastic to landfills.\n",
      " [!] Character '%' not found in the vocabulary. Discarding it.\n"
     ]
    },
    {
     "name": "stderr",
     "output_type": "stream",
     "text": [
      "\n",
      "\u001b[1m > EVALUATION \u001b[0m\n",
      "\n",
      "\n",
      "  \u001b[1m--> EVAL PERFORMANCE\u001b[0m\n",
      "     | > avg_loader_time:\u001b[92m 0.0014794468879699707 \u001b[0m(-0.0002276301383972168)\n",
      "     | > avg_loss:\u001b[91m 0.5096424221992493 \u001b[0m(+0.006327405571937561)\n",
      "     | > avg_log_mle:\u001b[92m -0.04627373814582825 \u001b[0m(-0.007249295711517334)\n",
      "     | > avg_loss_dur:\u001b[91m 0.5559161603450775 \u001b[0m(+0.013576701283454895)\n",
      "\n"
     ]
    },
    {
     "name": "stdout",
     "output_type": "stream",
     "text": [
      " | > Synthesizing test sentences.\n"
     ]
    },
    {
     "name": "stderr",
     "output_type": "stream",
     "text": [
      "\n",
      "  \u001b[1m--> EVAL PERFORMANCE\u001b[0m\n",
      "     | > avg_loader_time: 0.0014794468879699707 \u001b[0m(+0.0)\n",
      "     | > avg_loss: 0.5096424221992493 \u001b[0m(+0.0)\n",
      "     | > avg_log_mle: -0.04627373814582825 \u001b[0m(+0.0)\n",
      "     | > avg_loss_dur: 0.5559161603450775 \u001b[0m(+0.0)\n",
      "\n",
      "\n",
      "\u001b[4m\u001b[1m > EPOCH: 79/150\u001b[0m\n",
      " --> /content/drive/MyDrive/dataset/cloned/run-July-22-2023_10+56AM-0000000\n",
      "\n",
      "\u001b[1m > TRAINING (2023-07-22 12:20:46) \u001b[0m\n"
     ]
    },
    {
     "name": "stdout",
     "output_type": "stream",
     "text": [
      "We make all our packaging from one hundred% recycled trash, from ocean bound plastic to landfills.\n",
      " [!] Character '%' not found in the vocabulary. Discarding it.\n"
     ]
    },
    {
     "name": "stderr",
     "output_type": "stream",
     "text": [
      "\n",
      "\u001b[1m   --> TIME: 2023-07-22 12:20:54 -- STEP: 21/101 -- GLOBAL_STEP: 8000\u001b[0m\n",
      "     | > loss: 0.5647614002227783  (0.5115763999166942)\n",
      "     | > log_mle: 0.004244327545166016  (-0.06583282493409656)\n",
      "     | > loss_dur: 0.5605170726776123  (0.5774092248507908)\n",
      "     | > amp_scaler: 8192.0  (8192.0)\n",
      "     | > grad_norm: tensor(15.5655, device='cuda:0')  (tensor(16.6022, device='cuda:0'))\n",
      "     | > current_lr: 9.875e-06 \n",
      "     | > step_time: 0.3075  (0.3032697723025368)\n",
      "     | > loader_time: 0.0028  (0.0038120292481921966)\n",
      "\n",
      "\n",
      "\u001b[1m > EVALUATION \u001b[0m\n",
      "\n",
      "\n",
      "  \u001b[1m--> EVAL PERFORMANCE\u001b[0m\n",
      "     | > avg_loader_time:\u001b[91m 0.0014964938163757324 \u001b[0m(+1.704692840576172e-05)\n",
      "     | > avg_loss:\u001b[92m 0.5065934360027313 \u001b[0m(-0.0030489861965179443)\n",
      "     | > avg_log_mle:\u001b[91m -0.044779032468795776 \u001b[0m(+0.0014947056770324707)\n",
      "     | > avg_loss_dur:\u001b[92m 0.5513724684715271 \u001b[0m(-0.004543691873550415)\n",
      "\n"
     ]
    },
    {
     "name": "stdout",
     "output_type": "stream",
     "text": [
      " | > Synthesizing test sentences.\n"
     ]
    },
    {
     "name": "stderr",
     "output_type": "stream",
     "text": [
      "\n",
      "  \u001b[1m--> EVAL PERFORMANCE\u001b[0m\n",
      "     | > avg_loader_time: 0.0014964938163757324 \u001b[0m(+0.0)\n",
      "     | > avg_loss: 0.5065934360027313 \u001b[0m(+0.0)\n",
      "     | > avg_log_mle: -0.044779032468795776 \u001b[0m(+0.0)\n",
      "     | > avg_loss_dur: 0.5513724684715271 \u001b[0m(+0.0)\n",
      "\n",
      "\n",
      "\u001b[4m\u001b[1m > EPOCH: 80/150\u001b[0m\n",
      " --> /content/drive/MyDrive/dataset/cloned/run-July-22-2023_10+56AM-0000000\n",
      "\n",
      "\u001b[1m > TRAINING (2023-07-22 12:21:39) \u001b[0m\n"
     ]
    },
    {
     "name": "stdout",
     "output_type": "stream",
     "text": [
      "We make all our packaging from one hundred% recycled trash, from ocean bound plastic to landfills.\n",
      " [!] Character '%' not found in the vocabulary. Discarding it.\n"
     ]
    },
    {
     "name": "stderr",
     "output_type": "stream",
     "text": [
      "\n",
      "\u001b[1m > EVALUATION \u001b[0m\n",
      "\n",
      "\n",
      "  \u001b[1m--> EVAL PERFORMANCE\u001b[0m\n",
      "     | > avg_loader_time:\u001b[91m 0.0017324090003967285 \u001b[0m(+0.0002359151840209961)\n",
      "     | > avg_loss:\u001b[92m 0.49448489397764206 \u001b[0m(-0.012108542025089264)\n",
      "     | > avg_log_mle:\u001b[92m -0.054500192403793335 \u001b[0m(-0.009721159934997559)\n",
      "     | > avg_loss_dur:\u001b[92m 0.5489850863814354 \u001b[0m(-0.0023873820900917053)\n",
      "\n"
     ]
    },
    {
     "name": "stdout",
     "output_type": "stream",
     "text": [
      " | > Synthesizing test sentences.\n"
     ]
    },
    {
     "name": "stderr",
     "output_type": "stream",
     "text": [
      "\n",
      "  \u001b[1m--> EVAL PERFORMANCE\u001b[0m\n",
      "     | > avg_loader_time: 0.0017324090003967285 \u001b[0m(+0.0)\n",
      "     | > avg_loss: 0.49448489397764206 \u001b[0m(+0.0)\n",
      "     | > avg_log_mle: -0.054500192403793335 \u001b[0m(+0.0)\n",
      "     | > avg_loss_dur: 0.5489850863814354 \u001b[0m(+0.0)\n",
      "\n",
      " > BEST MODEL : /content/drive/MyDrive/dataset/cloned/run-July-22-2023_10+56AM-0000000/best_model_8181.pth\n",
      "\n",
      "\u001b[4m\u001b[1m > EPOCH: 81/150\u001b[0m\n",
      " --> /content/drive/MyDrive/dataset/cloned/run-July-22-2023_10+56AM-0000000\n",
      "\n",
      "\u001b[1m > TRAINING (2023-07-22 12:22:41) \u001b[0m\n"
     ]
    },
    {
     "name": "stdout",
     "output_type": "stream",
     "text": [
      "We make all our packaging from one hundred% recycled trash, from ocean bound plastic to landfills.\n",
      " [!] Character '%' not found in the vocabulary. Discarding it.\n"
     ]
    },
    {
     "name": "stderr",
     "output_type": "stream",
     "text": [
      "\n",
      "\u001b[1m > EVALUATION \u001b[0m\n",
      "\n",
      "\n",
      "  \u001b[1m--> EVAL PERFORMANCE\u001b[0m\n",
      "     | > avg_loader_time:\u001b[92m 0.0013985037803649902 \u001b[0m(-0.0003339052200317383)\n",
      "     | > avg_loss:\u001b[91m 0.5059884488582611 \u001b[0m(+0.011503554880619049)\n",
      "     | > avg_log_mle:\u001b[91m -0.044647037982940674 \u001b[0m(+0.009853154420852661)\n",
      "     | > avg_loss_dur:\u001b[91m 0.5506354793906212 \u001b[0m(+0.001650393009185791)\n",
      "\n"
     ]
    },
    {
     "name": "stdout",
     "output_type": "stream",
     "text": [
      " | > Synthesizing test sentences.\n"
     ]
    },
    {
     "name": "stderr",
     "output_type": "stream",
     "text": [
      "\n",
      "  \u001b[1m--> EVAL PERFORMANCE\u001b[0m\n",
      "     | > avg_loader_time: 0.0013985037803649902 \u001b[0m(+0.0)\n",
      "     | > avg_loss: 0.5059884488582611 \u001b[0m(+0.0)\n",
      "     | > avg_log_mle: -0.044647037982940674 \u001b[0m(+0.0)\n",
      "     | > avg_loss_dur: 0.5506354793906212 \u001b[0m(+0.0)\n",
      "\n",
      "\n",
      "\u001b[4m\u001b[1m > EPOCH: 82/150\u001b[0m\n",
      " --> /content/drive/MyDrive/dataset/cloned/run-July-22-2023_10+56AM-0000000\n",
      "\n",
      "\u001b[1m > TRAINING (2023-07-22 12:23:40) \u001b[0m\n"
     ]
    },
    {
     "name": "stdout",
     "output_type": "stream",
     "text": [
      "We make all our packaging from one hundred% recycled trash, from ocean bound plastic to landfills.\n",
      " [!] Character '%' not found in the vocabulary. Discarding it.\n"
     ]
    },
    {
     "name": "stderr",
     "output_type": "stream",
     "text": [
      "\n",
      "\u001b[1m > EVALUATION \u001b[0m\n",
      "\n",
      "\n",
      "  \u001b[1m--> EVAL PERFORMANCE\u001b[0m\n",
      "     | > avg_loader_time:\u001b[91m 0.0015344619750976562 \u001b[0m(+0.00013595819473266602)\n",
      "     | > avg_loss:\u001b[92m 0.49358462542295456 \u001b[0m(-0.012403823435306549)\n",
      "     | > avg_log_mle:\u001b[92m -0.058121055364608765 \u001b[0m(-0.01347401738166809)\n",
      "     | > avg_loss_dur:\u001b[91m 0.5517056807875633 \u001b[0m(+0.0010702013969421387)\n",
      "\n"
     ]
    },
    {
     "name": "stdout",
     "output_type": "stream",
     "text": [
      " | > Synthesizing test sentences.\n"
     ]
    },
    {
     "name": "stderr",
     "output_type": "stream",
     "text": [
      "\n",
      "  \u001b[1m--> EVAL PERFORMANCE\u001b[0m\n",
      "     | > avg_loader_time: 0.0015344619750976562 \u001b[0m(+0.0)\n",
      "     | > avg_loss: 0.49358462542295456 \u001b[0m(+0.0)\n",
      "     | > avg_log_mle: -0.058121055364608765 \u001b[0m(+0.0)\n",
      "     | > avg_loss_dur: 0.5517056807875633 \u001b[0m(+0.0)\n",
      "\n",
      " > BEST MODEL : /content/drive/MyDrive/dataset/cloned/run-July-22-2023_10+56AM-0000000/best_model_8383.pth\n",
      "\n",
      "\u001b[4m\u001b[1m > EPOCH: 83/150\u001b[0m\n",
      " --> /content/drive/MyDrive/dataset/cloned/run-July-22-2023_10+56AM-0000000\n",
      "\n",
      "\u001b[1m > TRAINING (2023-07-22 12:24:44) \u001b[0m\n"
     ]
    },
    {
     "name": "stdout",
     "output_type": "stream",
     "text": [
      "We make all our packaging from one hundred% recycled trash, from ocean bound plastic to landfills.\n",
      " [!] Character '%' not found in the vocabulary. Discarding it.\n"
     ]
    },
    {
     "name": "stderr",
     "output_type": "stream",
     "text": [
      "\n",
      "\u001b[1m > EVALUATION \u001b[0m\n",
      "\n",
      "\n",
      "  \u001b[1m--> EVAL PERFORMANCE\u001b[0m\n",
      "     | > avg_loader_time:\u001b[92m 0.0012459754943847656 \u001b[0m(-0.0002884864807128906)\n",
      "     | > avg_loss:\u001b[92m 0.4745604544878006 \u001b[0m(-0.01902417093515396)\n",
      "     | > avg_log_mle:\u001b[92m -0.06290695071220398 \u001b[0m(-0.004785895347595215)\n",
      "     | > avg_loss_dur:\u001b[92m 0.5374674052000046 \u001b[0m(-0.014238275587558746)\n",
      "\n"
     ]
    },
    {
     "name": "stdout",
     "output_type": "stream",
     "text": [
      " | > Synthesizing test sentences.\n"
     ]
    },
    {
     "name": "stderr",
     "output_type": "stream",
     "text": [
      "\n",
      "  \u001b[1m--> EVAL PERFORMANCE\u001b[0m\n",
      "     | > avg_loader_time: 0.0012459754943847656 \u001b[0m(+0.0)\n",
      "     | > avg_loss: 0.4745604544878006 \u001b[0m(+0.0)\n",
      "     | > avg_log_mle: -0.06290695071220398 \u001b[0m(+0.0)\n",
      "     | > avg_loss_dur: 0.5374674052000046 \u001b[0m(+0.0)\n",
      "\n",
      " > BEST MODEL : /content/drive/MyDrive/dataset/cloned/run-July-22-2023_10+56AM-0000000/best_model_8484.pth\n",
      "\n",
      "\u001b[4m\u001b[1m > EPOCH: 84/150\u001b[0m\n",
      " --> /content/drive/MyDrive/dataset/cloned/run-July-22-2023_10+56AM-0000000\n",
      "\n",
      "\u001b[1m > TRAINING (2023-07-22 12:25:50) \u001b[0m\n"
     ]
    },
    {
     "name": "stdout",
     "output_type": "stream",
     "text": [
      "We make all our packaging from one hundred% recycled trash, from ocean bound plastic to landfills.\n",
      " [!] Character '%' not found in the vocabulary. Discarding it.\n"
     ]
    },
    {
     "name": "stderr",
     "output_type": "stream",
     "text": [
      "\n",
      "\u001b[1m > EVALUATION \u001b[0m\n",
      "\n",
      "\n",
      "  \u001b[1m--> EVAL PERFORMANCE\u001b[0m\n",
      "     | > avg_loader_time:\u001b[91m 0.0016317963600158691 \u001b[0m(+0.0003858208656311035)\n",
      "     | > avg_loss:\u001b[91m 0.4798538461327553 \u001b[0m(+0.005293391644954681)\n",
      "     | > avg_log_mle:\u001b[92m -0.0709087997674942 \u001b[0m(-0.008001849055290222)\n",
      "     | > avg_loss_dur:\u001b[91m 0.5507626459002495 \u001b[0m(+0.013295240700244904)\n",
      "\n"
     ]
    },
    {
     "name": "stdout",
     "output_type": "stream",
     "text": [
      " | > Synthesizing test sentences.\n"
     ]
    },
    {
     "name": "stderr",
     "output_type": "stream",
     "text": [
      "\n",
      "  \u001b[1m--> EVAL PERFORMANCE\u001b[0m\n",
      "     | > avg_loader_time: 0.0016317963600158691 \u001b[0m(+0.0)\n",
      "     | > avg_loss: 0.4798538461327553 \u001b[0m(+0.0)\n",
      "     | > avg_log_mle: -0.0709087997674942 \u001b[0m(+0.0)\n",
      "     | > avg_loss_dur: 0.5507626459002495 \u001b[0m(+0.0)\n",
      "\n",
      "\n",
      "\u001b[4m\u001b[1m > EPOCH: 85/150\u001b[0m\n",
      " --> /content/drive/MyDrive/dataset/cloned/run-July-22-2023_10+56AM-0000000\n",
      "\n",
      "\u001b[1m > TRAINING (2023-07-22 12:26:47) \u001b[0m\n"
     ]
    },
    {
     "name": "stdout",
     "output_type": "stream",
     "text": [
      "We make all our packaging from one hundred% recycled trash, from ocean bound plastic to landfills.\n",
      " [!] Character '%' not found in the vocabulary. Discarding it.\n"
     ]
    },
    {
     "name": "stderr",
     "output_type": "stream",
     "text": [
      "\n",
      "\u001b[1m > EVALUATION \u001b[0m\n",
      "\n",
      "\n",
      "  \u001b[1m--> EVAL PERFORMANCE\u001b[0m\n",
      "     | > avg_loader_time:\u001b[92m 0.001317143440246582 \u001b[0m(-0.0003146529197692871)\n",
      "     | > avg_loss:\u001b[92m 0.46958059817552567 \u001b[0m(-0.010273247957229614)\n",
      "     | > avg_log_mle:\u001b[92m -0.07991527020931244 \u001b[0m(-0.009006470441818237)\n",
      "     | > avg_loss_dur:\u001b[92m 0.5494958683848381 \u001b[0m(-0.001266777515411377)\n",
      "\n"
     ]
    },
    {
     "name": "stdout",
     "output_type": "stream",
     "text": [
      " | > Synthesizing test sentences.\n"
     ]
    },
    {
     "name": "stderr",
     "output_type": "stream",
     "text": [
      "\n",
      "  \u001b[1m--> EVAL PERFORMANCE\u001b[0m\n",
      "     | > avg_loader_time: 0.001317143440246582 \u001b[0m(+0.0)\n",
      "     | > avg_loss: 0.46958059817552567 \u001b[0m(+0.0)\n",
      "     | > avg_log_mle: -0.07991527020931244 \u001b[0m(+0.0)\n",
      "     | > avg_loss_dur: 0.5494958683848381 \u001b[0m(+0.0)\n",
      "\n",
      " > BEST MODEL : /content/drive/MyDrive/dataset/cloned/run-July-22-2023_10+56AM-0000000/best_model_8686.pth\n",
      "\n",
      "\u001b[4m\u001b[1m > EPOCH: 86/150\u001b[0m\n",
      " --> /content/drive/MyDrive/dataset/cloned/run-July-22-2023_10+56AM-0000000\n",
      "\n",
      "\u001b[1m > TRAINING (2023-07-22 12:27:50) \u001b[0m\n"
     ]
    },
    {
     "name": "stdout",
     "output_type": "stream",
     "text": [
      "We make all our packaging from one hundred% recycled trash, from ocean bound plastic to landfills.\n",
      " [!] Character '%' not found in the vocabulary. Discarding it.\n"
     ]
    },
    {
     "name": "stderr",
     "output_type": "stream",
     "text": [
      "\n",
      "\u001b[1m > EVALUATION \u001b[0m\n",
      "\n",
      "\n",
      "  \u001b[1m--> EVAL PERFORMANCE\u001b[0m\n",
      "     | > avg_loader_time:\u001b[91m 0.0017628669738769531 \u001b[0m(+0.0004457235336303711)\n",
      "     | > avg_loss:\u001b[92m 0.46318015456199646 \u001b[0m(-0.006400443613529205)\n",
      "     | > avg_log_mle:\u001b[92m -0.08123470842838287 \u001b[0m(-0.0013194382190704346)\n",
      "     | > avg_loss_dur:\u001b[92m 0.5444148629903793 \u001b[0m(-0.005081005394458771)\n",
      "\n"
     ]
    },
    {
     "name": "stdout",
     "output_type": "stream",
     "text": [
      " | > Synthesizing test sentences.\n"
     ]
    },
    {
     "name": "stderr",
     "output_type": "stream",
     "text": [
      "\n",
      "  \u001b[1m--> EVAL PERFORMANCE\u001b[0m\n",
      "     | > avg_loader_time: 0.0017628669738769531 \u001b[0m(+0.0)\n",
      "     | > avg_loss: 0.46318015456199646 \u001b[0m(+0.0)\n",
      "     | > avg_log_mle: -0.08123470842838287 \u001b[0m(+0.0)\n",
      "     | > avg_loss_dur: 0.5444148629903793 \u001b[0m(+0.0)\n",
      "\n",
      " > BEST MODEL : /content/drive/MyDrive/dataset/cloned/run-July-22-2023_10+56AM-0000000/best_model_8787.pth\n",
      "\n",
      "\u001b[4m\u001b[1m > EPOCH: 87/150\u001b[0m\n",
      " --> /content/drive/MyDrive/dataset/cloned/run-July-22-2023_10+56AM-0000000\n",
      "\n",
      "\u001b[1m > TRAINING (2023-07-22 12:28:54) \u001b[0m\n"
     ]
    },
    {
     "name": "stdout",
     "output_type": "stream",
     "text": [
      "We make all our packaging from one hundred% recycled trash, from ocean bound plastic to landfills.\n",
      " [!] Character '%' not found in the vocabulary. Discarding it.\n"
     ]
    },
    {
     "name": "stderr",
     "output_type": "stream",
     "text": [
      "\n",
      "\u001b[1m > EVALUATION \u001b[0m\n",
      "\n",
      "\n",
      "  \u001b[1m--> EVAL PERFORMANCE\u001b[0m\n",
      "     | > avg_loader_time:\u001b[92m 0.0014639496803283691 \u001b[0m(-0.000298917293548584)\n",
      "     | > avg_loss:\u001b[91m 0.47500479966402054 \u001b[0m(+0.011824645102024078)\n",
      "     | > avg_log_mle:\u001b[91m -0.07403548061847687 \u001b[0m(+0.007199227809906006)\n",
      "     | > avg_loss_dur:\u001b[91m 0.5490402802824974 \u001b[0m(+0.0046254172921180725)\n",
      "\n"
     ]
    },
    {
     "name": "stdout",
     "output_type": "stream",
     "text": [
      " | > Synthesizing test sentences.\n"
     ]
    },
    {
     "name": "stderr",
     "output_type": "stream",
     "text": [
      "\n",
      "  \u001b[1m--> EVAL PERFORMANCE\u001b[0m\n",
      "     | > avg_loader_time: 0.0014639496803283691 \u001b[0m(+0.0)\n",
      "     | > avg_loss: 0.47500479966402054 \u001b[0m(+0.0)\n",
      "     | > avg_log_mle: -0.07403548061847687 \u001b[0m(+0.0)\n",
      "     | > avg_loss_dur: 0.5490402802824974 \u001b[0m(+0.0)\n",
      "\n",
      "\n",
      "\u001b[4m\u001b[1m > EPOCH: 88/150\u001b[0m\n",
      " --> /content/drive/MyDrive/dataset/cloned/run-July-22-2023_10+56AM-0000000\n",
      "\n",
      "\u001b[1m > TRAINING (2023-07-22 12:29:55) \u001b[0m\n"
     ]
    },
    {
     "name": "stdout",
     "output_type": "stream",
     "text": [
      "We make all our packaging from one hundred% recycled trash, from ocean bound plastic to landfills.\n",
      " [!] Character '%' not found in the vocabulary. Discarding it.\n"
     ]
    },
    {
     "name": "stderr",
     "output_type": "stream",
     "text": [
      "\n",
      "\u001b[1m > EVALUATION \u001b[0m\n",
      "\n",
      "\n",
      "  \u001b[1m--> EVAL PERFORMANCE\u001b[0m\n",
      "     | > avg_loader_time:\u001b[91m 0.0017817020416259766 \u001b[0m(+0.0003177523612976074)\n",
      "     | > avg_loss:\u001b[92m 0.45893727988004684 \u001b[0m(-0.016067519783973694)\n",
      "     | > avg_log_mle:\u001b[92m -0.0871158242225647 \u001b[0m(-0.01308034360408783)\n",
      "     | > avg_loss_dur:\u001b[92m 0.5460531041026115 \u001b[0m(-0.0029871761798858643)\n",
      "\n"
     ]
    },
    {
     "name": "stdout",
     "output_type": "stream",
     "text": [
      " | > Synthesizing test sentences.\n"
     ]
    },
    {
     "name": "stderr",
     "output_type": "stream",
     "text": [
      "\n",
      "  \u001b[1m--> EVAL PERFORMANCE\u001b[0m\n",
      "     | > avg_loader_time: 0.0017817020416259766 \u001b[0m(+0.0)\n",
      "     | > avg_loss: 0.45893727988004684 \u001b[0m(+0.0)\n",
      "     | > avg_log_mle: -0.0871158242225647 \u001b[0m(+0.0)\n",
      "     | > avg_loss_dur: 0.5460531041026115 \u001b[0m(+0.0)\n",
      "\n",
      " > BEST MODEL : /content/drive/MyDrive/dataset/cloned/run-July-22-2023_10+56AM-0000000/best_model_8989.pth\n",
      "\n",
      "\u001b[4m\u001b[1m > EPOCH: 89/150\u001b[0m\n",
      " --> /content/drive/MyDrive/dataset/cloned/run-July-22-2023_10+56AM-0000000\n",
      "\n",
      "\u001b[1m > TRAINING (2023-07-22 12:30:59) \u001b[0m\n"
     ]
    },
    {
     "name": "stdout",
     "output_type": "stream",
     "text": [
      "We make all our packaging from one hundred% recycled trash, from ocean bound plastic to landfills.\n",
      " [!] Character '%' not found in the vocabulary. Discarding it.\n"
     ]
    },
    {
     "name": "stderr",
     "output_type": "stream",
     "text": [
      "\n",
      "\u001b[1m   --> TIME: 2023-07-22 12:31:04 -- STEP: 11/101 -- GLOBAL_STEP: 9000\u001b[0m\n",
      "     | > loss: 0.4593978524208069  (0.4313083724542098)\n",
      "     | > log_mle: -0.08420991897583008  (-0.11580816182223233)\n",
      "     | > loss_dur: 0.543607771396637  (0.5471165342764421)\n",
      "     | > amp_scaler: 16384.0  (16384.0)\n",
      "     | > grad_norm: tensor(11.7493, device='cuda:0')  (tensor(21.6013, device='cuda:0'))\n",
      "     | > current_lr: 1.1125000000000001e-05 \n",
      "     | > step_time: 0.305  (0.3011156645688144)\n",
      "     | > loader_time: 0.0038  (0.003334500572898171)\n",
      "\n",
      "\n",
      "\u001b[1m > EVALUATION \u001b[0m\n",
      "\n",
      "\n",
      "  \u001b[1m--> EVAL PERFORMANCE\u001b[0m\n",
      "     | > avg_loader_time:\u001b[92m 0.0013228058815002441 \u001b[0m(-0.0004588961601257324)\n",
      "     | > avg_loss:\u001b[92m 0.44883010536432266 \u001b[0m(-0.010107174515724182)\n",
      "     | > avg_log_mle:\u001b[92m -0.09294220805168152 \u001b[0m(-0.005826383829116821)\n",
      "     | > avg_loss_dur:\u001b[92m 0.5417723134160042 \u001b[0m(-0.004280790686607361)\n",
      "\n"
     ]
    },
    {
     "name": "stdout",
     "output_type": "stream",
     "text": [
      " | > Synthesizing test sentences.\n"
     ]
    },
    {
     "name": "stderr",
     "output_type": "stream",
     "text": [
      "\n",
      "  \u001b[1m--> EVAL PERFORMANCE\u001b[0m\n",
      "     | > avg_loader_time: 0.0013228058815002441 \u001b[0m(+0.0)\n",
      "     | > avg_loss: 0.44883010536432266 \u001b[0m(+0.0)\n",
      "     | > avg_log_mle: -0.09294220805168152 \u001b[0m(+0.0)\n",
      "     | > avg_loss_dur: 0.5417723134160042 \u001b[0m(+0.0)\n",
      "\n",
      " > BEST MODEL : /content/drive/MyDrive/dataset/cloned/run-July-22-2023_10+56AM-0000000/best_model_9090.pth\n",
      "\n",
      "\u001b[4m\u001b[1m > EPOCH: 90/150\u001b[0m\n",
      " --> /content/drive/MyDrive/dataset/cloned/run-July-22-2023_10+56AM-0000000\n",
      "\n",
      "\u001b[1m > TRAINING (2023-07-22 12:32:05) \u001b[0m\n"
     ]
    },
    {
     "name": "stdout",
     "output_type": "stream",
     "text": [
      "We make all our packaging from one hundred% recycled trash, from ocean bound plastic to landfills.\n",
      "\n",
      " [!] Character '%' not found in the vocabulary. Discarding it."
     ]
    },
    {
     "name": "stderr",
     "output_type": "stream",
     "text": [
      "\n",
      "\u001b[1m > EVALUATION \u001b[0m\n",
      "\n",
      "\n",
      "  \u001b[1m--> EVAL PERFORMANCE\u001b[0m\n",
      "     | > avg_loader_time:\u001b[91m 0.001403510570526123 \u001b[0m(+8.07046890258789e-05)\n",
      "     | > avg_loss:\u001b[91m 0.45507846027612686 \u001b[0m(+0.006248354911804199)\n",
      "     | > avg_log_mle:\u001b[92m -0.09503057599067688 \u001b[0m(-0.0020883679389953613)\n",
      "     | > avg_loss_dur:\u001b[91m 0.5501090362668037 \u001b[0m(+0.00833672285079956)\n",
      "\n"
     ]
    },
    {
     "name": "stdout",
     "output_type": "stream",
     "text": [
      " | > Synthesizing test sentences.\n"
     ]
    },
    {
     "name": "stderr",
     "output_type": "stream",
     "text": [
      "\n",
      "  \u001b[1m--> EVAL PERFORMANCE\u001b[0m\n",
      "     | > avg_loader_time: 0.001403510570526123 \u001b[0m(+0.0)\n",
      "     | > avg_loss: 0.45507846027612686 \u001b[0m(+0.0)\n",
      "     | > avg_log_mle: -0.09503057599067688 \u001b[0m(+0.0)\n",
      "     | > avg_loss_dur: 0.5501090362668037 \u001b[0m(+0.0)\n",
      "\n",
      "\n",
      "\u001b[4m\u001b[1m > EPOCH: 91/150\u001b[0m\n",
      " --> /content/drive/MyDrive/dataset/cloned/run-July-22-2023_10+56AM-0000000\n",
      "\n",
      "\u001b[1m > TRAINING (2023-07-22 12:33:00) \u001b[0m\n"
     ]
    },
    {
     "name": "stdout",
     "output_type": "stream",
     "text": [
      "We make all our packaging from one hundred% recycled trash, from ocean bound plastic to landfills.\n",
      " [!] Character '%' not found in the vocabulary. Discarding it.\n"
     ]
    },
    {
     "name": "stderr",
     "output_type": "stream",
     "text": [
      "\n",
      "\u001b[1m > EVALUATION \u001b[0m\n",
      "\n",
      "\n",
      "  \u001b[1m--> EVAL PERFORMANCE\u001b[0m\n",
      "     | > avg_loader_time:\u001b[91m 0.0029841065406799316 \u001b[0m(+0.0015805959701538086)\n",
      "     | > avg_loss:\u001b[92m 0.442707322537899 \u001b[0m(-0.012371137738227844)\n",
      "     | > avg_log_mle:\u001b[92m -0.0970824658870697 \u001b[0m(-0.0020518898963928223)\n",
      "     | > avg_loss_dur:\u001b[92m 0.5397897884249687 \u001b[0m(-0.010319247841835022)\n",
      "\n"
     ]
    },
    {
     "name": "stdout",
     "output_type": "stream",
     "text": [
      " | > Synthesizing test sentences.\n"
     ]
    },
    {
     "name": "stderr",
     "output_type": "stream",
     "text": [
      "\n",
      "  \u001b[1m--> EVAL PERFORMANCE\u001b[0m\n",
      "     | > avg_loader_time: 0.0029841065406799316 \u001b[0m(+0.0)\n",
      "     | > avg_loss: 0.442707322537899 \u001b[0m(+0.0)\n",
      "     | > avg_log_mle: -0.0970824658870697 \u001b[0m(+0.0)\n",
      "     | > avg_loss_dur: 0.5397897884249687 \u001b[0m(+0.0)\n",
      "\n",
      " > BEST MODEL : /content/drive/MyDrive/dataset/cloned/run-July-22-2023_10+56AM-0000000/best_model_9292.pth\n",
      "\n",
      "\u001b[4m\u001b[1m > EPOCH: 92/150\u001b[0m\n",
      " --> /content/drive/MyDrive/dataset/cloned/run-July-22-2023_10+56AM-0000000\n",
      "\n",
      "\u001b[1m > TRAINING (2023-07-22 12:34:04) \u001b[0m\n"
     ]
    },
    {
     "name": "stdout",
     "output_type": "stream",
     "text": [
      "We make all our packaging from one hundred% recycled trash, from ocean bound plastic to landfills.\n",
      " [!] Character '%' not found in the vocabulary. Discarding it.\n"
     ]
    },
    {
     "name": "stderr",
     "output_type": "stream",
     "text": [
      "\n",
      "\u001b[1m > EVALUATION \u001b[0m\n",
      "\n",
      "\n",
      "  \u001b[1m--> EVAL PERFORMANCE\u001b[0m\n",
      "     | > avg_loader_time:\u001b[92m 0.0018748044967651367 \u001b[0m(-0.001109302043914795)\n",
      "     | > avg_loss:\u001b[91m 0.44420135021209717 \u001b[0m(+0.0014940276741981506)\n",
      "     | > avg_log_mle:\u001b[92m -0.10125620663166046 \u001b[0m(-0.004173740744590759)\n",
      "     | > avg_loss_dur:\u001b[91m 0.5454575568437576 \u001b[0m(+0.00566776841878891)\n",
      "\n"
     ]
    },
    {
     "name": "stdout",
     "output_type": "stream",
     "text": [
      " | > Synthesizing test sentences.\n"
     ]
    },
    {
     "name": "stderr",
     "output_type": "stream",
     "text": [
      "\n",
      "  \u001b[1m--> EVAL PERFORMANCE\u001b[0m\n",
      "     | > avg_loader_time: 0.0018748044967651367 \u001b[0m(+0.0)\n",
      "     | > avg_loss: 0.44420135021209717 \u001b[0m(+0.0)\n",
      "     | > avg_log_mle: -0.10125620663166046 \u001b[0m(+0.0)\n",
      "     | > avg_loss_dur: 0.5454575568437576 \u001b[0m(+0.0)\n",
      "\n",
      "\n",
      "\u001b[4m\u001b[1m > EPOCH: 93/150\u001b[0m\n",
      " --> /content/drive/MyDrive/dataset/cloned/run-July-22-2023_10+56AM-0000000\n",
      "\n",
      "\u001b[1m > TRAINING (2023-07-22 12:35:00) \u001b[0m\n"
     ]
    },
    {
     "name": "stdout",
     "output_type": "stream",
     "text": [
      "We make all our packaging from one hundred% recycled trash, from ocean bound plastic to landfills.\n",
      " [!] Character '%' not found in the vocabulary. Discarding it.\n"
     ]
    },
    {
     "name": "stderr",
     "output_type": "stream",
     "text": [
      "\n",
      "\u001b[1m > EVALUATION \u001b[0m\n",
      "\n",
      "\n",
      "  \u001b[1m--> EVAL PERFORMANCE\u001b[0m\n",
      "     | > avg_loader_time:\u001b[92m 0.001738131046295166 \u001b[0m(-0.0001366734504699707)\n",
      "     | > avg_loss:\u001b[91m 0.44650518149137497 \u001b[0m(+0.0023038312792778015)\n",
      "     | > avg_log_mle:\u001b[92m -0.10152249038219452 \u001b[0m(-0.0002662837505340576)\n",
      "     | > avg_loss_dur:\u001b[91m 0.5480276718735695 \u001b[0m(+0.002570115029811859)\n",
      "\n"
     ]
    },
    {
     "name": "stdout",
     "output_type": "stream",
     "text": [
      " | > Synthesizing test sentences.\n"
     ]
    },
    {
     "name": "stderr",
     "output_type": "stream",
     "text": [
      "\n",
      "  \u001b[1m--> EVAL PERFORMANCE\u001b[0m\n",
      "     | > avg_loader_time: 0.001738131046295166 \u001b[0m(+0.0)\n",
      "     | > avg_loss: 0.44650518149137497 \u001b[0m(+0.0)\n",
      "     | > avg_log_mle: -0.10152249038219452 \u001b[0m(+0.0)\n",
      "     | > avg_loss_dur: 0.5480276718735695 \u001b[0m(+0.0)\n",
      "\n",
      "\n",
      "\u001b[4m\u001b[1m > EPOCH: 94/150\u001b[0m\n",
      " --> /content/drive/MyDrive/dataset/cloned/run-July-22-2023_10+56AM-0000000\n",
      "\n",
      "\u001b[1m > TRAINING (2023-07-22 12:36:00) \u001b[0m\n"
     ]
    },
    {
     "name": "stdout",
     "output_type": "stream",
     "text": [
      "We make all our packaging from one hundred% recycled trash, from ocean bound plastic to landfills.\n",
      " [!] Character '%' not found in the vocabulary. Discarding it.\n"
     ]
    },
    {
     "name": "stderr",
     "output_type": "stream",
     "text": [
      "\n",
      "\u001b[1m > EVALUATION \u001b[0m\n",
      "\n",
      "\n",
      "  \u001b[1m--> EVAL PERFORMANCE\u001b[0m\n",
      "     | > avg_loader_time:\u001b[92m 0.001682877540588379 \u001b[0m(-5.525350570678711e-05)\n",
      "     | > avg_loss:\u001b[92m 0.443865641951561 \u001b[0m(-0.0026395395398139954)\n",
      "     | > avg_log_mle:\u001b[92m -0.1059650331735611 \u001b[0m(-0.004442542791366577)\n",
      "     | > avg_loss_dur:\u001b[91m 0.5498306751251221 \u001b[0m(+0.0018030032515525818)\n",
      "\n"
     ]
    },
    {
     "name": "stdout",
     "output_type": "stream",
     "text": [
      " | > Synthesizing test sentences.\n"
     ]
    },
    {
     "name": "stderr",
     "output_type": "stream",
     "text": [
      "\n",
      "  \u001b[1m--> EVAL PERFORMANCE\u001b[0m\n",
      "     | > avg_loader_time: 0.001682877540588379 \u001b[0m(+0.0)\n",
      "     | > avg_loss: 0.443865641951561 \u001b[0m(+0.0)\n",
      "     | > avg_log_mle: -0.1059650331735611 \u001b[0m(+0.0)\n",
      "     | > avg_loss_dur: 0.5498306751251221 \u001b[0m(+0.0)\n",
      "\n",
      "\n",
      "\u001b[4m\u001b[1m > EPOCH: 95/150\u001b[0m\n",
      " --> /content/drive/MyDrive/dataset/cloned/run-July-22-2023_10+56AM-0000000\n",
      "\n",
      "\u001b[1m > TRAINING (2023-07-22 12:36:55) \u001b[0m\n"
     ]
    },
    {
     "name": "stdout",
     "output_type": "stream",
     "text": [
      "We make all our packaging from one hundred% recycled trash, from ocean bound plastic to landfills.\n",
      " [!] Character '%' not found in the vocabulary. Discarding it.\n"
     ]
    },
    {
     "name": "stderr",
     "output_type": "stream",
     "text": [
      "\n",
      "\u001b[1m > EVALUATION \u001b[0m\n",
      "\n",
      "\n",
      "  \u001b[1m--> EVAL PERFORMANCE\u001b[0m\n",
      "     | > avg_loader_time:\u001b[91m 0.0019093155860900879 \u001b[0m(+0.00022643804550170898)\n",
      "     | > avg_loss:\u001b[92m 0.4228610396385193 \u001b[0m(-0.021004602313041687)\n",
      "     | > avg_log_mle:\u001b[92m -0.11951526999473572 \u001b[0m(-0.013550236821174622)\n",
      "     | > avg_loss_dur:\u001b[92m 0.542376309633255 \u001b[0m(-0.007454365491867065)\n",
      "\n"
     ]
    },
    {
     "name": "stdout",
     "output_type": "stream",
     "text": [
      " | > Synthesizing test sentences.\n"
     ]
    },
    {
     "name": "stderr",
     "output_type": "stream",
     "text": [
      "\n",
      "  \u001b[1m--> EVAL PERFORMANCE\u001b[0m\n",
      "     | > avg_loader_time: 0.0019093155860900879 \u001b[0m(+0.0)\n",
      "     | > avg_loss: 0.4228610396385193 \u001b[0m(+0.0)\n",
      "     | > avg_log_mle: -0.11951526999473572 \u001b[0m(+0.0)\n",
      "     | > avg_loss_dur: 0.542376309633255 \u001b[0m(+0.0)\n",
      "\n",
      " > BEST MODEL : /content/drive/MyDrive/dataset/cloned/run-July-22-2023_10+56AM-0000000/best_model_9696.pth\n",
      "\n",
      "\u001b[4m\u001b[1m > EPOCH: 96/150\u001b[0m\n",
      " --> /content/drive/MyDrive/dataset/cloned/run-July-22-2023_10+56AM-0000000\n",
      "\n",
      "\u001b[1m > TRAINING (2023-07-22 12:37:56) \u001b[0m\n"
     ]
    },
    {
     "name": "stdout",
     "output_type": "stream",
     "text": [
      "We make all our packaging from one hundred% recycled trash, from ocean bound plastic to landfills.\n",
      " [!] Character '%' not found in the vocabulary. Discarding it.\n"
     ]
    },
    {
     "name": "stderr",
     "output_type": "stream",
     "text": [
      "\n",
      "\u001b[1m > EVALUATION \u001b[0m\n",
      "\n",
      "\n",
      "  \u001b[1m--> EVAL PERFORMANCE\u001b[0m\n",
      "     | > avg_loader_time:\u001b[91m 0.002148926258087158 \u001b[0m(+0.0002396106719970703)\n",
      "     | > avg_loss:\u001b[91m 0.4252956658601761 \u001b[0m(+0.0024346262216567993)\n",
      "     | > avg_log_mle:\u001b[92m -0.12185177206993103 \u001b[0m(-0.0023365020751953125)\n",
      "     | > avg_loss_dur:\u001b[91m 0.5471474379301071 \u001b[0m(+0.004771128296852112)\n",
      "\n"
     ]
    },
    {
     "name": "stdout",
     "output_type": "stream",
     "text": [
      " | > Synthesizing test sentences.\n"
     ]
    },
    {
     "name": "stderr",
     "output_type": "stream",
     "text": [
      "\n",
      "  \u001b[1m--> EVAL PERFORMANCE\u001b[0m\n",
      "     | > avg_loader_time: 0.002148926258087158 \u001b[0m(+0.0)\n",
      "     | > avg_loss: 0.4252956658601761 \u001b[0m(+0.0)\n",
      "     | > avg_log_mle: -0.12185177206993103 \u001b[0m(+0.0)\n",
      "     | > avg_loss_dur: 0.5471474379301071 \u001b[0m(+0.0)\n",
      "\n",
      "\n",
      "\u001b[4m\u001b[1m > EPOCH: 97/150\u001b[0m\n",
      " --> /content/drive/MyDrive/dataset/cloned/run-July-22-2023_10+56AM-0000000\n",
      "\n",
      "\u001b[1m > TRAINING (2023-07-22 12:38:55) \u001b[0m\n"
     ]
    },
    {
     "name": "stdout",
     "output_type": "stream",
     "text": [
      "We make all our packaging from one hundred% recycled trash, from ocean bound plastic to landfills.\n",
      " [!] Character '%' not found in the vocabulary. Discarding it.\n"
     ]
    },
    {
     "name": "stderr",
     "output_type": "stream",
     "text": [
      "\n",
      "\u001b[1m > EVALUATION \u001b[0m\n",
      "\n",
      "\n",
      "  \u001b[1m--> EVAL PERFORMANCE\u001b[0m\n",
      "     | > avg_loader_time:\u001b[92m 0.0016077160835266113 \u001b[0m(-0.0005412101745605469)\n",
      "     | > avg_loss:\u001b[91m 0.43279126286506653 \u001b[0m(+0.007495597004890442)\n",
      "     | > avg_log_mle:\u001b[92m -0.12544339895248413 \u001b[0m(-0.0035916268825531006)\n",
      "     | > avg_loss_dur:\u001b[91m 0.5582346618175507 \u001b[0m(+0.011087223887443542)\n",
      "\n"
     ]
    },
    {
     "name": "stdout",
     "output_type": "stream",
     "text": [
      " | > Synthesizing test sentences.\n"
     ]
    },
    {
     "name": "stderr",
     "output_type": "stream",
     "text": [
      "\n",
      "  \u001b[1m--> EVAL PERFORMANCE\u001b[0m\n",
      "     | > avg_loader_time: 0.0016077160835266113 \u001b[0m(+0.0)\n",
      "     | > avg_loss: 0.43279126286506653 \u001b[0m(+0.0)\n",
      "     | > avg_log_mle: -0.12544339895248413 \u001b[0m(+0.0)\n",
      "     | > avg_loss_dur: 0.5582346618175507 \u001b[0m(+0.0)\n",
      "\n",
      "\n",
      "\u001b[4m\u001b[1m > EPOCH: 98/150\u001b[0m\n",
      " --> /content/drive/MyDrive/dataset/cloned/run-July-22-2023_10+56AM-0000000\n",
      "\n",
      "\u001b[1m > TRAINING (2023-07-22 12:39:53) \u001b[0m\n"
     ]
    },
    {
     "name": "stdout",
     "output_type": "stream",
     "text": [
      "We make all our packaging from one hundred% recycled trash, from ocean bound plastic to landfills.\n",
      " [!] Character '%' not found in the vocabulary. Discarding it.\n"
     ]
    },
    {
     "name": "stderr",
     "output_type": "stream",
     "text": [
      "\n",
      "\u001b[1m > EVALUATION \u001b[0m\n",
      "\n",
      "\n",
      "  \u001b[1m--> EVAL PERFORMANCE\u001b[0m\n",
      "     | > avg_loader_time:\u001b[92m 0.001275479793548584 \u001b[0m(-0.00033223628997802734)\n",
      "     | > avg_loss:\u001b[92m 0.4244362711906433 \u001b[0m(-0.008354991674423218)\n",
      "     | > avg_log_mle:\u001b[92m -0.12636584043502808 \u001b[0m(-0.0009224414825439453)\n",
      "     | > avg_loss_dur:\u001b[92m 0.5508021116256714 \u001b[0m(-0.0074325501918792725)\n",
      "\n"
     ]
    },
    {
     "name": "stdout",
     "output_type": "stream",
     "text": [
      " | > Synthesizing test sentences.\n"
     ]
    },
    {
     "name": "stderr",
     "output_type": "stream",
     "text": [
      "\n",
      "  \u001b[1m--> EVAL PERFORMANCE\u001b[0m\n",
      "     | > avg_loader_time: 0.001275479793548584 \u001b[0m(+0.0)\n",
      "     | > avg_loss: 0.4244362711906433 \u001b[0m(+0.0)\n",
      "     | > avg_log_mle: -0.12636584043502808 \u001b[0m(+0.0)\n",
      "     | > avg_loss_dur: 0.5508021116256714 \u001b[0m(+0.0)\n",
      "\n",
      "\n",
      "\u001b[4m\u001b[1m > EPOCH: 99/150\u001b[0m\n",
      " --> /content/drive/MyDrive/dataset/cloned/run-July-22-2023_10+56AM-0000000\n",
      "\n",
      "\u001b[1m > TRAINING (2023-07-22 12:40:49) \u001b[0m\n"
     ]
    },
    {
     "name": "stdout",
     "output_type": "stream",
     "text": [
      "We make all our packaging from one hundred% recycled trash, from ocean bound plastic to landfills.\n",
      " [!] Character '%' not found in the vocabulary. Discarding it.\n"
     ]
    },
    {
     "name": "stderr",
     "output_type": "stream",
     "text": [
      "\n",
      "\u001b[1m   --> TIME: 2023-07-22 12:40:52 -- STEP: 1/101 -- GLOBAL_STEP: 10000\u001b[0m\n",
      "     | > loss: 0.5370571613311768  (0.5370571613311768)\n",
      "     | > log_mle: -0.11007976531982422  (-0.11007976531982422)\n",
      "     | > loss_dur: 0.647136926651001  (0.647136926651001)\n",
      "     | > amp_scaler: 8192.0  (8192.0)\n",
      "     | > grad_norm: tensor(22.4460, device='cuda:0')  (tensor(22.4460, device='cuda:0'))\n",
      "     | > current_lr: 1.2375e-05 \n",
      "     | > step_time: 0.4734  (0.4734346866607666)\n",
      "     | > loader_time: 0.0061  (0.006118297576904297)\n",
      "\n",
      "\n",
      "\u001b[1m > EVALUATION \u001b[0m\n",
      "\n",
      "\n",
      "  \u001b[1m--> EVAL PERFORMANCE\u001b[0m\n",
      "     | > avg_loader_time:\u001b[91m 0.0020595192909240723 \u001b[0m(+0.0007840394973754883)\n",
      "     | > avg_loss:\u001b[91m 0.43478768318891525 \u001b[0m(+0.010351411998271942)\n",
      "     | > avg_log_mle:\u001b[91m -0.11781665682792664 \u001b[0m(+0.00854918360710144)\n",
      "     | > avg_loss_dur:\u001b[91m 0.5526043400168419 \u001b[0m(+0.0018022283911705017)\n",
      "\n"
     ]
    },
    {
     "name": "stdout",
     "output_type": "stream",
     "text": [
      " | > Synthesizing test sentences.\n"
     ]
    },
    {
     "name": "stderr",
     "output_type": "stream",
     "text": [
      "\n",
      "  \u001b[1m--> EVAL PERFORMANCE\u001b[0m\n",
      "     | > avg_loader_time: 0.0020595192909240723 \u001b[0m(+0.0)\n",
      "     | > avg_loss: 0.43478768318891525 \u001b[0m(+0.0)\n",
      "     | > avg_log_mle: -0.11781665682792664 \u001b[0m(+0.0)\n",
      "     | > avg_loss_dur: 0.5526043400168419 \u001b[0m(+0.0)\n",
      "\n",
      "\n",
      "\u001b[4m\u001b[1m > EPOCH: 100/150\u001b[0m\n",
      " --> /content/drive/MyDrive/dataset/cloned/run-July-22-2023_10+56AM-0000000\n",
      "\n",
      "\u001b[1m > TRAINING (2023-07-22 12:41:46) \u001b[0m\n"
     ]
    },
    {
     "name": "stdout",
     "output_type": "stream",
     "text": [
      "We make all our packaging from one hundred% recycled trash, from ocean bound plastic to landfills.\n",
      " [!] Character '%' not found in the vocabulary. Discarding it.\n"
     ]
    },
    {
     "name": "stderr",
     "output_type": "stream",
     "text": [
      "\n",
      "\u001b[1m > EVALUATION \u001b[0m\n",
      "\n",
      "\n",
      "  \u001b[1m--> EVAL PERFORMANCE\u001b[0m\n",
      "     | > avg_loader_time:\u001b[92m 0.0017546415328979492 \u001b[0m(-0.00030487775802612305)\n",
      "     | > avg_loss:\u001b[92m 0.4332209900021553 \u001b[0m(-0.0015666931867599487)\n",
      "     | > avg_log_mle:\u001b[92m -0.1270434856414795 \u001b[0m(-0.009226828813552856)\n",
      "     | > avg_loss_dur:\u001b[91m 0.5602644756436348 \u001b[0m(+0.007660135626792908)\n",
      "\n"
     ]
    },
    {
     "name": "stdout",
     "output_type": "stream",
     "text": [
      " | > Synthesizing test sentences.\n"
     ]
    },
    {
     "name": "stderr",
     "output_type": "stream",
     "text": [
      "\n",
      "  \u001b[1m--> EVAL PERFORMANCE\u001b[0m\n",
      "     | > avg_loader_time: 0.0017546415328979492 \u001b[0m(+0.0)\n",
      "     | > avg_loss: 0.4332209900021553 \u001b[0m(+0.0)\n",
      "     | > avg_log_mle: -0.1270434856414795 \u001b[0m(+0.0)\n",
      "     | > avg_loss_dur: 0.5602644756436348 \u001b[0m(+0.0)\n",
      "\n",
      "\n",
      "\u001b[4m\u001b[1m > EPOCH: 101/150\u001b[0m\n",
      " --> /content/drive/MyDrive/dataset/cloned/run-July-22-2023_10+56AM-0000000\n",
      "\n",
      "\u001b[1m > TRAINING (2023-07-22 12:42:45) \u001b[0m\n"
     ]
    },
    {
     "name": "stdout",
     "output_type": "stream",
     "text": [
      "We make all our packaging from one hundred% recycled trash, from ocean bound plastic to landfills.\n",
      " [!] Character '%' not found in the vocabulary. Discarding it.\n"
     ]
    },
    {
     "name": "stderr",
     "output_type": "stream",
     "text": [
      "\n",
      "\u001b[1m > EVALUATION \u001b[0m\n",
      "\n",
      "\n",
      "  \u001b[1m--> EVAL PERFORMANCE\u001b[0m\n",
      "     | > avg_loader_time:\u001b[92m 0.0017292499542236328 \u001b[0m(-2.5391578674316406e-05)\n",
      "     | > avg_loss:\u001b[92m 0.4245644807815552 \u001b[0m(-0.008656509220600128)\n",
      "     | > avg_log_mle:\u001b[92m -0.13519403338432312 \u001b[0m(-0.008150547742843628)\n",
      "     | > avg_loss_dur:\u001b[92m 0.5597585141658783 \u001b[0m(-0.0005059614777565002)\n",
      "\n"
     ]
    },
    {
     "name": "stdout",
     "output_type": "stream",
     "text": [
      " | > Synthesizing test sentences.\n"
     ]
    },
    {
     "name": "stderr",
     "output_type": "stream",
     "text": [
      "\n",
      "  \u001b[1m--> EVAL PERFORMANCE\u001b[0m\n",
      "     | > avg_loader_time: 0.0017292499542236328 \u001b[0m(+0.0)\n",
      "     | > avg_loss: 0.4245644807815552 \u001b[0m(+0.0)\n",
      "     | > avg_log_mle: -0.13519403338432312 \u001b[0m(+0.0)\n",
      "     | > avg_loss_dur: 0.5597585141658783 \u001b[0m(+0.0)\n",
      "\n",
      "\n",
      "\u001b[4m\u001b[1m > EPOCH: 102/150\u001b[0m\n",
      " --> /content/drive/MyDrive/dataset/cloned/run-July-22-2023_10+56AM-0000000\n",
      "\n",
      "\u001b[1m > TRAINING (2023-07-22 12:43:42) \u001b[0m\n"
     ]
    },
    {
     "name": "stdout",
     "output_type": "stream",
     "text": [
      "We make all our packaging from one hundred% recycled trash, from ocean bound plastic to landfills.\n",
      " [!] Character '%' not found in the vocabulary. Discarding it.\n"
     ]
    },
    {
     "name": "stderr",
     "output_type": "stream",
     "text": [
      "\n",
      "\u001b[1m > EVALUATION \u001b[0m\n",
      "\n",
      "\n",
      "  \u001b[1m--> EVAL PERFORMANCE\u001b[0m\n",
      "     | > avg_loader_time:\u001b[91m 0.0018318891525268555 \u001b[0m(+0.00010263919830322266)\n",
      "     | > avg_loss:\u001b[92m 0.4193993955850601 \u001b[0m(-0.005165085196495056)\n",
      "     | > avg_log_mle:\u001b[91m -0.1329333782196045 \u001b[0m(+0.002260655164718628)\n",
      "     | > avg_loss_dur:\u001b[92m 0.5523327738046646 \u001b[0m(-0.007425740361213684)\n",
      "\n"
     ]
    },
    {
     "name": "stdout",
     "output_type": "stream",
     "text": [
      " | > Synthesizing test sentences.\n"
     ]
    },
    {
     "name": "stderr",
     "output_type": "stream",
     "text": [
      "\n",
      "  \u001b[1m--> EVAL PERFORMANCE\u001b[0m\n",
      "     | > avg_loader_time: 0.0018318891525268555 \u001b[0m(+0.0)\n",
      "     | > avg_loss: 0.4193993955850601 \u001b[0m(+0.0)\n",
      "     | > avg_log_mle: -0.1329333782196045 \u001b[0m(+0.0)\n",
      "     | > avg_loss_dur: 0.5523327738046646 \u001b[0m(+0.0)\n",
      "\n",
      " > BEST MODEL : /content/drive/MyDrive/dataset/cloned/run-July-22-2023_10+56AM-0000000/best_model_10403.pth\n",
      "\n",
      "\u001b[4m\u001b[1m > EPOCH: 103/150\u001b[0m\n",
      " --> /content/drive/MyDrive/dataset/cloned/run-July-22-2023_10+56AM-0000000\n",
      "\n",
      "\u001b[1m > TRAINING (2023-07-22 12:44:45) \u001b[0m\n"
     ]
    },
    {
     "name": "stdout",
     "output_type": "stream",
     "text": [
      "We make all our packaging from one hundred% recycled trash, from ocean bound plastic to landfills.\n",
      " [!] Character '%' not found in the vocabulary. Discarding it.\n"
     ]
    },
    {
     "name": "stderr",
     "output_type": "stream",
     "text": [
      "\n",
      "\u001b[1m > EVALUATION \u001b[0m\n",
      "\n",
      "\n",
      "  \u001b[1m--> EVAL PERFORMANCE\u001b[0m\n",
      "     | > avg_loader_time:\u001b[91m 0.0019261837005615234 \u001b[0m(+9.429454803466797e-05)\n",
      "     | > avg_loss:\u001b[91m 0.42113102972507477 \u001b[0m(+0.0017316341400146484)\n",
      "     | > avg_log_mle:\u001b[91m -0.13214586675167084 \u001b[0m(+0.0007875114679336548)\n",
      "     | > avg_loss_dur:\u001b[91m 0.5532768964767456 \u001b[0m(+0.0009441226720809937)\n",
      "\n"
     ]
    },
    {
     "name": "stdout",
     "output_type": "stream",
     "text": [
      " | > Synthesizing test sentences.\n"
     ]
    },
    {
     "name": "stderr",
     "output_type": "stream",
     "text": [
      "\n",
      "  \u001b[1m--> EVAL PERFORMANCE\u001b[0m\n",
      "     | > avg_loader_time: 0.0019261837005615234 \u001b[0m(+0.0)\n",
      "     | > avg_loss: 0.42113102972507477 \u001b[0m(+0.0)\n",
      "     | > avg_log_mle: -0.13214586675167084 \u001b[0m(+0.0)\n",
      "     | > avg_loss_dur: 0.5532768964767456 \u001b[0m(+0.0)\n",
      "\n",
      "\n",
      "\u001b[4m\u001b[1m > EPOCH: 104/150\u001b[0m\n",
      " --> /content/drive/MyDrive/dataset/cloned/run-July-22-2023_10+56AM-0000000\n",
      "\n",
      "\u001b[1m > TRAINING (2023-07-22 12:45:43) \u001b[0m\n"
     ]
    },
    {
     "name": "stdout",
     "output_type": "stream",
     "text": [
      "We make all our packaging from one hundred% recycled trash, from ocean bound plastic to landfills.\n",
      " [!] Character '%' not found in the vocabulary. Discarding it.\n"
     ]
    },
    {
     "name": "stderr",
     "output_type": "stream",
     "text": [
      "\n",
      "\u001b[1m > EVALUATION \u001b[0m\n",
      "\n",
      "\n",
      "  \u001b[1m--> EVAL PERFORMANCE\u001b[0m\n",
      "     | > avg_loader_time:\u001b[92m 0.0016598701477050781 \u001b[0m(-0.0002663135528564453)\n",
      "     | > avg_loss:\u001b[92m 0.40768228471279144 \u001b[0m(-0.013448745012283325)\n",
      "     | > avg_log_mle:\u001b[92m -0.1455199420452118 \u001b[0m(-0.013374075293540955)\n",
      "     | > avg_loss_dur:\u001b[92m 0.5532022267580032 \u001b[0m(-7.46697187423706e-05)\n",
      "\n"
     ]
    },
    {
     "name": "stdout",
     "output_type": "stream",
     "text": [
      " | > Synthesizing test sentences.\n"
     ]
    },
    {
     "name": "stderr",
     "output_type": "stream",
     "text": [
      "\n",
      "  \u001b[1m--> EVAL PERFORMANCE\u001b[0m\n",
      "     | > avg_loader_time: 0.0016598701477050781 \u001b[0m(+0.0)\n",
      "     | > avg_loss: 0.40768228471279144 \u001b[0m(+0.0)\n",
      "     | > avg_log_mle: -0.1455199420452118 \u001b[0m(+0.0)\n",
      "     | > avg_loss_dur: 0.5532022267580032 \u001b[0m(+0.0)\n",
      "\n",
      " > BEST MODEL : /content/drive/MyDrive/dataset/cloned/run-July-22-2023_10+56AM-0000000/best_model_10605.pth\n",
      "\n",
      "\u001b[4m\u001b[1m > EPOCH: 105/150\u001b[0m\n",
      " --> /content/drive/MyDrive/dataset/cloned/run-July-22-2023_10+56AM-0000000\n",
      "\n",
      "\u001b[1m > TRAINING (2023-07-22 12:46:55) \u001b[0m\n"
     ]
    },
    {
     "name": "stdout",
     "output_type": "stream",
     "text": [
      "We make all our packaging from one hundred% recycled trash, from ocean bound plastic to landfills.\n",
      " [!] Character '%' not found in the vocabulary. Discarding it.\n"
     ]
    },
    {
     "name": "stderr",
     "output_type": "stream",
     "text": [
      "\n",
      "\u001b[1m > EVALUATION \u001b[0m\n",
      "\n",
      "\n",
      "  \u001b[1m--> EVAL PERFORMANCE\u001b[0m\n",
      "     | > avg_loader_time:\u001b[92m 0.0014528632164001465 \u001b[0m(-0.00020700693130493164)\n",
      "     | > avg_loss:\u001b[92m 0.40446509420871735 \u001b[0m(-0.0032171905040740967)\n",
      "     | > avg_log_mle:\u001b[92m -0.14935411512851715 \u001b[0m(-0.003834173083305359)\n",
      "     | > avg_loss_dur:\u001b[91m 0.5538192093372345 \u001b[0m(+0.0006169825792312622)\n",
      "\n"
     ]
    },
    {
     "name": "stdout",
     "output_type": "stream",
     "text": [
      " | > Synthesizing test sentences.\n"
     ]
    },
    {
     "name": "stderr",
     "output_type": "stream",
     "text": [
      "\n",
      "  \u001b[1m--> EVAL PERFORMANCE\u001b[0m\n",
      "     | > avg_loader_time: 0.0014528632164001465 \u001b[0m(+0.0)\n",
      "     | > avg_loss: 0.40446509420871735 \u001b[0m(+0.0)\n",
      "     | > avg_log_mle: -0.14935411512851715 \u001b[0m(+0.0)\n",
      "     | > avg_loss_dur: 0.5538192093372345 \u001b[0m(+0.0)\n",
      "\n",
      " > BEST MODEL : /content/drive/MyDrive/dataset/cloned/run-July-22-2023_10+56AM-0000000/best_model_10706.pth\n",
      "\n",
      "\u001b[4m\u001b[1m > EPOCH: 106/150\u001b[0m\n",
      " --> /content/drive/MyDrive/dataset/cloned/run-July-22-2023_10+56AM-0000000\n",
      "\n",
      "\u001b[1m > TRAINING (2023-07-22 12:47:57) \u001b[0m\n"
     ]
    },
    {
     "name": "stdout",
     "output_type": "stream",
     "text": [
      "We make all our packaging from one hundred% recycled trash, from ocean bound plastic to landfills.\n",
      " [!] Character '%' not found in the vocabulary. Discarding it.\n"
     ]
    },
    {
     "name": "stderr",
     "output_type": "stream",
     "text": [
      "\n",
      "\u001b[1m > EVALUATION \u001b[0m\n",
      "\n",
      "\n",
      "  \u001b[1m--> EVAL PERFORMANCE\u001b[0m\n",
      "     | > avg_loader_time:\u001b[91m 0.0017009377479553223 \u001b[0m(+0.0002480745315551758)\n",
      "     | > avg_loss:\u001b[92m 0.40234002470970154 \u001b[0m(-0.002125069499015808)\n",
      "     | > avg_log_mle:\u001b[92m -0.15310348570346832 \u001b[0m(-0.003749370574951172)\n",
      "     | > avg_loss_dur:\u001b[91m 0.5554435104131699 \u001b[0m(+0.0016243010759353638)\n",
      "\n"
     ]
    },
    {
     "name": "stdout",
     "output_type": "stream",
     "text": [
      " | > Synthesizing test sentences.\n"
     ]
    },
    {
     "name": "stderr",
     "output_type": "stream",
     "text": [
      "\n",
      "  \u001b[1m--> EVAL PERFORMANCE\u001b[0m\n",
      "     | > avg_loader_time: 0.0017009377479553223 \u001b[0m(+0.0)\n",
      "     | > avg_loss: 0.40234002470970154 \u001b[0m(+0.0)\n",
      "     | > avg_log_mle: -0.15310348570346832 \u001b[0m(+0.0)\n",
      "     | > avg_loss_dur: 0.5554435104131699 \u001b[0m(+0.0)\n",
      "\n",
      " > BEST MODEL : /content/drive/MyDrive/dataset/cloned/run-July-22-2023_10+56AM-0000000/best_model_10807.pth\n",
      "\n",
      "\u001b[4m\u001b[1m > EPOCH: 107/150\u001b[0m\n",
      " --> /content/drive/MyDrive/dataset/cloned/run-July-22-2023_10+56AM-0000000\n",
      "\n",
      "\u001b[1m > TRAINING (2023-07-22 12:49:07) \u001b[0m\n"
     ]
    },
    {
     "name": "stdout",
     "output_type": "stream",
     "text": [
      "We make all our packaging from one hundred% recycled trash, from ocean bound plastic to landfills.\n",
      " [!] Character '%' not found in the vocabulary. Discarding it.\n"
     ]
    },
    {
     "name": "stderr",
     "output_type": "stream",
     "text": [
      "\n",
      "\u001b[1m > EVALUATION \u001b[0m\n",
      "\n",
      "\n",
      "  \u001b[1m--> EVAL PERFORMANCE\u001b[0m\n",
      "     | > avg_loader_time:\u001b[92m 0.0013900399208068848 \u001b[0m(-0.0003108978271484375)\n",
      "     | > avg_loss:\u001b[91m 0.4038484990596771 \u001b[0m(+0.001508474349975586)\n",
      "     | > avg_log_mle:\u001b[92m -0.15635378658771515 \u001b[0m(-0.003250300884246826)\n",
      "     | > avg_loss_dur:\u001b[91m 0.5602022856473923 \u001b[0m(+0.004758775234222412)\n",
      "\n"
     ]
    },
    {
     "name": "stdout",
     "output_type": "stream",
     "text": [
      " | > Synthesizing test sentences.\n"
     ]
    },
    {
     "name": "stderr",
     "output_type": "stream",
     "text": [
      "\n",
      "  \u001b[1m--> EVAL PERFORMANCE\u001b[0m\n",
      "     | > avg_loader_time: 0.0013900399208068848 \u001b[0m(+0.0)\n",
      "     | > avg_loss: 0.4038484990596771 \u001b[0m(+0.0)\n",
      "     | > avg_log_mle: -0.15635378658771515 \u001b[0m(+0.0)\n",
      "     | > avg_loss_dur: 0.5602022856473923 \u001b[0m(+0.0)\n",
      "\n",
      "\n",
      "\u001b[4m\u001b[1m > EPOCH: 108/150\u001b[0m\n",
      " --> /content/drive/MyDrive/dataset/cloned/run-July-22-2023_10+56AM-0000000\n",
      "\n",
      "\u001b[1m > TRAINING (2023-07-22 12:50:02) \u001b[0m\n"
     ]
    },
    {
     "name": "stdout",
     "output_type": "stream",
     "text": [
      "We make all our packaging from one hundred% recycled trash, from ocean bound plastic to landfills.\n",
      " [!] Character '%' not found in the vocabulary. Discarding it.\n"
     ]
    },
    {
     "name": "stderr",
     "output_type": "stream",
     "text": [
      "\n",
      "\u001b[1m   --> TIME: 2023-07-22 12:50:41 -- STEP: 92/101 -- GLOBAL_STEP: 11000\u001b[0m\n",
      "     | > loss: 0.4512498378753662  (0.3836407026518947)\n",
      "     | > log_mle: -0.16666102409362793  (-0.19458813965320587)\n",
      "     | > loss_dur: 0.6179108619689941  (0.5782288423051003)\n",
      "     | > amp_scaler: 8192.0  (8192.0)\n",
      "     | > grad_norm: tensor(20.9232, device='cuda:0')  (tensor(27.6849, device='cuda:0'))\n",
      "     | > current_lr: 1.35e-05 \n",
      "     | > step_time: 0.3003  (0.406805333883866)\n",
      "     | > loader_time: 0.003  (0.004767005858214003)\n",
      "\n",
      "\n",
      "\u001b[1m > EVALUATION \u001b[0m\n",
      "\n",
      "\n",
      "  \u001b[1m--> EVAL PERFORMANCE\u001b[0m\n",
      "     | > avg_loader_time:\u001b[91m 0.0015488266944885254 \u001b[0m(+0.00015878677368164062)\n",
      "     | > avg_loss:\u001b[92m 0.3982187658548355 \u001b[0m(-0.005629733204841614)\n",
      "     | > avg_log_mle:\u001b[92m -0.16365142166614532 \u001b[0m(-0.007297635078430176)\n",
      "     | > avg_loss_dur:\u001b[91m 0.5618701875209808 \u001b[0m(+0.001667901873588562)\n",
      "\n"
     ]
    },
    {
     "name": "stdout",
     "output_type": "stream",
     "text": [
      " | > Synthesizing test sentences.\n"
     ]
    },
    {
     "name": "stderr",
     "output_type": "stream",
     "text": [
      "\n",
      "  \u001b[1m--> EVAL PERFORMANCE\u001b[0m\n",
      "     | > avg_loader_time: 0.0015488266944885254 \u001b[0m(+0.0)\n",
      "     | > avg_loss: 0.3982187658548355 \u001b[0m(+0.0)\n",
      "     | > avg_log_mle: -0.16365142166614532 \u001b[0m(+0.0)\n",
      "     | > avg_loss_dur: 0.5618701875209808 \u001b[0m(+0.0)\n",
      "\n",
      " > BEST MODEL : /content/drive/MyDrive/dataset/cloned/run-July-22-2023_10+56AM-0000000/best_model_11009.pth\n",
      "\n",
      "\u001b[4m\u001b[1m > EPOCH: 109/150\u001b[0m\n",
      " --> /content/drive/MyDrive/dataset/cloned/run-July-22-2023_10+56AM-0000000\n",
      "\n",
      "\u001b[1m > TRAINING (2023-07-22 12:51:11) \u001b[0m\n"
     ]
    },
    {
     "name": "stdout",
     "output_type": "stream",
     "text": [
      "We make all our packaging from one hundred% recycled trash, from ocean bound plastic to landfills.\n",
      " [!] Character '%' not found in the vocabulary. Discarding it.\n"
     ]
    },
    {
     "name": "stderr",
     "output_type": "stream",
     "text": [
      "\n",
      "\u001b[1m > EVALUATION \u001b[0m\n",
      "\n",
      "\n",
      "  \u001b[1m--> EVAL PERFORMANCE\u001b[0m\n",
      "     | > avg_loader_time:\u001b[91m 0.002025425434112549 \u001b[0m(+0.00047659873962402344)\n",
      "     | > avg_loss:\u001b[91m 0.41174232959747314 \u001b[0m(+0.013523563742637634)\n",
      "     | > avg_log_mle:\u001b[91m -0.1590433418750763 \u001b[0m(+0.004608079791069031)\n",
      "     | > avg_loss_dur:\u001b[91m 0.5707856714725494 \u001b[0m(+0.008915483951568604)\n",
      "\n"
     ]
    },
    {
     "name": "stdout",
     "output_type": "stream",
     "text": [
      " | > Synthesizing test sentences.\n"
     ]
    },
    {
     "name": "stderr",
     "output_type": "stream",
     "text": [
      "\n",
      "  \u001b[1m--> EVAL PERFORMANCE\u001b[0m\n",
      "     | > avg_loader_time: 0.002025425434112549 \u001b[0m(+0.0)\n",
      "     | > avg_loss: 0.41174232959747314 \u001b[0m(+0.0)\n",
      "     | > avg_log_mle: -0.1590433418750763 \u001b[0m(+0.0)\n",
      "     | > avg_loss_dur: 0.5707856714725494 \u001b[0m(+0.0)\n",
      "\n",
      "\n",
      "\u001b[4m\u001b[1m > EPOCH: 110/150\u001b[0m\n",
      " --> /content/drive/MyDrive/dataset/cloned/run-July-22-2023_10+56AM-0000000\n",
      "\n",
      "\u001b[1m > TRAINING (2023-07-22 12:52:12) \u001b[0m\n"
     ]
    },
    {
     "name": "stdout",
     "output_type": "stream",
     "text": [
      "We make all our packaging from one hundred% recycled trash, from ocean bound plastic to landfills.\n",
      " [!] Character '%' not found in the vocabulary. Discarding it.\n"
     ]
    },
    {
     "name": "stderr",
     "output_type": "stream",
     "text": [
      "\n",
      "\u001b[1m > EVALUATION \u001b[0m\n",
      "\n",
      "\n",
      "  \u001b[1m--> EVAL PERFORMANCE\u001b[0m\n",
      "     | > avg_loader_time:\u001b[92m 0.001372992992401123 \u001b[0m(-0.0006524324417114258)\n",
      "     | > avg_loss:\u001b[92m 0.40826407074928284 \u001b[0m(-0.0034782588481903076)\n",
      "     | > avg_log_mle:\u001b[92m -0.16099359095096588 \u001b[0m(-0.0019502490758895874)\n",
      "     | > avg_loss_dur:\u001b[92m 0.5692576617002487 \u001b[0m(-0.0015280097723007202)\n",
      "\n"
     ]
    },
    {
     "name": "stdout",
     "output_type": "stream",
     "text": [
      " | > Synthesizing test sentences.\n"
     ]
    },
    {
     "name": "stderr",
     "output_type": "stream",
     "text": [
      "\n",
      "  \u001b[1m--> EVAL PERFORMANCE\u001b[0m\n",
      "     | > avg_loader_time: 0.001372992992401123 \u001b[0m(+0.0)\n",
      "     | > avg_loss: 0.40826407074928284 \u001b[0m(+0.0)\n",
      "     | > avg_log_mle: -0.16099359095096588 \u001b[0m(+0.0)\n",
      "     | > avg_loss_dur: 0.5692576617002487 \u001b[0m(+0.0)\n",
      "\n",
      "\n",
      "\u001b[4m\u001b[1m > EPOCH: 111/150\u001b[0m\n",
      " --> /content/drive/MyDrive/dataset/cloned/run-July-22-2023_10+56AM-0000000\n",
      "\n",
      "\u001b[1m > TRAINING (2023-07-22 12:53:12) \u001b[0m\n"
     ]
    },
    {
     "name": "stdout",
     "output_type": "stream",
     "text": [
      "We make all our packaging from one hundred% recycled trash, from ocean bound plastic to landfills.\n",
      " [!] Character '%' not found in the vocabulary. Discarding it.\n"
     ]
    },
    {
     "name": "stderr",
     "output_type": "stream",
     "text": [
      "\n",
      "\u001b[1m > EVALUATION \u001b[0m\n",
      "\n",
      "\n",
      "  \u001b[1m--> EVAL PERFORMANCE\u001b[0m\n",
      "     | > avg_loader_time:\u001b[91m 0.0017063617706298828 \u001b[0m(+0.00033336877822875977)\n",
      "     | > avg_loss:\u001b[92m 0.4058818370103836 \u001b[0m(-0.002382233738899231)\n",
      "     | > avg_log_mle:\u001b[91m -0.15798190236091614 \u001b[0m(+0.0030116885900497437)\n",
      "     | > avg_loss_dur:\u001b[92m 0.5638637393712997 \u001b[0m(-0.005393922328948975)\n",
      "\n"
     ]
    },
    {
     "name": "stdout",
     "output_type": "stream",
     "text": [
      " | > Synthesizing test sentences.\n"
     ]
    },
    {
     "name": "stderr",
     "output_type": "stream",
     "text": [
      "\n",
      "  \u001b[1m--> EVAL PERFORMANCE\u001b[0m\n",
      "     | > avg_loader_time: 0.0017063617706298828 \u001b[0m(+0.0)\n",
      "     | > avg_loss: 0.4058818370103836 \u001b[0m(+0.0)\n",
      "     | > avg_log_mle: -0.15798190236091614 \u001b[0m(+0.0)\n",
      "     | > avg_loss_dur: 0.5638637393712997 \u001b[0m(+0.0)\n",
      "\n",
      "\n",
      "\u001b[4m\u001b[1m > EPOCH: 112/150\u001b[0m\n",
      " --> /content/drive/MyDrive/dataset/cloned/run-July-22-2023_10+56AM-0000000\n",
      "\n",
      "\u001b[1m > TRAINING (2023-07-22 12:54:17) \u001b[0m\n"
     ]
    },
    {
     "name": "stdout",
     "output_type": "stream",
     "text": [
      "We make all our packaging from one hundred% recycled trash, from ocean bound plastic to landfills.\n",
      " [!] Character '%' not found in the vocabulary. Discarding it.\n"
     ]
    },
    {
     "name": "stderr",
     "output_type": "stream",
     "text": [
      "\n",
      "\u001b[1m > EVALUATION \u001b[0m\n",
      "\n",
      "\n",
      "  \u001b[1m--> EVAL PERFORMANCE\u001b[0m\n",
      "     | > avg_loader_time:\u001b[92m 0.0016773343086242676 \u001b[0m(-2.9027462005615234e-05)\n",
      "     | > avg_loss:\u001b[92m 0.39507874101400375 \u001b[0m(-0.010803095996379852)\n",
      "     | > avg_log_mle:\u001b[92m -0.16241098940372467 \u001b[0m(-0.004429087042808533)\n",
      "     | > avg_loss_dur:\u001b[92m 0.5574897304177284 \u001b[0m(-0.00637400895357132)\n",
      "\n"
     ]
    },
    {
     "name": "stdout",
     "output_type": "stream",
     "text": [
      " | > Synthesizing test sentences.\n"
     ]
    },
    {
     "name": "stderr",
     "output_type": "stream",
     "text": [
      "\n",
      "  \u001b[1m--> EVAL PERFORMANCE\u001b[0m\n",
      "     | > avg_loader_time: 0.0016773343086242676 \u001b[0m(+0.0)\n",
      "     | > avg_loss: 0.39507874101400375 \u001b[0m(+0.0)\n",
      "     | > avg_log_mle: -0.16241098940372467 \u001b[0m(+0.0)\n",
      "     | > avg_loss_dur: 0.5574897304177284 \u001b[0m(+0.0)\n",
      "\n",
      " > BEST MODEL : /content/drive/MyDrive/dataset/cloned/run-July-22-2023_10+56AM-0000000/best_model_11413.pth\n",
      "\n",
      "\u001b[4m\u001b[1m > EPOCH: 113/150\u001b[0m\n",
      " --> /content/drive/MyDrive/dataset/cloned/run-July-22-2023_10+56AM-0000000\n",
      "\n",
      "\u001b[1m > TRAINING (2023-07-22 12:55:15) \u001b[0m\n"
     ]
    },
    {
     "name": "stdout",
     "output_type": "stream",
     "text": [
      "We make all our packaging from one hundred% recycled trash, from ocean bound plastic to landfills.\n",
      " [!] Character '%' not found in the vocabulary. Discarding it.\n"
     ]
    },
    {
     "name": "stderr",
     "output_type": "stream",
     "text": [
      "\n",
      "\u001b[1m > EVALUATION \u001b[0m\n",
      "\n",
      "\n",
      "  \u001b[1m--> EVAL PERFORMANCE\u001b[0m\n",
      "     | > avg_loader_time:\u001b[92m 0.0015366077423095703 \u001b[0m(-0.00014072656631469727)\n",
      "     | > avg_loss:\u001b[92m 0.392853319644928 \u001b[0m(-0.002225421369075775)\n",
      "     | > avg_log_mle:\u001b[92m -0.1770995408296585 \u001b[0m(-0.014688551425933838)\n",
      "     | > avg_loss_dur:\u001b[91m 0.5699528604745865 \u001b[0m(+0.012463130056858063)\n",
      "\n"
     ]
    },
    {
     "name": "stdout",
     "output_type": "stream",
     "text": [
      " | > Synthesizing test sentences.\n"
     ]
    },
    {
     "name": "stderr",
     "output_type": "stream",
     "text": [
      "\n",
      "  \u001b[1m--> EVAL PERFORMANCE\u001b[0m\n",
      "     | > avg_loader_time: 0.0015366077423095703 \u001b[0m(+0.0)\n",
      "     | > avg_loss: 0.392853319644928 \u001b[0m(+0.0)\n",
      "     | > avg_log_mle: -0.1770995408296585 \u001b[0m(+0.0)\n",
      "     | > avg_loss_dur: 0.5699528604745865 \u001b[0m(+0.0)\n",
      "\n",
      " > BEST MODEL : /content/drive/MyDrive/dataset/cloned/run-July-22-2023_10+56AM-0000000/best_model_11514.pth\n",
      "\n",
      "\u001b[4m\u001b[1m > EPOCH: 114/150\u001b[0m\n",
      " --> /content/drive/MyDrive/dataset/cloned/run-July-22-2023_10+56AM-0000000\n",
      "\n",
      "\u001b[1m > TRAINING (2023-07-22 12:56:38) \u001b[0m\n"
     ]
    },
    {
     "name": "stdout",
     "output_type": "stream",
     "text": [
      "We make all our packaging from one hundred% recycled trash, from ocean bound plastic to landfills.\n",
      " [!] Character '%' not found in the vocabulary. Discarding it.\n"
     ]
    },
    {
     "name": "stderr",
     "output_type": "stream",
     "text": [
      "\n",
      "\u001b[1m > EVALUATION \u001b[0m\n",
      "\n",
      "\n",
      "  \u001b[1m--> EVAL PERFORMANCE\u001b[0m\n",
      "     | > avg_loader_time:\u001b[91m 0.0026484131813049316 \u001b[0m(+0.0011118054389953613)\n",
      "     | > avg_loss:\u001b[92m 0.3824700862169266 \u001b[0m(-0.010383233428001404)\n",
      "     | > avg_log_mle:\u001b[92m -0.1788792610168457 \u001b[0m(-0.0017797201871871948)\n",
      "     | > avg_loss_dur:\u001b[92m 0.5613493472337723 \u001b[0m(-0.008603513240814209)\n",
      "\n"
     ]
    },
    {
     "name": "stdout",
     "output_type": "stream",
     "text": [
      " | > Synthesizing test sentences.\n"
     ]
    },
    {
     "name": "stderr",
     "output_type": "stream",
     "text": [
      "\n",
      "  \u001b[1m--> EVAL PERFORMANCE\u001b[0m\n",
      "     | > avg_loader_time: 0.0026484131813049316 \u001b[0m(+0.0)\n",
      "     | > avg_loss: 0.3824700862169266 \u001b[0m(+0.0)\n",
      "     | > avg_log_mle: -0.1788792610168457 \u001b[0m(+0.0)\n",
      "     | > avg_loss_dur: 0.5613493472337723 \u001b[0m(+0.0)\n",
      "\n",
      " > BEST MODEL : /content/drive/MyDrive/dataset/cloned/run-July-22-2023_10+56AM-0000000/best_model_11615.pth\n",
      "\n",
      "\u001b[4m\u001b[1m > EPOCH: 115/150\u001b[0m\n",
      " --> /content/drive/MyDrive/dataset/cloned/run-July-22-2023_10+56AM-0000000\n",
      "\n",
      "\u001b[1m > TRAINING (2023-07-22 12:57:56) \u001b[0m\n"
     ]
    },
    {
     "name": "stdout",
     "output_type": "stream",
     "text": [
      "We make all our packaging from one hundred% recycled trash, from ocean bound plastic to landfills.\n",
      " [!] Character '%' not found in the vocabulary. Discarding it.\n"
     ]
    },
    {
     "name": "stderr",
     "output_type": "stream",
     "text": [
      "\n",
      "\u001b[1m > EVALUATION \u001b[0m\n",
      "\n",
      "\n",
      "  \u001b[1m--> EVAL PERFORMANCE\u001b[0m\n",
      "     | > avg_loader_time:\u001b[92m 0.0021684765815734863 \u001b[0m(-0.0004799365997314453)\n",
      "     | > avg_loss:\u001b[91m 0.4067830741405487 \u001b[0m(+0.02431298792362213)\n",
      "     | > avg_log_mle:\u001b[91m -0.1705910563468933 \u001b[0m(+0.008288204669952393)\n",
      "     | > avg_loss_dur:\u001b[91m 0.577374130487442 \u001b[0m(+0.01602478325366974)\n",
      "\n"
     ]
    },
    {
     "name": "stdout",
     "output_type": "stream",
     "text": [
      " | > Synthesizing test sentences.\n"
     ]
    },
    {
     "name": "stderr",
     "output_type": "stream",
     "text": [
      "\n",
      "  \u001b[1m--> EVAL PERFORMANCE\u001b[0m\n",
      "     | > avg_loader_time: 0.0021684765815734863 \u001b[0m(+0.0)\n",
      "     | > avg_loss: 0.4067830741405487 \u001b[0m(+0.0)\n",
      "     | > avg_log_mle: -0.1705910563468933 \u001b[0m(+0.0)\n",
      "     | > avg_loss_dur: 0.577374130487442 \u001b[0m(+0.0)\n",
      "\n",
      "\n",
      "\u001b[4m\u001b[1m > EPOCH: 116/150\u001b[0m\n",
      " --> /content/drive/MyDrive/dataset/cloned/run-July-22-2023_10+56AM-0000000\n",
      "\n",
      "\u001b[1m > TRAINING (2023-07-22 12:59:07) \u001b[0m\n"
     ]
    },
    {
     "name": "stdout",
     "output_type": "stream",
     "text": [
      "We make all our packaging from one hundred% recycled trash, from ocean bound plastic to landfills.\n",
      " [!] Character '%' not found in the vocabulary. Discarding it.\n"
     ]
    },
    {
     "name": "stderr",
     "output_type": "stream",
     "text": [
      "\n",
      "\u001b[1m > EVALUATION \u001b[0m\n",
      "\n",
      "\n",
      "  \u001b[1m--> EVAL PERFORMANCE\u001b[0m\n",
      "     | > avg_loader_time:\u001b[91m 0.0034705400466918945 \u001b[0m(+0.0013020634651184082)\n",
      "     | > avg_loss:\u001b[92m 0.38432033360004425 \u001b[0m(-0.022462740540504456)\n",
      "     | > avg_log_mle:\u001b[92m -0.17861634492874146 \u001b[0m(-0.008025288581848145)\n",
      "     | > avg_loss_dur:\u001b[92m 0.5629366785287857 \u001b[0m(-0.014437451958656311)\n",
      "\n"
     ]
    },
    {
     "name": "stdout",
     "output_type": "stream",
     "text": [
      " | > Synthesizing test sentences.\n"
     ]
    },
    {
     "name": "stderr",
     "output_type": "stream",
     "text": [
      "\n",
      "  \u001b[1m--> EVAL PERFORMANCE\u001b[0m\n",
      "     | > avg_loader_time: 0.0034705400466918945 \u001b[0m(+0.0)\n",
      "     | > avg_loss: 0.38432033360004425 \u001b[0m(+0.0)\n",
      "     | > avg_log_mle: -0.17861634492874146 \u001b[0m(+0.0)\n",
      "     | > avg_loss_dur: 0.5629366785287857 \u001b[0m(+0.0)\n",
      "\n",
      "\n",
      "\u001b[4m\u001b[1m > EPOCH: 117/150\u001b[0m\n",
      " --> /content/drive/MyDrive/dataset/cloned/run-July-22-2023_10+56AM-0000000\n",
      "\n",
      "\u001b[1m > TRAINING (2023-07-22 13:00:14) \u001b[0m\n"
     ]
    },
    {
     "name": "stdout",
     "output_type": "stream",
     "text": [
      "We make all our packaging from one hundred% recycled trash, from ocean bound plastic to landfills.\n",
      " [!] Character '%' not found in the vocabulary. Discarding it.\n"
     ]
    },
    {
     "name": "stderr",
     "output_type": "stream",
     "text": [
      "\n",
      "\u001b[1m > EVALUATION \u001b[0m\n",
      "\n",
      "\n",
      "  \u001b[1m--> EVAL PERFORMANCE\u001b[0m\n",
      "     | > avg_loader_time:\u001b[92m 0.0022295117378234863 \u001b[0m(-0.0012410283088684082)\n",
      "     | > avg_loss:\u001b[92m 0.3721228763461113 \u001b[0m(-0.012197457253932953)\n",
      "     | > avg_log_mle:\u001b[92m -0.189365416765213 \u001b[0m(-0.010749071836471558)\n",
      "     | > avg_loss_dur:\u001b[92m 0.5614882931113243 \u001b[0m(-0.0014483854174613953)\n",
      "\n"
     ]
    },
    {
     "name": "stdout",
     "output_type": "stream",
     "text": [
      " | > Synthesizing test sentences.\n"
     ]
    },
    {
     "name": "stderr",
     "output_type": "stream",
     "text": [
      "\n",
      "  \u001b[1m--> EVAL PERFORMANCE\u001b[0m\n",
      "     | > avg_loader_time: 0.0022295117378234863 \u001b[0m(+0.0)\n",
      "     | > avg_loss: 0.3721228763461113 \u001b[0m(+0.0)\n",
      "     | > avg_log_mle: -0.189365416765213 \u001b[0m(+0.0)\n",
      "     | > avg_loss_dur: 0.5614882931113243 \u001b[0m(+0.0)\n",
      "\n",
      " > BEST MODEL : /content/drive/MyDrive/dataset/cloned/run-July-22-2023_10+56AM-0000000/best_model_11918.pth\n",
      "\n",
      "\u001b[4m\u001b[1m > EPOCH: 118/150\u001b[0m\n",
      " --> /content/drive/MyDrive/dataset/cloned/run-July-22-2023_10+56AM-0000000\n",
      "\n",
      "\u001b[1m > TRAINING (2023-07-22 13:01:31) \u001b[0m\n"
     ]
    },
    {
     "name": "stdout",
     "output_type": "stream",
     "text": [
      "We make all our packaging from one hundred% recycled trash, from ocean bound plastic to landfills.\n",
      " [!] Character '%' not found in the vocabulary. Discarding it.\n"
     ]
    },
    {
     "name": "stderr",
     "output_type": "stream",
     "text": [
      "\n",
      "\u001b[1m   --> TIME: 2023-07-22 13:02:12 -- STEP: 82/101 -- GLOBAL_STEP: 12000\u001b[0m\n",
      "     | > loss: 0.3384277820587158  (0.34875105030652953)\n",
      "     | > log_mle: -0.25187742710113525  (-0.22916869419377026)\n",
      "     | > loss_dur: 0.5903052091598511  (0.5779197445002998)\n",
      "     | > amp_scaler: 4096.0  (4096.0)\n",
      "     | > grad_norm: tensor(23.8682, device='cuda:0')  (tensor(29.5811, device='cuda:0'))\n",
      "     | > current_lr: 1.475e-05 \n",
      "     | > step_time: 0.5257  (0.442875202109174)\n",
      "     | > loader_time: 0.0045  (0.005431849782059833)\n",
      "\n",
      "\n",
      "\u001b[1m > EVALUATION \u001b[0m\n",
      "\n",
      "\n",
      "  \u001b[1m--> EVAL PERFORMANCE\u001b[0m\n",
      "     | > avg_loader_time:\u001b[92m 0.0011820793151855469 \u001b[0m(-0.0010474324226379395)\n",
      "     | > avg_loss:\u001b[91m 0.38324806094169617 \u001b[0m(+0.01112518459558487)\n",
      "     | > avg_log_mle:\u001b[92m -0.18971526622772217 \u001b[0m(-0.0003498494625091553)\n",
      "     | > avg_loss_dur:\u001b[91m 0.5729633271694183 \u001b[0m(+0.011475034058094025)\n",
      "\n"
     ]
    },
    {
     "name": "stdout",
     "output_type": "stream",
     "text": [
      " | > Synthesizing test sentences.\n"
     ]
    },
    {
     "name": "stderr",
     "output_type": "stream",
     "text": [
      "\n",
      "  \u001b[1m--> EVAL PERFORMANCE\u001b[0m\n",
      "     | > avg_loader_time: 0.0011820793151855469 \u001b[0m(+0.0)\n",
      "     | > avg_loss: 0.38324806094169617 \u001b[0m(+0.0)\n",
      "     | > avg_log_mle: -0.18971526622772217 \u001b[0m(+0.0)\n",
      "     | > avg_loss_dur: 0.5729633271694183 \u001b[0m(+0.0)\n",
      "\n",
      "\n",
      "\u001b[4m\u001b[1m > EPOCH: 119/150\u001b[0m\n",
      " --> /content/drive/MyDrive/dataset/cloned/run-July-22-2023_10+56AM-0000000\n",
      "\n",
      "\u001b[1m > TRAINING (2023-07-22 13:02:34) \u001b[0m\n"
     ]
    },
    {
     "name": "stdout",
     "output_type": "stream",
     "text": [
      "We make all our packaging from one hundred% recycled trash, from ocean bound plastic to landfills.\n",
      " [!] Character '%' not found in the vocabulary. Discarding it.\n"
     ]
    },
    {
     "name": "stderr",
     "output_type": "stream",
     "text": [
      "\n",
      "\u001b[1m > EVALUATION \u001b[0m\n",
      "\n",
      "\n",
      "  \u001b[1m--> EVAL PERFORMANCE\u001b[0m\n",
      "     | > avg_loader_time:\u001b[91m 0.0018854141235351562 \u001b[0m(+0.0007033348083496094)\n",
      "     | > avg_loss:\u001b[91m 0.39644743502140045 \u001b[0m(+0.013199374079704285)\n",
      "     | > avg_log_mle:\u001b[91m -0.1690748780965805 \u001b[0m(+0.020640388131141663)\n",
      "     | > avg_loss_dur:\u001b[92m 0.565522313117981 \u001b[0m(-0.007441014051437378)\n",
      "\n"
     ]
    },
    {
     "name": "stdout",
     "output_type": "stream",
     "text": [
      " | > Synthesizing test sentences.\n"
     ]
    },
    {
     "name": "stderr",
     "output_type": "stream",
     "text": [
      "\n",
      "  \u001b[1m--> EVAL PERFORMANCE\u001b[0m\n",
      "     | > avg_loader_time: 0.0018854141235351562 \u001b[0m(+0.0)\n",
      "     | > avg_loss: 0.39644743502140045 \u001b[0m(+0.0)\n",
      "     | > avg_log_mle: -0.1690748780965805 \u001b[0m(+0.0)\n",
      "     | > avg_loss_dur: 0.565522313117981 \u001b[0m(+0.0)\n",
      "\n",
      "\n",
      "\u001b[4m\u001b[1m > EPOCH: 120/150\u001b[0m\n",
      " --> /content/drive/MyDrive/dataset/cloned/run-July-22-2023_10+56AM-0000000\n",
      "\n",
      "\u001b[1m > TRAINING (2023-07-22 13:03:31) \u001b[0m\n"
     ]
    },
    {
     "name": "stdout",
     "output_type": "stream",
     "text": [
      "We make all our packaging from one hundred% recycled trash, from ocean bound plastic to landfills.\n",
      " [!] Character '%' not found in the vocabulary. Discarding it.\n"
     ]
    },
    {
     "name": "stderr",
     "output_type": "stream",
     "text": [
      "\n",
      "\u001b[1m > EVALUATION \u001b[0m\n",
      "\n",
      "\n",
      "  \u001b[1m--> EVAL PERFORMANCE\u001b[0m\n",
      "     | > avg_loader_time:\u001b[92m 0.0016154646873474121 \u001b[0m(-0.00026994943618774414)\n",
      "     | > avg_loss:\u001b[92m 0.3632543832063675 \u001b[0m(-0.03319305181503296)\n",
      "     | > avg_log_mle:\u001b[92m -0.19710981845855713 \u001b[0m(-0.028034940361976624)\n",
      "     | > avg_loss_dur:\u001b[92m 0.5603642016649246 \u001b[0m(-0.0051581114530563354)\n",
      "\n"
     ]
    },
    {
     "name": "stdout",
     "output_type": "stream",
     "text": [
      " | > Synthesizing test sentences.\n"
     ]
    },
    {
     "name": "stderr",
     "output_type": "stream",
     "text": [
      "\n",
      "  \u001b[1m--> EVAL PERFORMANCE\u001b[0m\n",
      "     | > avg_loader_time: 0.0016154646873474121 \u001b[0m(+0.0)\n",
      "     | > avg_loss: 0.3632543832063675 \u001b[0m(+0.0)\n",
      "     | > avg_log_mle: -0.19710981845855713 \u001b[0m(+0.0)\n",
      "     | > avg_loss_dur: 0.5603642016649246 \u001b[0m(+0.0)\n",
      "\n",
      " > BEST MODEL : /content/drive/MyDrive/dataset/cloned/run-July-22-2023_10+56AM-0000000/best_model_12221.pth\n",
      "\n",
      "\u001b[4m\u001b[1m > EPOCH: 121/150\u001b[0m\n",
      " --> /content/drive/MyDrive/dataset/cloned/run-July-22-2023_10+56AM-0000000\n",
      "\n",
      "\u001b[1m > TRAINING (2023-07-22 13:04:36) \u001b[0m\n"
     ]
    },
    {
     "name": "stdout",
     "output_type": "stream",
     "text": [
      "We make all our packaging from one hundred% recycled trash, from ocean bound plastic to landfills.\n",
      " [!] Character '%' not found in the vocabulary. Discarding it.\n"
     ]
    },
    {
     "name": "stderr",
     "output_type": "stream",
     "text": [
      "\n",
      "\u001b[1m > EVALUATION \u001b[0m\n",
      "\n",
      "\n",
      "  \u001b[1m--> EVAL PERFORMANCE\u001b[0m\n",
      "     | > avg_loader_time:\u001b[92m 0.0011997222900390625 \u001b[0m(-0.0004157423973083496)\n",
      "     | > avg_loss:\u001b[91m 0.3721264824271202 \u001b[0m(+0.008872099220752716)\n",
      "     | > avg_log_mle:\u001b[91m -0.19225850701332092 \u001b[0m(+0.004851311445236206)\n",
      "     | > avg_loss_dur:\u001b[91m 0.5643849894404411 \u001b[0m(+0.00402078777551651)\n",
      "\n"
     ]
    },
    {
     "name": "stdout",
     "output_type": "stream",
     "text": [
      " | > Synthesizing test sentences.\n"
     ]
    },
    {
     "name": "stderr",
     "output_type": "stream",
     "text": [
      "\n",
      "  \u001b[1m--> EVAL PERFORMANCE\u001b[0m\n",
      "     | > avg_loader_time: 0.0011997222900390625 \u001b[0m(+0.0)\n",
      "     | > avg_loss: 0.3721264824271202 \u001b[0m(+0.0)\n",
      "     | > avg_log_mle: -0.19225850701332092 \u001b[0m(+0.0)\n",
      "     | > avg_loss_dur: 0.5643849894404411 \u001b[0m(+0.0)\n",
      "\n",
      "\n",
      "\u001b[4m\u001b[1m > EPOCH: 122/150\u001b[0m\n",
      " --> /content/drive/MyDrive/dataset/cloned/run-July-22-2023_10+56AM-0000000\n",
      "\n",
      "\u001b[1m > TRAINING (2023-07-22 13:05:34) \u001b[0m\n"
     ]
    },
    {
     "name": "stdout",
     "output_type": "stream",
     "text": [
      "We make all our packaging from one hundred% recycled trash, from ocean bound plastic to landfills.\n",
      " [!] Character '%' not found in the vocabulary. Discarding it.\n"
     ]
    },
    {
     "name": "stderr",
     "output_type": "stream",
     "text": [
      "\n",
      "\u001b[1m > EVALUATION \u001b[0m\n",
      "\n",
      "\n",
      "  \u001b[1m--> EVAL PERFORMANCE\u001b[0m\n",
      "     | > avg_loader_time:\u001b[91m 0.001795351505279541 \u001b[0m(+0.0005956292152404785)\n",
      "     | > avg_loss:\u001b[91m 0.37997817248106003 \u001b[0m(+0.00785169005393982)\n",
      "     | > avg_log_mle:\u001b[92m -0.19351264834403992 \u001b[0m(-0.0012541413307189941)\n",
      "     | > avg_loss_dur:\u001b[91m 0.5734908208251 \u001b[0m(+0.009105831384658813)\n",
      "\n"
     ]
    },
    {
     "name": "stdout",
     "output_type": "stream",
     "text": [
      " | > Synthesizing test sentences.\n"
     ]
    },
    {
     "name": "stderr",
     "output_type": "stream",
     "text": [
      "\n",
      "  \u001b[1m--> EVAL PERFORMANCE\u001b[0m\n",
      "     | > avg_loader_time: 0.001795351505279541 \u001b[0m(+0.0)\n",
      "     | > avg_loss: 0.37997817248106003 \u001b[0m(+0.0)\n",
      "     | > avg_log_mle: -0.19351264834403992 \u001b[0m(+0.0)\n",
      "     | > avg_loss_dur: 0.5734908208251 \u001b[0m(+0.0)\n",
      "\n",
      "\n",
      "\u001b[4m\u001b[1m > EPOCH: 123/150\u001b[0m\n",
      " --> /content/drive/MyDrive/dataset/cloned/run-July-22-2023_10+56AM-0000000\n",
      "\n",
      "\u001b[1m > TRAINING (2023-07-22 13:06:29) \u001b[0m\n"
     ]
    },
    {
     "name": "stdout",
     "output_type": "stream",
     "text": [
      "We make all our packaging from one hundred% recycled trash, from ocean bound plastic to landfills.\n",
      " [!] Character '%' not found in the vocabulary. Discarding it.\n"
     ]
    },
    {
     "name": "stderr",
     "output_type": "stream",
     "text": [
      "\n",
      "\u001b[1m > EVALUATION \u001b[0m\n",
      "\n",
      "\n",
      "  \u001b[1m--> EVAL PERFORMANCE\u001b[0m\n",
      "     | > avg_loader_time:\u001b[92m 0.0016363859176635742 \u001b[0m(-0.0001589655876159668)\n",
      "     | > avg_loss:\u001b[92m 0.36060258746147156 \u001b[0m(-0.01937558501958847)\n",
      "     | > avg_log_mle:\u001b[92m -0.20286521315574646 \u001b[0m(-0.009352564811706543)\n",
      "     | > avg_loss_dur:\u001b[92m 0.563467800617218 \u001b[0m(-0.010023020207881927)\n",
      "\n"
     ]
    },
    {
     "name": "stdout",
     "output_type": "stream",
     "text": [
      " | > Synthesizing test sentences.\n"
     ]
    },
    {
     "name": "stderr",
     "output_type": "stream",
     "text": [
      "\n",
      "  \u001b[1m--> EVAL PERFORMANCE\u001b[0m\n",
      "     | > avg_loader_time: 0.0016363859176635742 \u001b[0m(+0.0)\n",
      "     | > avg_loss: 0.36060258746147156 \u001b[0m(+0.0)\n",
      "     | > avg_log_mle: -0.20286521315574646 \u001b[0m(+0.0)\n",
      "     | > avg_loss_dur: 0.563467800617218 \u001b[0m(+0.0)\n",
      "\n",
      " > BEST MODEL : /content/drive/MyDrive/dataset/cloned/run-July-22-2023_10+56AM-0000000/best_model_12524.pth\n",
      "\n",
      "\u001b[4m\u001b[1m > EPOCH: 124/150\u001b[0m\n",
      " --> /content/drive/MyDrive/dataset/cloned/run-July-22-2023_10+56AM-0000000\n",
      "\n",
      "\u001b[1m > TRAINING (2023-07-22 13:07:32) \u001b[0m\n"
     ]
    },
    {
     "name": "stdout",
     "output_type": "stream",
     "text": [
      "We make all our packaging from one hundred% recycled trash, from ocean bound plastic to landfills.\n",
      " [!] Character '%' not found in the vocabulary. Discarding it.\n"
     ]
    },
    {
     "name": "stderr",
     "output_type": "stream",
     "text": [
      "\n",
      "\u001b[1m > EVALUATION \u001b[0m\n",
      "\n",
      "\n",
      "  \u001b[1m--> EVAL PERFORMANCE\u001b[0m\n",
      "     | > avg_loader_time:\u001b[91m 0.005394279956817627 \u001b[0m(+0.0037578940391540527)\n",
      "     | > avg_loss:\u001b[91m 0.38356852531433105 \u001b[0m(+0.022965937852859497)\n",
      "     | > avg_log_mle:\u001b[91m -0.18276146054267883 \u001b[0m(+0.020103752613067627)\n",
      "     | > avg_loss_dur:\u001b[91m 0.5663299858570099 \u001b[0m(+0.00286218523979187)\n",
      "\n"
     ]
    },
    {
     "name": "stdout",
     "output_type": "stream",
     "text": [
      " | > Synthesizing test sentences.\n"
     ]
    },
    {
     "name": "stderr",
     "output_type": "stream",
     "text": [
      "\n",
      "  \u001b[1m--> EVAL PERFORMANCE\u001b[0m\n",
      "     | > avg_loader_time: 0.005394279956817627 \u001b[0m(+0.0)\n",
      "     | > avg_loss: 0.38356852531433105 \u001b[0m(+0.0)\n",
      "     | > avg_log_mle: -0.18276146054267883 \u001b[0m(+0.0)\n",
      "     | > avg_loss_dur: 0.5663299858570099 \u001b[0m(+0.0)\n",
      "\n",
      "\n",
      "\u001b[4m\u001b[1m > EPOCH: 125/150\u001b[0m\n",
      " --> /content/drive/MyDrive/dataset/cloned/run-July-22-2023_10+56AM-0000000\n",
      "\n",
      "\u001b[1m > TRAINING (2023-07-22 13:08:30) \u001b[0m\n"
     ]
    },
    {
     "name": "stdout",
     "output_type": "stream",
     "text": [
      "We make all our packaging from one hundred% recycled trash, from ocean bound plastic to landfills.\n",
      " [!] Character '%' not found in the vocabulary. Discarding it.\n"
     ]
    },
    {
     "name": "stderr",
     "output_type": "stream",
     "text": [
      "\n",
      "\u001b[1m > EVALUATION \u001b[0m\n",
      "\n",
      "\n",
      "  \u001b[1m--> EVAL PERFORMANCE\u001b[0m\n",
      "     | > avg_loader_time:\u001b[92m 0.0016512870788574219 \u001b[0m(-0.003742992877960205)\n",
      "     | > avg_loss:\u001b[92m 0.36007725447416306 \u001b[0m(-0.023491270840168)\n",
      "     | > avg_log_mle:\u001b[92m -0.20250853896141052 \u001b[0m(-0.01974707841873169)\n",
      "     | > avg_loss_dur:\u001b[92m 0.5625857934355736 \u001b[0m(-0.00374419242143631)\n",
      "\n"
     ]
    },
    {
     "name": "stdout",
     "output_type": "stream",
     "text": [
      " | > Synthesizing test sentences.\n"
     ]
    },
    {
     "name": "stderr",
     "output_type": "stream",
     "text": [
      "\n",
      "  \u001b[1m--> EVAL PERFORMANCE\u001b[0m\n",
      "     | > avg_loader_time: 0.0016512870788574219 \u001b[0m(+0.0)\n",
      "     | > avg_loss: 0.36007725447416306 \u001b[0m(+0.0)\n",
      "     | > avg_log_mle: -0.20250853896141052 \u001b[0m(+0.0)\n",
      "     | > avg_loss_dur: 0.5625857934355736 \u001b[0m(+0.0)\n",
      "\n",
      " > BEST MODEL : /content/drive/MyDrive/dataset/cloned/run-July-22-2023_10+56AM-0000000/best_model_12726.pth\n",
      "\n",
      "\u001b[4m\u001b[1m > EPOCH: 126/150\u001b[0m\n",
      " --> /content/drive/MyDrive/dataset/cloned/run-July-22-2023_10+56AM-0000000\n",
      "\n",
      "\u001b[1m > TRAINING (2023-07-22 13:09:36) \u001b[0m\n"
     ]
    },
    {
     "name": "stdout",
     "output_type": "stream",
     "text": [
      "We make all our packaging from one hundred% recycled trash, from ocean bound plastic to landfills.\n",
      " [!] Character '%' not found in the vocabulary. Discarding it.\n"
     ]
    },
    {
     "name": "stderr",
     "output_type": "stream",
     "text": [
      "\n",
      "\u001b[1m > EVALUATION \u001b[0m\n",
      "\n",
      "\n",
      "  \u001b[1m--> EVAL PERFORMANCE\u001b[0m\n",
      "     | > avg_loader_time:\u001b[92m 0.0016333460807800293 \u001b[0m(-1.7940998077392578e-05)\n",
      "     | > avg_loss:\u001b[92m 0.34615179151296616 \u001b[0m(-0.0139254629611969)\n",
      "     | > avg_log_mle:\u001b[92m -0.2099439799785614 \u001b[0m(-0.007435441017150879)\n",
      "     | > avg_loss_dur:\u001b[92m 0.5560957714915276 \u001b[0m(-0.0064900219440460205)\n",
      "\n"
     ]
    },
    {
     "name": "stdout",
     "output_type": "stream",
     "text": [
      " | > Synthesizing test sentences.\n"
     ]
    },
    {
     "name": "stderr",
     "output_type": "stream",
     "text": [
      "\n",
      "  \u001b[1m--> EVAL PERFORMANCE\u001b[0m\n",
      "     | > avg_loader_time: 0.0016333460807800293 \u001b[0m(+0.0)\n",
      "     | > avg_loss: 0.34615179151296616 \u001b[0m(+0.0)\n",
      "     | > avg_log_mle: -0.2099439799785614 \u001b[0m(+0.0)\n",
      "     | > avg_loss_dur: 0.5560957714915276 \u001b[0m(+0.0)\n",
      "\n",
      " > BEST MODEL : /content/drive/MyDrive/dataset/cloned/run-July-22-2023_10+56AM-0000000/best_model_12827.pth\n",
      "\n",
      "\u001b[4m\u001b[1m > EPOCH: 127/150\u001b[0m\n",
      " --> /content/drive/MyDrive/dataset/cloned/run-July-22-2023_10+56AM-0000000\n",
      "\n",
      "\u001b[1m > TRAINING (2023-07-22 13:10:42) \u001b[0m\n"
     ]
    },
    {
     "name": "stdout",
     "output_type": "stream",
     "text": [
      "We make all our packaging from one hundred% recycled trash, from ocean bound plastic to landfills.\n",
      " [!] Character '%' not found in the vocabulary. Discarding it.\n"
     ]
    },
    {
     "name": "stderr",
     "output_type": "stream",
     "text": [
      "\n",
      "\u001b[1m > EVALUATION \u001b[0m\n",
      "\n",
      "\n",
      "  \u001b[1m--> EVAL PERFORMANCE\u001b[0m\n",
      "     | > avg_loader_time:\u001b[91m 0.0020613670349121094 \u001b[0m(+0.0004280209541320801)\n",
      "     | > avg_loss:\u001b[91m 0.35613102465867996 \u001b[0m(+0.009979233145713806)\n",
      "     | > avg_log_mle:\u001b[91m -0.2002740502357483 \u001b[0m(+0.00966992974281311)\n",
      "     | > avg_loss_dur:\u001b[91m 0.5564050748944283 \u001b[0m(+0.0003093034029006958)\n",
      "\n"
     ]
    },
    {
     "name": "stdout",
     "output_type": "stream",
     "text": [
      " | > Synthesizing test sentences.\n"
     ]
    },
    {
     "name": "stderr",
     "output_type": "stream",
     "text": [
      "\n",
      "  \u001b[1m--> EVAL PERFORMANCE\u001b[0m\n",
      "     | > avg_loader_time: 0.0020613670349121094 \u001b[0m(+0.0)\n",
      "     | > avg_loss: 0.35613102465867996 \u001b[0m(+0.0)\n",
      "     | > avg_log_mle: -0.2002740502357483 \u001b[0m(+0.0)\n",
      "     | > avg_loss_dur: 0.5564050748944283 \u001b[0m(+0.0)\n",
      "\n",
      "\n",
      "\u001b[4m\u001b[1m > EPOCH: 128/150\u001b[0m\n",
      " --> /content/drive/MyDrive/dataset/cloned/run-July-22-2023_10+56AM-0000000\n",
      "\n",
      "\u001b[1m > TRAINING (2023-07-22 13:11:50) \u001b[0m\n"
     ]
    },
    {
     "name": "stdout",
     "output_type": "stream",
     "text": [
      "We make all our packaging from one hundred% recycled trash, from ocean bound plastic to landfills.\n",
      " [!] Character '%' not found in the vocabulary. Discarding it.\n"
     ]
    },
    {
     "name": "stderr",
     "output_type": "stream",
     "text": [
      "\n",
      "\u001b[1m   --> TIME: 2023-07-22 13:12:30 -- STEP: 72/101 -- GLOBAL_STEP: 13000\u001b[0m\n",
      "     | > loss: 0.27667877078056335  (0.31956727347440195)\n",
      "     | > log_mle: -0.21525883674621582  (-0.26159747938315064)\n",
      "     | > loss_dur: 0.4919376075267792  (0.5811647528575526)\n",
      "     | > amp_scaler: 4096.0  (4096.0)\n",
      "     | > grad_norm: tensor(25.3835, device='cuda:0')  (tensor(31.4548, device='cuda:0'))\n",
      "     | > current_lr: 1.6e-05 \n",
      "     | > step_time: 0.4067  (0.5240360663996803)\n",
      "     | > loader_time: 0.0042  (0.0055162111918131505)\n",
      "\n",
      "\n",
      "\u001b[1m > EVALUATION \u001b[0m\n",
      "\n",
      "\n",
      "  \u001b[1m--> EVAL PERFORMANCE\u001b[0m\n",
      "     | > avg_loader_time:\u001b[92m 0.0016742944717407227 \u001b[0m(-0.0003870725631713867)\n",
      "     | > avg_loss:\u001b[92m 0.34277454018592834 \u001b[0m(-0.013356484472751617)\n",
      "     | > avg_log_mle:\u001b[92m -0.21686777472496033 \u001b[0m(-0.016593724489212036)\n",
      "     | > avg_loss_dur:\u001b[91m 0.5596423149108887 \u001b[0m(+0.0032372400164604187)\n",
      "\n"
     ]
    },
    {
     "name": "stdout",
     "output_type": "stream",
     "text": [
      " | > Synthesizing test sentences.\n"
     ]
    },
    {
     "name": "stderr",
     "output_type": "stream",
     "text": [
      "\n",
      "  \u001b[1m--> EVAL PERFORMANCE\u001b[0m\n",
      "     | > avg_loader_time: 0.0016742944717407227 \u001b[0m(+0.0)\n",
      "     | > avg_loss: 0.34277454018592834 \u001b[0m(+0.0)\n",
      "     | > avg_log_mle: -0.21686777472496033 \u001b[0m(+0.0)\n",
      "     | > avg_loss_dur: 0.5596423149108887 \u001b[0m(+0.0)\n",
      "\n",
      " > BEST MODEL : /content/drive/MyDrive/dataset/cloned/run-July-22-2023_10+56AM-0000000/best_model_13029.pth\n",
      "\n",
      "\u001b[4m\u001b[1m > EPOCH: 129/150\u001b[0m\n",
      " --> /content/drive/MyDrive/dataset/cloned/run-July-22-2023_10+56AM-0000000\n",
      "\n",
      "\u001b[1m > TRAINING (2023-07-22 13:13:08) \u001b[0m\n"
     ]
    },
    {
     "name": "stdout",
     "output_type": "stream",
     "text": [
      "We make all our packaging from one hundred% recycled trash, from ocean bound plastic to landfills.\n",
      " [!] Character '%' not found in the vocabulary. Discarding it.\n"
     ]
    },
    {
     "name": "stderr",
     "output_type": "stream",
     "text": [
      "\n",
      "\u001b[1m > EVALUATION \u001b[0m\n",
      "\n",
      "\n",
      "  \u001b[1m--> EVAL PERFORMANCE\u001b[0m\n",
      "     | > avg_loader_time:\u001b[91m 0.0018189549446105957 \u001b[0m(+0.00014466047286987305)\n",
      "     | > avg_loss:\u001b[91m 0.3458554968237877 \u001b[0m(+0.0030809566378593445)\n",
      "     | > avg_log_mle:\u001b[92m -0.21868684887886047 \u001b[0m(-0.0018190741539001465)\n",
      "     | > avg_loss_dur:\u001b[91m 0.5645423457026482 \u001b[0m(+0.004900030791759491)\n",
      "\n"
     ]
    },
    {
     "name": "stdout",
     "output_type": "stream",
     "text": [
      " | > Synthesizing test sentences.\n"
     ]
    },
    {
     "name": "stderr",
     "output_type": "stream",
     "text": [
      "\n",
      "  \u001b[1m--> EVAL PERFORMANCE\u001b[0m\n",
      "     | > avg_loader_time: 0.0018189549446105957 \u001b[0m(+0.0)\n",
      "     | > avg_loss: 0.3458554968237877 \u001b[0m(+0.0)\n",
      "     | > avg_log_mle: -0.21868684887886047 \u001b[0m(+0.0)\n",
      "     | > avg_loss_dur: 0.5645423457026482 \u001b[0m(+0.0)\n",
      "\n",
      "\n",
      "\u001b[4m\u001b[1m > EPOCH: 130/150\u001b[0m\n",
      " --> /content/drive/MyDrive/dataset/cloned/run-July-22-2023_10+56AM-0000000\n",
      "\n",
      "\u001b[1m > TRAINING (2023-07-22 13:14:24) \u001b[0m\n"
     ]
    },
    {
     "name": "stdout",
     "output_type": "stream",
     "text": [
      "We make all our packaging from one hundred% recycled trash, from ocean bound plastic to landfills.\n",
      " [!] Character '%' not found in the vocabulary. Discarding it.\n"
     ]
    },
    {
     "name": "stderr",
     "output_type": "stream",
     "text": [
      "\n",
      "\u001b[1m > EVALUATION \u001b[0m\n",
      "\n",
      "\n",
      "  \u001b[1m--> EVAL PERFORMANCE\u001b[0m\n",
      "     | > avg_loader_time:\u001b[92m 0.0016734600067138672 \u001b[0m(-0.00014549493789672852)\n",
      "     | > avg_loss:\u001b[91m 0.3767053708434105 \u001b[0m(+0.030849874019622803)\n",
      "     | > avg_log_mle:\u001b[91m -0.19935891032218933 \u001b[0m(+0.019327938556671143)\n",
      "     | > avg_loss_dur:\u001b[91m 0.5760642811655998 \u001b[0m(+0.01152193546295166)\n",
      "\n"
     ]
    },
    {
     "name": "stdout",
     "output_type": "stream",
     "text": [
      " | > Synthesizing test sentences.\n"
     ]
    },
    {
     "name": "stderr",
     "output_type": "stream",
     "text": [
      "\n",
      "  \u001b[1m--> EVAL PERFORMANCE\u001b[0m\n",
      "     | > avg_loader_time: 0.0016734600067138672 \u001b[0m(+0.0)\n",
      "     | > avg_loss: 0.3767053708434105 \u001b[0m(+0.0)\n",
      "     | > avg_log_mle: -0.19935891032218933 \u001b[0m(+0.0)\n",
      "     | > avg_loss_dur: 0.5760642811655998 \u001b[0m(+0.0)\n",
      "\n",
      "\n",
      "\u001b[4m\u001b[1m > EPOCH: 131/150\u001b[0m\n",
      " --> /content/drive/MyDrive/dataset/cloned/run-July-22-2023_10+56AM-0000000\n",
      "\n",
      "\u001b[1m > TRAINING (2023-07-22 13:15:28) \u001b[0m\n"
     ]
    },
    {
     "name": "stdout",
     "output_type": "stream",
     "text": [
      "We make all our packaging from one hundred% recycled trash, from ocean bound plastic to landfills.\n",
      " [!] Character '%' not found in the vocabulary. Discarding it.\n"
     ]
    },
    {
     "name": "stderr",
     "output_type": "stream",
     "text": [
      "\n",
      "\u001b[1m > EVALUATION \u001b[0m\n",
      "\n",
      "\n",
      "  \u001b[1m--> EVAL PERFORMANCE\u001b[0m\n",
      "     | > avg_loader_time:\u001b[91m 0.0020879507064819336 \u001b[0m(+0.0004144906997680664)\n",
      "     | > avg_loss:\u001b[92m 0.32373838871717453 \u001b[0m(-0.05296698212623596)\n",
      "     | > avg_log_mle:\u001b[92m -0.22487807273864746 \u001b[0m(-0.02551916241645813)\n",
      "     | > avg_loss_dur:\u001b[92m 0.548616461455822 \u001b[0m(-0.027447819709777832)\n",
      "\n"
     ]
    },
    {
     "name": "stdout",
     "output_type": "stream",
     "text": [
      " | > Synthesizing test sentences.\n"
     ]
    },
    {
     "name": "stderr",
     "output_type": "stream",
     "text": [
      "\n",
      "  \u001b[1m--> EVAL PERFORMANCE\u001b[0m\n",
      "     | > avg_loader_time: 0.0020879507064819336 \u001b[0m(+0.0)\n",
      "     | > avg_loss: 0.32373838871717453 \u001b[0m(+0.0)\n",
      "     | > avg_log_mle: -0.22487807273864746 \u001b[0m(+0.0)\n",
      "     | > avg_loss_dur: 0.548616461455822 \u001b[0m(+0.0)\n",
      "\n",
      " > BEST MODEL : /content/drive/MyDrive/dataset/cloned/run-July-22-2023_10+56AM-0000000/best_model_13332.pth\n",
      "\n",
      "\u001b[4m\u001b[1m > EPOCH: 132/150\u001b[0m\n",
      " --> /content/drive/MyDrive/dataset/cloned/run-July-22-2023_10+56AM-0000000\n",
      "\n",
      "\u001b[1m > TRAINING (2023-07-22 13:16:39) \u001b[0m\n"
     ]
    },
    {
     "name": "stdout",
     "output_type": "stream",
     "text": [
      "We make all our packaging from one hundred% recycled trash, from ocean bound plastic to landfills.\n",
      " [!] Character '%' not found in the vocabulary. Discarding it.\n"
     ]
    },
    {
     "name": "stderr",
     "output_type": "stream",
     "text": [
      "\n",
      "\u001b[1m > EVALUATION \u001b[0m\n",
      "\n",
      "\n",
      "  \u001b[1m--> EVAL PERFORMANCE\u001b[0m\n",
      "     | > avg_loader_time:\u001b[92m 0.0018396973609924316 \u001b[0m(-0.00024825334548950195)\n",
      "     | > avg_loss:\u001b[91m 0.349149189889431 \u001b[0m(+0.02541080117225647)\n",
      "     | > avg_log_mle:\u001b[91m -0.22043126821517944 \u001b[0m(+0.004446804523468018)\n",
      "     | > avg_loss_dur:\u001b[91m 0.5695804581046104 \u001b[0m(+0.020963996648788452)\n",
      "\n"
     ]
    },
    {
     "name": "stdout",
     "output_type": "stream",
     "text": [
      " | > Synthesizing test sentences.\n"
     ]
    },
    {
     "name": "stderr",
     "output_type": "stream",
     "text": [
      "\n",
      "  \u001b[1m--> EVAL PERFORMANCE\u001b[0m\n",
      "     | > avg_loader_time: 0.0018396973609924316 \u001b[0m(+0.0)\n",
      "     | > avg_loss: 0.349149189889431 \u001b[0m(+0.0)\n",
      "     | > avg_log_mle: -0.22043126821517944 \u001b[0m(+0.0)\n",
      "     | > avg_loss_dur: 0.5695804581046104 \u001b[0m(+0.0)\n",
      "\n",
      "\n",
      "\u001b[4m\u001b[1m > EPOCH: 133/150\u001b[0m\n",
      " --> /content/drive/MyDrive/dataset/cloned/run-July-22-2023_10+56AM-0000000\n",
      "\n",
      "\u001b[1m > TRAINING (2023-07-22 13:17:40) \u001b[0m\n"
     ]
    },
    {
     "name": "stdout",
     "output_type": "stream",
     "text": [
      "We make all our packaging from one hundred% recycled trash, from ocean bound plastic to landfills.\n",
      " [!] Character '%' not found in the vocabulary. Discarding it.\n"
     ]
    },
    {
     "name": "stderr",
     "output_type": "stream",
     "text": [
      "\n",
      "\u001b[1m > EVALUATION \u001b[0m\n",
      "\n",
      "\n",
      "  \u001b[1m--> EVAL PERFORMANCE\u001b[0m\n",
      "     | > avg_loader_time:\u001b[91m 0.0024698972702026367 \u001b[0m(+0.0006301999092102051)\n",
      "     | > avg_loss:\u001b[91m 0.37204114347696304 \u001b[0m(+0.022891953587532043)\n",
      "     | > avg_log_mle:\u001b[91m -0.2034417688846588 \u001b[0m(+0.01698949933052063)\n",
      "     | > avg_loss_dur:\u001b[91m 0.5754829123616219 \u001b[0m(+0.005902454257011414)\n",
      "\n"
     ]
    },
    {
     "name": "stdout",
     "output_type": "stream",
     "text": [
      " | > Synthesizing test sentences.\n"
     ]
    },
    {
     "name": "stderr",
     "output_type": "stream",
     "text": [
      "\n",
      "  \u001b[1m--> EVAL PERFORMANCE\u001b[0m\n",
      "     | > avg_loader_time: 0.0024698972702026367 \u001b[0m(+0.0)\n",
      "     | > avg_loss: 0.37204114347696304 \u001b[0m(+0.0)\n",
      "     | > avg_log_mle: -0.2034417688846588 \u001b[0m(+0.0)\n",
      "     | > avg_loss_dur: 0.5754829123616219 \u001b[0m(+0.0)\n",
      "\n",
      "\n",
      "\u001b[4m\u001b[1m > EPOCH: 134/150\u001b[0m\n",
      " --> /content/drive/MyDrive/dataset/cloned/run-July-22-2023_10+56AM-0000000\n",
      "\n",
      "\u001b[1m > TRAINING (2023-07-22 13:18:36) \u001b[0m\n"
     ]
    },
    {
     "name": "stdout",
     "output_type": "stream",
     "text": [
      "We make all our packaging from one hundred% recycled trash, from ocean bound plastic to landfills.\n",
      " [!] Character '%' not found in the vocabulary. Discarding it.\n"
     ]
    },
    {
     "name": "stderr",
     "output_type": "stream",
     "text": [
      "\n",
      "\u001b[1m > EVALUATION \u001b[0m\n",
      "\n",
      "\n",
      "  \u001b[1m--> EVAL PERFORMANCE\u001b[0m\n",
      "     | > avg_loader_time:\u001b[92m 0.001506805419921875 \u001b[0m(-0.0009630918502807617)\n",
      "     | > avg_loss:\u001b[92m 0.3503730446100235 \u001b[0m(-0.021668098866939545)\n",
      "     | > avg_log_mle:\u001b[92m -0.21689045429229736 \u001b[0m(-0.01344868540763855)\n",
      "     | > avg_loss_dur:\u001b[92m 0.5672634989023209 \u001b[0m(-0.008219413459300995)\n",
      "\n"
     ]
    },
    {
     "name": "stdout",
     "output_type": "stream",
     "text": [
      " | > Synthesizing test sentences.\n"
     ]
    },
    {
     "name": "stderr",
     "output_type": "stream",
     "text": [
      "\n",
      "  \u001b[1m--> EVAL PERFORMANCE\u001b[0m\n",
      "     | > avg_loader_time: 0.001506805419921875 \u001b[0m(+0.0)\n",
      "     | > avg_loss: 0.3503730446100235 \u001b[0m(+0.0)\n",
      "     | > avg_log_mle: -0.21689045429229736 \u001b[0m(+0.0)\n",
      "     | > avg_loss_dur: 0.5672634989023209 \u001b[0m(+0.0)\n",
      "\n",
      "\n",
      "\u001b[4m\u001b[1m > EPOCH: 135/150\u001b[0m\n",
      " --> /content/drive/MyDrive/dataset/cloned/run-July-22-2023_10+56AM-0000000\n",
      "\n",
      "\u001b[1m > TRAINING (2023-07-22 13:19:38) \u001b[0m\n"
     ]
    },
    {
     "name": "stdout",
     "output_type": "stream",
     "text": [
      "We make all our packaging from one hundred% recycled trash, from ocean bound plastic to landfills.\n",
      " [!] Character '%' not found in the vocabulary. Discarding it.\n"
     ]
    },
    {
     "name": "stderr",
     "output_type": "stream",
     "text": [
      "\n",
      "\u001b[1m > EVALUATION \u001b[0m\n",
      "\n",
      "\n",
      "  \u001b[1m--> EVAL PERFORMANCE\u001b[0m\n",
      "     | > avg_loader_time:\u001b[91m 0.0015351176261901855 \u001b[0m(+2.8312206268310547e-05)\n",
      "     | > avg_loss:\u001b[92m 0.33620571345090866 \u001b[0m(-0.014167331159114838)\n",
      "     | > avg_log_mle:\u001b[92m -0.22391799092292786 \u001b[0m(-0.007027536630630493)\n",
      "     | > avg_loss_dur:\u001b[92m 0.5601237043738365 \u001b[0m(-0.0071397945284843445)\n",
      "\n"
     ]
    },
    {
     "name": "stdout",
     "output_type": "stream",
     "text": [
      " | > Synthesizing test sentences.\n"
     ]
    },
    {
     "name": "stderr",
     "output_type": "stream",
     "text": [
      "\n",
      "  \u001b[1m--> EVAL PERFORMANCE\u001b[0m\n",
      "     | > avg_loader_time: 0.0015351176261901855 \u001b[0m(+0.0)\n",
      "     | > avg_loss: 0.33620571345090866 \u001b[0m(+0.0)\n",
      "     | > avg_log_mle: -0.22391799092292786 \u001b[0m(+0.0)\n",
      "     | > avg_loss_dur: 0.5601237043738365 \u001b[0m(+0.0)\n",
      "\n",
      "\n",
      "\u001b[4m\u001b[1m > EPOCH: 136/150\u001b[0m\n",
      " --> /content/drive/MyDrive/dataset/cloned/run-July-22-2023_10+56AM-0000000\n",
      "\n",
      "\u001b[1m > TRAINING (2023-07-22 13:20:36) \u001b[0m\n"
     ]
    },
    {
     "name": "stdout",
     "output_type": "stream",
     "text": [
      "We make all our packaging from one hundred% recycled trash, from ocean bound plastic to landfills.\n",
      " [!] Character '%' not found in the vocabulary. Discarding it.\n"
     ]
    },
    {
     "name": "stderr",
     "output_type": "stream",
     "text": [
      "\n",
      "\u001b[1m > EVALUATION \u001b[0m\n",
      "\n",
      "\n",
      "  \u001b[1m--> EVAL PERFORMANCE\u001b[0m\n",
      "     | > avg_loader_time:\u001b[91m 0.001595914363861084 \u001b[0m(+6.079673767089844e-05)\n",
      "     | > avg_loss:\u001b[91m 0.3545100539922714 \u001b[0m(+0.018304340541362762)\n",
      "     | > avg_log_mle:\u001b[91m -0.21964481472969055 \u001b[0m(+0.004273176193237305)\n",
      "     | > avg_loss_dur:\u001b[91m 0.574154868721962 \u001b[0m(+0.014031164348125458)\n",
      "\n"
     ]
    },
    {
     "name": "stdout",
     "output_type": "stream",
     "text": [
      " | > Synthesizing test sentences.\n"
     ]
    },
    {
     "name": "stderr",
     "output_type": "stream",
     "text": [
      "\n",
      "  \u001b[1m--> EVAL PERFORMANCE\u001b[0m\n",
      "     | > avg_loader_time: 0.001595914363861084 \u001b[0m(+0.0)\n",
      "     | > avg_loss: 0.3545100539922714 \u001b[0m(+0.0)\n",
      "     | > avg_log_mle: -0.21964481472969055 \u001b[0m(+0.0)\n",
      "     | > avg_loss_dur: 0.574154868721962 \u001b[0m(+0.0)\n",
      "\n",
      "\n",
      "\u001b[4m\u001b[1m > EPOCH: 137/150\u001b[0m\n",
      " --> /content/drive/MyDrive/dataset/cloned/run-July-22-2023_10+56AM-0000000\n",
      "\n",
      "\u001b[1m > TRAINING (2023-07-22 13:21:33) \u001b[0m\n"
     ]
    },
    {
     "name": "stdout",
     "output_type": "stream",
     "text": [
      "We make all our packaging from one hundred% recycled trash, from ocean bound plastic to landfills.\n",
      " [!] Character '%' not found in the vocabulary. Discarding it.\n"
     ]
    },
    {
     "name": "stderr",
     "output_type": "stream",
     "text": [
      "\n",
      "\u001b[1m > EVALUATION \u001b[0m\n",
      "\n",
      "\n",
      "  \u001b[1m--> EVAL PERFORMANCE\u001b[0m\n",
      "     | > avg_loader_time:\u001b[91m 0.0017845630645751953 \u001b[0m(+0.00018864870071411133)\n",
      "     | > avg_loss:\u001b[92m 0.32513025403022766 \u001b[0m(-0.029379799962043762)\n",
      "     | > avg_log_mle:\u001b[92m -0.22670713067054749 \u001b[0m(-0.007062315940856934)\n",
      "     | > avg_loss_dur:\u001b[92m 0.5518373847007751 \u001b[0m(-0.02231748402118683)\n",
      "\n"
     ]
    },
    {
     "name": "stdout",
     "output_type": "stream",
     "text": [
      " | > Synthesizing test sentences.\n"
     ]
    },
    {
     "name": "stderr",
     "output_type": "stream",
     "text": [
      "\n",
      "  \u001b[1m--> EVAL PERFORMANCE\u001b[0m\n",
      "     | > avg_loader_time: 0.0017845630645751953 \u001b[0m(+0.0)\n",
      "     | > avg_loss: 0.32513025403022766 \u001b[0m(+0.0)\n",
      "     | > avg_log_mle: -0.22670713067054749 \u001b[0m(+0.0)\n",
      "     | > avg_loss_dur: 0.5518373847007751 \u001b[0m(+0.0)\n",
      "\n",
      "\n",
      "\u001b[4m\u001b[1m > EPOCH: 138/150\u001b[0m\n",
      " --> /content/drive/MyDrive/dataset/cloned/run-July-22-2023_10+56AM-0000000\n",
      "\n",
      "\u001b[1m > TRAINING (2023-07-22 13:22:33) \u001b[0m\n"
     ]
    },
    {
     "name": "stdout",
     "output_type": "stream",
     "text": [
      "We make all our packaging from one hundred% recycled trash, from ocean bound plastic to landfills.\n",
      " [!] Character '%' not found in the vocabulary. Discarding it.\n"
     ]
    },
    {
     "name": "stderr",
     "output_type": "stream",
     "text": [
      "\n",
      "\u001b[1m   --> TIME: 2023-07-22 13:22:59 -- STEP: 62/101 -- GLOBAL_STEP: 14000\u001b[0m\n",
      "     | > loss: 0.25959765911102295  (0.28961138186916224)\n",
      "     | > log_mle: -0.3018296957015991  (-0.2841938964782223)\n",
      "     | > loss_dur: 0.5614273548126221  (0.5738052783473847)\n",
      "     | > amp_scaler: 4096.0  (4096.0)\n",
      "     | > grad_norm: tensor(55.9059, device='cuda:0')  (tensor(32.2507, device='cuda:0'))\n",
      "     | > current_lr: 1.725e-05 \n",
      "     | > step_time: 0.3006  (0.3807276410441245)\n",
      "     | > loader_time: 0.005  (0.0044172117787022736)\n",
      "\n",
      "\n",
      " > CHECKPOINT : /content/drive/MyDrive/dataset/cloned/run-July-22-2023_10+56AM-0000000/checkpoint_14000.pth\n",
      "\n",
      "\u001b[1m > EVALUATION \u001b[0m\n",
      "\n",
      "\n",
      "  \u001b[1m--> EVAL PERFORMANCE\u001b[0m\n",
      "     | > avg_loader_time:\u001b[92m 0.0016800761222839355 \u001b[0m(-0.00010448694229125977)\n",
      "     | > avg_loss:\u001b[91m 0.3468158319592476 \u001b[0m(+0.021685577929019928)\n",
      "     | > avg_log_mle:\u001b[91m -0.22253727912902832 \u001b[0m(+0.004169851541519165)\n",
      "     | > avg_loss_dur:\u001b[91m 0.5693531110882759 \u001b[0m(+0.017515726387500763)\n",
      "\n"
     ]
    },
    {
     "name": "stdout",
     "output_type": "stream",
     "text": [
      " | > Synthesizing test sentences.\n"
     ]
    },
    {
     "name": "stderr",
     "output_type": "stream",
     "text": [
      "\n",
      "  \u001b[1m--> EVAL PERFORMANCE\u001b[0m\n",
      "     | > avg_loader_time: 0.0016800761222839355 \u001b[0m(+0.0)\n",
      "     | > avg_loss: 0.3468158319592476 \u001b[0m(+0.0)\n",
      "     | > avg_log_mle: -0.22253727912902832 \u001b[0m(+0.0)\n",
      "     | > avg_loss_dur: 0.5693531110882759 \u001b[0m(+0.0)\n",
      "\n",
      "\n",
      "\u001b[4m\u001b[1m > EPOCH: 139/150\u001b[0m\n",
      " --> /content/drive/MyDrive/dataset/cloned/run-July-22-2023_10+56AM-0000000\n",
      "\n",
      "\u001b[1m > TRAINING (2023-07-22 13:23:40) \u001b[0m\n"
     ]
    },
    {
     "name": "stdout",
     "output_type": "stream",
     "text": [
      "We make all our packaging from one hundred% recycled trash, from ocean bound plastic to landfills.\n",
      " [!] Character '%' not found in the vocabulary. Discarding it.\n"
     ]
    },
    {
     "name": "stderr",
     "output_type": "stream",
     "text": [
      "\n",
      "\u001b[1m > EVALUATION \u001b[0m\n",
      "\n",
      "\n",
      "  \u001b[1m--> EVAL PERFORMANCE\u001b[0m\n",
      "     | > avg_loader_time:\u001b[92m 0.0015468001365661621 \u001b[0m(-0.00013327598571777344)\n",
      "     | > avg_loss:\u001b[92m 0.3369310647249222 \u001b[0m(-0.009884767234325409)\n",
      "     | > avg_log_mle:\u001b[92m -0.22635841369628906 \u001b[0m(-0.003821134567260742)\n",
      "     | > avg_loss_dur:\u001b[92m 0.5632894784212112 \u001b[0m(-0.006063632667064667)\n",
      "\n"
     ]
    },
    {
     "name": "stdout",
     "output_type": "stream",
     "text": [
      " | > Synthesizing test sentences.\n"
     ]
    },
    {
     "name": "stderr",
     "output_type": "stream",
     "text": [
      "\n",
      "  \u001b[1m--> EVAL PERFORMANCE\u001b[0m\n",
      "     | > avg_loader_time: 0.0015468001365661621 \u001b[0m(+0.0)\n",
      "     | > avg_loss: 0.3369310647249222 \u001b[0m(+0.0)\n",
      "     | > avg_log_mle: -0.22635841369628906 \u001b[0m(+0.0)\n",
      "     | > avg_loss_dur: 0.5632894784212112 \u001b[0m(+0.0)\n",
      "\n",
      "\n",
      "\u001b[4m\u001b[1m > EPOCH: 140/150\u001b[0m\n",
      " --> /content/drive/MyDrive/dataset/cloned/run-July-22-2023_10+56AM-0000000\n",
      "\n",
      "\u001b[1m > TRAINING (2023-07-22 13:24:34) \u001b[0m\n"
     ]
    },
    {
     "name": "stdout",
     "output_type": "stream",
     "text": [
      "We make all our packaging from one hundred% recycled trash, from ocean bound plastic to landfills.\n",
      " [!] Character '%' not found in the vocabulary. Discarding it.\n"
     ]
    },
    {
     "name": "stderr",
     "output_type": "stream",
     "text": [
      "\n",
      "\u001b[1m > EVALUATION \u001b[0m\n",
      "\n",
      "\n",
      "  \u001b[1m--> EVAL PERFORMANCE\u001b[0m\n",
      "     | > avg_loader_time:\u001b[91m 0.0018461942672729492 \u001b[0m(+0.0002993941307067871)\n",
      "     | > avg_loss:\u001b[92m 0.3170042708516121 \u001b[0m(-0.01992679387331009)\n",
      "     | > avg_log_mle:\u001b[92m -0.2366127073764801 \u001b[0m(-0.01025429368019104)\n",
      "     | > avg_loss_dur:\u001b[92m 0.5536169782280922 \u001b[0m(-0.009672500193119049)\n",
      "\n"
     ]
    },
    {
     "name": "stdout",
     "output_type": "stream",
     "text": [
      " | > Synthesizing test sentences.\n"
     ]
    },
    {
     "name": "stderr",
     "output_type": "stream",
     "text": [
      "\n",
      "  \u001b[1m--> EVAL PERFORMANCE\u001b[0m\n",
      "     | > avg_loader_time: 0.0018461942672729492 \u001b[0m(+0.0)\n",
      "     | > avg_loss: 0.3170042708516121 \u001b[0m(+0.0)\n",
      "     | > avg_log_mle: -0.2366127073764801 \u001b[0m(+0.0)\n",
      "     | > avg_loss_dur: 0.5536169782280922 \u001b[0m(+0.0)\n",
      "\n",
      " > BEST MODEL : /content/drive/MyDrive/dataset/cloned/run-July-22-2023_10+56AM-0000000/best_model_14241.pth\n",
      "\n",
      "\u001b[4m\u001b[1m > EPOCH: 141/150\u001b[0m\n",
      " --> /content/drive/MyDrive/dataset/cloned/run-July-22-2023_10+56AM-0000000\n",
      "\n",
      "\u001b[1m > TRAINING (2023-07-22 13:25:36) \u001b[0m\n"
     ]
    },
    {
     "name": "stdout",
     "output_type": "stream",
     "text": [
      "We make all our packaging from one hundred% recycled trash, from ocean bound plastic to landfills.\n",
      " [!] Character '%' not found in the vocabulary. Discarding it.\n"
     ]
    },
    {
     "name": "stderr",
     "output_type": "stream",
     "text": [
      "\n",
      "\u001b[1m > EVALUATION \u001b[0m\n",
      "\n",
      "\n",
      "  \u001b[1m--> EVAL PERFORMANCE\u001b[0m\n",
      "     | > avg_loader_time:\u001b[91m 0.0021099448204040527 \u001b[0m(+0.0002637505531311035)\n",
      "     | > avg_loss:\u001b[92m 0.315464623272419 \u001b[0m(-0.0015396475791931152)\n",
      "     | > avg_log_mle:\u001b[92m -0.23668891191482544 \u001b[0m(-7.620453834533691e-05)\n",
      "     | > avg_loss_dur:\u001b[92m 0.5521535351872444 \u001b[0m(-0.0014634430408477783)\n",
      "\n"
     ]
    },
    {
     "name": "stdout",
     "output_type": "stream",
     "text": [
      " | > Synthesizing test sentences.\n"
     ]
    },
    {
     "name": "stderr",
     "output_type": "stream",
     "text": [
      "\n",
      "  \u001b[1m--> EVAL PERFORMANCE\u001b[0m\n",
      "     | > avg_loader_time: 0.0021099448204040527 \u001b[0m(+0.0)\n",
      "     | > avg_loss: 0.315464623272419 \u001b[0m(+0.0)\n",
      "     | > avg_log_mle: -0.23668891191482544 \u001b[0m(+0.0)\n",
      "     | > avg_loss_dur: 0.5521535351872444 \u001b[0m(+0.0)\n",
      "\n",
      " > BEST MODEL : /content/drive/MyDrive/dataset/cloned/run-July-22-2023_10+56AM-0000000/best_model_14342.pth\n",
      "\n",
      "\u001b[4m\u001b[1m > EPOCH: 142/150\u001b[0m\n",
      " --> /content/drive/MyDrive/dataset/cloned/run-July-22-2023_10+56AM-0000000\n",
      "\n",
      "\u001b[1m > TRAINING (2023-07-22 13:26:45) \u001b[0m\n"
     ]
    },
    {
     "name": "stdout",
     "output_type": "stream",
     "text": [
      "We make all our packaging from one hundred% recycled trash, from ocean bound plastic to landfills.\n",
      " [!] Character '%' not found in the vocabulary. Discarding it.\n"
     ]
    },
    {
     "name": "stderr",
     "output_type": "stream",
     "text": [
      "\n",
      "\u001b[1m > EVALUATION \u001b[0m\n",
      "\n",
      "\n",
      "  \u001b[1m--> EVAL PERFORMANCE\u001b[0m\n",
      "     | > avg_loader_time:\u001b[91m 0.0021859407424926758 \u001b[0m(+7.599592208862305e-05)\n",
      "     | > avg_loss:\u001b[92m 0.3044039160013199 \u001b[0m(-0.01106070727109909)\n",
      "     | > avg_log_mle:\u001b[92m -0.25045841932296753 \u001b[0m(-0.01376950740814209)\n",
      "     | > avg_loss_dur:\u001b[91m 0.5548623353242874 \u001b[0m(+0.0027088001370429993)\n",
      "\n"
     ]
    },
    {
     "name": "stdout",
     "output_type": "stream",
     "text": [
      " | > Synthesizing test sentences.\n"
     ]
    },
    {
     "name": "stderr",
     "output_type": "stream",
     "text": [
      "\n",
      "  \u001b[1m--> EVAL PERFORMANCE\u001b[0m\n",
      "     | > avg_loader_time: 0.0021859407424926758 \u001b[0m(+0.0)\n",
      "     | > avg_loss: 0.3044039160013199 \u001b[0m(+0.0)\n",
      "     | > avg_log_mle: -0.25045841932296753 \u001b[0m(+0.0)\n",
      "     | > avg_loss_dur: 0.5548623353242874 \u001b[0m(+0.0)\n",
      "\n",
      " > BEST MODEL : /content/drive/MyDrive/dataset/cloned/run-July-22-2023_10+56AM-0000000/best_model_14443.pth\n",
      "\n",
      "\u001b[4m\u001b[1m > EPOCH: 143/150\u001b[0m\n",
      " --> /content/drive/MyDrive/dataset/cloned/run-July-22-2023_10+56AM-0000000\n",
      "\n",
      "\u001b[1m > TRAINING (2023-07-22 13:27:46) \u001b[0m\n"
     ]
    },
    {
     "name": "stdout",
     "output_type": "stream",
     "text": [
      "We make all our packaging from one hundred% recycled trash, from ocean bound plastic to landfills.\n",
      " [!] Character '%' not found in the vocabulary. Discarding it.\n"
     ]
    },
    {
     "name": "stderr",
     "output_type": "stream",
     "text": [
      "\n",
      "\u001b[1m > EVALUATION \u001b[0m\n",
      "\n",
      "\n",
      "  \u001b[1m--> EVAL PERFORMANCE\u001b[0m\n",
      "     | > avg_loader_time:\u001b[92m 0.001990795135498047 \u001b[0m(-0.0001951456069946289)\n",
      "     | > avg_loss:\u001b[91m 0.3281475454568863 \u001b[0m(+0.023743629455566406)\n",
      "     | > avg_log_mle:\u001b[91m -0.2469252645969391 \u001b[0m(+0.0035331547260284424)\n",
      "     | > avg_loss_dur:\u001b[91m 0.5750728100538254 \u001b[0m(+0.020210474729537964)\n",
      "\n"
     ]
    },
    {
     "name": "stdout",
     "output_type": "stream",
     "text": [
      " | > Synthesizing test sentences.\n"
     ]
    },
    {
     "name": "stderr",
     "output_type": "stream",
     "text": [
      "\n",
      "  \u001b[1m--> EVAL PERFORMANCE\u001b[0m\n",
      "     | > avg_loader_time: 0.001990795135498047 \u001b[0m(+0.0)\n",
      "     | > avg_loss: 0.3281475454568863 \u001b[0m(+0.0)\n",
      "     | > avg_log_mle: -0.2469252645969391 \u001b[0m(+0.0)\n",
      "     | > avg_loss_dur: 0.5750728100538254 \u001b[0m(+0.0)\n",
      "\n",
      "\n",
      "\u001b[4m\u001b[1m > EPOCH: 144/150\u001b[0m\n",
      " --> /content/drive/MyDrive/dataset/cloned/run-July-22-2023_10+56AM-0000000\n",
      "\n",
      "\u001b[1m > TRAINING (2023-07-22 13:28:46) \u001b[0m\n"
     ]
    },
    {
     "name": "stdout",
     "output_type": "stream",
     "text": [
      "We make all our packaging from one hundred% recycled trash, from ocean bound plastic to landfills.\n",
      " [!] Character '%' not found in the vocabulary. Discarding it.\n"
     ]
    },
    {
     "name": "stderr",
     "output_type": "stream",
     "text": [
      "\n",
      "\u001b[1m > EVALUATION \u001b[0m\n",
      "\n",
      "\n",
      "  \u001b[1m--> EVAL PERFORMANCE\u001b[0m\n",
      "     | > avg_loader_time:\u001b[92m 0.0016252994537353516 \u001b[0m(-0.0003654956817626953)\n",
      "     | > avg_loss:\u001b[92m 0.3225182741880417 \u001b[0m(-0.0056292712688446045)\n",
      "     | > avg_log_mle:\u001b[91m -0.2339065968990326 \u001b[0m(+0.013018667697906494)\n",
      "     | > avg_loss_dur:\u001b[92m 0.5564248710870743 \u001b[0m(-0.0186479389667511)\n",
      "\n"
     ]
    },
    {
     "name": "stdout",
     "output_type": "stream",
     "text": [
      " | > Synthesizing test sentences.\n"
     ]
    },
    {
     "name": "stderr",
     "output_type": "stream",
     "text": [
      "\n",
      "  \u001b[1m--> EVAL PERFORMANCE\u001b[0m\n",
      "     | > avg_loader_time: 0.0016252994537353516 \u001b[0m(+0.0)\n",
      "     | > avg_loss: 0.3225182741880417 \u001b[0m(+0.0)\n",
      "     | > avg_log_mle: -0.2339065968990326 \u001b[0m(+0.0)\n",
      "     | > avg_loss_dur: 0.5564248710870743 \u001b[0m(+0.0)\n",
      "\n",
      "\n",
      "\u001b[4m\u001b[1m > EPOCH: 145/150\u001b[0m\n",
      " --> /content/drive/MyDrive/dataset/cloned/run-July-22-2023_10+56AM-0000000\n",
      "\n",
      "\u001b[1m > TRAINING (2023-07-22 13:29:43) \u001b[0m\n"
     ]
    },
    {
     "name": "stdout",
     "output_type": "stream",
     "text": [
      "We make all our packaging from one hundred% recycled trash, from ocean bound plastic to landfills.\n",
      " [!] Character '%' not found in the vocabulary. Discarding it.\n"
     ]
    },
    {
     "name": "stderr",
     "output_type": "stream",
     "text": [
      "\n",
      "\u001b[1m > EVALUATION \u001b[0m\n",
      "\n",
      "\n",
      "  \u001b[1m--> EVAL PERFORMANCE\u001b[0m\n",
      "     | > avg_loader_time:\u001b[92m 0.0015410184860229492 \u001b[0m(-8.428096771240234e-05)\n",
      "     | > avg_loss:\u001b[92m 0.31780730932950974 \u001b[0m(-0.004710964858531952)\n",
      "     | > avg_log_mle:\u001b[92m -0.2468453049659729 \u001b[0m(-0.012938708066940308)\n",
      "     | > avg_loss_dur:\u001b[91m 0.5646526142954826 \u001b[0m(+0.008227743208408356)\n",
      "\n"
     ]
    },
    {
     "name": "stdout",
     "output_type": "stream",
     "text": [
      " | > Synthesizing test sentences.\n"
     ]
    },
    {
     "name": "stderr",
     "output_type": "stream",
     "text": [
      "\n",
      "  \u001b[1m--> EVAL PERFORMANCE\u001b[0m\n",
      "     | > avg_loader_time: 0.0015410184860229492 \u001b[0m(+0.0)\n",
      "     | > avg_loss: 0.31780730932950974 \u001b[0m(+0.0)\n",
      "     | > avg_log_mle: -0.2468453049659729 \u001b[0m(+0.0)\n",
      "     | > avg_loss_dur: 0.5646526142954826 \u001b[0m(+0.0)\n",
      "\n",
      "\n",
      "\u001b[4m\u001b[1m > EPOCH: 146/150\u001b[0m\n",
      " --> /content/drive/MyDrive/dataset/cloned/run-July-22-2023_10+56AM-0000000\n",
      "\n",
      "\u001b[1m > TRAINING (2023-07-22 13:30:38) \u001b[0m\n"
     ]
    },
    {
     "name": "stdout",
     "output_type": "stream",
     "text": [
      "We make all our packaging from one hundred% recycled trash, from ocean bound plastic to landfills.\n",
      " [!] Character '%' not found in the vocabulary. Discarding it.\n"
     ]
    },
    {
     "name": "stderr",
     "output_type": "stream",
     "text": [
      "\n",
      "\u001b[1m > EVALUATION \u001b[0m\n",
      "\n",
      "\n",
      "  \u001b[1m--> EVAL PERFORMANCE\u001b[0m\n",
      "     | > avg_loader_time:\u001b[91m 0.0015418529510498047 \u001b[0m(+8.344650268554688e-07)\n",
      "     | > avg_loss:\u001b[91m 0.32275013625621796 \u001b[0m(+0.0049428269267082214)\n",
      "     | > avg_log_mle:\u001b[91m -0.2376108467578888 \u001b[0m(+0.009234458208084106)\n",
      "     | > avg_loss_dur:\u001b[92m 0.5603609830141068 \u001b[0m(-0.004291631281375885)\n",
      "\n"
     ]
    },
    {
     "name": "stdout",
     "output_type": "stream",
     "text": [
      " | > Synthesizing test sentences.\n"
     ]
    },
    {
     "name": "stderr",
     "output_type": "stream",
     "text": [
      "\n",
      "  \u001b[1m--> EVAL PERFORMANCE\u001b[0m\n",
      "     | > avg_loader_time: 0.0015418529510498047 \u001b[0m(+0.0)\n",
      "     | > avg_loss: 0.32275013625621796 \u001b[0m(+0.0)\n",
      "     | > avg_log_mle: -0.2376108467578888 \u001b[0m(+0.0)\n",
      "     | > avg_loss_dur: 0.5603609830141068 \u001b[0m(+0.0)\n",
      "\n",
      "\n",
      "\u001b[4m\u001b[1m > EPOCH: 147/150\u001b[0m\n",
      " --> /content/drive/MyDrive/dataset/cloned/run-July-22-2023_10+56AM-0000000\n",
      "\n",
      "\u001b[1m > TRAINING (2023-07-22 13:31:34) \u001b[0m\n"
     ]
    },
    {
     "name": "stdout",
     "output_type": "stream",
     "text": [
      "We make all our packaging from one hundred% recycled trash, from ocean bound plastic to landfills.\n",
      " [!] Character '%' not found in the vocabulary. Discarding it.\n"
     ]
    },
    {
     "name": "stderr",
     "output_type": "stream",
     "text": [
      "\n",
      "\u001b[1m > EVALUATION \u001b[0m\n",
      "\n",
      "\n",
      "  \u001b[1m--> EVAL PERFORMANCE\u001b[0m\n",
      "     | > avg_loader_time:\u001b[91m 0.001670539379119873 \u001b[0m(+0.00012868642807006836)\n",
      "     | > avg_loss:\u001b[92m 0.3012843355536461 \u001b[0m(-0.02146580070257187)\n",
      "     | > avg_log_mle:\u001b[92m -0.26656344532966614 \u001b[0m(-0.028952598571777344)\n",
      "     | > avg_loss_dur:\u001b[91m 0.5678477808833122 \u001b[0m(+0.007486797869205475)\n",
      "\n"
     ]
    },
    {
     "name": "stdout",
     "output_type": "stream",
     "text": [
      " | > Synthesizing test sentences.\n"
     ]
    },
    {
     "name": "stderr",
     "output_type": "stream",
     "text": [
      "\n",
      "  \u001b[1m--> EVAL PERFORMANCE\u001b[0m\n",
      "     | > avg_loader_time: 0.001670539379119873 \u001b[0m(+0.0)\n",
      "     | > avg_loss: 0.3012843355536461 \u001b[0m(+0.0)\n",
      "     | > avg_log_mle: -0.26656344532966614 \u001b[0m(+0.0)\n",
      "     | > avg_loss_dur: 0.5678477808833122 \u001b[0m(+0.0)\n",
      "\n",
      " > BEST MODEL : /content/drive/MyDrive/dataset/cloned/run-July-22-2023_10+56AM-0000000/best_model_14948.pth\n",
      "\n",
      "\u001b[4m\u001b[1m > EPOCH: 148/150\u001b[0m\n",
      " --> /content/drive/MyDrive/dataset/cloned/run-July-22-2023_10+56AM-0000000\n",
      "\n",
      "\u001b[1m > TRAINING (2023-07-22 13:32:37) \u001b[0m\n"
     ]
    },
    {
     "name": "stdout",
     "output_type": "stream",
     "text": [
      "We make all our packaging from one hundred% recycled trash, from ocean bound plastic to landfills.\n",
      " [!] Character '%' not found in the vocabulary. Discarding it.\n"
     ]
    },
    {
     "name": "stderr",
     "output_type": "stream",
     "text": [
      "\n",
      "\u001b[1m   --> TIME: 2023-07-22 13:33:00 -- STEP: 52/101 -- GLOBAL_STEP: 15000\u001b[0m\n",
      "     | > loss: 0.2369225025177002  (0.26576899450558883)\n",
      "     | > log_mle: -0.2993631362915039  (-0.3134770439221307)\n",
      "     | > loss_dur: 0.5362856388092041  (0.5792460384277197)\n",
      "     | > amp_scaler: 4096.0  (4096.0)\n",
      "     | > grad_norm: tensor(32.9761, device='cuda:0')  (tensor(36.5938, device='cuda:0'))\n",
      "     | > current_lr: 1.8500000000000002e-05 \n",
      "     | > step_time: 0.3118  (0.39590052916453433)\n",
      "     | > loader_time: 0.0073  (0.005922991495866042)\n",
      "\n",
      "\n",
      "\u001b[1m > EVALUATION \u001b[0m\n",
      "\n",
      "\n",
      "  \u001b[1m--> EVAL PERFORMANCE\u001b[0m\n",
      "     | > avg_loader_time:\u001b[91m 0.0018841028213500977 \u001b[0m(+0.0002135634422302246)\n",
      "     | > avg_loss:\u001b[92m 0.29880087077617645 \u001b[0m(-0.002483464777469635)\n",
      "     | > avg_log_mle:\u001b[91m -0.2553394138813019 \u001b[0m(+0.011224031448364258)\n",
      "     | > avg_loss_dur:\u001b[92m 0.5541402846574783 \u001b[0m(-0.013707496225833893)\n",
      "\n"
     ]
    },
    {
     "name": "stdout",
     "output_type": "stream",
     "text": [
      " | > Synthesizing test sentences.\n"
     ]
    },
    {
     "name": "stderr",
     "output_type": "stream",
     "text": [
      "\n",
      "  \u001b[1m--> EVAL PERFORMANCE\u001b[0m\n",
      "     | > avg_loader_time: 0.0018841028213500977 \u001b[0m(+0.0)\n",
      "     | > avg_loss: 0.29880087077617645 \u001b[0m(+0.0)\n",
      "     | > avg_log_mle: -0.2553394138813019 \u001b[0m(+0.0)\n",
      "     | > avg_loss_dur: 0.5541402846574783 \u001b[0m(+0.0)\n",
      "\n",
      " > BEST MODEL : /content/drive/MyDrive/dataset/cloned/run-July-22-2023_10+56AM-0000000/best_model_15049.pth\n",
      "\n",
      "\u001b[4m\u001b[1m > EPOCH: 149/150\u001b[0m\n",
      " --> /content/drive/MyDrive/dataset/cloned/run-July-22-2023_10+56AM-0000000\n",
      "\n",
      "\u001b[1m > TRAINING (2023-07-22 13:33:47) \u001b[0m\n"
     ]
    },
    {
     "name": "stdout",
     "output_type": "stream",
     "text": [
      "We make all our packaging from one hundred% recycled trash, from ocean bound plastic to landfills.\n",
      " [!] Character '%' not found in the vocabulary. Discarding it.\n"
     ]
    },
    {
     "name": "stderr",
     "output_type": "stream",
     "text": [
      "\n",
      "\u001b[1m > EVALUATION \u001b[0m\n",
      "\n",
      "\n",
      "  \u001b[1m--> EVAL PERFORMANCE\u001b[0m\n",
      "     | > avg_loader_time:\u001b[92m 0.0015705227851867676 \u001b[0m(-0.0003135800361633301)\n",
      "     | > avg_loss:\u001b[92m 0.2887064963579178 \u001b[0m(-0.010094374418258667)\n",
      "     | > avg_log_mle:\u001b[92m -0.2587181031703949 \u001b[0m(-0.0033786892890930176)\n",
      "     | > avg_loss_dur:\u001b[92m 0.5474245995283127 \u001b[0m(-0.006715685129165649)\n",
      "\n"
     ]
    },
    {
     "name": "stdout",
     "output_type": "stream",
     "text": [
      " | > Synthesizing test sentences.\n"
     ]
    },
    {
     "name": "stderr",
     "output_type": "stream",
     "text": [
      "\n",
      "  \u001b[1m--> EVAL PERFORMANCE\u001b[0m\n",
      "     | > avg_loader_time: 0.0015705227851867676 \u001b[0m(+0.0)\n",
      "     | > avg_loss: 0.2887064963579178 \u001b[0m(+0.0)\n",
      "     | > avg_log_mle: -0.2587181031703949 \u001b[0m(+0.0)\n",
      "     | > avg_loss_dur: 0.5474245995283127 \u001b[0m(+0.0)\n",
      "\n",
      " > BEST MODEL : /content/drive/MyDrive/dataset/cloned/run-July-22-2023_10+56AM-0000000/best_model_15150.pth\n"
     ]
    }
   ],
   "source": [
    "trainer.fit()"
   ]
  },
  {
   "cell_type": "code",
   "execution_count": null,
   "metadata": {
    "id": "ze97iyZTxi2G"
   },
   "outputs": [],
   "source": [
    "import locale\n",
    "locale.getpreferredencoding = lambda: \"UTF-8\""
   ]
  },
  {
   "cell_type": "code",
   "execution_count": null,
   "metadata": {
    "id": "N6sbEnHErXN2"
   },
   "outputs": [],
   "source": [
    "# !pip install tensorboard\n",
    "# !tensorboard --logdir=output_patha"
   ]
  },
  {
   "cell_type": "code",
   "execution_count": null,
   "metadata": {
    "id": "mvqN3cXSr-bc"
   },
   "outputs": [],
   "source": [
    "import glob, os\n",
    "output_path = \"/content/drive/MyDrive/dataset/cloned\"\n",
    "ckpts = sorted([f for f in glob.glob(output_path+\"/*/*.pth\")])\n",
    "configs = sorted([f for f in glob.glob(output_path+\"/*/*.json\")])"
   ]
  },
  {
   "cell_type": "code",
   "execution_count": null,
   "metadata": {
    "colab": {
     "base_uri": "https://localhost:8080/"
    },
    "id": "ZfYKlzgPsD3M",
    "outputId": "28694b3d-8bbc-4557-a786-3e8587777e7c"
   },
   "outputs": [
    {
     "name": "stdout",
     "output_type": "stream",
     "text": [
      " > Using model: glow_tts\n",
      " > Setting up Audio Processor...\n",
      " | > sample_rate:22050\n",
      " | > resample:False\n",
      " | > num_mels:80\n",
      " | > log_func:np.log10\n",
      " | > min_level_db:-100\n",
      " | > frame_shift_ms:None\n",
      " | > frame_length_ms:None\n",
      " | > ref_level_db:20\n",
      " | > fft_size:1024\n",
      " | > power:1.5\n",
      " | > preemphasis:0.0\n",
      " | > griffin_lim_iters:60\n",
      " | > signal_norm:True\n",
      " | > symmetric_norm:True\n",
      " | > mel_fmin:0\n",
      " | > mel_fmax:None\n",
      " | > pitch_fmin:1.0\n",
      " | > pitch_fmax:640.0\n",
      " | > spec_gain:20.0\n",
      " | > stft_pad_mode:reflect\n",
      " | > max_norm:4.0\n",
      " | > clip_norm:True\n",
      " | > do_trim_silence:True\n",
      " | > trim_db:45\n",
      " | > do_sound_norm:False\n",
      " | > do_amp_to_db_linear:True\n",
      " | > do_amp_to_db_mel:True\n",
      " | > do_rms_norm:False\n",
      " | > db_level:None\n",
      " | > stats_path:None\n",
      " | > base:10\n",
      " | > hop_length:256\n",
      " | > win_length:1024\n",
      " > Text: what is she doing in her room?\n",
      " > Text splitted to sentences.\n",
      "['what is she doing in her room?']\n",
      " > Processing time: 0.8253462314605713\n",
      " > Real-time factor: 0.5004092719892652\n",
      " > Saving output to out.wav\n"
     ]
    }
   ],
   "source": [
    " !tts --text \"what is she doing in her room?\" \\\n",
    "      --model_path  /content/drive/MyDrive/dataset/cloned/run-July-22-2023_10+56AM-0000000/best_model_15150.pth \\\n",
    "      --config_path /content/drive/MyDrive/dataset/cloned/run-July-22-2023_10+56AM-0000000/config.json \\\n",
    "      --out_path out.wav"
   ]
  },
  {
   "cell_type": "code",
   "execution_count": null,
   "metadata": {
    "colab": {
     "base_uri": "https://localhost:8080/"
    },
    "id": "7L0GEjCMwl-y",
    "outputId": "f03a2ca3-cdb2-429f-eaa9-3a98e9b60720"
   },
   "outputs": [
    {
     "name": "stdout",
     "output_type": "stream",
     "text": [
      "Requirement already satisfied: pydub in /usr/local/lib/python3.10/dist-packages (0.25.1)\n"
     ]
    }
   ],
   "source": [
    "! pip install pydub"
   ]
  },
  {
   "cell_type": "code",
   "execution_count": null,
   "metadata": {
    "id": "fOJCIt4JwlG-"
   },
   "outputs": [],
   "source": [
    "from pydub import AudioSegment as am\n",
    "sound = am.from_file('out.wav', format='wav', frame_rate=16000)\n",
    "# sound = sound.set_frame_rate(8000)\n",
    "# sound.export('out.wav', format='wav')"
   ]
  },
  {
   "cell_type": "code",
   "execution_count": null,
   "metadata": {
    "colab": {
     "base_uri": "https://localhost:8080/",
     "height": 75
    },
    "id": "JlHkk_rXx15A",
    "outputId": "1b7a30cb-be8d-4799-8f88-186b9336cb5a"
   },
   "outputs": [
    {
     "data": {
      "text/html": [
       "\n",
       "                    <audio controls>\n",
       "                        <source src=\"data:audio/mpeg;base64,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\" type=\"audio/mpeg\"/>\n",
       "                        Your browser does not support the audio element.\n",
       "                    </audio>\n",
       "                  "
      ],
      "text/plain": [
       "<pydub.audio_segment.AudioSegment at 0x7afcfbac5630>"
      ]
     },
     "execution_count": 58,
     "metadata": {},
     "output_type": "execute_result"
    }
   ],
   "source": [
    "sound"
   ]
  },
  {
   "cell_type": "code",
   "execution_count": null,
   "metadata": {
    "id": "a3Of8iekwfkc"
   },
   "outputs": [],
   "source": []
  }
 ],
 "metadata": {
  "accelerator": "GPU",
  "colab": {
   "gpuType": "T4",
   "include_colab_link": true,
   "provenance": []
  },
  "kernelspec": {
   "display_name": "Python 3 (ipykernel)",
   "language": "python",
   "name": "python3"
  },
  "language_info": {
   "codemirror_mode": {
    "name": "ipython",
    "version": 3
   },
   "file_extension": ".py",
   "mimetype": "text/x-python",
   "name": "python",
   "nbconvert_exporter": "python",
   "pygments_lexer": "ipython3",
   "version": "3.10.12"
  },
  "widgets": {
   "application/vnd.jupyter.widget-state+json": {
    "073f12c2f5f148d5abbd7239810888d7": {
     "model_module": "@jupyter-widgets/base",
     "model_module_version": "1.2.0",
     "model_name": "LayoutModel",
     "state": {
      "_model_module": "@jupyter-widgets/base",
      "_model_module_version": "1.2.0",
      "_model_name": "LayoutModel",
      "_view_count": null,
      "_view_module": "@jupyter-widgets/base",
      "_view_module_version": "1.2.0",
      "_view_name": "LayoutView",
      "align_content": null,
      "align_items": null,
      "align_self": null,
      "border": null,
      "bottom": null,
      "display": null,
      "flex": null,
      "flex_flow": null,
      "grid_area": null,
      "grid_auto_columns": null,
      "grid_auto_flow": null,
      "grid_auto_rows": null,
      "grid_column": null,
      "grid_gap": null,
      "grid_row": null,
      "grid_template_areas": null,
      "grid_template_columns": null,
      "grid_template_rows": null,
      "height": null,
      "justify_content": null,
      "justify_items": null,
      "left": null,
      "margin": null,
      "max_height": null,
      "max_width": null,
      "min_height": null,
      "min_width": null,
      "object_fit": null,
      "object_position": null,
      "order": null,
      "overflow": null,
      "overflow_x": null,
      "overflow_y": null,
      "padding": null,
      "right": null,
      "top": null,
      "visibility": null,
      "width": null
     }
    },
    "0ffdc3c9bc9b4b9c83183a6fa054c32c": {
     "model_module": "@jupyter-widgets/controls",
     "model_module_version": "1.5.0",
     "model_name": "ProgressStyleModel",
     "state": {
      "_model_module": "@jupyter-widgets/controls",
      "_model_module_version": "1.5.0",
      "_model_name": "ProgressStyleModel",
      "_view_count": null,
      "_view_module": "@jupyter-widgets/base",
      "_view_module_version": "1.2.0",
      "_view_name": "StyleView",
      "bar_color": null,
      "description_width": ""
     }
    },
    "245a66dda5754ba4a5fa5a3d63e79185": {
     "model_module": "@jupyter-widgets/base",
     "model_module_version": "1.2.0",
     "model_name": "LayoutModel",
     "state": {
      "_model_module": "@jupyter-widgets/base",
      "_model_module_version": "1.2.0",
      "_model_name": "LayoutModel",
      "_view_count": null,
      "_view_module": "@jupyter-widgets/base",
      "_view_module_version": "1.2.0",
      "_view_name": "LayoutView",
      "align_content": null,
      "align_items": null,
      "align_self": null,
      "border": null,
      "bottom": null,
      "display": null,
      "flex": null,
      "flex_flow": null,
      "grid_area": null,
      "grid_auto_columns": null,
      "grid_auto_flow": null,
      "grid_auto_rows": null,
      "grid_column": null,
      "grid_gap": null,
      "grid_row": null,
      "grid_template_areas": null,
      "grid_template_columns": null,
      "grid_template_rows": null,
      "height": null,
      "justify_content": null,
      "justify_items": null,
      "left": null,
      "margin": null,
      "max_height": null,
      "max_width": null,
      "min_height": null,
      "min_width": null,
      "object_fit": null,
      "object_position": null,
      "order": null,
      "overflow": null,
      "overflow_x": null,
      "overflow_y": null,
      "padding": null,
      "right": null,
      "top": null,
      "visibility": null,
      "width": null
     }
    },
    "4ea69e4f9c6e481f9a84c571041da1dd": {
     "model_module": "@jupyter-widgets/controls",
     "model_module_version": "1.5.0",
     "model_name": "DescriptionStyleModel",
     "state": {
      "_model_module": "@jupyter-widgets/controls",
      "_model_module_version": "1.5.0",
      "_model_name": "DescriptionStyleModel",
      "_view_count": null,
      "_view_module": "@jupyter-widgets/base",
      "_view_module_version": "1.2.0",
      "_view_name": "StyleView",
      "description_width": ""
     }
    },
    "503fdffb7deb425a842f30aa625eb93b": {
     "model_module": "@jupyter-widgets/base",
     "model_module_version": "1.2.0",
     "model_name": "LayoutModel",
     "state": {
      "_model_module": "@jupyter-widgets/base",
      "_model_module_version": "1.2.0",
      "_model_name": "LayoutModel",
      "_view_count": null,
      "_view_module": "@jupyter-widgets/base",
      "_view_module_version": "1.2.0",
      "_view_name": "LayoutView",
      "align_content": null,
      "align_items": null,
      "align_self": null,
      "border": null,
      "bottom": null,
      "display": null,
      "flex": null,
      "flex_flow": null,
      "grid_area": null,
      "grid_auto_columns": null,
      "grid_auto_flow": null,
      "grid_auto_rows": null,
      "grid_column": null,
      "grid_gap": null,
      "grid_row": null,
      "grid_template_areas": null,
      "grid_template_columns": null,
      "grid_template_rows": null,
      "height": null,
      "justify_content": null,
      "justify_items": null,
      "left": null,
      "margin": null,
      "max_height": null,
      "max_width": null,
      "min_height": null,
      "min_width": null,
      "object_fit": null,
      "object_position": null,
      "order": null,
      "overflow": null,
      "overflow_x": null,
      "overflow_y": null,
      "padding": null,
      "right": null,
      "top": null,
      "visibility": "hidden",
      "width": null
     }
    },
    "623dbe05c37c4499abf4dff0a772dff1": {
     "model_module": "@jupyter-widgets/controls",
     "model_module_version": "1.5.0",
     "model_name": "HTMLModel",
     "state": {
      "_dom_classes": [],
      "_model_module": "@jupyter-widgets/controls",
      "_model_module_version": "1.5.0",
      "_model_name": "HTMLModel",
      "_view_count": null,
      "_view_module": "@jupyter-widgets/controls",
      "_view_module_version": "1.5.0",
      "_view_name": "HTMLView",
      "description": "",
      "description_tooltip": null,
      "layout": "IPY_MODEL_93217244974540a5a93a812531f2fd63",
      "placeholder": "​",
      "style": "IPY_MODEL_6f50427e02564d2a983b7cf420b3709d",
      "value": "Map:   0%"
     }
    },
    "6f50427e02564d2a983b7cf420b3709d": {
     "model_module": "@jupyter-widgets/controls",
     "model_module_version": "1.5.0",
     "model_name": "DescriptionStyleModel",
     "state": {
      "_model_module": "@jupyter-widgets/controls",
      "_model_module_version": "1.5.0",
      "_model_name": "DescriptionStyleModel",
      "_view_count": null,
      "_view_module": "@jupyter-widgets/base",
      "_view_module_version": "1.2.0",
      "_view_name": "StyleView",
      "description_width": ""
     }
    },
    "748ed84f75c9490ab438f43933b5bd72": {
     "model_module": "@jupyter-widgets/controls",
     "model_module_version": "1.5.0",
     "model_name": "FloatProgressModel",
     "state": {
      "_dom_classes": [],
      "_model_module": "@jupyter-widgets/controls",
      "_model_module_version": "1.5.0",
      "_model_name": "FloatProgressModel",
      "_view_count": null,
      "_view_module": "@jupyter-widgets/controls",
      "_view_module_version": "1.5.0",
      "_view_name": "ProgressView",
      "bar_style": "",
      "description": "",
      "description_tooltip": null,
      "layout": "IPY_MODEL_245a66dda5754ba4a5fa5a3d63e79185",
      "max": 212,
      "min": 0,
      "orientation": "horizontal",
      "style": "IPY_MODEL_0ffdc3c9bc9b4b9c83183a6fa054c32c",
      "value": 212
     }
    },
    "93217244974540a5a93a812531f2fd63": {
     "model_module": "@jupyter-widgets/base",
     "model_module_version": "1.2.0",
     "model_name": "LayoutModel",
     "state": {
      "_model_module": "@jupyter-widgets/base",
      "_model_module_version": "1.2.0",
      "_model_name": "LayoutModel",
      "_view_count": null,
      "_view_module": "@jupyter-widgets/base",
      "_view_module_version": "1.2.0",
      "_view_name": "LayoutView",
      "align_content": null,
      "align_items": null,
      "align_self": null,
      "border": null,
      "bottom": null,
      "display": null,
      "flex": null,
      "flex_flow": null,
      "grid_area": null,
      "grid_auto_columns": null,
      "grid_auto_flow": null,
      "grid_auto_rows": null,
      "grid_column": null,
      "grid_gap": null,
      "grid_row": null,
      "grid_template_areas": null,
      "grid_template_columns": null,
      "grid_template_rows": null,
      "height": null,
      "justify_content": null,
      "justify_items": null,
      "left": null,
      "margin": null,
      "max_height": null,
      "max_width": null,
      "min_height": null,
      "min_width": null,
      "object_fit": null,
      "object_position": null,
      "order": null,
      "overflow": null,
      "overflow_x": null,
      "overflow_y": null,
      "padding": null,
      "right": null,
      "top": null,
      "visibility": null,
      "width": null
     }
    },
    "a4d1a5ad6ee045a08551624ce598675e": {
     "model_module": "@jupyter-widgets/controls",
     "model_module_version": "1.5.0",
     "model_name": "HTMLModel",
     "state": {
      "_dom_classes": [],
      "_model_module": "@jupyter-widgets/controls",
      "_model_module_version": "1.5.0",
      "_model_name": "HTMLModel",
      "_view_count": null,
      "_view_module": "@jupyter-widgets/controls",
      "_view_module_version": "1.5.0",
      "_view_name": "HTMLView",
      "description": "",
      "description_tooltip": null,
      "layout": "IPY_MODEL_073f12c2f5f148d5abbd7239810888d7",
      "placeholder": "​",
      "style": "IPY_MODEL_4ea69e4f9c6e481f9a84c571041da1dd",
      "value": " 0/212 [00:00&lt;?, ? examples/s]"
     }
    },
    "f9af0cb7608246ef96e8eb8cd9af8b42": {
     "model_module": "@jupyter-widgets/controls",
     "model_module_version": "1.5.0",
     "model_name": "HBoxModel",
     "state": {
      "_dom_classes": [],
      "_model_module": "@jupyter-widgets/controls",
      "_model_module_version": "1.5.0",
      "_model_name": "HBoxModel",
      "_view_count": null,
      "_view_module": "@jupyter-widgets/controls",
      "_view_module_version": "1.5.0",
      "_view_name": "HBoxView",
      "box_style": "",
      "children": [
       "IPY_MODEL_623dbe05c37c4499abf4dff0a772dff1",
       "IPY_MODEL_748ed84f75c9490ab438f43933b5bd72",
       "IPY_MODEL_a4d1a5ad6ee045a08551624ce598675e"
      ],
      "layout": "IPY_MODEL_503fdffb7deb425a842f30aa625eb93b"
     }
    }
   }
  }
 },
 "nbformat": 4,
 "nbformat_minor": 4
}
