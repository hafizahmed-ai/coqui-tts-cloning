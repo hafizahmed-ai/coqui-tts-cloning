{
  "cells": [
    {
      "cell_type": "markdown",
      "metadata": {
        "id": "view-in-github",
        "colab_type": "text"
      },
      "source": [
        "<a href=\"https://colab.research.google.com/github/anujsahani01/VoiceCloning-coqi-TTS/blob/main/Voice_Cloning.ipynb\" target=\"_parent\"><img src=\"https://colab.research.google.com/assets/colab-badge.svg\" alt=\"Open In Colab\"/></a>"
      ]
    },
    {
      "cell_type": "code",
      "execution_count": null,
      "metadata": {
        "colab": {
          "base_uri": "https://localhost:8080/"
        },
        "id": "014b0G-41SDh",
        "outputId": "2edd8e0f-2fe8-4f63-af73-d40eb2c676a3"
      },
      "outputs": [
        {
          "output_type": "stream",
          "name": "stdout",
          "text": [
            "Mounted at /content/drive\n"
          ]
        }
      ],
      "source": [
        "from google.colab import drive\n",
        "drive.mount(\"/content/drive\")"
      ]
    },
    {
      "cell_type": "code",
      "execution_count": null,
      "metadata": {
        "colab": {
          "base_uri": "https://localhost:8080/"
        },
        "id": "85JrUM43dKrX",
        "outputId": "51d9705e-e6c0-4013-82c2-7362a01bdb3d"
      },
      "outputs": [
        {
          "output_type": "stream",
          "name": "stdout",
          "text": [
            "Cloning into 'TTS'...\n",
            "remote: Enumerating objects: 30506, done.\u001b[K\n",
            "remote: Counting objects: 100% (1187/1187), done.\u001b[K\n",
            "remote: Compressing objects: 100% (354/354), done.\u001b[K\n",
            "remote: Total 30506 (delta 852), reused 1097 (delta 819), pack-reused 29319\u001b[K\n",
            "Receiving objects: 100% (30506/30506), 159.38 MiB | 16.38 MiB/s, done.\n",
            "Resolving deltas: 100% (22113/22113), done.\n"
          ]
        }
      ],
      "source": [
        "! git clone https://github.com/coqui-ai/TTS.git\n",
        "! pip install -r /content/TTS/requirements.txt"
      ]
    },
    {
      "cell_type": "code",
      "execution_count": null,
      "metadata": {
        "colab": {
          "base_uri": "https://localhost:8080/"
        },
        "id": "ZqCFXdHmm33L",
        "outputId": "18009164-4636-4449-8381-85323248a9a0"
      },
      "outputs": [
        {
          "output_type": "stream",
          "name": "stdout",
          "text": [
            "Cloning into 'rnnoise'...\n",
            "remote: Enumerating objects: 420, done.\u001b[K\n",
            "remote: Counting objects: 100% (219/219), done.\u001b[K\n",
            "remote: Compressing objects: 100% (27/27), done.\u001b[K\n",
            "remote: Total 420 (delta 194), reused 192 (delta 192), pack-reused 201\u001b[K\n",
            "Receiving objects: 100% (420/420), 836.04 KiB | 11.61 MiB/s, done.\n",
            "Resolving deltas: 100% (221/221), done.\n"
          ]
        }
      ],
      "source": [
        "!git clone https://github.com/xiph/rnnoise.git"
      ]
    },
    {
      "cell_type": "markdown",
      "source": [
        "Important installations"
      ],
      "metadata": {
        "id": "00N8Y6Fk-xxT"
      }
    },
    {
      "cell_type": "code",
      "execution_count": 4,
      "metadata": {
        "id": "GjmSYq6E4_OA"
      },
      "outputs": [],
      "source": [
        "!pip install TTS\n",
        "!pip install pyloudnorm\n",
        "!sudo apt-get install curl autoconf automake libtool pkg-config python-pip sox\n",
        "! pip install speechbrain\n",
        "! pip install datasets"
      ]
    },
    {
      "cell_type": "code",
      "source": [
        "#Location of original wav files.\n",
        "orig_waves=\"/content/drive/MyDrive/dataset/orignal\""
      ],
      "metadata": {
        "id": "EPpUPZEPJ0_6"
      },
      "execution_count": null,
      "outputs": []
    },
    {
      "cell_type": "code",
      "source": [
        "%cd /content/rnnoise\n",
        "!sh autogen.sh\n",
        "!sh configure\n",
        "!make clean\n",
        "!make"
      ],
      "metadata": {
        "id": "OSyPvZdhCQTS"
      },
      "execution_count": 2,
      "outputs": []
    },
    {
      "cell_type": "code",
      "source": [
        "from pathlib import Path\n",
        "import os\n",
        "import subprocess\n",
        "import soundfile as sf\n",
        "import pyloudnorm as pyln\n",
        "import sys\n",
        "import glob"
      ],
      "metadata": {
        "id": "i3Qh8KaW-19N"
      },
      "execution_count": null,
      "outputs": []
    },
    {
      "cell_type": "markdown",
      "source": [
        "Audio Preprocessing, Upsampling and Downsampling"
      ],
      "metadata": {
        "id": "Ig0KjNPz-9BE"
      }
    },
    {
      "cell_type": "code",
      "execution_count": 3,
      "metadata": {
        "id": "VUwNr5bZu9MO"
      },
      "outputs": [],
      "source": [
        "rnn = \"/content/rnnoise/examples/rnnoise_demo\"\n",
        "\n",
        "paths = glob.glob(os.path.join(orig_waves, '*.wav'))\n",
        "\n",
        "for filepath in paths:\n",
        "  target_filepath=Path(str(filepath).replace(\"orignal\", \"converted\"))\n",
        "  target_dir=os.path.dirname(target_filepath)\n",
        "  #print(target_filepath)\n",
        "  if (str(filepath) == str(target_filepath)):\n",
        "    raise ValueError(\"Source and target path are identical: \" + str(target_filepath))\n",
        "  print(\"From: \" + str(filepath))\n",
        "  print(\"To: \" + str(target_filepath))\n",
        "\n",
        "# Stereo to Mono; upsample to 48000Hz\n",
        "# added -G to fix gain, -v 0.95\n",
        "  subprocess.run([\"sox\", \"-G\", \"-v\", \"0.95\", filepath, \"48k.wav\", \"remix\", \"-\", \"rate\", \"48000\"])\n",
        "  subprocess.run([\"sox\", \"48k.wav\", \"-c\", \"1\", \"-r\", \"48000\", \"-b\", \"16\", \"-e\", \"signed-integer\", \"-t\", \"raw\", \"temp.raw\"]) # convert wav to raw\n",
        "  subprocess.run([rnn, \"temp.raw\", \"rnn.raw\"]) # apply rnnoise\n",
        "  subprocess.run([\"sox\", \"-G\", \"-v\", \"0.95\", \"-r\", \"48k\", \"-b\", \"16\", \"-e\", \"signed-integer\", \"rnn.raw\", \"-t\", \"wav\", \"rnn.wav\"]) # convert raw back to wav\n",
        "\n",
        "  subprocess.run([\"mkdir\", \"-p\", str(target_dir)])\n",
        "  subprocess.run([\"sox\", \"rnn.wav\", str(target_filepath), \"remix\", \"-\", \"highpass\", \"100\", \"lowpass\", \"7000\", \"rate\", \"22050\"]) # apply high/low pass filter and change sr to 22050Hz\n",
        "  data, rate = sf.read(target_filepath)\n",
        "\n",
        "# peak normalize audio to -1 dB\n",
        "  peak_normalized_audio = pyln.normalize.peak(data, -1.0)\n",
        "\n",
        "# measure the loudness first\n",
        "  meter = pyln.Meter(rate) # create BS.1770 meter\n",
        "  loudness = meter.integrated_loudness(data)\n",
        "\n",
        "# loudness normalize audio to -25 dB LUFS\n",
        "  loudness_normalized_audio = pyln.normalize.loudness(data, loudness, -25.0)\n",
        "  sf.write(target_filepath, data=loudness_normalized_audio, samplerate=22050)\n",
        "  print(\"\")\n"
      ]
    },
    {
      "cell_type": "code",
      "source": [
        "import locale\n",
        "locale.getpreferredencoding = lambda: \"UTF-8\""
      ],
      "metadata": {
        "id": "apPvJEnsZEr1"
      },
      "execution_count": null,
      "outputs": []
    },
    {
      "cell_type": "code",
      "execution_count": null,
      "metadata": {
        "id": "7t1_gM511R09"
      },
      "outputs": [],
      "source": [
        "import pandas as pd\n",
        "import numpy as np\n",
        "from datasets import DatasetDict, Dataset\n",
        "\n",
        "\n",
        "df = pd.DataFrame()\n",
        "\n",
        "lines = []\n",
        "with open('/content/drive/MyDrive/dataset.txt', 'r', encoding = 'utf-8') as f:\n",
        "  text  = ' '.join(f)\n",
        "  lines = text.split('\\n')"
      ]
    },
    {
      "cell_type": "code",
      "execution_count": null,
      "metadata": {
        "id": "WqlBfYbR1Zve"
      },
      "outputs": [],
      "source": [
        "df['data'] = lines"
      ]
    },
    {
      "cell_type": "code",
      "execution_count": null,
      "metadata": {
        "colab": {
          "base_uri": "https://localhost:8080/",
          "height": 143
        },
        "id": "CxZ_Ly1G1Zyo",
        "outputId": "38cd0456-4d33-45bf-bc1d-d92810e2713f"
      },
      "outputs": [
        {
          "output_type": "execute_result",
          "data": {
            "text/plain": [
              "                                                data\n",
              "0  data-01|Um it was really romanticized that you...\n",
              "1   data-02|One time you know five shifts don't s...\n",
              "2   data-03|Lived more life I've realized having ..."
            ],
            "text/html": [
              "\n",
              "\n",
              "  <div id=\"df-05498c6e-6e72-44b9-afd4-4667ee142767\">\n",
              "    <div class=\"colab-df-container\">\n",
              "      <div>\n",
              "<style scoped>\n",
              "    .dataframe tbody tr th:only-of-type {\n",
              "        vertical-align: middle;\n",
              "    }\n",
              "\n",
              "    .dataframe tbody tr th {\n",
              "        vertical-align: top;\n",
              "    }\n",
              "\n",
              "    .dataframe thead th {\n",
              "        text-align: right;\n",
              "    }\n",
              "</style>\n",
              "<table border=\"1\" class=\"dataframe\">\n",
              "  <thead>\n",
              "    <tr style=\"text-align: right;\">\n",
              "      <th></th>\n",
              "      <th>data</th>\n",
              "    </tr>\n",
              "  </thead>\n",
              "  <tbody>\n",
              "    <tr>\n",
              "      <th>0</th>\n",
              "      <td>data-01|Um it was really romanticized that you...</td>\n",
              "    </tr>\n",
              "    <tr>\n",
              "      <th>1</th>\n",
              "      <td>data-02|One time you know five shifts don't s...</td>\n",
              "    </tr>\n",
              "    <tr>\n",
              "      <th>2</th>\n",
              "      <td>data-03|Lived more life I've realized having ...</td>\n",
              "    </tr>\n",
              "  </tbody>\n",
              "</table>\n",
              "</div>\n",
              "      <button class=\"colab-df-convert\" onclick=\"convertToInteractive('df-05498c6e-6e72-44b9-afd4-4667ee142767')\"\n",
              "              title=\"Convert this dataframe to an interactive table.\"\n",
              "              style=\"display:none;\">\n",
              "\n",
              "  <svg xmlns=\"http://www.w3.org/2000/svg\" height=\"24px\"viewBox=\"0 0 24 24\"\n",
              "       width=\"24px\">\n",
              "    <path d=\"M0 0h24v24H0V0z\" fill=\"none\"/>\n",
              "    <path d=\"M18.56 5.44l.94 2.06.94-2.06 2.06-.94-2.06-.94-.94-2.06-.94 2.06-2.06.94zm-11 1L8.5 8.5l.94-2.06 2.06-.94-2.06-.94L8.5 2.5l-.94 2.06-2.06.94zm10 10l.94 2.06.94-2.06 2.06-.94-2.06-.94-.94-2.06-.94 2.06-2.06.94z\"/><path d=\"M17.41 7.96l-1.37-1.37c-.4-.4-.92-.59-1.43-.59-.52 0-1.04.2-1.43.59L10.3 9.45l-7.72 7.72c-.78.78-.78 2.05 0 2.83L4 21.41c.39.39.9.59 1.41.59.51 0 1.02-.2 1.41-.59l7.78-7.78 2.81-2.81c.8-.78.8-2.07 0-2.86zM5.41 20L4 18.59l7.72-7.72 1.47 1.35L5.41 20z\"/>\n",
              "  </svg>\n",
              "      </button>\n",
              "\n",
              "\n",
              "\n",
              "    <div id=\"df-90c899db-b201-4fe8-98c4-4816ae6f7647\">\n",
              "      <button class=\"colab-df-quickchart\" onclick=\"quickchart('df-90c899db-b201-4fe8-98c4-4816ae6f7647')\"\n",
              "              title=\"Suggest charts.\"\n",
              "              style=\"display:none;\">\n",
              "\n",
              "<svg xmlns=\"http://www.w3.org/2000/svg\" height=\"24px\"viewBox=\"0 0 24 24\"\n",
              "     width=\"24px\">\n",
              "    <g>\n",
              "        <path d=\"M19 3H5c-1.1 0-2 .9-2 2v14c0 1.1.9 2 2 2h14c1.1 0 2-.9 2-2V5c0-1.1-.9-2-2-2zM9 17H7v-7h2v7zm4 0h-2V7h2v10zm4 0h-2v-4h2v4z\"/>\n",
              "    </g>\n",
              "</svg>\n",
              "      </button>\n",
              "    </div>\n",
              "\n",
              "<style>\n",
              "  .colab-df-quickchart {\n",
              "    background-color: #E8F0FE;\n",
              "    border: none;\n",
              "    border-radius: 50%;\n",
              "    cursor: pointer;\n",
              "    display: none;\n",
              "    fill: #1967D2;\n",
              "    height: 32px;\n",
              "    padding: 0 0 0 0;\n",
              "    width: 32px;\n",
              "  }\n",
              "\n",
              "  .colab-df-quickchart:hover {\n",
              "    background-color: #E2EBFA;\n",
              "    box-shadow: 0px 1px 2px rgba(60, 64, 67, 0.3), 0px 1px 3px 1px rgba(60, 64, 67, 0.15);\n",
              "    fill: #174EA6;\n",
              "  }\n",
              "\n",
              "  [theme=dark] .colab-df-quickchart {\n",
              "    background-color: #3B4455;\n",
              "    fill: #D2E3FC;\n",
              "  }\n",
              "\n",
              "  [theme=dark] .colab-df-quickchart:hover {\n",
              "    background-color: #434B5C;\n",
              "    box-shadow: 0px 1px 3px 1px rgba(0, 0, 0, 0.15);\n",
              "    filter: drop-shadow(0px 1px 2px rgba(0, 0, 0, 0.3));\n",
              "    fill: #FFFFFF;\n",
              "  }\n",
              "</style>\n",
              "\n",
              "    <script>\n",
              "      async function quickchart(key) {\n",
              "        const containerElement = document.querySelector('#' + key);\n",
              "        const charts = await google.colab.kernel.invokeFunction(\n",
              "            'suggestCharts', [key], {});\n",
              "      }\n",
              "    </script>\n",
              "\n",
              "      <script>\n",
              "\n",
              "function displayQuickchartButton(domScope) {\n",
              "  let quickchartButtonEl =\n",
              "    domScope.querySelector('#df-90c899db-b201-4fe8-98c4-4816ae6f7647 button.colab-df-quickchart');\n",
              "  quickchartButtonEl.style.display =\n",
              "    google.colab.kernel.accessAllowed ? 'block' : 'none';\n",
              "}\n",
              "\n",
              "        displayQuickchartButton(document);\n",
              "      </script>\n",
              "      <style>\n",
              "    .colab-df-container {\n",
              "      display:flex;\n",
              "      flex-wrap:wrap;\n",
              "      gap: 12px;\n",
              "    }\n",
              "\n",
              "    .colab-df-convert {\n",
              "      background-color: #E8F0FE;\n",
              "      border: none;\n",
              "      border-radius: 50%;\n",
              "      cursor: pointer;\n",
              "      display: none;\n",
              "      fill: #1967D2;\n",
              "      height: 32px;\n",
              "      padding: 0 0 0 0;\n",
              "      width: 32px;\n",
              "    }\n",
              "\n",
              "    .colab-df-convert:hover {\n",
              "      background-color: #E2EBFA;\n",
              "      box-shadow: 0px 1px 2px rgba(60, 64, 67, 0.3), 0px 1px 3px 1px rgba(60, 64, 67, 0.15);\n",
              "      fill: #174EA6;\n",
              "    }\n",
              "\n",
              "    [theme=dark] .colab-df-convert {\n",
              "      background-color: #3B4455;\n",
              "      fill: #D2E3FC;\n",
              "    }\n",
              "\n",
              "    [theme=dark] .colab-df-convert:hover {\n",
              "      background-color: #434B5C;\n",
              "      box-shadow: 0px 1px 3px 1px rgba(0, 0, 0, 0.15);\n",
              "      filter: drop-shadow(0px 1px 2px rgba(0, 0, 0, 0.3));\n",
              "      fill: #FFFFFF;\n",
              "    }\n",
              "  </style>\n",
              "\n",
              "      <script>\n",
              "        const buttonEl =\n",
              "          document.querySelector('#df-05498c6e-6e72-44b9-afd4-4667ee142767 button.colab-df-convert');\n",
              "        buttonEl.style.display =\n",
              "          google.colab.kernel.accessAllowed ? 'block' : 'none';\n",
              "\n",
              "        async function convertToInteractive(key) {\n",
              "          const element = document.querySelector('#df-05498c6e-6e72-44b9-afd4-4667ee142767');\n",
              "          const dataTable =\n",
              "            await google.colab.kernel.invokeFunction('convertToInteractive',\n",
              "                                                     [key], {});\n",
              "          if (!dataTable) return;\n",
              "\n",
              "          const docLinkHtml = 'Like what you see? Visit the ' +\n",
              "            '<a target=\"_blank\" href=https://colab.research.google.com/notebooks/data_table.ipynb>data table notebook</a>'\n",
              "            + ' to learn more about interactive tables.';\n",
              "          element.innerHTML = '';\n",
              "          dataTable['output_type'] = 'display_data';\n",
              "          await google.colab.output.renderOutput(dataTable, element);\n",
              "          const docLink = document.createElement('div');\n",
              "          docLink.innerHTML = docLinkHtml;\n",
              "          element.appendChild(docLink);\n",
              "        }\n",
              "      </script>\n",
              "    </div>\n",
              "  </div>\n"
            ]
          },
          "metadata": {},
          "execution_count": 54
        }
      ],
      "source": [
        "df.head(3)"
      ]
    },
    {
      "cell_type": "code",
      "execution_count": null,
      "metadata": {
        "colab": {
          "base_uri": "https://localhost:8080/"
        },
        "id": "qTI67OVV1Z1d",
        "outputId": "0e5f9a7b-e61f-4101-a3c7-4eaeb00a2463"
      },
      "outputs": [
        {
          "output_type": "execute_result",
          "data": {
            "text/plain": [
              "Dataset({\n",
              "    features: ['data'],\n",
              "    num_rows: 82\n",
              "})"
            ]
          },
          "metadata": {},
          "execution_count": 55
        }
      ],
      "source": [
        "datasets = Dataset.from_pandas(df)\n",
        "datasets"
      ]
    },
    {
      "cell_type": "code",
      "execution_count": null,
      "metadata": {
        "id": "3i2EIHC91Z4P"
      },
      "outputs": [],
      "source": [
        "final = []\n",
        "def process(data):\n",
        "  audio_path = data['data'].split('|')[0]\n",
        "  dialogue = data['data'].split('|')[1]\n",
        "  speaker = 'priyanka'\n",
        "\n",
        "  final = f\"{audio_path}|{speaker}|{dialogue}\"\n",
        "  return {\n",
        "      'final_data' : final\n",
        "  }"
      ]
    },
    {
      "cell_type": "code",
      "execution_count": null,
      "metadata": {
        "colab": {
          "base_uri": "https://localhost:8080/",
          "height": 86,
          "referenced_widgets": [
            "8e552b36fd3b4f118e3c40903e3872d7",
            "1e1e55066ca042b1a6f6e6b617baaeb7",
            "5958d67276e34063b4aff3218e1b4b8c",
            "cc718e5591ef477bad8dbb8404da8a83",
            "2a12d8ee19a049bba0352b316ed5b72b",
            "15c7eae723874817aa97a9baac1cc7c7",
            "308b4c76d54d4f2085d431fb74205efb",
            "509d44cc00c242ceb9d0e2a3c3111fe7",
            "aa0bd89dc04e41f2a24a94655208e2d0",
            "6e5d831aee79422aa1265c6de787295e",
            "beb557d1c0ae4f8fbceb78e62b888d7e"
          ]
        },
        "id": "E-zS4JBu1Z6Z",
        "outputId": "55a5dc95-7a90-4493-8e7a-91604a077d3a"
      },
      "outputs": [
        {
          "output_type": "display_data",
          "data": {
            "text/plain": [
              "Map:   0%|          | 0/82 [00:00<?, ? examples/s]"
            ],
            "application/vnd.jupyter.widget-view+json": {
              "version_major": 2,
              "version_minor": 0,
              "model_id": "8e552b36fd3b4f118e3c40903e3872d7"
            }
          },
          "metadata": {}
        },
        {
          "output_type": "execute_result",
          "data": {
            "text/plain": [
              "Dataset({\n",
              "    features: ['final_data'],\n",
              "    num_rows: 82\n",
              "})"
            ]
          },
          "metadata": {},
          "execution_count": 57
        }
      ],
      "source": [
        "final_dataset = datasets.map(process, batched = False, remove_columns = ['data'])\n",
        "final_dataset"
      ]
    },
    {
      "cell_type": "code",
      "execution_count": null,
      "metadata": {
        "id": "D0Vxp2ek1Z8x"
      },
      "outputs": [],
      "source": [
        "df_final = pd.DataFrame()\n",
        "df_final['inp'] = final_dataset['final_data']\n",
        "df_final.to_csv('/content/drive/MyDrive/dataset/metadata.csv', index = False)\n",
        "df_final.to_csv('metadata.csv', index = False)"
      ]
    },
    {
      "cell_type": "code",
      "execution_count": null,
      "metadata": {
        "colab": {
          "base_uri": "https://localhost:8080/",
          "height": 206
        },
        "id": "Cwqgx56J1Z_J",
        "outputId": "e6ee3d01-0476-4adc-b5d4-366fe9b1e67a"
      },
      "outputs": [
        {
          "output_type": "execute_result",
          "data": {
            "text/plain": [
              "                                                 inp\n",
              "0  data-01|priyanka|Um it was really romanticized...\n",
              "1   data-02|priyanka|One time you know five shift...\n",
              "2   data-03|priyanka|Lived more life I've realize...\n",
              "3   data-04|priyanka|Me and my husband just by ou...\n",
              "4   data-05|priyanka|and really motivated to take..."
            ],
            "text/html": [
              "\n",
              "\n",
              "  <div id=\"df-c559f1f5-5140-4323-96a5-e0556a8f1c45\">\n",
              "    <div class=\"colab-df-container\">\n",
              "      <div>\n",
              "<style scoped>\n",
              "    .dataframe tbody tr th:only-of-type {\n",
              "        vertical-align: middle;\n",
              "    }\n",
              "\n",
              "    .dataframe tbody tr th {\n",
              "        vertical-align: top;\n",
              "    }\n",
              "\n",
              "    .dataframe thead th {\n",
              "        text-align: right;\n",
              "    }\n",
              "</style>\n",
              "<table border=\"1\" class=\"dataframe\">\n",
              "  <thead>\n",
              "    <tr style=\"text-align: right;\">\n",
              "      <th></th>\n",
              "      <th>inp</th>\n",
              "    </tr>\n",
              "  </thead>\n",
              "  <tbody>\n",
              "    <tr>\n",
              "      <th>0</th>\n",
              "      <td>data-01|priyanka|Um it was really romanticized...</td>\n",
              "    </tr>\n",
              "    <tr>\n",
              "      <th>1</th>\n",
              "      <td>data-02|priyanka|One time you know five shift...</td>\n",
              "    </tr>\n",
              "    <tr>\n",
              "      <th>2</th>\n",
              "      <td>data-03|priyanka|Lived more life I've realize...</td>\n",
              "    </tr>\n",
              "    <tr>\n",
              "      <th>3</th>\n",
              "      <td>data-04|priyanka|Me and my husband just by ou...</td>\n",
              "    </tr>\n",
              "    <tr>\n",
              "      <th>4</th>\n",
              "      <td>data-05|priyanka|and really motivated to take...</td>\n",
              "    </tr>\n",
              "  </tbody>\n",
              "</table>\n",
              "</div>\n",
              "      <button class=\"colab-df-convert\" onclick=\"convertToInteractive('df-c559f1f5-5140-4323-96a5-e0556a8f1c45')\"\n",
              "              title=\"Convert this dataframe to an interactive table.\"\n",
              "              style=\"display:none;\">\n",
              "\n",
              "  <svg xmlns=\"http://www.w3.org/2000/svg\" height=\"24px\"viewBox=\"0 0 24 24\"\n",
              "       width=\"24px\">\n",
              "    <path d=\"M0 0h24v24H0V0z\" fill=\"none\"/>\n",
              "    <path d=\"M18.56 5.44l.94 2.06.94-2.06 2.06-.94-2.06-.94-.94-2.06-.94 2.06-2.06.94zm-11 1L8.5 8.5l.94-2.06 2.06-.94-2.06-.94L8.5 2.5l-.94 2.06-2.06.94zm10 10l.94 2.06.94-2.06 2.06-.94-2.06-.94-.94-2.06-.94 2.06-2.06.94z\"/><path d=\"M17.41 7.96l-1.37-1.37c-.4-.4-.92-.59-1.43-.59-.52 0-1.04.2-1.43.59L10.3 9.45l-7.72 7.72c-.78.78-.78 2.05 0 2.83L4 21.41c.39.39.9.59 1.41.59.51 0 1.02-.2 1.41-.59l7.78-7.78 2.81-2.81c.8-.78.8-2.07 0-2.86zM5.41 20L4 18.59l7.72-7.72 1.47 1.35L5.41 20z\"/>\n",
              "  </svg>\n",
              "      </button>\n",
              "\n",
              "\n",
              "\n",
              "    <div id=\"df-c7db67a8-d99d-4693-8d96-385a4577f78f\">\n",
              "      <button class=\"colab-df-quickchart\" onclick=\"quickchart('df-c7db67a8-d99d-4693-8d96-385a4577f78f')\"\n",
              "              title=\"Suggest charts.\"\n",
              "              style=\"display:none;\">\n",
              "\n",
              "<svg xmlns=\"http://www.w3.org/2000/svg\" height=\"24px\"viewBox=\"0 0 24 24\"\n",
              "     width=\"24px\">\n",
              "    <g>\n",
              "        <path d=\"M19 3H5c-1.1 0-2 .9-2 2v14c0 1.1.9 2 2 2h14c1.1 0 2-.9 2-2V5c0-1.1-.9-2-2-2zM9 17H7v-7h2v7zm4 0h-2V7h2v10zm4 0h-2v-4h2v4z\"/>\n",
              "    </g>\n",
              "</svg>\n",
              "      </button>\n",
              "    </div>\n",
              "\n",
              "<style>\n",
              "  .colab-df-quickchart {\n",
              "    background-color: #E8F0FE;\n",
              "    border: none;\n",
              "    border-radius: 50%;\n",
              "    cursor: pointer;\n",
              "    display: none;\n",
              "    fill: #1967D2;\n",
              "    height: 32px;\n",
              "    padding: 0 0 0 0;\n",
              "    width: 32px;\n",
              "  }\n",
              "\n",
              "  .colab-df-quickchart:hover {\n",
              "    background-color: #E2EBFA;\n",
              "    box-shadow: 0px 1px 2px rgba(60, 64, 67, 0.3), 0px 1px 3px 1px rgba(60, 64, 67, 0.15);\n",
              "    fill: #174EA6;\n",
              "  }\n",
              "\n",
              "  [theme=dark] .colab-df-quickchart {\n",
              "    background-color: #3B4455;\n",
              "    fill: #D2E3FC;\n",
              "  }\n",
              "\n",
              "  [theme=dark] .colab-df-quickchart:hover {\n",
              "    background-color: #434B5C;\n",
              "    box-shadow: 0px 1px 3px 1px rgba(0, 0, 0, 0.15);\n",
              "    filter: drop-shadow(0px 1px 2px rgba(0, 0, 0, 0.3));\n",
              "    fill: #FFFFFF;\n",
              "  }\n",
              "</style>\n",
              "\n",
              "    <script>\n",
              "      async function quickchart(key) {\n",
              "        const containerElement = document.querySelector('#' + key);\n",
              "        const charts = await google.colab.kernel.invokeFunction(\n",
              "            'suggestCharts', [key], {});\n",
              "      }\n",
              "    </script>\n",
              "\n",
              "      <script>\n",
              "\n",
              "function displayQuickchartButton(domScope) {\n",
              "  let quickchartButtonEl =\n",
              "    domScope.querySelector('#df-c7db67a8-d99d-4693-8d96-385a4577f78f button.colab-df-quickchart');\n",
              "  quickchartButtonEl.style.display =\n",
              "    google.colab.kernel.accessAllowed ? 'block' : 'none';\n",
              "}\n",
              "\n",
              "        displayQuickchartButton(document);\n",
              "      </script>\n",
              "      <style>\n",
              "    .colab-df-container {\n",
              "      display:flex;\n",
              "      flex-wrap:wrap;\n",
              "      gap: 12px;\n",
              "    }\n",
              "\n",
              "    .colab-df-convert {\n",
              "      background-color: #E8F0FE;\n",
              "      border: none;\n",
              "      border-radius: 50%;\n",
              "      cursor: pointer;\n",
              "      display: none;\n",
              "      fill: #1967D2;\n",
              "      height: 32px;\n",
              "      padding: 0 0 0 0;\n",
              "      width: 32px;\n",
              "    }\n",
              "\n",
              "    .colab-df-convert:hover {\n",
              "      background-color: #E2EBFA;\n",
              "      box-shadow: 0px 1px 2px rgba(60, 64, 67, 0.3), 0px 1px 3px 1px rgba(60, 64, 67, 0.15);\n",
              "      fill: #174EA6;\n",
              "    }\n",
              "\n",
              "    [theme=dark] .colab-df-convert {\n",
              "      background-color: #3B4455;\n",
              "      fill: #D2E3FC;\n",
              "    }\n",
              "\n",
              "    [theme=dark] .colab-df-convert:hover {\n",
              "      background-color: #434B5C;\n",
              "      box-shadow: 0px 1px 3px 1px rgba(0, 0, 0, 0.15);\n",
              "      filter: drop-shadow(0px 1px 2px rgba(0, 0, 0, 0.3));\n",
              "      fill: #FFFFFF;\n",
              "    }\n",
              "  </style>\n",
              "\n",
              "      <script>\n",
              "        const buttonEl =\n",
              "          document.querySelector('#df-c559f1f5-5140-4323-96a5-e0556a8f1c45 button.colab-df-convert');\n",
              "        buttonEl.style.display =\n",
              "          google.colab.kernel.accessAllowed ? 'block' : 'none';\n",
              "\n",
              "        async function convertToInteractive(key) {\n",
              "          const element = document.querySelector('#df-c559f1f5-5140-4323-96a5-e0556a8f1c45');\n",
              "          const dataTable =\n",
              "            await google.colab.kernel.invokeFunction('convertToInteractive',\n",
              "                                                     [key], {});\n",
              "          if (!dataTable) return;\n",
              "\n",
              "          const docLinkHtml = 'Like what you see? Visit the ' +\n",
              "            '<a target=\"_blank\" href=https://colab.research.google.com/notebooks/data_table.ipynb>data table notebook</a>'\n",
              "            + ' to learn more about interactive tables.';\n",
              "          element.innerHTML = '';\n",
              "          dataTable['output_type'] = 'display_data';\n",
              "          await google.colab.output.renderOutput(dataTable, element);\n",
              "          const docLink = document.createElement('div');\n",
              "          docLink.innerHTML = docLinkHtml;\n",
              "          element.appendChild(docLink);\n",
              "        }\n",
              "      </script>\n",
              "    </div>\n",
              "  </div>\n"
            ]
          },
          "metadata": {},
          "execution_count": 59
        }
      ],
      "source": [
        "df = pd.read_csv('/content/drive/MyDrive/dataset/metadata.csv')\n",
        "df.head(5)"
      ]
    },
    {
      "cell_type": "code",
      "execution_count": null,
      "metadata": {
        "id": "2WM8vyCd1aBr",
        "colab": {
          "base_uri": "https://localhost:8080/"
        },
        "outputId": "98d846aa-653b-499b-cbf5-da05f6863a67"
      },
      "outputs": [
        {
          "output_type": "stream",
          "name": "stdout",
          "text": [
            "/content/TTS/TTS/tts/configs\n",
            "/content\n"
          ]
        }
      ],
      "source": [
        "import os\n",
        "%cd /content/TTS/TTS/tts/configs\n",
        "# BaseDatasetConfig: defines name, formatter and path of the dataset.\n",
        "from shared_configs import BaseDatasetConfig\n",
        "%cd /content/\n",
        "\n",
        "output_path = \"/content/drive/MyDrive/dataset/cloned\"\n",
        "if not os.path.exists(output_path):\n",
        "    os.makedirs(output_path)"
      ]
    },
    {
      "cell_type": "code",
      "execution_count": null,
      "metadata": {
        "id": "XWWv-upo1aGH"
      },
      "outputs": [],
      "source": [
        "dataset_name = 'orignal/'"
      ]
    },
    {
      "cell_type": "code",
      "execution_count": null,
      "metadata": {
        "id": "b6d1T0hxmbyk"
      },
      "outputs": [],
      "source": [
        "root_path = '/content/drive/MyDrive/dataset/converted'\n",
        "meta_file = '/content/drive/MyDrive/dataset/metadata.csv'"
      ]
    },
    {
      "cell_type": "markdown",
      "source": [
        "Adding my own custom formatter in the official code of coqui-TTS (train_vtts.py) file"
      ],
      "metadata": {
        "id": "qBtM79MJ_Lus"
      }
    },
    {
      "cell_type": "code",
      "execution_count": null,
      "metadata": {
        "id": "UjKzzf9bc97Y"
      },
      "outputs": [],
      "source": [
        "code = '''\n",
        "import os\n",
        "import re\n",
        "import xml.etree.ElementTree as ET\n",
        "from glob import glob\n",
        "from pathlib import Path\n",
        "from typing import List\n",
        "\n",
        "import pandas as pd\n",
        "from tqdm import tqdm\n",
        "\n",
        "########################\n",
        "# DATASETS\n",
        "########################\n",
        "\n",
        "\n",
        "def coqui(root_path, meta_file, ignored_speakers=None):\n",
        "    \"\"\"Interal dataset formatter.\"\"\"\n",
        "    filepath = os.path.join(root_path, meta_file)\n",
        "    # ensure there are 4 columns for every line\n",
        "    with open(filepath, \"r\", encoding=\"utf8\") as f:\n",
        "        lines = f.readlines()\n",
        "    num_cols = len(lines[0].split(\"|\"))  # take the first row as reference\n",
        "    for idx, line in enumerate(lines[1:]):\n",
        "        if len(line.split(\"|\")) != num_cols:\n",
        "            print(f\" > Missing column in line {idx + 1} -> {line.strip()}\")\n",
        "    # load metadata\n",
        "    metadata = pd.read_csv(os.path.join(root_path, meta_file), sep=\"|\")\n",
        "    assert all(x in metadata.columns for x in [\"audio_file\", \"text\"])\n",
        "    speaker_name = None if \"speaker_name\" in metadata.columns else \"coqui\"\n",
        "    emotion_name = None if \"emotion_name\" in metadata.columns else \"neutral\"\n",
        "    items = []\n",
        "    not_found_counter = 0\n",
        "    for row in metadata.itertuples():\n",
        "        if speaker_name is None and ignored_speakers is not None and row.speaker_name in ignored_speakers:\n",
        "            continue\n",
        "        audio_path = os.path.join(root_path, row.audio_file)\n",
        "        if not os.path.exists(audio_path):\n",
        "            not_found_counter += 1\n",
        "            continue\n",
        "        items.append(\n",
        "            {\n",
        "                \"text\": row.text,\n",
        "                \"audio_file\": audio_path,\n",
        "                \"speaker_name\": speaker_name if speaker_name is not None else row.speaker_name,\n",
        "                \"emotion_name\": emotion_name if emotion_name is not None else row.emotion_name,\n",
        "                \"root_path\": root_path,\n",
        "            }\n",
        "        )\n",
        "    if not_found_counter > 0:\n",
        "        print(f\" | > [!] {not_found_counter} files not found\")\n",
        "    return items\n",
        "\n",
        "\n",
        "def tweb(root_path, meta_file, **kwargs):  # pylint: disable=unused-argument\n",
        "    \"\"\"Normalize TWEB dataset.\n",
        "    https://www.kaggle.com/bryanpark/the-world-english-bible-speech-dataset\n",
        "    \"\"\"\n",
        "    txt_file = os.path.join(root_path, meta_file)\n",
        "    items = []\n",
        "    speaker_name = \"tweb\"\n",
        "    with open(txt_file, \"r\", encoding=\"utf-8\") as ttf:\n",
        "        for line in ttf:\n",
        "            cols = line.split(\"\\t\")\n",
        "            wav_file = os.path.join(root_path, cols[0] + \".wav\")\n",
        "            text = cols[1]\n",
        "            items.append({\"text\": text, \"audio_file\": wav_file, \"speaker_name\": speaker_name, \"root_path\": root_path})\n",
        "    return items\n",
        "\n",
        "\n",
        "def mozilla(root_path, meta_file, **kwargs):  # pylint: disable=unused-argument\n",
        "    \"\"\"Normalizes Mozilla meta data files to TTS format\"\"\"\n",
        "    txt_file = os.path.join(root_path, meta_file)\n",
        "    items = []\n",
        "    speaker_name = \"mozilla\"\n",
        "    with open(txt_file, \"r\", encoding=\"utf-8\") as ttf:\n",
        "        for line in ttf:\n",
        "            cols = line.split(\"|\")\n",
        "            wav_file = cols[1].strip()\n",
        "            text = cols[0].strip()\n",
        "            wav_file = os.path.join(root_path, \"wavs\", wav_file)\n",
        "            items.append({\"text\": text, \"audio_file\": wav_file, \"speaker_name\": speaker_name, \"root_path\": root_path})\n",
        "    return items\n",
        "\n",
        "\n",
        "def mozilla_de(root_path, meta_file, **kwargs):  # pylint: disable=unused-argument\n",
        "    \"\"\"Normalizes Mozilla meta data files to TTS format\"\"\"\n",
        "    txt_file = os.path.join(root_path, meta_file)\n",
        "    items = []\n",
        "    speaker_name = \"mozilla\"\n",
        "    with open(txt_file, \"r\", encoding=\"ISO 8859-1\") as ttf:\n",
        "        for line in ttf:\n",
        "            cols = line.strip().split(\"|\")\n",
        "            wav_file = cols[0].strip()\n",
        "            text = cols[1].strip()\n",
        "            folder_name = f\"BATCH_{wav_file.split('_')[0]}_FINAL\"\n",
        "            wav_file = os.path.join(root_path, folder_name, wav_file)\n",
        "            items.append({\"text\": text, \"audio_file\": wav_file, \"speaker_name\": speaker_name, \"root_path\": root_path})\n",
        "    return items\n",
        "\n",
        "\n",
        "def mailabs(root_path, meta_files=None, ignored_speakers=None):\n",
        "    \"\"\"Normalizes M-AI-Labs meta data files to TTS format\n",
        "\n",
        "    Args:\n",
        "        root_path (str): root folder of the MAILAB language folder.\n",
        "        meta_files (str):  list of meta files to be used in the training. If None, finds all the csv files\n",
        "            recursively. Defaults to None\n",
        "    \"\"\"\n",
        "    speaker_regex = re.compile(f\"by_book{os.sep}(male|female){os.sep}(?P<speaker_name>[^{os.sep}]+){os.sep}\")\n",
        "    if not meta_files:\n",
        "        csv_files = glob(root_path + f\"{os.sep}**{os.sep}metadata.csv\", recursive=True)\n",
        "    else:\n",
        "        csv_files = meta_files\n",
        "\n",
        "    # meta_files = [f.strip() for f in meta_files.split(\",\")]\n",
        "    items = []\n",
        "    for csv_file in csv_files:\n",
        "        if os.path.isfile(csv_file):\n",
        "            txt_file = csv_file\n",
        "        else:\n",
        "            txt_file = os.path.join(root_path, csv_file)\n",
        "\n",
        "        folder = os.path.dirname(txt_file)\n",
        "        # determine speaker based on folder structure...\n",
        "        speaker_name_match = speaker_regex.search(txt_file)\n",
        "        if speaker_name_match is None:\n",
        "            continue\n",
        "        speaker_name = speaker_name_match.group(\"speaker_name\")\n",
        "        # ignore speakers\n",
        "        if isinstance(ignored_speakers, list):\n",
        "            if speaker_name in ignored_speakers:\n",
        "                continue\n",
        "        print(\" | > {}\".format(csv_file))\n",
        "        with open(txt_file, \"r\", encoding=\"utf-8\") as ttf:\n",
        "            for line in ttf:\n",
        "                cols = line.split(\"|\")\n",
        "                if not meta_files:\n",
        "                    wav_file = os.path.join(folder, \"wavs\", cols[0] + \".wav\")\n",
        "                else:\n",
        "                    wav_file = os.path.join(root_path, folder.replace(\"metadata.csv\", \"\"), \"wavs\", cols[0] + \".wav\")\n",
        "                if os.path.isfile(wav_file):\n",
        "                    text = cols[1].strip()\n",
        "                    items.append(\n",
        "                        {\"text\": text, \"audio_file\": wav_file, \"speaker_name\": speaker_name, \"root_path\": root_path}\n",
        "                    )\n",
        "                else:\n",
        "                    # M-AI-Labs have some missing samples, so just print the warning\n",
        "                    print(\"> File %s does not exist!\" % (wav_file))\n",
        "    return items\n",
        "\n",
        "\n",
        "def ljspeech(root_path, meta_file, **kwargs):  # pylint: disable=unused-argument\n",
        "    \"\"\"Normalizes the LJSpeech meta data file to TTS format\n",
        "    https://keithito.com/LJ-Speech-Dataset/\"\"\"\n",
        "    txt_file = os.path.join(root_path, meta_file)\n",
        "    items = []\n",
        "    speaker_name = \"ljspeech\"\n",
        "    with open(txt_file, \"r\", encoding=\"utf-8\") as ttf:\n",
        "        for line in ttf:\n",
        "            cols = line.split(\"|\")\n",
        "            wav_file = os.path.join(root_path, \"wavs\", cols[0] + \".wav\")\n",
        "            text = cols[2]\n",
        "            items.append({\"text\": text, \"audio_file\": wav_file, \"speaker_name\": speaker_name, \"root_path\": root_path})\n",
        "    return items\n",
        "\n",
        "\n",
        "###############################################################################\n",
        "###############################################################################\n",
        "\n",
        "# custom formatter\n",
        "def custom_formatter(root_path, meta_file, **kwargs):\n",
        "    df  = pd.read_csv(meta_file)\n",
        "    items = []\n",
        "    speaker_name = \"custom_formatter\"\n",
        "    for line in df['inp']:\n",
        "      cols = line.split(\"|\")\n",
        "      wav_file = os.path.join(root_path, cols[0].replace(' ','') + \".wav\")\n",
        "      print(wav_file)\n",
        "      text = cols[2]\n",
        "      items.append({\"text\":text, \"audio_file\":wav_file, \"speaker_name\":speaker_name, \"root_path\": root_path})\n",
        "    return items\n",
        "\n",
        "###############################################################################\n",
        "###############################################################################\n",
        "\n",
        "\n",
        "def ljspeech_test(root_path, meta_file, **kwargs):  # pylint: disable=unused-argument\n",
        "    \"\"\"Normalizes the LJSpeech meta data file for TTS testing\n",
        "    https://keithito.com/LJ-Speech-Dataset/\"\"\"\n",
        "    txt_file = os.path.join(root_path, meta_file)\n",
        "    items = []\n",
        "    with open(txt_file, \"r\", encoding=\"utf-8\") as ttf:\n",
        "        speaker_id = 0\n",
        "        for idx, line in enumerate(ttf):\n",
        "            # 2 samples per speaker to avoid eval split issues\n",
        "            if idx % 2 == 0:\n",
        "                speaker_id += 1\n",
        "            cols = line.split(\"|\")\n",
        "            wav_file = os.path.join(root_path, \"wavs\", cols[0] + \".wav\")\n",
        "            text = cols[2]\n",
        "            items.append(\n",
        "                {\"text\": text, \"audio_file\": wav_file, \"speaker_name\": f\"ljspeech-{speaker_id}\", \"root_path\": root_path}\n",
        "            )\n",
        "    return items\n",
        "\n",
        "\n",
        "def thorsten(root_path, meta_file, **kwargs):  # pylint: disable=unused-argument\n",
        "    \"\"\"Normalizes the thorsten meta data file to TTS format\n",
        "    https://github.com/thorstenMueller/deep-learning-german-tts/\"\"\"\n",
        "    txt_file = os.path.join(root_path, meta_file)\n",
        "    items = []\n",
        "    speaker_name = \"thorsten\"\n",
        "    with open(txt_file, \"r\", encoding=\"utf-8\") as ttf:\n",
        "        for line in ttf:\n",
        "            cols = line.split(\"|\")\n",
        "            wav_file = os.path.join(root_path, \"wavs\", cols[0] + \".wav\")\n",
        "            text = cols[1]\n",
        "            items.append({\"text\": text, \"audio_file\": wav_file, \"speaker_name\": speaker_name, \"root_path\": root_path})\n",
        "    return items\n",
        "\n",
        "\n",
        "def sam_accenture(root_path, meta_file, **kwargs):  # pylint: disable=unused-argument\n",
        "    \"\"\"Normalizes the sam-accenture meta data file to TTS format\n",
        "    https://github.com/Sam-Accenture-Non-Binary-Voice/non-binary-voice-files\"\"\"\n",
        "    xml_file = os.path.join(root_path, \"voice_over_recordings\", meta_file)\n",
        "    xml_root = ET.parse(xml_file).getroot()\n",
        "    items = []\n",
        "    speaker_name = \"sam_accenture\"\n",
        "    for item in xml_root.findall(\"./fileid\"):\n",
        "        text = item.text\n",
        "        wav_file = os.path.join(root_path, \"vo_voice_quality_transformation\", item.get(\"id\") + \".wav\")\n",
        "        if not os.path.exists(wav_file):\n",
        "            print(f\" [!] {wav_file} in metafile does not exist. Skipping...\")\n",
        "            continue\n",
        "        items.append({\"text\": text, \"audio_file\": wav_file, \"speaker_name\": speaker_name, \"root_path\": root_path})\n",
        "    return items\n",
        "\n",
        "\n",
        "def ruslan(root_path, meta_file, **kwargs):  # pylint: disable=unused-argument\n",
        "    \"\"\"Normalizes the RUSLAN meta data file to TTS format\n",
        "    https://ruslan-corpus.github.io/\"\"\"\n",
        "    txt_file = os.path.join(root_path, meta_file)\n",
        "    items = []\n",
        "    speaker_name = \"ruslan\"\n",
        "    with open(txt_file, \"r\", encoding=\"utf-8\") as ttf:\n",
        "        for line in ttf:\n",
        "            cols = line.split(\"|\")\n",
        "            wav_file = os.path.join(root_path, \"RUSLAN\", cols[0] + \".wav\")\n",
        "            text = cols[1]\n",
        "            items.append({\"text\": text, \"audio_file\": wav_file, \"speaker_name\": speaker_name, \"root_path\": root_path})\n",
        "    return items\n",
        "\n",
        "\n",
        "def css10(root_path, meta_file, **kwargs):  # pylint: disable=unused-argument\n",
        "    \"\"\"Normalizes the CSS10 dataset file to TTS format\"\"\"\n",
        "    txt_file = os.path.join(root_path, meta_file)\n",
        "    items = []\n",
        "    speaker_name = \"css10\"\n",
        "    with open(txt_file, \"r\", encoding=\"utf-8\") as ttf:\n",
        "        for line in ttf:\n",
        "            cols = line.split(\"|\")\n",
        "            wav_file = os.path.join(root_path, cols[0])\n",
        "            text = cols[1]\n",
        "            items.append({\"text\": text, \"audio_file\": wav_file, \"speaker_name\": speaker_name})\n",
        "    return items\n",
        "\n",
        "\n",
        "def nancy(root_path, meta_file, **kwargs):  # pylint: disable=unused-argument\n",
        "    \"\"\"Normalizes the Nancy meta data file to TTS format\"\"\"\n",
        "    txt_file = os.path.join(root_path, meta_file)\n",
        "    items = []\n",
        "    speaker_name = \"nancy\"\n",
        "    with open(txt_file, \"r\", encoding=\"utf-8\") as ttf:\n",
        "        for line in ttf:\n",
        "            utt_id = line.split()[1]\n",
        "            text = line[line.find('\"') + 1 : line.rfind('\"') - 1]\n",
        "            wav_file = os.path.join(root_path, \"wavn\", utt_id + \".wav\")\n",
        "            items.append({\"text\": text, \"audio_file\": wav_file, \"speaker_name\": speaker_name})\n",
        "    return items\n",
        "\n",
        "\n",
        "def common_voice(root_path, meta_file, ignored_speakers=None):\n",
        "    \"\"\"Normalize the common voice meta data file to TTS format.\"\"\"\n",
        "    txt_file = os.path.join(root_path, meta_file)\n",
        "    items = []\n",
        "    with open(txt_file, \"r\", encoding=\"utf-8\") as ttf:\n",
        "        for line in ttf:\n",
        "            if line.startswith(\"client_id\"):\n",
        "                continue\n",
        "            cols = line.split(\"\\t\")\n",
        "            text = cols[2]\n",
        "            speaker_name = cols[0]\n",
        "            # ignore speakers\n",
        "            if isinstance(ignored_speakers, list):\n",
        "                if speaker_name in ignored_speakers:\n",
        "                    continue\n",
        "            wav_file = os.path.join(root_path, \"clips\", cols[1].replace(\".mp3\", \".wav\"))\n",
        "            items.append(\n",
        "                {\"text\": text, \"audio_file\": wav_file, \"speaker_name\": \"MCV_\" + speaker_name, \"root_path\": root_path}\n",
        "            )\n",
        "    return items\n",
        "\n",
        "\n",
        "def libri_tts(root_path, meta_files=None, ignored_speakers=None):\n",
        "    \"\"\"https://ai.google/tools/datasets/libri-tts/\"\"\"\n",
        "    items = []\n",
        "    if not meta_files:\n",
        "        meta_files = glob(f\"{root_path}/**/*trans.tsv\", recursive=True)\n",
        "    else:\n",
        "        if isinstance(meta_files, str):\n",
        "            meta_files = [os.path.join(root_path, meta_files)]\n",
        "\n",
        "    for meta_file in meta_files:\n",
        "        _meta_file = os.path.basename(meta_file).split(\".\")[0]\n",
        "        with open(meta_file, \"r\", encoding=\"utf-8\") as ttf:\n",
        "            for line in ttf:\n",
        "                cols = line.split(\"\\t\")\n",
        "                file_name = cols[0]\n",
        "                speaker_name, chapter_id, *_ = cols[0].split(\"_\")\n",
        "                _root_path = os.path.join(root_path, f\"{speaker_name}/{chapter_id}\")\n",
        "                wav_file = os.path.join(_root_path, file_name + \".wav\")\n",
        "                text = cols[2]\n",
        "                # ignore speakers\n",
        "                if isinstance(ignored_speakers, list):\n",
        "                    if speaker_name in ignored_speakers:\n",
        "                        continue\n",
        "                items.append(\n",
        "                    {\n",
        "                        \"text\": text,\n",
        "                        \"audio_file\": wav_file,\n",
        "                        \"speaker_name\": f\"LTTS_{speaker_name}\",\n",
        "                        \"root_path\": root_path,\n",
        "                    }\n",
        "                )\n",
        "    for item in items:\n",
        "        assert os.path.exists(item[\"audio_file\"]), f\" [!] wav files don't exist - {item['audio_file']}\"\n",
        "    return items\n",
        "\n",
        "\n",
        "def custom_turkish(root_path, meta_file, **kwargs):  # pylint: disable=unused-argument\n",
        "    txt_file = os.path.join(root_path, meta_file)\n",
        "    items = []\n",
        "    speaker_name = \"turkish-female\"\n",
        "    skipped_files = []\n",
        "    with open(txt_file, \"r\", encoding=\"utf-8\") as ttf:\n",
        "        for line in ttf:\n",
        "            cols = line.split(\"|\")\n",
        "            wav_file = os.path.join(root_path, \"wavs\", cols[0].strip() + \".wav\")\n",
        "            if not os.path.exists(wav_file):\n",
        "                skipped_files.append(wav_file)\n",
        "                continue\n",
        "            text = cols[1].strip()\n",
        "            items.append({\"text\": text, \"audio_file\": wav_file, \"speaker_name\": speaker_name, \"root_path\": root_path})\n",
        "    print(f\" [!] {len(skipped_files)} files skipped. They don't exist...\")\n",
        "    return items\n",
        "\n",
        "\n",
        "# ToDo: add the dataset link when the dataset is released publicly\n",
        "def brspeech(root_path, meta_file, ignored_speakers=None):\n",
        "    \"\"\"BRSpeech 3.0 beta\"\"\"\n",
        "    txt_file = os.path.join(root_path, meta_file)\n",
        "    items = []\n",
        "    with open(txt_file, \"r\", encoding=\"utf-8\") as ttf:\n",
        "        for line in ttf:\n",
        "            if line.startswith(\"wav_filename\"):\n",
        "                continue\n",
        "            cols = line.split(\"|\")\n",
        "            wav_file = os.path.join(root_path, cols[0])\n",
        "            text = cols[2]\n",
        "            speaker_id = cols[3]\n",
        "            # ignore speakers\n",
        "            if isinstance(ignored_speakers, list):\n",
        "                if speaker_id in ignored_speakers:\n",
        "                    continue\n",
        "            items.append({\"text\": text, \"audio_file\": wav_file, \"speaker_name\": speaker_id, \"root_path\": root_path})\n",
        "    return items\n",
        "\n",
        "\n",
        "def vctk(root_path, meta_files=None, wavs_path=\"wav48_silence_trimmed\", mic=\"mic1\", ignored_speakers=None):\n",
        "    \"\"\"VCTK dataset v0.92.\n",
        "\n",
        "    URL:\n",
        "        https://datashare.ed.ac.uk/bitstream/handle/10283/3443/VCTK-Corpus-0.92.zip\n",
        "\n",
        "    This dataset has 2 recordings per speaker that are annotated with ```mic1``` and ```mic2```.\n",
        "    It is believed that (😄 ) ```mic1``` files are the same as the previous version of the dataset.\n",
        "\n",
        "    mic1:\n",
        "        Audio recorded using an omni-directional microphone (DPA 4035).\n",
        "        Contains very low frequency noises.\n",
        "        This is the same audio released in previous versions of VCTK:\n",
        "        https://doi.org/10.7488/ds/1994\n",
        "\n",
        "    mic2:\n",
        "        Audio recorded using a small diaphragm condenser microphone with\n",
        "        very wide bandwidth (Sennheiser MKH 800).\n",
        "        Two speakers, p280 and p315 had technical issues of the audio\n",
        "        recordings using MKH 800.\n",
        "    \"\"\"\n",
        "    file_ext = \"flac\"\n",
        "    items = []\n",
        "    meta_files = glob(f\"{os.path.join(root_path,'txt')}/**/*.txt\", recursive=True)\n",
        "    for meta_file in meta_files:\n",
        "        _, speaker_id, txt_file = os.path.relpath(meta_file, root_path).split(os.sep)\n",
        "        file_id = txt_file.split(\".\")[0]\n",
        "        # ignore speakers\n",
        "        if isinstance(ignored_speakers, list):\n",
        "            if speaker_id in ignored_speakers:\n",
        "                continue\n",
        "        with open(meta_file, \"r\", encoding=\"utf-8\") as file_text:\n",
        "            text = file_text.readlines()[0]\n",
        "        # p280 has no mic2 recordings\n",
        "        if speaker_id == \"p280\":\n",
        "            wav_file = os.path.join(root_path, wavs_path, speaker_id, file_id + f\"_mic1.{file_ext}\")\n",
        "        else:\n",
        "            wav_file = os.path.join(root_path, wavs_path, speaker_id, file_id + f\"_{mic}.{file_ext}\")\n",
        "        if os.path.exists(wav_file):\n",
        "            items.append(\n",
        "                {\"text\": text, \"audio_file\": wav_file, \"speaker_name\": \"VCTK_\" + speaker_id, \"root_path\": root_path}\n",
        "            )\n",
        "        else:\n",
        "            print(f\" [!] wav files don't exist - {wav_file}\")\n",
        "    return items\n",
        "\n",
        "\n",
        "def vctk_old(root_path, meta_files=None, wavs_path=\"wav48\", ignored_speakers=None):\n",
        "    \"\"\"homepages.inf.ed.ac.uk/jyamagis/release/VCTK-Corpus.tar.gz\"\"\"\n",
        "    items = []\n",
        "    meta_files = glob(f\"{os.path.join(root_path,'txt')}/**/*.txt\", recursive=True)\n",
        "    for meta_file in meta_files:\n",
        "        _, speaker_id, txt_file = os.path.relpath(meta_file, root_path).split(os.sep)\n",
        "        file_id = txt_file.split(\".\")[0]\n",
        "        # ignore speakers\n",
        "        if isinstance(ignored_speakers, list):\n",
        "            if speaker_id in ignored_speakers:\n",
        "                continue\n",
        "        with open(meta_file, \"r\", encoding=\"utf-8\") as file_text:\n",
        "            text = file_text.readlines()[0]\n",
        "        wav_file = os.path.join(root_path, wavs_path, speaker_id, file_id + \".wav\")\n",
        "        items.append(\n",
        "            {\"text\": text, \"audio_file\": wav_file, \"speaker_name\": \"VCTK_old_\" + speaker_id, \"root_path\": root_path}\n",
        "        )\n",
        "    return items\n",
        "\n",
        "\n",
        "def synpaflex(root_path, metafiles=None, **kwargs):  # pylint: disable=unused-argument\n",
        "    items = []\n",
        "    speaker_name = \"synpaflex\"\n",
        "    root_path = os.path.join(root_path, \"\")\n",
        "    wav_files = glob(f\"{root_path}**/*.wav\", recursive=True)\n",
        "    for wav_file in wav_files:\n",
        "        if os.sep + \"wav\" + os.sep in wav_file:\n",
        "            txt_file = wav_file.replace(\"wav\", \"txt\")\n",
        "        else:\n",
        "            txt_file = os.path.join(\n",
        "                os.path.dirname(wav_file), \"txt\", os.path.basename(wav_file).replace(\".wav\", \".txt\")\n",
        "            )\n",
        "        if os.path.exists(txt_file) and os.path.exists(wav_file):\n",
        "            with open(txt_file, \"r\", encoding=\"utf-8\") as file_text:\n",
        "                text = file_text.readlines()[0]\n",
        "            items.append({\"text\": text, \"audio_file\": wav_file, \"speaker_name\": speaker_name, \"root_path\": root_path})\n",
        "    return items\n",
        "\n",
        "\n",
        "def open_bible(root_path, meta_files=\"train\", ignore_digits_sentences=True, ignored_speakers=None):\n",
        "    \"\"\"ToDo: Refer the paper when available\"\"\"\n",
        "    items = []\n",
        "    split_dir = meta_files\n",
        "    meta_files = glob(f\"{os.path.join(root_path, split_dir)}/**/*.txt\", recursive=True)\n",
        "    for meta_file in meta_files:\n",
        "        _, speaker_id, txt_file = os.path.relpath(meta_file, root_path).split(os.sep)\n",
        "        file_id = txt_file.split(\".\")[0]\n",
        "        # ignore speakers\n",
        "        if isinstance(ignored_speakers, list):\n",
        "            if speaker_id in ignored_speakers:\n",
        "                continue\n",
        "        with open(meta_file, \"r\", encoding=\"utf-8\") as file_text:\n",
        "            text = file_text.readline().replace(\"\\n\", \"\")\n",
        "        # ignore sentences that contains digits\n",
        "        if ignore_digits_sentences and any(map(str.isdigit, text)):\n",
        "            continue\n",
        "        wav_file = os.path.join(root_path, split_dir, speaker_id, file_id + \".flac\")\n",
        "        items.append({\"text\": text, \"audio_file\": wav_file, \"speaker_name\": \"OB_\" + speaker_id, \"root_path\": root_path})\n",
        "    return items\n",
        "\n",
        "\n",
        "def mls(root_path, meta_files=None, ignored_speakers=None):\n",
        "    \"\"\"http://www.openslr.org/94/\"\"\"\n",
        "    items = []\n",
        "    with open(os.path.join(root_path, meta_files), \"r\", encoding=\"utf-8\") as meta:\n",
        "        for line in meta:\n",
        "            file, text = line.split(\"\\t\")\n",
        "            text = text[:-1]\n",
        "            speaker, book, *_ = file.split(\"_\")\n",
        "            wav_file = os.path.join(root_path, os.path.dirname(meta_files), \"audio\", speaker, book, file + \".wav\")\n",
        "            # ignore speakers\n",
        "            if isinstance(ignored_speakers, list):\n",
        "                if speaker in ignored_speakers:\n",
        "                    continue\n",
        "            items.append(\n",
        "                {\"text\": text, \"audio_file\": wav_file, \"speaker_name\": \"MLS_\" + speaker, \"root_path\": root_path}\n",
        "            )\n",
        "    return items\n",
        "\n",
        "\n",
        "# ======================================== VOX CELEB ===========================================\n",
        "def voxceleb2(root_path, meta_file=None, **kwargs):  # pylint: disable=unused-argument\n",
        "    \"\"\"\n",
        "    :param meta_file   Used only for consistency with load_tts_samples api\n",
        "    \"\"\"\n",
        "    return _voxcel_x(root_path, meta_file, voxcel_idx=\"2\")\n",
        "\n",
        "\n",
        "def voxceleb1(root_path, meta_file=None, **kwargs):  # pylint: disable=unused-argument\n",
        "    \"\"\"\n",
        "    :param meta_file   Used only for consistency with load_tts_samples api\n",
        "    \"\"\"\n",
        "    return _voxcel_x(root_path, meta_file, voxcel_idx=\"1\")\n",
        "\n",
        "\n",
        "def _voxcel_x(root_path, meta_file, voxcel_idx):\n",
        "    assert voxcel_idx in [\"1\", \"2\"]\n",
        "    expected_count = 148_000 if voxcel_idx == \"1\" else 1_000_000\n",
        "    voxceleb_path = Path(root_path)\n",
        "    cache_to = voxceleb_path / f\"metafile_voxceleb{voxcel_idx}.csv\"\n",
        "    cache_to.parent.mkdir(exist_ok=True)\n",
        "\n",
        "    # if not exists meta file, crawl recursively for 'wav' files\n",
        "    if meta_file is not None:\n",
        "        with open(str(meta_file), \"r\", encoding=\"utf-8\") as f:\n",
        "            return [x.strip().split(\"|\") for x in f.readlines()]\n",
        "\n",
        "    elif not cache_to.exists():\n",
        "        cnt = 0\n",
        "        meta_data = []\n",
        "        wav_files = voxceleb_path.rglob(\"**/*.wav\")\n",
        "        for path in tqdm(\n",
        "            wav_files,\n",
        "            desc=f\"Building VoxCeleb {voxcel_idx} Meta file ... this needs to be done only once.\",\n",
        "            total=expected_count,\n",
        "        ):\n",
        "            speaker_id = str(Path(path).parent.parent.stem)\n",
        "            assert speaker_id.startswith(\"id\")\n",
        "            text = None  # VoxCel does not provide transciptions, and they are not needed for training the SE\n",
        "            meta_data.append(f\"{text}|{path}|voxcel{voxcel_idx}_{speaker_id}\\n\")\n",
        "            cnt += 1\n",
        "        with open(str(cache_to), \"w\", encoding=\"utf-8\") as f:\n",
        "            f.write(\"\".join(meta_data))\n",
        "        if cnt < expected_count:\n",
        "            raise ValueError(f\"Found too few instances for Voxceleb. Should be around {expected_count}, is: {cnt}\")\n",
        "\n",
        "    with open(str(cache_to), \"r\", encoding=\"utf-8\") as f:\n",
        "        return [x.strip().split(\"|\") for x in f.readlines()]\n",
        "\n",
        "\n",
        "def emotion(root_path, meta_file, ignored_speakers=None):\n",
        "    \"\"\"Generic emotion dataset\"\"\"\n",
        "    txt_file = os.path.join(root_path, meta_file)\n",
        "    items = []\n",
        "    with open(txt_file, \"r\", encoding=\"utf-8\") as ttf:\n",
        "        for line in ttf:\n",
        "            if line.startswith(\"file_path\"):\n",
        "                continue\n",
        "            cols = line.split(\",\")\n",
        "            wav_file = os.path.join(root_path, cols[0])\n",
        "            speaker_id = cols[1]\n",
        "            emotion_id = cols[2].replace(\"\\n\", \"\")\n",
        "            # ignore speakers\n",
        "            if isinstance(ignored_speakers, list):\n",
        "                if speaker_id in ignored_speakers:\n",
        "                    continue\n",
        "            items.append(\n",
        "                {\"audio_file\": wav_file, \"speaker_name\": speaker_id, \"emotion_name\": emotion_id, \"root_path\": root_path}\n",
        "            )\n",
        "    return items\n",
        "\n",
        "\n",
        "def baker(root_path: str, meta_file: str, **kwargs) -> List[List[str]]:  # pylint: disable=unused-argument\n",
        "    \"\"\"Normalizes the Baker meta data file to TTS format\n",
        "\n",
        "    Args:\n",
        "        root_path (str): path to the baker dataset\n",
        "        meta_file (str): name of the meta dataset containing names of wav to select and the transcript of the sentence\n",
        "    Returns:\n",
        "        List[List[str]]: List of (text, wav_path, speaker_name) associated with each sentences\n",
        "    \"\"\"\n",
        "    txt_file = os.path.join(root_path, meta_file)\n",
        "    items = []\n",
        "    speaker_name = \"baker\"\n",
        "    with open(txt_file, \"r\", encoding=\"utf-8\") as ttf:\n",
        "        for line in ttf:\n",
        "            wav_name, text = line.rstrip(\"\\n\").split(\"|\")\n",
        "            wav_path = os.path.join(root_path, \"clips_22\", wav_name)\n",
        "            items.append({\"text\": text, \"audio_file\": wav_path, \"speaker_name\": speaker_name, \"root_path\": root_path})\n",
        "    return items\n",
        "\n",
        "\n",
        "def kokoro(root_path, meta_file, **kwargs):  # pylint: disable=unused-argument\n",
        "    \"\"\"Japanese single-speaker dataset from https://github.com/kaiidams/Kokoro-Speech-Dataset\"\"\"\n",
        "    txt_file = os.path.join(root_path, meta_file)\n",
        "    items = []\n",
        "    speaker_name = \"kokoro\"\n",
        "    with open(txt_file, \"r\", encoding=\"utf-8\") as ttf:\n",
        "        for line in ttf:\n",
        "            cols = line.split(\"|\")\n",
        "            wav_file = os.path.join(root_path, \"wavs\", cols[0] + \".wav\")\n",
        "            text = cols[2].replace(\" \", \"\")\n",
        "            items.append({\"text\": text, \"audio_file\": wav_file, \"speaker_name\": speaker_name, \"root_path\": root_path})\n",
        "    return items\n",
        "\n",
        "\n",
        "def kss(root_path, meta_file, **kwargs):  # pylint: disable=unused-argument\n",
        "    \"\"\"Korean single-speaker dataset from https://www.kaggle.com/datasets/bryanpark/korean-single-speaker-speech-dataset\"\"\"\n",
        "    txt_file = os.path.join(root_path, meta_file)\n",
        "    items = []\n",
        "    speaker_name = \"kss\"\n",
        "    with open(txt_file, \"r\", encoding=\"utf-8\") as ttf:\n",
        "        for line in ttf:\n",
        "            cols = line.split(\"|\")\n",
        "            wav_file = os.path.join(root_path, cols[0])\n",
        "            text = cols[2]  # cols[1] => 6월, cols[2] => 유월\n",
        "            items.append({\"text\": text, \"audio_file\": wav_file, \"speaker_name\": speaker_name, \"root_path\": root_path})\n",
        "    return items\n",
        "'''\n",
        "\n",
        "\n",
        "with open(\"/content/TTS/TTS/tts/datasets/formatters.py\",\"w\", encoding = 'utf-8') as f:\n",
        "  f.write(code)\n",
        "f.close()"
      ]
    },
    {
      "cell_type": "code",
      "execution_count": null,
      "metadata": {
        "id": "dJe52s-prW1o"
      },
      "outputs": [],
      "source": [
        "dataset_config = BaseDatasetConfig(\n",
        "    formatter=\"custom_formatter\", meta_file_train=\"/content/drive/MyDrive/dataset/metadata.csv\", path=root_path, )"
      ]
    },
    {
      "cell_type": "code",
      "execution_count": null,
      "metadata": {
        "colab": {
          "base_uri": "https://localhost:8080/"
        },
        "id": "GAg4A_w8prHm",
        "outputId": "94e566cc-e37f-43b9-b97e-b24453a08a2b"
      },
      "outputs": [
        {
          "output_type": "execute_result",
          "data": {
            "text/plain": [
              "BaseDatasetConfig(formatter='custom_formatter', dataset_name='', path='/content/drive/MyDrive/dataset/converted', meta_file_train='/content/drive/MyDrive/dataset/metadata.csv', ignored_speakers=None, language='', phonemizer='', meta_file_val='', meta_file_attn_mask='')"
            ]
          },
          "metadata": {},
          "execution_count": 70
        }
      ],
      "source": [
        "dataset_config"
      ]
    },
    {
      "cell_type": "code",
      "execution_count": null,
      "metadata": {
        "id": "0haqE1R8rW4P"
      },
      "outputs": [],
      "source": [
        "# GlowTTSConfig: all model related values for training, validating and testing.\n",
        "from TTS.tts.configs.glow_tts_config import GlowTTSConfig\n",
        "config = GlowTTSConfig(\n",
        "    batch_size=1,\n",
        "    eval_batch_size=1,\n",
        "    num_loader_workers=4,\n",
        "    num_eval_loader_workers=4,\n",
        "    run_eval=True,\n",
        "    test_delay_epochs=-1,\n",
        "    epochs=160,\n",
        "    text_cleaner=\"phoneme_cleaners\",\n",
        "    use_phonemes=True,\n",
        "    phoneme_language=\"en-us\",\n",
        "    phoneme_cache_path=os.path.join(output_path, \"phoneme_cache\"),\n",
        "    print_step=500,\n",
        "    print_eval=False,\n",
        "    mixed_precision=True,\n",
        "    output_path=output_path,\n",
        "    datasets=[dataset_config],\n",
        "    save_step=10000,\n",
        ")"
      ]
    },
    {
      "cell_type": "code",
      "execution_count": null,
      "metadata": {
        "id": "nDUHccznrW6l",
        "colab": {
          "base_uri": "https://localhost:8080/"
        },
        "outputId": "1651ef13-6fd1-4f2d-d711-9ac06b2890ea"
      },
      "outputs": [
        {
          "output_type": "stream",
          "name": "stdout",
          "text": [
            " > Setting up Audio Processor...\n",
            " | > sample_rate:22050\n",
            " | > resample:False\n",
            " | > num_mels:80\n",
            " | > log_func:np.log10\n",
            " | > min_level_db:-100\n",
            " | > frame_shift_ms:None\n",
            " | > frame_length_ms:None\n",
            " | > ref_level_db:20\n",
            " | > fft_size:1024\n",
            " | > power:1.5\n",
            " | > preemphasis:0.0\n",
            " | > griffin_lim_iters:60\n",
            " | > signal_norm:True\n",
            " | > symmetric_norm:True\n",
            " | > mel_fmin:0\n",
            " | > mel_fmax:None\n",
            " | > pitch_fmin:1.0\n",
            " | > pitch_fmax:640.0\n",
            " | > spec_gain:20.0\n",
            " | > stft_pad_mode:reflect\n",
            " | > max_norm:4.0\n",
            " | > clip_norm:True\n",
            " | > do_trim_silence:True\n",
            " | > trim_db:45\n",
            " | > do_sound_norm:False\n",
            " | > do_amp_to_db_linear:True\n",
            " | > do_amp_to_db_mel:True\n",
            " | > do_rms_norm:False\n",
            " | > db_level:None\n",
            " | > stats_path:None\n",
            " | > base:10\n",
            " | > hop_length:256\n",
            " | > win_length:1024\n"
          ]
        }
      ],
      "source": [
        "from TTS.utils.audio import AudioProcessor\n",
        "ap = AudioProcessor.init_from_config(config)"
      ]
    },
    {
      "cell_type": "code",
      "execution_count": null,
      "metadata": {
        "id": "5EvCjPrOrW9j"
      },
      "outputs": [],
      "source": [
        "from TTS.tts.utils.text.tokenizer import TTSTokenizer\n",
        "tokenizer, config = TTSTokenizer.init_from_config(config)"
      ]
    },
    {
      "cell_type": "code",
      "execution_count": null,
      "metadata": {
        "id": "RUlmgNe5hm4n",
        "colab": {
          "base_uri": "https://localhost:8080/"
        },
        "outputId": "07eb7067-0783-4893-b7e5-b9788a3033db"
      },
      "outputs": [
        {
          "output_type": "stream",
          "name": "stdout",
          "text": [
            "/content/TTS/TTS/tts/datasets\n",
            "/content\n"
          ]
        }
      ],
      "source": [
        "%cd /content/TTS/TTS/tts/datasets\n",
        "from formatters import custom_formatter\n",
        "%cd /content/"
      ]
    },
    {
      "cell_type": "code",
      "execution_count": 5,
      "metadata": {
        "id": "Gct4PZndrXBr"
      },
      "outputs": [],
      "source": [
        "from TTS.tts.datasets import load_tts_samples\n",
        "train_samples, eval_samples = load_tts_samples(\n",
        "    dataset_config,\n",
        "    eval_split=True,\n",
        "    formatter = custom_formatter,\n",
        "    eval_split_max_size=config.eval_split_max_size,\n",
        "    eval_split_size= 0.012195121951219513,\n",
        ")"
      ]
    },
    {
      "cell_type": "code",
      "execution_count": null,
      "metadata": {
        "id": "wOv9A72_rXEA"
      },
      "outputs": [],
      "source": [
        "from TTS.tts.models.glow_tts import GlowTTS\n",
        "model = GlowTTS(config, ap, tokenizer, speaker_manager=None).to('cuda')"
      ]
    },
    {
      "cell_type": "code",
      "execution_count": null,
      "metadata": {
        "colab": {
          "base_uri": "https://localhost:8080/"
        },
        "id": "fehejH6PrXGm",
        "outputId": "de891129-d0f0-4906-e9af-ab16921a9cb7"
      },
      "outputs": [
        {
          "output_type": "stream",
          "name": "stderr",
          "text": [
            " > Training Environment:\n",
            " | > Backend: Torch\n",
            " | > Mixed precision: True\n",
            " | > Precision: fp16\n",
            " | > Current device: 0\n",
            " | > Num. of GPUs: 1\n",
            " | > Num. of CPUs: 2\n",
            " | > Num. of Torch Threads: 1\n",
            " | > Torch seed: 54321\n",
            " | > Torch CUDNN: True\n",
            " | > Torch CUDNN deterministic: False\n",
            " | > Torch CUDNN benchmark: False\n",
            " | > Torch TF32 MatMul: False\n",
            " > Start Tensorboard: tensorboard --logdir=/content/drive/MyDrive/dataset/cloned/run-July-20-2023_10+24PM-0000000\n",
            "\n",
            " > Model has 28610257 parameters\n"
          ]
        }
      ],
      "source": [
        "from trainer import Trainer, TrainerArgs\n",
        "trainer = Trainer(\n",
        "    TrainerArgs(), config, output_path, model=model.to('cuda'), train_samples=train_samples, eval_samples=eval_samples\n",
        ")"
      ]
    },
    {
      "cell_type": "code",
      "execution_count": null,
      "metadata": {
        "colab": {
          "base_uri": "https://localhost:8080/"
        },
        "id": "VAGBZobKrXKn",
        "outputId": "9d633b05-104b-4328-d1df-ad95471e8a67"
      },
      "outputs": [
        {
          "metadata": {
            "tags": null
          },
          "name": "stderr",
          "output_type": "stream",
          "text": [
            "\n",
            "\u001b[4m\u001b[1m > EPOCH: 0/160\u001b[0m\n",
            " --> /content/drive/MyDrive/dataset/cloned/run-July-20-2023_10+24PM-0000000\n",
            "/usr/local/lib/python3.10/dist-packages/torch/utils/data/dataloader.py:560: UserWarning: This DataLoader will create 4 worker processes in total. Our suggested max number of worker in current system is 2, which is smaller than what this DataLoader is going to create. Please be aware that excessive worker creation might get DataLoader running slow or even freeze, lower the worker number to avoid potential slowness/freeze if necessary.\n",
            "  warnings.warn(_create_warning_msg(\n",
            "\n",
            "\u001b[1m > TRAINING (2023-07-20 22:24:38) \u001b[0m\n"
          ]
        },
        {
          "metadata": {
            "tags": null
          },
          "name": "stdout",
          "output_type": "stream",
          "text": [
            "\n",
            "\n",
            "> DataLoader initialization\n",
            "| > Tokenizer:\n",
            "\t| > add_blank: False\n",
            "\t| > use_eos_bos: False\n",
            "\t| > use_phonemes: True\n",
            "\t| > phonemizer:\n",
            "\t\t| > phoneme language: en-us\n",
            "\t\t| > phoneme backend: gruut\n",
            "| > Number of instances : 81\n",
            " | > Preprocessing samples\n",
            " | > Max text length: 203\n",
            " | > Min text length: 80\n",
            " | > Avg text length: 136.02469135802468\n",
            " | \n",
            " | > Max audio length: 176201.0\n",
            " | > Min audio length: 176201.0\n",
            " | > Avg audio length: 176201.0\n",
            " | > Num. instances discarded samples: 0\n",
            " | > Batch group size: 0.\n"
          ]
        },
        {
          "metadata": {
            "tags": null
          },
          "name": "stderr",
          "output_type": "stream",
          "text": [
            "\n",
            "\u001b[1m   --> TIME: 2023-07-20 22:24:39 -- STEP: 0/81 -- GLOBAL_STEP: 0\u001b[0m\n",
            "     | > current_lr: 2.5e-07 \n",
            "     | > step_time: 0.64  (0.6400003433227539)\n",
            "     | > loader_time: 0.9266  (0.9266359806060791)\n",
            "\n",
            " [!] `train_step()` retuned `None` outputs. Skipping training step.\n",
            " [!] `train_step()` retuned `None` outputs. Skipping training step.\n",
            " [!] `train_step()` retuned `None` outputs. Skipping training step.\n",
            " [!] `train_step()` retuned `None` outputs. Skipping training step.\n",
            " [!] `train_step()` retuned `None` outputs. Skipping training step.\n",
            " [!] `train_step()` retuned `None` outputs. Skipping training step.\n",
            " [!] `train_step()` retuned `None` outputs. Skipping training step.\n",
            " [!] `train_step()` retuned `None` outputs. Skipping training step.\n",
            " [!] `train_step()` retuned `None` outputs. Skipping training step.\n",
            " [!] `train_step()` retuned `None` outputs. Skipping training step.\n",
            "\n",
            "\u001b[1m > EVALUATION \u001b[0m\n",
            "\n"
          ]
        },
        {
          "metadata": {
            "tags": null
          },
          "name": "stdout",
          "output_type": "stream",
          "text": [
            "\n",
            "\n",
            "> DataLoader initialization\n",
            "| > Tokenizer:\n",
            "\t| > add_blank: False\n",
            "\t| > use_eos_bos: False\n",
            "\t| > use_phonemes: True\n",
            "\t| > phonemizer:\n",
            "\t\t| > phoneme language: en-us\n",
            "\t\t| > phoneme backend: gruut\n",
            "| > Number of instances : 1\n",
            " | > Preprocessing samples\n",
            " | > Max text length: 124\n",
            " | > Min text length: 124\n",
            " | > Avg text length: 124.0\n",
            " | \n",
            " | > Max audio length: 176201.0\n",
            " | > Min audio length: 176201.0\n",
            " | > Avg audio length: 176201.0\n",
            " | > Num. instances discarded samples: 0\n",
            " | > Batch group size: 0.\n",
            "tə kɹieɪt ɪn, vɛɹi dɪfɹənt weɪz aɪ hæv ðə pɹɪvɪlɪd͡ʒ tə bi ɪn ə pəzɪʃən, ðæt nɑt mɛni hæv bɪn ɪn ænd aɪv kɹieɪtɪd ðæt\n",
            " [!] Character '͡' not found in the vocabulary. Discarding it.\n"
          ]
        },
        {
          "metadata": {
            "tags": null
          },
          "name": "stderr",
          "output_type": "stream",
          "text": [
            "\n",
            "  \u001b[1m--> EVAL PERFORMANCE\u001b[0m\n",
            "     | > avg_loader_time: 0.38957834243774414 \u001b[0m(+0)\n",
            "     | > avg_loss: 4.193241119384766 \u001b[0m(+0)\n",
            "     | > avg_log_mle: 0.6901057958602905 \u001b[0m(+0)\n",
            "     | > avg_loss_dur: 3.5031352043151855 \u001b[0m(+0)\n",
            "\n"
          ]
        },
        {
          "metadata": {
            "tags": null
          },
          "name": "stdout",
          "output_type": "stream",
          "text": [
            " | > Synthesizing test sentences.\n"
          ]
        },
        {
          "metadata": {
            "tags": null
          },
          "name": "stderr",
          "output_type": "stream",
          "text": [
            "\n",
            "  \u001b[1m--> EVAL PERFORMANCE\u001b[0m\n",
            "     | > avg_loader_time: 0.38957834243774414 \u001b[0m(+0.0)\n",
            "     | > avg_loss: 4.193241119384766 \u001b[0m(+0.0)\n",
            "     | > avg_log_mle: 0.6901057958602905 \u001b[0m(+0.0)\n",
            "     | > avg_loss_dur: 3.5031352043151855 \u001b[0m(+0.0)\n",
            "\n",
            " > BEST MODEL : /content/drive/MyDrive/dataset/cloned/run-July-20-2023_10+24PM-0000000/best_model_81.pth\n",
            "\n",
            "\u001b[4m\u001b[1m > EPOCH: 1/160\u001b[0m\n",
            " --> /content/drive/MyDrive/dataset/cloned/run-July-20-2023_10+24PM-0000000\n",
            "\n",
            "\u001b[1m > TRAINING (2023-07-20 22:25:23) \u001b[0m\n",
            "/usr/local/lib/python3.10/dist-packages/torch/utils/data/dataloader.py:560: UserWarning: This DataLoader will create 4 worker processes in total. Our suggested max number of worker in current system is 2, which is smaller than what this DataLoader is going to create. Please be aware that excessive worker creation might get DataLoader running slow or even freeze, lower the worker number to avoid potential slowness/freeze if necessary.\n",
            "  warnings.warn(_create_warning_msg(\n",
            "\n",
            "\u001b[1m > EVALUATION \u001b[0m\n",
            "\n",
            "\n",
            "  \u001b[1m--> EVAL PERFORMANCE\u001b[0m\n",
            "     | > avg_loader_time:\u001b[92m 0.3167874813079834 \u001b[0m(-0.07279086112976074)\n",
            "     | > avg_loss:\u001b[92m 4.159564971923828 \u001b[0m(-0.0336761474609375)\n",
            "     | > avg_log_mle:\u001b[92m 0.6891859769821167 \u001b[0m(-0.0009198188781738281)\n",
            "     | > avg_loss_dur:\u001b[92m 3.470379114151001 \u001b[0m(-0.03275609016418457)\n",
            "\n"
          ]
        },
        {
          "metadata": {
            "tags": null
          },
          "name": "stdout",
          "output_type": "stream",
          "text": [
            " | > Synthesizing test sentences.\n"
          ]
        },
        {
          "metadata": {
            "tags": null
          },
          "name": "stderr",
          "output_type": "stream",
          "text": [
            "\n",
            "  \u001b[1m--> EVAL PERFORMANCE\u001b[0m\n",
            "     | > avg_loader_time: 0.3167874813079834 \u001b[0m(+0.0)\n",
            "     | > avg_loss: 4.159564971923828 \u001b[0m(+0.0)\n",
            "     | > avg_log_mle: 0.6891859769821167 \u001b[0m(+0.0)\n",
            "     | > avg_loss_dur: 3.470379114151001 \u001b[0m(+0.0)\n",
            "\n",
            " > BEST MODEL : /content/drive/MyDrive/dataset/cloned/run-July-20-2023_10+24PM-0000000/best_model_162.pth\n",
            "\n",
            "\u001b[4m\u001b[1m > EPOCH: 2/160\u001b[0m\n",
            " --> /content/drive/MyDrive/dataset/cloned/run-July-20-2023_10+24PM-0000000\n",
            "\n",
            "\u001b[1m > TRAINING (2023-07-20 22:26:14) \u001b[0m\n",
            "\n",
            "\u001b[1m > EVALUATION \u001b[0m\n",
            "\n",
            "\n",
            "  \u001b[1m--> EVAL PERFORMANCE\u001b[0m\n",
            "     | > avg_loader_time:\u001b[91m 0.3324086666107178 \u001b[0m(+0.015621185302734375)\n",
            "     | > avg_loss:\u001b[92m 4.053112506866455 \u001b[0m(-0.10645246505737305)\n",
            "     | > avg_log_mle:\u001b[92m 0.6867406964302063 \u001b[0m(-0.0024452805519104004)\n",
            "     | > avg_loss_dur:\u001b[92m 3.3663718700408936 \u001b[0m(-0.10400724411010742)\n",
            "\n"
          ]
        },
        {
          "metadata": {
            "tags": null
          },
          "name": "stdout",
          "output_type": "stream",
          "text": [
            " | > Synthesizing test sentences.\n"
          ]
        },
        {
          "metadata": {
            "tags": null
          },
          "name": "stderr",
          "output_type": "stream",
          "text": [
            "\n",
            "  \u001b[1m--> EVAL PERFORMANCE\u001b[0m\n",
            "     | > avg_loader_time: 0.3324086666107178 \u001b[0m(+0.0)\n",
            "     | > avg_loss: 4.053112506866455 \u001b[0m(+0.0)\n",
            "     | > avg_log_mle: 0.6867406964302063 \u001b[0m(+0.0)\n",
            "     | > avg_loss_dur: 3.3663718700408936 \u001b[0m(+0.0)\n",
            "\n",
            " > BEST MODEL : /content/drive/MyDrive/dataset/cloned/run-July-20-2023_10+24PM-0000000/best_model_243.pth\n",
            "\n",
            "\u001b[4m\u001b[1m > EPOCH: 3/160\u001b[0m\n",
            " --> /content/drive/MyDrive/dataset/cloned/run-July-20-2023_10+24PM-0000000\n",
            "\n",
            "\u001b[1m > TRAINING (2023-07-20 22:26:59) \u001b[0m\n",
            "\n",
            "\u001b[1m > EVALUATION \u001b[0m\n",
            "\n",
            "\n",
            "  \u001b[1m--> EVAL PERFORMANCE\u001b[0m\n",
            "     | > avg_loader_time:\u001b[91m 0.33680009841918945 \u001b[0m(+0.00439143180847168)\n",
            "     | > avg_loss:\u001b[92m 3.889651298522949 \u001b[0m(-0.16346120834350586)\n",
            "     | > avg_log_mle:\u001b[92m 0.6823251843452454 \u001b[0m(-0.0044155120849609375)\n",
            "     | > avg_loss_dur:\u001b[92m 3.2073261737823486 \u001b[0m(-0.15904569625854492)\n",
            "\n"
          ]
        },
        {
          "metadata": {
            "tags": null
          },
          "name": "stdout",
          "output_type": "stream",
          "text": [
            " | > Synthesizing test sentences.\n"
          ]
        },
        {
          "metadata": {
            "tags": null
          },
          "name": "stderr",
          "output_type": "stream",
          "text": [
            "\n",
            "  \u001b[1m--> EVAL PERFORMANCE\u001b[0m\n",
            "     | > avg_loader_time: 0.33680009841918945 \u001b[0m(+0.0)\n",
            "     | > avg_loss: 3.889651298522949 \u001b[0m(+0.0)\n",
            "     | > avg_log_mle: 0.6823251843452454 \u001b[0m(+0.0)\n",
            "     | > avg_loss_dur: 3.2073261737823486 \u001b[0m(+0.0)\n",
            "\n",
            " > BEST MODEL : /content/drive/MyDrive/dataset/cloned/run-July-20-2023_10+24PM-0000000/best_model_324.pth\n",
            "\n",
            "\u001b[4m\u001b[1m > EPOCH: 4/160\u001b[0m\n",
            " --> /content/drive/MyDrive/dataset/cloned/run-July-20-2023_10+24PM-0000000\n",
            "\n",
            "\u001b[1m > TRAINING (2023-07-20 22:27:44) \u001b[0m\n",
            "\n",
            "\u001b[1m > EVALUATION \u001b[0m\n",
            "\n",
            "\n",
            "  \u001b[1m--> EVAL PERFORMANCE\u001b[0m\n",
            "     | > avg_loader_time:\u001b[91m 0.49082303047180176 \u001b[0m(+0.1540229320526123)\n",
            "     | > avg_loss:\u001b[92m 3.5116825103759766 \u001b[0m(-0.37796878814697266)\n",
            "     | > avg_log_mle:\u001b[92m 0.67558753490448 \u001b[0m(-0.006737649440765381)\n",
            "     | > avg_loss_dur:\u001b[92m 2.836095094680786 \u001b[0m(-0.3712310791015625)\n",
            "\n"
          ]
        },
        {
          "metadata": {
            "tags": null
          },
          "name": "stdout",
          "output_type": "stream",
          "text": [
            " | > Synthesizing test sentences.\n"
          ]
        },
        {
          "metadata": {
            "tags": null
          },
          "name": "stderr",
          "output_type": "stream",
          "text": [
            "\n",
            "  \u001b[1m--> EVAL PERFORMANCE\u001b[0m\n",
            "     | > avg_loader_time: 0.49082303047180176 \u001b[0m(+0.0)\n",
            "     | > avg_loss: 3.5116825103759766 \u001b[0m(+0.0)\n",
            "     | > avg_log_mle: 0.67558753490448 \u001b[0m(+0.0)\n",
            "     | > avg_loss_dur: 2.836095094680786 \u001b[0m(+0.0)\n",
            "\n",
            " > BEST MODEL : /content/drive/MyDrive/dataset/cloned/run-July-20-2023_10+24PM-0000000/best_model_405.pth\n",
            "\n",
            "\u001b[4m\u001b[1m > EPOCH: 5/160\u001b[0m\n",
            " --> /content/drive/MyDrive/dataset/cloned/run-July-20-2023_10+24PM-0000000\n",
            "\n",
            "\u001b[1m > TRAINING (2023-07-20 22:28:35) \u001b[0m\n",
            "\n",
            "\u001b[1m > EVALUATION \u001b[0m\n",
            "\n",
            "\n",
            "  \u001b[1m--> EVAL PERFORMANCE\u001b[0m\n",
            "     | > avg_loader_time:\u001b[92m 0.3622133731842041 \u001b[0m(-0.12860965728759766)\n",
            "     | > avg_loss:\u001b[92m 3.2356529235839844 \u001b[0m(-0.2760295867919922)\n",
            "     | > avg_log_mle:\u001b[92m 0.6658945083618164 \u001b[0m(-0.009693026542663574)\n",
            "     | > avg_loss_dur:\u001b[92m 2.569758415222168 \u001b[0m(-0.26633667945861816)\n",
            "\n"
          ]
        },
        {
          "metadata": {
            "tags": null
          },
          "name": "stdout",
          "output_type": "stream",
          "text": [
            " | > Synthesizing test sentences.\n"
          ]
        },
        {
          "metadata": {
            "tags": null
          },
          "name": "stderr",
          "output_type": "stream",
          "text": [
            "\n",
            "  \u001b[1m--> EVAL PERFORMANCE\u001b[0m\n",
            "     | > avg_loader_time: 0.3622133731842041 \u001b[0m(+0.0)\n",
            "     | > avg_loss: 3.2356529235839844 \u001b[0m(+0.0)\n",
            "     | > avg_log_mle: 0.6658945083618164 \u001b[0m(+0.0)\n",
            "     | > avg_loss_dur: 2.569758415222168 \u001b[0m(+0.0)\n",
            "\n",
            " > BEST MODEL : /content/drive/MyDrive/dataset/cloned/run-July-20-2023_10+24PM-0000000/best_model_486.pth\n",
            "\n",
            "\u001b[4m\u001b[1m > EPOCH: 6/160\u001b[0m\n",
            " --> /content/drive/MyDrive/dataset/cloned/run-July-20-2023_10+24PM-0000000\n",
            "\n",
            "\u001b[1m > TRAINING (2023-07-20 22:29:20) \u001b[0m\n",
            "\n",
            "\u001b[1m   --> TIME: 2023-07-20 22:29:26 -- STEP: 14/81 -- GLOBAL_STEP: 500\u001b[0m\n",
            "     | > loss: 3.1966936588287354  (2.9791291441236223)\n",
            "     | > log_mle: 0.7036932110786438  (0.6645019267286573)\n",
            "     | > loss_dur: 2.4930005073547363  (2.3146272386823377)\n",
            "     | > amp_scaler: 16384.0  (16384.0)\n",
            "     | > grad_norm: tensor(9.5664, device='cuda:0')  (tensor(9.2290, device='cuda:0'))\n",
            "     | > current_lr: 1.5e-06 \n",
            "     | > step_time: 0.3502  (0.3150290421077183)\n",
            "     | > loader_time: 0.0033  (0.003967251096452985)\n",
            "\n",
            "\n",
            "\u001b[1m > EVALUATION \u001b[0m\n",
            "\n",
            "\n",
            "  \u001b[1m--> EVAL PERFORMANCE\u001b[0m\n",
            "     | > avg_loader_time:\u001b[92m 0.3486785888671875 \u001b[0m(-0.013534784317016602)\n",
            "     | > avg_loss:\u001b[92m 3.0198183059692383 \u001b[0m(-0.2158346176147461)\n",
            "     | > avg_log_mle:\u001b[92m 0.6506123542785645 \u001b[0m(-0.015282154083251953)\n",
            "     | > avg_loss_dur:\u001b[92m 2.369205951690674 \u001b[0m(-0.20055246353149414)\n",
            "\n"
          ]
        },
        {
          "metadata": {
            "tags": null
          },
          "name": "stdout",
          "output_type": "stream",
          "text": [
            " | > Synthesizing test sentences.\n"
          ]
        },
        {
          "metadata": {
            "tags": null
          },
          "name": "stderr",
          "output_type": "stream",
          "text": [
            "\n",
            "  \u001b[1m--> EVAL PERFORMANCE\u001b[0m\n",
            "     | > avg_loader_time: 0.3486785888671875 \u001b[0m(+0.0)\n",
            "     | > avg_loss: 3.0198183059692383 \u001b[0m(+0.0)\n",
            "     | > avg_log_mle: 0.6506123542785645 \u001b[0m(+0.0)\n",
            "     | > avg_loss_dur: 2.369205951690674 \u001b[0m(+0.0)\n",
            "\n",
            " > BEST MODEL : /content/drive/MyDrive/dataset/cloned/run-July-20-2023_10+24PM-0000000/best_model_567.pth\n",
            "\n",
            "\u001b[4m\u001b[1m > EPOCH: 7/160\u001b[0m\n",
            " --> /content/drive/MyDrive/dataset/cloned/run-July-20-2023_10+24PM-0000000\n",
            "\n",
            "\u001b[1m > TRAINING (2023-07-20 22:30:08) \u001b[0m\n",
            "\n",
            "\u001b[1m > EVALUATION \u001b[0m\n",
            "\n",
            "\n",
            "  \u001b[1m--> EVAL PERFORMANCE\u001b[0m\n",
            "     | > avg_loader_time:\u001b[91m 0.5307507514953613 \u001b[0m(+0.18207216262817383)\n",
            "     | > avg_loss:\u001b[92m 2.857182264328003 \u001b[0m(-0.16263604164123535)\n",
            "     | > avg_log_mle:\u001b[92m 0.625037670135498 \u001b[0m(-0.025574684143066406)\n",
            "     | > avg_loss_dur:\u001b[92m 2.232144594192505 \u001b[0m(-0.13706135749816895)\n",
            "\n"
          ]
        },
        {
          "metadata": {
            "tags": null
          },
          "name": "stdout",
          "output_type": "stream",
          "text": [
            " | > Synthesizing test sentences.\n"
          ]
        },
        {
          "metadata": {
            "tags": null
          },
          "name": "stderr",
          "output_type": "stream",
          "text": [
            "\n",
            "  \u001b[1m--> EVAL PERFORMANCE\u001b[0m\n",
            "     | > avg_loader_time: 0.5307507514953613 \u001b[0m(+0.0)\n",
            "     | > avg_loss: 2.857182264328003 \u001b[0m(+0.0)\n",
            "     | > avg_log_mle: 0.625037670135498 \u001b[0m(+0.0)\n",
            "     | > avg_loss_dur: 2.232144594192505 \u001b[0m(+0.0)\n",
            "\n",
            " > BEST MODEL : /content/drive/MyDrive/dataset/cloned/run-July-20-2023_10+24PM-0000000/best_model_648.pth\n",
            "\n",
            "\u001b[4m\u001b[1m > EPOCH: 8/160\u001b[0m\n",
            " --> /content/drive/MyDrive/dataset/cloned/run-July-20-2023_10+24PM-0000000\n",
            "\n",
            "\u001b[1m > TRAINING (2023-07-20 22:30:55) \u001b[0m\n",
            "\n",
            "\u001b[1m > EVALUATION \u001b[0m\n",
            "\n",
            "\n",
            "  \u001b[1m--> EVAL PERFORMANCE\u001b[0m\n",
            "     | > avg_loader_time:\u001b[92m 0.5123519897460938 \u001b[0m(-0.018398761749267578)\n",
            "     | > avg_loss:\u001b[92m 2.7584824562072754 \u001b[0m(-0.09869980812072754)\n",
            "     | > avg_log_mle:\u001b[92m 0.5879759788513184 \u001b[0m(-0.03706169128417969)\n",
            "     | > avg_loss_dur:\u001b[92m 2.170506477355957 \u001b[0m(-0.06163811683654785)\n",
            "\n"
          ]
        },
        {
          "metadata": {
            "tags": null
          },
          "name": "stdout",
          "output_type": "stream",
          "text": [
            " | > Synthesizing test sentences.\n"
          ]
        },
        {
          "metadata": {
            "tags": null
          },
          "name": "stderr",
          "output_type": "stream",
          "text": [
            "\n",
            "  \u001b[1m--> EVAL PERFORMANCE\u001b[0m\n",
            "     | > avg_loader_time: 0.5123519897460938 \u001b[0m(+0.0)\n",
            "     | > avg_loss: 2.7584824562072754 \u001b[0m(+0.0)\n",
            "     | > avg_log_mle: 0.5879759788513184 \u001b[0m(+0.0)\n",
            "     | > avg_loss_dur: 2.170506477355957 \u001b[0m(+0.0)\n",
            "\n",
            " > BEST MODEL : /content/drive/MyDrive/dataset/cloned/run-July-20-2023_10+24PM-0000000/best_model_729.pth\n",
            "\n",
            "\u001b[4m\u001b[1m > EPOCH: 9/160\u001b[0m\n",
            " --> /content/drive/MyDrive/dataset/cloned/run-July-20-2023_10+24PM-0000000\n",
            "\n",
            "\u001b[1m > TRAINING (2023-07-20 22:31:44) \u001b[0m\n",
            "\n",
            "\u001b[1m > EVALUATION \u001b[0m\n",
            "\n",
            "\n",
            "  \u001b[1m--> EVAL PERFORMANCE\u001b[0m\n",
            "     | > avg_loader_time:\u001b[92m 0.5017879009246826 \u001b[0m(-0.010564088821411133)\n",
            "     | > avg_loss:\u001b[92m 2.5993118286132812 \u001b[0m(-0.15917062759399414)\n",
            "     | > avg_log_mle:\u001b[92m 0.5423202514648438 \u001b[0m(-0.04565572738647461)\n",
            "     | > avg_loss_dur:\u001b[92m 2.0569915771484375 \u001b[0m(-0.11351490020751953)\n",
            "\n"
          ]
        },
        {
          "metadata": {
            "tags": null
          },
          "name": "stdout",
          "output_type": "stream",
          "text": [
            " | > Synthesizing test sentences.\n"
          ]
        },
        {
          "metadata": {
            "tags": null
          },
          "name": "stderr",
          "output_type": "stream",
          "text": [
            "\n",
            "  \u001b[1m--> EVAL PERFORMANCE\u001b[0m\n",
            "     | > avg_loader_time: 0.5017879009246826 \u001b[0m(+0.0)\n",
            "     | > avg_loss: 2.5993118286132812 \u001b[0m(+0.0)\n",
            "     | > avg_log_mle: 0.5423202514648438 \u001b[0m(+0.0)\n",
            "     | > avg_loss_dur: 2.0569915771484375 \u001b[0m(+0.0)\n",
            "\n",
            " > BEST MODEL : /content/drive/MyDrive/dataset/cloned/run-July-20-2023_10+24PM-0000000/best_model_810.pth\n",
            "\n",
            "\u001b[4m\u001b[1m > EPOCH: 10/160\u001b[0m\n",
            " --> /content/drive/MyDrive/dataset/cloned/run-July-20-2023_10+24PM-0000000\n",
            "\n",
            "\u001b[1m > TRAINING (2023-07-20 22:32:31) \u001b[0m\n",
            "\n",
            "\u001b[1m > EVALUATION \u001b[0m\n",
            "\n",
            "\n",
            "  \u001b[1m--> EVAL PERFORMANCE\u001b[0m\n",
            "     | > avg_loader_time:\u001b[91m 0.5904755592346191 \u001b[0m(+0.08868765830993652)\n",
            "     | > avg_loss:\u001b[92m 2.3773036003112793 \u001b[0m(-0.22200822830200195)\n",
            "     | > avg_log_mle:\u001b[92m 0.4905526041984558 \u001b[0m(-0.05176764726638794)\n",
            "     | > avg_loss_dur:\u001b[92m 1.8867510557174683 \u001b[0m(-0.17024052143096924)\n",
            "\n"
          ]
        },
        {
          "metadata": {
            "tags": null
          },
          "name": "stdout",
          "output_type": "stream",
          "text": [
            " | > Synthesizing test sentences.\n"
          ]
        },
        {
          "metadata": {
            "tags": null
          },
          "name": "stderr",
          "output_type": "stream",
          "text": [
            "\n",
            "  \u001b[1m--> EVAL PERFORMANCE\u001b[0m\n",
            "     | > avg_loader_time: 0.5904755592346191 \u001b[0m(+0.0)\n",
            "     | > avg_loss: 2.3773036003112793 \u001b[0m(+0.0)\n",
            "     | > avg_log_mle: 0.4905526041984558 \u001b[0m(+0.0)\n",
            "     | > avg_loss_dur: 1.8867510557174683 \u001b[0m(+0.0)\n",
            "\n",
            " > BEST MODEL : /content/drive/MyDrive/dataset/cloned/run-July-20-2023_10+24PM-0000000/best_model_891.pth\n",
            "\n",
            "\u001b[4m\u001b[1m > EPOCH: 11/160\u001b[0m\n",
            " --> /content/drive/MyDrive/dataset/cloned/run-July-20-2023_10+24PM-0000000\n",
            "\n",
            "\u001b[1m > TRAINING (2023-07-20 22:33:16) \u001b[0m\n",
            "\n",
            "\u001b[1m > EVALUATION \u001b[0m\n",
            "\n",
            "\n",
            "  \u001b[1m--> EVAL PERFORMANCE\u001b[0m\n",
            "     | > avg_loader_time:\u001b[91m 0.6276950836181641 \u001b[0m(+0.03721952438354492)\n",
            "     | > avg_loss:\u001b[92m 2.185164213180542 \u001b[0m(-0.1921393871307373)\n",
            "     | > avg_log_mle:\u001b[92m 0.438250333070755 \u001b[0m(-0.052302271127700806)\n",
            "     | > avg_loss_dur:\u001b[92m 1.7469139099121094 \u001b[0m(-0.1398371458053589)\n",
            "\n"
          ]
        },
        {
          "metadata": {
            "tags": null
          },
          "name": "stdout",
          "output_type": "stream",
          "text": [
            " | > Synthesizing test sentences.\n"
          ]
        },
        {
          "metadata": {
            "tags": null
          },
          "name": "stderr",
          "output_type": "stream",
          "text": [
            "\n",
            "  \u001b[1m--> EVAL PERFORMANCE\u001b[0m\n",
            "     | > avg_loader_time: 0.6276950836181641 \u001b[0m(+0.0)\n",
            "     | > avg_loss: 2.185164213180542 \u001b[0m(+0.0)\n",
            "     | > avg_log_mle: 0.438250333070755 \u001b[0m(+0.0)\n",
            "     | > avg_loss_dur: 1.7469139099121094 \u001b[0m(+0.0)\n",
            "\n",
            " > BEST MODEL : /content/drive/MyDrive/dataset/cloned/run-July-20-2023_10+24PM-0000000/best_model_972.pth\n",
            "\n",
            "\u001b[4m\u001b[1m > EPOCH: 12/160\u001b[0m\n",
            " --> /content/drive/MyDrive/dataset/cloned/run-July-20-2023_10+24PM-0000000\n",
            "\n",
            "\u001b[1m > TRAINING (2023-07-20 22:34:05) \u001b[0m\n",
            "\n",
            "\u001b[1m   --> TIME: 2023-07-20 22:34:18 -- STEP: 28/81 -- GLOBAL_STEP: 1000\u001b[0m\n",
            "     | > loss: 2.205103874206543  (2.1633812870298113)\n",
            "     | > log_mle: 0.5058025121688843  (0.4791933223605156)\n",
            "     | > loss_dur: 1.6993012428283691  (1.6841879657336645)\n",
            "     | > amp_scaler: 16384.0  (16384.0)\n",
            "     | > grad_norm: tensor(4.8074, device='cuda:0')  (tensor(4.8710, device='cuda:0'))\n",
            "     | > current_lr: 3e-06 \n",
            "     | > step_time: 0.4577  (0.41739278180258615)\n",
            "     | > loader_time: 0.0053  (0.004329928330012729)\n",
            "\n",
            "\n",
            "\u001b[1m > EVALUATION \u001b[0m\n",
            "\n",
            "\n",
            "  \u001b[1m--> EVAL PERFORMANCE\u001b[0m\n",
            "     | > avg_loader_time:\u001b[92m 0.49356579780578613 \u001b[0m(-0.13412928581237793)\n",
            "     | > avg_loss:\u001b[92m 1.9620776176452637 \u001b[0m(-0.22308659553527832)\n",
            "     | > avg_log_mle:\u001b[92m 0.388766884803772 \u001b[0m(-0.04948344826698303)\n",
            "     | > avg_loss_dur:\u001b[92m 1.5733107328414917 \u001b[0m(-0.17360317707061768)\n",
            "\n"
          ]
        },
        {
          "metadata": {
            "tags": null
          },
          "name": "stdout",
          "output_type": "stream",
          "text": [
            " | > Synthesizing test sentences.\n"
          ]
        },
        {
          "metadata": {
            "tags": null
          },
          "name": "stderr",
          "output_type": "stream",
          "text": [
            "\n",
            "  \u001b[1m--> EVAL PERFORMANCE\u001b[0m\n",
            "     | > avg_loader_time: 0.49356579780578613 \u001b[0m(+0.0)\n",
            "     | > avg_loss: 1.9620776176452637 \u001b[0m(+0.0)\n",
            "     | > avg_log_mle: 0.388766884803772 \u001b[0m(+0.0)\n",
            "     | > avg_loss_dur: 1.5733107328414917 \u001b[0m(+0.0)\n",
            "\n",
            " > BEST MODEL : /content/drive/MyDrive/dataset/cloned/run-July-20-2023_10+24PM-0000000/best_model_1053.pth\n",
            "\n",
            "\u001b[4m\u001b[1m > EPOCH: 13/160\u001b[0m\n",
            " --> /content/drive/MyDrive/dataset/cloned/run-July-20-2023_10+24PM-0000000\n",
            "\n",
            "\u001b[1m > TRAINING (2023-07-20 22:34:50) \u001b[0m\n",
            "\n",
            "\u001b[1m > EVALUATION \u001b[0m\n",
            "\n",
            "\n",
            "  \u001b[1m--> EVAL PERFORMANCE\u001b[0m\n",
            "     | > avg_loader_time:\u001b[91m 1.3411414623260498 \u001b[0m(+0.8475756645202637)\n",
            "     | > avg_loss:\u001b[92m 1.8188307285308838 \u001b[0m(-0.14324688911437988)\n",
            "     | > avg_log_mle:\u001b[92m 0.34028929471969604 \u001b[0m(-0.04847759008407593)\n",
            "     | > avg_loss_dur:\u001b[92m 1.478541374206543 \u001b[0m(-0.09476935863494873)\n",
            "\n"
          ]
        },
        {
          "metadata": {
            "tags": null
          },
          "name": "stdout",
          "output_type": "stream",
          "text": [
            " | > Synthesizing test sentences.\n"
          ]
        },
        {
          "metadata": {
            "tags": null
          },
          "name": "stderr",
          "output_type": "stream",
          "text": [
            "\n",
            "  \u001b[1m--> EVAL PERFORMANCE\u001b[0m\n",
            "     | > avg_loader_time: 1.3411414623260498 \u001b[0m(+0.0)\n",
            "     | > avg_loss: 1.8188307285308838 \u001b[0m(+0.0)\n",
            "     | > avg_log_mle: 0.34028929471969604 \u001b[0m(+0.0)\n",
            "     | > avg_loss_dur: 1.478541374206543 \u001b[0m(+0.0)\n",
            "\n",
            " > BEST MODEL : /content/drive/MyDrive/dataset/cloned/run-July-20-2023_10+24PM-0000000/best_model_1134.pth\n",
            "\n",
            "\u001b[4m\u001b[1m > EPOCH: 14/160\u001b[0m\n",
            " --> /content/drive/MyDrive/dataset/cloned/run-July-20-2023_10+24PM-0000000\n",
            "\n",
            "\u001b[1m > TRAINING (2023-07-20 22:35:37) \u001b[0m\n",
            "\n",
            "\u001b[1m > EVALUATION \u001b[0m\n",
            "\n",
            "\n",
            "  \u001b[1m--> EVAL PERFORMANCE\u001b[0m\n",
            "     | > avg_loader_time:\u001b[92m 0.5137679576873779 \u001b[0m(-0.8273735046386719)\n",
            "     | > avg_loss:\u001b[92m 1.690096139907837 \u001b[0m(-0.12873458862304688)\n",
            "     | > avg_log_mle:\u001b[92m 0.2972036600112915 \u001b[0m(-0.04308563470840454)\n",
            "     | > avg_loss_dur:\u001b[92m 1.3928924798965454 \u001b[0m(-0.08564889430999756)\n",
            "\n"
          ]
        },
        {
          "metadata": {
            "tags": null
          },
          "name": "stdout",
          "output_type": "stream",
          "text": [
            " | > Synthesizing test sentences.\n"
          ]
        },
        {
          "metadata": {
            "tags": null
          },
          "name": "stderr",
          "output_type": "stream",
          "text": [
            "\n",
            "  \u001b[1m--> EVAL PERFORMANCE\u001b[0m\n",
            "     | > avg_loader_time: 0.5137679576873779 \u001b[0m(+0.0)\n",
            "     | > avg_loss: 1.690096139907837 \u001b[0m(+0.0)\n",
            "     | > avg_log_mle: 0.2972036600112915 \u001b[0m(+0.0)\n",
            "     | > avg_loss_dur: 1.3928924798965454 \u001b[0m(+0.0)\n",
            "\n",
            " > BEST MODEL : /content/drive/MyDrive/dataset/cloned/run-July-20-2023_10+24PM-0000000/best_model_1215.pth\n",
            "\n",
            "\u001b[4m\u001b[1m > EPOCH: 15/160\u001b[0m\n",
            " --> /content/drive/MyDrive/dataset/cloned/run-July-20-2023_10+24PM-0000000\n",
            "\n",
            "\u001b[1m > TRAINING (2023-07-20 22:36:23) \u001b[0m\n",
            "\n",
            "\u001b[1m > EVALUATION \u001b[0m\n",
            "\n",
            "\n",
            "  \u001b[1m--> EVAL PERFORMANCE\u001b[0m\n",
            "     | > avg_loader_time:\u001b[91m 0.5388510227203369 \u001b[0m(+0.025083065032958984)\n",
            "     | > avg_loss:\u001b[92m 1.6154025793075562 \u001b[0m(-0.07469356060028076)\n",
            "     | > avg_log_mle:\u001b[92m 0.26419222354888916 \u001b[0m(-0.033011436462402344)\n",
            "     | > avg_loss_dur:\u001b[92m 1.351210355758667 \u001b[0m(-0.04168212413787842)\n",
            "\n"
          ]
        },
        {
          "metadata": {
            "tags": null
          },
          "name": "stdout",
          "output_type": "stream",
          "text": [
            " | > Synthesizing test sentences.\n"
          ]
        },
        {
          "metadata": {
            "tags": null
          },
          "name": "stderr",
          "output_type": "stream",
          "text": [
            "\n",
            "  \u001b[1m--> EVAL PERFORMANCE\u001b[0m\n",
            "     | > avg_loader_time: 0.5388510227203369 \u001b[0m(+0.0)\n",
            "     | > avg_loss: 1.6154025793075562 \u001b[0m(+0.0)\n",
            "     | > avg_log_mle: 0.26419222354888916 \u001b[0m(+0.0)\n",
            "     | > avg_loss_dur: 1.351210355758667 \u001b[0m(+0.0)\n",
            "\n",
            " > BEST MODEL : /content/drive/MyDrive/dataset/cloned/run-July-20-2023_10+24PM-0000000/best_model_1296.pth\n",
            "\n",
            "\u001b[4m\u001b[1m > EPOCH: 16/160\u001b[0m\n",
            " --> /content/drive/MyDrive/dataset/cloned/run-July-20-2023_10+24PM-0000000\n",
            "\n",
            "\u001b[1m > TRAINING (2023-07-20 22:37:12) \u001b[0m\n",
            "\n",
            "\u001b[1m > EVALUATION \u001b[0m\n",
            "\n",
            "\n",
            "  \u001b[1m--> EVAL PERFORMANCE\u001b[0m\n",
            "     | > avg_loader_time:\u001b[91m 0.5420475006103516 \u001b[0m(+0.0031964778900146484)\n",
            "     | > avg_loss:\u001b[92m 1.5352201461791992 \u001b[0m(-0.08018243312835693)\n",
            "     | > avg_log_mle:\u001b[92m 0.23630481958389282 \u001b[0m(-0.027887403964996338)\n",
            "     | > avg_loss_dur:\u001b[92m 1.2989153861999512 \u001b[0m(-0.05229496955871582)\n",
            "\n"
          ]
        },
        {
          "metadata": {
            "tags": null
          },
          "name": "stdout",
          "output_type": "stream",
          "text": [
            " | > Synthesizing test sentences.\n"
          ]
        },
        {
          "metadata": {
            "tags": null
          },
          "name": "stderr",
          "output_type": "stream",
          "text": [
            "\n",
            "  \u001b[1m--> EVAL PERFORMANCE\u001b[0m\n",
            "     | > avg_loader_time: 0.5420475006103516 \u001b[0m(+0.0)\n",
            "     | > avg_loss: 1.5352201461791992 \u001b[0m(+0.0)\n",
            "     | > avg_log_mle: 0.23630481958389282 \u001b[0m(+0.0)\n",
            "     | > avg_loss_dur: 1.2989153861999512 \u001b[0m(+0.0)\n",
            "\n",
            " > BEST MODEL : /content/drive/MyDrive/dataset/cloned/run-July-20-2023_10+24PM-0000000/best_model_1377.pth\n",
            "\n",
            "\u001b[4m\u001b[1m > EPOCH: 17/160\u001b[0m\n",
            " --> /content/drive/MyDrive/dataset/cloned/run-July-20-2023_10+24PM-0000000\n",
            "\n",
            "\u001b[1m > TRAINING (2023-07-20 22:38:01) \u001b[0m\n",
            "\n",
            "\u001b[1m > EVALUATION \u001b[0m\n",
            "\n",
            "\n",
            "  \u001b[1m--> EVAL PERFORMANCE\u001b[0m\n",
            "     | > avg_loader_time:\u001b[92m 0.35132884979248047 \u001b[0m(-0.1907186508178711)\n",
            "     | > avg_loss:\u001b[92m 1.4411826133728027 \u001b[0m(-0.09403753280639648)\n",
            "     | > avg_log_mle:\u001b[92m 0.21303385496139526 \u001b[0m(-0.02327096462249756)\n",
            "     | > avg_loss_dur:\u001b[92m 1.2281486988067627 \u001b[0m(-0.07076668739318848)\n",
            "\n"
          ]
        },
        {
          "metadata": {
            "tags": null
          },
          "name": "stdout",
          "output_type": "stream",
          "text": [
            " | > Synthesizing test sentences.\n"
          ]
        },
        {
          "metadata": {
            "tags": null
          },
          "name": "stderr",
          "output_type": "stream",
          "text": [
            "\n",
            "  \u001b[1m--> EVAL PERFORMANCE\u001b[0m\n",
            "     | > avg_loader_time: 0.35132884979248047 \u001b[0m(+0.0)\n",
            "     | > avg_loss: 1.4411826133728027 \u001b[0m(+0.0)\n",
            "     | > avg_log_mle: 0.21303385496139526 \u001b[0m(+0.0)\n",
            "     | > avg_loss_dur: 1.2281486988067627 \u001b[0m(+0.0)\n",
            "\n",
            " > BEST MODEL : /content/drive/MyDrive/dataset/cloned/run-July-20-2023_10+24PM-0000000/best_model_1458.pth\n",
            "\n",
            "\u001b[4m\u001b[1m > EPOCH: 18/160\u001b[0m\n",
            " --> /content/drive/MyDrive/dataset/cloned/run-July-20-2023_10+24PM-0000000\n",
            "\n",
            "\u001b[1m > TRAINING (2023-07-20 22:38:50) \u001b[0m\n",
            "\n",
            "\u001b[1m   --> TIME: 2023-07-20 22:39:09 -- STEP: 42/81 -- GLOBAL_STEP: 1500\u001b[0m\n",
            "     | > loss: 1.5147786140441895  (1.514323348090762)\n",
            "     | > log_mle: 0.32856571674346924  (0.28644623855749757)\n",
            "     | > loss_dur: 1.1862128973007202  (1.227877105985369)\n",
            "     | > amp_scaler: 16384.0  (16384.0)\n",
            "     | > grad_norm: tensor(3.4050, device='cuda:0')  (tensor(5.3686, device='cuda:0'))\n",
            "     | > current_lr: 4.5e-06 \n",
            "     | > step_time: 0.4494  (0.39320475146884004)\n",
            "     | > loader_time: 0.0026  (0.004196990103948684)\n",
            "\n",
            "\n",
            "\u001b[1m > EVALUATION \u001b[0m\n",
            "\n",
            "\n",
            "  \u001b[1m--> EVAL PERFORMANCE\u001b[0m\n",
            "     | > avg_loader_time:\u001b[91m 0.36646056175231934 \u001b[0m(+0.015131711959838867)\n",
            "     | > avg_loss:\u001b[92m 1.369321346282959 \u001b[0m(-0.07186126708984375)\n",
            "     | > avg_log_mle:\u001b[92m 0.19245320558547974 \u001b[0m(-0.020580649375915527)\n",
            "     | > avg_loss_dur:\u001b[92m 1.176868200302124 \u001b[0m(-0.05128049850463867)\n",
            "\n"
          ]
        },
        {
          "metadata": {
            "tags": null
          },
          "name": "stdout",
          "output_type": "stream",
          "text": [
            " | > Synthesizing test sentences.\n"
          ]
        },
        {
          "metadata": {
            "tags": null
          },
          "name": "stderr",
          "output_type": "stream",
          "text": [
            "\n",
            "  \u001b[1m--> EVAL PERFORMANCE\u001b[0m\n",
            "     | > avg_loader_time: 0.36646056175231934 \u001b[0m(+0.0)\n",
            "     | > avg_loss: 1.369321346282959 \u001b[0m(+0.0)\n",
            "     | > avg_log_mle: 0.19245320558547974 \u001b[0m(+0.0)\n",
            "     | > avg_loss_dur: 1.176868200302124 \u001b[0m(+0.0)\n",
            "\n",
            " > BEST MODEL : /content/drive/MyDrive/dataset/cloned/run-July-20-2023_10+24PM-0000000/best_model_1539.pth\n",
            "\n",
            "\u001b[4m\u001b[1m > EPOCH: 19/160\u001b[0m\n",
            " --> /content/drive/MyDrive/dataset/cloned/run-July-20-2023_10+24PM-0000000\n",
            "\n",
            "\u001b[1m > TRAINING (2023-07-20 22:39:43) \u001b[0m\n",
            "\n",
            "\u001b[1m > EVALUATION \u001b[0m\n",
            "\n",
            "\n",
            "  \u001b[1m--> EVAL PERFORMANCE\u001b[0m\n",
            "     | > avg_loader_time:\u001b[91m 0.6168198585510254 \u001b[0m(+0.25035929679870605)\n",
            "     | > avg_loss:\u001b[92m 1.320826530456543 \u001b[0m(-0.048494815826416016)\n",
            "     | > avg_log_mle:\u001b[92m 0.1776876449584961 \u001b[0m(-0.014765560626983643)\n",
            "     | > avg_loss_dur:\u001b[92m 1.1431388854980469 \u001b[0m(-0.03372931480407715)\n",
            "\n"
          ]
        },
        {
          "metadata": {
            "tags": null
          },
          "name": "stdout",
          "output_type": "stream",
          "text": [
            " | > Synthesizing test sentences.\n"
          ]
        },
        {
          "metadata": {
            "tags": null
          },
          "name": "stderr",
          "output_type": "stream",
          "text": [
            "\n",
            "  \u001b[1m--> EVAL PERFORMANCE\u001b[0m\n",
            "     | > avg_loader_time: 0.6168198585510254 \u001b[0m(+0.0)\n",
            "     | > avg_loss: 1.320826530456543 \u001b[0m(+0.0)\n",
            "     | > avg_log_mle: 0.1776876449584961 \u001b[0m(+0.0)\n",
            "     | > avg_loss_dur: 1.1431388854980469 \u001b[0m(+0.0)\n",
            "\n",
            " > BEST MODEL : /content/drive/MyDrive/dataset/cloned/run-July-20-2023_10+24PM-0000000/best_model_1620.pth\n",
            "\n",
            "\u001b[4m\u001b[1m > EPOCH: 20/160\u001b[0m\n",
            " --> /content/drive/MyDrive/dataset/cloned/run-July-20-2023_10+24PM-0000000\n",
            "\n",
            "\u001b[1m > TRAINING (2023-07-20 22:40:32) \u001b[0m\n",
            "\n",
            "\u001b[1m > EVALUATION \u001b[0m\n",
            "\n",
            "\n",
            "  \u001b[1m--> EVAL PERFORMANCE\u001b[0m\n",
            "     | > avg_loader_time:\u001b[91m 0.6690385341644287 \u001b[0m(+0.05221867561340332)\n",
            "     | > avg_loss:\u001b[92m 1.243849754333496 \u001b[0m(-0.07697677612304688)\n",
            "     | > avg_log_mle:\u001b[92m 0.15701621770858765 \u001b[0m(-0.020671427249908447)\n",
            "     | > avg_loss_dur:\u001b[92m 1.0868335962295532 \u001b[0m(-0.05630528926849365)\n",
            "\n"
          ]
        },
        {
          "metadata": {
            "tags": null
          },
          "name": "stdout",
          "output_type": "stream",
          "text": [
            " | > Synthesizing test sentences.\n"
          ]
        },
        {
          "metadata": {
            "tags": null
          },
          "name": "stderr",
          "output_type": "stream",
          "text": [
            "\n",
            "  \u001b[1m--> EVAL PERFORMANCE\u001b[0m\n",
            "     | > avg_loader_time: 0.6690385341644287 \u001b[0m(+0.0)\n",
            "     | > avg_loss: 1.243849754333496 \u001b[0m(+0.0)\n",
            "     | > avg_log_mle: 0.15701621770858765 \u001b[0m(+0.0)\n",
            "     | > avg_loss_dur: 1.0868335962295532 \u001b[0m(+0.0)\n",
            "\n",
            " > BEST MODEL : /content/drive/MyDrive/dataset/cloned/run-July-20-2023_10+24PM-0000000/best_model_1701.pth\n",
            "\n",
            "\u001b[4m\u001b[1m > EPOCH: 21/160\u001b[0m\n",
            " --> /content/drive/MyDrive/dataset/cloned/run-July-20-2023_10+24PM-0000000\n",
            "\n",
            "\u001b[1m > TRAINING (2023-07-20 22:41:19) \u001b[0m\n",
            "\n",
            "\u001b[1m > EVALUATION \u001b[0m\n",
            "\n",
            "\n",
            "  \u001b[1m--> EVAL PERFORMANCE\u001b[0m\n",
            "     | > avg_loader_time:\u001b[92m 0.6487882137298584 \u001b[0m(-0.020250320434570312)\n",
            "     | > avg_loss:\u001b[92m 1.208364725112915 \u001b[0m(-0.035485029220581055)\n",
            "     | > avg_log_mle:\u001b[92m 0.14558595418930054 \u001b[0m(-0.01143026351928711)\n",
            "     | > avg_loss_dur:\u001b[92m 1.0627787113189697 \u001b[0m(-0.024054884910583496)\n",
            "\n"
          ]
        },
        {
          "metadata": {
            "tags": null
          },
          "name": "stdout",
          "output_type": "stream",
          "text": [
            " | > Synthesizing test sentences.\n"
          ]
        },
        {
          "metadata": {
            "tags": null
          },
          "name": "stderr",
          "output_type": "stream",
          "text": [
            "\n",
            "  \u001b[1m--> EVAL PERFORMANCE\u001b[0m\n",
            "     | > avg_loader_time: 0.6487882137298584 \u001b[0m(+0.0)\n",
            "     | > avg_loss: 1.208364725112915 \u001b[0m(+0.0)\n",
            "     | > avg_log_mle: 0.14558595418930054 \u001b[0m(+0.0)\n",
            "     | > avg_loss_dur: 1.0627787113189697 \u001b[0m(+0.0)\n",
            "\n",
            " > BEST MODEL : /content/drive/MyDrive/dataset/cloned/run-July-20-2023_10+24PM-0000000/best_model_1782.pth\n",
            "\n",
            "\u001b[4m\u001b[1m > EPOCH: 22/160\u001b[0m\n",
            " --> /content/drive/MyDrive/dataset/cloned/run-July-20-2023_10+24PM-0000000\n",
            "\n",
            "\u001b[1m > TRAINING (2023-07-20 22:42:12) \u001b[0m\n",
            "\n",
            "\u001b[1m > EVALUATION \u001b[0m\n",
            "\n",
            "\n",
            "  \u001b[1m--> EVAL PERFORMANCE\u001b[0m\n",
            "     | > avg_loader_time:\u001b[92m 0.3849053382873535 \u001b[0m(-0.2638828754425049)\n",
            "     | > avg_loss:\u001b[92m 1.1716759204864502 \u001b[0m(-0.036688804626464844)\n",
            "     | > avg_log_mle:\u001b[92m 0.13050305843353271 \u001b[0m(-0.015082895755767822)\n",
            "     | > avg_loss_dur:\u001b[92m 1.0411728620529175 \u001b[0m(-0.021605849266052246)\n",
            "\n"
          ]
        },
        {
          "metadata": {
            "tags": null
          },
          "name": "stdout",
          "output_type": "stream",
          "text": [
            " | > Synthesizing test sentences.\n"
          ]
        },
        {
          "metadata": {
            "tags": null
          },
          "name": "stderr",
          "output_type": "stream",
          "text": [
            "\n",
            "  \u001b[1m--> EVAL PERFORMANCE\u001b[0m\n",
            "     | > avg_loader_time: 0.3849053382873535 \u001b[0m(+0.0)\n",
            "     | > avg_loss: 1.1716759204864502 \u001b[0m(+0.0)\n",
            "     | > avg_log_mle: 0.13050305843353271 \u001b[0m(+0.0)\n",
            "     | > avg_loss_dur: 1.0411728620529175 \u001b[0m(+0.0)\n",
            "\n",
            " > BEST MODEL : /content/drive/MyDrive/dataset/cloned/run-July-20-2023_10+24PM-0000000/best_model_1863.pth\n",
            "\n",
            "\u001b[4m\u001b[1m > EPOCH: 23/160\u001b[0m\n",
            " --> /content/drive/MyDrive/dataset/cloned/run-July-20-2023_10+24PM-0000000\n",
            "\n",
            "\u001b[1m > TRAINING (2023-07-20 22:43:00) \u001b[0m\n",
            "\n",
            "\u001b[1m > EVALUATION \u001b[0m\n",
            "\n",
            "\n",
            "  \u001b[1m--> EVAL PERFORMANCE\u001b[0m\n",
            "     | > avg_loader_time:\u001b[91m 0.4531097412109375 \u001b[0m(+0.06820440292358398)\n",
            "     | > avg_loss:\u001b[92m 1.1316618919372559 \u001b[0m(-0.040014028549194336)\n",
            "     | > avg_log_mle:\u001b[92m 0.11494934558868408 \u001b[0m(-0.015553712844848633)\n",
            "     | > avg_loss_dur:\u001b[92m 1.0167125463485718 \u001b[0m(-0.024460315704345703)\n",
            "\n"
          ]
        },
        {
          "metadata": {
            "tags": null
          },
          "name": "stdout",
          "output_type": "stream",
          "text": [
            " | > Synthesizing test sentences.\n"
          ]
        },
        {
          "metadata": {
            "tags": null
          },
          "name": "stderr",
          "output_type": "stream",
          "text": [
            "\n",
            "  \u001b[1m--> EVAL PERFORMANCE\u001b[0m\n",
            "     | > avg_loader_time: 0.4531097412109375 \u001b[0m(+0.0)\n",
            "     | > avg_loss: 1.1316618919372559 \u001b[0m(+0.0)\n",
            "     | > avg_log_mle: 0.11494934558868408 \u001b[0m(+0.0)\n",
            "     | > avg_loss_dur: 1.0167125463485718 \u001b[0m(+0.0)\n",
            "\n",
            " > BEST MODEL : /content/drive/MyDrive/dataset/cloned/run-July-20-2023_10+24PM-0000000/best_model_1944.pth\n",
            "\n",
            "\u001b[4m\u001b[1m > EPOCH: 24/160\u001b[0m\n",
            " --> /content/drive/MyDrive/dataset/cloned/run-July-20-2023_10+24PM-0000000\n",
            "\n",
            "\u001b[1m > TRAINING (2023-07-20 22:43:47) \u001b[0m\n",
            "\n",
            "\u001b[1m   --> TIME: 2023-07-20 22:44:12 -- STEP: 56/81 -- GLOBAL_STEP: 2000\u001b[0m\n",
            "     | > loss: 1.2059955596923828  (1.191995036389146)\n",
            "     | > log_mle: 0.06419867277145386  (0.20012011591877257)\n",
            "     | > loss_dur: 1.1417969465255737  (0.9918749194060054)\n",
            "     | > amp_scaler: 8192.0  (8192.0)\n",
            "     | > grad_norm: tensor(12.5574, device='cuda:0')  (tensor(8.6523, device='cuda:0'))\n",
            "     | > current_lr: 6e-06 \n",
            "     | > step_time: 0.2923  (0.4086068570613861)\n",
            "     | > loader_time: 0.0032  (0.005005227667944771)\n",
            "\n",
            "\n",
            "\u001b[1m > EVALUATION \u001b[0m\n",
            "\n",
            "\n",
            "  \u001b[1m--> EVAL PERFORMANCE\u001b[0m\n",
            "     | > avg_loader_time:\u001b[92m 0.4210662841796875 \u001b[0m(-0.03204345703125)\n",
            "     | > avg_loss:\u001b[92m 1.098299264907837 \u001b[0m(-0.033362627029418945)\n",
            "     | > avg_log_mle:\u001b[92m 0.1040651798248291 \u001b[0m(-0.01088416576385498)\n",
            "     | > avg_loss_dur:\u001b[92m 0.9942340850830078 \u001b[0m(-0.022478461265563965)\n",
            "\n"
          ]
        },
        {
          "metadata": {
            "tags": null
          },
          "name": "stdout",
          "output_type": "stream",
          "text": [
            " | > Synthesizing test sentences.\n"
          ]
        },
        {
          "metadata": {
            "tags": null
          },
          "name": "stderr",
          "output_type": "stream",
          "text": [
            "\n",
            "  \u001b[1m--> EVAL PERFORMANCE\u001b[0m\n",
            "     | > avg_loader_time: 0.4210662841796875 \u001b[0m(+0.0)\n",
            "     | > avg_loss: 1.098299264907837 \u001b[0m(+0.0)\n",
            "     | > avg_log_mle: 0.1040651798248291 \u001b[0m(+0.0)\n",
            "     | > avg_loss_dur: 0.9942340850830078 \u001b[0m(+0.0)\n",
            "\n",
            " > BEST MODEL : /content/drive/MyDrive/dataset/cloned/run-July-20-2023_10+24PM-0000000/best_model_2025.pth\n",
            "\n",
            "\u001b[4m\u001b[1m > EPOCH: 25/160\u001b[0m\n",
            " --> /content/drive/MyDrive/dataset/cloned/run-July-20-2023_10+24PM-0000000\n",
            "\n",
            "\u001b[1m > TRAINING (2023-07-20 22:44:34) \u001b[0m\n",
            "\n",
            "\u001b[1m > EVALUATION \u001b[0m\n",
            "\n",
            "\n",
            "  \u001b[1m--> EVAL PERFORMANCE\u001b[0m\n",
            "     | > avg_loader_time:\u001b[91m 0.6453521251678467 \u001b[0m(+0.22428584098815918)\n",
            "     | > avg_loss:\u001b[92m 1.0687721967697144 \u001b[0m(-0.02952706813812256)\n",
            "     | > avg_log_mle:\u001b[92m 0.09065324068069458 \u001b[0m(-0.013411939144134521)\n",
            "     | > avg_loss_dur:\u001b[92m 0.9781189560890198 \u001b[0m(-0.016115128993988037)\n",
            "\n"
          ]
        },
        {
          "metadata": {
            "tags": null
          },
          "name": "stdout",
          "output_type": "stream",
          "text": [
            " | > Synthesizing test sentences.\n"
          ]
        },
        {
          "metadata": {
            "tags": null
          },
          "name": "stderr",
          "output_type": "stream",
          "text": [
            "\n",
            "  \u001b[1m--> EVAL PERFORMANCE\u001b[0m\n",
            "     | > avg_loader_time: 0.6453521251678467 \u001b[0m(+0.0)\n",
            "     | > avg_loss: 1.0687721967697144 \u001b[0m(+0.0)\n",
            "     | > avg_log_mle: 0.09065324068069458 \u001b[0m(+0.0)\n",
            "     | > avg_loss_dur: 0.9781189560890198 \u001b[0m(+0.0)\n",
            "\n",
            " > BEST MODEL : /content/drive/MyDrive/dataset/cloned/run-July-20-2023_10+24PM-0000000/best_model_2106.pth\n",
            "\n",
            "\u001b[4m\u001b[1m > EPOCH: 26/160\u001b[0m\n",
            " --> /content/drive/MyDrive/dataset/cloned/run-July-20-2023_10+24PM-0000000\n",
            "\n",
            "\u001b[1m > TRAINING (2023-07-20 22:45:25) \u001b[0m\n",
            "\n",
            "\u001b[1m > EVALUATION \u001b[0m\n",
            "\n",
            "\n",
            "  \u001b[1m--> EVAL PERFORMANCE\u001b[0m\n",
            "     | > avg_loader_time:\u001b[92m 0.4837939739227295 \u001b[0m(-0.1615581512451172)\n",
            "     | > avg_loss:\u001b[92m 1.0438432693481445 \u001b[0m(-0.024928927421569824)\n",
            "     | > avg_log_mle:\u001b[92m 0.08578014373779297 \u001b[0m(-0.004873096942901611)\n",
            "     | > avg_loss_dur:\u001b[92m 0.9580630660057068 \u001b[0m(-0.02005589008331299)\n",
            "\n"
          ]
        },
        {
          "metadata": {
            "tags": null
          },
          "name": "stdout",
          "output_type": "stream",
          "text": [
            " | > Synthesizing test sentences.\n"
          ]
        },
        {
          "metadata": {
            "tags": null
          },
          "name": "stderr",
          "output_type": "stream",
          "text": [
            "\n",
            "  \u001b[1m--> EVAL PERFORMANCE\u001b[0m\n",
            "     | > avg_loader_time: 0.4837939739227295 \u001b[0m(+0.0)\n",
            "     | > avg_loss: 1.0438432693481445 \u001b[0m(+0.0)\n",
            "     | > avg_log_mle: 0.08578014373779297 \u001b[0m(+0.0)\n",
            "     | > avg_loss_dur: 0.9580630660057068 \u001b[0m(+0.0)\n",
            "\n",
            " > BEST MODEL : /content/drive/MyDrive/dataset/cloned/run-July-20-2023_10+24PM-0000000/best_model_2187.pth\n",
            "\n",
            "\u001b[4m\u001b[1m > EPOCH: 27/160\u001b[0m\n",
            " --> /content/drive/MyDrive/dataset/cloned/run-July-20-2023_10+24PM-0000000\n",
            "\n",
            "\u001b[1m > TRAINING (2023-07-20 22:46:14) \u001b[0m\n",
            "\n",
            "\u001b[1m > EVALUATION \u001b[0m\n",
            "\n",
            "\n",
            "  \u001b[1m--> EVAL PERFORMANCE\u001b[0m\n",
            "     | > avg_loader_time:\u001b[91m 0.5313115119934082 \u001b[0m(+0.04751753807067871)\n",
            "     | > avg_loss:\u001b[92m 0.9915379881858826 \u001b[0m(-0.05230528116226196)\n",
            "     | > avg_log_mle:\u001b[92m 0.06928551197052002 \u001b[0m(-0.01649463176727295)\n",
            "     | > avg_loss_dur:\u001b[92m 0.9222524762153625 \u001b[0m(-0.03581058979034424)\n",
            "\n"
          ]
        },
        {
          "metadata": {
            "tags": null
          },
          "name": "stdout",
          "output_type": "stream",
          "text": [
            " | > Synthesizing test sentences.\n"
          ]
        },
        {
          "metadata": {
            "tags": null
          },
          "name": "stderr",
          "output_type": "stream",
          "text": [
            "\n",
            "  \u001b[1m--> EVAL PERFORMANCE\u001b[0m\n",
            "     | > avg_loader_time: 0.5313115119934082 \u001b[0m(+0.0)\n",
            "     | > avg_loss: 0.9915379881858826 \u001b[0m(+0.0)\n",
            "     | > avg_log_mle: 0.06928551197052002 \u001b[0m(+0.0)\n",
            "     | > avg_loss_dur: 0.9222524762153625 \u001b[0m(+0.0)\n",
            "\n",
            " > BEST MODEL : /content/drive/MyDrive/dataset/cloned/run-July-20-2023_10+24PM-0000000/best_model_2268.pth\n",
            "\n",
            "\u001b[4m\u001b[1m > EPOCH: 28/160\u001b[0m\n",
            " --> /content/drive/MyDrive/dataset/cloned/run-July-20-2023_10+24PM-0000000\n",
            "\n",
            "\u001b[1m > TRAINING (2023-07-20 22:47:02) \u001b[0m\n",
            "\n",
            "\u001b[1m > EVALUATION \u001b[0m\n",
            "\n",
            "\n",
            "  \u001b[1m--> EVAL PERFORMANCE\u001b[0m\n",
            "     | > avg_loader_time:\u001b[92m 0.36260271072387695 \u001b[0m(-0.16870880126953125)\n",
            "     | > avg_loss:\u001b[92m 0.9761073589324951 \u001b[0m(-0.015430629253387451)\n",
            "     | > avg_log_mle:\u001b[92m 0.05453014373779297 \u001b[0m(-0.01475536823272705)\n",
            "     | > avg_loss_dur:\u001b[92m 0.9215772151947021 \u001b[0m(-0.0006752610206604004)\n",
            "\n"
          ]
        },
        {
          "metadata": {
            "tags": null
          },
          "name": "stdout",
          "output_type": "stream",
          "text": [
            " | > Synthesizing test sentences.\n"
          ]
        },
        {
          "metadata": {
            "tags": null
          },
          "name": "stderr",
          "output_type": "stream",
          "text": [
            "\n",
            "  \u001b[1m--> EVAL PERFORMANCE\u001b[0m\n",
            "     | > avg_loader_time: 0.36260271072387695 \u001b[0m(+0.0)\n",
            "     | > avg_loss: 0.9761073589324951 \u001b[0m(+0.0)\n",
            "     | > avg_log_mle: 0.05453014373779297 \u001b[0m(+0.0)\n",
            "     | > avg_loss_dur: 0.9215772151947021 \u001b[0m(+0.0)\n",
            "\n",
            " > BEST MODEL : /content/drive/MyDrive/dataset/cloned/run-July-20-2023_10+24PM-0000000/best_model_2349.pth\n",
            "\n",
            "\u001b[4m\u001b[1m > EPOCH: 29/160\u001b[0m\n",
            " --> /content/drive/MyDrive/dataset/cloned/run-July-20-2023_10+24PM-0000000\n",
            "\n",
            "\u001b[1m > TRAINING (2023-07-20 22:47:57) \u001b[0m\n",
            "\n",
            "\u001b[1m > EVALUATION \u001b[0m\n",
            "\n",
            "\n",
            "  \u001b[1m--> EVAL PERFORMANCE\u001b[0m\n",
            "     | > avg_loader_time:\u001b[91m 0.4354720115661621 \u001b[0m(+0.07286930084228516)\n",
            "     | > avg_loss:\u001b[92m 0.9373281598091125 \u001b[0m(-0.03877919912338257)\n",
            "     | > avg_log_mle:\u001b[92m 0.052738726139068604 \u001b[0m(-0.0017914175987243652)\n",
            "     | > avg_loss_dur:\u001b[92m 0.884589433670044 \u001b[0m(-0.0369877815246582)\n",
            "\n"
          ]
        },
        {
          "metadata": {
            "tags": null
          },
          "name": "stdout",
          "output_type": "stream",
          "text": [
            " | > Synthesizing test sentences.\n"
          ]
        },
        {
          "metadata": {
            "tags": null
          },
          "name": "stderr",
          "output_type": "stream",
          "text": [
            "\n",
            "  \u001b[1m--> EVAL PERFORMANCE\u001b[0m\n",
            "     | > avg_loader_time: 0.4354720115661621 \u001b[0m(+0.0)\n",
            "     | > avg_loss: 0.9373281598091125 \u001b[0m(+0.0)\n",
            "     | > avg_log_mle: 0.052738726139068604 \u001b[0m(+0.0)\n",
            "     | > avg_loss_dur: 0.884589433670044 \u001b[0m(+0.0)\n",
            "\n",
            " > BEST MODEL : /content/drive/MyDrive/dataset/cloned/run-July-20-2023_10+24PM-0000000/best_model_2430.pth\n",
            "\n",
            "\u001b[4m\u001b[1m > EPOCH: 30/160\u001b[0m\n",
            " --> /content/drive/MyDrive/dataset/cloned/run-July-20-2023_10+24PM-0000000\n",
            "\n",
            "\u001b[1m > TRAINING (2023-07-20 22:48:46) \u001b[0m\n",
            "\n",
            "\u001b[1m   --> TIME: 2023-07-20 22:49:15 -- STEP: 70/81 -- GLOBAL_STEP: 2500\u001b[0m\n",
            "     | > loss: 0.9846939444541931  (1.0056417609964106)\n",
            "     | > log_mle: 0.2743070721626282  (0.13935824121747703)\n",
            "     | > loss_dur: 0.7103868722915649  (0.8662835270166397)\n",
            "     | > amp_scaler: 2048.0  (2048.0)\n",
            "     | > grad_norm: tensor(2.0478, device='cuda:0')  (tensor(16.2445, device='cuda:0'))\n",
            "     | > current_lr: 7.499999999999999e-06 \n",
            "     | > step_time: 0.2834  (0.3879763671330043)\n",
            "     | > loader_time: 0.0027  (0.004765827315194266)\n",
            "\n",
            "\n",
            "\u001b[1m > EVALUATION \u001b[0m\n",
            "\n",
            "\n",
            "  \u001b[1m--> EVAL PERFORMANCE\u001b[0m\n",
            "     | > avg_loader_time:\u001b[91m 0.7278318405151367 \u001b[0m(+0.2923598289489746)\n",
            "     | > avg_loss:\u001b[91m 0.9389878511428833 \u001b[0m(+0.001659691333770752)\n",
            "     | > avg_log_mle:\u001b[92m 0.03859877586364746 \u001b[0m(-0.014139950275421143)\n",
            "     | > avg_loss_dur:\u001b[91m 0.9003890752792358 \u001b[0m(+0.015799641609191895)\n",
            "\n"
          ]
        },
        {
          "metadata": {
            "tags": null
          },
          "name": "stdout",
          "output_type": "stream",
          "text": [
            " | > Synthesizing test sentences.\n"
          ]
        },
        {
          "metadata": {
            "tags": null
          },
          "name": "stderr",
          "output_type": "stream",
          "text": [
            "\n",
            "  \u001b[1m--> EVAL PERFORMANCE\u001b[0m\n",
            "     | > avg_loader_time: 0.7278318405151367 \u001b[0m(+0.0)\n",
            "     | > avg_loss: 0.9389878511428833 \u001b[0m(+0.0)\n",
            "     | > avg_log_mle: 0.03859877586364746 \u001b[0m(+0.0)\n",
            "     | > avg_loss_dur: 0.9003890752792358 \u001b[0m(+0.0)\n",
            "\n",
            "\n",
            "\u001b[4m\u001b[1m > EPOCH: 31/160\u001b[0m\n",
            " --> /content/drive/MyDrive/dataset/cloned/run-July-20-2023_10+24PM-0000000\n",
            "\n",
            "\u001b[1m > TRAINING (2023-07-20 22:49:31) \u001b[0m\n",
            "\n",
            "\u001b[1m > EVALUATION \u001b[0m\n",
            "\n",
            "\n",
            "  \u001b[1m--> EVAL PERFORMANCE\u001b[0m\n",
            "     | > avg_loader_time:\u001b[92m 0.6099960803985596 \u001b[0m(-0.11783576011657715)\n",
            "     | > avg_loss:\u001b[92m 0.9016932845115662 \u001b[0m(-0.03729456663131714)\n",
            "     | > avg_log_mle:\u001b[92m 0.02690410614013672 \u001b[0m(-0.011694669723510742)\n",
            "     | > avg_loss_dur:\u001b[92m 0.8747891783714294 \u001b[0m(-0.025599896907806396)\n",
            "\n"
          ]
        },
        {
          "metadata": {
            "tags": null
          },
          "name": "stdout",
          "output_type": "stream",
          "text": [
            " | > Synthesizing test sentences.\n"
          ]
        },
        {
          "metadata": {
            "tags": null
          },
          "name": "stderr",
          "output_type": "stream",
          "text": [
            "\n",
            "  \u001b[1m--> EVAL PERFORMANCE\u001b[0m\n",
            "     | > avg_loader_time: 0.6099960803985596 \u001b[0m(+0.0)\n",
            "     | > avg_loss: 0.9016932845115662 \u001b[0m(+0.0)\n",
            "     | > avg_log_mle: 0.02690410614013672 \u001b[0m(+0.0)\n",
            "     | > avg_loss_dur: 0.8747891783714294 \u001b[0m(+0.0)\n",
            "\n",
            " > BEST MODEL : /content/drive/MyDrive/dataset/cloned/run-July-20-2023_10+24PM-0000000/best_model_2592.pth\n",
            "\n",
            "\u001b[4m\u001b[1m > EPOCH: 32/160\u001b[0m\n",
            " --> /content/drive/MyDrive/dataset/cloned/run-July-20-2023_10+24PM-0000000\n",
            "\n",
            "\u001b[1m > TRAINING (2023-07-20 22:50:24) \u001b[0m\n",
            "\n",
            "\u001b[1m > EVALUATION \u001b[0m\n",
            "\n",
            "\n",
            "  \u001b[1m--> EVAL PERFORMANCE\u001b[0m\n",
            "     | > avg_loader_time:\u001b[91m 0.6236960887908936 \u001b[0m(+0.013700008392333984)\n",
            "     | > avg_loss:\u001b[92m 0.88458651304245 \u001b[0m(-0.01710677146911621)\n",
            "     | > avg_log_mle:\u001b[92m 0.02378225326538086 \u001b[0m(-0.0031218528747558594)\n",
            "     | > avg_loss_dur:\u001b[92m 0.8608042597770691 \u001b[0m(-0.013984918594360352)\n",
            "\n"
          ]
        },
        {
          "metadata": {
            "tags": null
          },
          "name": "stdout",
          "output_type": "stream",
          "text": [
            " | > Synthesizing test sentences.\n"
          ]
        },
        {
          "metadata": {
            "tags": null
          },
          "name": "stderr",
          "output_type": "stream",
          "text": [
            "\n",
            "  \u001b[1m--> EVAL PERFORMANCE\u001b[0m\n",
            "     | > avg_loader_time: 0.6236960887908936 \u001b[0m(+0.0)\n",
            "     | > avg_loss: 0.88458651304245 \u001b[0m(+0.0)\n",
            "     | > avg_log_mle: 0.02378225326538086 \u001b[0m(+0.0)\n",
            "     | > avg_loss_dur: 0.8608042597770691 \u001b[0m(+0.0)\n",
            "\n",
            " > BEST MODEL : /content/drive/MyDrive/dataset/cloned/run-July-20-2023_10+24PM-0000000/best_model_2673.pth\n",
            "\n",
            "\u001b[4m\u001b[1m > EPOCH: 33/160\u001b[0m\n",
            " --> /content/drive/MyDrive/dataset/cloned/run-July-20-2023_10+24PM-0000000\n",
            "\n",
            "\u001b[1m > TRAINING (2023-07-20 22:51:12) \u001b[0m\n",
            "\n",
            "\u001b[1m > EVALUATION \u001b[0m\n",
            "\n",
            "\n",
            "  \u001b[1m--> EVAL PERFORMANCE\u001b[0m\n",
            "     | > avg_loader_time:\u001b[92m 0.46961474418640137 \u001b[0m(-0.1540813446044922)\n",
            "     | > avg_loss:\u001b[92m 0.8688411116600037 \u001b[0m(-0.01574540138244629)\n",
            "     | > avg_log_mle:\u001b[92m 0.007405102252960205 \u001b[0m(-0.016377151012420654)\n",
            "     | > avg_loss_dur:\u001b[91m 0.8614360094070435 \u001b[0m(+0.0006317496299743652)\n",
            "\n"
          ]
        },
        {
          "metadata": {
            "tags": null
          },
          "name": "stdout",
          "output_type": "stream",
          "text": [
            " | > Synthesizing test sentences.\n"
          ]
        },
        {
          "metadata": {
            "tags": null
          },
          "name": "stderr",
          "output_type": "stream",
          "text": [
            "\n",
            "  \u001b[1m--> EVAL PERFORMANCE\u001b[0m\n",
            "     | > avg_loader_time: 0.46961474418640137 \u001b[0m(+0.0)\n",
            "     | > avg_loss: 0.8688411116600037 \u001b[0m(+0.0)\n",
            "     | > avg_log_mle: 0.007405102252960205 \u001b[0m(+0.0)\n",
            "     | > avg_loss_dur: 0.8614360094070435 \u001b[0m(+0.0)\n",
            "\n",
            " > BEST MODEL : /content/drive/MyDrive/dataset/cloned/run-July-20-2023_10+24PM-0000000/best_model_2754.pth\n",
            "\n",
            "\u001b[4m\u001b[1m > EPOCH: 34/160\u001b[0m\n",
            " --> /content/drive/MyDrive/dataset/cloned/run-July-20-2023_10+24PM-0000000\n",
            "\n",
            "\u001b[1m > TRAINING (2023-07-20 22:52:02) \u001b[0m\n",
            "\n",
            "\u001b[1m > EVALUATION \u001b[0m\n",
            "\n",
            "\n",
            "  \u001b[1m--> EVAL PERFORMANCE\u001b[0m\n",
            "     | > avg_loader_time:\u001b[92m 0.4418470859527588 \u001b[0m(-0.027767658233642578)\n",
            "     | > avg_loss:\u001b[92m 0.8310975432395935 \u001b[0m(-0.037743568420410156)\n",
            "     | > avg_log_mle:\u001b[92m 0.004439890384674072 \u001b[0m(-0.002965211868286133)\n",
            "     | > avg_loss_dur:\u001b[92m 0.8266576528549194 \u001b[0m(-0.03477835655212402)\n",
            "\n"
          ]
        },
        {
          "metadata": {
            "tags": null
          },
          "name": "stdout",
          "output_type": "stream",
          "text": [
            " | > Synthesizing test sentences.\n"
          ]
        },
        {
          "metadata": {
            "tags": null
          },
          "name": "stderr",
          "output_type": "stream",
          "text": [
            "\n",
            "  \u001b[1m--> EVAL PERFORMANCE\u001b[0m\n",
            "     | > avg_loader_time: 0.4418470859527588 \u001b[0m(+0.0)\n",
            "     | > avg_loss: 0.8310975432395935 \u001b[0m(+0.0)\n",
            "     | > avg_log_mle: 0.004439890384674072 \u001b[0m(+0.0)\n",
            "     | > avg_loss_dur: 0.8266576528549194 \u001b[0m(+0.0)\n",
            "\n",
            " > BEST MODEL : /content/drive/MyDrive/dataset/cloned/run-July-20-2023_10+24PM-0000000/best_model_2835.pth\n",
            "\n",
            "\u001b[4m\u001b[1m > EPOCH: 35/160\u001b[0m\n",
            " --> /content/drive/MyDrive/dataset/cloned/run-July-20-2023_10+24PM-0000000\n",
            "\n",
            "\u001b[1m > TRAINING (2023-07-20 22:52:54) \u001b[0m\n",
            "\n",
            "\u001b[1m > EVALUATION \u001b[0m\n",
            "\n",
            "\n",
            "  \u001b[1m--> EVAL PERFORMANCE\u001b[0m\n",
            "     | > avg_loader_time:\u001b[92m 0.36141085624694824 \u001b[0m(-0.08043622970581055)\n",
            "     | > avg_loss:\u001b[92m 0.8296597003936768 \u001b[0m(-0.001437842845916748)\n",
            "     | > avg_log_mle:\u001b[92m -0.00023406744003295898 \u001b[0m(-0.004673957824707031)\n",
            "     | > avg_loss_dur:\u001b[91m 0.8298937678337097 \u001b[0m(+0.003236114978790283)\n",
            "\n"
          ]
        },
        {
          "metadata": {
            "tags": null
          },
          "name": "stdout",
          "output_type": "stream",
          "text": [
            " | > Synthesizing test sentences.\n"
          ]
        },
        {
          "metadata": {
            "tags": null
          },
          "name": "stderr",
          "output_type": "stream",
          "text": [
            "\n",
            "  \u001b[1m--> EVAL PERFORMANCE\u001b[0m\n",
            "     | > avg_loader_time: 0.36141085624694824 \u001b[0m(+0.0)\n",
            "     | > avg_loss: 0.8296597003936768 \u001b[0m(+0.0)\n",
            "     | > avg_log_mle: -0.00023406744003295898 \u001b[0m(+0.0)\n",
            "     | > avg_loss_dur: 0.8298937678337097 \u001b[0m(+0.0)\n",
            "\n",
            " > BEST MODEL : /content/drive/MyDrive/dataset/cloned/run-July-20-2023_10+24PM-0000000/best_model_2916.pth\n",
            "\n",
            "\u001b[4m\u001b[1m > EPOCH: 36/160\u001b[0m\n",
            " --> /content/drive/MyDrive/dataset/cloned/run-July-20-2023_10+24PM-0000000\n",
            "\n",
            "\u001b[1m > TRAINING (2023-07-20 22:53:45) \u001b[0m\n",
            "\n",
            "\u001b[1m > EVALUATION \u001b[0m\n",
            "\n",
            "\n",
            "  \u001b[1m--> EVAL PERFORMANCE\u001b[0m\n",
            "     | > avg_loader_time:\u001b[91m 0.5148792266845703 \u001b[0m(+0.15346837043762207)\n",
            "     | > avg_loss:\u001b[92m 0.8000117540359497 \u001b[0m(-0.02964794635772705)\n",
            "     | > avg_log_mle:\u001b[92m -0.006248176097869873 \u001b[0m(-0.006014108657836914)\n",
            "     | > avg_loss_dur:\u001b[92m 0.8062599301338196 \u001b[0m(-0.023633837699890137)\n",
            "\n"
          ]
        },
        {
          "metadata": {
            "tags": null
          },
          "name": "stdout",
          "output_type": "stream",
          "text": [
            " | > Synthesizing test sentences.\n"
          ]
        },
        {
          "metadata": {
            "tags": null
          },
          "name": "stderr",
          "output_type": "stream",
          "text": [
            "\n",
            "  \u001b[1m--> EVAL PERFORMANCE\u001b[0m\n",
            "     | > avg_loader_time: 0.5148792266845703 \u001b[0m(+0.0)\n",
            "     | > avg_loss: 0.8000117540359497 \u001b[0m(+0.0)\n",
            "     | > avg_log_mle: -0.006248176097869873 \u001b[0m(+0.0)\n",
            "     | > avg_loss_dur: 0.8062599301338196 \u001b[0m(+0.0)\n",
            "\n",
            " > BEST MODEL : /content/drive/MyDrive/dataset/cloned/run-July-20-2023_10+24PM-0000000/best_model_2997.pth\n",
            "\n",
            "\u001b[4m\u001b[1m > EPOCH: 37/160\u001b[0m\n",
            " --> /content/drive/MyDrive/dataset/cloned/run-July-20-2023_10+24PM-0000000\n",
            "\n",
            "\u001b[1m > TRAINING (2023-07-20 22:54:39) \u001b[0m\n",
            "\n",
            "\u001b[1m   --> TIME: 2023-07-20 22:54:43 -- STEP: 3/81 -- GLOBAL_STEP: 3000\u001b[0m\n",
            "     | > loss: 0.82806795835495  (0.8581640521685282)\n",
            "     | > log_mle: 0.11902552843093872  (0.13927324612935385)\n",
            "     | > loss_dur: 0.7090424299240112  (0.7188908060391744)\n",
            "     | > amp_scaler: 2048.0  (2048.0)\n",
            "     | > grad_norm: tensor(8.7441, device='cuda:0')  (tensor(23.5691, device='cuda:0'))\n",
            "     | > current_lr: 9.250000000000001e-06 \n",
            "     | > step_time: 0.5719  (0.5591324965159098)\n",
            "     | > loader_time: 0.0037  (0.004026095072428386)\n",
            "\n",
            "\n",
            "\u001b[1m > EVALUATION \u001b[0m\n",
            "\n",
            "\n",
            "  \u001b[1m--> EVAL PERFORMANCE\u001b[0m\n",
            "     | > avg_loader_time:\u001b[92m 0.4124467372894287 \u001b[0m(-0.1024324893951416)\n",
            "     | > avg_loss:\u001b[92m 0.7972790002822876 \u001b[0m(-0.0027327537536621094)\n",
            "     | > avg_log_mle:\u001b[92m -0.009471654891967773 \u001b[0m(-0.0032234787940979004)\n",
            "     | > avg_loss_dur:\u001b[91m 0.8067506551742554 \u001b[0m(+0.000490725040435791)\n",
            "\n"
          ]
        },
        {
          "metadata": {
            "tags": null
          },
          "name": "stdout",
          "output_type": "stream",
          "text": [
            " | > Synthesizing test sentences.\n"
          ]
        },
        {
          "metadata": {
            "tags": null
          },
          "name": "stderr",
          "output_type": "stream",
          "text": [
            "\n",
            "  \u001b[1m--> EVAL PERFORMANCE\u001b[0m\n",
            "     | > avg_loader_time: 0.4124467372894287 \u001b[0m(+0.0)\n",
            "     | > avg_loss: 0.7972790002822876 \u001b[0m(+0.0)\n",
            "     | > avg_log_mle: -0.009471654891967773 \u001b[0m(+0.0)\n",
            "     | > avg_loss_dur: 0.8067506551742554 \u001b[0m(+0.0)\n",
            "\n",
            " > BEST MODEL : /content/drive/MyDrive/dataset/cloned/run-July-20-2023_10+24PM-0000000/best_model_3078.pth\n",
            "\n",
            "\u001b[4m\u001b[1m > EPOCH: 38/160\u001b[0m\n",
            " --> /content/drive/MyDrive/dataset/cloned/run-July-20-2023_10+24PM-0000000\n",
            "\n",
            "\u001b[1m > TRAINING (2023-07-20 22:55:34) \u001b[0m\n",
            "\n",
            "\u001b[1m > EVALUATION \u001b[0m\n",
            "\n",
            "\n",
            "  \u001b[1m--> EVAL PERFORMANCE\u001b[0m\n",
            "     | > avg_loader_time:\u001b[91m 1.0785822868347168 \u001b[0m(+0.6661355495452881)\n",
            "     | > avg_loss:\u001b[92m 0.7535676956176758 \u001b[0m(-0.043711304664611816)\n",
            "     | > avg_log_mle:\u001b[92m -0.030799806118011475 \u001b[0m(-0.0213281512260437)\n",
            "     | > avg_loss_dur:\u001b[92m 0.7843675017356873 \u001b[0m(-0.022383153438568115)\n",
            "\n"
          ]
        },
        {
          "metadata": {
            "tags": null
          },
          "name": "stdout",
          "output_type": "stream",
          "text": [
            " | > Synthesizing test sentences.\n"
          ]
        },
        {
          "metadata": {
            "tags": null
          },
          "name": "stderr",
          "output_type": "stream",
          "text": [
            "\n",
            "  \u001b[1m--> EVAL PERFORMANCE\u001b[0m\n",
            "     | > avg_loader_time: 1.0785822868347168 \u001b[0m(+0.0)\n",
            "     | > avg_loss: 0.7535676956176758 \u001b[0m(+0.0)\n",
            "     | > avg_log_mle: -0.030799806118011475 \u001b[0m(+0.0)\n",
            "     | > avg_loss_dur: 0.7843675017356873 \u001b[0m(+0.0)\n",
            "\n",
            " > BEST MODEL : /content/drive/MyDrive/dataset/cloned/run-July-20-2023_10+24PM-0000000/best_model_3159.pth\n",
            "\n",
            "\u001b[4m\u001b[1m > EPOCH: 39/160\u001b[0m\n",
            " --> /content/drive/MyDrive/dataset/cloned/run-July-20-2023_10+24PM-0000000\n",
            "\n",
            "\u001b[1m > TRAINING (2023-07-20 22:56:24) \u001b[0m\n",
            "\n",
            "\u001b[1m > EVALUATION \u001b[0m\n",
            "\n",
            "\n",
            "  \u001b[1m--> EVAL PERFORMANCE\u001b[0m\n",
            "     | > avg_loader_time:\u001b[92m 0.5627589225769043 \u001b[0m(-0.5158233642578125)\n",
            "     | > avg_loss:\u001b[92m 0.7339248657226562 \u001b[0m(-0.01964282989501953)\n",
            "     | > avg_log_mle:\u001b[92m -0.04128974676132202 \u001b[0m(-0.010489940643310547)\n",
            "     | > avg_loss_dur:\u001b[92m 0.7752146124839783 \u001b[0m(-0.009152889251708984)\n",
            "\n"
          ]
        },
        {
          "metadata": {
            "tags": null
          },
          "name": "stdout",
          "output_type": "stream",
          "text": [
            " | > Synthesizing test sentences.\n"
          ]
        },
        {
          "metadata": {
            "tags": null
          },
          "name": "stderr",
          "output_type": "stream",
          "text": [
            "\n",
            "  \u001b[1m--> EVAL PERFORMANCE\u001b[0m\n",
            "     | > avg_loader_time: 0.5627589225769043 \u001b[0m(+0.0)\n",
            "     | > avg_loss: 0.7339248657226562 \u001b[0m(+0.0)\n",
            "     | > avg_log_mle: -0.04128974676132202 \u001b[0m(+0.0)\n",
            "     | > avg_loss_dur: 0.7752146124839783 \u001b[0m(+0.0)\n",
            "\n",
            " > BEST MODEL : /content/drive/MyDrive/dataset/cloned/run-July-20-2023_10+24PM-0000000/best_model_3240.pth\n",
            "\n",
            "\u001b[4m\u001b[1m > EPOCH: 40/160\u001b[0m\n",
            " --> /content/drive/MyDrive/dataset/cloned/run-July-20-2023_10+24PM-0000000\n",
            "\n",
            "\u001b[1m > TRAINING (2023-07-20 22:57:11) \u001b[0m\n",
            "\n",
            "\u001b[1m > EVALUATION \u001b[0m\n",
            "\n",
            "\n",
            "  \u001b[1m--> EVAL PERFORMANCE\u001b[0m\n",
            "     | > avg_loader_time:\u001b[92m 0.5523719787597656 \u001b[0m(-0.010386943817138672)\n",
            "     | > avg_loss:\u001b[91m 0.7347660064697266 \u001b[0m(+0.0008411407470703125)\n",
            "     | > avg_log_mle:\u001b[92m -0.042030394077301025 \u001b[0m(-0.0007406473159790039)\n",
            "     | > avg_loss_dur:\u001b[91m 0.7767964005470276 \u001b[0m(+0.0015817880630493164)\n",
            "\n"
          ]
        },
        {
          "metadata": {
            "tags": null
          },
          "name": "stdout",
          "output_type": "stream",
          "text": [
            " | > Synthesizing test sentences.\n"
          ]
        },
        {
          "metadata": {
            "tags": null
          },
          "name": "stderr",
          "output_type": "stream",
          "text": [
            "\n",
            "  \u001b[1m--> EVAL PERFORMANCE\u001b[0m\n",
            "     | > avg_loader_time: 0.5523719787597656 \u001b[0m(+0.0)\n",
            "     | > avg_loss: 0.7347660064697266 \u001b[0m(+0.0)\n",
            "     | > avg_log_mle: -0.042030394077301025 \u001b[0m(+0.0)\n",
            "     | > avg_loss_dur: 0.7767964005470276 \u001b[0m(+0.0)\n",
            "\n",
            "\n",
            "\u001b[4m\u001b[1m > EPOCH: 41/160\u001b[0m\n",
            " --> /content/drive/MyDrive/dataset/cloned/run-July-20-2023_10+24PM-0000000\n",
            "\n",
            "\u001b[1m > TRAINING (2023-07-20 22:57:54) \u001b[0m\n",
            "\n",
            "\u001b[1m > EVALUATION \u001b[0m\n",
            "\n",
            "\n",
            "  \u001b[1m--> EVAL PERFORMANCE\u001b[0m\n",
            "     | > avg_loader_time:\u001b[92m 0.39649200439453125 \u001b[0m(-0.15587997436523438)\n",
            "     | > avg_loss:\u001b[92m 0.7300756573677063 \u001b[0m(-0.004690349102020264)\n",
            "     | > avg_log_mle:\u001b[91m -0.03868991136550903 \u001b[0m(+0.003340482711791992)\n",
            "     | > avg_loss_dur:\u001b[92m 0.7687655687332153 \u001b[0m(-0.008030831813812256)\n",
            "\n"
          ]
        },
        {
          "metadata": {
            "tags": null
          },
          "name": "stdout",
          "output_type": "stream",
          "text": [
            " | > Synthesizing test sentences.\n"
          ]
        },
        {
          "metadata": {
            "tags": null
          },
          "name": "stderr",
          "output_type": "stream",
          "text": [
            "\n",
            "  \u001b[1m--> EVAL PERFORMANCE\u001b[0m\n",
            "     | > avg_loader_time: 0.39649200439453125 \u001b[0m(+0.0)\n",
            "     | > avg_loss: 0.7300756573677063 \u001b[0m(+0.0)\n",
            "     | > avg_log_mle: -0.03868991136550903 \u001b[0m(+0.0)\n",
            "     | > avg_loss_dur: 0.7687655687332153 \u001b[0m(+0.0)\n",
            "\n",
            " > BEST MODEL : /content/drive/MyDrive/dataset/cloned/run-July-20-2023_10+24PM-0000000/best_model_3402.pth\n",
            "\n",
            "\u001b[4m\u001b[1m > EPOCH: 42/160\u001b[0m\n",
            " --> /content/drive/MyDrive/dataset/cloned/run-July-20-2023_10+24PM-0000000\n",
            "\n",
            "\u001b[1m > TRAINING (2023-07-20 22:58:47) \u001b[0m\n",
            "\n",
            "\u001b[1m > EVALUATION \u001b[0m\n",
            "\n",
            "\n",
            "  \u001b[1m--> EVAL PERFORMANCE\u001b[0m\n",
            "     | > avg_loader_time:\u001b[91m 0.6733126640319824 \u001b[0m(+0.27682065963745117)\n",
            "     | > avg_loss:\u001b[92m 0.6931830048561096 \u001b[0m(-0.03689265251159668)\n",
            "     | > avg_log_mle:\u001b[92m -0.06194627285003662 \u001b[0m(-0.023256361484527588)\n",
            "     | > avg_loss_dur:\u001b[92m 0.7551292777061462 \u001b[0m(-0.013636291027069092)\n",
            "\n"
          ]
        },
        {
          "metadata": {
            "tags": null
          },
          "name": "stdout",
          "output_type": "stream",
          "text": [
            " | > Synthesizing test sentences.\n"
          ]
        },
        {
          "metadata": {
            "tags": null
          },
          "name": "stderr",
          "output_type": "stream",
          "text": [
            "\n",
            "  \u001b[1m--> EVAL PERFORMANCE\u001b[0m\n",
            "     | > avg_loader_time: 0.6733126640319824 \u001b[0m(+0.0)\n",
            "     | > avg_loss: 0.6931830048561096 \u001b[0m(+0.0)\n",
            "     | > avg_log_mle: -0.06194627285003662 \u001b[0m(+0.0)\n",
            "     | > avg_loss_dur: 0.7551292777061462 \u001b[0m(+0.0)\n",
            "\n",
            " > BEST MODEL : /content/drive/MyDrive/dataset/cloned/run-July-20-2023_10+24PM-0000000/best_model_3483.pth\n",
            "\n",
            "\u001b[4m\u001b[1m > EPOCH: 43/160\u001b[0m\n",
            " --> /content/drive/MyDrive/dataset/cloned/run-July-20-2023_10+24PM-0000000\n",
            "\n",
            "\u001b[1m > TRAINING (2023-07-20 22:59:35) \u001b[0m\n",
            "\n",
            "\u001b[1m   --> TIME: 2023-07-20 22:59:45 -- STEP: 17/81 -- GLOBAL_STEP: 3500\u001b[0m\n",
            "     | > loss: 0.7761608362197876  (0.7347954441519344)\n",
            "     | > log_mle: 0.05917125940322876  (0.055267793290755325)\n",
            "     | > loss_dur: 0.7169895768165588  (0.6795276491081014)\n",
            "     | > amp_scaler: 2048.0  (2048.0)\n",
            "     | > grad_norm: tensor(13.5019, device='cuda:0')  (tensor(23.2353, device='cuda:0'))\n",
            "     | > current_lr: 1.075e-05 \n",
            "     | > step_time: 0.2938  (0.44202236568226533)\n",
            "     | > loader_time: 0.0043  (0.007188544553868911)\n",
            "\n",
            "\n",
            "\u001b[1m > EVALUATION \u001b[0m\n",
            "\n",
            "\n",
            "  \u001b[1m--> EVAL PERFORMANCE\u001b[0m\n",
            "     | > avg_loader_time:\u001b[92m 0.3812541961669922 \u001b[0m(-0.29205846786499023)\n",
            "     | > avg_loss:\u001b[92m 0.6810678243637085 \u001b[0m(-0.012115180492401123)\n",
            "     | > avg_log_mle:\u001b[92m -0.07252681255340576 \u001b[0m(-0.01058053970336914)\n",
            "     | > avg_loss_dur:\u001b[92m 0.7535946369171143 \u001b[0m(-0.0015346407890319824)\n",
            "\n"
          ]
        },
        {
          "metadata": {
            "tags": null
          },
          "name": "stdout",
          "output_type": "stream",
          "text": [
            " | > Synthesizing test sentences.\n"
          ]
        },
        {
          "metadata": {
            "tags": null
          },
          "name": "stderr",
          "output_type": "stream",
          "text": [
            "\n",
            "  \u001b[1m--> EVAL PERFORMANCE\u001b[0m\n",
            "     | > avg_loader_time: 0.3812541961669922 \u001b[0m(+0.0)\n",
            "     | > avg_loss: 0.6810678243637085 \u001b[0m(+0.0)\n",
            "     | > avg_log_mle: -0.07252681255340576 \u001b[0m(+0.0)\n",
            "     | > avg_loss_dur: 0.7535946369171143 \u001b[0m(+0.0)\n",
            "\n",
            " > BEST MODEL : /content/drive/MyDrive/dataset/cloned/run-July-20-2023_10+24PM-0000000/best_model_3564.pth\n",
            "\n",
            "\u001b[4m\u001b[1m > EPOCH: 44/160\u001b[0m\n",
            " --> /content/drive/MyDrive/dataset/cloned/run-July-20-2023_10+24PM-0000000\n",
            "\n",
            "\u001b[1m > TRAINING (2023-07-20 23:00:21) \u001b[0m\n",
            "\n",
            "\u001b[1m > EVALUATION \u001b[0m\n",
            "\n",
            "\n",
            "  \u001b[1m--> EVAL PERFORMANCE\u001b[0m\n",
            "     | > avg_loader_time:\u001b[92m 0.38036036491394043 \u001b[0m(-0.0008938312530517578)\n",
            "     | > avg_loss:\u001b[92m 0.6577199101448059 \u001b[0m(-0.023347914218902588)\n",
            "     | > avg_log_mle:\u001b[92m -0.08301150798797607 \u001b[0m(-0.010484695434570312)\n",
            "     | > avg_loss_dur:\u001b[92m 0.740731418132782 \u001b[0m(-0.012863218784332275)\n",
            "\n"
          ]
        },
        {
          "metadata": {
            "tags": null
          },
          "name": "stdout",
          "output_type": "stream",
          "text": [
            " | > Synthesizing test sentences.\n"
          ]
        },
        {
          "metadata": {
            "tags": null
          },
          "name": "stderr",
          "output_type": "stream",
          "text": [
            "\n",
            "  \u001b[1m--> EVAL PERFORMANCE\u001b[0m\n",
            "     | > avg_loader_time: 0.38036036491394043 \u001b[0m(+0.0)\n",
            "     | > avg_loss: 0.6577199101448059 \u001b[0m(+0.0)\n",
            "     | > avg_log_mle: -0.08301150798797607 \u001b[0m(+0.0)\n",
            "     | > avg_loss_dur: 0.740731418132782 \u001b[0m(+0.0)\n",
            "\n",
            " > BEST MODEL : /content/drive/MyDrive/dataset/cloned/run-July-20-2023_10+24PM-0000000/best_model_3645.pth\n",
            "\n",
            "\u001b[4m\u001b[1m > EPOCH: 45/160\u001b[0m\n",
            " --> /content/drive/MyDrive/dataset/cloned/run-July-20-2023_10+24PM-0000000\n",
            "\n",
            "\u001b[1m > TRAINING (2023-07-20 23:01:16) \u001b[0m\n",
            "\n",
            "\u001b[1m > EVALUATION \u001b[0m\n",
            "\n",
            "\n",
            "  \u001b[1m--> EVAL PERFORMANCE\u001b[0m\n",
            "     | > avg_loader_time:\u001b[92m 0.36631345748901367 \u001b[0m(-0.014046907424926758)\n",
            "     | > avg_loss:\u001b[91m 0.6612136960029602 \u001b[0m(+0.003493785858154297)\n",
            "     | > avg_log_mle:\u001b[91m -0.07269287109375 \u001b[0m(+0.010318636894226074)\n",
            "     | > avg_loss_dur:\u001b[92m 0.7339065670967102 \u001b[0m(-0.006824851036071777)\n",
            "\n"
          ]
        },
        {
          "metadata": {
            "tags": null
          },
          "name": "stdout",
          "output_type": "stream",
          "text": [
            " | > Synthesizing test sentences.\n"
          ]
        },
        {
          "metadata": {
            "tags": null
          },
          "name": "stderr",
          "output_type": "stream",
          "text": [
            "\n",
            "  \u001b[1m--> EVAL PERFORMANCE\u001b[0m\n",
            "     | > avg_loader_time: 0.36631345748901367 \u001b[0m(+0.0)\n",
            "     | > avg_loss: 0.6612136960029602 \u001b[0m(+0.0)\n",
            "     | > avg_log_mle: -0.07269287109375 \u001b[0m(+0.0)\n",
            "     | > avg_loss_dur: 0.7339065670967102 \u001b[0m(+0.0)\n",
            "\n",
            "\n",
            "\u001b[4m\u001b[1m > EPOCH: 46/160\u001b[0m\n",
            " --> /content/drive/MyDrive/dataset/cloned/run-July-20-2023_10+24PM-0000000\n",
            "\n",
            "\u001b[1m > TRAINING (2023-07-20 23:01:59) \u001b[0m\n",
            "\n",
            "\u001b[1m > EVALUATION \u001b[0m\n",
            "\n",
            "\n",
            "  \u001b[1m--> EVAL PERFORMANCE\u001b[0m\n",
            "     | > avg_loader_time:\u001b[91m 0.3762786388397217 \u001b[0m(+0.009965181350708008)\n",
            "     | > avg_loss:\u001b[92m 0.642755389213562 \u001b[0m(-0.018458306789398193)\n",
            "     | > avg_log_mle:\u001b[92m -0.08961665630340576 \u001b[0m(-0.01692378520965576)\n",
            "     | > avg_loss_dur:\u001b[92m 0.7323720455169678 \u001b[0m(-0.0015345215797424316)\n",
            "\n"
          ]
        },
        {
          "metadata": {
            "tags": null
          },
          "name": "stdout",
          "output_type": "stream",
          "text": [
            " | > Synthesizing test sentences.\n"
          ]
        },
        {
          "metadata": {
            "tags": null
          },
          "name": "stderr",
          "output_type": "stream",
          "text": [
            "\n",
            "  \u001b[1m--> EVAL PERFORMANCE\u001b[0m\n",
            "     | > avg_loader_time: 0.3762786388397217 \u001b[0m(+0.0)\n",
            "     | > avg_loss: 0.642755389213562 \u001b[0m(+0.0)\n",
            "     | > avg_log_mle: -0.08961665630340576 \u001b[0m(+0.0)\n",
            "     | > avg_loss_dur: 0.7323720455169678 \u001b[0m(+0.0)\n",
            "\n",
            " > BEST MODEL : /content/drive/MyDrive/dataset/cloned/run-July-20-2023_10+24PM-0000000/best_model_3807.pth\n",
            "\n",
            "\u001b[4m\u001b[1m > EPOCH: 47/160\u001b[0m\n",
            " --> /content/drive/MyDrive/dataset/cloned/run-July-20-2023_10+24PM-0000000\n",
            "\n",
            "\u001b[1m > TRAINING (2023-07-20 23:02:47) \u001b[0m\n",
            "\n",
            "\u001b[1m > EVALUATION \u001b[0m\n",
            "\n",
            "\n",
            "  \u001b[1m--> EVAL PERFORMANCE\u001b[0m\n",
            "     | > avg_loader_time:\u001b[91m 0.7153506278991699 \u001b[0m(+0.33907198905944824)\n",
            "     | > avg_loss:\u001b[92m 0.6357900500297546 \u001b[0m(-0.006965339183807373)\n",
            "     | > avg_log_mle:\u001b[92m -0.09379434585571289 \u001b[0m(-0.004177689552307129)\n",
            "     | > avg_loss_dur:\u001b[92m 0.7295843958854675 \u001b[0m(-0.002787649631500244)\n",
            "\n"
          ]
        },
        {
          "metadata": {
            "tags": null
          },
          "name": "stdout",
          "output_type": "stream",
          "text": [
            " | > Synthesizing test sentences.\n"
          ]
        },
        {
          "metadata": {
            "tags": null
          },
          "name": "stderr",
          "output_type": "stream",
          "text": [
            "\n",
            "  \u001b[1m--> EVAL PERFORMANCE\u001b[0m\n",
            "     | > avg_loader_time: 0.7153506278991699 \u001b[0m(+0.0)\n",
            "     | > avg_loss: 0.6357900500297546 \u001b[0m(+0.0)\n",
            "     | > avg_log_mle: -0.09379434585571289 \u001b[0m(+0.0)\n",
            "     | > avg_loss_dur: 0.7295843958854675 \u001b[0m(+0.0)\n",
            "\n",
            " > BEST MODEL : /content/drive/MyDrive/dataset/cloned/run-July-20-2023_10+24PM-0000000/best_model_3888.pth\n",
            "\n",
            "\u001b[4m\u001b[1m > EPOCH: 48/160\u001b[0m\n",
            " --> /content/drive/MyDrive/dataset/cloned/run-July-20-2023_10+24PM-0000000\n",
            "\n",
            "\u001b[1m > TRAINING (2023-07-20 23:03:47) \u001b[0m\n",
            "\n",
            "\u001b[1m > EVALUATION \u001b[0m\n",
            "\n",
            "\n",
            "  \u001b[1m--> EVAL PERFORMANCE\u001b[0m\n",
            "     | > avg_loader_time:\u001b[92m 0.5659158229827881 \u001b[0m(-0.14943480491638184)\n",
            "     | > avg_loss:\u001b[92m 0.6186243891716003 \u001b[0m(-0.017165660858154297)\n",
            "     | > avg_log_mle:\u001b[92m -0.10271203517913818 \u001b[0m(-0.008917689323425293)\n",
            "     | > avg_loss_dur:\u001b[92m 0.7213364243507385 \u001b[0m(-0.008247971534729004)\n",
            "\n"
          ]
        },
        {
          "metadata": {
            "tags": null
          },
          "name": "stdout",
          "output_type": "stream",
          "text": [
            " | > Synthesizing test sentences.\n"
          ]
        },
        {
          "metadata": {
            "tags": null
          },
          "name": "stderr",
          "output_type": "stream",
          "text": [
            "\n",
            "  \u001b[1m--> EVAL PERFORMANCE\u001b[0m\n",
            "     | > avg_loader_time: 0.5659158229827881 \u001b[0m(+0.0)\n",
            "     | > avg_loss: 0.6186243891716003 \u001b[0m(+0.0)\n",
            "     | > avg_log_mle: -0.10271203517913818 \u001b[0m(+0.0)\n",
            "     | > avg_loss_dur: 0.7213364243507385 \u001b[0m(+0.0)\n",
            "\n",
            " > BEST MODEL : /content/drive/MyDrive/dataset/cloned/run-July-20-2023_10+24PM-0000000/best_model_3969.pth\n",
            "\n",
            "\u001b[4m\u001b[1m > EPOCH: 49/160\u001b[0m\n",
            " --> /content/drive/MyDrive/dataset/cloned/run-July-20-2023_10+24PM-0000000\n",
            "\n",
            "\u001b[1m > TRAINING (2023-07-20 23:04:37) \u001b[0m\n",
            "\n",
            "\u001b[1m   --> TIME: 2023-07-20 23:04:52 -- STEP: 31/81 -- GLOBAL_STEP: 4000\u001b[0m\n",
            "     | > loss: 0.5981177091598511  (0.6674902439117432)\n",
            "     | > log_mle: 0.05014300346374512  (-0.014615026212507678)\n",
            "     | > loss_dur: 0.547974705696106  (0.6821052682015204)\n",
            "     | > amp_scaler: 2048.0  (2048.0)\n",
            "     | > grad_norm: tensor(10.1880, device='cuda:0')  (tensor(20.9384, device='cuda:0'))\n",
            "     | > current_lr: 1.225e-05 \n",
            "     | > step_time: 0.3039  (0.39511033027402814)\n",
            "     | > loader_time: 0.0057  (0.0056795920095136085)\n",
            "\n",
            "\n",
            "\u001b[1m > EVALUATION \u001b[0m\n",
            "\n",
            "\n",
            "  \u001b[1m--> EVAL PERFORMANCE\u001b[0m\n",
            "     | > avg_loader_time:\u001b[92m 0.45258545875549316 \u001b[0m(-0.11333036422729492)\n",
            "     | > avg_loss:\u001b[92m 0.607801079750061 \u001b[0m(-0.010823309421539307)\n",
            "     | > avg_log_mle:\u001b[92m -0.10880482196807861 \u001b[0m(-0.00609278678894043)\n",
            "     | > avg_loss_dur:\u001b[92m 0.7166059017181396 \u001b[0m(-0.004730522632598877)\n",
            "\n"
          ]
        },
        {
          "metadata": {
            "tags": null
          },
          "name": "stdout",
          "output_type": "stream",
          "text": [
            " | > Synthesizing test sentences.\n"
          ]
        },
        {
          "metadata": {
            "tags": null
          },
          "name": "stderr",
          "output_type": "stream",
          "text": [
            "\n",
            "  \u001b[1m--> EVAL PERFORMANCE\u001b[0m\n",
            "     | > avg_loader_time: 0.45258545875549316 \u001b[0m(+0.0)\n",
            "     | > avg_loss: 0.607801079750061 \u001b[0m(+0.0)\n",
            "     | > avg_log_mle: -0.10880482196807861 \u001b[0m(+0.0)\n",
            "     | > avg_loss_dur: 0.7166059017181396 \u001b[0m(+0.0)\n",
            "\n",
            " > BEST MODEL : /content/drive/MyDrive/dataset/cloned/run-July-20-2023_10+24PM-0000000/best_model_4050.pth\n",
            "\n",
            "\u001b[4m\u001b[1m > EPOCH: 50/160\u001b[0m\n",
            " --> /content/drive/MyDrive/dataset/cloned/run-July-20-2023_10+24PM-0000000\n",
            "\n",
            "\u001b[1m > TRAINING (2023-07-20 23:05:32) \u001b[0m\n",
            "\n",
            "\u001b[1m > EVALUATION \u001b[0m\n",
            "\n",
            "\n",
            "  \u001b[1m--> EVAL PERFORMANCE\u001b[0m\n",
            "     | > avg_loader_time:\u001b[92m 0.3855891227722168 \u001b[0m(-0.06699633598327637)\n",
            "     | > avg_loss:\u001b[92m 0.595813512802124 \u001b[0m(-0.011987566947937012)\n",
            "     | > avg_log_mle:\u001b[92m -0.12224340438842773 \u001b[0m(-0.013438582420349121)\n",
            "     | > avg_loss_dur:\u001b[91m 0.7180569171905518 \u001b[0m(+0.0014510154724121094)\n",
            "\n"
          ]
        },
        {
          "metadata": {
            "tags": null
          },
          "name": "stdout",
          "output_type": "stream",
          "text": [
            " | > Synthesizing test sentences.\n"
          ]
        },
        {
          "metadata": {
            "tags": null
          },
          "name": "stderr",
          "output_type": "stream",
          "text": [
            "\n",
            "  \u001b[1m--> EVAL PERFORMANCE\u001b[0m\n",
            "     | > avg_loader_time: 0.3855891227722168 \u001b[0m(+0.0)\n",
            "     | > avg_loss: 0.595813512802124 \u001b[0m(+0.0)\n",
            "     | > avg_log_mle: -0.12224340438842773 \u001b[0m(+0.0)\n",
            "     | > avg_loss_dur: 0.7180569171905518 \u001b[0m(+0.0)\n",
            "\n",
            " > BEST MODEL : /content/drive/MyDrive/dataset/cloned/run-July-20-2023_10+24PM-0000000/best_model_4131.pth\n",
            "\n",
            "\u001b[4m\u001b[1m > EPOCH: 51/160\u001b[0m\n",
            " --> /content/drive/MyDrive/dataset/cloned/run-July-20-2023_10+24PM-0000000\n",
            "\n",
            "\u001b[1m > TRAINING (2023-07-20 23:06:27) \u001b[0m\n",
            "\n",
            "\u001b[1m > EVALUATION \u001b[0m\n",
            "\n",
            "\n",
            "  \u001b[1m--> EVAL PERFORMANCE\u001b[0m\n",
            "     | > avg_loader_time:\u001b[91m 0.5691273212432861 \u001b[0m(+0.18353819847106934)\n",
            "     | > avg_loss:\u001b[91m 0.5992739796638489 \u001b[0m(+0.0034604668617248535)\n",
            "     | > avg_log_mle:\u001b[91m -0.11402404308319092 \u001b[0m(+0.008219361305236816)\n",
            "     | > avg_loss_dur:\u001b[92m 0.7132980227470398 \u001b[0m(-0.004758894443511963)\n",
            "\n"
          ]
        },
        {
          "metadata": {
            "tags": null
          },
          "name": "stdout",
          "output_type": "stream",
          "text": [
            " | > Synthesizing test sentences.\n"
          ]
        },
        {
          "metadata": {
            "tags": null
          },
          "name": "stderr",
          "output_type": "stream",
          "text": [
            "\n",
            "  \u001b[1m--> EVAL PERFORMANCE\u001b[0m\n",
            "     | > avg_loader_time: 0.5691273212432861 \u001b[0m(+0.0)\n",
            "     | > avg_loss: 0.5992739796638489 \u001b[0m(+0.0)\n",
            "     | > avg_log_mle: -0.11402404308319092 \u001b[0m(+0.0)\n",
            "     | > avg_loss_dur: 0.7132980227470398 \u001b[0m(+0.0)\n",
            "\n",
            "\n",
            "\u001b[4m\u001b[1m > EPOCH: 52/160\u001b[0m\n",
            " --> /content/drive/MyDrive/dataset/cloned/run-July-20-2023_10+24PM-0000000\n",
            "\n",
            "\u001b[1m > TRAINING (2023-07-20 23:07:11) \u001b[0m\n",
            "\n",
            "\u001b[1m > EVALUATION \u001b[0m\n",
            "\n",
            "\n",
            "  \u001b[1m--> EVAL PERFORMANCE\u001b[0m\n",
            "     | > avg_loader_time:\u001b[92m 0.37789273262023926 \u001b[0m(-0.19123458862304688)\n",
            "     | > avg_loss:\u001b[91m 0.6001211404800415 \u001b[0m(+0.000847160816192627)\n",
            "     | > avg_log_mle:\u001b[91m -0.11315715312957764 \u001b[0m(+0.0008668899536132812)\n",
            "     | > avg_loss_dur:\u001b[92m 0.7132782936096191 \u001b[0m(-1.9729137420654297e-05)\n",
            "\n"
          ]
        },
        {
          "metadata": {
            "tags": null
          },
          "name": "stdout",
          "output_type": "stream",
          "text": [
            " | > Synthesizing test sentences.\n"
          ]
        },
        {
          "metadata": {
            "tags": null
          },
          "name": "stderr",
          "output_type": "stream",
          "text": [
            "\n",
            "  \u001b[1m--> EVAL PERFORMANCE\u001b[0m\n",
            "     | > avg_loader_time: 0.37789273262023926 \u001b[0m(+0.0)\n",
            "     | > avg_loss: 0.6001211404800415 \u001b[0m(+0.0)\n",
            "     | > avg_log_mle: -0.11315715312957764 \u001b[0m(+0.0)\n",
            "     | > avg_loss_dur: 0.7132782936096191 \u001b[0m(+0.0)\n",
            "\n",
            "\n",
            "\u001b[4m\u001b[1m > EPOCH: 53/160\u001b[0m\n",
            " --> /content/drive/MyDrive/dataset/cloned/run-July-20-2023_10+24PM-0000000\n",
            "\n",
            "\u001b[1m > TRAINING (2023-07-20 23:08:02) \u001b[0m\n",
            "\n",
            "\u001b[1m > EVALUATION \u001b[0m\n",
            "\n",
            "\n",
            "  \u001b[1m--> EVAL PERFORMANCE\u001b[0m\n",
            "     | > avg_loader_time:\u001b[91m 0.5316650867462158 \u001b[0m(+0.15377235412597656)\n",
            "     | > avg_loss:\u001b[92m 0.5592115521430969 \u001b[0m(-0.04090958833694458)\n",
            "     | > avg_log_mle:\u001b[92m -0.1253141164779663 \u001b[0m(-0.012156963348388672)\n",
            "     | > avg_loss_dur:\u001b[92m 0.6845256686210632 \u001b[0m(-0.028752624988555908)\n",
            "\n"
          ]
        },
        {
          "metadata": {
            "tags": null
          },
          "name": "stdout",
          "output_type": "stream",
          "text": [
            " | > Synthesizing test sentences.\n"
          ]
        },
        {
          "metadata": {
            "tags": null
          },
          "name": "stderr",
          "output_type": "stream",
          "text": [
            "\n",
            "  \u001b[1m--> EVAL PERFORMANCE\u001b[0m\n",
            "     | > avg_loader_time: 0.5316650867462158 \u001b[0m(+0.0)\n",
            "     | > avg_loss: 0.5592115521430969 \u001b[0m(+0.0)\n",
            "     | > avg_log_mle: -0.1253141164779663 \u001b[0m(+0.0)\n",
            "     | > avg_loss_dur: 0.6845256686210632 \u001b[0m(+0.0)\n",
            "\n",
            " > BEST MODEL : /content/drive/MyDrive/dataset/cloned/run-July-20-2023_10+24PM-0000000/best_model_4374.pth\n",
            "\n",
            "\u001b[4m\u001b[1m > EPOCH: 54/160\u001b[0m\n",
            " --> /content/drive/MyDrive/dataset/cloned/run-July-20-2023_10+24PM-0000000\n",
            "\n",
            "\u001b[1m > TRAINING (2023-07-20 23:08:57) \u001b[0m\n",
            "\n",
            "\u001b[1m > EVALUATION \u001b[0m\n",
            "\n",
            "\n",
            "  \u001b[1m--> EVAL PERFORMANCE\u001b[0m\n",
            "     | > avg_loader_time:\u001b[92m 0.36876368522644043 \u001b[0m(-0.1629014015197754)\n",
            "     | > avg_loss:\u001b[91m 0.5761377811431885 \u001b[0m(+0.016926229000091553)\n",
            "     | > avg_log_mle:\u001b[92m -0.1453157663345337 \u001b[0m(-0.020001649856567383)\n",
            "     | > avg_loss_dur:\u001b[91m 0.7214535474777222 \u001b[0m(+0.036927878856658936)\n",
            "\n"
          ]
        },
        {
          "metadata": {
            "tags": null
          },
          "name": "stdout",
          "output_type": "stream",
          "text": [
            " | > Synthesizing test sentences.\n"
          ]
        },
        {
          "metadata": {
            "tags": null
          },
          "name": "stderr",
          "output_type": "stream",
          "text": [
            "\n",
            "  \u001b[1m--> EVAL PERFORMANCE\u001b[0m\n",
            "     | > avg_loader_time: 0.36876368522644043 \u001b[0m(+0.0)\n",
            "     | > avg_loss: 0.5761377811431885 \u001b[0m(+0.0)\n",
            "     | > avg_log_mle: -0.1453157663345337 \u001b[0m(+0.0)\n",
            "     | > avg_loss_dur: 0.7214535474777222 \u001b[0m(+0.0)\n",
            "\n",
            "\n",
            "\u001b[4m\u001b[1m > EPOCH: 55/160\u001b[0m\n",
            " --> /content/drive/MyDrive/dataset/cloned/run-July-20-2023_10+24PM-0000000\n",
            "\n",
            "\u001b[1m > TRAINING (2023-07-20 23:09:44) \u001b[0m\n",
            "\n",
            "\u001b[1m   --> TIME: 2023-07-20 23:10:03 -- STEP: 45/81 -- GLOBAL_STEP: 4500\u001b[0m\n",
            "     | > loss: 0.6995365619659424  (0.6300211595164404)\n",
            "     | > log_mle: 0.0582120418548584  (-0.05505243672264947)\n",
            "     | > loss_dur: 0.641324520111084  (0.68507359623909)\n",
            "     | > amp_scaler: 4096.0  (4096.0)\n",
            "     | > grad_norm: tensor(17.4152, device='cuda:0')  (tensor(23.6105, device='cuda:0'))\n",
            "     | > current_lr: 1.375e-05 \n",
            "     | > step_time: 0.4564  (0.37894026438395184)\n",
            "     | > loader_time: 0.0032  (0.004239628050062392)\n",
            "\n",
            "\n",
            "\u001b[1m > EVALUATION \u001b[0m\n",
            "\n",
            "\n",
            "  \u001b[1m--> EVAL PERFORMANCE\u001b[0m\n",
            "     | > avg_loader_time:\u001b[91m 0.3754129409790039 \u001b[0m(+0.0066492557525634766)\n",
            "     | > avg_loss:\u001b[92m 0.5558844804763794 \u001b[0m(-0.020253300666809082)\n",
            "     | > avg_log_mle:\u001b[91m -0.131058931350708 \u001b[0m(+0.014256834983825684)\n",
            "     | > avg_loss_dur:\u001b[92m 0.6869434118270874 \u001b[0m(-0.034510135650634766)\n",
            "\n"
          ]
        },
        {
          "metadata": {
            "tags": null
          },
          "name": "stdout",
          "output_type": "stream",
          "text": [
            " | > Synthesizing test sentences.\n"
          ]
        },
        {
          "metadata": {
            "tags": null
          },
          "name": "stderr",
          "output_type": "stream",
          "text": [
            "\n",
            "  \u001b[1m--> EVAL PERFORMANCE\u001b[0m\n",
            "     | > avg_loader_time: 0.3754129409790039 \u001b[0m(+0.0)\n",
            "     | > avg_loss: 0.5558844804763794 \u001b[0m(+0.0)\n",
            "     | > avg_log_mle: -0.131058931350708 \u001b[0m(+0.0)\n",
            "     | > avg_loss_dur: 0.6869434118270874 \u001b[0m(+0.0)\n",
            "\n",
            " > BEST MODEL : /content/drive/MyDrive/dataset/cloned/run-July-20-2023_10+24PM-0000000/best_model_4536.pth\n",
            "\n",
            "\u001b[4m\u001b[1m > EPOCH: 56/160\u001b[0m\n",
            " --> /content/drive/MyDrive/dataset/cloned/run-July-20-2023_10+24PM-0000000\n",
            "\n",
            "\u001b[1m > TRAINING (2023-07-20 23:10:32) \u001b[0m\n",
            "\n",
            "\u001b[1m > EVALUATION \u001b[0m\n",
            "\n",
            "\n",
            "  \u001b[1m--> EVAL PERFORMANCE\u001b[0m\n",
            "     | > avg_loader_time:\u001b[91m 0.6796283721923828 \u001b[0m(+0.3042154312133789)\n",
            "     | > avg_loss:\u001b[91m 0.5971890687942505 \u001b[0m(+0.041304588317871094)\n",
            "     | > avg_log_mle:\u001b[92m -0.14688313007354736 \u001b[0m(-0.015824198722839355)\n",
            "     | > avg_loss_dur:\u001b[91m 0.7440721988677979 \u001b[0m(+0.05712878704071045)\n",
            "\n"
          ]
        },
        {
          "metadata": {
            "tags": null
          },
          "name": "stdout",
          "output_type": "stream",
          "text": [
            " | > Synthesizing test sentences.\n"
          ]
        },
        {
          "metadata": {
            "tags": null
          },
          "name": "stderr",
          "output_type": "stream",
          "text": [
            "\n",
            "  \u001b[1m--> EVAL PERFORMANCE\u001b[0m\n",
            "     | > avg_loader_time: 0.6796283721923828 \u001b[0m(+0.0)\n",
            "     | > avg_loss: 0.5971890687942505 \u001b[0m(+0.0)\n",
            "     | > avg_log_mle: -0.14688313007354736 \u001b[0m(+0.0)\n",
            "     | > avg_loss_dur: 0.7440721988677979 \u001b[0m(+0.0)\n",
            "\n",
            "\n",
            "\u001b[4m\u001b[1m > EPOCH: 57/160\u001b[0m\n",
            " --> /content/drive/MyDrive/dataset/cloned/run-July-20-2023_10+24PM-0000000\n",
            "\n",
            "\u001b[1m > TRAINING (2023-07-20 23:11:20) \u001b[0m\n",
            "\n",
            "\u001b[1m > EVALUATION \u001b[0m\n",
            "\n",
            "\n",
            "  \u001b[1m--> EVAL PERFORMANCE\u001b[0m\n",
            "     | > avg_loader_time:\u001b[91m 0.939857006072998 \u001b[0m(+0.26022863388061523)\n",
            "     | > avg_loss:\u001b[92m 0.5392184257507324 \u001b[0m(-0.057970643043518066)\n",
            "     | > avg_log_mle:\u001b[91m -0.14284050464630127 \u001b[0m(+0.004042625427246094)\n",
            "     | > avg_loss_dur:\u001b[92m 0.6820589303970337 \u001b[0m(-0.06201326847076416)\n",
            "\n"
          ]
        },
        {
          "metadata": {
            "tags": null
          },
          "name": "stdout",
          "output_type": "stream",
          "text": [
            " | > Synthesizing test sentences.\n"
          ]
        },
        {
          "metadata": {
            "tags": null
          },
          "name": "stderr",
          "output_type": "stream",
          "text": [
            "\n",
            "  \u001b[1m--> EVAL PERFORMANCE\u001b[0m\n",
            "     | > avg_loader_time: 0.939857006072998 \u001b[0m(+0.0)\n",
            "     | > avg_loss: 0.5392184257507324 \u001b[0m(+0.0)\n",
            "     | > avg_log_mle: -0.14284050464630127 \u001b[0m(+0.0)\n",
            "     | > avg_loss_dur: 0.6820589303970337 \u001b[0m(+0.0)\n",
            "\n",
            " > BEST MODEL : /content/drive/MyDrive/dataset/cloned/run-July-20-2023_10+24PM-0000000/best_model_4698.pth\n",
            "\n",
            "\u001b[4m\u001b[1m > EPOCH: 58/160\u001b[0m\n",
            " --> /content/drive/MyDrive/dataset/cloned/run-July-20-2023_10+24PM-0000000\n",
            "\n",
            "\u001b[1m > TRAINING (2023-07-20 23:12:09) \u001b[0m\n",
            "\n",
            "\u001b[1m > EVALUATION \u001b[0m\n",
            "\n",
            "\n",
            "  \u001b[1m--> EVAL PERFORMANCE\u001b[0m\n",
            "     | > avg_loader_time:\u001b[92m 0.5688788890838623 \u001b[0m(-0.37097811698913574)\n",
            "     | > avg_loss:\u001b[92m 0.531863272190094 \u001b[0m(-0.007355153560638428)\n",
            "     | > avg_log_mle:\u001b[92m -0.17576122283935547 \u001b[0m(-0.0329207181930542)\n",
            "     | > avg_loss_dur:\u001b[91m 0.7076244950294495 \u001b[0m(+0.02556556463241577)\n",
            "\n"
          ]
        },
        {
          "metadata": {
            "tags": null
          },
          "name": "stdout",
          "output_type": "stream",
          "text": [
            " | > Synthesizing test sentences.\n"
          ]
        },
        {
          "metadata": {
            "tags": null
          },
          "name": "stderr",
          "output_type": "stream",
          "text": [
            "\n",
            "  \u001b[1m--> EVAL PERFORMANCE\u001b[0m\n",
            "     | > avg_loader_time: 0.5688788890838623 \u001b[0m(+0.0)\n",
            "     | > avg_loss: 0.531863272190094 \u001b[0m(+0.0)\n",
            "     | > avg_log_mle: -0.17576122283935547 \u001b[0m(+0.0)\n",
            "     | > avg_loss_dur: 0.7076244950294495 \u001b[0m(+0.0)\n",
            "\n",
            " > BEST MODEL : /content/drive/MyDrive/dataset/cloned/run-July-20-2023_10+24PM-0000000/best_model_4779.pth\n",
            "\n",
            "\u001b[4m\u001b[1m > EPOCH: 59/160\u001b[0m\n",
            " --> /content/drive/MyDrive/dataset/cloned/run-July-20-2023_10+24PM-0000000\n",
            "\n",
            "\u001b[1m > TRAINING (2023-07-20 23:12:58) \u001b[0m\n",
            "\n",
            "\u001b[1m > EVALUATION \u001b[0m\n",
            "\n",
            "\n",
            "  \u001b[1m--> EVAL PERFORMANCE\u001b[0m\n",
            "     | > avg_loader_time:\u001b[92m 0.38049745559692383 \u001b[0m(-0.18838143348693848)\n",
            "     | > avg_loss:\u001b[92m 0.5056216716766357 \u001b[0m(-0.026241600513458252)\n",
            "     | > avg_log_mle:\u001b[92m -0.17866480350494385 \u001b[0m(-0.002903580665588379)\n",
            "     | > avg_loss_dur:\u001b[92m 0.6842864751815796 \u001b[0m(-0.023338019847869873)\n",
            "\n"
          ]
        },
        {
          "metadata": {
            "tags": null
          },
          "name": "stdout",
          "output_type": "stream",
          "text": [
            " | > Synthesizing test sentences.\n"
          ]
        },
        {
          "metadata": {
            "tags": null
          },
          "name": "stderr",
          "output_type": "stream",
          "text": [
            "\n",
            "  \u001b[1m--> EVAL PERFORMANCE\u001b[0m\n",
            "     | > avg_loader_time: 0.38049745559692383 \u001b[0m(+0.0)\n",
            "     | > avg_loss: 0.5056216716766357 \u001b[0m(+0.0)\n",
            "     | > avg_log_mle: -0.17866480350494385 \u001b[0m(+0.0)\n",
            "     | > avg_loss_dur: 0.6842864751815796 \u001b[0m(+0.0)\n",
            "\n",
            " > BEST MODEL : /content/drive/MyDrive/dataset/cloned/run-July-20-2023_10+24PM-0000000/best_model_4860.pth\n",
            "\n",
            "\u001b[4m\u001b[1m > EPOCH: 60/160\u001b[0m\n",
            " --> /content/drive/MyDrive/dataset/cloned/run-July-20-2023_10+24PM-0000000\n",
            "\n",
            "\u001b[1m > TRAINING (2023-07-20 23:13:53) \u001b[0m\n",
            "\n",
            "\u001b[1m > EVALUATION \u001b[0m\n",
            "\n",
            "\n",
            "  \u001b[1m--> EVAL PERFORMANCE\u001b[0m\n",
            "     | > avg_loader_time:\u001b[91m 0.6046733856201172 \u001b[0m(+0.22417593002319336)\n",
            "     | > avg_loss:\u001b[91m 0.5169268250465393 \u001b[0m(+0.011305153369903564)\n",
            "     | > avg_log_mle:\u001b[91m -0.16309428215026855 \u001b[0m(+0.015570521354675293)\n",
            "     | > avg_loss_dur:\u001b[92m 0.6800211071968079 \u001b[0m(-0.0042653679847717285)\n",
            "\n"
          ]
        },
        {
          "metadata": {
            "tags": null
          },
          "name": "stdout",
          "output_type": "stream",
          "text": [
            " | > Synthesizing test sentences.\n"
          ]
        },
        {
          "metadata": {
            "tags": null
          },
          "name": "stderr",
          "output_type": "stream",
          "text": [
            "\n",
            "  \u001b[1m--> EVAL PERFORMANCE\u001b[0m\n",
            "     | > avg_loader_time: 0.6046733856201172 \u001b[0m(+0.0)\n",
            "     | > avg_loss: 0.5169268250465393 \u001b[0m(+0.0)\n",
            "     | > avg_log_mle: -0.16309428215026855 \u001b[0m(+0.0)\n",
            "     | > avg_loss_dur: 0.6800211071968079 \u001b[0m(+0.0)\n",
            "\n",
            "\n",
            "\u001b[4m\u001b[1m > EPOCH: 61/160\u001b[0m\n",
            " --> /content/drive/MyDrive/dataset/cloned/run-July-20-2023_10+24PM-0000000\n",
            "\n",
            "\u001b[1m > TRAINING (2023-07-20 23:14:43) \u001b[0m\n",
            "\n",
            "\u001b[1m   --> TIME: 2023-07-20 23:15:06 -- STEP: 59/81 -- GLOBAL_STEP: 5000\u001b[0m\n",
            "     | > loss: 0.4325810670852661  (0.5761184389308348)\n",
            "     | > log_mle: -0.18793416023254395  (-0.11319532131744643)\n",
            "     | > loss_dur: 0.6205152273178101  (0.6893137607534053)\n",
            "     | > amp_scaler: 4096.0  (4096.0)\n",
            "     | > grad_norm: tensor(23.1694, device='cuda:0')  (tensor(26.0977, device='cuda:0'))\n",
            "     | > current_lr: 1.525e-05 \n",
            "     | > step_time: 0.2905  (0.3642407554691121)\n",
            "     | > loader_time: 0.0038  (0.00476790282685878)\n",
            "\n",
            "\n",
            "\u001b[1m > EVALUATION \u001b[0m\n",
            "\n",
            "\n",
            "  \u001b[1m--> EVAL PERFORMANCE\u001b[0m\n",
            "     | > avg_loader_time:\u001b[92m 0.5665640830993652 \u001b[0m(-0.03810930252075195)\n",
            "     | > avg_loss:\u001b[92m 0.5000085830688477 \u001b[0m(-0.01691824197769165)\n",
            "     | > avg_log_mle:\u001b[92m -0.18569445610046387 \u001b[0m(-0.022600173950195312)\n",
            "     | > avg_loss_dur:\u001b[91m 0.6857030391693115 \u001b[0m(+0.005681931972503662)\n",
            "\n"
          ]
        },
        {
          "metadata": {
            "tags": null
          },
          "name": "stdout",
          "output_type": "stream",
          "text": [
            " | > Synthesizing test sentences.\n"
          ]
        },
        {
          "metadata": {
            "tags": null
          },
          "name": "stderr",
          "output_type": "stream",
          "text": [
            "\n",
            "  \u001b[1m--> EVAL PERFORMANCE\u001b[0m\n",
            "     | > avg_loader_time: 0.5665640830993652 \u001b[0m(+0.0)\n",
            "     | > avg_loss: 0.5000085830688477 \u001b[0m(+0.0)\n",
            "     | > avg_log_mle: -0.18569445610046387 \u001b[0m(+0.0)\n",
            "     | > avg_loss_dur: 0.6857030391693115 \u001b[0m(+0.0)\n",
            "\n",
            " > BEST MODEL : /content/drive/MyDrive/dataset/cloned/run-July-20-2023_10+24PM-0000000/best_model_5022.pth\n",
            "\n",
            "\u001b[4m\u001b[1m > EPOCH: 62/160\u001b[0m\n",
            " --> /content/drive/MyDrive/dataset/cloned/run-July-20-2023_10+24PM-0000000\n",
            "\n",
            "\u001b[1m > TRAINING (2023-07-20 23:15:30) \u001b[0m\n",
            "\n",
            "\u001b[1m > EVALUATION \u001b[0m\n",
            "\n",
            "\n",
            "  \u001b[1m--> EVAL PERFORMANCE\u001b[0m\n",
            "     | > avg_loader_time:\u001b[91m 0.5805759429931641 \u001b[0m(+0.014011859893798828)\n",
            "     | > avg_loss:\u001b[91m 0.5170339345932007 \u001b[0m(+0.017025351524353027)\n",
            "     | > avg_log_mle:\u001b[91m -0.17534875869750977 \u001b[0m(+0.010345697402954102)\n",
            "     | > avg_loss_dur:\u001b[91m 0.6923826932907104 \u001b[0m(+0.006679654121398926)\n",
            "\n"
          ]
        },
        {
          "metadata": {
            "tags": null
          },
          "name": "stdout",
          "output_type": "stream",
          "text": [
            " | > Synthesizing test sentences.\n"
          ]
        },
        {
          "metadata": {
            "tags": null
          },
          "name": "stderr",
          "output_type": "stream",
          "text": [
            "\n",
            "  \u001b[1m--> EVAL PERFORMANCE\u001b[0m\n",
            "     | > avg_loader_time: 0.5805759429931641 \u001b[0m(+0.0)\n",
            "     | > avg_loss: 0.5170339345932007 \u001b[0m(+0.0)\n",
            "     | > avg_log_mle: -0.17534875869750977 \u001b[0m(+0.0)\n",
            "     | > avg_loss_dur: 0.6923826932907104 \u001b[0m(+0.0)\n",
            "\n",
            "\n",
            "\u001b[4m\u001b[1m > EPOCH: 63/160\u001b[0m\n",
            " --> /content/drive/MyDrive/dataset/cloned/run-July-20-2023_10+24PM-0000000\n",
            "\n",
            "\u001b[1m > TRAINING (2023-07-20 23:16:24) \u001b[0m\n",
            "\n",
            "\u001b[1m > EVALUATION \u001b[0m\n",
            "\n",
            "\n",
            "  \u001b[1m--> EVAL PERFORMANCE\u001b[0m\n",
            "     | > avg_loader_time:\u001b[92m 0.3881065845489502 \u001b[0m(-0.19246935844421387)\n",
            "     | > avg_loss:\u001b[92m 0.5031436085700989 \u001b[0m(-0.013890326023101807)\n",
            "     | > avg_log_mle:\u001b[92m -0.19195318222045898 \u001b[0m(-0.01660442352294922)\n",
            "     | > avg_loss_dur:\u001b[91m 0.6950967907905579 \u001b[0m(+0.002714097499847412)\n",
            "\n"
          ]
        },
        {
          "metadata": {
            "tags": null
          },
          "name": "stdout",
          "output_type": "stream",
          "text": [
            " | > Synthesizing test sentences.\n"
          ]
        },
        {
          "metadata": {
            "tags": null
          },
          "name": "stderr",
          "output_type": "stream",
          "text": [
            "\n",
            "  \u001b[1m--> EVAL PERFORMANCE\u001b[0m\n",
            "     | > avg_loader_time: 0.3881065845489502 \u001b[0m(+0.0)\n",
            "     | > avg_loss: 0.5031436085700989 \u001b[0m(+0.0)\n",
            "     | > avg_log_mle: -0.19195318222045898 \u001b[0m(+0.0)\n",
            "     | > avg_loss_dur: 0.6950967907905579 \u001b[0m(+0.0)\n",
            "\n",
            "\n",
            "\u001b[4m\u001b[1m > EPOCH: 64/160\u001b[0m\n",
            " --> /content/drive/MyDrive/dataset/cloned/run-July-20-2023_10+24PM-0000000\n",
            "\n",
            "\u001b[1m > TRAINING (2023-07-20 23:17:14) \u001b[0m\n",
            "\n",
            "\u001b[1m > EVALUATION \u001b[0m\n",
            "\n",
            "\n",
            "  \u001b[1m--> EVAL PERFORMANCE\u001b[0m\n",
            "     | > avg_loader_time:\u001b[91m 0.3973073959350586 \u001b[0m(+0.009200811386108398)\n",
            "     | > avg_loss:\u001b[91m 0.5242862701416016 \u001b[0m(+0.021142661571502686)\n",
            "     | > avg_log_mle:\u001b[92m -0.20476090908050537 \u001b[0m(-0.012807726860046387)\n",
            "     | > avg_loss_dur:\u001b[91m 0.7290471792221069 \u001b[0m(+0.03395038843154907)\n",
            "\n"
          ]
        },
        {
          "metadata": {
            "tags": null
          },
          "name": "stdout",
          "output_type": "stream",
          "text": [
            " | > Synthesizing test sentences.\n"
          ]
        },
        {
          "metadata": {
            "tags": null
          },
          "name": "stderr",
          "output_type": "stream",
          "text": [
            "\n",
            "  \u001b[1m--> EVAL PERFORMANCE\u001b[0m\n",
            "     | > avg_loader_time: 0.3973073959350586 \u001b[0m(+0.0)\n",
            "     | > avg_loss: 0.5242862701416016 \u001b[0m(+0.0)\n",
            "     | > avg_log_mle: -0.20476090908050537 \u001b[0m(+0.0)\n",
            "     | > avg_loss_dur: 0.7290471792221069 \u001b[0m(+0.0)\n",
            "\n",
            "\n",
            "\u001b[4m\u001b[1m > EPOCH: 65/160\u001b[0m\n",
            " --> /content/drive/MyDrive/dataset/cloned/run-July-20-2023_10+24PM-0000000\n",
            "\n",
            "\u001b[1m > TRAINING (2023-07-20 23:18:00) \u001b[0m\n",
            "\n",
            "\u001b[1m > EVALUATION \u001b[0m\n",
            "\n",
            "\n",
            "  \u001b[1m--> EVAL PERFORMANCE\u001b[0m\n",
            "     | > avg_loader_time:\u001b[92m 0.38849496841430664 \u001b[0m(-0.008812427520751953)\n",
            "     | > avg_loss:\u001b[92m 0.5070309042930603 \u001b[0m(-0.01725536584854126)\n",
            "     | > avg_log_mle:\u001b[92m -0.21042895317077637 \u001b[0m(-0.005668044090270996)\n",
            "     | > avg_loss_dur:\u001b[92m 0.7174598574638367 \u001b[0m(-0.011587321758270264)\n",
            "\n"
          ]
        },
        {
          "metadata": {
            "tags": null
          },
          "name": "stdout",
          "output_type": "stream",
          "text": [
            " | > Synthesizing test sentences.\n"
          ]
        },
        {
          "output_type": "stream",
          "name": "stderr",
          "text": [
            "\n",
            "  \u001b[1m--> EVAL PERFORMANCE\u001b[0m\n",
            "     | > avg_loader_time: 0.38849496841430664 \u001b[0m(+0.0)\n",
            "     | > avg_loss: 0.5070309042930603 \u001b[0m(+0.0)\n",
            "     | > avg_log_mle: -0.21042895317077637 \u001b[0m(+0.0)\n",
            "     | > avg_loss_dur: 0.7174598574638367 \u001b[0m(+0.0)\n",
            "\n",
            "\n",
            "\u001b[4m\u001b[1m > EPOCH: 66/160\u001b[0m\n",
            " --> /content/drive/MyDrive/dataset/cloned/run-July-20-2023_10+24PM-0000000\n",
            "\n",
            "\u001b[1m > TRAINING (2023-07-20 23:18:49) \u001b[0m\n",
            "\n",
            "\u001b[1m > EVALUATION \u001b[0m\n",
            "\n",
            "\n",
            "  \u001b[1m--> EVAL PERFORMANCE\u001b[0m\n",
            "     | > avg_loader_time:\u001b[91m 0.6144371032714844 \u001b[0m(+0.22594213485717773)\n",
            "     | > avg_loss:\u001b[92m 0.48167717456817627 \u001b[0m(-0.025353729724884033)\n",
            "     | > avg_log_mle:\u001b[92m -0.21190857887268066 \u001b[0m(-0.0014796257019042969)\n",
            "     | > avg_loss_dur:\u001b[92m 0.6935857534408569 \u001b[0m(-0.023874104022979736)\n",
            "\n"
          ]
        },
        {
          "output_type": "stream",
          "name": "stdout",
          "text": [
            " | > Synthesizing test sentences.\n"
          ]
        },
        {
          "output_type": "stream",
          "name": "stderr",
          "text": [
            "\n",
            "  \u001b[1m--> EVAL PERFORMANCE\u001b[0m\n",
            "     | > avg_loader_time: 0.6144371032714844 \u001b[0m(+0.0)\n",
            "     | > avg_loss: 0.48167717456817627 \u001b[0m(+0.0)\n",
            "     | > avg_log_mle: -0.21190857887268066 \u001b[0m(+0.0)\n",
            "     | > avg_loss_dur: 0.6935857534408569 \u001b[0m(+0.0)\n",
            "\n",
            " > BEST MODEL : /content/drive/MyDrive/dataset/cloned/run-July-20-2023_10+24PM-0000000/best_model_5427.pth\n",
            "\n",
            "\u001b[4m\u001b[1m > EPOCH: 67/160\u001b[0m\n",
            " --> /content/drive/MyDrive/dataset/cloned/run-July-20-2023_10+24PM-0000000\n",
            "\n",
            "\u001b[1m > TRAINING (2023-07-20 23:19:39) \u001b[0m\n",
            "\n",
            "\u001b[1m   --> TIME: 2023-07-20 23:20:09 -- STEP: 73/81 -- GLOBAL_STEP: 5500\u001b[0m\n",
            "     | > loss: 0.7470412254333496  (0.5243520744859356)\n",
            "     | > log_mle: -0.26279282569885254  (-0.14860067955435138)\n",
            "     | > loss_dur: 1.0098340511322021  (0.6729527544485376)\n",
            "     | > amp_scaler: 4096.0  (4096.0)\n",
            "     | > grad_norm: tensor(27.4316, device='cuda:0')  (tensor(27.5382, device='cuda:0'))\n",
            "     | > current_lr: 1.675e-05 \n",
            "     | > step_time: 0.3835  (0.3836768130733542)\n",
            "     | > loader_time: 0.0036  (0.004918934547737853)\n",
            "\n",
            "\n",
            "\u001b[1m > EVALUATION \u001b[0m\n",
            "\n",
            "\n",
            "  \u001b[1m--> EVAL PERFORMANCE\u001b[0m\n",
            "     | > avg_loader_time:\u001b[92m 0.4420490264892578 \u001b[0m(-0.17238807678222656)\n",
            "     | > avg_loss:\u001b[91m 0.4998400807380676 \u001b[0m(+0.018162906169891357)\n",
            "     | > avg_log_mle:\u001b[92m -0.2152794599533081 \u001b[0m(-0.0033708810806274414)\n",
            "     | > avg_loss_dur:\u001b[91m 0.7151195406913757 \u001b[0m(+0.0215337872505188)\n",
            "\n"
          ]
        },
        {
          "output_type": "stream",
          "name": "stdout",
          "text": [
            " | > Synthesizing test sentences.\n"
          ]
        },
        {
          "output_type": "stream",
          "name": "stderr",
          "text": [
            "\n",
            "  \u001b[1m--> EVAL PERFORMANCE\u001b[0m\n",
            "     | > avg_loader_time: 0.4420490264892578 \u001b[0m(+0.0)\n",
            "     | > avg_loss: 0.4998400807380676 \u001b[0m(+0.0)\n",
            "     | > avg_log_mle: -0.2152794599533081 \u001b[0m(+0.0)\n",
            "     | > avg_loss_dur: 0.7151195406913757 \u001b[0m(+0.0)\n",
            "\n",
            "\n",
            "\u001b[4m\u001b[1m > EPOCH: 68/160\u001b[0m\n",
            " --> /content/drive/MyDrive/dataset/cloned/run-July-20-2023_10+24PM-0000000\n",
            "\n",
            "\u001b[1m > TRAINING (2023-07-20 23:20:23) \u001b[0m\n",
            "\n",
            "\u001b[1m > EVALUATION \u001b[0m\n",
            "\n",
            "\n",
            "  \u001b[1m--> EVAL PERFORMANCE\u001b[0m\n",
            "     | > avg_loader_time:\u001b[92m 0.38271021842956543 \u001b[0m(-0.05933880805969238)\n",
            "     | > avg_loss:\u001b[92m 0.4863802194595337 \u001b[0m(-0.013459861278533936)\n",
            "     | > avg_log_mle:\u001b[92m -0.22116363048553467 \u001b[0m(-0.0058841705322265625)\n",
            "     | > avg_loss_dur:\u001b[92m 0.7075438499450684 \u001b[0m(-0.007575690746307373)\n",
            "\n"
          ]
        },
        {
          "output_type": "stream",
          "name": "stdout",
          "text": [
            " | > Synthesizing test sentences.\n"
          ]
        },
        {
          "output_type": "stream",
          "name": "stderr",
          "text": [
            "\n",
            "  \u001b[1m--> EVAL PERFORMANCE\u001b[0m\n",
            "     | > avg_loader_time: 0.38271021842956543 \u001b[0m(+0.0)\n",
            "     | > avg_loss: 0.4863802194595337 \u001b[0m(+0.0)\n",
            "     | > avg_log_mle: -0.22116363048553467 \u001b[0m(+0.0)\n",
            "     | > avg_loss_dur: 0.7075438499450684 \u001b[0m(+0.0)\n",
            "\n",
            "\n",
            "\u001b[4m\u001b[1m > EPOCH: 69/160\u001b[0m\n",
            " --> /content/drive/MyDrive/dataset/cloned/run-July-20-2023_10+24PM-0000000\n",
            "\n",
            "\u001b[1m > TRAINING (2023-07-20 23:21:17) \u001b[0m\n",
            "\n",
            "\u001b[1m > EVALUATION \u001b[0m\n",
            "\n",
            "\n",
            "  \u001b[1m--> EVAL PERFORMANCE\u001b[0m\n",
            "     | > avg_loader_time:\u001b[91m 0.3890054225921631 \u001b[0m(+0.006295204162597656)\n",
            "     | > avg_loss:\u001b[91m 0.5382827520370483 \u001b[0m(+0.05190253257751465)\n",
            "     | > avg_log_mle:\u001b[91m -0.1982734203338623 \u001b[0m(+0.022890210151672363)\n",
            "     | > avg_loss_dur:\u001b[91m 0.7365561723709106 \u001b[0m(+0.029012322425842285)\n",
            "\n"
          ]
        },
        {
          "output_type": "stream",
          "name": "stdout",
          "text": [
            " | > Synthesizing test sentences.\n"
          ]
        },
        {
          "output_type": "stream",
          "name": "stderr",
          "text": [
            "\n",
            "  \u001b[1m--> EVAL PERFORMANCE\u001b[0m\n",
            "     | > avg_loader_time: 0.3890054225921631 \u001b[0m(+0.0)\n",
            "     | > avg_loss: 0.5382827520370483 \u001b[0m(+0.0)\n",
            "     | > avg_log_mle: -0.1982734203338623 \u001b[0m(+0.0)\n",
            "     | > avg_loss_dur: 0.7365561723709106 \u001b[0m(+0.0)\n",
            "\n",
            "\n",
            "\u001b[4m\u001b[1m > EPOCH: 70/160\u001b[0m\n",
            " --> /content/drive/MyDrive/dataset/cloned/run-July-20-2023_10+24PM-0000000\n",
            "\n",
            "\u001b[1m > TRAINING (2023-07-20 23:22:06) \u001b[0m\n",
            "\n",
            "\u001b[1m > EVALUATION \u001b[0m\n",
            "\n",
            "\n",
            "  \u001b[1m--> EVAL PERFORMANCE\u001b[0m\n",
            "     | > avg_loader_time:\u001b[91m 0.5562362670898438 \u001b[0m(+0.16723084449768066)\n",
            "     | > avg_loss:\u001b[92m 0.499017596244812 \u001b[0m(-0.03926515579223633)\n",
            "     | > avg_log_mle:\u001b[92m -0.2068798542022705 \u001b[0m(-0.008606433868408203)\n",
            "     | > avg_loss_dur:\u001b[92m 0.7058974504470825 \u001b[0m(-0.030658721923828125)\n",
            "\n"
          ]
        },
        {
          "output_type": "stream",
          "name": "stdout",
          "text": [
            " | > Synthesizing test sentences.\n"
          ]
        },
        {
          "output_type": "stream",
          "name": "stderr",
          "text": [
            "\n",
            "  \u001b[1m--> EVAL PERFORMANCE\u001b[0m\n",
            "     | > avg_loader_time: 0.5562362670898438 \u001b[0m(+0.0)\n",
            "     | > avg_loss: 0.499017596244812 \u001b[0m(+0.0)\n",
            "     | > avg_log_mle: -0.2068798542022705 \u001b[0m(+0.0)\n",
            "     | > avg_loss_dur: 0.7058974504470825 \u001b[0m(+0.0)\n",
            "\n",
            "\n",
            "\u001b[4m\u001b[1m > EPOCH: 71/160\u001b[0m\n",
            " --> /content/drive/MyDrive/dataset/cloned/run-July-20-2023_10+24PM-0000000\n",
            "\n",
            "\u001b[1m > TRAINING (2023-07-20 23:22:51) \u001b[0m\n",
            "\n",
            "\u001b[1m > EVALUATION \u001b[0m\n",
            "\n",
            "\n",
            "  \u001b[1m--> EVAL PERFORMANCE\u001b[0m\n",
            "     | > avg_loader_time:\u001b[91m 0.6278121471405029 \u001b[0m(+0.07157588005065918)\n",
            "     | > avg_loss:\u001b[92m 0.4641883373260498 \u001b[0m(-0.03482925891876221)\n",
            "     | > avg_log_mle:\u001b[92m -0.23934519290924072 \u001b[0m(-0.032465338706970215)\n",
            "     | > avg_loss_dur:\u001b[92m 0.7035335302352905 \u001b[0m(-0.002363920211791992)\n",
            "\n"
          ]
        },
        {
          "output_type": "stream",
          "name": "stdout",
          "text": [
            " | > Synthesizing test sentences.\n"
          ]
        },
        {
          "output_type": "stream",
          "name": "stderr",
          "text": [
            "\n",
            "  \u001b[1m--> EVAL PERFORMANCE\u001b[0m\n",
            "     | > avg_loader_time: 0.6278121471405029 \u001b[0m(+0.0)\n",
            "     | > avg_loss: 0.4641883373260498 \u001b[0m(+0.0)\n",
            "     | > avg_log_mle: -0.23934519290924072 \u001b[0m(+0.0)\n",
            "     | > avg_loss_dur: 0.7035335302352905 \u001b[0m(+0.0)\n",
            "\n",
            " > BEST MODEL : /content/drive/MyDrive/dataset/cloned/run-July-20-2023_10+24PM-0000000/best_model_5832.pth\n",
            "\n",
            "\u001b[4m\u001b[1m > EPOCH: 72/160\u001b[0m\n",
            " --> /content/drive/MyDrive/dataset/cloned/run-July-20-2023_10+24PM-0000000\n",
            "\n",
            "\u001b[1m > TRAINING (2023-07-20 23:23:39) \u001b[0m\n",
            "\n",
            "\u001b[1m > EVALUATION \u001b[0m\n",
            "\n",
            "\n",
            "  \u001b[1m--> EVAL PERFORMANCE\u001b[0m\n",
            "     | > avg_loader_time:\u001b[92m 0.39246678352355957 \u001b[0m(-0.23534536361694336)\n",
            "     | > avg_loss:\u001b[91m 0.47645390033721924 \u001b[0m(+0.012265563011169434)\n",
            "     | > avg_log_mle:\u001b[91m -0.2331538200378418 \u001b[0m(+0.006191372871398926)\n",
            "     | > avg_loss_dur:\u001b[91m 0.709607720375061 \u001b[0m(+0.006074190139770508)\n",
            "\n"
          ]
        },
        {
          "output_type": "stream",
          "name": "stdout",
          "text": [
            " | > Synthesizing test sentences.\n"
          ]
        },
        {
          "output_type": "stream",
          "name": "stderr",
          "text": [
            "\n",
            "  \u001b[1m--> EVAL PERFORMANCE\u001b[0m\n",
            "     | > avg_loader_time: 0.39246678352355957 \u001b[0m(+0.0)\n",
            "     | > avg_loss: 0.47645390033721924 \u001b[0m(+0.0)\n",
            "     | > avg_log_mle: -0.2331538200378418 \u001b[0m(+0.0)\n",
            "     | > avg_loss_dur: 0.709607720375061 \u001b[0m(+0.0)\n",
            "\n",
            "\n",
            "\u001b[4m\u001b[1m > EPOCH: 73/160\u001b[0m\n",
            " --> /content/drive/MyDrive/dataset/cloned/run-July-20-2023_10+24PM-0000000\n",
            "\n",
            "\u001b[1m > TRAINING (2023-07-20 23:24:31) \u001b[0m\n",
            "\n",
            "\u001b[1m > EVALUATION \u001b[0m\n",
            "\n",
            "\n",
            "  \u001b[1m--> EVAL PERFORMANCE\u001b[0m\n",
            "     | > avg_loader_time:\u001b[91m 0.5505712032318115 \u001b[0m(+0.15810441970825195)\n",
            "     | > avg_loss:\u001b[92m 0.4657827615737915 \u001b[0m(-0.010671138763427734)\n",
            "     | > avg_log_mle:\u001b[92m -0.2396068572998047 \u001b[0m(-0.006453037261962891)\n",
            "     | > avg_loss_dur:\u001b[92m 0.7053896188735962 \u001b[0m(-0.004218101501464844)\n",
            "\n"
          ]
        },
        {
          "output_type": "stream",
          "name": "stdout",
          "text": [
            " | > Synthesizing test sentences.\n"
          ]
        },
        {
          "output_type": "stream",
          "name": "stderr",
          "text": [
            "\n",
            "  \u001b[1m--> EVAL PERFORMANCE\u001b[0m\n",
            "     | > avg_loader_time: 0.5505712032318115 \u001b[0m(+0.0)\n",
            "     | > avg_loss: 0.4657827615737915 \u001b[0m(+0.0)\n",
            "     | > avg_log_mle: -0.2396068572998047 \u001b[0m(+0.0)\n",
            "     | > avg_loss_dur: 0.7053896188735962 \u001b[0m(+0.0)\n",
            "\n",
            "\n",
            "\u001b[4m\u001b[1m > EPOCH: 74/160\u001b[0m\n",
            " --> /content/drive/MyDrive/dataset/cloned/run-July-20-2023_10+24PM-0000000\n",
            "\n",
            "\u001b[1m > TRAINING (2023-07-20 23:25:18) \u001b[0m\n",
            "\n",
            "\u001b[1m   --> TIME: 2023-07-20 23:25:21 -- STEP: 6/81 -- GLOBAL_STEP: 6000\u001b[0m\n",
            "     | > loss: 0.5494548082351685  (0.494668314854304)\n",
            "     | > log_mle: -0.20079278945922852  (-0.15444302558898926)\n",
            "     | > loss_dur: 0.750247597694397  (0.6491113404432932)\n",
            "     | > amp_scaler: 4096.0  (4096.0)\n",
            "     | > grad_norm: tensor(10.4437, device='cuda:0')  (tensor(18.6853, device='cuda:0'))\n",
            "     | > current_lr: 1.8500000000000002e-05 \n",
            "     | > step_time: 0.2905  (0.2887774308522542)\n",
            "     | > loader_time: 0.0044  (0.0036956469217936196)\n",
            "\n",
            "\n",
            "\u001b[1m > EVALUATION \u001b[0m\n",
            "\n",
            "\n",
            "  \u001b[1m--> EVAL PERFORMANCE\u001b[0m\n",
            "     | > avg_loader_time:\u001b[91m 0.5916156768798828 \u001b[0m(+0.04104447364807129)\n",
            "     | > avg_loss:\u001b[91m 0.48468995094299316 \u001b[0m(+0.01890718936920166)\n",
            "     | > avg_log_mle:\u001b[91m -0.23579251766204834 \u001b[0m(+0.0038143396377563477)\n",
            "     | > avg_loss_dur:\u001b[91m 0.7204824686050415 \u001b[0m(+0.015092849731445312)\n",
            "\n"
          ]
        },
        {
          "output_type": "stream",
          "name": "stdout",
          "text": [
            " | > Synthesizing test sentences.\n"
          ]
        },
        {
          "output_type": "stream",
          "name": "stderr",
          "text": [
            "\n",
            "  \u001b[1m--> EVAL PERFORMANCE\u001b[0m\n",
            "     | > avg_loader_time: 0.5916156768798828 \u001b[0m(+0.0)\n",
            "     | > avg_loss: 0.48468995094299316 \u001b[0m(+0.0)\n",
            "     | > avg_log_mle: -0.23579251766204834 \u001b[0m(+0.0)\n",
            "     | > avg_loss_dur: 0.7204824686050415 \u001b[0m(+0.0)\n",
            "\n",
            "\n",
            "\u001b[4m\u001b[1m > EPOCH: 75/160\u001b[0m\n",
            " --> /content/drive/MyDrive/dataset/cloned/run-July-20-2023_10+24PM-0000000\n",
            "\n",
            "\u001b[1m > TRAINING (2023-07-20 23:26:01) \u001b[0m\n",
            "\n",
            "\u001b[1m > EVALUATION \u001b[0m\n",
            "\n",
            "\n",
            "  \u001b[1m--> EVAL PERFORMANCE\u001b[0m\n",
            "     | > avg_loader_time:\u001b[91m 0.5933840274810791 \u001b[0m(+0.001768350601196289)\n",
            "     | > avg_loss:\u001b[91m 0.49493736028671265 \u001b[0m(+0.010247409343719482)\n",
            "     | > avg_log_mle:\u001b[91m -0.2077319622039795 \u001b[0m(+0.028060555458068848)\n",
            "     | > avg_loss_dur:\u001b[92m 0.7026693224906921 \u001b[0m(-0.017813146114349365)\n",
            "\n"
          ]
        },
        {
          "output_type": "stream",
          "name": "stdout",
          "text": [
            " | > Synthesizing test sentences.\n"
          ]
        },
        {
          "output_type": "stream",
          "name": "stderr",
          "text": [
            "\n",
            "  \u001b[1m--> EVAL PERFORMANCE\u001b[0m\n",
            "     | > avg_loader_time: 0.5933840274810791 \u001b[0m(+0.0)\n",
            "     | > avg_loss: 0.49493736028671265 \u001b[0m(+0.0)\n",
            "     | > avg_log_mle: -0.2077319622039795 \u001b[0m(+0.0)\n",
            "     | > avg_loss_dur: 0.7026693224906921 \u001b[0m(+0.0)\n",
            "\n",
            "\n",
            "\u001b[4m\u001b[1m > EPOCH: 76/160\u001b[0m\n",
            " --> /content/drive/MyDrive/dataset/cloned/run-July-20-2023_10+24PM-0000000\n",
            "\n",
            "\u001b[1m > TRAINING (2023-07-20 23:26:50) \u001b[0m\n",
            "\n",
            "\u001b[1m > EVALUATION \u001b[0m\n",
            "\n",
            "\n",
            "  \u001b[1m--> EVAL PERFORMANCE\u001b[0m\n",
            "     | > avg_loader_time:\u001b[92m 0.3932983875274658 \u001b[0m(-0.20008563995361328)\n",
            "     | > avg_loss:\u001b[92m 0.46500325202941895 \u001b[0m(-0.0299341082572937)\n",
            "     | > avg_log_mle:\u001b[92m -0.24026715755462646 \u001b[0m(-0.03253519535064697)\n",
            "     | > avg_loss_dur:\u001b[91m 0.7052704095840454 \u001b[0m(+0.0026010870933532715)\n",
            "\n"
          ]
        },
        {
          "output_type": "stream",
          "name": "stdout",
          "text": [
            " | > Synthesizing test sentences.\n"
          ]
        },
        {
          "output_type": "stream",
          "name": "stderr",
          "text": [
            "\n",
            "  \u001b[1m--> EVAL PERFORMANCE\u001b[0m\n",
            "     | > avg_loader_time: 0.3932983875274658 \u001b[0m(+0.0)\n",
            "     | > avg_loss: 0.46500325202941895 \u001b[0m(+0.0)\n",
            "     | > avg_log_mle: -0.24026715755462646 \u001b[0m(+0.0)\n",
            "     | > avg_loss_dur: 0.7052704095840454 \u001b[0m(+0.0)\n",
            "\n",
            "\n",
            "\u001b[4m\u001b[1m > EPOCH: 77/160\u001b[0m\n",
            " --> /content/drive/MyDrive/dataset/cloned/run-July-20-2023_10+24PM-0000000\n",
            "\n",
            "\u001b[1m > TRAINING (2023-07-20 23:27:35) \u001b[0m\n",
            "\n",
            "\u001b[1m > EVALUATION \u001b[0m\n",
            "\n",
            "\n",
            "  \u001b[1m--> EVAL PERFORMANCE\u001b[0m\n",
            "     | > avg_loader_time:\u001b[92m 0.3929471969604492 \u001b[0m(-0.00035119056701660156)\n",
            "     | > avg_loss:\u001b[92m 0.42737263441085815 \u001b[0m(-0.03763061761856079)\n",
            "     | > avg_log_mle:\u001b[92m -0.25084829330444336 \u001b[0m(-0.010581135749816895)\n",
            "     | > avg_loss_dur:\u001b[92m 0.6782209277153015 \u001b[0m(-0.027049481868743896)\n",
            "\n"
          ]
        },
        {
          "output_type": "stream",
          "name": "stdout",
          "text": [
            " | > Synthesizing test sentences.\n"
          ]
        },
        {
          "output_type": "stream",
          "name": "stderr",
          "text": [
            "\n",
            "  \u001b[1m--> EVAL PERFORMANCE\u001b[0m\n",
            "     | > avg_loader_time: 0.3929471969604492 \u001b[0m(+0.0)\n",
            "     | > avg_loss: 0.42737263441085815 \u001b[0m(+0.0)\n",
            "     | > avg_log_mle: -0.25084829330444336 \u001b[0m(+0.0)\n",
            "     | > avg_loss_dur: 0.6782209277153015 \u001b[0m(+0.0)\n",
            "\n",
            " > BEST MODEL : /content/drive/MyDrive/dataset/cloned/run-July-20-2023_10+24PM-0000000/best_model_6318.pth\n",
            "\n",
            "\u001b[4m\u001b[1m > EPOCH: 78/160\u001b[0m\n",
            " --> /content/drive/MyDrive/dataset/cloned/run-July-20-2023_10+24PM-0000000\n",
            "\n",
            "\u001b[1m > TRAINING (2023-07-20 23:28:28) \u001b[0m\n",
            "\n",
            "\u001b[1m > EVALUATION \u001b[0m\n",
            "\n",
            "\n",
            "  \u001b[1m--> EVAL PERFORMANCE\u001b[0m\n",
            "     | > avg_loader_time:\u001b[91m 0.662484884262085 \u001b[0m(+0.26953768730163574)\n",
            "     | > avg_loss:\u001b[91m 0.45765095949172974 \u001b[0m(+0.030278325080871582)\n",
            "     | > avg_log_mle:\u001b[92m -0.2519611120223999 \u001b[0m(-0.001112818717956543)\n",
            "     | > avg_loss_dur:\u001b[91m 0.7096120715141296 \u001b[0m(+0.031391143798828125)\n",
            "\n"
          ]
        },
        {
          "output_type": "stream",
          "name": "stdout",
          "text": [
            " | > Synthesizing test sentences.\n"
          ]
        },
        {
          "output_type": "stream",
          "name": "stderr",
          "text": [
            "\n",
            "  \u001b[1m--> EVAL PERFORMANCE\u001b[0m\n",
            "     | > avg_loader_time: 0.662484884262085 \u001b[0m(+0.0)\n",
            "     | > avg_loss: 0.45765095949172974 \u001b[0m(+0.0)\n",
            "     | > avg_log_mle: -0.2519611120223999 \u001b[0m(+0.0)\n",
            "     | > avg_loss_dur: 0.7096120715141296 \u001b[0m(+0.0)\n",
            "\n",
            "\n",
            "\u001b[4m\u001b[1m > EPOCH: 79/160\u001b[0m\n",
            " --> /content/drive/MyDrive/dataset/cloned/run-July-20-2023_10+24PM-0000000\n",
            "\n",
            "\u001b[1m > TRAINING (2023-07-20 23:29:22) \u001b[0m\n",
            "\n",
            "\u001b[1m > EVALUATION \u001b[0m\n",
            "\n",
            "\n",
            "  \u001b[1m--> EVAL PERFORMANCE\u001b[0m\n",
            "     | > avg_loader_time:\u001b[92m 0.3916621208190918 \u001b[0m(-0.27082276344299316)\n",
            "     | > avg_loss:\u001b[92m 0.4094884395599365 \u001b[0m(-0.04816251993179321)\n",
            "     | > avg_log_mle:\u001b[92m -0.26379525661468506 \u001b[0m(-0.011834144592285156)\n",
            "     | > avg_loss_dur:\u001b[92m 0.6732836961746216 \u001b[0m(-0.03632837533950806)\n",
            "\n"
          ]
        },
        {
          "output_type": "stream",
          "name": "stdout",
          "text": [
            " | > Synthesizing test sentences.\n"
          ]
        },
        {
          "output_type": "stream",
          "name": "stderr",
          "text": [
            "\n",
            "  \u001b[1m--> EVAL PERFORMANCE\u001b[0m\n",
            "     | > avg_loader_time: 0.3916621208190918 \u001b[0m(+0.0)\n",
            "     | > avg_loss: 0.4094884395599365 \u001b[0m(+0.0)\n",
            "     | > avg_log_mle: -0.26379525661468506 \u001b[0m(+0.0)\n",
            "     | > avg_loss_dur: 0.6732836961746216 \u001b[0m(+0.0)\n",
            "\n",
            " > BEST MODEL : /content/drive/MyDrive/dataset/cloned/run-July-20-2023_10+24PM-0000000/best_model_6480.pth\n",
            "\n",
            "\u001b[4m\u001b[1m > EPOCH: 80/160\u001b[0m\n",
            " --> /content/drive/MyDrive/dataset/cloned/run-July-20-2023_10+24PM-0000000\n",
            "\n",
            "\u001b[1m > TRAINING (2023-07-20 23:30:11) \u001b[0m\n",
            "\n",
            "\u001b[1m   --> TIME: 2023-07-20 23:30:20 -- STEP: 20/81 -- GLOBAL_STEP: 6500\u001b[0m\n",
            "     | > loss: 0.6201207637786865  (0.437748546898365)\n",
            "     | > log_mle: -0.17535781860351562  (-0.17730058133602142)\n",
            "     | > loss_dur: 0.7954785823822021  (0.6150491282343864)\n",
            "     | > amp_scaler: 2048.0  (2048.0)\n",
            "     | > grad_norm: tensor(18.2016, device='cuda:0')  (tensor(30.6054, device='cuda:0'))\n",
            "     | > current_lr: 1.9999999999999998e-05 \n",
            "     | > step_time: 0.2781  (0.331231153011322)\n",
            "     | > loader_time: 0.0031  (0.005276310443878174)\n",
            "\n",
            "\n",
            "\u001b[1m > EVALUATION \u001b[0m\n",
            "\n",
            "\n",
            "  \u001b[1m--> EVAL PERFORMANCE\u001b[0m\n",
            "     | > avg_loader_time:\u001b[91m 0.3920304775238037 \u001b[0m(+0.00036835670471191406)\n",
            "     | > avg_loss:\u001b[92m 0.39135831594467163 \u001b[0m(-0.018130123615264893)\n",
            "     | > avg_log_mle:\u001b[92m -0.28671741485595703 \u001b[0m(-0.022922158241271973)\n",
            "     | > avg_loss_dur:\u001b[91m 0.6780757308006287 \u001b[0m(+0.00479203462600708)\n",
            "\n"
          ]
        },
        {
          "output_type": "stream",
          "name": "stdout",
          "text": [
            " | > Synthesizing test sentences.\n"
          ]
        },
        {
          "output_type": "stream",
          "name": "stderr",
          "text": [
            "\n",
            "  \u001b[1m--> EVAL PERFORMANCE\u001b[0m\n",
            "     | > avg_loader_time: 0.3920304775238037 \u001b[0m(+0.0)\n",
            "     | > avg_loss: 0.39135831594467163 \u001b[0m(+0.0)\n",
            "     | > avg_log_mle: -0.28671741485595703 \u001b[0m(+0.0)\n",
            "     | > avg_loss_dur: 0.6780757308006287 \u001b[0m(+0.0)\n",
            "\n",
            " > BEST MODEL : /content/drive/MyDrive/dataset/cloned/run-July-20-2023_10+24PM-0000000/best_model_6561.pth\n",
            "\n",
            "\u001b[4m\u001b[1m > EPOCH: 81/160\u001b[0m\n",
            " --> /content/drive/MyDrive/dataset/cloned/run-July-20-2023_10+24PM-0000000\n",
            "\n",
            "\u001b[1m > TRAINING (2023-07-20 23:31:00) \u001b[0m\n",
            "\n",
            "\u001b[1m > EVALUATION \u001b[0m\n",
            "\n",
            "\n",
            "  \u001b[1m--> EVAL PERFORMANCE\u001b[0m\n",
            "     | > avg_loader_time:\u001b[91m 0.6945466995239258 \u001b[0m(+0.30251622200012207)\n",
            "     | > avg_loss:\u001b[92m 0.3908727765083313 \u001b[0m(-0.00048553943634033203)\n",
            "     | > avg_log_mle:\u001b[91m -0.27928316593170166 \u001b[0m(+0.007434248924255371)\n",
            "     | > avg_loss_dur:\u001b[92m 0.670155942440033 \u001b[0m(-0.007919788360595703)\n",
            "\n"
          ]
        },
        {
          "output_type": "stream",
          "name": "stdout",
          "text": [
            " | > Synthesizing test sentences.\n"
          ]
        },
        {
          "output_type": "stream",
          "name": "stderr",
          "text": [
            "\n",
            "  \u001b[1m--> EVAL PERFORMANCE\u001b[0m\n",
            "     | > avg_loader_time: 0.6945466995239258 \u001b[0m(+0.0)\n",
            "     | > avg_loss: 0.3908727765083313 \u001b[0m(+0.0)\n",
            "     | > avg_log_mle: -0.27928316593170166 \u001b[0m(+0.0)\n",
            "     | > avg_loss_dur: 0.670155942440033 \u001b[0m(+0.0)\n",
            "\n",
            " > BEST MODEL : /content/drive/MyDrive/dataset/cloned/run-July-20-2023_10+24PM-0000000/best_model_6642.pth\n",
            "\n",
            "\u001b[4m\u001b[1m > EPOCH: 82/160\u001b[0m\n",
            " --> /content/drive/MyDrive/dataset/cloned/run-July-20-2023_10+24PM-0000000\n",
            "\n",
            "\u001b[1m > TRAINING (2023-07-20 23:31:58) \u001b[0m\n",
            "\n",
            "\u001b[1m > EVALUATION \u001b[0m\n",
            "\n",
            "\n",
            "  \u001b[1m--> EVAL PERFORMANCE\u001b[0m\n",
            "     | > avg_loader_time:\u001b[92m 0.4402954578399658 \u001b[0m(-0.25425124168395996)\n",
            "     | > avg_loss:\u001b[91m 0.39291322231292725 \u001b[0m(+0.0020404458045959473)\n",
            "     | > avg_log_mle:\u001b[92m -0.29068291187286377 \u001b[0m(-0.01139974594116211)\n",
            "     | > avg_loss_dur:\u001b[91m 0.683596134185791 \u001b[0m(+0.013440191745758057)\n",
            "\n"
          ]
        },
        {
          "output_type": "stream",
          "name": "stdout",
          "text": [
            " | > Synthesizing test sentences.\n"
          ]
        },
        {
          "output_type": "stream",
          "name": "stderr",
          "text": [
            "\n",
            "  \u001b[1m--> EVAL PERFORMANCE\u001b[0m\n",
            "     | > avg_loader_time: 0.4402954578399658 \u001b[0m(+0.0)\n",
            "     | > avg_loss: 0.39291322231292725 \u001b[0m(+0.0)\n",
            "     | > avg_log_mle: -0.29068291187286377 \u001b[0m(+0.0)\n",
            "     | > avg_loss_dur: 0.683596134185791 \u001b[0m(+0.0)\n",
            "\n",
            "\n",
            "\u001b[4m\u001b[1m > EPOCH: 83/160\u001b[0m\n",
            " --> /content/drive/MyDrive/dataset/cloned/run-July-20-2023_10+24PM-0000000\n",
            "\n",
            "\u001b[1m > TRAINING (2023-07-20 23:32:43) \u001b[0m\n",
            "\n",
            "\u001b[1m > EVALUATION \u001b[0m\n",
            "\n",
            "\n",
            "  \u001b[1m--> EVAL PERFORMANCE\u001b[0m\n",
            "     | > avg_loader_time:\u001b[92m 0.3980903625488281 \u001b[0m(-0.042205095291137695)\n",
            "     | > avg_loss:\u001b[92m 0.38396596908569336 \u001b[0m(-0.008947253227233887)\n",
            "     | > avg_log_mle:\u001b[92m -0.29613327980041504 \u001b[0m(-0.0054503679275512695)\n",
            "     | > avg_loss_dur:\u001b[92m 0.6800992488861084 \u001b[0m(-0.003496885299682617)\n",
            "\n"
          ]
        },
        {
          "output_type": "stream",
          "name": "stdout",
          "text": [
            " | > Synthesizing test sentences.\n"
          ]
        },
        {
          "output_type": "stream",
          "name": "stderr",
          "text": [
            "\n",
            "  \u001b[1m--> EVAL PERFORMANCE\u001b[0m\n",
            "     | > avg_loader_time: 0.3980903625488281 \u001b[0m(+0.0)\n",
            "     | > avg_loss: 0.38396596908569336 \u001b[0m(+0.0)\n",
            "     | > avg_log_mle: -0.29613327980041504 \u001b[0m(+0.0)\n",
            "     | > avg_loss_dur: 0.6800992488861084 \u001b[0m(+0.0)\n",
            "\n",
            " > BEST MODEL : /content/drive/MyDrive/dataset/cloned/run-July-20-2023_10+24PM-0000000/best_model_6804.pth\n",
            "\n",
            "\u001b[4m\u001b[1m > EPOCH: 84/160\u001b[0m\n",
            " --> /content/drive/MyDrive/dataset/cloned/run-July-20-2023_10+24PM-0000000\n",
            "\n",
            "\u001b[1m > TRAINING (2023-07-20 23:33:38) \u001b[0m\n",
            "\n",
            "\u001b[1m > EVALUATION \u001b[0m\n",
            "\n",
            "\n",
            "  \u001b[1m--> EVAL PERFORMANCE\u001b[0m\n",
            "     | > avg_loader_time:\u001b[91m 0.6110649108886719 \u001b[0m(+0.21297454833984375)\n",
            "     | > avg_loss:\u001b[91m 0.4018101692199707 \u001b[0m(+0.017844200134277344)\n",
            "     | > avg_log_mle:\u001b[91m -0.29211151599884033 \u001b[0m(+0.004021763801574707)\n",
            "     | > avg_loss_dur:\u001b[91m 0.693921685218811 \u001b[0m(+0.013822436332702637)\n",
            "\n"
          ]
        },
        {
          "output_type": "stream",
          "name": "stdout",
          "text": [
            " | > Synthesizing test sentences.\n"
          ]
        },
        {
          "output_type": "stream",
          "name": "stderr",
          "text": [
            "\n",
            "  \u001b[1m--> EVAL PERFORMANCE\u001b[0m\n",
            "     | > avg_loader_time: 0.6110649108886719 \u001b[0m(+0.0)\n",
            "     | > avg_loss: 0.4018101692199707 \u001b[0m(+0.0)\n",
            "     | > avg_log_mle: -0.29211151599884033 \u001b[0m(+0.0)\n",
            "     | > avg_loss_dur: 0.693921685218811 \u001b[0m(+0.0)\n",
            "\n",
            "\n",
            "\u001b[4m\u001b[1m > EPOCH: 85/160\u001b[0m\n",
            " --> /content/drive/MyDrive/dataset/cloned/run-July-20-2023_10+24PM-0000000\n",
            "\n",
            "\u001b[1m > TRAINING (2023-07-20 23:34:27) \u001b[0m\n",
            "\n",
            "\u001b[1m > EVALUATION \u001b[0m\n",
            "\n",
            "\n",
            "  \u001b[1m--> EVAL PERFORMANCE\u001b[0m\n",
            "     | > avg_loader_time:\u001b[92m 0.5876080989837646 \u001b[0m(-0.023456811904907227)\n",
            "     | > avg_loss:\u001b[92m 0.34916818141937256 \u001b[0m(-0.052641987800598145)\n",
            "     | > avg_log_mle:\u001b[92m -0.3042081594467163 \u001b[0m(-0.012096643447875977)\n",
            "     | > avg_loss_dur:\u001b[92m 0.6533763408660889 \u001b[0m(-0.04054534435272217)\n",
            "\n"
          ]
        },
        {
          "output_type": "stream",
          "name": "stdout",
          "text": [
            " | > Synthesizing test sentences.\n"
          ]
        },
        {
          "output_type": "stream",
          "name": "stderr",
          "text": [
            "\n",
            "  \u001b[1m--> EVAL PERFORMANCE\u001b[0m\n",
            "     | > avg_loader_time: 0.5876080989837646 \u001b[0m(+0.0)\n",
            "     | > avg_loss: 0.34916818141937256 \u001b[0m(+0.0)\n",
            "     | > avg_log_mle: -0.3042081594467163 \u001b[0m(+0.0)\n",
            "     | > avg_loss_dur: 0.6533763408660889 \u001b[0m(+0.0)\n",
            "\n",
            " > BEST MODEL : /content/drive/MyDrive/dataset/cloned/run-July-20-2023_10+24PM-0000000/best_model_6966.pth\n",
            "\n",
            "\u001b[4m\u001b[1m > EPOCH: 86/160\u001b[0m\n",
            " --> /content/drive/MyDrive/dataset/cloned/run-July-20-2023_10+24PM-0000000\n",
            "\n",
            "\u001b[1m > TRAINING (2023-07-20 23:35:18) \u001b[0m\n",
            "\n",
            "\u001b[1m   --> TIME: 2023-07-20 23:35:31 -- STEP: 34/81 -- GLOBAL_STEP: 7000\u001b[0m\n",
            "     | > loss: 0.3812989592552185  (0.3985733118127374)\n",
            "     | > log_mle: -0.17505621910095215  (-0.23812401119400473)\n",
            "     | > loss_dur: 0.5563551783561707  (0.6366973230067421)\n",
            "     | > amp_scaler: 2048.0  (2048.0)\n",
            "     | > grad_norm: tensor(18.0930, device='cuda:0')  (tensor(27.1740, device='cuda:0'))\n",
            "     | > current_lr: 2.15e-05 \n",
            "     | > step_time: 0.2918  (0.317651440115536)\n",
            "     | > loader_time: 0.0042  (0.005219003733466654)\n",
            "\n",
            "\n",
            "\u001b[1m > EVALUATION \u001b[0m\n",
            "\n",
            "\n",
            "  \u001b[1m--> EVAL PERFORMANCE\u001b[0m\n",
            "     | > avg_loader_time:\u001b[92m 0.49279069900512695 \u001b[0m(-0.0948173999786377)\n",
            "     | > avg_loss:\u001b[91m 0.39267319440841675 \u001b[0m(+0.04350501298904419)\n",
            "     | > avg_log_mle:\u001b[91m -0.29447340965270996 \u001b[0m(+0.009734749794006348)\n",
            "     | > avg_loss_dur:\u001b[91m 0.6871466040611267 \u001b[0m(+0.03377026319503784)\n",
            "\n"
          ]
        },
        {
          "output_type": "stream",
          "name": "stdout",
          "text": [
            " | > Synthesizing test sentences.\n"
          ]
        },
        {
          "output_type": "stream",
          "name": "stderr",
          "text": [
            "\n",
            "  \u001b[1m--> EVAL PERFORMANCE\u001b[0m\n",
            "     | > avg_loader_time: 0.49279069900512695 \u001b[0m(+0.0)\n",
            "     | > avg_loss: 0.39267319440841675 \u001b[0m(+0.0)\n",
            "     | > avg_log_mle: -0.29447340965270996 \u001b[0m(+0.0)\n",
            "     | > avg_loss_dur: 0.6871466040611267 \u001b[0m(+0.0)\n",
            "\n",
            "\n",
            "\u001b[4m\u001b[1m > EPOCH: 87/160\u001b[0m\n",
            " --> /content/drive/MyDrive/dataset/cloned/run-July-20-2023_10+24PM-0000000\n",
            "\n",
            "\u001b[1m > TRAINING (2023-07-20 23:36:09) \u001b[0m\n",
            "\n",
            "\u001b[1m > EVALUATION \u001b[0m\n",
            "\n",
            "\n",
            "  \u001b[1m--> EVAL PERFORMANCE\u001b[0m\n",
            "     | > avg_loader_time:\u001b[91m 0.742199182510376 \u001b[0m(+0.24940848350524902)\n",
            "     | > avg_loss:\u001b[92m 0.3488731384277344 \u001b[0m(-0.04380005598068237)\n",
            "     | > avg_log_mle:\u001b[92m -0.31645655632019043 \u001b[0m(-0.02198314666748047)\n",
            "     | > avg_loss_dur:\u001b[92m 0.6653296947479248 \u001b[0m(-0.021816909313201904)\n",
            "\n"
          ]
        },
        {
          "output_type": "stream",
          "name": "stdout",
          "text": [
            " | > Synthesizing test sentences.\n"
          ]
        },
        {
          "output_type": "stream",
          "name": "stderr",
          "text": [
            "\n",
            "  \u001b[1m--> EVAL PERFORMANCE\u001b[0m\n",
            "     | > avg_loader_time: 0.742199182510376 \u001b[0m(+0.0)\n",
            "     | > avg_loss: 0.3488731384277344 \u001b[0m(+0.0)\n",
            "     | > avg_log_mle: -0.31645655632019043 \u001b[0m(+0.0)\n",
            "     | > avg_loss_dur: 0.6653296947479248 \u001b[0m(+0.0)\n",
            "\n",
            " > BEST MODEL : /content/drive/MyDrive/dataset/cloned/run-July-20-2023_10+24PM-0000000/best_model_7128.pth\n",
            "\n",
            "\u001b[4m\u001b[1m > EPOCH: 88/160\u001b[0m\n",
            " --> /content/drive/MyDrive/dataset/cloned/run-July-20-2023_10+24PM-0000000\n",
            "\n",
            "\u001b[1m > TRAINING (2023-07-20 23:37:03) \u001b[0m\n",
            "\n",
            "\u001b[1m > EVALUATION \u001b[0m\n",
            "\n",
            "\n",
            "  \u001b[1m--> EVAL PERFORMANCE\u001b[0m\n",
            "     | > avg_loader_time:\u001b[92m 0.390200138092041 \u001b[0m(-0.35199904441833496)\n",
            "     | > avg_loss:\u001b[91m 0.3827197551727295 \u001b[0m(+0.03384661674499512)\n",
            "     | > avg_log_mle:\u001b[91m -0.3100024461746216 \u001b[0m(+0.006454110145568848)\n",
            "     | > avg_loss_dur:\u001b[91m 0.6927222013473511 \u001b[0m(+0.02739250659942627)\n",
            "\n"
          ]
        },
        {
          "output_type": "stream",
          "name": "stdout",
          "text": [
            " | > Synthesizing test sentences.\n"
          ]
        },
        {
          "output_type": "stream",
          "name": "stderr",
          "text": [
            "\n",
            "  \u001b[1m--> EVAL PERFORMANCE\u001b[0m\n",
            "     | > avg_loader_time: 0.390200138092041 \u001b[0m(+0.0)\n",
            "     | > avg_loss: 0.3827197551727295 \u001b[0m(+0.0)\n",
            "     | > avg_log_mle: -0.3100024461746216 \u001b[0m(+0.0)\n",
            "     | > avg_loss_dur: 0.6927222013473511 \u001b[0m(+0.0)\n",
            "\n",
            "\n",
            "\u001b[4m\u001b[1m > EPOCH: 89/160\u001b[0m\n",
            " --> /content/drive/MyDrive/dataset/cloned/run-July-20-2023_10+24PM-0000000\n",
            "\n",
            "\u001b[1m > TRAINING (2023-07-20 23:37:49) \u001b[0m\n",
            "\n",
            "\u001b[1m > EVALUATION \u001b[0m\n",
            "\n",
            "\n",
            "  \u001b[1m--> EVAL PERFORMANCE\u001b[0m\n",
            "     | > avg_loader_time:\u001b[91m 0.3976762294769287 \u001b[0m(+0.007476091384887695)\n",
            "     | > avg_loss:\u001b[92m 0.3368234634399414 \u001b[0m(-0.045896291732788086)\n",
            "     | > avg_log_mle:\u001b[92m -0.32954728603363037 \u001b[0m(-0.01954483985900879)\n",
            "     | > avg_loss_dur:\u001b[92m 0.6663707494735718 \u001b[0m(-0.026351451873779297)\n",
            "\n"
          ]
        },
        {
          "output_type": "stream",
          "name": "stdout",
          "text": [
            " | > Synthesizing test sentences.\n"
          ]
        },
        {
          "output_type": "stream",
          "name": "stderr",
          "text": [
            "\n",
            "  \u001b[1m--> EVAL PERFORMANCE\u001b[0m\n",
            "     | > avg_loader_time: 0.3976762294769287 \u001b[0m(+0.0)\n",
            "     | > avg_loss: 0.3368234634399414 \u001b[0m(+0.0)\n",
            "     | > avg_log_mle: -0.32954728603363037 \u001b[0m(+0.0)\n",
            "     | > avg_loss_dur: 0.6663707494735718 \u001b[0m(+0.0)\n",
            "\n",
            " > BEST MODEL : /content/drive/MyDrive/dataset/cloned/run-July-20-2023_10+24PM-0000000/best_model_7290.pth\n",
            "\n",
            "\u001b[4m\u001b[1m > EPOCH: 90/160\u001b[0m\n",
            " --> /content/drive/MyDrive/dataset/cloned/run-July-20-2023_10+24PM-0000000\n",
            "\n",
            "\u001b[1m > TRAINING (2023-07-20 23:38:44) \u001b[0m\n",
            "\n",
            "\u001b[1m > EVALUATION \u001b[0m\n",
            "\n",
            "\n",
            "  \u001b[1m--> EVAL PERFORMANCE\u001b[0m\n",
            "     | > avg_loader_time:\u001b[91m 0.6265161037445068 \u001b[0m(+0.22883987426757812)\n",
            "     | > avg_loss:\u001b[91m 0.38622766733169556 \u001b[0m(+0.04940420389175415)\n",
            "     | > avg_log_mle:\u001b[91m -0.3149278163909912 \u001b[0m(+0.01461946964263916)\n",
            "     | > avg_loss_dur:\u001b[91m 0.7011554837226868 \u001b[0m(+0.03478473424911499)\n",
            "\n"
          ]
        },
        {
          "output_type": "stream",
          "name": "stdout",
          "text": [
            " | > Synthesizing test sentences.\n"
          ]
        },
        {
          "output_type": "stream",
          "name": "stderr",
          "text": [
            "\n",
            "  \u001b[1m--> EVAL PERFORMANCE\u001b[0m\n",
            "     | > avg_loader_time: 0.6265161037445068 \u001b[0m(+0.0)\n",
            "     | > avg_loss: 0.38622766733169556 \u001b[0m(+0.0)\n",
            "     | > avg_log_mle: -0.3149278163909912 \u001b[0m(+0.0)\n",
            "     | > avg_loss_dur: 0.7011554837226868 \u001b[0m(+0.0)\n",
            "\n",
            "\n",
            "\u001b[4m\u001b[1m > EPOCH: 91/160\u001b[0m\n",
            " --> /content/drive/MyDrive/dataset/cloned/run-July-20-2023_10+24PM-0000000\n",
            "\n",
            "\u001b[1m > TRAINING (2023-07-20 23:39:31) \u001b[0m\n",
            "\n",
            "\u001b[1m > EVALUATION \u001b[0m\n",
            "\n",
            "\n",
            "  \u001b[1m--> EVAL PERFORMANCE\u001b[0m\n",
            "     | > avg_loader_time:\u001b[91m 1.1266264915466309 \u001b[0m(+0.500110387802124)\n",
            "     | > avg_loss:\u001b[92m 0.37932252883911133 \u001b[0m(-0.0069051384925842285)\n",
            "     | > avg_log_mle:\u001b[92m -0.32156848907470703 \u001b[0m(-0.00664067268371582)\n",
            "     | > avg_loss_dur:\u001b[92m 0.7008910179138184 \u001b[0m(-0.0002644658088684082)\n",
            "\n"
          ]
        },
        {
          "output_type": "stream",
          "name": "stdout",
          "text": [
            " | > Synthesizing test sentences.\n"
          ]
        },
        {
          "output_type": "stream",
          "name": "stderr",
          "text": [
            "\n",
            "  \u001b[1m--> EVAL PERFORMANCE\u001b[0m\n",
            "     | > avg_loader_time: 1.1266264915466309 \u001b[0m(+0.0)\n",
            "     | > avg_loss: 0.37932252883911133 \u001b[0m(+0.0)\n",
            "     | > avg_log_mle: -0.32156848907470703 \u001b[0m(+0.0)\n",
            "     | > avg_loss_dur: 0.7008910179138184 \u001b[0m(+0.0)\n",
            "\n",
            "\n",
            "\u001b[4m\u001b[1m > EPOCH: 92/160\u001b[0m\n",
            " --> /content/drive/MyDrive/dataset/cloned/run-July-20-2023_10+24PM-0000000\n",
            "\n",
            "\u001b[1m > TRAINING (2023-07-20 23:40:18) \u001b[0m\n",
            "\n",
            "\u001b[1m   --> TIME: 2023-07-20 23:40:37 -- STEP: 48/81 -- GLOBAL_STEP: 7500\u001b[0m\n",
            "     | > loss: 0.2924420237541199  (0.3768230030934016)\n",
            "     | > log_mle: -0.36636853218078613  (-0.25784592578808463)\n",
            "     | > loss_dur: 0.658810555934906  (0.6346689288814861)\n",
            "     | > amp_scaler: 2048.0  (2048.0)\n",
            "     | > grad_norm: tensor(57.9883, device='cuda:0')  (tensor(25.8313, device='cuda:0'))\n",
            "     | > current_lr: 2.3e-05 \n",
            "     | > step_time: 0.2991  (0.3514475425084433)\n",
            "     | > loader_time: 0.0039  (0.004505529999732971)\n",
            "\n",
            "\n",
            "\u001b[1m > EVALUATION \u001b[0m\n",
            "\n",
            "\n",
            "  \u001b[1m--> EVAL PERFORMANCE\u001b[0m\n",
            "     | > avg_loader_time:\u001b[92m 0.45955514907836914 \u001b[0m(-0.6670713424682617)\n",
            "     | > avg_loss:\u001b[92m 0.33456242084503174 \u001b[0m(-0.04476010799407959)\n",
            "     | > avg_log_mle:\u001b[92m -0.324468731880188 \u001b[0m(-0.002900242805480957)\n",
            "     | > avg_loss_dur:\u001b[92m 0.6590311527252197 \u001b[0m(-0.04185986518859863)\n",
            "\n"
          ]
        },
        {
          "output_type": "stream",
          "name": "stdout",
          "text": [
            " | > Synthesizing test sentences.\n"
          ]
        },
        {
          "output_type": "stream",
          "name": "stderr",
          "text": [
            "\n",
            "  \u001b[1m--> EVAL PERFORMANCE\u001b[0m\n",
            "     | > avg_loader_time: 0.45955514907836914 \u001b[0m(+0.0)\n",
            "     | > avg_loss: 0.33456242084503174 \u001b[0m(+0.0)\n",
            "     | > avg_log_mle: -0.324468731880188 \u001b[0m(+0.0)\n",
            "     | > avg_loss_dur: 0.6590311527252197 \u001b[0m(+0.0)\n",
            "\n",
            " > BEST MODEL : /content/drive/MyDrive/dataset/cloned/run-July-20-2023_10+24PM-0000000/best_model_7533.pth\n",
            "\n",
            "\u001b[4m\u001b[1m > EPOCH: 93/160\u001b[0m\n",
            " --> /content/drive/MyDrive/dataset/cloned/run-July-20-2023_10+24PM-0000000\n",
            "\n",
            "\u001b[1m > TRAINING (2023-07-20 23:41:09) \u001b[0m\n",
            "\n",
            "\u001b[1m > EVALUATION \u001b[0m\n",
            "\n",
            "\n",
            "  \u001b[1m--> EVAL PERFORMANCE\u001b[0m\n",
            "     | > avg_loader_time:\u001b[91m 0.5981287956237793 \u001b[0m(+0.13857364654541016)\n",
            "     | > avg_loss:\u001b[92m 0.2887752056121826 \u001b[0m(-0.04578721523284912)\n",
            "     | > avg_log_mle:\u001b[92m -0.3472433090209961 \u001b[0m(-0.022774577140808105)\n",
            "     | > avg_loss_dur:\u001b[92m 0.6360185146331787 \u001b[0m(-0.023012638092041016)\n",
            "\n"
          ]
        },
        {
          "output_type": "stream",
          "name": "stdout",
          "text": [
            " | > Synthesizing test sentences.\n"
          ]
        },
        {
          "output_type": "stream",
          "name": "stderr",
          "text": [
            "\n",
            "  \u001b[1m--> EVAL PERFORMANCE\u001b[0m\n",
            "     | > avg_loader_time: 0.5981287956237793 \u001b[0m(+0.0)\n",
            "     | > avg_loss: 0.2887752056121826 \u001b[0m(+0.0)\n",
            "     | > avg_log_mle: -0.3472433090209961 \u001b[0m(+0.0)\n",
            "     | > avg_loss_dur: 0.6360185146331787 \u001b[0m(+0.0)\n",
            "\n",
            " > BEST MODEL : /content/drive/MyDrive/dataset/cloned/run-July-20-2023_10+24PM-0000000/best_model_7614.pth\n",
            "\n",
            "\u001b[4m\u001b[1m > EPOCH: 94/160\u001b[0m\n",
            " --> /content/drive/MyDrive/dataset/cloned/run-July-20-2023_10+24PM-0000000\n",
            "\n",
            "\u001b[1m > TRAINING (2023-07-20 23:42:04) \u001b[0m\n",
            "\n",
            "\u001b[1m > EVALUATION \u001b[0m\n",
            "\n",
            "\n",
            "  \u001b[1m--> EVAL PERFORMANCE\u001b[0m\n",
            "     | > avg_loader_time:\u001b[92m 0.3941075801849365 \u001b[0m(-0.20402121543884277)\n",
            "     | > avg_loss:\u001b[91m 0.33998584747314453 \u001b[0m(+0.051210641860961914)\n",
            "     | > avg_log_mle:\u001b[91m -0.33224785327911377 \u001b[0m(+0.014995455741882324)\n",
            "     | > avg_loss_dur:\u001b[91m 0.6722337007522583 \u001b[0m(+0.03621518611907959)\n",
            "\n"
          ]
        },
        {
          "output_type": "stream",
          "name": "stdout",
          "text": [
            " | > Synthesizing test sentences.\n"
          ]
        },
        {
          "output_type": "stream",
          "name": "stderr",
          "text": [
            "\n",
            "  \u001b[1m--> EVAL PERFORMANCE\u001b[0m\n",
            "     | > avg_loader_time: 0.3941075801849365 \u001b[0m(+0.0)\n",
            "     | > avg_loss: 0.33998584747314453 \u001b[0m(+0.0)\n",
            "     | > avg_log_mle: -0.33224785327911377 \u001b[0m(+0.0)\n",
            "     | > avg_loss_dur: 0.6722337007522583 \u001b[0m(+0.0)\n",
            "\n",
            "\n",
            "\u001b[4m\u001b[1m > EPOCH: 95/160\u001b[0m\n",
            " --> /content/drive/MyDrive/dataset/cloned/run-July-20-2023_10+24PM-0000000\n",
            "\n",
            "\u001b[1m > TRAINING (2023-07-20 23:42:53) \u001b[0m\n",
            "\n",
            "\u001b[1m > EVALUATION \u001b[0m\n",
            "\n",
            "\n",
            "  \u001b[1m--> EVAL PERFORMANCE\u001b[0m\n",
            "     | > avg_loader_time:\u001b[92m 0.3831484317779541 \u001b[0m(-0.010959148406982422)\n",
            "     | > avg_loss:\u001b[92m 0.26194095611572266 \u001b[0m(-0.07804489135742188)\n",
            "     | > avg_log_mle:\u001b[92m -0.354117751121521 \u001b[0m(-0.021869897842407227)\n",
            "     | > avg_loss_dur:\u001b[92m 0.6160587072372437 \u001b[0m(-0.05617499351501465)\n",
            "\n"
          ]
        },
        {
          "output_type": "stream",
          "name": "stdout",
          "text": [
            " | > Synthesizing test sentences.\n"
          ]
        },
        {
          "output_type": "stream",
          "name": "stderr",
          "text": [
            "\n",
            "  \u001b[1m--> EVAL PERFORMANCE\u001b[0m\n",
            "     | > avg_loader_time: 0.3831484317779541 \u001b[0m(+0.0)\n",
            "     | > avg_loss: 0.26194095611572266 \u001b[0m(+0.0)\n",
            "     | > avg_log_mle: -0.354117751121521 \u001b[0m(+0.0)\n",
            "     | > avg_loss_dur: 0.6160587072372437 \u001b[0m(+0.0)\n",
            "\n",
            " > BEST MODEL : /content/drive/MyDrive/dataset/cloned/run-July-20-2023_10+24PM-0000000/best_model_7776.pth\n",
            "\n",
            "\u001b[4m\u001b[1m > EPOCH: 96/160\u001b[0m\n",
            " --> /content/drive/MyDrive/dataset/cloned/run-July-20-2023_10+24PM-0000000\n",
            "\n",
            "\u001b[1m > TRAINING (2023-07-20 23:43:45) \u001b[0m\n",
            "\n",
            "\u001b[1m > EVALUATION \u001b[0m\n",
            "\n",
            "\n",
            "  \u001b[1m--> EVAL PERFORMANCE\u001b[0m\n",
            "     | > avg_loader_time:\u001b[91m 0.6226115226745605 \u001b[0m(+0.23946309089660645)\n",
            "     | > avg_loss:\u001b[91m 0.33010977506637573 \u001b[0m(+0.06816881895065308)\n",
            "     | > avg_log_mle:\u001b[91m -0.3410511016845703 \u001b[0m(+0.013066649436950684)\n",
            "     | > avg_loss_dur:\u001b[91m 0.671160876750946 \u001b[0m(+0.05510216951370239)\n",
            "\n"
          ]
        },
        {
          "output_type": "stream",
          "name": "stdout",
          "text": [
            " | > Synthesizing test sentences.\n"
          ]
        },
        {
          "output_type": "stream",
          "name": "stderr",
          "text": [
            "\n",
            "  \u001b[1m--> EVAL PERFORMANCE\u001b[0m\n",
            "     | > avg_loader_time: 0.6226115226745605 \u001b[0m(+0.0)\n",
            "     | > avg_loss: 0.33010977506637573 \u001b[0m(+0.0)\n",
            "     | > avg_log_mle: -0.3410511016845703 \u001b[0m(+0.0)\n",
            "     | > avg_loss_dur: 0.671160876750946 \u001b[0m(+0.0)\n",
            "\n",
            "\n",
            "\u001b[4m\u001b[1m > EPOCH: 97/160\u001b[0m\n",
            " --> /content/drive/MyDrive/dataset/cloned/run-July-20-2023_10+24PM-0000000\n",
            "\n",
            "\u001b[1m > TRAINING (2023-07-20 23:44:34) \u001b[0m\n",
            "\n",
            "\u001b[1m > EVALUATION \u001b[0m\n",
            "\n",
            "\n",
            "  \u001b[1m--> EVAL PERFORMANCE\u001b[0m\n",
            "     | > avg_loader_time:\u001b[91m 0.637418270111084 \u001b[0m(+0.014806747436523438)\n",
            "     | > avg_loss:\u001b[92m 0.29296737909317017 \u001b[0m(-0.037142395973205566)\n",
            "     | > avg_log_mle:\u001b[92m -0.35665833950042725 \u001b[0m(-0.015607237815856934)\n",
            "     | > avg_loss_dur:\u001b[92m 0.6496257185935974 \u001b[0m(-0.021535158157348633)\n",
            "\n"
          ]
        },
        {
          "output_type": "stream",
          "name": "stdout",
          "text": [
            " | > Synthesizing test sentences.\n"
          ]
        },
        {
          "output_type": "stream",
          "name": "stderr",
          "text": [
            "\n",
            "  \u001b[1m--> EVAL PERFORMANCE\u001b[0m\n",
            "     | > avg_loader_time: 0.637418270111084 \u001b[0m(+0.0)\n",
            "     | > avg_loss: 0.29296737909317017 \u001b[0m(+0.0)\n",
            "     | > avg_log_mle: -0.35665833950042725 \u001b[0m(+0.0)\n",
            "     | > avg_loss_dur: 0.6496257185935974 \u001b[0m(+0.0)\n",
            "\n",
            "\n",
            "\u001b[4m\u001b[1m > EPOCH: 98/160\u001b[0m\n",
            " --> /content/drive/MyDrive/dataset/cloned/run-July-20-2023_10+24PM-0000000\n",
            "\n",
            "\u001b[1m > TRAINING (2023-07-20 23:45:18) \u001b[0m\n",
            "\n",
            "\u001b[1m   --> TIME: 2023-07-20 23:45:42 -- STEP: 62/81 -- GLOBAL_STEP: 8000\u001b[0m\n",
            "     | > loss: 0.3313935399055481  (0.3306877608260801)\n",
            "     | > log_mle: -0.2401190996170044  (-0.2940064111063558)\n",
            "     | > loss_dur: 0.5715126395225525  (0.6246941719324358)\n",
            "     | > amp_scaler: 2048.0  (2048.0)\n",
            "     | > grad_norm: tensor(15.9289, device='cuda:0')  (tensor(32.0458, device='cuda:0'))\n",
            "     | > current_lr: 2.45e-05 \n",
            "     | > step_time: 0.2838  (0.35207044693731493)\n",
            "     | > loader_time: 0.0029  (0.004657403115303284)\n",
            "\n",
            "\n",
            "\u001b[1m > EVALUATION \u001b[0m\n",
            "\n",
            "\n",
            "  \u001b[1m--> EVAL PERFORMANCE\u001b[0m\n",
            "     | > avg_loader_time:\u001b[92m 0.5758254528045654 \u001b[0m(-0.061592817306518555)\n",
            "     | > avg_loss:\u001b[91m 0.3572160601615906 \u001b[0m(+0.06424868106842041)\n",
            "     | > avg_log_mle:\u001b[91m -0.3149993419647217 \u001b[0m(+0.041658997535705566)\n",
            "     | > avg_loss_dur:\u001b[91m 0.6722154021263123 \u001b[0m(+0.022589683532714844)\n",
            "\n"
          ]
        },
        {
          "output_type": "stream",
          "name": "stdout",
          "text": [
            " | > Synthesizing test sentences.\n"
          ]
        },
        {
          "output_type": "stream",
          "name": "stderr",
          "text": [
            "\n",
            "  \u001b[1m--> EVAL PERFORMANCE\u001b[0m\n",
            "     | > avg_loader_time: 0.5758254528045654 \u001b[0m(+0.0)\n",
            "     | > avg_loss: 0.3572160601615906 \u001b[0m(+0.0)\n",
            "     | > avg_log_mle: -0.3149993419647217 \u001b[0m(+0.0)\n",
            "     | > avg_loss_dur: 0.6722154021263123 \u001b[0m(+0.0)\n",
            "\n",
            "\n",
            "\u001b[4m\u001b[1m > EPOCH: 99/160\u001b[0m\n",
            " --> /content/drive/MyDrive/dataset/cloned/run-July-20-2023_10+24PM-0000000\n",
            "\n",
            "\u001b[1m > TRAINING (2023-07-20 23:46:02) \u001b[0m\n",
            "\n",
            "\u001b[1m > EVALUATION \u001b[0m\n",
            "\n",
            "\n",
            "  \u001b[1m--> EVAL PERFORMANCE\u001b[0m\n",
            "     | > avg_loader_time:\u001b[91m 0.7286717891693115 \u001b[0m(+0.1528463363647461)\n",
            "     | > avg_loss:\u001b[92m 0.2983649969100952 \u001b[0m(-0.05885106325149536)\n",
            "     | > avg_log_mle:\u001b[92m -0.3587193489074707 \u001b[0m(-0.04372000694274902)\n",
            "     | > avg_loss_dur:\u001b[92m 0.6570843458175659 \u001b[0m(-0.015131056308746338)\n",
            "\n"
          ]
        },
        {
          "output_type": "stream",
          "name": "stdout",
          "text": [
            " | > Synthesizing test sentences.\n"
          ]
        },
        {
          "output_type": "stream",
          "name": "stderr",
          "text": [
            "\n",
            "  \u001b[1m--> EVAL PERFORMANCE\u001b[0m\n",
            "     | > avg_loader_time: 0.7286717891693115 \u001b[0m(+0.0)\n",
            "     | > avg_loss: 0.2983649969100952 \u001b[0m(+0.0)\n",
            "     | > avg_log_mle: -0.3587193489074707 \u001b[0m(+0.0)\n",
            "     | > avg_loss_dur: 0.6570843458175659 \u001b[0m(+0.0)\n",
            "\n",
            "\n",
            "\u001b[4m\u001b[1m > EPOCH: 100/160\u001b[0m\n",
            " --> /content/drive/MyDrive/dataset/cloned/run-July-20-2023_10+24PM-0000000\n",
            "\n",
            "\u001b[1m > TRAINING (2023-07-20 23:46:50) \u001b[0m\n",
            "\n",
            "\u001b[1m > EVALUATION \u001b[0m\n",
            "\n",
            "\n",
            "  \u001b[1m--> EVAL PERFORMANCE\u001b[0m\n",
            "     | > avg_loader_time:\u001b[92m 0.39913296699523926 \u001b[0m(-0.32953882217407227)\n",
            "     | > avg_loss:\u001b[92m 0.29064804315567017 \u001b[0m(-0.007716953754425049)\n",
            "     | > avg_log_mle:\u001b[91m -0.35298967361450195 \u001b[0m(+0.00572967529296875)\n",
            "     | > avg_loss_dur:\u001b[92m 0.6436377167701721 \u001b[0m(-0.013446629047393799)\n",
            "\n"
          ]
        },
        {
          "output_type": "stream",
          "name": "stdout",
          "text": [
            " | > Synthesizing test sentences.\n"
          ]
        },
        {
          "output_type": "stream",
          "name": "stderr",
          "text": [
            "\n",
            "  \u001b[1m--> EVAL PERFORMANCE\u001b[0m\n",
            "     | > avg_loader_time: 0.39913296699523926 \u001b[0m(+0.0)\n",
            "     | > avg_loss: 0.29064804315567017 \u001b[0m(+0.0)\n",
            "     | > avg_log_mle: -0.35298967361450195 \u001b[0m(+0.0)\n",
            "     | > avg_loss_dur: 0.6436377167701721 \u001b[0m(+0.0)\n",
            "\n",
            "\n",
            "\u001b[4m\u001b[1m > EPOCH: 101/160\u001b[0m\n",
            " --> /content/drive/MyDrive/dataset/cloned/run-July-20-2023_10+24PM-0000000\n",
            "\n",
            "\u001b[1m > TRAINING (2023-07-20 23:47:37) \u001b[0m\n",
            "\n",
            "\u001b[1m > EVALUATION \u001b[0m\n",
            "\n",
            "\n",
            "  \u001b[1m--> EVAL PERFORMANCE\u001b[0m\n",
            "     | > avg_loader_time:\u001b[91m 0.40909790992736816 \u001b[0m(+0.009964942932128906)\n",
            "     | > avg_loss:\u001b[91m 0.2914629578590393 \u001b[0m(+0.0008149147033691406)\n",
            "     | > avg_log_mle:\u001b[92m -0.36611878871917725 \u001b[0m(-0.013129115104675293)\n",
            "     | > avg_loss_dur:\u001b[91m 0.6575817465782166 \u001b[0m(+0.013944029808044434)\n",
            "\n"
          ]
        },
        {
          "output_type": "stream",
          "name": "stdout",
          "text": [
            " | > Synthesizing test sentences.\n"
          ]
        },
        {
          "output_type": "stream",
          "name": "stderr",
          "text": [
            "\n",
            "  \u001b[1m--> EVAL PERFORMANCE\u001b[0m\n",
            "     | > avg_loader_time: 0.40909790992736816 \u001b[0m(+0.0)\n",
            "     | > avg_loss: 0.2914629578590393 \u001b[0m(+0.0)\n",
            "     | > avg_log_mle: -0.36611878871917725 \u001b[0m(+0.0)\n",
            "     | > avg_loss_dur: 0.6575817465782166 \u001b[0m(+0.0)\n",
            "\n",
            "\n",
            "\u001b[4m\u001b[1m > EPOCH: 102/160\u001b[0m\n",
            " --> /content/drive/MyDrive/dataset/cloned/run-July-20-2023_10+24PM-0000000\n",
            "\n",
            "\u001b[1m > TRAINING (2023-07-20 23:48:23) \u001b[0m\n",
            "\n",
            "\u001b[1m > EVALUATION \u001b[0m\n",
            "\n",
            "\n",
            "  \u001b[1m--> EVAL PERFORMANCE\u001b[0m\n",
            "     | > avg_loader_time:\u001b[91m 0.41643190383911133 \u001b[0m(+0.007333993911743164)\n",
            "     | > avg_loss:\u001b[92m 0.27628087997436523 \u001b[0m(-0.015182077884674072)\n",
            "     | > avg_log_mle:\u001b[92m -0.378116250038147 \u001b[0m(-0.011997461318969727)\n",
            "     | > avg_loss_dur:\u001b[92m 0.6543971300125122 \u001b[0m(-0.0031846165657043457)\n",
            "\n"
          ]
        },
        {
          "output_type": "stream",
          "name": "stdout",
          "text": [
            " | > Synthesizing test sentences.\n"
          ]
        },
        {
          "output_type": "stream",
          "name": "stderr",
          "text": [
            "\n",
            "  \u001b[1m--> EVAL PERFORMANCE\u001b[0m\n",
            "     | > avg_loader_time: 0.41643190383911133 \u001b[0m(+0.0)\n",
            "     | > avg_loss: 0.27628087997436523 \u001b[0m(+0.0)\n",
            "     | > avg_log_mle: -0.378116250038147 \u001b[0m(+0.0)\n",
            "     | > avg_loss_dur: 0.6543971300125122 \u001b[0m(+0.0)\n",
            "\n",
            "\n",
            "\u001b[4m\u001b[1m > EPOCH: 103/160\u001b[0m\n",
            " --> /content/drive/MyDrive/dataset/cloned/run-July-20-2023_10+24PM-0000000\n",
            "\n",
            "\u001b[1m > TRAINING (2023-07-20 23:49:10) \u001b[0m\n",
            "\n",
            "\u001b[1m > EVALUATION \u001b[0m\n",
            "\n",
            "\n",
            "  \u001b[1m--> EVAL PERFORMANCE\u001b[0m\n",
            "     | > avg_loader_time:\u001b[91m 0.4245481491088867 \u001b[0m(+0.00811624526977539)\n",
            "     | > avg_loss:\u001b[91m 0.32873350381851196 \u001b[0m(+0.05245262384414673)\n",
            "     | > avg_log_mle:\u001b[91m -0.3724536895751953 \u001b[0m(+0.00566256046295166)\n",
            "     | > avg_loss_dur:\u001b[91m 0.7011871933937073 \u001b[0m(+0.04679006338119507)\n",
            "\n"
          ]
        },
        {
          "output_type": "stream",
          "name": "stdout",
          "text": [
            " | > Synthesizing test sentences.\n"
          ]
        },
        {
          "output_type": "stream",
          "name": "stderr",
          "text": [
            "\n",
            "  \u001b[1m--> EVAL PERFORMANCE\u001b[0m\n",
            "     | > avg_loader_time: 0.4245481491088867 \u001b[0m(+0.0)\n",
            "     | > avg_loss: 0.32873350381851196 \u001b[0m(+0.0)\n",
            "     | > avg_log_mle: -0.3724536895751953 \u001b[0m(+0.0)\n",
            "     | > avg_loss_dur: 0.7011871933937073 \u001b[0m(+0.0)\n",
            "\n",
            "\n",
            "\u001b[4m\u001b[1m > EPOCH: 104/160\u001b[0m\n",
            " --> /content/drive/MyDrive/dataset/cloned/run-July-20-2023_10+24PM-0000000\n",
            "\n",
            "\u001b[1m > TRAINING (2023-07-20 23:50:00) \u001b[0m\n",
            "\n",
            "\u001b[1m   --> TIME: 2023-07-20 23:50:27 -- STEP: 76/81 -- GLOBAL_STEP: 8500\u001b[0m\n",
            "     | > loss: 0.25829017162323  (0.2948214231353056)\n",
            "     | > log_mle: -0.444091796875  (-0.3205583864136746)\n",
            "     | > loss_dur: 0.70238196849823  (0.6153798095489803)\n",
            "     | > amp_scaler: 4096.0  (4096.0)\n",
            "     | > grad_norm: tensor(51.0176, device='cuda:0')  (tensor(33.3419, device='cuda:0'))\n",
            "     | > current_lr: 2.6e-05 \n",
            "     | > step_time: 0.2317  (0.3390685006191856)\n",
            "     | > loader_time: 0.0031  (0.005094841906898899)\n",
            "\n",
            "\n",
            "\u001b[1m > EVALUATION \u001b[0m\n",
            "\n",
            "\n",
            "  \u001b[1m--> EVAL PERFORMANCE\u001b[0m\n",
            "     | > avg_loader_time:\u001b[91m 0.6213893890380859 \u001b[0m(+0.19684123992919922)\n",
            "     | > avg_loss:\u001b[92m 0.27004343271255493 \u001b[0m(-0.05869007110595703)\n",
            "     | > avg_log_mle:\u001b[92m -0.3841512203216553 \u001b[0m(-0.011697530746459961)\n",
            "     | > avg_loss_dur:\u001b[92m 0.6541946530342102 \u001b[0m(-0.04699254035949707)\n",
            "\n"
          ]
        },
        {
          "output_type": "stream",
          "name": "stdout",
          "text": [
            " | > Synthesizing test sentences.\n"
          ]
        },
        {
          "output_type": "stream",
          "name": "stderr",
          "text": [
            "\n",
            "  \u001b[1m--> EVAL PERFORMANCE\u001b[0m\n",
            "     | > avg_loader_time: 0.6213893890380859 \u001b[0m(+0.0)\n",
            "     | > avg_loss: 0.27004343271255493 \u001b[0m(+0.0)\n",
            "     | > avg_log_mle: -0.3841512203216553 \u001b[0m(+0.0)\n",
            "     | > avg_loss_dur: 0.6541946530342102 \u001b[0m(+0.0)\n",
            "\n",
            "\n",
            "\u001b[4m\u001b[1m > EPOCH: 105/160\u001b[0m\n",
            " --> /content/drive/MyDrive/dataset/cloned/run-July-20-2023_10+24PM-0000000\n",
            "\n",
            "\u001b[1m > TRAINING (2023-07-20 23:50:43) \u001b[0m\n",
            "\n",
            "\u001b[1m > EVALUATION \u001b[0m\n",
            "\n",
            "\n",
            "  \u001b[1m--> EVAL PERFORMANCE\u001b[0m\n",
            "     | > avg_loader_time:\u001b[92m 0.6075811386108398 \u001b[0m(-0.013808250427246094)\n",
            "     | > avg_loss:\u001b[91m 0.3531951308250427 \u001b[0m(+0.08315169811248779)\n",
            "     | > avg_log_mle:\u001b[91m -0.3164181709289551 \u001b[0m(+0.0677330493927002)\n",
            "     | > avg_loss_dur:\u001b[91m 0.6696133017539978 \u001b[0m(+0.015418648719787598)\n",
            "\n"
          ]
        },
        {
          "output_type": "stream",
          "name": "stdout",
          "text": [
            " | > Synthesizing test sentences.\n"
          ]
        },
        {
          "output_type": "stream",
          "name": "stderr",
          "text": [
            "\n",
            "  \u001b[1m--> EVAL PERFORMANCE\u001b[0m\n",
            "     | > avg_loader_time: 0.6075811386108398 \u001b[0m(+0.0)\n",
            "     | > avg_loss: 0.3531951308250427 \u001b[0m(+0.0)\n",
            "     | > avg_log_mle: -0.3164181709289551 \u001b[0m(+0.0)\n",
            "     | > avg_loss_dur: 0.6696133017539978 \u001b[0m(+0.0)\n",
            "\n",
            "\n",
            "\u001b[4m\u001b[1m > EPOCH: 106/160\u001b[0m\n",
            " --> /content/drive/MyDrive/dataset/cloned/run-July-20-2023_10+24PM-0000000\n",
            "\n",
            "\u001b[1m > TRAINING (2023-07-20 23:51:28) \u001b[0m\n",
            "\n",
            "\u001b[1m > EVALUATION \u001b[0m\n",
            "\n",
            "\n",
            "  \u001b[1m--> EVAL PERFORMANCE\u001b[0m\n",
            "     | > avg_loader_time:\u001b[92m 0.5817775726318359 \u001b[0m(-0.025803565979003906)\n",
            "     | > avg_loss:\u001b[92m 0.23791277408599854 \u001b[0m(-0.11528235673904419)\n",
            "     | > avg_log_mle:\u001b[92m -0.3722602128982544 \u001b[0m(-0.055842041969299316)\n",
            "     | > avg_loss_dur:\u001b[92m 0.6101729869842529 \u001b[0m(-0.05944031476974487)\n",
            "\n"
          ]
        },
        {
          "output_type": "stream",
          "name": "stdout",
          "text": [
            " | > Synthesizing test sentences.\n"
          ]
        },
        {
          "output_type": "stream",
          "name": "stderr",
          "text": [
            "\n",
            "  \u001b[1m--> EVAL PERFORMANCE\u001b[0m\n",
            "     | > avg_loader_time: 0.5817775726318359 \u001b[0m(+0.0)\n",
            "     | > avg_loss: 0.23791277408599854 \u001b[0m(+0.0)\n",
            "     | > avg_log_mle: -0.3722602128982544 \u001b[0m(+0.0)\n",
            "     | > avg_loss_dur: 0.6101729869842529 \u001b[0m(+0.0)\n",
            "\n",
            " > BEST MODEL : /content/drive/MyDrive/dataset/cloned/run-July-20-2023_10+24PM-0000000/best_model_8667.pth\n",
            "\n",
            "\u001b[4m\u001b[1m > EPOCH: 107/160\u001b[0m\n",
            " --> /content/drive/MyDrive/dataset/cloned/run-July-20-2023_10+24PM-0000000\n",
            "\n",
            "\u001b[1m > TRAINING (2023-07-20 23:52:21) \u001b[0m\n",
            "\n",
            "\u001b[1m > EVALUATION \u001b[0m\n",
            "\n",
            "\n",
            "  \u001b[1m--> EVAL PERFORMANCE\u001b[0m\n",
            "     | > avg_loader_time:\u001b[92m 0.3823354244232178 \u001b[0m(-0.19944214820861816)\n",
            "     | > avg_loss:\u001b[91m 0.2849886417388916 \u001b[0m(+0.047075867652893066)\n",
            "     | > avg_log_mle:\u001b[92m -0.3825693130493164 \u001b[0m(-0.010309100151062012)\n",
            "     | > avg_loss_dur:\u001b[91m 0.667557954788208 \u001b[0m(+0.05738496780395508)\n",
            "\n"
          ]
        },
        {
          "output_type": "stream",
          "name": "stdout",
          "text": [
            " | > Synthesizing test sentences.\n"
          ]
        },
        {
          "output_type": "stream",
          "name": "stderr",
          "text": [
            "\n",
            "  \u001b[1m--> EVAL PERFORMANCE\u001b[0m\n",
            "     | > avg_loader_time: 0.3823354244232178 \u001b[0m(+0.0)\n",
            "     | > avg_loss: 0.2849886417388916 \u001b[0m(+0.0)\n",
            "     | > avg_log_mle: -0.3825693130493164 \u001b[0m(+0.0)\n",
            "     | > avg_loss_dur: 0.667557954788208 \u001b[0m(+0.0)\n",
            "\n",
            "\n",
            "\u001b[4m\u001b[1m > EPOCH: 108/160\u001b[0m\n",
            " --> /content/drive/MyDrive/dataset/cloned/run-July-20-2023_10+24PM-0000000\n",
            "\n",
            "\u001b[1m > TRAINING (2023-07-20 23:53:08) \u001b[0m\n",
            "\n",
            "\u001b[1m > EVALUATION \u001b[0m\n",
            "\n",
            "\n",
            "  \u001b[1m--> EVAL PERFORMANCE\u001b[0m\n",
            "     | > avg_loader_time:\u001b[91m 0.39691996574401855 \u001b[0m(+0.014584541320800781)\n",
            "     | > avg_loss:\u001b[92m 0.269228458404541 \u001b[0m(-0.015760183334350586)\n",
            "     | > avg_log_mle:\u001b[92m -0.3841668367385864 \u001b[0m(-0.0015975236892700195)\n",
            "     | > avg_loss_dur:\u001b[92m 0.6533952951431274 \u001b[0m(-0.014162659645080566)\n",
            "\n"
          ]
        },
        {
          "output_type": "stream",
          "name": "stdout",
          "text": [
            " | > Synthesizing test sentences.\n"
          ]
        },
        {
          "output_type": "stream",
          "name": "stderr",
          "text": [
            "\n",
            "  \u001b[1m--> EVAL PERFORMANCE\u001b[0m\n",
            "     | > avg_loader_time: 0.39691996574401855 \u001b[0m(+0.0)\n",
            "     | > avg_loss: 0.269228458404541 \u001b[0m(+0.0)\n",
            "     | > avg_log_mle: -0.3841668367385864 \u001b[0m(+0.0)\n",
            "     | > avg_loss_dur: 0.6533952951431274 \u001b[0m(+0.0)\n",
            "\n",
            "\n",
            "\u001b[4m\u001b[1m > EPOCH: 109/160\u001b[0m\n",
            " --> /content/drive/MyDrive/dataset/cloned/run-July-20-2023_10+24PM-0000000\n",
            "\n",
            "\u001b[1m > TRAINING (2023-07-20 23:53:55) \u001b[0m\n",
            "\n",
            "\u001b[1m > EVALUATION \u001b[0m\n",
            "\n",
            "\n",
            "  \u001b[1m--> EVAL PERFORMANCE\u001b[0m\n",
            "     | > avg_loader_time:\u001b[91m 0.4252035617828369 \u001b[0m(+0.02828359603881836)\n",
            "     | > avg_loss:\u001b[92m 0.23840516805648804 \u001b[0m(-0.03082329034805298)\n",
            "     | > avg_log_mle:\u001b[91m -0.3810896873474121 \u001b[0m(+0.0030771493911743164)\n",
            "     | > avg_loss_dur:\u001b[92m 0.6194948554039001 \u001b[0m(-0.033900439739227295)\n",
            "\n"
          ]
        },
        {
          "output_type": "stream",
          "name": "stdout",
          "text": [
            " | > Synthesizing test sentences.\n"
          ]
        },
        {
          "output_type": "stream",
          "name": "stderr",
          "text": [
            "\n",
            "  \u001b[1m--> EVAL PERFORMANCE\u001b[0m\n",
            "     | > avg_loader_time: 0.4252035617828369 \u001b[0m(+0.0)\n",
            "     | > avg_loss: 0.23840516805648804 \u001b[0m(+0.0)\n",
            "     | > avg_log_mle: -0.3810896873474121 \u001b[0m(+0.0)\n",
            "     | > avg_loss_dur: 0.6194948554039001 \u001b[0m(+0.0)\n",
            "\n",
            "\n",
            "\u001b[4m\u001b[1m > EPOCH: 110/160\u001b[0m\n",
            " --> /content/drive/MyDrive/dataset/cloned/run-July-20-2023_10+24PM-0000000\n",
            "\n",
            "\u001b[1m > TRAINING (2023-07-20 23:54:42) \u001b[0m\n",
            "\n",
            "\u001b[1m > EVALUATION \u001b[0m\n",
            "\n",
            "\n",
            "  \u001b[1m--> EVAL PERFORMANCE\u001b[0m\n",
            "     | > avg_loader_time:\u001b[92m 0.40761375427246094 \u001b[0m(-0.017589807510375977)\n",
            "     | > avg_loss:\u001b[91m 0.30331653356552124 \u001b[0m(+0.0649113655090332)\n",
            "     | > avg_log_mle:\u001b[91m -0.35421693325042725 \u001b[0m(+0.026872754096984863)\n",
            "     | > avg_loss_dur:\u001b[91m 0.6575334668159485 \u001b[0m(+0.03803861141204834)\n",
            "\n"
          ]
        },
        {
          "output_type": "stream",
          "name": "stdout",
          "text": [
            " | > Synthesizing test sentences.\n"
          ]
        },
        {
          "output_type": "stream",
          "name": "stderr",
          "text": [
            "\n",
            "  \u001b[1m--> EVAL PERFORMANCE\u001b[0m\n",
            "     | > avg_loader_time: 0.40761375427246094 \u001b[0m(+0.0)\n",
            "     | > avg_loss: 0.30331653356552124 \u001b[0m(+0.0)\n",
            "     | > avg_log_mle: -0.35421693325042725 \u001b[0m(+0.0)\n",
            "     | > avg_loss_dur: 0.6575334668159485 \u001b[0m(+0.0)\n",
            "\n",
            "\n",
            "\u001b[4m\u001b[1m > EPOCH: 111/160\u001b[0m\n",
            " --> /content/drive/MyDrive/dataset/cloned/run-July-20-2023_10+24PM-0000000\n",
            "\n",
            "\u001b[1m > TRAINING (2023-07-20 23:55:27) \u001b[0m\n",
            "\n",
            "\u001b[1m   --> TIME: 2023-07-20 23:55:31 -- STEP: 9/81 -- GLOBAL_STEP: 9000\u001b[0m\n",
            "     | > loss: 0.22211185097694397  (0.23689106437895033)\n",
            "     | > log_mle: -0.2301464080810547  (-0.30831005838182235)\n",
            "     | > loss_dur: 0.45225825905799866  (0.5452011227607727)\n",
            "     | > amp_scaler: 2048.0  (2048.0)\n",
            "     | > grad_norm: tensor(18.1710, device='cuda:0')  (tensor(18.3817, device='cuda:0'))\n",
            "     | > current_lr: 2.775e-05 \n",
            "     | > step_time: 0.2923  (0.2876744535234239)\n",
            "     | > loader_time: 0.0032  (0.0031965838538275827)\n",
            "\n",
            "\n",
            "\u001b[1m > EVALUATION \u001b[0m\n",
            "\n",
            "\n",
            "  \u001b[1m--> EVAL PERFORMANCE\u001b[0m\n",
            "     | > avg_loader_time:\u001b[91m 0.5606634616851807 \u001b[0m(+0.15304970741271973)\n",
            "     | > avg_loss:\u001b[92m 0.22946518659591675 \u001b[0m(-0.07385134696960449)\n",
            "     | > avg_log_mle:\u001b[92m -0.3910599946975708 \u001b[0m(-0.036843061447143555)\n",
            "     | > avg_loss_dur:\u001b[92m 0.6205251812934875 \u001b[0m(-0.03700828552246094)\n",
            "\n"
          ]
        },
        {
          "output_type": "stream",
          "name": "stdout",
          "text": [
            " | > Synthesizing test sentences.\n"
          ]
        },
        {
          "output_type": "stream",
          "name": "stderr",
          "text": [
            "\n",
            "  \u001b[1m--> EVAL PERFORMANCE\u001b[0m\n",
            "     | > avg_loader_time: 0.5606634616851807 \u001b[0m(+0.0)\n",
            "     | > avg_loss: 0.22946518659591675 \u001b[0m(+0.0)\n",
            "     | > avg_log_mle: -0.3910599946975708 \u001b[0m(+0.0)\n",
            "     | > avg_loss_dur: 0.6205251812934875 \u001b[0m(+0.0)\n",
            "\n",
            " > BEST MODEL : /content/drive/MyDrive/dataset/cloned/run-July-20-2023_10+24PM-0000000/best_model_9072.pth\n",
            "\n",
            "\u001b[4m\u001b[1m > EPOCH: 112/160\u001b[0m\n",
            " --> /content/drive/MyDrive/dataset/cloned/run-July-20-2023_10+24PM-0000000\n",
            "\n",
            "\u001b[1m > TRAINING (2023-07-20 23:56:15) \u001b[0m\n",
            "\n",
            "\u001b[1m > EVALUATION \u001b[0m\n",
            "\n",
            "\n",
            "  \u001b[1m--> EVAL PERFORMANCE\u001b[0m\n",
            "     | > avg_loader_time:\u001b[92m 0.3855583667755127 \u001b[0m(-0.17510509490966797)\n",
            "     | > avg_loss:\u001b[92m 0.19228845834732056 \u001b[0m(-0.03717672824859619)\n",
            "     | > avg_log_mle:\u001b[92m -0.4120335578918457 \u001b[0m(-0.020973563194274902)\n",
            "     | > avg_loss_dur:\u001b[92m 0.6043220162391663 \u001b[0m(-0.01620316505432129)\n",
            "\n"
          ]
        },
        {
          "output_type": "stream",
          "name": "stdout",
          "text": [
            " | > Synthesizing test sentences.\n"
          ]
        },
        {
          "output_type": "stream",
          "name": "stderr",
          "text": [
            "\n",
            "  \u001b[1m--> EVAL PERFORMANCE\u001b[0m\n",
            "     | > avg_loader_time: 0.3855583667755127 \u001b[0m(+0.0)\n",
            "     | > avg_loss: 0.19228845834732056 \u001b[0m(+0.0)\n",
            "     | > avg_log_mle: -0.4120335578918457 \u001b[0m(+0.0)\n",
            "     | > avg_loss_dur: 0.6043220162391663 \u001b[0m(+0.0)\n",
            "\n",
            " > BEST MODEL : /content/drive/MyDrive/dataset/cloned/run-July-20-2023_10+24PM-0000000/best_model_9153.pth\n",
            "\n",
            "\u001b[4m\u001b[1m > EPOCH: 113/160\u001b[0m\n",
            " --> /content/drive/MyDrive/dataset/cloned/run-July-20-2023_10+24PM-0000000\n",
            "\n",
            "\u001b[1m > TRAINING (2023-07-20 23:57:06) \u001b[0m\n",
            "\n",
            "\u001b[1m > EVALUATION \u001b[0m\n",
            "\n",
            "\n",
            "  \u001b[1m--> EVAL PERFORMANCE\u001b[0m\n",
            "     | > avg_loader_time:\u001b[92m 0.3846747875213623 \u001b[0m(-0.0008835792541503906)\n",
            "     | > avg_loss:\u001b[91m 0.2502066493034363 \u001b[0m(+0.05791819095611572)\n",
            "     | > avg_log_mle:\u001b[91m -0.4032020568847656 \u001b[0m(+0.008831501007080078)\n",
            "     | > avg_loss_dur:\u001b[91m 0.6534087061882019 \u001b[0m(+0.049086689949035645)\n",
            "\n"
          ]
        },
        {
          "output_type": "stream",
          "name": "stdout",
          "text": [
            " | > Synthesizing test sentences.\n"
          ]
        },
        {
          "output_type": "stream",
          "name": "stderr",
          "text": [
            "\n",
            "  \u001b[1m--> EVAL PERFORMANCE\u001b[0m\n",
            "     | > avg_loader_time: 0.3846747875213623 \u001b[0m(+0.0)\n",
            "     | > avg_loss: 0.2502066493034363 \u001b[0m(+0.0)\n",
            "     | > avg_log_mle: -0.4032020568847656 \u001b[0m(+0.0)\n",
            "     | > avg_loss_dur: 0.6534087061882019 \u001b[0m(+0.0)\n",
            "\n",
            "\n",
            "\u001b[4m\u001b[1m > EPOCH: 114/160\u001b[0m\n",
            " --> /content/drive/MyDrive/dataset/cloned/run-July-20-2023_10+24PM-0000000\n",
            "\n",
            "\u001b[1m > TRAINING (2023-07-20 23:57:58) \u001b[0m\n",
            "\n",
            "\u001b[1m > EVALUATION \u001b[0m\n",
            "\n",
            "\n",
            "  \u001b[1m--> EVAL PERFORMANCE\u001b[0m\n",
            "     | > avg_loader_time:\u001b[91m 0.455341100692749 \u001b[0m(+0.07066631317138672)\n",
            "     | > avg_loss:\u001b[92m 0.21313035488128662 \u001b[0m(-0.03707629442214966)\n",
            "     | > avg_log_mle:\u001b[91m -0.40294599533081055 \u001b[0m(+0.0002560615539550781)\n",
            "     | > avg_loss_dur:\u001b[92m 0.6160763502120972 \u001b[0m(-0.037332355976104736)\n",
            "\n"
          ]
        },
        {
          "output_type": "stream",
          "name": "stdout",
          "text": [
            " | > Synthesizing test sentences.\n"
          ]
        },
        {
          "output_type": "stream",
          "name": "stderr",
          "text": [
            "\n",
            "  \u001b[1m--> EVAL PERFORMANCE\u001b[0m\n",
            "     | > avg_loader_time: 0.455341100692749 \u001b[0m(+0.0)\n",
            "     | > avg_loss: 0.21313035488128662 \u001b[0m(+0.0)\n",
            "     | > avg_log_mle: -0.40294599533081055 \u001b[0m(+0.0)\n",
            "     | > avg_loss_dur: 0.6160763502120972 \u001b[0m(+0.0)\n",
            "\n",
            "\n",
            "\u001b[4m\u001b[1m > EPOCH: 115/160\u001b[0m\n",
            " --> /content/drive/MyDrive/dataset/cloned/run-July-20-2023_10+24PM-0000000\n",
            "\n",
            "\u001b[1m > TRAINING (2023-07-20 23:58:42) \u001b[0m\n",
            "\n",
            "\u001b[1m > EVALUATION \u001b[0m\n",
            "\n",
            "\n",
            "  \u001b[1m--> EVAL PERFORMANCE\u001b[0m\n",
            "     | > avg_loader_time:\u001b[91m 0.5761220455169678 \u001b[0m(+0.12078094482421875)\n",
            "     | > avg_loss:\u001b[91m 0.23242336511611938 \u001b[0m(+0.019293010234832764)\n",
            "     | > avg_log_mle:\u001b[91m -0.39646756649017334 \u001b[0m(+0.006478428840637207)\n",
            "     | > avg_loss_dur:\u001b[91m 0.6288909316062927 \u001b[0m(+0.012814581394195557)\n",
            "\n"
          ]
        },
        {
          "output_type": "stream",
          "name": "stdout",
          "text": [
            " | > Synthesizing test sentences.\n"
          ]
        },
        {
          "output_type": "stream",
          "name": "stderr",
          "text": [
            "\n",
            "  \u001b[1m--> EVAL PERFORMANCE\u001b[0m\n",
            "     | > avg_loader_time: 0.5761220455169678 \u001b[0m(+0.0)\n",
            "     | > avg_loss: 0.23242336511611938 \u001b[0m(+0.0)\n",
            "     | > avg_log_mle: -0.39646756649017334 \u001b[0m(+0.0)\n",
            "     | > avg_loss_dur: 0.6288909316062927 \u001b[0m(+0.0)\n",
            "\n",
            "\n",
            "\u001b[4m\u001b[1m > EPOCH: 116/160\u001b[0m\n",
            " --> /content/drive/MyDrive/dataset/cloned/run-July-20-2023_10+24PM-0000000\n",
            "\n",
            "\u001b[1m > TRAINING (2023-07-20 23:59:26) \u001b[0m\n",
            "\n",
            "\u001b[1m > EVALUATION \u001b[0m\n",
            "\n",
            "\n",
            "  \u001b[1m--> EVAL PERFORMANCE\u001b[0m\n",
            "     | > avg_loader_time:\u001b[91m 0.6231503486633301 \u001b[0m(+0.047028303146362305)\n",
            "     | > avg_loss:\u001b[92m 0.21000230312347412 \u001b[0m(-0.022421061992645264)\n",
            "     | > avg_log_mle:\u001b[92m -0.411723256111145 \u001b[0m(-0.01525568962097168)\n",
            "     | > avg_loss_dur:\u001b[92m 0.6217255592346191 \u001b[0m(-0.007165372371673584)\n",
            "\n"
          ]
        },
        {
          "output_type": "stream",
          "name": "stdout",
          "text": [
            " | > Synthesizing test sentences.\n"
          ]
        },
        {
          "output_type": "stream",
          "name": "stderr",
          "text": [
            "\n",
            "  \u001b[1m--> EVAL PERFORMANCE\u001b[0m\n",
            "     | > avg_loader_time: 0.6231503486633301 \u001b[0m(+0.0)\n",
            "     | > avg_loss: 0.21000230312347412 \u001b[0m(+0.0)\n",
            "     | > avg_log_mle: -0.411723256111145 \u001b[0m(+0.0)\n",
            "     | > avg_loss_dur: 0.6217255592346191 \u001b[0m(+0.0)\n",
            "\n",
            "\n",
            "\u001b[4m\u001b[1m > EPOCH: 117/160\u001b[0m\n",
            " --> /content/drive/MyDrive/dataset/cloned/run-July-20-2023_10+24PM-0000000\n",
            "\n",
            "\u001b[1m > TRAINING (2023-07-21 00:00:14) \u001b[0m\n",
            "\n",
            "\u001b[1m   --> TIME: 2023-07-21 00:00:26 -- STEP: 23/81 -- GLOBAL_STEP: 9500\u001b[0m\n",
            "     | > loss: 0.0489039421081543  (0.19879425349442856)\n",
            "     | > log_mle: -0.514250636100769  (-0.3510119033896405)\n",
            "     | > loss_dur: 0.5631545782089233  (0.549806156884069)\n",
            "     | > amp_scaler: 2048.0  (2048.0)\n",
            "     | > grad_norm: tensor(46.8328, device='cuda:0')  (tensor(25.7850, device='cuda:0'))\n",
            "     | > current_lr: 2.9250000000000003e-05 \n",
            "     | > step_time: 0.4602  (0.422646833502728)\n",
            "     | > loader_time: 0.0037  (0.005317045294720193)\n",
            "\n",
            "\n",
            "\u001b[1m > EVALUATION \u001b[0m\n",
            "\n",
            "\n",
            "  \u001b[1m--> EVAL PERFORMANCE\u001b[0m\n",
            "     | > avg_loader_time:\u001b[92m 0.5876321792602539 \u001b[0m(-0.03551816940307617)\n",
            "     | > avg_loss:\u001b[91m 0.27058225870132446 \u001b[0m(+0.06057995557785034)\n",
            "     | > avg_log_mle:\u001b[91m -0.3976229429244995 \u001b[0m(+0.014100313186645508)\n",
            "     | > avg_loss_dur:\u001b[91m 0.668205201625824 \u001b[0m(+0.046479642391204834)\n",
            "\n"
          ]
        },
        {
          "output_type": "stream",
          "name": "stdout",
          "text": [
            " | > Synthesizing test sentences.\n"
          ]
        },
        {
          "output_type": "stream",
          "name": "stderr",
          "text": [
            "\n",
            "  \u001b[1m--> EVAL PERFORMANCE\u001b[0m\n",
            "     | > avg_loader_time: 0.5876321792602539 \u001b[0m(+0.0)\n",
            "     | > avg_loss: 0.27058225870132446 \u001b[0m(+0.0)\n",
            "     | > avg_log_mle: -0.3976229429244995 \u001b[0m(+0.0)\n",
            "     | > avg_loss_dur: 0.668205201625824 \u001b[0m(+0.0)\n",
            "\n",
            "\n",
            "\u001b[4m\u001b[1m > EPOCH: 118/160\u001b[0m\n",
            " --> /content/drive/MyDrive/dataset/cloned/run-July-20-2023_10+24PM-0000000\n",
            "\n",
            "\u001b[1m > TRAINING (2023-07-21 00:00:58) \u001b[0m\n",
            "\n",
            "\u001b[1m > EVALUATION \u001b[0m\n",
            "\n",
            "\n",
            "  \u001b[1m--> EVAL PERFORMANCE\u001b[0m\n",
            "     | > avg_loader_time:\u001b[91m 0.6089169979095459 \u001b[0m(+0.021284818649291992)\n",
            "     | > avg_loss:\u001b[92m 0.2244623303413391 \u001b[0m(-0.04611992835998535)\n",
            "     | > avg_log_mle:\u001b[92m -0.4055889844894409 \u001b[0m(-0.007966041564941406)\n",
            "     | > avg_loss_dur:\u001b[92m 0.63005131483078 \u001b[0m(-0.038153886795043945)\n",
            "\n"
          ]
        },
        {
          "output_type": "stream",
          "name": "stdout",
          "text": [
            " | > Synthesizing test sentences.\n"
          ]
        },
        {
          "output_type": "stream",
          "name": "stderr",
          "text": [
            "\n",
            "  \u001b[1m--> EVAL PERFORMANCE\u001b[0m\n",
            "     | > avg_loader_time: 0.6089169979095459 \u001b[0m(+0.0)\n",
            "     | > avg_loss: 0.2244623303413391 \u001b[0m(+0.0)\n",
            "     | > avg_log_mle: -0.4055889844894409 \u001b[0m(+0.0)\n",
            "     | > avg_loss_dur: 0.63005131483078 \u001b[0m(+0.0)\n",
            "\n",
            "\n",
            "\u001b[4m\u001b[1m > EPOCH: 119/160\u001b[0m\n",
            " --> /content/drive/MyDrive/dataset/cloned/run-July-20-2023_10+24PM-0000000\n",
            "\n",
            "\u001b[1m > TRAINING (2023-07-21 00:01:43) \u001b[0m\n",
            "\n",
            "\u001b[1m > EVALUATION \u001b[0m\n",
            "\n",
            "\n",
            "  \u001b[1m--> EVAL PERFORMANCE\u001b[0m\n",
            "     | > avg_loader_time:\u001b[92m 0.39503979682922363 \u001b[0m(-0.21387720108032227)\n",
            "     | > avg_loss:\u001b[92m 0.18298053741455078 \u001b[0m(-0.04148179292678833)\n",
            "     | > avg_log_mle:\u001b[92m -0.4111967086791992 \u001b[0m(-0.005607724189758301)\n",
            "     | > avg_loss_dur:\u001b[92m 0.59417724609375 \u001b[0m(-0.03587406873703003)\n",
            "\n"
          ]
        },
        {
          "output_type": "stream",
          "name": "stdout",
          "text": [
            " | > Synthesizing test sentences.\n"
          ]
        },
        {
          "output_type": "stream",
          "name": "stderr",
          "text": [
            "\n",
            "  \u001b[1m--> EVAL PERFORMANCE\u001b[0m\n",
            "     | > avg_loader_time: 0.39503979682922363 \u001b[0m(+0.0)\n",
            "     | > avg_loss: 0.18298053741455078 \u001b[0m(+0.0)\n",
            "     | > avg_log_mle: -0.4111967086791992 \u001b[0m(+0.0)\n",
            "     | > avg_loss_dur: 0.59417724609375 \u001b[0m(+0.0)\n",
            "\n",
            " > BEST MODEL : /content/drive/MyDrive/dataset/cloned/run-July-20-2023_10+24PM-0000000/best_model_9720.pth\n",
            "\n",
            "\u001b[4m\u001b[1m > EPOCH: 120/160\u001b[0m\n",
            " --> /content/drive/MyDrive/dataset/cloned/run-July-20-2023_10+24PM-0000000\n",
            "\n",
            "\u001b[1m > TRAINING (2023-07-21 00:02:42) \u001b[0m\n",
            "\n",
            "\u001b[1m > EVALUATION \u001b[0m\n",
            "\n",
            "\n",
            "  \u001b[1m--> EVAL PERFORMANCE\u001b[0m\n",
            "     | > avg_loader_time:\u001b[91m 0.5901641845703125 \u001b[0m(+0.19512438774108887)\n",
            "     | > avg_loss:\u001b[91m 0.20719647407531738 \u001b[0m(+0.0242159366607666)\n",
            "     | > avg_log_mle:\u001b[92m -0.4143707752227783 \u001b[0m(-0.0031740665435791016)\n",
            "     | > avg_loss_dur:\u001b[91m 0.6215672492980957 \u001b[0m(+0.027390003204345703)\n",
            "\n"
          ]
        },
        {
          "output_type": "stream",
          "name": "stdout",
          "text": [
            " | > Synthesizing test sentences.\n"
          ]
        },
        {
          "output_type": "stream",
          "name": "stderr",
          "text": [
            "\n",
            "  \u001b[1m--> EVAL PERFORMANCE\u001b[0m\n",
            "     | > avg_loader_time: 0.5901641845703125 \u001b[0m(+0.0)\n",
            "     | > avg_loss: 0.20719647407531738 \u001b[0m(+0.0)\n",
            "     | > avg_log_mle: -0.4143707752227783 \u001b[0m(+0.0)\n",
            "     | > avg_loss_dur: 0.6215672492980957 \u001b[0m(+0.0)\n",
            "\n",
            "\n",
            "\u001b[4m\u001b[1m > EPOCH: 121/160\u001b[0m\n",
            " --> /content/drive/MyDrive/dataset/cloned/run-July-20-2023_10+24PM-0000000\n",
            "\n",
            "\u001b[1m > TRAINING (2023-07-21 00:03:26) \u001b[0m\n",
            "\n",
            "\u001b[1m > EVALUATION \u001b[0m\n",
            "\n",
            "\n",
            "  \u001b[1m--> EVAL PERFORMANCE\u001b[0m\n",
            "     | > avg_loader_time:\u001b[91m 0.7114646434783936 \u001b[0m(+0.12130045890808105)\n",
            "     | > avg_loss:\u001b[91m 0.233539879322052 \u001b[0m(+0.02634340524673462)\n",
            "     | > avg_log_mle:\u001b[92m -0.43217384815216064 \u001b[0m(-0.017803072929382324)\n",
            "     | > avg_loss_dur:\u001b[91m 0.6657137274742126 \u001b[0m(+0.04414647817611694)\n",
            "\n"
          ]
        },
        {
          "output_type": "stream",
          "name": "stdout",
          "text": [
            " | > Synthesizing test sentences.\n"
          ]
        },
        {
          "output_type": "stream",
          "name": "stderr",
          "text": [
            "\n",
            "  \u001b[1m--> EVAL PERFORMANCE\u001b[0m\n",
            "     | > avg_loader_time: 0.7114646434783936 \u001b[0m(+0.0)\n",
            "     | > avg_loss: 0.233539879322052 \u001b[0m(+0.0)\n",
            "     | > avg_log_mle: -0.43217384815216064 \u001b[0m(+0.0)\n",
            "     | > avg_loss_dur: 0.6657137274742126 \u001b[0m(+0.0)\n",
            "\n",
            "\n",
            "\u001b[4m\u001b[1m > EPOCH: 122/160\u001b[0m\n",
            " --> /content/drive/MyDrive/dataset/cloned/run-July-20-2023_10+24PM-0000000\n",
            "\n",
            "\u001b[1m > TRAINING (2023-07-21 00:04:12) \u001b[0m\n",
            "\n",
            "\u001b[1m > EVALUATION \u001b[0m\n",
            "\n",
            "\n",
            "  \u001b[1m--> EVAL PERFORMANCE\u001b[0m\n",
            "     | > avg_loader_time:\u001b[92m 0.7023746967315674 \u001b[0m(-0.009089946746826172)\n",
            "     | > avg_loss:\u001b[92m 0.21405720710754395 \u001b[0m(-0.019482672214508057)\n",
            "     | > avg_log_mle:\u001b[91m -0.42661476135253906 \u001b[0m(+0.005559086799621582)\n",
            "     | > avg_loss_dur:\u001b[92m 0.640671968460083 \u001b[0m(-0.02504175901412964)\n",
            "\n"
          ]
        },
        {
          "output_type": "stream",
          "name": "stdout",
          "text": [
            " | > Synthesizing test sentences.\n"
          ]
        },
        {
          "output_type": "stream",
          "name": "stderr",
          "text": [
            "\n",
            "  \u001b[1m--> EVAL PERFORMANCE\u001b[0m\n",
            "     | > avg_loader_time: 0.7023746967315674 \u001b[0m(+0.0)\n",
            "     | > avg_loss: 0.21405720710754395 \u001b[0m(+0.0)\n",
            "     | > avg_log_mle: -0.42661476135253906 \u001b[0m(+0.0)\n",
            "     | > avg_loss_dur: 0.640671968460083 \u001b[0m(+0.0)\n",
            "\n",
            "\n",
            "\u001b[4m\u001b[1m > EPOCH: 123/160\u001b[0m\n",
            " --> /content/drive/MyDrive/dataset/cloned/run-July-20-2023_10+24PM-0000000\n",
            "\n",
            "\u001b[1m > TRAINING (2023-07-21 00:05:03) \u001b[0m\n",
            "\n",
            "\u001b[1m   --> TIME: 2023-07-21 00:05:17 -- STEP: 37/81 -- GLOBAL_STEP: 10000\u001b[0m\n",
            "     | > loss: 0.1779969334602356  (0.1886203095719621)\n",
            "     | > log_mle: -0.4593278169631958  (-0.37571183733038)\n",
            "     | > loss_dur: 0.6373247504234314  (0.5643321469023421)\n",
            "     | > amp_scaler: 2048.0  (2048.0)\n",
            "     | > grad_norm: tensor(43.7091, device='cuda:0')  (tensor(39.9539, device='cuda:0'))\n",
            "     | > current_lr: 3.075e-05 \n",
            "     | > step_time: 0.2866  (0.3294658596451218)\n",
            "     | > loader_time: 0.0037  (0.004763042604601061)\n",
            "\n",
            "\n",
            " > CHECKPOINT : /content/drive/MyDrive/dataset/cloned/run-July-20-2023_10+24PM-0000000/checkpoint_10000.pth\n",
            "\n",
            "\u001b[1m > EVALUATION \u001b[0m\n",
            "\n",
            "\n",
            "  \u001b[1m--> EVAL PERFORMANCE\u001b[0m\n",
            "     | > avg_loader_time:\u001b[92m 0.5316939353942871 \u001b[0m(-0.17068076133728027)\n",
            "     | > avg_loss:\u001b[92m 0.1733223795890808 \u001b[0m(-0.040734827518463135)\n",
            "     | > avg_log_mle:\u001b[92m -0.4370330572128296 \u001b[0m(-0.010418295860290527)\n",
            "     | > avg_loss_dur:\u001b[92m 0.6103554368019104 \u001b[0m(-0.030316531658172607)\n",
            "\n"
          ]
        },
        {
          "output_type": "stream",
          "name": "stdout",
          "text": [
            " | > Synthesizing test sentences.\n"
          ]
        },
        {
          "output_type": "stream",
          "name": "stderr",
          "text": [
            "\n",
            "  \u001b[1m--> EVAL PERFORMANCE\u001b[0m\n",
            "     | > avg_loader_time: 0.5316939353942871 \u001b[0m(+0.0)\n",
            "     | > avg_loss: 0.1733223795890808 \u001b[0m(+0.0)\n",
            "     | > avg_log_mle: -0.4370330572128296 \u001b[0m(+0.0)\n",
            "     | > avg_loss_dur: 0.6103554368019104 \u001b[0m(+0.0)\n",
            "\n",
            " > BEST MODEL : /content/drive/MyDrive/dataset/cloned/run-July-20-2023_10+24PM-0000000/best_model_10044.pth\n",
            "\n",
            "\u001b[4m\u001b[1m > EPOCH: 124/160\u001b[0m\n",
            " --> /content/drive/MyDrive/dataset/cloned/run-July-20-2023_10+24PM-0000000\n",
            "\n",
            "\u001b[1m > TRAINING (2023-07-21 00:06:02) \u001b[0m\n",
            "\n",
            "\u001b[1m > EVALUATION \u001b[0m\n",
            "\n",
            "\n",
            "  \u001b[1m--> EVAL PERFORMANCE\u001b[0m\n",
            "     | > avg_loader_time:\u001b[92m 0.425504207611084 \u001b[0m(-0.10618972778320312)\n",
            "     | > avg_loss:\u001b[91m 0.1858925223350525 \u001b[0m(+0.01257014274597168)\n",
            "     | > avg_log_mle:\u001b[91m -0.43023359775543213 \u001b[0m(+0.006799459457397461)\n",
            "     | > avg_loss_dur:\u001b[91m 0.6161261200904846 \u001b[0m(+0.005770683288574219)\n",
            "\n"
          ]
        },
        {
          "output_type": "stream",
          "name": "stdout",
          "text": [
            " | > Synthesizing test sentences.\n"
          ]
        },
        {
          "output_type": "stream",
          "name": "stderr",
          "text": [
            "\n",
            "  \u001b[1m--> EVAL PERFORMANCE\u001b[0m\n",
            "     | > avg_loader_time: 0.425504207611084 \u001b[0m(+0.0)\n",
            "     | > avg_loss: 0.1858925223350525 \u001b[0m(+0.0)\n",
            "     | > avg_log_mle: -0.43023359775543213 \u001b[0m(+0.0)\n",
            "     | > avg_loss_dur: 0.6161261200904846 \u001b[0m(+0.0)\n",
            "\n",
            "\n",
            "\u001b[4m\u001b[1m > EPOCH: 125/160\u001b[0m\n",
            " --> /content/drive/MyDrive/dataset/cloned/run-July-20-2023_10+24PM-0000000\n",
            "\n",
            "\u001b[1m > TRAINING (2023-07-21 00:06:52) \u001b[0m\n",
            "\n",
            "\u001b[1m > EVALUATION \u001b[0m\n",
            "\n",
            "\n",
            "  \u001b[1m--> EVAL PERFORMANCE\u001b[0m\n",
            "     | > avg_loader_time:\u001b[91m 0.6122853755950928 \u001b[0m(+0.1867811679840088)\n",
            "     | > avg_loss:\u001b[92m 0.18061542510986328 \u001b[0m(-0.005277097225189209)\n",
            "     | > avg_log_mle:\u001b[92m -0.4492504596710205 \u001b[0m(-0.01901686191558838)\n",
            "     | > avg_loss_dur:\u001b[91m 0.6298658847808838 \u001b[0m(+0.01373976469039917)\n",
            "\n"
          ]
        },
        {
          "output_type": "stream",
          "name": "stdout",
          "text": [
            " | > Synthesizing test sentences.\n"
          ]
        },
        {
          "output_type": "stream",
          "name": "stderr",
          "text": [
            "\n",
            "  \u001b[1m--> EVAL PERFORMANCE\u001b[0m\n",
            "     | > avg_loader_time: 0.6122853755950928 \u001b[0m(+0.0)\n",
            "     | > avg_loss: 0.18061542510986328 \u001b[0m(+0.0)\n",
            "     | > avg_log_mle: -0.4492504596710205 \u001b[0m(+0.0)\n",
            "     | > avg_loss_dur: 0.6298658847808838 \u001b[0m(+0.0)\n",
            "\n",
            "\n",
            "\u001b[4m\u001b[1m > EPOCH: 126/160\u001b[0m\n",
            " --> /content/drive/MyDrive/dataset/cloned/run-July-20-2023_10+24PM-0000000\n",
            "\n",
            "\u001b[1m > TRAINING (2023-07-21 00:07:43) \u001b[0m\n",
            "\n",
            "\u001b[1m > EVALUATION \u001b[0m\n",
            "\n",
            "\n",
            "  \u001b[1m--> EVAL PERFORMANCE\u001b[0m\n",
            "     | > avg_loader_time:\u001b[92m 0.39973926544189453 \u001b[0m(-0.21254611015319824)\n",
            "     | > avg_loss:\u001b[92m 0.17703664302825928 \u001b[0m(-0.003578782081604004)\n",
            "     | > avg_log_mle:\u001b[91m -0.43322205543518066 \u001b[0m(+0.016028404235839844)\n",
            "     | > avg_loss_dur:\u001b[92m 0.6102586984634399 \u001b[0m(-0.019607186317443848)\n",
            "\n"
          ]
        },
        {
          "output_type": "stream",
          "name": "stdout",
          "text": [
            " | > Synthesizing test sentences.\n"
          ]
        },
        {
          "output_type": "stream",
          "name": "stderr",
          "text": [
            "\n",
            "  \u001b[1m--> EVAL PERFORMANCE\u001b[0m\n",
            "     | > avg_loader_time: 0.39973926544189453 \u001b[0m(+0.0)\n",
            "     | > avg_loss: 0.17703664302825928 \u001b[0m(+0.0)\n",
            "     | > avg_log_mle: -0.43322205543518066 \u001b[0m(+0.0)\n",
            "     | > avg_loss_dur: 0.6102586984634399 \u001b[0m(+0.0)\n",
            "\n",
            "\n",
            "\u001b[4m\u001b[1m > EPOCH: 127/160\u001b[0m\n",
            " --> /content/drive/MyDrive/dataset/cloned/run-July-20-2023_10+24PM-0000000\n",
            "\n",
            "\u001b[1m > TRAINING (2023-07-21 00:08:28) \u001b[0m\n",
            "\n",
            "\u001b[1m > EVALUATION \u001b[0m\n",
            "\n",
            "\n",
            "  \u001b[1m--> EVAL PERFORMANCE\u001b[0m\n",
            "     | > avg_loader_time:\u001b[91m 0.6429002285003662 \u001b[0m(+0.24316096305847168)\n",
            "     | > avg_loss:\u001b[91m 0.19176852703094482 \u001b[0m(+0.014731884002685547)\n",
            "     | > avg_log_mle:\u001b[92m -0.4415895938873291 \u001b[0m(-0.008367538452148438)\n",
            "     | > avg_loss_dur:\u001b[91m 0.6333581209182739 \u001b[0m(+0.023099422454833984)\n",
            "\n"
          ]
        },
        {
          "output_type": "stream",
          "name": "stdout",
          "text": [
            " | > Synthesizing test sentences.\n"
          ]
        },
        {
          "output_type": "stream",
          "name": "stderr",
          "text": [
            "\n",
            "  \u001b[1m--> EVAL PERFORMANCE\u001b[0m\n",
            "     | > avg_loader_time: 0.6429002285003662 \u001b[0m(+0.0)\n",
            "     | > avg_loss: 0.19176852703094482 \u001b[0m(+0.0)\n",
            "     | > avg_log_mle: -0.4415895938873291 \u001b[0m(+0.0)\n",
            "     | > avg_loss_dur: 0.6333581209182739 \u001b[0m(+0.0)\n",
            "\n",
            "\n",
            "\u001b[4m\u001b[1m > EPOCH: 128/160\u001b[0m\n",
            " --> /content/drive/MyDrive/dataset/cloned/run-July-20-2023_10+24PM-0000000\n",
            "\n",
            "\u001b[1m > TRAINING (2023-07-21 00:09:12) \u001b[0m\n",
            "\n",
            "\u001b[1m > EVALUATION \u001b[0m\n",
            "\n",
            "\n",
            "  \u001b[1m--> EVAL PERFORMANCE\u001b[0m\n",
            "     | > avg_loader_time:\u001b[92m 0.6063942909240723 \u001b[0m(-0.036505937576293945)\n",
            "     | > avg_loss:\u001b[92m 0.13827717304229736 \u001b[0m(-0.05349135398864746)\n",
            "     | > avg_log_mle:\u001b[92m -0.44444453716278076 \u001b[0m(-0.00285494327545166)\n",
            "     | > avg_loss_dur:\u001b[92m 0.5827217102050781 \u001b[0m(-0.0506364107131958)\n",
            "\n"
          ]
        },
        {
          "output_type": "stream",
          "name": "stdout",
          "text": [
            " | > Synthesizing test sentences.\n"
          ]
        },
        {
          "output_type": "stream",
          "name": "stderr",
          "text": [
            "\n",
            "  \u001b[1m--> EVAL PERFORMANCE\u001b[0m\n",
            "     | > avg_loader_time: 0.6063942909240723 \u001b[0m(+0.0)\n",
            "     | > avg_loss: 0.13827717304229736 \u001b[0m(+0.0)\n",
            "     | > avg_log_mle: -0.44444453716278076 \u001b[0m(+0.0)\n",
            "     | > avg_loss_dur: 0.5827217102050781 \u001b[0m(+0.0)\n",
            "\n",
            " > BEST MODEL : /content/drive/MyDrive/dataset/cloned/run-July-20-2023_10+24PM-0000000/best_model_10449.pth\n",
            "\n",
            "\u001b[4m\u001b[1m > EPOCH: 129/160\u001b[0m\n",
            " --> /content/drive/MyDrive/dataset/cloned/run-July-20-2023_10+24PM-0000000\n",
            "\n",
            "\u001b[1m > TRAINING (2023-07-21 00:10:01) \u001b[0m\n",
            "\n",
            "\u001b[1m   --> TIME: 2023-07-21 00:10:27 -- STEP: 51/81 -- GLOBAL_STEP: 10500\u001b[0m\n",
            "     | > loss: 0.17663681507110596  (0.1522881961336323)\n",
            "     | > log_mle: -0.4506615400314331  (-0.40193727904675053)\n",
            "     | > loss_dur: 0.6272983551025391  (0.5542254751803828)\n",
            "     | > amp_scaler: 2048.0  (2048.0)\n",
            "     | > grad_norm: tensor(24.0931, device='cuda:0')  (tensor(36.8093, device='cuda:0'))\n",
            "     | > current_lr: 3.225e-05 \n",
            "     | > step_time: 0.4316  (0.36647808785532027)\n",
            "     | > loader_time: 0.0046  (0.004571003072402057)\n",
            "\n",
            "\n",
            "\u001b[1m > EVALUATION \u001b[0m\n",
            "\n",
            "\n",
            "  \u001b[1m--> EVAL PERFORMANCE\u001b[0m\n",
            "     | > avg_loader_time:\u001b[92m 0.4042975902557373 \u001b[0m(-0.20209670066833496)\n",
            "     | > avg_loss:\u001b[91m 0.214582622051239 \u001b[0m(+0.07630544900894165)\n",
            "     | > avg_log_mle:\u001b[91m -0.4296138286590576 \u001b[0m(+0.014830708503723145)\n",
            "     | > avg_loss_dur:\u001b[91m 0.6441964507102966 \u001b[0m(+0.061474740505218506)\n",
            "\n"
          ]
        },
        {
          "output_type": "stream",
          "name": "stdout",
          "text": [
            " | > Synthesizing test sentences.\n"
          ]
        },
        {
          "output_type": "stream",
          "name": "stderr",
          "text": [
            "\n",
            "  \u001b[1m--> EVAL PERFORMANCE\u001b[0m\n",
            "     | > avg_loader_time: 0.4042975902557373 \u001b[0m(+0.0)\n",
            "     | > avg_loss: 0.214582622051239 \u001b[0m(+0.0)\n",
            "     | > avg_log_mle: -0.4296138286590576 \u001b[0m(+0.0)\n",
            "     | > avg_loss_dur: 0.6441964507102966 \u001b[0m(+0.0)\n",
            "\n",
            "\n",
            "\u001b[4m\u001b[1m > EPOCH: 130/160\u001b[0m\n",
            " --> /content/drive/MyDrive/dataset/cloned/run-July-20-2023_10+24PM-0000000\n",
            "\n",
            "\u001b[1m > TRAINING (2023-07-21 00:10:56) \u001b[0m\n",
            "\n",
            "\u001b[1m > EVALUATION \u001b[0m\n",
            "\n",
            "\n",
            "  \u001b[1m--> EVAL PERFORMANCE\u001b[0m\n",
            "     | > avg_loader_time:\u001b[91m 0.42150425910949707 \u001b[0m(+0.017206668853759766)\n",
            "     | > avg_loss:\u001b[92m 0.18339383602142334 \u001b[0m(-0.031188786029815674)\n",
            "     | > avg_log_mle:\u001b[92m -0.44913148880004883 \u001b[0m(-0.01951766014099121)\n",
            "     | > avg_loss_dur:\u001b[92m 0.6325253248214722 \u001b[0m(-0.011671125888824463)\n",
            "\n"
          ]
        },
        {
          "output_type": "stream",
          "name": "stdout",
          "text": [
            " | > Synthesizing test sentences.\n"
          ]
        },
        {
          "output_type": "stream",
          "name": "stderr",
          "text": [
            "\n",
            "  \u001b[1m--> EVAL PERFORMANCE\u001b[0m\n",
            "     | > avg_loader_time: 0.42150425910949707 \u001b[0m(+0.0)\n",
            "     | > avg_loss: 0.18339383602142334 \u001b[0m(+0.0)\n",
            "     | > avg_log_mle: -0.44913148880004883 \u001b[0m(+0.0)\n",
            "     | > avg_loss_dur: 0.6325253248214722 \u001b[0m(+0.0)\n",
            "\n",
            "\n",
            "\u001b[4m\u001b[1m > EPOCH: 131/160\u001b[0m\n",
            " --> /content/drive/MyDrive/dataset/cloned/run-July-20-2023_10+24PM-0000000\n",
            "\n",
            "\u001b[1m > TRAINING (2023-07-21 00:11:40) \u001b[0m\n",
            "\n",
            "\u001b[1m > EVALUATION \u001b[0m\n",
            "\n",
            "\n",
            "  \u001b[1m--> EVAL PERFORMANCE\u001b[0m\n",
            "     | > avg_loader_time:\u001b[91m 0.6163773536682129 \u001b[0m(+0.19487309455871582)\n",
            "     | > avg_loss:\u001b[92m 0.17457139492034912 \u001b[0m(-0.008822441101074219)\n",
            "     | > avg_log_mle:\u001b[92m -0.4654043912887573 \u001b[0m(-0.016272902488708496)\n",
            "     | > avg_loss_dur:\u001b[91m 0.6399757862091064 \u001b[0m(+0.007450461387634277)\n",
            "\n"
          ]
        },
        {
          "output_type": "stream",
          "name": "stdout",
          "text": [
            " | > Synthesizing test sentences.\n"
          ]
        },
        {
          "output_type": "stream",
          "name": "stderr",
          "text": [
            "\n",
            "  \u001b[1m--> EVAL PERFORMANCE\u001b[0m\n",
            "     | > avg_loader_time: 0.6163773536682129 \u001b[0m(+0.0)\n",
            "     | > avg_loss: 0.17457139492034912 \u001b[0m(+0.0)\n",
            "     | > avg_log_mle: -0.4654043912887573 \u001b[0m(+0.0)\n",
            "     | > avg_loss_dur: 0.6399757862091064 \u001b[0m(+0.0)\n",
            "\n",
            "\n",
            "\u001b[4m\u001b[1m > EPOCH: 132/160\u001b[0m\n",
            " --> /content/drive/MyDrive/dataset/cloned/run-July-20-2023_10+24PM-0000000\n",
            "\n",
            "\u001b[1m > TRAINING (2023-07-21 00:12:24) \u001b[0m\n",
            "\n",
            "\u001b[1m > EVALUATION \u001b[0m\n",
            "\n",
            "\n",
            "  \u001b[1m--> EVAL PERFORMANCE\u001b[0m\n",
            "     | > avg_loader_time:\u001b[92m 0.5993092060089111 \u001b[0m(-0.017068147659301758)\n",
            "     | > avg_loss:\u001b[92m 0.15698856115341187 \u001b[0m(-0.017582833766937256)\n",
            "     | > avg_log_mle:\u001b[91m -0.4447256326675415 \u001b[0m(+0.02067875862121582)\n",
            "     | > avg_loss_dur:\u001b[92m 0.6017141938209534 \u001b[0m(-0.038261592388153076)\n",
            "\n"
          ]
        },
        {
          "output_type": "stream",
          "name": "stdout",
          "text": [
            " | > Synthesizing test sentences.\n"
          ]
        },
        {
          "output_type": "stream",
          "name": "stderr",
          "text": [
            "\n",
            "  \u001b[1m--> EVAL PERFORMANCE\u001b[0m\n",
            "     | > avg_loader_time: 0.5993092060089111 \u001b[0m(+0.0)\n",
            "     | > avg_loss: 0.15698856115341187 \u001b[0m(+0.0)\n",
            "     | > avg_log_mle: -0.4447256326675415 \u001b[0m(+0.0)\n",
            "     | > avg_loss_dur: 0.6017141938209534 \u001b[0m(+0.0)\n",
            "\n",
            "\n",
            "\u001b[4m\u001b[1m > EPOCH: 133/160\u001b[0m\n",
            " --> /content/drive/MyDrive/dataset/cloned/run-July-20-2023_10+24PM-0000000\n",
            "\n",
            "\u001b[1m > TRAINING (2023-07-21 00:13:12) \u001b[0m\n",
            "\n",
            "\u001b[1m > EVALUATION \u001b[0m\n",
            "\n",
            "\n",
            "  \u001b[1m--> EVAL PERFORMANCE\u001b[0m\n",
            "     | > avg_loader_time:\u001b[92m 0.40601158142089844 \u001b[0m(-0.1932976245880127)\n",
            "     | > avg_loss:\u001b[91m 0.19926971197128296 \u001b[0m(+0.042281150817871094)\n",
            "     | > avg_log_mle:\u001b[92m -0.4550914764404297 \u001b[0m(-0.010365843772888184)\n",
            "     | > avg_loss_dur:\u001b[91m 0.6543611884117126 \u001b[0m(+0.05264699459075928)\n",
            "\n"
          ]
        },
        {
          "output_type": "stream",
          "name": "stdout",
          "text": [
            " | > Synthesizing test sentences.\n"
          ]
        },
        {
          "output_type": "stream",
          "name": "stderr",
          "text": [
            "\n",
            "  \u001b[1m--> EVAL PERFORMANCE\u001b[0m\n",
            "     | > avg_loader_time: 0.40601158142089844 \u001b[0m(+0.0)\n",
            "     | > avg_loss: 0.19926971197128296 \u001b[0m(+0.0)\n",
            "     | > avg_log_mle: -0.4550914764404297 \u001b[0m(+0.0)\n",
            "     | > avg_loss_dur: 0.6543611884117126 \u001b[0m(+0.0)\n",
            "\n",
            "\n",
            "\u001b[4m\u001b[1m > EPOCH: 134/160\u001b[0m\n",
            " --> /content/drive/MyDrive/dataset/cloned/run-July-20-2023_10+24PM-0000000\n",
            "\n",
            "\u001b[1m > TRAINING (2023-07-21 00:13:57) \u001b[0m\n",
            "\n",
            "\u001b[1m > EVALUATION \u001b[0m\n",
            "\n",
            "\n",
            "  \u001b[1m--> EVAL PERFORMANCE\u001b[0m\n",
            "     | > avg_loader_time:\u001b[91m 1.157994031906128 \u001b[0m(+0.7519824504852295)\n",
            "     | > avg_loss:\u001b[92m 0.19635283946990967 \u001b[0m(-0.002916872501373291)\n",
            "     | > avg_log_mle:\u001b[92m -0.45788252353668213 \u001b[0m(-0.0027910470962524414)\n",
            "     | > avg_loss_dur:\u001b[92m 0.6542353630065918 \u001b[0m(-0.0001258254051208496)\n",
            "\n"
          ]
        },
        {
          "output_type": "stream",
          "name": "stdout",
          "text": [
            " | > Synthesizing test sentences.\n"
          ]
        },
        {
          "output_type": "stream",
          "name": "stderr",
          "text": [
            "\n",
            "  \u001b[1m--> EVAL PERFORMANCE\u001b[0m\n",
            "     | > avg_loader_time: 1.157994031906128 \u001b[0m(+0.0)\n",
            "     | > avg_loss: 0.19635283946990967 \u001b[0m(+0.0)\n",
            "     | > avg_log_mle: -0.45788252353668213 \u001b[0m(+0.0)\n",
            "     | > avg_loss_dur: 0.6542353630065918 \u001b[0m(+0.0)\n",
            "\n",
            "\n",
            "\u001b[4m\u001b[1m > EPOCH: 135/160\u001b[0m\n",
            " --> /content/drive/MyDrive/dataset/cloned/run-July-20-2023_10+24PM-0000000\n",
            "\n",
            "\u001b[1m > TRAINING (2023-07-21 00:14:45) \u001b[0m\n",
            "\n",
            "\u001b[1m   --> TIME: 2023-07-21 00:15:12 -- STEP: 65/81 -- GLOBAL_STEP: 11000\u001b[0m\n",
            "     | > loss: 0.11910340189933777  (0.12378730865625234)\n",
            "     | > log_mle: -0.3556065559387207  (-0.42529455331655647)\n",
            "     | > loss_dur: 0.47470995783805847  (0.5490818619728088)\n",
            "     | > amp_scaler: 2048.0  (2048.0)\n",
            "     | > grad_norm: tensor(46.5260, device='cuda:0')  (tensor(35.3482, device='cuda:0'))\n",
            "     | > current_lr: 3.375e-05 \n",
            "     | > step_time: 0.283  (0.37091992451594424)\n",
            "     | > loader_time: 0.0034  (0.006128410192636342)\n",
            "\n",
            "\n",
            "\u001b[1m > EVALUATION \u001b[0m\n",
            "\n",
            "\n",
            "  \u001b[1m--> EVAL PERFORMANCE\u001b[0m\n",
            "     | > avg_loader_time:\u001b[92m 0.681720495223999 \u001b[0m(-0.4762735366821289)\n",
            "     | > avg_loss:\u001b[92m 0.1728094220161438 \u001b[0m(-0.02354341745376587)\n",
            "     | > avg_log_mle:\u001b[92m -0.45986509323120117 \u001b[0m(-0.001982569694519043)\n",
            "     | > avg_loss_dur:\u001b[92m 0.632674515247345 \u001b[0m(-0.021560847759246826)\n",
            "\n"
          ]
        },
        {
          "output_type": "stream",
          "name": "stdout",
          "text": [
            " | > Synthesizing test sentences.\n"
          ]
        },
        {
          "output_type": "stream",
          "name": "stderr",
          "text": [
            "\n",
            "  \u001b[1m--> EVAL PERFORMANCE\u001b[0m\n",
            "     | > avg_loader_time: 0.681720495223999 \u001b[0m(+0.0)\n",
            "     | > avg_loss: 0.1728094220161438 \u001b[0m(+0.0)\n",
            "     | > avg_log_mle: -0.45986509323120117 \u001b[0m(+0.0)\n",
            "     | > avg_loss_dur: 0.632674515247345 \u001b[0m(+0.0)\n",
            "\n",
            "\n",
            "\u001b[4m\u001b[1m > EPOCH: 136/160\u001b[0m\n",
            " --> /content/drive/MyDrive/dataset/cloned/run-July-20-2023_10+24PM-0000000\n",
            "\n",
            "\u001b[1m > TRAINING (2023-07-21 00:15:35) \u001b[0m\n",
            "\n",
            "\u001b[1m > EVALUATION \u001b[0m\n",
            "\n",
            "\n",
            "  \u001b[1m--> EVAL PERFORMANCE\u001b[0m\n",
            "     | > avg_loader_time:\u001b[92m 0.4238166809082031 \u001b[0m(-0.2579038143157959)\n",
            "     | > avg_loss:\u001b[91m 0.22448748350143433 \u001b[0m(+0.05167806148529053)\n",
            "     | > avg_log_mle:\u001b[91m -0.45787155628204346 \u001b[0m(+0.001993536949157715)\n",
            "     | > avg_loss_dur:\u001b[91m 0.6823590397834778 \u001b[0m(+0.04968452453613281)\n",
            "\n"
          ]
        },
        {
          "output_type": "stream",
          "name": "stdout",
          "text": [
            " | > Synthesizing test sentences.\n"
          ]
        },
        {
          "output_type": "stream",
          "name": "stderr",
          "text": [
            "\n",
            "  \u001b[1m--> EVAL PERFORMANCE\u001b[0m\n",
            "     | > avg_loader_time: 0.4238166809082031 \u001b[0m(+0.0)\n",
            "     | > avg_loss: 0.22448748350143433 \u001b[0m(+0.0)\n",
            "     | > avg_log_mle: -0.45787155628204346 \u001b[0m(+0.0)\n",
            "     | > avg_loss_dur: 0.6823590397834778 \u001b[0m(+0.0)\n",
            "\n",
            "\n",
            "\u001b[4m\u001b[1m > EPOCH: 137/160\u001b[0m\n",
            " --> /content/drive/MyDrive/dataset/cloned/run-July-20-2023_10+24PM-0000000\n",
            "\n",
            "\u001b[1m > TRAINING (2023-07-21 00:16:19) \u001b[0m\n",
            "\n",
            "\u001b[1m > EVALUATION \u001b[0m\n",
            "\n",
            "\n",
            "  \u001b[1m--> EVAL PERFORMANCE\u001b[0m\n",
            "     | > avg_loader_time:\u001b[91m 0.6039259433746338 \u001b[0m(+0.18010926246643066)\n",
            "     | > avg_loss:\u001b[92m 0.21061426401138306 \u001b[0m(-0.01387321949005127)\n",
            "     | > avg_log_mle:\u001b[91m -0.44256412982940674 \u001b[0m(+0.015307426452636719)\n",
            "     | > avg_loss_dur:\u001b[92m 0.6531783938407898 \u001b[0m(-0.02918064594268799)\n",
            "\n"
          ]
        },
        {
          "output_type": "stream",
          "name": "stdout",
          "text": [
            " | > Synthesizing test sentences.\n"
          ]
        },
        {
          "output_type": "stream",
          "name": "stderr",
          "text": [
            "\n",
            "  \u001b[1m--> EVAL PERFORMANCE\u001b[0m\n",
            "     | > avg_loader_time: 0.6039259433746338 \u001b[0m(+0.0)\n",
            "     | > avg_loss: 0.21061426401138306 \u001b[0m(+0.0)\n",
            "     | > avg_log_mle: -0.44256412982940674 \u001b[0m(+0.0)\n",
            "     | > avg_loss_dur: 0.6531783938407898 \u001b[0m(+0.0)\n",
            "\n",
            "\n",
            "\u001b[4m\u001b[1m > EPOCH: 138/160\u001b[0m\n",
            " --> /content/drive/MyDrive/dataset/cloned/run-July-20-2023_10+24PM-0000000\n",
            "\n",
            "\u001b[1m > TRAINING (2023-07-21 00:17:04) \u001b[0m\n",
            "\n",
            "\u001b[1m > EVALUATION \u001b[0m\n",
            "\n",
            "\n",
            "  \u001b[1m--> EVAL PERFORMANCE\u001b[0m\n",
            "     | > avg_loader_time:\u001b[91m 0.626676082611084 \u001b[0m(+0.022750139236450195)\n",
            "     | > avg_loss:\u001b[91m 0.2197413444519043 \u001b[0m(+0.00912708044052124)\n",
            "     | > avg_log_mle:\u001b[92m -0.4469318389892578 \u001b[0m(-0.004367709159851074)\n",
            "     | > avg_loss_dur:\u001b[91m 0.6666731834411621 \u001b[0m(+0.013494789600372314)\n",
            "\n"
          ]
        },
        {
          "output_type": "stream",
          "name": "stdout",
          "text": [
            " | > Synthesizing test sentences.\n"
          ]
        },
        {
          "output_type": "stream",
          "name": "stderr",
          "text": [
            "\n",
            "  \u001b[1m--> EVAL PERFORMANCE\u001b[0m\n",
            "     | > avg_loader_time: 0.626676082611084 \u001b[0m(+0.0)\n",
            "     | > avg_loss: 0.2197413444519043 \u001b[0m(+0.0)\n",
            "     | > avg_log_mle: -0.4469318389892578 \u001b[0m(+0.0)\n",
            "     | > avg_loss_dur: 0.6666731834411621 \u001b[0m(+0.0)\n",
            "\n",
            "\n",
            "\u001b[4m\u001b[1m > EPOCH: 139/160\u001b[0m\n",
            " --> /content/drive/MyDrive/dataset/cloned/run-July-20-2023_10+24PM-0000000\n",
            "\n",
            "\u001b[1m > TRAINING (2023-07-21 00:17:48) \u001b[0m\n",
            "\n",
            "\u001b[1m > EVALUATION \u001b[0m\n",
            "\n",
            "\n",
            "  \u001b[1m--> EVAL PERFORMANCE\u001b[0m\n",
            "     | > avg_loader_time:\u001b[92m 0.39310431480407715 \u001b[0m(-0.23357176780700684)\n",
            "     | > avg_loss:\u001b[92m 0.19869506359100342 \u001b[0m(-0.02104628086090088)\n",
            "     | > avg_log_mle:\u001b[92m -0.4673652648925781 \u001b[0m(-0.020433425903320312)\n",
            "     | > avg_loss_dur:\u001b[92m 0.6660603284835815 \u001b[0m(-0.0006128549575805664)\n",
            "\n"
          ]
        },
        {
          "output_type": "stream",
          "name": "stdout",
          "text": [
            " | > Synthesizing test sentences.\n"
          ]
        },
        {
          "output_type": "stream",
          "name": "stderr",
          "text": [
            "\n",
            "  \u001b[1m--> EVAL PERFORMANCE\u001b[0m\n",
            "     | > avg_loader_time: 0.39310431480407715 \u001b[0m(+0.0)\n",
            "     | > avg_loss: 0.19869506359100342 \u001b[0m(+0.0)\n",
            "     | > avg_log_mle: -0.4673652648925781 \u001b[0m(+0.0)\n",
            "     | > avg_loss_dur: 0.6660603284835815 \u001b[0m(+0.0)\n",
            "\n",
            "\n",
            "\u001b[4m\u001b[1m > EPOCH: 140/160\u001b[0m\n",
            " --> /content/drive/MyDrive/dataset/cloned/run-July-20-2023_10+24PM-0000000\n",
            "\n",
            "\u001b[1m > TRAINING (2023-07-21 00:18:39) \u001b[0m\n",
            "\n",
            "\u001b[1m > EVALUATION \u001b[0m\n",
            "\n",
            "\n",
            "  \u001b[1m--> EVAL PERFORMANCE\u001b[0m\n",
            "     | > avg_loader_time:\u001b[91m 0.5176379680633545 \u001b[0m(+0.12453365325927734)\n",
            "     | > avg_loss:\u001b[92m 0.1785515546798706 \u001b[0m(-0.020143508911132812)\n",
            "     | > avg_log_mle:\u001b[92m -0.4694674015045166 \u001b[0m(-0.0021021366119384766)\n",
            "     | > avg_loss_dur:\u001b[92m 0.6480189561843872 \u001b[0m(-0.018041372299194336)\n",
            "\n"
          ]
        },
        {
          "output_type": "stream",
          "name": "stdout",
          "text": [
            " | > Synthesizing test sentences.\n"
          ]
        },
        {
          "output_type": "stream",
          "name": "stderr",
          "text": [
            "\n",
            "  \u001b[1m--> EVAL PERFORMANCE\u001b[0m\n",
            "     | > avg_loader_time: 0.5176379680633545 \u001b[0m(+0.0)\n",
            "     | > avg_loss: 0.1785515546798706 \u001b[0m(+0.0)\n",
            "     | > avg_log_mle: -0.4694674015045166 \u001b[0m(+0.0)\n",
            "     | > avg_loss_dur: 0.6480189561843872 \u001b[0m(+0.0)\n",
            "\n",
            "\n",
            "\u001b[4m\u001b[1m > EPOCH: 141/160\u001b[0m\n",
            " --> /content/drive/MyDrive/dataset/cloned/run-July-20-2023_10+24PM-0000000\n",
            "\n",
            "\u001b[1m > TRAINING (2023-07-21 00:19:27) \u001b[0m\n",
            "\n",
            "\u001b[1m   --> TIME: 2023-07-21 00:19:55 -- STEP: 79/81 -- GLOBAL_STEP: 11500\u001b[0m\n",
            "     | > loss: 0.04165959358215332  (0.081525010021427)\n",
            "     | > log_mle: -0.5053272247314453  (-0.4529762705670127)\n",
            "     | > loss_dur: 0.5469868183135986  (0.5345012805884398)\n",
            "     | > amp_scaler: 2048.0  (2048.0)\n",
            "     | > grad_norm: tensor(92.8558, device='cuda:0')  (tensor(39.3314, device='cuda:0'))\n",
            "     | > current_lr: 3.5249999999999996e-05 \n",
            "     | > step_time: 0.2317  (0.3313430502444883)\n",
            "     | > loader_time: 0.0029  (0.00462967232812809)\n",
            "\n",
            "\n",
            "\u001b[1m > EVALUATION \u001b[0m\n",
            "\n",
            "\n",
            "  \u001b[1m--> EVAL PERFORMANCE\u001b[0m\n",
            "     | > avg_loader_time:\u001b[92m 0.39874696731567383 \u001b[0m(-0.11889100074768066)\n",
            "     | > avg_loss:\u001b[91m 0.1924949288368225 \u001b[0m(+0.013943374156951904)\n",
            "     | > avg_log_mle:\u001b[92m -0.4696226119995117 \u001b[0m(-0.0001552104949951172)\n",
            "     | > avg_loss_dur:\u001b[91m 0.6621175408363342 \u001b[0m(+0.014098584651947021)\n",
            "\n"
          ]
        },
        {
          "output_type": "stream",
          "name": "stdout",
          "text": [
            " | > Synthesizing test sentences.\n"
          ]
        },
        {
          "output_type": "stream",
          "name": "stderr",
          "text": [
            "\n",
            "  \u001b[1m--> EVAL PERFORMANCE\u001b[0m\n",
            "     | > avg_loader_time: 0.39874696731567383 \u001b[0m(+0.0)\n",
            "     | > avg_loss: 0.1924949288368225 \u001b[0m(+0.0)\n",
            "     | > avg_log_mle: -0.4696226119995117 \u001b[0m(+0.0)\n",
            "     | > avg_loss_dur: 0.6621175408363342 \u001b[0m(+0.0)\n",
            "\n",
            "\n",
            "\u001b[4m\u001b[1m > EPOCH: 142/160\u001b[0m\n",
            " --> /content/drive/MyDrive/dataset/cloned/run-July-20-2023_10+24PM-0000000\n",
            "\n",
            "\u001b[1m > TRAINING (2023-07-21 00:20:10) \u001b[0m\n",
            "\n",
            "\u001b[1m > EVALUATION \u001b[0m\n",
            "\n",
            "\n",
            "  \u001b[1m--> EVAL PERFORMANCE\u001b[0m\n",
            "     | > avg_loader_time:\u001b[91m 1.8070147037506104 \u001b[0m(+1.4082677364349365)\n",
            "     | > avg_loss:\u001b[92m 0.16642701625823975 \u001b[0m(-0.026067912578582764)\n",
            "     | > avg_log_mle:\u001b[92m -0.4770444631576538 \u001b[0m(-0.00742185115814209)\n",
            "     | > avg_loss_dur:\u001b[92m 0.6434714794158936 \u001b[0m(-0.018646061420440674)\n",
            "\n"
          ]
        },
        {
          "output_type": "stream",
          "name": "stdout",
          "text": [
            " | > Synthesizing test sentences.\n"
          ]
        },
        {
          "output_type": "stream",
          "name": "stderr",
          "text": [
            "\n",
            "  \u001b[1m--> EVAL PERFORMANCE\u001b[0m\n",
            "     | > avg_loader_time: 1.8070147037506104 \u001b[0m(+0.0)\n",
            "     | > avg_loss: 0.16642701625823975 \u001b[0m(+0.0)\n",
            "     | > avg_log_mle: -0.4770444631576538 \u001b[0m(+0.0)\n",
            "     | > avg_loss_dur: 0.6434714794158936 \u001b[0m(+0.0)\n",
            "\n",
            "\n",
            "\u001b[4m\u001b[1m > EPOCH: 143/160\u001b[0m\n",
            " --> /content/drive/MyDrive/dataset/cloned/run-July-20-2023_10+24PM-0000000\n",
            "\n",
            "\u001b[1m > TRAINING (2023-07-21 00:20:59) \u001b[0m\n",
            "\n",
            "\u001b[1m > EVALUATION \u001b[0m\n",
            "\n",
            "\n",
            "  \u001b[1m--> EVAL PERFORMANCE\u001b[0m\n",
            "     | > avg_loader_time:\u001b[92m 0.5891218185424805 \u001b[0m(-1.2178928852081299)\n",
            "     | > avg_loss:\u001b[92m 0.16235947608947754 \u001b[0m(-0.004067540168762207)\n",
            "     | > avg_log_mle:\u001b[92m -0.48385632038116455 \u001b[0m(-0.006811857223510742)\n",
            "     | > avg_loss_dur:\u001b[91m 0.6462157964706421 \u001b[0m(+0.002744317054748535)\n",
            "\n"
          ]
        },
        {
          "output_type": "stream",
          "name": "stdout",
          "text": [
            " | > Synthesizing test sentences.\n"
          ]
        },
        {
          "output_type": "stream",
          "name": "stderr",
          "text": [
            "\n",
            "  \u001b[1m--> EVAL PERFORMANCE\u001b[0m\n",
            "     | > avg_loader_time: 0.5891218185424805 \u001b[0m(+0.0)\n",
            "     | > avg_loss: 0.16235947608947754 \u001b[0m(+0.0)\n",
            "     | > avg_log_mle: -0.48385632038116455 \u001b[0m(+0.0)\n",
            "     | > avg_loss_dur: 0.6462157964706421 \u001b[0m(+0.0)\n",
            "\n",
            "\n",
            "\u001b[4m\u001b[1m > EPOCH: 144/160\u001b[0m\n",
            " --> /content/drive/MyDrive/dataset/cloned/run-July-20-2023_10+24PM-0000000\n",
            "\n",
            "\u001b[1m > TRAINING (2023-07-21 00:21:44) \u001b[0m\n",
            "\n",
            "\u001b[1m > EVALUATION \u001b[0m\n",
            "\n",
            "\n",
            "  \u001b[1m--> EVAL PERFORMANCE\u001b[0m\n",
            "     | > avg_loader_time:\u001b[92m 0.40827131271362305 \u001b[0m(-0.18085050582885742)\n",
            "     | > avg_loss:\u001b[91m 0.2316833734512329 \u001b[0m(+0.06932389736175537)\n",
            "     | > avg_log_mle:\u001b[91m -0.4587986469268799 \u001b[0m(+0.025057673454284668)\n",
            "     | > avg_loss_dur:\u001b[91m 0.6904820203781128 \u001b[0m(+0.0442662239074707)\n",
            "\n"
          ]
        },
        {
          "output_type": "stream",
          "name": "stdout",
          "text": [
            " | > Synthesizing test sentences.\n"
          ]
        },
        {
          "output_type": "stream",
          "name": "stderr",
          "text": [
            "\n",
            "  \u001b[1m--> EVAL PERFORMANCE\u001b[0m\n",
            "     | > avg_loader_time: 0.40827131271362305 \u001b[0m(+0.0)\n",
            "     | > avg_loss: 0.2316833734512329 \u001b[0m(+0.0)\n",
            "     | > avg_log_mle: -0.4587986469268799 \u001b[0m(+0.0)\n",
            "     | > avg_loss_dur: 0.6904820203781128 \u001b[0m(+0.0)\n",
            "\n",
            "\n",
            "\u001b[4m\u001b[1m > EPOCH: 145/160\u001b[0m\n",
            " --> /content/drive/MyDrive/dataset/cloned/run-July-20-2023_10+24PM-0000000\n",
            "\n",
            "\u001b[1m > TRAINING (2023-07-21 00:22:29) \u001b[0m\n",
            "\n",
            "\u001b[1m > EVALUATION \u001b[0m\n",
            "\n",
            "\n",
            "  \u001b[1m--> EVAL PERFORMANCE\u001b[0m\n",
            "     | > avg_loader_time:\u001b[92m 0.4057652950286865 \u001b[0m(-0.0025060176849365234)\n",
            "     | > avg_loss:\u001b[92m 0.17801791429519653 \u001b[0m(-0.05366545915603638)\n",
            "     | > avg_log_mle:\u001b[92m -0.4636414051055908 \u001b[0m(-0.0048427581787109375)\n",
            "     | > avg_loss_dur:\u001b[92m 0.6416593194007874 \u001b[0m(-0.04882270097732544)\n",
            "\n"
          ]
        },
        {
          "output_type": "stream",
          "name": "stdout",
          "text": [
            " | > Synthesizing test sentences.\n"
          ]
        },
        {
          "output_type": "stream",
          "name": "stderr",
          "text": [
            "\n",
            "  \u001b[1m--> EVAL PERFORMANCE\u001b[0m\n",
            "     | > avg_loader_time: 0.4057652950286865 \u001b[0m(+0.0)\n",
            "     | > avg_loss: 0.17801791429519653 \u001b[0m(+0.0)\n",
            "     | > avg_log_mle: -0.4636414051055908 \u001b[0m(+0.0)\n",
            "     | > avg_loss_dur: 0.6416593194007874 \u001b[0m(+0.0)\n",
            "\n",
            "\n",
            "\u001b[4m\u001b[1m > EPOCH: 146/160\u001b[0m\n",
            " --> /content/drive/MyDrive/dataset/cloned/run-July-20-2023_10+24PM-0000000\n",
            "\n",
            "\u001b[1m > TRAINING (2023-07-21 00:23:15) \u001b[0m\n",
            "\n",
            "\u001b[1m > EVALUATION \u001b[0m\n",
            "\n",
            "\n",
            "  \u001b[1m--> EVAL PERFORMANCE\u001b[0m\n",
            "     | > avg_loader_time:\u001b[91m 0.42472219467163086 \u001b[0m(+0.018956899642944336)\n",
            "     | > avg_loss:\u001b[91m 0.21258485317230225 \u001b[0m(+0.03456693887710571)\n",
            "     | > avg_log_mle:\u001b[92m -0.4739941358566284 \u001b[0m(-0.010352730751037598)\n",
            "     | > avg_loss_dur:\u001b[91m 0.6865789890289307 \u001b[0m(+0.04491966962814331)\n",
            "\n"
          ]
        },
        {
          "output_type": "stream",
          "name": "stdout",
          "text": [
            " | > Synthesizing test sentences.\n"
          ]
        },
        {
          "output_type": "stream",
          "name": "stderr",
          "text": [
            "\n",
            "  \u001b[1m--> EVAL PERFORMANCE\u001b[0m\n",
            "     | > avg_loader_time: 0.42472219467163086 \u001b[0m(+0.0)\n",
            "     | > avg_loss: 0.21258485317230225 \u001b[0m(+0.0)\n",
            "     | > avg_log_mle: -0.4739941358566284 \u001b[0m(+0.0)\n",
            "     | > avg_loss_dur: 0.6865789890289307 \u001b[0m(+0.0)\n",
            "\n",
            "\n",
            "\u001b[4m\u001b[1m > EPOCH: 147/160\u001b[0m\n",
            " --> /content/drive/MyDrive/dataset/cloned/run-July-20-2023_10+24PM-0000000\n",
            "\n",
            "\u001b[1m > TRAINING (2023-07-21 00:24:05) \u001b[0m\n",
            "\n",
            "\u001b[1m > EVALUATION \u001b[0m\n",
            "\n",
            "\n",
            "  \u001b[1m--> EVAL PERFORMANCE\u001b[0m\n",
            "     | > avg_loader_time:\u001b[92m 0.3947765827178955 \u001b[0m(-0.02994561195373535)\n",
            "     | > avg_loss:\u001b[91m 0.25113505125045776 \u001b[0m(+0.03855019807815552)\n",
            "     | > avg_log_mle:\u001b[91m -0.4576452970504761 \u001b[0m(+0.016348838806152344)\n",
            "     | > avg_loss_dur:\u001b[91m 0.7087803483009338 \u001b[0m(+0.022201359272003174)\n",
            "\n"
          ]
        },
        {
          "output_type": "stream",
          "name": "stdout",
          "text": [
            " | > Synthesizing test sentences.\n"
          ]
        },
        {
          "output_type": "stream",
          "name": "stderr",
          "text": [
            "\n",
            "  \u001b[1m--> EVAL PERFORMANCE\u001b[0m\n",
            "     | > avg_loader_time: 0.3947765827178955 \u001b[0m(+0.0)\n",
            "     | > avg_loss: 0.25113505125045776 \u001b[0m(+0.0)\n",
            "     | > avg_log_mle: -0.4576452970504761 \u001b[0m(+0.0)\n",
            "     | > avg_loss_dur: 0.7087803483009338 \u001b[0m(+0.0)\n",
            "\n",
            "\n",
            "\u001b[4m\u001b[1m > EPOCH: 148/160\u001b[0m\n",
            " --> /content/drive/MyDrive/dataset/cloned/run-July-20-2023_10+24PM-0000000\n",
            "\n",
            "\u001b[1m > TRAINING (2023-07-21 00:24:49) \u001b[0m\n",
            "\n",
            "\u001b[1m   --> TIME: 2023-07-21 00:24:54 -- STEP: 12/81 -- GLOBAL_STEP: 12000\u001b[0m\n",
            "     | > loss: 0.0145987868309021  (0.018171319117148716)\n",
            "     | > log_mle: -0.639807939529419  (-0.4508003195126851)\n",
            "     | > loss_dur: 0.654406726360321  (0.4689716386298339)\n",
            "     | > amp_scaler: 1024.0  (1024.0)\n",
            "     | > grad_norm: tensor(122.4791, device='cuda:0')  (tensor(43.5231, device='cuda:0'))\n",
            "     | > current_lr: 3.7000000000000005e-05 \n",
            "     | > step_time: 0.2841  (0.2880762020746867)\n",
            "     | > loader_time: 0.0042  (0.004479646682739259)\n",
            "\n",
            "\n",
            "\u001b[1m > EVALUATION \u001b[0m\n",
            "\n",
            "\n",
            "  \u001b[1m--> EVAL PERFORMANCE\u001b[0m\n",
            "     | > avg_loader_time:\u001b[91m 0.6417348384857178 \u001b[0m(+0.24695825576782227)\n",
            "     | > avg_loss:\u001b[92m 0.21604794263839722 \u001b[0m(-0.03508710861206055)\n",
            "     | > avg_log_mle:\u001b[92m -0.48842644691467285 \u001b[0m(-0.030781149864196777)\n",
            "     | > avg_loss_dur:\u001b[92m 0.7044743895530701 \u001b[0m(-0.0043059587478637695)\n",
            "\n"
          ]
        },
        {
          "output_type": "stream",
          "name": "stdout",
          "text": [
            " | > Synthesizing test sentences.\n"
          ]
        },
        {
          "output_type": "stream",
          "name": "stderr",
          "text": [
            "\n",
            "  \u001b[1m--> EVAL PERFORMANCE\u001b[0m\n",
            "     | > avg_loader_time: 0.6417348384857178 \u001b[0m(+0.0)\n",
            "     | > avg_loss: 0.21604794263839722 \u001b[0m(+0.0)\n",
            "     | > avg_log_mle: -0.48842644691467285 \u001b[0m(+0.0)\n",
            "     | > avg_loss_dur: 0.7044743895530701 \u001b[0m(+0.0)\n",
            "\n",
            "\n",
            "\u001b[4m\u001b[1m > EPOCH: 149/160\u001b[0m\n",
            " --> /content/drive/MyDrive/dataset/cloned/run-July-20-2023_10+24PM-0000000\n",
            "\n",
            "\u001b[1m > TRAINING (2023-07-21 00:25:33) \u001b[0m\n",
            "\n",
            "\u001b[1m > EVALUATION \u001b[0m\n",
            "\n",
            "\n",
            "  \u001b[1m--> EVAL PERFORMANCE\u001b[0m\n",
            "     | > avg_loader_time:\u001b[92m 0.628770112991333 \u001b[0m(-0.012964725494384766)\n",
            "     | > avg_loss:\u001b[92m 0.1397140622138977 \u001b[0m(-0.07633388042449951)\n",
            "     | > avg_log_mle:\u001b[92m -0.49577486515045166 \u001b[0m(-0.007348418235778809)\n",
            "     | > avg_loss_dur:\u001b[92m 0.6354889273643494 \u001b[0m(-0.0689854621887207)\n",
            "\n"
          ]
        },
        {
          "output_type": "stream",
          "name": "stdout",
          "text": [
            " | > Synthesizing test sentences.\n"
          ]
        },
        {
          "output_type": "stream",
          "name": "stderr",
          "text": [
            "\n",
            "  \u001b[1m--> EVAL PERFORMANCE\u001b[0m\n",
            "     | > avg_loader_time: 0.628770112991333 \u001b[0m(+0.0)\n",
            "     | > avg_loss: 0.1397140622138977 \u001b[0m(+0.0)\n",
            "     | > avg_log_mle: -0.49577486515045166 \u001b[0m(+0.0)\n",
            "     | > avg_loss_dur: 0.6354889273643494 \u001b[0m(+0.0)\n",
            "\n",
            "\n",
            "\u001b[4m\u001b[1m > EPOCH: 150/160\u001b[0m\n",
            " --> /content/drive/MyDrive/dataset/cloned/run-July-20-2023_10+24PM-0000000\n",
            "\n",
            "\u001b[1m > TRAINING (2023-07-21 00:26:22) \u001b[0m\n",
            "\n",
            "\u001b[1m > EVALUATION \u001b[0m\n",
            "\n",
            "\n",
            "  \u001b[1m--> EVAL PERFORMANCE\u001b[0m\n",
            "     | > avg_loader_time:\u001b[92m 0.4296555519104004 \u001b[0m(-0.19911456108093262)\n",
            "     | > avg_loss:\u001b[91m 0.2525964379310608 \u001b[0m(+0.11288237571716309)\n",
            "     | > avg_log_mle:\u001b[91m -0.4655897617340088 \u001b[0m(+0.03018510341644287)\n",
            "     | > avg_loss_dur:\u001b[91m 0.7181861996650696 \u001b[0m(+0.08269727230072021)\n",
            "\n"
          ]
        },
        {
          "output_type": "stream",
          "name": "stdout",
          "text": [
            " | > Synthesizing test sentences.\n"
          ]
        },
        {
          "output_type": "stream",
          "name": "stderr",
          "text": [
            "\n",
            "  \u001b[1m--> EVAL PERFORMANCE\u001b[0m\n",
            "     | > avg_loader_time: 0.4296555519104004 \u001b[0m(+0.0)\n",
            "     | > avg_loss: 0.2525964379310608 \u001b[0m(+0.0)\n",
            "     | > avg_log_mle: -0.4655897617340088 \u001b[0m(+0.0)\n",
            "     | > avg_loss_dur: 0.7181861996650696 \u001b[0m(+0.0)\n",
            "\n",
            "\n",
            "\u001b[4m\u001b[1m > EPOCH: 151/160\u001b[0m\n",
            " --> /content/drive/MyDrive/dataset/cloned/run-July-20-2023_10+24PM-0000000\n",
            "\n",
            "\u001b[1m > TRAINING (2023-07-21 00:27:11) \u001b[0m\n",
            "\n",
            "\u001b[1m > EVALUATION \u001b[0m\n",
            "\n",
            "\n",
            "  \u001b[1m--> EVAL PERFORMANCE\u001b[0m\n",
            "     | > avg_loader_time:\u001b[92m 0.4091520309448242 \u001b[0m(-0.020503520965576172)\n",
            "     | > avg_loss:\u001b[92m 0.16093522310256958 \u001b[0m(-0.09166121482849121)\n",
            "     | > avg_log_mle:\u001b[92m -0.5075056552886963 \u001b[0m(-0.0419158935546875)\n",
            "     | > avg_loss_dur:\u001b[92m 0.6684408783912659 \u001b[0m(-0.04974532127380371)\n",
            "\n"
          ]
        },
        {
          "output_type": "stream",
          "name": "stdout",
          "text": [
            " | > Synthesizing test sentences.\n"
          ]
        },
        {
          "output_type": "stream",
          "name": "stderr",
          "text": [
            "\n",
            "  \u001b[1m--> EVAL PERFORMANCE\u001b[0m\n",
            "     | > avg_loader_time: 0.4091520309448242 \u001b[0m(+0.0)\n",
            "     | > avg_loss: 0.16093522310256958 \u001b[0m(+0.0)\n",
            "     | > avg_log_mle: -0.5075056552886963 \u001b[0m(+0.0)\n",
            "     | > avg_loss_dur: 0.6684408783912659 \u001b[0m(+0.0)\n",
            "\n",
            "\n",
            "\u001b[4m\u001b[1m > EPOCH: 152/160\u001b[0m\n",
            " --> /content/drive/MyDrive/dataset/cloned/run-July-20-2023_10+24PM-0000000\n",
            "\n",
            "\u001b[1m > TRAINING (2023-07-21 00:27:58) \u001b[0m\n",
            "\n",
            "\u001b[1m > EVALUATION \u001b[0m\n",
            "\n",
            "\n",
            "  \u001b[1m--> EVAL PERFORMANCE\u001b[0m\n",
            "     | > avg_loader_time:\u001b[92m 0.3921701908111572 \u001b[0m(-0.016981840133666992)\n",
            "     | > avg_loss:\u001b[91m 0.17057251930236816 \u001b[0m(+0.009637296199798584)\n",
            "     | > avg_log_mle:\u001b[91m -0.496524453163147 \u001b[0m(+0.010981202125549316)\n",
            "     | > avg_loss_dur:\u001b[92m 0.6670969724655151 \u001b[0m(-0.0013439059257507324)\n",
            "\n"
          ]
        },
        {
          "output_type": "stream",
          "name": "stdout",
          "text": [
            " | > Synthesizing test sentences.\n"
          ]
        },
        {
          "output_type": "stream",
          "name": "stderr",
          "text": [
            "\n",
            "  \u001b[1m--> EVAL PERFORMANCE\u001b[0m\n",
            "     | > avg_loader_time: 0.3921701908111572 \u001b[0m(+0.0)\n",
            "     | > avg_loss: 0.17057251930236816 \u001b[0m(+0.0)\n",
            "     | > avg_log_mle: -0.496524453163147 \u001b[0m(+0.0)\n",
            "     | > avg_loss_dur: 0.6670969724655151 \u001b[0m(+0.0)\n",
            "\n",
            "\n",
            "\u001b[4m\u001b[1m > EPOCH: 153/160\u001b[0m\n",
            " --> /content/drive/MyDrive/dataset/cloned/run-July-20-2023_10+24PM-0000000\n",
            "\n",
            "\u001b[1m > TRAINING (2023-07-21 00:28:45) \u001b[0m\n",
            "\n",
            "\u001b[1m > EVALUATION \u001b[0m\n",
            "\n",
            "\n",
            "  \u001b[1m--> EVAL PERFORMANCE\u001b[0m\n",
            "     | > avg_loader_time:\u001b[91m 0.40947985649108887 \u001b[0m(+0.01730966567993164)\n",
            "     | > avg_loss:\u001b[91m 0.2322748899459839 \u001b[0m(+0.06170237064361572)\n",
            "     | > avg_log_mle:\u001b[92m -0.5069252252578735 \u001b[0m(-0.010400772094726562)\n",
            "     | > avg_loss_dur:\u001b[91m 0.7392001152038574 \u001b[0m(+0.07210314273834229)\n",
            "\n"
          ]
        },
        {
          "output_type": "stream",
          "name": "stdout",
          "text": [
            " | > Synthesizing test sentences.\n"
          ]
        },
        {
          "output_type": "stream",
          "name": "stderr",
          "text": [
            "\n",
            "  \u001b[1m--> EVAL PERFORMANCE\u001b[0m\n",
            "     | > avg_loader_time: 0.40947985649108887 \u001b[0m(+0.0)\n",
            "     | > avg_loss: 0.2322748899459839 \u001b[0m(+0.0)\n",
            "     | > avg_log_mle: -0.5069252252578735 \u001b[0m(+0.0)\n",
            "     | > avg_loss_dur: 0.7392001152038574 \u001b[0m(+0.0)\n",
            "\n",
            "\n",
            "\u001b[4m\u001b[1m > EPOCH: 154/160\u001b[0m\n",
            " --> /content/drive/MyDrive/dataset/cloned/run-July-20-2023_10+24PM-0000000\n",
            "\n",
            "\u001b[1m > TRAINING (2023-07-21 00:29:30) \u001b[0m\n",
            "\n",
            "\u001b[1m   --> TIME: 2023-07-21 00:29:39 -- STEP: 26/81 -- GLOBAL_STEP: 12500\u001b[0m\n",
            "     | > loss: 0.24421769380569458  (0.016706915429005258)\n",
            "     | > log_mle: -0.6016150712966919  (-0.46644105361058164)\n",
            "     | > loss_dur: 0.8458327651023865  (0.4831479690395869)\n",
            "     | > amp_scaler: 1024.0  (1024.0)\n",
            "     | > grad_norm: tensor(64.9420, device='cuda:0')  (tensor(37.2895, device='cuda:0'))\n",
            "     | > current_lr: 3.85e-05 \n",
            "     | > step_time: 0.3516  (0.290316343307495)\n",
            "     | > loader_time: 0.0035  (0.004129785757798415)\n",
            "\n",
            "\n",
            "\u001b[1m > EVALUATION \u001b[0m\n",
            "\n",
            "\n",
            "  \u001b[1m--> EVAL PERFORMANCE\u001b[0m\n",
            "     | > avg_loader_time:\u001b[91m 0.5418291091918945 \u001b[0m(+0.13234925270080566)\n",
            "     | > avg_loss:\u001b[92m 0.19407272338867188 \u001b[0m(-0.03820216655731201)\n",
            "     | > avg_log_mle:\u001b[91m -0.4982339143753052 \u001b[0m(+0.00869131088256836)\n",
            "     | > avg_loss_dur:\u001b[92m 0.692306637763977 \u001b[0m(-0.04689347743988037)\n",
            "\n"
          ]
        },
        {
          "output_type": "stream",
          "name": "stdout",
          "text": [
            " | > Synthesizing test sentences.\n"
          ]
        },
        {
          "output_type": "stream",
          "name": "stderr",
          "text": [
            "\n",
            "  \u001b[1m--> EVAL PERFORMANCE\u001b[0m\n",
            "     | > avg_loader_time: 0.5418291091918945 \u001b[0m(+0.0)\n",
            "     | > avg_loss: 0.19407272338867188 \u001b[0m(+0.0)\n",
            "     | > avg_log_mle: -0.4982339143753052 \u001b[0m(+0.0)\n",
            "     | > avg_loss_dur: 0.692306637763977 \u001b[0m(+0.0)\n",
            "\n",
            "\n",
            "\u001b[4m\u001b[1m > EPOCH: 155/160\u001b[0m\n",
            " --> /content/drive/MyDrive/dataset/cloned/run-July-20-2023_10+24PM-0000000\n",
            "\n",
            "\u001b[1m > TRAINING (2023-07-21 00:30:14) \u001b[0m\n",
            "\n",
            "\u001b[1m > EVALUATION \u001b[0m\n",
            "\n",
            "\n",
            "  \u001b[1m--> EVAL PERFORMANCE\u001b[0m\n",
            "     | > avg_loader_time:\u001b[91m 0.6286356449127197 \u001b[0m(+0.0868065357208252)\n",
            "     | > avg_loss:\u001b[92m 0.1379144787788391 \u001b[0m(-0.056158244609832764)\n",
            "     | > avg_log_mle:\u001b[92m -0.5134991407394409 \u001b[0m(-0.015265226364135742)\n",
            "     | > avg_loss_dur:\u001b[92m 0.65141361951828 \u001b[0m(-0.04089301824569702)\n",
            "\n"
          ]
        },
        {
          "output_type": "stream",
          "name": "stdout",
          "text": [
            " | > Synthesizing test sentences.\n"
          ]
        },
        {
          "output_type": "stream",
          "name": "stderr",
          "text": [
            "\n",
            "  \u001b[1m--> EVAL PERFORMANCE\u001b[0m\n",
            "     | > avg_loader_time: 0.6286356449127197 \u001b[0m(+0.0)\n",
            "     | > avg_loss: 0.1379144787788391 \u001b[0m(+0.0)\n",
            "     | > avg_log_mle: -0.5134991407394409 \u001b[0m(+0.0)\n",
            "     | > avg_loss_dur: 0.65141361951828 \u001b[0m(+0.0)\n",
            "\n",
            " > BEST MODEL : /content/drive/MyDrive/dataset/cloned/run-July-20-2023_10+24PM-0000000/best_model_12636.pth\n",
            "\n",
            "\u001b[4m\u001b[1m > EPOCH: 156/160\u001b[0m\n",
            " --> /content/drive/MyDrive/dataset/cloned/run-July-20-2023_10+24PM-0000000\n",
            "\n",
            "\u001b[1m > TRAINING (2023-07-21 00:31:04) \u001b[0m\n",
            "\n",
            "\u001b[1m > EVALUATION \u001b[0m\n",
            "\n",
            "\n",
            "  \u001b[1m--> EVAL PERFORMANCE\u001b[0m\n",
            "     | > avg_loader_time:\u001b[92m 0.3979816436767578 \u001b[0m(-0.23065400123596191)\n",
            "     | > avg_loss:\u001b[91m 0.15834569931030273 \u001b[0m(+0.020431220531463623)\n",
            "     | > avg_log_mle:\u001b[92m -0.5207948684692383 \u001b[0m(-0.007295727729797363)\n",
            "     | > avg_loss_dur:\u001b[91m 0.679140567779541 \u001b[0m(+0.027726948261260986)\n",
            "\n"
          ]
        },
        {
          "output_type": "stream",
          "name": "stdout",
          "text": [
            " | > Synthesizing test sentences.\n"
          ]
        },
        {
          "output_type": "stream",
          "name": "stderr",
          "text": [
            "\n",
            "  \u001b[1m--> EVAL PERFORMANCE\u001b[0m\n",
            "     | > avg_loader_time: 0.3979816436767578 \u001b[0m(+0.0)\n",
            "     | > avg_loss: 0.15834569931030273 \u001b[0m(+0.0)\n",
            "     | > avg_log_mle: -0.5207948684692383 \u001b[0m(+0.0)\n",
            "     | > avg_loss_dur: 0.679140567779541 \u001b[0m(+0.0)\n",
            "\n",
            "\n",
            "\u001b[4m\u001b[1m > EPOCH: 157/160\u001b[0m\n",
            " --> /content/drive/MyDrive/dataset/cloned/run-July-20-2023_10+24PM-0000000\n",
            "\n",
            "\u001b[1m > TRAINING (2023-07-21 00:31:55) \u001b[0m\n",
            "\n",
            "\u001b[1m > EVALUATION \u001b[0m\n",
            "\n",
            "\n",
            "  \u001b[1m--> EVAL PERFORMANCE\u001b[0m\n",
            "     | > avg_loader_time:\u001b[91m 0.4439864158630371 \u001b[0m(+0.0460047721862793)\n",
            "     | > avg_loss:\u001b[91m 0.2582322359085083 \u001b[0m(+0.09988653659820557)\n",
            "     | > avg_log_mle:\u001b[91m -0.5021816492080688 \u001b[0m(+0.018613219261169434)\n",
            "     | > avg_loss_dur:\u001b[91m 0.7604138851165771 \u001b[0m(+0.08127331733703613)\n",
            "\n"
          ]
        },
        {
          "output_type": "stream",
          "name": "stdout",
          "text": [
            " | > Synthesizing test sentences.\n"
          ]
        },
        {
          "output_type": "stream",
          "name": "stderr",
          "text": [
            "\n",
            "  \u001b[1m--> EVAL PERFORMANCE\u001b[0m\n",
            "     | > avg_loader_time: 0.4439864158630371 \u001b[0m(+0.0)\n",
            "     | > avg_loss: 0.2582322359085083 \u001b[0m(+0.0)\n",
            "     | > avg_log_mle: -0.5021816492080688 \u001b[0m(+0.0)\n",
            "     | > avg_loss_dur: 0.7604138851165771 \u001b[0m(+0.0)\n",
            "\n",
            "\n",
            "\u001b[4m\u001b[1m > EPOCH: 158/160\u001b[0m\n",
            " --> /content/drive/MyDrive/dataset/cloned/run-July-20-2023_10+24PM-0000000\n",
            "\n",
            "\u001b[1m > TRAINING (2023-07-21 00:32:42) \u001b[0m\n",
            "\n",
            "\u001b[1m > EVALUATION \u001b[0m\n",
            "\n",
            "\n",
            "  \u001b[1m--> EVAL PERFORMANCE\u001b[0m\n",
            "     | > avg_loader_time:\u001b[92m 0.4283297061920166 \u001b[0m(-0.015656709671020508)\n",
            "     | > avg_loss:\u001b[92m 0.22089654207229614 \u001b[0m(-0.03733569383621216)\n",
            "     | > avg_log_mle:\u001b[92m -0.5081812143325806 \u001b[0m(-0.005999565124511719)\n",
            "     | > avg_loss_dur:\u001b[92m 0.7290777564048767 \u001b[0m(-0.03133612871170044)\n",
            "\n"
          ]
        },
        {
          "output_type": "stream",
          "name": "stdout",
          "text": [
            " | > Synthesizing test sentences.\n"
          ]
        },
        {
          "output_type": "stream",
          "name": "stderr",
          "text": [
            "\n",
            "  \u001b[1m--> EVAL PERFORMANCE\u001b[0m\n",
            "     | > avg_loader_time: 0.4283297061920166 \u001b[0m(+0.0)\n",
            "     | > avg_loss: 0.22089654207229614 \u001b[0m(+0.0)\n",
            "     | > avg_log_mle: -0.5081812143325806 \u001b[0m(+0.0)\n",
            "     | > avg_loss_dur: 0.7290777564048767 \u001b[0m(+0.0)\n",
            "\n",
            "\n",
            "\u001b[4m\u001b[1m > EPOCH: 159/160\u001b[0m\n",
            " --> /content/drive/MyDrive/dataset/cloned/run-July-20-2023_10+24PM-0000000\n",
            "\n",
            "\u001b[1m > TRAINING (2023-07-21 00:33:25) \u001b[0m\n",
            "\n",
            "\u001b[1m > EVALUATION \u001b[0m\n",
            "\n",
            "\n",
            "  \u001b[1m--> EVAL PERFORMANCE\u001b[0m\n",
            "     | > avg_loader_time:\u001b[91m 0.7556262016296387 \u001b[0m(+0.32729649543762207)\n",
            "     | > avg_loss:\u001b[92m 0.13410240411758423 \u001b[0m(-0.08679413795471191)\n",
            "     | > avg_log_mle:\u001b[92m -0.5187711715698242 \u001b[0m(-0.010589957237243652)\n",
            "     | > avg_loss_dur:\u001b[92m 0.6528735756874084 \u001b[0m(-0.07620418071746826)\n",
            "\n"
          ]
        },
        {
          "output_type": "stream",
          "name": "stdout",
          "text": [
            " | > Synthesizing test sentences.\n"
          ]
        },
        {
          "output_type": "stream",
          "name": "stderr",
          "text": [
            "\n",
            "  \u001b[1m--> EVAL PERFORMANCE\u001b[0m\n",
            "     | > avg_loader_time: 0.7556262016296387 \u001b[0m(+0.0)\n",
            "     | > avg_loss: 0.13410240411758423 \u001b[0m(+0.0)\n",
            "     | > avg_log_mle: -0.5187711715698242 \u001b[0m(+0.0)\n",
            "     | > avg_loss_dur: 0.6528735756874084 \u001b[0m(+0.0)\n",
            "\n",
            " > BEST MODEL : /content/drive/MyDrive/dataset/cloned/run-July-20-2023_10+24PM-0000000/best_model_12960.pth\n"
          ]
        }
      ],
      "source": [
        "trainer.fit()"
      ]
    },
    {
      "cell_type": "code",
      "execution_count": null,
      "metadata": {
        "id": "ze97iyZTxi2G"
      },
      "outputs": [],
      "source": [
        "import locale\n",
        "locale.getpreferredencoding = lambda: \"UTF-8\""
      ]
    },
    {
      "cell_type": "code",
      "execution_count": null,
      "metadata": {
        "id": "N6sbEnHErXN2"
      },
      "outputs": [],
      "source": [
        "# !pip install tensorboard\n",
        "# !tensorboard --logdir=output_patha"
      ]
    },
    {
      "cell_type": "code",
      "execution_count": null,
      "metadata": {
        "id": "mvqN3cXSr-bc"
      },
      "outputs": [],
      "source": [
        "import glob, os\n",
        "output_path = \"/content/drive/MyDrive/dataset/cloned\"\n",
        "ckpts = sorted([f for f in glob.glob(output_path+\"/*/*.pth\")])\n",
        "configs = sorted([f for f in glob.glob(output_path+\"/*/*.json\")])"
      ]
    },
    {
      "cell_type": "code",
      "execution_count": null,
      "metadata": {
        "id": "ZfYKlzgPsD3M",
        "colab": {
          "base_uri": "https://localhost:8080/"
        },
        "outputId": "a48c9edf-a17d-40e7-b514-04d2ea137d7f"
      },
      "outputs": [
        {
          "output_type": "stream",
          "name": "stdout",
          "text": [
            " > Using model: glow_tts\n",
            " > Setting up Audio Processor...\n",
            " | > sample_rate:22050\n",
            " | > resample:False\n",
            " | > num_mels:80\n",
            " | > log_func:np.log10\n",
            " | > min_level_db:-100\n",
            " | > frame_shift_ms:None\n",
            " | > frame_length_ms:None\n",
            " | > ref_level_db:20\n",
            " | > fft_size:1024\n",
            " | > power:1.5\n",
            " | > preemphasis:0.0\n",
            " | > griffin_lim_iters:60\n",
            " | > signal_norm:True\n",
            " | > symmetric_norm:True\n",
            " | > mel_fmin:0\n",
            " | > mel_fmax:None\n",
            " | > pitch_fmin:1.0\n",
            " | > pitch_fmax:640.0\n",
            " | > spec_gain:20.0\n",
            " | > stft_pad_mode:reflect\n",
            " | > max_norm:4.0\n",
            " | > clip_norm:True\n",
            " | > do_trim_silence:True\n",
            " | > trim_db:45\n",
            " | > do_sound_norm:False\n",
            " | > do_amp_to_db_linear:True\n",
            " | > do_amp_to_db_mel:True\n",
            " | > do_rms_norm:False\n",
            " | > db_level:None\n",
            " | > stats_path:None\n",
            " | > base:10\n",
            " | > hop_length:256\n",
            " | > win_length:1024\n",
            " > Text: How are you?\n",
            " > Text splitted to sentences.\n",
            "['How are you?']\n",
            " > Processing time: 1.3528640270233154\n",
            " > Real-time factor: 1.5319767766980332\n",
            " > Saving output to out.wav\n"
          ]
        }
      ],
      "source": [
        " !tts --text \"How are you?\" \\\n",
        "      --model_path  /content/drive/MyDrive/dataset/cloned/run-July-20-2023_10+24PM-0000000/best_model.pth \\\n",
        "      --config_path /content/drive/MyDrive/dataset/cloned/run-July-20-2023_10+24PM-0000000/config.json \\\n",
        "      --out_path out.wav"
      ]
    },
    {
      "cell_type": "code",
      "execution_count": null,
      "metadata": {
        "id": "MLhFWJdPsEWr",
        "colab": {
          "base_uri": "https://localhost:8080/",
          "height": 75
        },
        "outputId": "697c7ef6-7c31-4d84-cb42-56a5e5675d94"
      },
      "outputs": [
        {
          "output_type": "execute_result",
          "data": {
            "text/plain": [
              "<IPython.lib.display.Audio object>"
            ],
            "text/html": [
              "\n",
              "                <audio  controls=\"controls\" >\n",
              "                    <source src=\"data:audio/x-wav;base64,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\" type=\"audio/x-wav\" />\n",
              "                    Your browser does not support the audio element.\n",
              "                </audio>\n",
              "              "
            ]
          },
          "metadata": {},
          "execution_count": 82
        }
      ],
      "source": [
        "import IPython\n",
        "IPython.display.Audio(\"out.wav\")"
      ]
    },
    {
      "cell_type": "code",
      "source": [
        "! pip install pydub"
      ],
      "metadata": {
        "colab": {
          "base_uri": "https://localhost:8080/"
        },
        "id": "k0Fo0SXh5XjO",
        "outputId": "a4493cdb-eec6-4f18-ab6e-590e280bc707"
      },
      "execution_count": null,
      "outputs": [
        {
          "output_type": "stream",
          "name": "stdout",
          "text": [
            "Collecting pydub\n",
            "  Downloading pydub-0.25.1-py2.py3-none-any.whl (32 kB)\n",
            "Installing collected packages: pydub\n",
            "Successfully installed pydub-0.25.1\n"
          ]
        }
      ]
    },
    {
      "cell_type": "code",
      "execution_count": null,
      "metadata": {
        "id": "6Cr-vnpTx07A"
      },
      "outputs": [],
      "source": [
        "from pydub import AudioSegment as am\n",
        "sound = am.from_file('out.wav', format='wav', frame_rate=16000)\n",
        "sound = sound.set_frame_rate(8000)\n",
        "# sound.export('out.wav', format='wav')"
      ]
    },
    {
      "cell_type": "code",
      "source": [
        "sound"
      ],
      "metadata": {
        "colab": {
          "base_uri": "https://localhost:8080/",
          "height": 75
        },
        "id": "lTaGnh_75WRs",
        "outputId": "099f5127-776a-4be4-9794-d3477e3a980c"
      },
      "execution_count": null,
      "outputs": [
        {
          "output_type": "execute_result",
          "data": {
            "text/plain": [
              "<pydub.audio_segment.AudioSegment at 0x786fbdc4dbd0>"
            ],
            "text/html": [
              "\n",
              "                    <audio controls>\n",
              "                        <source src=\"data:audio/mpeg;base64,SUQzBAAAAAAAI1RTU0UAAAAPAAADTGF2ZjU4Ljc2LjEwMAAAAAAAAAAAAAAA/+M4wAAAAAAAAAAAAEluZm8AAAAPAAAADwAABRAAODg4ODg4R0dHR0dHR1VVVVVVVWNjY2NjY2NxcXFxcXFxgICAgICAjo6Ojo6OjpycnJycnJyqqqqqqqq4uLi4uLi4x8fHx8fHx9XV1dXV1ePj4+Pj4+Px8fHx8fHx////////AAAAAExhdmM1OC4xMwAAAAAAAAAAAAAAACQD5wAAAAAAAAUQNgIuugAAAAAAAAAAAAAAAAAAAAAAAAAAAAAAAAAAAAAAAAAAAAAAAAAAAAAAAAAAAAAA/+MYxAAM2Aa5uUAAAIBkpbtwM+D4IAgcLg4CDsP4nBwEAxg+/+8uD4PmugHw/oygYB8HwfB8CAgGPwIGPp4IAgrvYlA8c1Kc/+MYxAcOYjLcyYcoAKkS1iLGMC0uYz1vlnYVk3/sd5xNwO5///HsQ+yf///smr//9v86MeQWYgb//zCtX//+iv/dgQEcahsw/+MYxAgOAPLsAccYAOvmPfHB9SoywRuxQtRCApEAbFAjmCw40vqaC8Q72U2L3em5DRyHDjpYah5KC0ktiB4/+YCuH0WLKte6/+MYxAsMSM7cKAPMBPOVWvM+jiSRHNIvNefUogoSaAUWBoqdDp16IauKnSK//LPzxbkV1QnsD///gEgYEoHBTdsVfbHvth9B/+MYxBQSCWrcUUsYAVQHYYoJje3olvzAtsfzlMJ7GWciCRaBz0kJ+F/P3mQjplwaBkl9afOxPnzCujtozqXidP2qqMwI7YTd/+MYxAYOqT64AZE4AKQ8gSwgkOaWgwsRKgH3L7JjLEBHQN99F1HXHiRpMBoi6G4vRiDR4lNNRDv8/+NhK4qePf9d/zJ/0l/g/+MYxAYN4LrgAY9IAMBDIkNjBeKFhhnXiLiO/Z4DMvKE/2J4onp9Av2MOYQhkKAIEanZ92L//t9K7+JWIZ6libctt1AA/Zmj/+MYxAkMWJb6WcMAAzbMBCm9WZmZmZv2ZmZgEFBXBRsUFBQZ/+CwgoKCjv/IKBQUF/+goKCqTEFNRTMuMTAwqqqqqqqqqqqq/+MYxBIAAANIAAAAAKqqqqqqqqqqqqqqqqqqqqqqqqqqqqqqqqqqqqqqqqqqqqqqqqqqqqpMQU1FMy4xMDCqqqqqqqqqqqqq/+MYxE0AAANIAAAAAKqqqqqqqqqqqqqqqqqqqqqqqqqqqqqqqqqqqqqqqqqqqqqqqqqqqqpMQU1FMy4xMDCqqqqqqqqqqqqq/+MYxIgAAANIAAAAAKqqqqqqqqqqqqqqqqqqqqqqqqqqqqqqqqqqqqqqqqqqqqqqqqqqqqpMQU1FMy4xMDCqqqqqqqqqqqqq/+MYxMMAAANIAAAAAKqqqqqqqqqqqqqqqqqqqqqqqqqqqqqqqqqqqqqqqqqqqqqqqqqqqqqqqqqqqqqqqqqqqqqqqqqqqqqq/+MYxMQAAANIAAAAAKqqqqqqqqqqqqqqqqqqqqqqqqqqqqqqqqqqqqqqqqqqqqqqqqqqqqqqqqqqqqqqqqqqqqqqqqqqqqqq/+MYxMQAAANIAAAAAKqqqqqqqqqqqqqqqqqqqqqqqqqqqqqqqqqqqqqqqqqqqqqqqqqqqqqqqqqqqqqqqqqqqqqqqqqqqqqq/+MYxMQAAANIAAAAAKqqqqqqqqqqqqqqqqqqqqqqqqqqqqqqqqqqqqqqqqqqqqqqqqqqqqqqqqqqqqqqqqqqqqqqqqqqqqqq\" type=\"audio/mpeg\"/>\n",
              "                        Your browser does not support the audio element.\n",
              "                    </audio>\n",
              "                  "
            ]
          },
          "metadata": {},
          "execution_count": 88
        }
      ]
    },
    {
      "cell_type": "code",
      "source": [],
      "metadata": {
        "id": "yymj1i_-6FxJ"
      },
      "execution_count": null,
      "outputs": []
    }
  ],
  "metadata": {
    "colab": {
      "provenance": [],
      "gpuType": "T4",
      "include_colab_link": true
    },
    "kernelspec": {
      "display_name": "Python 3",
      "name": "python3"
    },
    "language_info": {
      "name": "python"
    },
    "widgets": {
      "application/vnd.jupyter.widget-state+json": {
        "8e552b36fd3b4f118e3c40903e3872d7": {
          "model_module": "@jupyter-widgets/controls",
          "model_name": "HBoxModel",
          "model_module_version": "1.5.0",
          "state": {
            "_dom_classes": [],
            "_model_module": "@jupyter-widgets/controls",
            "_model_module_version": "1.5.0",
            "_model_name": "HBoxModel",
            "_view_count": null,
            "_view_module": "@jupyter-widgets/controls",
            "_view_module_version": "1.5.0",
            "_view_name": "HBoxView",
            "box_style": "",
            "children": [
              "IPY_MODEL_1e1e55066ca042b1a6f6e6b617baaeb7",
              "IPY_MODEL_5958d67276e34063b4aff3218e1b4b8c",
              "IPY_MODEL_cc718e5591ef477bad8dbb8404da8a83"
            ],
            "layout": "IPY_MODEL_2a12d8ee19a049bba0352b316ed5b72b"
          }
        },
        "1e1e55066ca042b1a6f6e6b617baaeb7": {
          "model_module": "@jupyter-widgets/controls",
          "model_name": "HTMLModel",
          "model_module_version": "1.5.0",
          "state": {
            "_dom_classes": [],
            "_model_module": "@jupyter-widgets/controls",
            "_model_module_version": "1.5.0",
            "_model_name": "HTMLModel",
            "_view_count": null,
            "_view_module": "@jupyter-widgets/controls",
            "_view_module_version": "1.5.0",
            "_view_name": "HTMLView",
            "description": "",
            "description_tooltip": null,
            "layout": "IPY_MODEL_15c7eae723874817aa97a9baac1cc7c7",
            "placeholder": "​",
            "style": "IPY_MODEL_308b4c76d54d4f2085d431fb74205efb",
            "value": "Map:   0%"
          }
        },
        "5958d67276e34063b4aff3218e1b4b8c": {
          "model_module": "@jupyter-widgets/controls",
          "model_name": "FloatProgressModel",
          "model_module_version": "1.5.0",
          "state": {
            "_dom_classes": [],
            "_model_module": "@jupyter-widgets/controls",
            "_model_module_version": "1.5.0",
            "_model_name": "FloatProgressModel",
            "_view_count": null,
            "_view_module": "@jupyter-widgets/controls",
            "_view_module_version": "1.5.0",
            "_view_name": "ProgressView",
            "bar_style": "",
            "description": "",
            "description_tooltip": null,
            "layout": "IPY_MODEL_509d44cc00c242ceb9d0e2a3c3111fe7",
            "max": 82,
            "min": 0,
            "orientation": "horizontal",
            "style": "IPY_MODEL_aa0bd89dc04e41f2a24a94655208e2d0",
            "value": 82
          }
        },
        "cc718e5591ef477bad8dbb8404da8a83": {
          "model_module": "@jupyter-widgets/controls",
          "model_name": "HTMLModel",
          "model_module_version": "1.5.0",
          "state": {
            "_dom_classes": [],
            "_model_module": "@jupyter-widgets/controls",
            "_model_module_version": "1.5.0",
            "_model_name": "HTMLModel",
            "_view_count": null,
            "_view_module": "@jupyter-widgets/controls",
            "_view_module_version": "1.5.0",
            "_view_name": "HTMLView",
            "description": "",
            "description_tooltip": null,
            "layout": "IPY_MODEL_6e5d831aee79422aa1265c6de787295e",
            "placeholder": "​",
            "style": "IPY_MODEL_beb557d1c0ae4f8fbceb78e62b888d7e",
            "value": " 0/82 [00:00&lt;?, ? examples/s]"
          }
        },
        "2a12d8ee19a049bba0352b316ed5b72b": {
          "model_module": "@jupyter-widgets/base",
          "model_name": "LayoutModel",
          "model_module_version": "1.2.0",
          "state": {
            "_model_module": "@jupyter-widgets/base",
            "_model_module_version": "1.2.0",
            "_model_name": "LayoutModel",
            "_view_count": null,
            "_view_module": "@jupyter-widgets/base",
            "_view_module_version": "1.2.0",
            "_view_name": "LayoutView",
            "align_content": null,
            "align_items": null,
            "align_self": null,
            "border": null,
            "bottom": null,
            "display": null,
            "flex": null,
            "flex_flow": null,
            "grid_area": null,
            "grid_auto_columns": null,
            "grid_auto_flow": null,
            "grid_auto_rows": null,
            "grid_column": null,
            "grid_gap": null,
            "grid_row": null,
            "grid_template_areas": null,
            "grid_template_columns": null,
            "grid_template_rows": null,
            "height": null,
            "justify_content": null,
            "justify_items": null,
            "left": null,
            "margin": null,
            "max_height": null,
            "max_width": null,
            "min_height": null,
            "min_width": null,
            "object_fit": null,
            "object_position": null,
            "order": null,
            "overflow": null,
            "overflow_x": null,
            "overflow_y": null,
            "padding": null,
            "right": null,
            "top": null,
            "visibility": "hidden",
            "width": null
          }
        },
        "15c7eae723874817aa97a9baac1cc7c7": {
          "model_module": "@jupyter-widgets/base",
          "model_name": "LayoutModel",
          "model_module_version": "1.2.0",
          "state": {
            "_model_module": "@jupyter-widgets/base",
            "_model_module_version": "1.2.0",
            "_model_name": "LayoutModel",
            "_view_count": null,
            "_view_module": "@jupyter-widgets/base",
            "_view_module_version": "1.2.0",
            "_view_name": "LayoutView",
            "align_content": null,
            "align_items": null,
            "align_self": null,
            "border": null,
            "bottom": null,
            "display": null,
            "flex": null,
            "flex_flow": null,
            "grid_area": null,
            "grid_auto_columns": null,
            "grid_auto_flow": null,
            "grid_auto_rows": null,
            "grid_column": null,
            "grid_gap": null,
            "grid_row": null,
            "grid_template_areas": null,
            "grid_template_columns": null,
            "grid_template_rows": null,
            "height": null,
            "justify_content": null,
            "justify_items": null,
            "left": null,
            "margin": null,
            "max_height": null,
            "max_width": null,
            "min_height": null,
            "min_width": null,
            "object_fit": null,
            "object_position": null,
            "order": null,
            "overflow": null,
            "overflow_x": null,
            "overflow_y": null,
            "padding": null,
            "right": null,
            "top": null,
            "visibility": null,
            "width": null
          }
        },
        "308b4c76d54d4f2085d431fb74205efb": {
          "model_module": "@jupyter-widgets/controls",
          "model_name": "DescriptionStyleModel",
          "model_module_version": "1.5.0",
          "state": {
            "_model_module": "@jupyter-widgets/controls",
            "_model_module_version": "1.5.0",
            "_model_name": "DescriptionStyleModel",
            "_view_count": null,
            "_view_module": "@jupyter-widgets/base",
            "_view_module_version": "1.2.0",
            "_view_name": "StyleView",
            "description_width": ""
          }
        },
        "509d44cc00c242ceb9d0e2a3c3111fe7": {
          "model_module": "@jupyter-widgets/base",
          "model_name": "LayoutModel",
          "model_module_version": "1.2.0",
          "state": {
            "_model_module": "@jupyter-widgets/base",
            "_model_module_version": "1.2.0",
            "_model_name": "LayoutModel",
            "_view_count": null,
            "_view_module": "@jupyter-widgets/base",
            "_view_module_version": "1.2.0",
            "_view_name": "LayoutView",
            "align_content": null,
            "align_items": null,
            "align_self": null,
            "border": null,
            "bottom": null,
            "display": null,
            "flex": null,
            "flex_flow": null,
            "grid_area": null,
            "grid_auto_columns": null,
            "grid_auto_flow": null,
            "grid_auto_rows": null,
            "grid_column": null,
            "grid_gap": null,
            "grid_row": null,
            "grid_template_areas": null,
            "grid_template_columns": null,
            "grid_template_rows": null,
            "height": null,
            "justify_content": null,
            "justify_items": null,
            "left": null,
            "margin": null,
            "max_height": null,
            "max_width": null,
            "min_height": null,
            "min_width": null,
            "object_fit": null,
            "object_position": null,
            "order": null,
            "overflow": null,
            "overflow_x": null,
            "overflow_y": null,
            "padding": null,
            "right": null,
            "top": null,
            "visibility": null,
            "width": null
          }
        },
        "aa0bd89dc04e41f2a24a94655208e2d0": {
          "model_module": "@jupyter-widgets/controls",
          "model_name": "ProgressStyleModel",
          "model_module_version": "1.5.0",
          "state": {
            "_model_module": "@jupyter-widgets/controls",
            "_model_module_version": "1.5.0",
            "_model_name": "ProgressStyleModel",
            "_view_count": null,
            "_view_module": "@jupyter-widgets/base",
            "_view_module_version": "1.2.0",
            "_view_name": "StyleView",
            "bar_color": null,
            "description_width": ""
          }
        },
        "6e5d831aee79422aa1265c6de787295e": {
          "model_module": "@jupyter-widgets/base",
          "model_name": "LayoutModel",
          "model_module_version": "1.2.0",
          "state": {
            "_model_module": "@jupyter-widgets/base",
            "_model_module_version": "1.2.0",
            "_model_name": "LayoutModel",
            "_view_count": null,
            "_view_module": "@jupyter-widgets/base",
            "_view_module_version": "1.2.0",
            "_view_name": "LayoutView",
            "align_content": null,
            "align_items": null,
            "align_self": null,
            "border": null,
            "bottom": null,
            "display": null,
            "flex": null,
            "flex_flow": null,
            "grid_area": null,
            "grid_auto_columns": null,
            "grid_auto_flow": null,
            "grid_auto_rows": null,
            "grid_column": null,
            "grid_gap": null,
            "grid_row": null,
            "grid_template_areas": null,
            "grid_template_columns": null,
            "grid_template_rows": null,
            "height": null,
            "justify_content": null,
            "justify_items": null,
            "left": null,
            "margin": null,
            "max_height": null,
            "max_width": null,
            "min_height": null,
            "min_width": null,
            "object_fit": null,
            "object_position": null,
            "order": null,
            "overflow": null,
            "overflow_x": null,
            "overflow_y": null,
            "padding": null,
            "right": null,
            "top": null,
            "visibility": null,
            "width": null
          }
        },
        "beb557d1c0ae4f8fbceb78e62b888d7e": {
          "model_module": "@jupyter-widgets/controls",
          "model_name": "DescriptionStyleModel",
          "model_module_version": "1.5.0",
          "state": {
            "_model_module": "@jupyter-widgets/controls",
            "_model_module_version": "1.5.0",
            "_model_name": "DescriptionStyleModel",
            "_view_count": null,
            "_view_module": "@jupyter-widgets/base",
            "_view_module_version": "1.2.0",
            "_view_name": "StyleView",
            "description_width": ""
          }
        }
      }
    },
    "accelerator": "GPU"
  },
  "nbformat": 4,
  "nbformat_minor": 0
}